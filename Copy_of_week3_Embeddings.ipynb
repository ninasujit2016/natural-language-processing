{
  "nbformat": 4,
  "nbformat_minor": 0,
  "metadata": {
    "kernelspec": {
      "display_name": "Python 3",
      "language": "python",
      "name": "python3"
    },
    "language_info": {
      "codemirror_mode": {
        "name": "ipython",
        "version": 3
      },
      "file_extension": ".py",
      "mimetype": "text/x-python",
      "name": "python",
      "nbconvert_exporter": "python",
      "pygments_lexer": "ipython3",
      "version": "3.4.3"
    },
    "colab": {
      "name": "Copy of week3-Embeddings.ipynb",
      "provenance": [],
      "toc_visible": true,
      "include_colab_link": true
    },
    "widgets": {
      "application/vnd.jupyter.widget-state+json": {
        "d69a0f586ba14edf8261dccc65102b3e": {
          "model_module": "@jupyter-widgets/controls",
          "model_name": "HBoxModel",
          "state": {
            "_view_name": "HBoxView",
            "_dom_classes": [],
            "_model_name": "HBoxModel",
            "_view_module": "@jupyter-widgets/controls",
            "_model_module_version": "1.5.0",
            "_view_count": null,
            "_view_module_version": "1.5.0",
            "box_style": "",
            "layout": "IPY_MODEL_6e50fb48a74f4a4aa80877c8f69b7704",
            "_model_module": "@jupyter-widgets/controls",
            "children": [
              "IPY_MODEL_6d36c543a31749d7b79c8b608f73bd8e",
              "IPY_MODEL_ebf47333dd7549708311e7c69cc405e5"
            ]
          }
        },
        "6e50fb48a74f4a4aa80877c8f69b7704": {
          "model_module": "@jupyter-widgets/base",
          "model_name": "LayoutModel",
          "state": {
            "_view_name": "LayoutView",
            "grid_template_rows": null,
            "right": null,
            "justify_content": null,
            "_view_module": "@jupyter-widgets/base",
            "overflow": null,
            "_model_module_version": "1.2.0",
            "_view_count": null,
            "flex_flow": null,
            "width": null,
            "min_width": null,
            "border": null,
            "align_items": null,
            "bottom": null,
            "_model_module": "@jupyter-widgets/base",
            "top": null,
            "grid_column": null,
            "overflow_y": null,
            "overflow_x": null,
            "grid_auto_flow": null,
            "grid_area": null,
            "grid_template_columns": null,
            "flex": null,
            "_model_name": "LayoutModel",
            "justify_items": null,
            "grid_row": null,
            "max_height": null,
            "align_content": null,
            "visibility": null,
            "align_self": null,
            "height": null,
            "min_height": null,
            "padding": null,
            "grid_auto_rows": null,
            "grid_gap": null,
            "max_width": null,
            "order": null,
            "_view_module_version": "1.2.0",
            "grid_template_areas": null,
            "object_position": null,
            "object_fit": null,
            "grid_auto_columns": null,
            "margin": null,
            "display": null,
            "left": null
          }
        },
        "6d36c543a31749d7b79c8b608f73bd8e": {
          "model_module": "@jupyter-widgets/controls",
          "model_name": "FloatProgressModel",
          "state": {
            "_view_name": "ProgressView",
            "style": "IPY_MODEL_1806603f094f4847aac5c5f638ed6fd4",
            "_dom_classes": [],
            "description": "train.tsv: 100%",
            "_model_name": "FloatProgressModel",
            "bar_style": "success",
            "max": 119127793,
            "_view_module": "@jupyter-widgets/controls",
            "_model_module_version": "1.5.0",
            "value": 119127793,
            "_view_count": null,
            "_view_module_version": "1.5.0",
            "orientation": "horizontal",
            "min": 0,
            "description_tooltip": null,
            "_model_module": "@jupyter-widgets/controls",
            "layout": "IPY_MODEL_a1f6c0baad254698a951fb7e4b9bf4d8"
          }
        },
        "ebf47333dd7549708311e7c69cc405e5": {
          "model_module": "@jupyter-widgets/controls",
          "model_name": "HTMLModel",
          "state": {
            "_view_name": "HTMLView",
            "style": "IPY_MODEL_abb2e3ffb99d4d67bef2b9946177da72",
            "_dom_classes": [],
            "description": "",
            "_model_name": "HTMLModel",
            "placeholder": "​",
            "_view_module": "@jupyter-widgets/controls",
            "_model_module_version": "1.5.0",
            "value": " 119M/119M [09:09&lt;00:00, 217kB/s]",
            "_view_count": null,
            "_view_module_version": "1.5.0",
            "description_tooltip": null,
            "_model_module": "@jupyter-widgets/controls",
            "layout": "IPY_MODEL_4167dca13299439aa57b02edee378c1c"
          }
        },
        "1806603f094f4847aac5c5f638ed6fd4": {
          "model_module": "@jupyter-widgets/controls",
          "model_name": "ProgressStyleModel",
          "state": {
            "_view_name": "StyleView",
            "_model_name": "ProgressStyleModel",
            "description_width": "initial",
            "_view_module": "@jupyter-widgets/base",
            "_model_module_version": "1.5.0",
            "_view_count": null,
            "_view_module_version": "1.2.0",
            "bar_color": null,
            "_model_module": "@jupyter-widgets/controls"
          }
        },
        "a1f6c0baad254698a951fb7e4b9bf4d8": {
          "model_module": "@jupyter-widgets/base",
          "model_name": "LayoutModel",
          "state": {
            "_view_name": "LayoutView",
            "grid_template_rows": null,
            "right": null,
            "justify_content": null,
            "_view_module": "@jupyter-widgets/base",
            "overflow": null,
            "_model_module_version": "1.2.0",
            "_view_count": null,
            "flex_flow": null,
            "width": null,
            "min_width": null,
            "border": null,
            "align_items": null,
            "bottom": null,
            "_model_module": "@jupyter-widgets/base",
            "top": null,
            "grid_column": null,
            "overflow_y": null,
            "overflow_x": null,
            "grid_auto_flow": null,
            "grid_area": null,
            "grid_template_columns": null,
            "flex": null,
            "_model_name": "LayoutModel",
            "justify_items": null,
            "grid_row": null,
            "max_height": null,
            "align_content": null,
            "visibility": null,
            "align_self": null,
            "height": null,
            "min_height": null,
            "padding": null,
            "grid_auto_rows": null,
            "grid_gap": null,
            "max_width": null,
            "order": null,
            "_view_module_version": "1.2.0",
            "grid_template_areas": null,
            "object_position": null,
            "object_fit": null,
            "grid_auto_columns": null,
            "margin": null,
            "display": null,
            "left": null
          }
        },
        "abb2e3ffb99d4d67bef2b9946177da72": {
          "model_module": "@jupyter-widgets/controls",
          "model_name": "DescriptionStyleModel",
          "state": {
            "_view_name": "StyleView",
            "_model_name": "DescriptionStyleModel",
            "description_width": "",
            "_view_module": "@jupyter-widgets/base",
            "_model_module_version": "1.5.0",
            "_view_count": null,
            "_view_module_version": "1.2.0",
            "_model_module": "@jupyter-widgets/controls"
          }
        },
        "4167dca13299439aa57b02edee378c1c": {
          "model_module": "@jupyter-widgets/base",
          "model_name": "LayoutModel",
          "state": {
            "_view_name": "LayoutView",
            "grid_template_rows": null,
            "right": null,
            "justify_content": null,
            "_view_module": "@jupyter-widgets/base",
            "overflow": null,
            "_model_module_version": "1.2.0",
            "_view_count": null,
            "flex_flow": null,
            "width": null,
            "min_width": null,
            "border": null,
            "align_items": null,
            "bottom": null,
            "_model_module": "@jupyter-widgets/base",
            "top": null,
            "grid_column": null,
            "overflow_y": null,
            "overflow_x": null,
            "grid_auto_flow": null,
            "grid_area": null,
            "grid_template_columns": null,
            "flex": null,
            "_model_name": "LayoutModel",
            "justify_items": null,
            "grid_row": null,
            "max_height": null,
            "align_content": null,
            "visibility": null,
            "align_self": null,
            "height": null,
            "min_height": null,
            "padding": null,
            "grid_auto_rows": null,
            "grid_gap": null,
            "max_width": null,
            "order": null,
            "_view_module_version": "1.2.0",
            "grid_template_areas": null,
            "object_position": null,
            "object_fit": null,
            "grid_auto_columns": null,
            "margin": null,
            "display": null,
            "left": null
          }
        },
        "53b4fe10ef4f4b91997642dd1c717d7c": {
          "model_module": "@jupyter-widgets/controls",
          "model_name": "HBoxModel",
          "state": {
            "_view_name": "HBoxView",
            "_dom_classes": [],
            "_model_name": "HBoxModel",
            "_view_module": "@jupyter-widgets/controls",
            "_model_module_version": "1.5.0",
            "_view_count": null,
            "_view_module_version": "1.5.0",
            "box_style": "",
            "layout": "IPY_MODEL_09ad09cbe3f94e87b168d02a923625c5",
            "_model_module": "@jupyter-widgets/controls",
            "children": [
              "IPY_MODEL_6940c1fd993a47989438d39f8f4a7b98",
              "IPY_MODEL_7a46accab59448a38a661fe48a119cc9"
            ]
          }
        },
        "09ad09cbe3f94e87b168d02a923625c5": {
          "model_module": "@jupyter-widgets/base",
          "model_name": "LayoutModel",
          "state": {
            "_view_name": "LayoutView",
            "grid_template_rows": null,
            "right": null,
            "justify_content": null,
            "_view_module": "@jupyter-widgets/base",
            "overflow": null,
            "_model_module_version": "1.2.0",
            "_view_count": null,
            "flex_flow": null,
            "width": null,
            "min_width": null,
            "border": null,
            "align_items": null,
            "bottom": null,
            "_model_module": "@jupyter-widgets/base",
            "top": null,
            "grid_column": null,
            "overflow_y": null,
            "overflow_x": null,
            "grid_auto_flow": null,
            "grid_area": null,
            "grid_template_columns": null,
            "flex": null,
            "_model_name": "LayoutModel",
            "justify_items": null,
            "grid_row": null,
            "max_height": null,
            "align_content": null,
            "visibility": null,
            "align_self": null,
            "height": null,
            "min_height": null,
            "padding": null,
            "grid_auto_rows": null,
            "grid_gap": null,
            "max_width": null,
            "order": null,
            "_view_module_version": "1.2.0",
            "grid_template_areas": null,
            "object_position": null,
            "object_fit": null,
            "grid_auto_columns": null,
            "margin": null,
            "display": null,
            "left": null
          }
        },
        "6940c1fd993a47989438d39f8f4a7b98": {
          "model_module": "@jupyter-widgets/controls",
          "model_name": "FloatProgressModel",
          "state": {
            "_view_name": "ProgressView",
            "style": "IPY_MODEL_a503172853914077957d58180a982d50",
            "_dom_classes": [],
            "description": "validation.tsv: 100%",
            "_model_name": "FloatProgressModel",
            "bar_style": "success",
            "max": 535543630,
            "_view_module": "@jupyter-widgets/controls",
            "_model_module_version": "1.5.0",
            "value": 535543630,
            "_view_count": null,
            "_view_module_version": "1.5.0",
            "orientation": "horizontal",
            "min": 0,
            "description_tooltip": null,
            "_model_module": "@jupyter-widgets/controls",
            "layout": "IPY_MODEL_d121e1a8737d478ab56bd240d95be95f"
          }
        },
        "7a46accab59448a38a661fe48a119cc9": {
          "model_module": "@jupyter-widgets/controls",
          "model_name": "HTMLModel",
          "state": {
            "_view_name": "HTMLView",
            "style": "IPY_MODEL_eb1ab20d3a0a4aad85226ee9b647deb3",
            "_dom_classes": [],
            "description": "",
            "_model_name": "HTMLModel",
            "placeholder": "​",
            "_view_module": "@jupyter-widgets/controls",
            "_model_module_version": "1.5.0",
            "value": " 536M/536M [00:34&lt;00:00, 15.7MB/s]",
            "_view_count": null,
            "_view_module_version": "1.5.0",
            "description_tooltip": null,
            "_model_module": "@jupyter-widgets/controls",
            "layout": "IPY_MODEL_a417c0a3168049d692ab8fab069e1c74"
          }
        },
        "a503172853914077957d58180a982d50": {
          "model_module": "@jupyter-widgets/controls",
          "model_name": "ProgressStyleModel",
          "state": {
            "_view_name": "StyleView",
            "_model_name": "ProgressStyleModel",
            "description_width": "initial",
            "_view_module": "@jupyter-widgets/base",
            "_model_module_version": "1.5.0",
            "_view_count": null,
            "_view_module_version": "1.2.0",
            "bar_color": null,
            "_model_module": "@jupyter-widgets/controls"
          }
        },
        "d121e1a8737d478ab56bd240d95be95f": {
          "model_module": "@jupyter-widgets/base",
          "model_name": "LayoutModel",
          "state": {
            "_view_name": "LayoutView",
            "grid_template_rows": null,
            "right": null,
            "justify_content": null,
            "_view_module": "@jupyter-widgets/base",
            "overflow": null,
            "_model_module_version": "1.2.0",
            "_view_count": null,
            "flex_flow": null,
            "width": null,
            "min_width": null,
            "border": null,
            "align_items": null,
            "bottom": null,
            "_model_module": "@jupyter-widgets/base",
            "top": null,
            "grid_column": null,
            "overflow_y": null,
            "overflow_x": null,
            "grid_auto_flow": null,
            "grid_area": null,
            "grid_template_columns": null,
            "flex": null,
            "_model_name": "LayoutModel",
            "justify_items": null,
            "grid_row": null,
            "max_height": null,
            "align_content": null,
            "visibility": null,
            "align_self": null,
            "height": null,
            "min_height": null,
            "padding": null,
            "grid_auto_rows": null,
            "grid_gap": null,
            "max_width": null,
            "order": null,
            "_view_module_version": "1.2.0",
            "grid_template_areas": null,
            "object_position": null,
            "object_fit": null,
            "grid_auto_columns": null,
            "margin": null,
            "display": null,
            "left": null
          }
        },
        "eb1ab20d3a0a4aad85226ee9b647deb3": {
          "model_module": "@jupyter-widgets/controls",
          "model_name": "DescriptionStyleModel",
          "state": {
            "_view_name": "StyleView",
            "_model_name": "DescriptionStyleModel",
            "description_width": "",
            "_view_module": "@jupyter-widgets/base",
            "_model_module_version": "1.5.0",
            "_view_count": null,
            "_view_module_version": "1.2.0",
            "_model_module": "@jupyter-widgets/controls"
          }
        },
        "a417c0a3168049d692ab8fab069e1c74": {
          "model_module": "@jupyter-widgets/base",
          "model_name": "LayoutModel",
          "state": {
            "_view_name": "LayoutView",
            "grid_template_rows": null,
            "right": null,
            "justify_content": null,
            "_view_module": "@jupyter-widgets/base",
            "overflow": null,
            "_model_module_version": "1.2.0",
            "_view_count": null,
            "flex_flow": null,
            "width": null,
            "min_width": null,
            "border": null,
            "align_items": null,
            "bottom": null,
            "_model_module": "@jupyter-widgets/base",
            "top": null,
            "grid_column": null,
            "overflow_y": null,
            "overflow_x": null,
            "grid_auto_flow": null,
            "grid_area": null,
            "grid_template_columns": null,
            "flex": null,
            "_model_name": "LayoutModel",
            "justify_items": null,
            "grid_row": null,
            "max_height": null,
            "align_content": null,
            "visibility": null,
            "align_self": null,
            "height": null,
            "min_height": null,
            "padding": null,
            "grid_auto_rows": null,
            "grid_gap": null,
            "max_width": null,
            "order": null,
            "_view_module_version": "1.2.0",
            "grid_template_areas": null,
            "object_position": null,
            "object_fit": null,
            "grid_auto_columns": null,
            "margin": null,
            "display": null,
            "left": null
          }
        },
        "48c0d3e7f7a447039f10896b8ff40f6d": {
          "model_module": "@jupyter-widgets/controls",
          "model_name": "HBoxModel",
          "state": {
            "_view_name": "HBoxView",
            "_dom_classes": [],
            "_model_name": "HBoxModel",
            "_view_module": "@jupyter-widgets/controls",
            "_model_module_version": "1.5.0",
            "_view_count": null,
            "_view_module_version": "1.5.0",
            "box_style": "",
            "layout": "IPY_MODEL_f543fdab05fb43ff882212e6d3b0f0a2",
            "_model_module": "@jupyter-widgets/controls",
            "children": [
              "IPY_MODEL_d1fc28e5865046438bbcbdc51cbc463d",
              "IPY_MODEL_30e77dd8efc34f128ae8995bdd927ef6"
            ]
          }
        },
        "f543fdab05fb43ff882212e6d3b0f0a2": {
          "model_module": "@jupyter-widgets/base",
          "model_name": "LayoutModel",
          "state": {
            "_view_name": "LayoutView",
            "grid_template_rows": null,
            "right": null,
            "justify_content": null,
            "_view_module": "@jupyter-widgets/base",
            "overflow": null,
            "_model_module_version": "1.2.0",
            "_view_count": null,
            "flex_flow": null,
            "width": null,
            "min_width": null,
            "border": null,
            "align_items": null,
            "bottom": null,
            "_model_module": "@jupyter-widgets/base",
            "top": null,
            "grid_column": null,
            "overflow_y": null,
            "overflow_x": null,
            "grid_auto_flow": null,
            "grid_area": null,
            "grid_template_columns": null,
            "flex": null,
            "_model_name": "LayoutModel",
            "justify_items": null,
            "grid_row": null,
            "max_height": null,
            "align_content": null,
            "visibility": null,
            "align_self": null,
            "height": null,
            "min_height": null,
            "padding": null,
            "grid_auto_rows": null,
            "grid_gap": null,
            "max_width": null,
            "order": null,
            "_view_module_version": "1.2.0",
            "grid_template_areas": null,
            "object_position": null,
            "object_fit": null,
            "grid_auto_columns": null,
            "margin": null,
            "display": null,
            "left": null
          }
        },
        "d1fc28e5865046438bbcbdc51cbc463d": {
          "model_module": "@jupyter-widgets/controls",
          "model_name": "FloatProgressModel",
          "state": {
            "_view_name": "ProgressView",
            "style": "IPY_MODEL_78f1f49da13141068c8733044f31273e",
            "_dom_classes": [],
            "description": "test.tsv: 100%",
            "_model_name": "FloatProgressModel",
            "bar_style": "success",
            "max": 46408910,
            "_view_module": "@jupyter-widgets/controls",
            "_model_module_version": "1.5.0",
            "value": 46408910,
            "_view_count": null,
            "_view_module_version": "1.5.0",
            "orientation": "horizontal",
            "min": 0,
            "description_tooltip": null,
            "_model_module": "@jupyter-widgets/controls",
            "layout": "IPY_MODEL_62db30b525e74e5fb95a47e5a47c3565"
          }
        },
        "30e77dd8efc34f128ae8995bdd927ef6": {
          "model_module": "@jupyter-widgets/controls",
          "model_name": "HTMLModel",
          "state": {
            "_view_name": "HTMLView",
            "style": "IPY_MODEL_0905ec9c0d684ef1afe6f420ba450310",
            "_dom_classes": [],
            "description": "",
            "_model_name": "HTMLModel",
            "placeholder": "​",
            "_view_module": "@jupyter-widgets/controls",
            "_model_module_version": "1.5.0",
            "value": " 46.4M/46.4M [08:25&lt;00:00, 91.8kB/s]",
            "_view_count": null,
            "_view_module_version": "1.5.0",
            "description_tooltip": null,
            "_model_module": "@jupyter-widgets/controls",
            "layout": "IPY_MODEL_0241c1be724e4badb382386a2bd3ca23"
          }
        },
        "78f1f49da13141068c8733044f31273e": {
          "model_module": "@jupyter-widgets/controls",
          "model_name": "ProgressStyleModel",
          "state": {
            "_view_name": "StyleView",
            "_model_name": "ProgressStyleModel",
            "description_width": "initial",
            "_view_module": "@jupyter-widgets/base",
            "_model_module_version": "1.5.0",
            "_view_count": null,
            "_view_module_version": "1.2.0",
            "bar_color": null,
            "_model_module": "@jupyter-widgets/controls"
          }
        },
        "62db30b525e74e5fb95a47e5a47c3565": {
          "model_module": "@jupyter-widgets/base",
          "model_name": "LayoutModel",
          "state": {
            "_view_name": "LayoutView",
            "grid_template_rows": null,
            "right": null,
            "justify_content": null,
            "_view_module": "@jupyter-widgets/base",
            "overflow": null,
            "_model_module_version": "1.2.0",
            "_view_count": null,
            "flex_flow": null,
            "width": null,
            "min_width": null,
            "border": null,
            "align_items": null,
            "bottom": null,
            "_model_module": "@jupyter-widgets/base",
            "top": null,
            "grid_column": null,
            "overflow_y": null,
            "overflow_x": null,
            "grid_auto_flow": null,
            "grid_area": null,
            "grid_template_columns": null,
            "flex": null,
            "_model_name": "LayoutModel",
            "justify_items": null,
            "grid_row": null,
            "max_height": null,
            "align_content": null,
            "visibility": null,
            "align_self": null,
            "height": null,
            "min_height": null,
            "padding": null,
            "grid_auto_rows": null,
            "grid_gap": null,
            "max_width": null,
            "order": null,
            "_view_module_version": "1.2.0",
            "grid_template_areas": null,
            "object_position": null,
            "object_fit": null,
            "grid_auto_columns": null,
            "margin": null,
            "display": null,
            "left": null
          }
        },
        "0905ec9c0d684ef1afe6f420ba450310": {
          "model_module": "@jupyter-widgets/controls",
          "model_name": "DescriptionStyleModel",
          "state": {
            "_view_name": "StyleView",
            "_model_name": "DescriptionStyleModel",
            "description_width": "",
            "_view_module": "@jupyter-widgets/base",
            "_model_module_version": "1.5.0",
            "_view_count": null,
            "_view_module_version": "1.2.0",
            "_model_module": "@jupyter-widgets/controls"
          }
        },
        "0241c1be724e4badb382386a2bd3ca23": {
          "model_module": "@jupyter-widgets/base",
          "model_name": "LayoutModel",
          "state": {
            "_view_name": "LayoutView",
            "grid_template_rows": null,
            "right": null,
            "justify_content": null,
            "_view_module": "@jupyter-widgets/base",
            "overflow": null,
            "_model_module_version": "1.2.0",
            "_view_count": null,
            "flex_flow": null,
            "width": null,
            "min_width": null,
            "border": null,
            "align_items": null,
            "bottom": null,
            "_model_module": "@jupyter-widgets/base",
            "top": null,
            "grid_column": null,
            "overflow_y": null,
            "overflow_x": null,
            "grid_auto_flow": null,
            "grid_area": null,
            "grid_template_columns": null,
            "flex": null,
            "_model_name": "LayoutModel",
            "justify_items": null,
            "grid_row": null,
            "max_height": null,
            "align_content": null,
            "visibility": null,
            "align_self": null,
            "height": null,
            "min_height": null,
            "padding": null,
            "grid_auto_rows": null,
            "grid_gap": null,
            "max_width": null,
            "order": null,
            "_view_module_version": "1.2.0",
            "grid_template_areas": null,
            "object_position": null,
            "object_fit": null,
            "grid_auto_columns": null,
            "margin": null,
            "display": null,
            "left": null
          }
        },
        "96f81e7fb94b4b92b3a286912d17dccb": {
          "model_module": "@jupyter-widgets/controls",
          "model_name": "HBoxModel",
          "state": {
            "_view_name": "HBoxView",
            "_dom_classes": [],
            "_model_name": "HBoxModel",
            "_view_module": "@jupyter-widgets/controls",
            "_model_module_version": "1.5.0",
            "_view_count": null,
            "_view_module_version": "1.5.0",
            "box_style": "",
            "layout": "IPY_MODEL_cb26627aaa33450b897c1fe9d3bfbe4f",
            "_model_module": "@jupyter-widgets/controls",
            "children": [
              "IPY_MODEL_c806b9829b6040e788a34fec64355bde",
              "IPY_MODEL_b056dd9768494f96b89fd7048df13480"
            ]
          }
        },
        "cb26627aaa33450b897c1fe9d3bfbe4f": {
          "model_module": "@jupyter-widgets/base",
          "model_name": "LayoutModel",
          "state": {
            "_view_name": "LayoutView",
            "grid_template_rows": null,
            "right": null,
            "justify_content": null,
            "_view_module": "@jupyter-widgets/base",
            "overflow": null,
            "_model_module_version": "1.2.0",
            "_view_count": null,
            "flex_flow": null,
            "width": null,
            "min_width": null,
            "border": null,
            "align_items": null,
            "bottom": null,
            "_model_module": "@jupyter-widgets/base",
            "top": null,
            "grid_column": null,
            "overflow_y": null,
            "overflow_x": null,
            "grid_auto_flow": null,
            "grid_area": null,
            "grid_template_columns": null,
            "flex": null,
            "_model_name": "LayoutModel",
            "justify_items": null,
            "grid_row": null,
            "max_height": null,
            "align_content": null,
            "visibility": null,
            "align_self": null,
            "height": null,
            "min_height": null,
            "padding": null,
            "grid_auto_rows": null,
            "grid_gap": null,
            "max_width": null,
            "order": null,
            "_view_module_version": "1.2.0",
            "grid_template_areas": null,
            "object_position": null,
            "object_fit": null,
            "grid_auto_columns": null,
            "margin": null,
            "display": null,
            "left": null
          }
        },
        "c806b9829b6040e788a34fec64355bde": {
          "model_module": "@jupyter-widgets/controls",
          "model_name": "FloatProgressModel",
          "state": {
            "_view_name": "ProgressView",
            "style": "IPY_MODEL_2e52c85f028845df8012851d0699e11b",
            "_dom_classes": [],
            "description": "test_embeddings.tsv: 100%",
            "_model_name": "FloatProgressModel",
            "bar_style": "success",
            "max": 5333,
            "_view_module": "@jupyter-widgets/controls",
            "_model_module_version": "1.5.0",
            "value": 5333,
            "_view_count": null,
            "_view_module_version": "1.5.0",
            "orientation": "horizontal",
            "min": 0,
            "description_tooltip": null,
            "_model_module": "@jupyter-widgets/controls",
            "layout": "IPY_MODEL_dc8f061bac414caa82153c3fc3948701"
          }
        },
        "b056dd9768494f96b89fd7048df13480": {
          "model_module": "@jupyter-widgets/controls",
          "model_name": "HTMLModel",
          "state": {
            "_view_name": "HTMLView",
            "style": "IPY_MODEL_5f6228c239e646b8a7b06720bcfc23bc",
            "_dom_classes": [],
            "description": "",
            "_model_name": "HTMLModel",
            "placeholder": "​",
            "_view_module": "@jupyter-widgets/controls",
            "_model_module_version": "1.5.0",
            "value": " 5.33k/5.33k [08:20&lt;00:00, 10.7B/s]",
            "_view_count": null,
            "_view_module_version": "1.5.0",
            "description_tooltip": null,
            "_model_module": "@jupyter-widgets/controls",
            "layout": "IPY_MODEL_8c3445579021490784b49e0a020d7f52"
          }
        },
        "2e52c85f028845df8012851d0699e11b": {
          "model_module": "@jupyter-widgets/controls",
          "model_name": "ProgressStyleModel",
          "state": {
            "_view_name": "StyleView",
            "_model_name": "ProgressStyleModel",
            "description_width": "initial",
            "_view_module": "@jupyter-widgets/base",
            "_model_module_version": "1.5.0",
            "_view_count": null,
            "_view_module_version": "1.2.0",
            "bar_color": null,
            "_model_module": "@jupyter-widgets/controls"
          }
        },
        "dc8f061bac414caa82153c3fc3948701": {
          "model_module": "@jupyter-widgets/base",
          "model_name": "LayoutModel",
          "state": {
            "_view_name": "LayoutView",
            "grid_template_rows": null,
            "right": null,
            "justify_content": null,
            "_view_module": "@jupyter-widgets/base",
            "overflow": null,
            "_model_module_version": "1.2.0",
            "_view_count": null,
            "flex_flow": null,
            "width": null,
            "min_width": null,
            "border": null,
            "align_items": null,
            "bottom": null,
            "_model_module": "@jupyter-widgets/base",
            "top": null,
            "grid_column": null,
            "overflow_y": null,
            "overflow_x": null,
            "grid_auto_flow": null,
            "grid_area": null,
            "grid_template_columns": null,
            "flex": null,
            "_model_name": "LayoutModel",
            "justify_items": null,
            "grid_row": null,
            "max_height": null,
            "align_content": null,
            "visibility": null,
            "align_self": null,
            "height": null,
            "min_height": null,
            "padding": null,
            "grid_auto_rows": null,
            "grid_gap": null,
            "max_width": null,
            "order": null,
            "_view_module_version": "1.2.0",
            "grid_template_areas": null,
            "object_position": null,
            "object_fit": null,
            "grid_auto_columns": null,
            "margin": null,
            "display": null,
            "left": null
          }
        },
        "5f6228c239e646b8a7b06720bcfc23bc": {
          "model_module": "@jupyter-widgets/controls",
          "model_name": "DescriptionStyleModel",
          "state": {
            "_view_name": "StyleView",
            "_model_name": "DescriptionStyleModel",
            "description_width": "",
            "_view_module": "@jupyter-widgets/base",
            "_model_module_version": "1.5.0",
            "_view_count": null,
            "_view_module_version": "1.2.0",
            "_model_module": "@jupyter-widgets/controls"
          }
        },
        "8c3445579021490784b49e0a020d7f52": {
          "model_module": "@jupyter-widgets/base",
          "model_name": "LayoutModel",
          "state": {
            "_view_name": "LayoutView",
            "grid_template_rows": null,
            "right": null,
            "justify_content": null,
            "_view_module": "@jupyter-widgets/base",
            "overflow": null,
            "_model_module_version": "1.2.0",
            "_view_count": null,
            "flex_flow": null,
            "width": null,
            "min_width": null,
            "border": null,
            "align_items": null,
            "bottom": null,
            "_model_module": "@jupyter-widgets/base",
            "top": null,
            "grid_column": null,
            "overflow_y": null,
            "overflow_x": null,
            "grid_auto_flow": null,
            "grid_area": null,
            "grid_template_columns": null,
            "flex": null,
            "_model_name": "LayoutModel",
            "justify_items": null,
            "grid_row": null,
            "max_height": null,
            "align_content": null,
            "visibility": null,
            "align_self": null,
            "height": null,
            "min_height": null,
            "padding": null,
            "grid_auto_rows": null,
            "grid_gap": null,
            "max_width": null,
            "order": null,
            "_view_module_version": "1.2.0",
            "grid_template_areas": null,
            "object_position": null,
            "object_fit": null,
            "grid_auto_columns": null,
            "margin": null,
            "display": null,
            "left": null
          }
        },
        "a523d0dfd7fd4c7badea42fe269d5d0c": {
          "model_module": "@jupyter-widgets/controls",
          "model_name": "HBoxModel",
          "state": {
            "_view_name": "HBoxView",
            "_dom_classes": [],
            "_model_name": "HBoxModel",
            "_view_module": "@jupyter-widgets/controls",
            "_model_module_version": "1.5.0",
            "_view_count": null,
            "_view_module_version": "1.5.0",
            "box_style": "",
            "layout": "IPY_MODEL_f493a2ef8ad947dcb64fca4baea76e1a",
            "_model_module": "@jupyter-widgets/controls",
            "children": [
              "IPY_MODEL_88e6576a0b864ede94b39a4662ce34ca",
              "IPY_MODEL_176efabc550a43b3ba67687c612d2551"
            ]
          }
        },
        "f493a2ef8ad947dcb64fca4baea76e1a": {
          "model_module": "@jupyter-widgets/base",
          "model_name": "LayoutModel",
          "state": {
            "_view_name": "LayoutView",
            "grid_template_rows": null,
            "right": null,
            "justify_content": null,
            "_view_module": "@jupyter-widgets/base",
            "overflow": null,
            "_model_module_version": "1.2.0",
            "_view_count": null,
            "flex_flow": null,
            "width": null,
            "min_width": null,
            "border": null,
            "align_items": null,
            "bottom": null,
            "_model_module": "@jupyter-widgets/base",
            "top": null,
            "grid_column": null,
            "overflow_y": null,
            "overflow_x": null,
            "grid_auto_flow": null,
            "grid_area": null,
            "grid_template_columns": null,
            "flex": null,
            "_model_name": "LayoutModel",
            "justify_items": null,
            "grid_row": null,
            "max_height": null,
            "align_content": null,
            "visibility": null,
            "align_self": null,
            "height": null,
            "min_height": null,
            "padding": null,
            "grid_auto_rows": null,
            "grid_gap": null,
            "max_width": null,
            "order": null,
            "_view_module_version": "1.2.0",
            "grid_template_areas": null,
            "object_position": null,
            "object_fit": null,
            "grid_auto_columns": null,
            "margin": null,
            "display": null,
            "left": null
          }
        },
        "88e6576a0b864ede94b39a4662ce34ca": {
          "model_module": "@jupyter-widgets/controls",
          "model_name": "FloatProgressModel",
          "state": {
            "_view_name": "ProgressView",
            "style": "IPY_MODEL_4fe4a554aaf34d7ea5223d441b9e72de",
            "_dom_classes": [],
            "description": "GoogleNews-vectors-negative300.bin.gz: 100%",
            "_model_name": "FloatProgressModel",
            "bar_style": "success",
            "max": 1647046227,
            "_view_module": "@jupyter-widgets/controls",
            "_model_module_version": "1.5.0",
            "value": 1647046227,
            "_view_count": null,
            "_view_module_version": "1.5.0",
            "orientation": "horizontal",
            "min": 0,
            "description_tooltip": null,
            "_model_module": "@jupyter-widgets/controls",
            "layout": "IPY_MODEL_f5a8b75a45bf4c06a2d4a130e6c8f75f"
          }
        },
        "176efabc550a43b3ba67687c612d2551": {
          "model_module": "@jupyter-widgets/controls",
          "model_name": "HTMLModel",
          "state": {
            "_view_name": "HTMLView",
            "style": "IPY_MODEL_2bdff240fd59400d9784da66d0243973",
            "_dom_classes": [],
            "description": "",
            "_model_name": "HTMLModel",
            "placeholder": "​",
            "_view_module": "@jupyter-widgets/controls",
            "_model_module_version": "1.5.0",
            "value": " 1.65G/1.65G [08:19&lt;00:00, 3.30MB/s]",
            "_view_count": null,
            "_view_module_version": "1.5.0",
            "description_tooltip": null,
            "_model_module": "@jupyter-widgets/controls",
            "layout": "IPY_MODEL_770798de2c5a41089066f659794c97d3"
          }
        },
        "4fe4a554aaf34d7ea5223d441b9e72de": {
          "model_module": "@jupyter-widgets/controls",
          "model_name": "ProgressStyleModel",
          "state": {
            "_view_name": "StyleView",
            "_model_name": "ProgressStyleModel",
            "description_width": "initial",
            "_view_module": "@jupyter-widgets/base",
            "_model_module_version": "1.5.0",
            "_view_count": null,
            "_view_module_version": "1.2.0",
            "bar_color": null,
            "_model_module": "@jupyter-widgets/controls"
          }
        },
        "f5a8b75a45bf4c06a2d4a130e6c8f75f": {
          "model_module": "@jupyter-widgets/base",
          "model_name": "LayoutModel",
          "state": {
            "_view_name": "LayoutView",
            "grid_template_rows": null,
            "right": null,
            "justify_content": null,
            "_view_module": "@jupyter-widgets/base",
            "overflow": null,
            "_model_module_version": "1.2.0",
            "_view_count": null,
            "flex_flow": null,
            "width": null,
            "min_width": null,
            "border": null,
            "align_items": null,
            "bottom": null,
            "_model_module": "@jupyter-widgets/base",
            "top": null,
            "grid_column": null,
            "overflow_y": null,
            "overflow_x": null,
            "grid_auto_flow": null,
            "grid_area": null,
            "grid_template_columns": null,
            "flex": null,
            "_model_name": "LayoutModel",
            "justify_items": null,
            "grid_row": null,
            "max_height": null,
            "align_content": null,
            "visibility": null,
            "align_self": null,
            "height": null,
            "min_height": null,
            "padding": null,
            "grid_auto_rows": null,
            "grid_gap": null,
            "max_width": null,
            "order": null,
            "_view_module_version": "1.2.0",
            "grid_template_areas": null,
            "object_position": null,
            "object_fit": null,
            "grid_auto_columns": null,
            "margin": null,
            "display": null,
            "left": null
          }
        },
        "2bdff240fd59400d9784da66d0243973": {
          "model_module": "@jupyter-widgets/controls",
          "model_name": "DescriptionStyleModel",
          "state": {
            "_view_name": "StyleView",
            "_model_name": "DescriptionStyleModel",
            "description_width": "",
            "_view_module": "@jupyter-widgets/base",
            "_model_module_version": "1.5.0",
            "_view_count": null,
            "_view_module_version": "1.2.0",
            "_model_module": "@jupyter-widgets/controls"
          }
        },
        "770798de2c5a41089066f659794c97d3": {
          "model_module": "@jupyter-widgets/base",
          "model_name": "LayoutModel",
          "state": {
            "_view_name": "LayoutView",
            "grid_template_rows": null,
            "right": null,
            "justify_content": null,
            "_view_module": "@jupyter-widgets/base",
            "overflow": null,
            "_model_module_version": "1.2.0",
            "_view_count": null,
            "flex_flow": null,
            "width": null,
            "min_width": null,
            "border": null,
            "align_items": null,
            "bottom": null,
            "_model_module": "@jupyter-widgets/base",
            "top": null,
            "grid_column": null,
            "overflow_y": null,
            "overflow_x": null,
            "grid_auto_flow": null,
            "grid_area": null,
            "grid_template_columns": null,
            "flex": null,
            "_model_name": "LayoutModel",
            "justify_items": null,
            "grid_row": null,
            "max_height": null,
            "align_content": null,
            "visibility": null,
            "align_self": null,
            "height": null,
            "min_height": null,
            "padding": null,
            "grid_auto_rows": null,
            "grid_gap": null,
            "max_width": null,
            "order": null,
            "_view_module_version": "1.2.0",
            "grid_template_areas": null,
            "object_position": null,
            "object_fit": null,
            "grid_auto_columns": null,
            "margin": null,
            "display": null,
            "left": null
          }
        }
      }
    }
  },
  "cells": [
    {
      "cell_type": "markdown",
      "metadata": {
        "id": "view-in-github",
        "colab_type": "text"
      },
      "source": [
        "<a href=\"https://colab.research.google.com/github/ninasujit2016/natural-language-processing/blob/master/Copy_of_week3_Embeddings.ipynb\" target=\"_parent\"><img src=\"https://colab.research.google.com/assets/colab-badge.svg\" alt=\"Open In Colab\"/></a>"
      ]
    },
    {
      "cell_type": "markdown",
      "metadata": {
        "id": "YqVww2q7jSSZ",
        "colab_type": "text"
      },
      "source": [
        "# Find duplicate questions on StackOverflow by their embeddings\n",
        "\n",
        "In this assignment you will learn how to calculate a similarity for pieces of text. Using this approach you will know how to find duplicate questions from [StackOverflow](https://stackoverflow.com)."
      ]
    },
    {
      "cell_type": "markdown",
      "metadata": {
        "id": "vlhohg5gjSSa",
        "colab_type": "text"
      },
      "source": [
        "### Libraries\n",
        "\n",
        "In this task you will you will need the following libraries:\n",
        "- [StarSpace](https://github.com/facebookresearch/StarSpace) — a general-purpose model for efficient learning of entity embeddings from Facebook\n",
        "- [Gensim](https://radimrehurek.com/gensim/) — a tool for solving various NLP-related tasks (topic modeling, text representation, ...)\n",
        "- [Numpy](http://www.numpy.org) — a package for scientific computing.\n",
        "- [scikit-learn](http://scikit-learn.org/stable/index.html) — a tool for data mining and data analysis.\n",
        "- [Nltk](http://www.nltk.org) — a platform to work with human language data."
      ]
    },
    {
      "cell_type": "markdown",
      "metadata": {
        "id": "ceTGZuuRjSSb",
        "colab_type": "text"
      },
      "source": [
        "### Data\n",
        "\n",
        "The following cell will download all data required for this assignment into the folder `week3/data`."
      ]
    },
    {
      "cell_type": "code",
      "metadata": {
        "id": "lwLSzSINKXVg",
        "colab_type": "code",
        "outputId": "731f2e2e-6971-45f2-cfe4-f7c2da381056",
        "colab": {
          "base_uri": "https://localhost:8080/",
          "height": 466,
          "referenced_widgets": [
            "d69a0f586ba14edf8261dccc65102b3e",
            "6e50fb48a74f4a4aa80877c8f69b7704",
            "6d36c543a31749d7b79c8b608f73bd8e",
            "ebf47333dd7549708311e7c69cc405e5",
            "1806603f094f4847aac5c5f638ed6fd4",
            "a1f6c0baad254698a951fb7e4b9bf4d8",
            "abb2e3ffb99d4d67bef2b9946177da72",
            "4167dca13299439aa57b02edee378c1c",
            "53b4fe10ef4f4b91997642dd1c717d7c",
            "09ad09cbe3f94e87b168d02a923625c5",
            "6940c1fd993a47989438d39f8f4a7b98",
            "7a46accab59448a38a661fe48a119cc9",
            "a503172853914077957d58180a982d50",
            "d121e1a8737d478ab56bd240d95be95f",
            "eb1ab20d3a0a4aad85226ee9b647deb3",
            "a417c0a3168049d692ab8fab069e1c74",
            "48c0d3e7f7a447039f10896b8ff40f6d",
            "f543fdab05fb43ff882212e6d3b0f0a2",
            "d1fc28e5865046438bbcbdc51cbc463d",
            "30e77dd8efc34f128ae8995bdd927ef6",
            "78f1f49da13141068c8733044f31273e",
            "62db30b525e74e5fb95a47e5a47c3565",
            "0905ec9c0d684ef1afe6f420ba450310",
            "0241c1be724e4badb382386a2bd3ca23",
            "96f81e7fb94b4b92b3a286912d17dccb",
            "cb26627aaa33450b897c1fe9d3bfbe4f",
            "c806b9829b6040e788a34fec64355bde",
            "b056dd9768494f96b89fd7048df13480",
            "2e52c85f028845df8012851d0699e11b",
            "dc8f061bac414caa82153c3fc3948701",
            "5f6228c239e646b8a7b06720bcfc23bc",
            "8c3445579021490784b49e0a020d7f52",
            "a523d0dfd7fd4c7badea42fe269d5d0c",
            "f493a2ef8ad947dcb64fca4baea76e1a",
            "88e6576a0b864ede94b39a4662ce34ca",
            "176efabc550a43b3ba67687c612d2551",
            "4fe4a554aaf34d7ea5223d441b9e72de",
            "f5a8b75a45bf4c06a2d4a130e6c8f75f",
            "2bdff240fd59400d9784da66d0243973",
            "770798de2c5a41089066f659794c97d3"
          ]
        }
      },
      "source": [
        "! wget https://raw.githubusercontent.com/hse-aml/natural-language-processing/master/setup_google_colab.py -O setup_google_colab.py\n",
        "import setup_google_colab\n",
        "setup_google_colab.setup_week3()\n",
        "\n",
        "import sys\n",
        "sys.path.append(\"..\")\n",
        "\n",
        "from common.download_utils import download_week3_resources\n",
        "download_week3_resources()"
      ],
      "execution_count": 0,
      "outputs": [
        {
          "output_type": "stream",
          "text": [
            "--2020-04-06 06:32:13--  https://raw.githubusercontent.com/hse-aml/natural-language-processing/master/setup_google_colab.py\n",
            "Resolving raw.githubusercontent.com (raw.githubusercontent.com)... 151.101.0.133, 151.101.64.133, 151.101.128.133, ...\n",
            "Connecting to raw.githubusercontent.com (raw.githubusercontent.com)|151.101.0.133|:443... connected.\n",
            "HTTP request sent, awaiting response... 200 OK\n",
            "Length: 1991 (1.9K) [text/plain]\n",
            "Saving to: ‘setup_google_colab.py’\n",
            "\n",
            "\rsetup_google_colab.   0%[                    ]       0  --.-KB/s               \rsetup_google_colab. 100%[===================>]   1.94K  --.-KB/s    in 0s      \n",
            "\n",
            "2020-04-06 06:32:14 (30.4 MB/s) - ‘setup_google_colab.py’ saved [1991/1991]\n",
            "\n"
          ],
          "name": "stdout"
        },
        {
          "output_type": "display_data",
          "data": {
            "application/vnd.jupyter.widget-view+json": {
              "model_id": "d69a0f586ba14edf8261dccc65102b3e",
              "version_minor": 0,
              "version_major": 2
            },
            "text/plain": [
              "HBox(children=(FloatProgress(value=0.0, max=119127793.0), HTML(value='')))"
            ]
          },
          "metadata": {
            "tags": []
          }
        },
        {
          "output_type": "stream",
          "text": [
            "\n"
          ],
          "name": "stdout"
        },
        {
          "output_type": "display_data",
          "data": {
            "application/vnd.jupyter.widget-view+json": {
              "model_id": "53b4fe10ef4f4b91997642dd1c717d7c",
              "version_minor": 0,
              "version_major": 2
            },
            "text/plain": [
              "HBox(children=(FloatProgress(value=0.0, max=535543630.0), HTML(value='')))"
            ]
          },
          "metadata": {
            "tags": []
          }
        },
        {
          "output_type": "stream",
          "text": [
            "\n"
          ],
          "name": "stdout"
        },
        {
          "output_type": "display_data",
          "data": {
            "application/vnd.jupyter.widget-view+json": {
              "model_id": "48c0d3e7f7a447039f10896b8ff40f6d",
              "version_minor": 0,
              "version_major": 2
            },
            "text/plain": [
              "HBox(children=(FloatProgress(value=0.0, max=46408910.0), HTML(value='')))"
            ]
          },
          "metadata": {
            "tags": []
          }
        },
        {
          "output_type": "stream",
          "text": [
            "\n"
          ],
          "name": "stdout"
        },
        {
          "output_type": "display_data",
          "data": {
            "application/vnd.jupyter.widget-view+json": {
              "model_id": "96f81e7fb94b4b92b3a286912d17dccb",
              "version_minor": 0,
              "version_major": 2
            },
            "text/plain": [
              "HBox(children=(FloatProgress(value=0.0, max=5333.0), HTML(value='')))"
            ]
          },
          "metadata": {
            "tags": []
          }
        },
        {
          "output_type": "stream",
          "text": [
            "\n",
            "Downloading GoogleNews-vectors-negative300.bin.gz (1.5G) for you, it will take a while...\n"
          ],
          "name": "stdout"
        },
        {
          "output_type": "display_data",
          "data": {
            "application/vnd.jupyter.widget-view+json": {
              "model_id": "a523d0dfd7fd4c7badea42fe269d5d0c",
              "version_minor": 0,
              "version_major": 2
            },
            "text/plain": [
              "HBox(children=(FloatProgress(value=0.0, max=1647046227.0), HTML(value='')))"
            ]
          },
          "metadata": {
            "tags": []
          }
        },
        {
          "output_type": "stream",
          "text": [
            "\n"
          ],
          "name": "stdout"
        }
      ]
    },
    {
      "cell_type": "markdown",
      "metadata": {
        "id": "Gw2kswv8jSSg",
        "colab_type": "text"
      },
      "source": [
        "### Grading\n",
        "We will create a grader instace below and use it to collect your answers. Note that these outputs will be stored locally inside grader and will be uploaded to platform only after running submiting function in the last part of this assignment. If you want to make partial submission, you can run that cell any time you want."
      ]
    },
    {
      "cell_type": "code",
      "metadata": {
        "id": "lUre-gVcjSSh",
        "colab_type": "code",
        "colab": {}
      },
      "source": [
        "from grader import Grader"
      ],
      "execution_count": 0,
      "outputs": []
    },
    {
      "cell_type": "code",
      "metadata": {
        "id": "BMmwA06ZjSSk",
        "colab_type": "code",
        "colab": {}
      },
      "source": [
        "grader = Grader()"
      ],
      "execution_count": 0,
      "outputs": []
    },
    {
      "cell_type": "markdown",
      "metadata": {
        "id": "hLzXoX2DjSSn",
        "colab_type": "text"
      },
      "source": [
        "## Word embedding\n",
        "\n",
        "To solve the problem, you will use two different models of embeddings:\n",
        "\n",
        " - [Pre-trained word vectors](https://code.google.com/archive/p/word2vec/) from Google which were trained on a part of Google News dataset (about 100 billion words). The model contains 300-dimensional vectors for 3 million words and phrases. `GoogleNews-vectors-negative300.bin.gz` will be downloaded in `download_week3_resources()`.\n",
        " - Representations using StarSpace on StackOverflow data sample. You will need to train them from scratch."
      ]
    },
    {
      "cell_type": "markdown",
      "metadata": {
        "id": "D5LhC-BNjSSo",
        "colab_type": "text"
      },
      "source": [
        "It's always easier to start with pre-trained embeddings. Unpack the pre-trained Goggle's vectors and upload them using the function [KeyedVectors.load_word2vec_format](https://radimrehurek.com/gensim/models/keyedvectors.html) from gensim library with the parameter *binary=True*. If the size of the embeddings is larger than the avaliable memory, you could load only a part of the embeddings by defining the parameter *limit* (recommended: 500000)."
      ]
    },
    {
      "cell_type": "code",
      "metadata": {
        "id": "oTp3M7XxjSSo",
        "colab_type": "code",
        "outputId": "46328295-8d8b-46ea-e8e9-88d2cf24acf0",
        "colab": {
          "base_uri": "https://localhost:8080/",
          "height": 649
        }
      },
      "source": [
        "#!pip install google-compute-engine\n",
        "#!pip install gensim==3.1.0\n",
        "#after pip install upgrade, restart the runtime\n",
        "!pip install --upgrade gensim"
      ],
      "execution_count": 0,
      "outputs": [
        {
          "output_type": "stream",
          "text": [
            "Collecting gensim\n",
            "\u001b[?25l  Downloading https://files.pythonhosted.org/packages/d1/dd/112bd4258cee11e0baaaba064060eb156475a42362e59e3ff28e7ca2d29d/gensim-3.8.1-cp36-cp36m-manylinux1_x86_64.whl (24.2MB)\n",
            "\u001b[K     |████████████████████████████████| 24.2MB 187kB/s \n",
            "\u001b[?25hRequirement already satisfied, skipping upgrade: scipy>=0.18.1 in /usr/local/lib/python3.6/dist-packages (from gensim) (1.4.1)\n",
            "Requirement already satisfied, skipping upgrade: numpy>=1.11.3 in /usr/local/lib/python3.6/dist-packages (from gensim) (1.18.2)\n",
            "Requirement already satisfied, skipping upgrade: six>=1.5.0 in /usr/local/lib/python3.6/dist-packages (from gensim) (1.14.0)\n",
            "Requirement already satisfied, skipping upgrade: smart-open>=1.8.1 in /usr/local/lib/python3.6/dist-packages (from gensim) (1.10.0)\n",
            "Requirement already satisfied, skipping upgrade: requests in /usr/local/lib/python3.6/dist-packages (from smart-open>=1.8.1->gensim) (2.23.0)\n",
            "Requirement already satisfied, skipping upgrade: google-cloud-storage in /usr/local/lib/python3.6/dist-packages (from smart-open>=1.8.1->gensim) (1.27.0)\n",
            "Requirement already satisfied, skipping upgrade: boto3 in /usr/local/lib/python3.6/dist-packages (from smart-open>=1.8.1->gensim) (1.12.36)\n",
            "Requirement already satisfied, skipping upgrade: urllib3!=1.25.0,!=1.25.1,<1.26,>=1.21.1 in /usr/local/lib/python3.6/dist-packages (from requests->smart-open>=1.8.1->gensim) (1.25.8)\n",
            "Requirement already satisfied, skipping upgrade: certifi>=2017.4.17 in /usr/local/lib/python3.6/dist-packages (from requests->smart-open>=1.8.1->gensim) (2020.4.5.1)\n",
            "Requirement already satisfied, skipping upgrade: chardet<4,>=3.0.2 in /usr/local/lib/python3.6/dist-packages (from requests->smart-open>=1.8.1->gensim) (3.0.4)\n",
            "Requirement already satisfied, skipping upgrade: idna<3,>=2.5 in /usr/local/lib/python3.6/dist-packages (from requests->smart-open>=1.8.1->gensim) (2.9)\n",
            "Requirement already satisfied, skipping upgrade: google-cloud-core<2.0dev,>=1.2.0 in /usr/local/lib/python3.6/dist-packages (from google-cloud-storage->smart-open>=1.8.1->gensim) (1.3.0)\n",
            "Requirement already satisfied, skipping upgrade: google-auth<2.0dev,>=1.11.0 in /usr/local/lib/python3.6/dist-packages (from google-cloud-storage->smart-open>=1.8.1->gensim) (1.13.1)\n",
            "Requirement already satisfied, skipping upgrade: google-resumable-media<0.6dev,>=0.5.0 in /usr/local/lib/python3.6/dist-packages (from google-cloud-storage->smart-open>=1.8.1->gensim) (0.5.0)\n",
            "Requirement already satisfied, skipping upgrade: s3transfer<0.4.0,>=0.3.0 in /usr/local/lib/python3.6/dist-packages (from boto3->smart-open>=1.8.1->gensim) (0.3.3)\n",
            "Requirement already satisfied, skipping upgrade: botocore<1.16.0,>=1.15.36 in /usr/local/lib/python3.6/dist-packages (from boto3->smart-open>=1.8.1->gensim) (1.15.36)\n",
            "Requirement already satisfied, skipping upgrade: jmespath<1.0.0,>=0.7.1 in /usr/local/lib/python3.6/dist-packages (from boto3->smart-open>=1.8.1->gensim) (0.9.5)\n",
            "Requirement already satisfied, skipping upgrade: google-api-core<2.0.0dev,>=1.16.0 in /usr/local/lib/python3.6/dist-packages (from google-cloud-core<2.0dev,>=1.2.0->google-cloud-storage->smart-open>=1.8.1->gensim) (1.16.0)\n",
            "Requirement already satisfied, skipping upgrade: rsa<4.1,>=3.1.4 in /usr/local/lib/python3.6/dist-packages (from google-auth<2.0dev,>=1.11.0->google-cloud-storage->smart-open>=1.8.1->gensim) (4.0)\n",
            "Requirement already satisfied, skipping upgrade: cachetools<5.0,>=2.0.0 in /usr/local/lib/python3.6/dist-packages (from google-auth<2.0dev,>=1.11.0->google-cloud-storage->smart-open>=1.8.1->gensim) (4.0.0)\n",
            "Requirement already satisfied, skipping upgrade: setuptools>=40.3.0 in /usr/local/lib/python3.6/dist-packages (from google-auth<2.0dev,>=1.11.0->google-cloud-storage->smart-open>=1.8.1->gensim) (46.1.3)\n",
            "Requirement already satisfied, skipping upgrade: pyasn1-modules>=0.2.1 in /usr/local/lib/python3.6/dist-packages (from google-auth<2.0dev,>=1.11.0->google-cloud-storage->smart-open>=1.8.1->gensim) (0.2.8)\n",
            "Requirement already satisfied, skipping upgrade: docutils<0.16,>=0.10 in /usr/local/lib/python3.6/dist-packages (from botocore<1.16.0,>=1.15.36->boto3->smart-open>=1.8.1->gensim) (0.15.2)\n",
            "Requirement already satisfied, skipping upgrade: python-dateutil<3.0.0,>=2.1 in /usr/local/lib/python3.6/dist-packages (from botocore<1.16.0,>=1.15.36->boto3->smart-open>=1.8.1->gensim) (2.6.1)\n",
            "Requirement already satisfied, skipping upgrade: googleapis-common-protos<2.0dev,>=1.6.0 in /usr/local/lib/python3.6/dist-packages (from google-api-core<2.0.0dev,>=1.16.0->google-cloud-core<2.0dev,>=1.2.0->google-cloud-storage->smart-open>=1.8.1->gensim) (1.51.0)\n",
            "Requirement already satisfied, skipping upgrade: protobuf>=3.4.0 in /usr/local/lib/python3.6/dist-packages (from google-api-core<2.0.0dev,>=1.16.0->google-cloud-core<2.0dev,>=1.2.0->google-cloud-storage->smart-open>=1.8.1->gensim) (3.11.3)\n",
            "Requirement already satisfied, skipping upgrade: pytz in /usr/local/lib/python3.6/dist-packages (from google-api-core<2.0.0dev,>=1.16.0->google-cloud-core<2.0dev,>=1.2.0->google-cloud-storage->smart-open>=1.8.1->gensim) (2019.3)\n",
            "Requirement already satisfied, skipping upgrade: pyasn1>=0.1.3 in /usr/local/lib/python3.6/dist-packages (from rsa<4.1,>=3.1.4->google-auth<2.0dev,>=1.11.0->google-cloud-storage->smart-open>=1.8.1->gensim) (0.4.8)\n",
            "Installing collected packages: gensim\n",
            "  Found existing installation: gensim 3.8.0\n",
            "    Uninstalling gensim-3.8.0:\n",
            "      Successfully uninstalled gensim-3.8.0\n",
            "Successfully installed gensim-3.8.1\n"
          ],
          "name": "stdout"
        }
      ]
    },
    {
      "cell_type": "code",
      "metadata": {
        "id": "BU4nwKPs1kSz",
        "colab_type": "code",
        "colab": {}
      },
      "source": [
        "import gensim"
      ],
      "execution_count": 0,
      "outputs": []
    },
    {
      "cell_type": "code",
      "metadata": {
        "id": "vqizisyGjSSr",
        "colab_type": "code",
        "colab": {}
      },
      "source": [
        "wv_embeddings = gensim.models.KeyedVectors.load_word2vec_format('./GoogleNews-vectors-negative300.bin.gz', binary=True)  ######### YOUR CODE HERE #############"
      ],
      "execution_count": 0,
      "outputs": []
    },
    {
      "cell_type": "code",
      "metadata": {
        "id": "d6Dql_W3JnYs",
        "colab_type": "code",
        "outputId": "03b030c2-ca00-46fa-c829-fe0c2173bf10",
        "colab": {
          "base_uri": "https://localhost:8080/",
          "height": 34
        }
      },
      "source": [
        "'word' in wv_embeddings\n",
        "wv_embeddings['word'].shape\n",
        "#sum([wv_embeddings['word'],wv_embeddings['word']])/2==wv_embeddings['word']"
      ],
      "execution_count": 0,
      "outputs": [
        {
          "output_type": "execute_result",
          "data": {
            "text/plain": [
              "(300,)"
            ]
          },
          "metadata": {
            "tags": []
          },
          "execution_count": 5
        }
      ]
    },
    {
      "cell_type": "markdown",
      "metadata": {
        "id": "aIFcbZ-ejSSu",
        "colab_type": "text"
      },
      "source": [
        "### How to work with Google's word2vec embeddings?\n",
        "\n",
        "Once you have loaded the representations, make sure you can access them. First, you can check if the loaded embeddings contain a word:\n",
        "    \n",
        "    'word' in wv_embeddings\n",
        "    \n",
        "Second, to get the corresponding embedding you can use the square brackets:\n",
        "\n",
        "    wv_embeddings['word']\n",
        " \n",
        "### Checking that the embeddings are correct \n",
        " \n",
        "To prevent any errors during the first stage, we can check that the loaded embeddings are correct. You can call the function *check_embeddings*, implemented below, which runs 3 tests:\n",
        "1. Find the most similar word for provided \"positive\" and \"negative\" words.\n",
        "2. Find which word from the given list doesn’t go with the others.\n",
        "3. Find the most similar word for the provided one.\n",
        "\n",
        "In the right case the function will return the string *These embeddings look good*. Othervise, you need to validate the previous steps."
      ]
    },
    {
      "cell_type": "code",
      "metadata": {
        "id": "R2Pzcm6ejSSv",
        "colab_type": "code",
        "colab": {}
      },
      "source": [
        "def check_embeddings(embeddings):\n",
        "    error_text = \"Something wrong with your embeddings ('%s test isn't correct).\"\n",
        "    most_similar = embeddings.most_similar(positive=['woman', 'king'], negative=['man'])\n",
        "    if len(most_similar) < 1 or most_similar[0][0] != 'queen':\n",
        "        return error_text % \"Most similar\"\n",
        "\n",
        "    doesnt_match = embeddings.doesnt_match(['breakfast', 'cereal', 'dinner', 'lunch'])\n",
        "    if doesnt_match != 'cereal':\n",
        "        return error_text % \"Doesn't match\"\n",
        "    \n",
        "    most_similar_to_given = embeddings.most_similar_to_given('music', ['water', 'sound', 'backpack', 'mouse'])\n",
        "    if most_similar_to_given != 'sound':\n",
        "        return error_text % \"Most similar to given\"\n",
        "    \n",
        "    return \"These embeddings look good.\""
      ],
      "execution_count": 0,
      "outputs": []
    },
    {
      "cell_type": "code",
      "metadata": {
        "id": "_S1eZVSNjSSz",
        "colab_type": "code",
        "outputId": "80c35b7d-5133-44dd-f7ce-7bb3f1539b76",
        "colab": {
          "base_uri": "https://localhost:8080/",
          "height": 88
        }
      },
      "source": [
        "print(check_embeddings(wv_embeddings))"
      ],
      "execution_count": 0,
      "outputs": [
        {
          "output_type": "stream",
          "text": [
            "These embeddings look good.\n"
          ],
          "name": "stdout"
        },
        {
          "output_type": "stream",
          "text": [
            "/usr/local/lib/python3.6/dist-packages/gensim/models/keyedvectors.py:877: FutureWarning: arrays to stack must be passed as a \"sequence\" type such as list or tuple. Support for non-sequence iterables such as generators is deprecated as of NumPy 1.16 and will raise an error in the future.\n",
            "  vectors = vstack(self.word_vec(word, use_norm=True) for word in used_words).astype(REAL)\n"
          ],
          "name": "stderr"
        }
      ]
    },
    {
      "cell_type": "markdown",
      "metadata": {
        "id": "6CThuvfbjSS1",
        "colab_type": "text"
      },
      "source": [
        "## From word to text embeddings\n",
        "\n",
        "**Task 1 (Question2Vec).** Usually, we have word-based embeddings, but for the task we need to create a representation for the whole question. It could be done in different ways. In our case we will use a **mean** of all word vectors in the question. Now you need to implement the function *question_to_vec*, which calculates the question representation described above. This function should work with the input text as is without any preprocessing.\n",
        "\n",
        "Note that there could be words without the corresponding embeddings. In this case, you can just skip these words and don't take them into account during calculating the result. If the question doesn't contain any known word with embedding, the function should return a zero vector."
      ]
    },
    {
      "cell_type": "code",
      "metadata": {
        "id": "KnHBOpa6jSS2",
        "colab_type": "code",
        "colab": {}
      },
      "source": [
        "import numpy as np"
      ],
      "execution_count": 0,
      "outputs": []
    },
    {
      "cell_type": "code",
      "metadata": {
        "id": "frL3GCJEjSS4",
        "colab_type": "code",
        "colab": {}
      },
      "source": [
        "def question_to_vec(question, embeddings, dim=300):\n",
        "    \"\"\"\n",
        "        question: a string\n",
        "        embeddings: dict where the key is a word and a value is its' embedding\n",
        "        dim: size of the representation\n",
        "\n",
        "        result: vector representation for the question\n",
        "    \"\"\"\n",
        "    ######################################\n",
        "    ######### YOUR CODE HERE #############\n",
        "    ######################################\n",
        "    question_list=question.strip().split()\n",
        "    if question=='' or all(word not in embeddings for word in question_list) :\n",
        "      return np.zeros(dim)\n",
        "    else:\n",
        "        #newlist=[word if word in embeddings for word in question_list]\n",
        "        embs=[embeddings[word] for word in question_list if word in embeddings]\n",
        "        return sum(embs)/len(embs)\n"
      ],
      "execution_count": 0,
      "outputs": []
    },
    {
      "cell_type": "code",
      "metadata": {
        "id": "zhMTJOXfc4B-",
        "colab_type": "code",
        "outputId": "cedecae6-803d-45a4-c195-594f508cffb6",
        "colab": {
          "base_uri": "https://localhost:8080/",
          "height": 595
        }
      },
      "source": [
        "question_to_vec('thereisnosuchword', wv_embeddings,300).any()==np.zeros(300)"
      ],
      "execution_count": 0,
      "outputs": [
        {
          "output_type": "execute_result",
          "data": {
            "text/plain": [
              "array([ True,  True,  True,  True,  True,  True,  True,  True,  True,\n",
              "        True,  True,  True,  True,  True,  True,  True,  True,  True,\n",
              "        True,  True,  True,  True,  True,  True,  True,  True,  True,\n",
              "        True,  True,  True,  True,  True,  True,  True,  True,  True,\n",
              "        True,  True,  True,  True,  True,  True,  True,  True,  True,\n",
              "        True,  True,  True,  True,  True,  True,  True,  True,  True,\n",
              "        True,  True,  True,  True,  True,  True,  True,  True,  True,\n",
              "        True,  True,  True,  True,  True,  True,  True,  True,  True,\n",
              "        True,  True,  True,  True,  True,  True,  True,  True,  True,\n",
              "        True,  True,  True,  True,  True,  True,  True,  True,  True,\n",
              "        True,  True,  True,  True,  True,  True,  True,  True,  True,\n",
              "        True,  True,  True,  True,  True,  True,  True,  True,  True,\n",
              "        True,  True,  True,  True,  True,  True,  True,  True,  True,\n",
              "        True,  True,  True,  True,  True,  True,  True,  True,  True,\n",
              "        True,  True,  True,  True,  True,  True,  True,  True,  True,\n",
              "        True,  True,  True,  True,  True,  True,  True,  True,  True,\n",
              "        True,  True,  True,  True,  True,  True,  True,  True,  True,\n",
              "        True,  True,  True,  True,  True,  True,  True,  True,  True,\n",
              "        True,  True,  True,  True,  True,  True,  True,  True,  True,\n",
              "        True,  True,  True,  True,  True,  True,  True,  True,  True,\n",
              "        True,  True,  True,  True,  True,  True,  True,  True,  True,\n",
              "        True,  True,  True,  True,  True,  True,  True,  True,  True,\n",
              "        True,  True,  True,  True,  True,  True,  True,  True,  True,\n",
              "        True,  True,  True,  True,  True,  True,  True,  True,  True,\n",
              "        True,  True,  True,  True,  True,  True,  True,  True,  True,\n",
              "        True,  True,  True,  True,  True,  True,  True,  True,  True,\n",
              "        True,  True,  True,  True,  True,  True,  True,  True,  True,\n",
              "        True,  True,  True,  True,  True,  True,  True,  True,  True,\n",
              "        True,  True,  True,  True,  True,  True,  True,  True,  True,\n",
              "        True,  True,  True,  True,  True,  True,  True,  True,  True,\n",
              "        True,  True,  True,  True,  True,  True,  True,  True,  True,\n",
              "        True,  True,  True,  True,  True,  True,  True,  True,  True,\n",
              "        True,  True,  True,  True,  True,  True,  True,  True,  True,\n",
              "        True,  True,  True])"
            ]
          },
          "metadata": {
            "tags": []
          },
          "execution_count": 197
        }
      ]
    },
    {
      "cell_type": "markdown",
      "metadata": {
        "id": "y1wVrC2OjSS7",
        "colab_type": "text"
      },
      "source": [
        "To check the basic correctness of your implementation, run the function *question_to_vec_tests*."
      ]
    },
    {
      "cell_type": "code",
      "metadata": {
        "id": "xrGJL40njSS8",
        "colab_type": "code",
        "colab": {}
      },
      "source": [
        "def question_to_vec_tests():\n",
        "    if (np.zeros(300) != question_to_vec('', wv_embeddings)).any():\n",
        "        return \"You need to return zero vector for empty question.\"\n",
        "    if (np.zeros(300) != question_to_vec('thereisnosuchword', wv_embeddings)).any():\n",
        "        return \"You need to return zero vector for the question, which consists only unknown words.\"\n",
        "    if (wv_embeddings['word'] != question_to_vec('word', wv_embeddings)).any():\n",
        "        return \"You need to check the corectness of your function.\"\n",
        "    if ((wv_embeddings['I'] + wv_embeddings['am']) / 2 != question_to_vec('I am', wv_embeddings)).any():\n",
        "        return \"Your function should calculate a mean of word vectors.\"\n",
        "    if (wv_embeddings['word'] != question_to_vec('thereisnosuchword word', wv_embeddings)).any():\n",
        "        return \"You should not consider words which embeddings are unknown.\"\n",
        "    return \"Basic tests are passed.\""
      ],
      "execution_count": 0,
      "outputs": []
    },
    {
      "cell_type": "code",
      "metadata": {
        "id": "bS0G-_BgjSS_",
        "colab_type": "code",
        "outputId": "c433b204-dc1c-4fc6-b5a0-0a0d70620e99",
        "colab": {
          "base_uri": "https://localhost:8080/",
          "height": 34
        }
      },
      "source": [
        "print(question_to_vec_tests())"
      ],
      "execution_count": 0,
      "outputs": [
        {
          "output_type": "stream",
          "text": [
            "Basic tests are passed.\n"
          ],
          "name": "stdout"
        }
      ]
    },
    {
      "cell_type": "markdown",
      "metadata": {
        "id": "qVc6ewXijSTB",
        "colab_type": "text"
      },
      "source": [
        "You can submit embeddings for the questions from the file *test_embeddings.tsv* to earn the points. In this task you don't need to transform the text of a question somehow."
      ]
    },
    {
      "cell_type": "code",
      "metadata": {
        "id": "-dbh6gk9jSTC",
        "colab_type": "code",
        "outputId": "4ba9f6e5-e73c-4cdd-f0dd-e39073e46921",
        "colab": {
          "base_uri": "https://localhost:8080/",
          "height": 51
        }
      },
      "source": [
        "import nltk\n",
        "nltk.download('stopwords')\n",
        "from util import array_to_string"
      ],
      "execution_count": 0,
      "outputs": [
        {
          "output_type": "stream",
          "text": [
            "[nltk_data] Downloading package stopwords to /root/nltk_data...\n",
            "[nltk_data]   Unzipping corpora/stopwords.zip.\n"
          ],
          "name": "stderr"
        }
      ]
    },
    {
      "cell_type": "code",
      "metadata": {
        "id": "1aXsrMqwjSTF",
        "colab_type": "code",
        "outputId": "d2e454d0-6a7f-4d10-b4ef-8001221a6820",
        "colab": {
          "base_uri": "https://localhost:8080/",
          "height": 119
        }
      },
      "source": [
        "question2vec_result = []\n",
        "for question in open('data/test_embeddings.tsv'):\n",
        "    question = question.strip()\n",
        "    answer = question_to_vec(question, wv_embeddings)\n",
        "    question2vec_result = np.append(question2vec_result, answer)\n",
        "\n",
        "grader.submit_tag('Question2Vec', array_to_string(question2vec_result))"
      ],
      "execution_count": 0,
      "outputs": [
        {
          "output_type": "stream",
          "text": [
            "Current answer for task Question2Vec is: 0.01929389126598835\n",
            "-0.02872721292078495\n",
            "0.0460561104118824\n",
            "0.0852593332529068\n",
            "0.0243055559694767\n",
            "-0...\n"
          ],
          "name": "stdout"
        }
      ]
    },
    {
      "cell_type": "markdown",
      "metadata": {
        "id": "kYz5cl0DjSTH",
        "colab_type": "text"
      },
      "source": [
        "Now we have a method to create a representation of any sentence and we are ready for the first evaluation. So, let's check how well our solution (Google's vectors + *question_to_vec*) will work.\n",
        "\n",
        "## Evaluation of text similarity\n",
        "\n",
        "We can imagine that if we use good embeddings, the cosine similarity between the duplicate sentences should be less than for the random ones. Overall, for each pair of duplicate sentences we can generate *R* random negative examples and find out the position of the correct duplicate.  \n",
        "\n",
        "For example, we have the question *\"Exceptions What really happens\"* and we are sure that another question *\"How does the catch keyword determine the type of exception that was thrown\"* is a duplicate. But our model doesn't know it and tries to find out the best option also among questions like *\"How Can I Make These Links Rotate in PHP\"*, *\"NSLog array description not memory address\"* and *\"PECL_HTTP not recognised php ubuntu\"*. The goal of the model is to rank all these 4 questions (1 *positive* and *R* = 3 *negative*) in the way that the correct one is in the first place.\n",
        "\n",
        "However, it is unnatural to count on that the best candidate will be always in the first place. So let us consider the place of the best candidate in the sorted list of candidates and formulate a metric based on it. We can fix some *K* — a reasonalble number of top-ranked elements and *N* — a number of queries (size of the sample).\n",
        "\n",
        "### Hits@K\n",
        "\n",
        "The first simple metric will be a number of correct hits for some *K*:\n",
        "$$ \\text{Hits@K} = \\frac{1}{N}\\sum_{i=1}^N \\, [dup_i \\in topK(q_i)]$$\n",
        "\n",
        "where $q_i$ is the i-th query, $dup_i$ is its duplicate, $topK(q_i)$ is the top K elements of the ranked sentences provided by our model and the operation $[dup_i \\in topK(q_i)]$ equals 1 if the condition is true and 0 otherwise (more details about this operation could be found [here](https://en.wikipedia.org/wiki/Iverson_bracket)).\n",
        "\n",
        "\n",
        "### DCG@K\n",
        "The second one is a simplified [DCG metric](https://en.wikipedia.org/wiki/Discounted_cumulative_gain):\n",
        "\n",
        "$$ \\text{DCG@K} = \\frac{1}{N} \\sum_{i=1}^N\\frac{1}{\\log_2(1+rank_{dup_i})}\\cdot[rank_{dup_i} \\le K] $$\n",
        "\n",
        "where $rank_{dup_i}$ is a position of the duplicate in the sorted list of the nearest sentences for the query $q_i$. According to this metric, the model gets a higher reward for a higher position of the correct answer. If the answer does not appear in topK at all, the reward is zero. "
      ]
    },
    {
      "cell_type": "markdown",
      "metadata": {
        "id": "XmkIkFMTjSTH",
        "colab_type": "text"
      },
      "source": [
        "### Evaluation examples\n",
        "\n",
        "Let's calculate the described metrics for the toy example introduced above. In this case $N$ = 1 and the correct candidate for $q_1$ is *\"How does the catch keyword determine the type of exception that was thrown\"*. Consider the following ranking of the candidates:\n",
        "1. *\"How Can I Make These Links Rotate in PHP\"*\n",
        "2. *\"How does the catch keyword determine the type of exception that was thrown\"*\n",
        "3. *\"NSLog array description not memory address\"*\n",
        "4. *\"PECL_HTTP not recognised php ubuntu\"*\n",
        "\n",
        "Using the ranking above, calculate *Hits@K* metric for *K = 1, 2, 4*: \n",
        " \n",
        "- [K = 1] $\\text{Hits@1} = \\frac{1}{1}\\sum_{i=1}^1 \\, [dup_i \\in top1(q_i)] = [dup_1 \\in top1(q_1)] = 0$ because the correct answer doesn't appear in the *top1* list.\n",
        "- [K = 2] $\\text{Hits@2} = \\frac{1}{1}\\sum_{i=1}^1 \\, [dup_i \\in top2(q_i)] = [dup_1 \\in top2(q_1)] = 1$ because $rank_{dup_1} = 2$.\n",
        "- [K = 4] $\\text{Hits@4} = \\frac{1}{1}\\sum_{i=1}^1 \\, [dup_i \\in top4(q_i)] = [dup_1 \\in top4(q_1)] = 1$\n",
        "\n",
        "Using the ranking above, calculate *DCG@K* metric for *K = 1, 2, 4*:\n",
        "\n",
        "- [K = 1] $\\text{DCG@1} = \\frac{1}{1} \\sum_{i=1}^1\\frac{1}{\\log_2(1+rank_{dup_i})}\\cdot[rank_{dup_i} \\le 1] = \\frac{1}{\\log_2(1+rank_{dup_i})}\\cdot[rank_{dup_i} \\le 1] = 0$ because the correct answer doesn't appear in the top1 list.\n",
        "- [K = 2] $\\text{DCG@2} = \\frac{1}{1} \\sum_{i=1}^1\\frac{1}{\\log_2(1+rank_{dup_i})}\\cdot[rank_{dup_i} \\le 2] = \\frac{1}{\\log_2{3}}$, because $rank_{dup_1} = 2$.\n",
        "- [K = 4] $\\text{DCG@4} = \\frac{1}{1} \\sum_{i=1}^1\\frac{1}{\\log_2(1+rank_{dup_i})}\\cdot[rank_{dup_i} \\le 4] = \\frac{1}{\\log_2{3}}$.\n"
      ]
    },
    {
      "cell_type": "markdown",
      "metadata": {
        "id": "9ip-Of9GjSTI",
        "colab_type": "text"
      },
      "source": [
        "**Tasks 2 and 3 (HitsCount and DCGScore).** Implement the functions *hits_count* and *dcg_score* as described above. Each function has two arguments: *dup_ranks* and *k*. *dup_ranks* is a list which contains *values of ranks* of duplicates. For example, *dup_ranks* is *[2]* for the example provided above."
      ]
    },
    {
      "cell_type": "code",
      "metadata": {
        "id": "Sg4Go7mpjSTI",
        "colab_type": "code",
        "colab": {}
      },
      "source": [
        "def hits_count(dup_ranks, k):\n",
        "    \"\"\"\n",
        "        dup_ranks: list of duplicates' ranks; one rank per question; \n",
        "                   length is a number of questions which we are looking for duplicates; \n",
        "                   rank is a number from 1 to len(candidates of the question); \n",
        "                   e.g. [2, 3] means that the first duplicate has the rank 2, the second one — 3.\n",
        "        k: number of top-ranked elements (k in Hits@k metric)\n",
        "\n",
        "        result: return Hits@k value for current ranking\n",
        "    \"\"\"\n",
        "    ######################################\n",
        "    ######### YOUR CODE HERE #############\n",
        "    ######################################\n",
        "    N=len(dup_ranks)  # number of queries\n",
        "    res=[]\n",
        "    for dup in dup_ranks:\n",
        "        if dup > k:\n",
        "            res.append(0)\n",
        "        if dup<=k:\n",
        "            res.append(1)   \n",
        "    return sum(res)/N"
      ],
      "execution_count": 0,
      "outputs": []
    },
    {
      "cell_type": "markdown",
      "metadata": {
        "id": "IkMcIEJ_jSTL",
        "colab_type": "text"
      },
      "source": [
        "Test your code on the tiny examples:"
      ]
    },
    {
      "cell_type": "code",
      "metadata": {
        "id": "rrOkAe9CjSTL",
        "colab_type": "code",
        "colab": {}
      },
      "source": [
        "def test_hits():\n",
        "    # *Evaluation example*\n",
        "    # answers — dup_i\n",
        "    answers = [\"How does the catch keyword determine the type of exception that was thrown\"]\n",
        "    \n",
        "    # candidates_ranking — the ranked sentences provided by our model\n",
        "    candidates_ranking = [[\"How Can I Make These Links Rotate in PHP\", \n",
        "                           \"How does the catch keyword determine the type of exception that was thrown\",\n",
        "                           \"NSLog array description not memory address\",\n",
        "                           \"PECL_HTTP not recognised php ubuntu\"]]\n",
        "    # dup_ranks — position of the dup_i in the list of ranks +1\n",
        "    dup_ranks = [candidates_ranking[i].index(answers[i]) + 1 for i in range(len(answers))]\n",
        "\n",
        "    # correct_answers — the expected values of the result for each k from 1 to 4\n",
        "    correct_answers = [0, 1, 1, 1]\n",
        "    for k, correct in enumerate(correct_answers, 1):\n",
        "        if not np.isclose(hits_count(dup_ranks, k), correct):\n",
        "            return \"Check the function.\"\n",
        "    \n",
        "    # Other tests\n",
        "    answers = [\"How does the catch keyword determine the type of exception that was thrown\", \n",
        "               \"Convert Google results object (pure js) to Python object\"]\n",
        "    \n",
        "    # The first test: both duplicates on the first position in ranked list\n",
        "    candidates_ranking = [[\"How does the catch keyword determine the type of exception that was thrown\",\n",
        "                           \"How Can I Make These Links Rotate in PHP\"], \n",
        "                          [\"Convert Google results object (pure js) to Python object\",\n",
        "                           \"WPF- How to update the changes in list item of a list\"]]\n",
        "    dup_ranks = [candidates_ranking[i].index(answers[i]) + 1 for i in range(len(answers))]\n",
        "\n",
        "    correct_answers = [1, 1]\n",
        "    for k, correct in enumerate(correct_answers, 1):\n",
        "        if not np.isclose(hits_count(dup_ranks, k), correct):\n",
        "            return \"Check the function (test: both duplicates on the first position in ranked list).\"\n",
        "    \n",
        "    # The second test: one candidate on the first position, another — on the second\n",
        "    candidates_ranking = [[\"How Can I Make These Links Rotate in PHP\", \n",
        "                           \"How does the catch keyword determine the type of exception that was thrown\"], \n",
        "                          [\"Convert Google results object (pure js) to Python object\",\n",
        "                           \"WPF- How to update the changes in list item of a list\"]]\n",
        "    dup_ranks = [candidates_ranking[i].index(answers[i]) + 1 for i in range(len(answers))]\n",
        "    correct_answers = [0.5, 1]\n",
        "    for k, correct in enumerate(correct_answers, 1):\n",
        "        if not np.isclose(hits_count(dup_ranks, k), correct):\n",
        "            return \"Check the function (test: one candidate on the first position, another — on the second).\"\n",
        "    \n",
        "    # The third test: both candidates on the second position\n",
        "    candidates_ranking = [[\"How Can I Make These Links Rotate in PHP\", \n",
        "                           \"How does the catch keyword determine the type of exception that was thrown\"], \n",
        "                          [\"WPF- How to update the changes in list item of a list\",\n",
        "                           \"Convert Google results object (pure js) to Python object\"]]\n",
        "    dup_ranks = [candidates_ranking[i].index(answers[i]) + 1 for i in range(len(answers))]\n",
        "    correct_answers = [0, 1]\n",
        "    for k, correct in enumerate(correct_answers, 1):\n",
        "        if not np.isclose(hits_count(dup_ranks, k), correct):\n",
        "            return \"Check the function (test: both candidates on the second position).\"\n",
        "\n",
        "    return \"Basic test are passed.\"\n",
        "\n",
        "    #return dup_ranks "
      ],
      "execution_count": 0,
      "outputs": []
    },
    {
      "cell_type": "code",
      "metadata": {
        "id": "HDAr75OSjSTN",
        "colab_type": "code",
        "outputId": "7aecda34-e812-485e-b62d-26435e8adbaa",
        "colab": {
          "base_uri": "https://localhost:8080/",
          "height": 34
        }
      },
      "source": [
        "print(test_hits())"
      ],
      "execution_count": 0,
      "outputs": [
        {
          "output_type": "stream",
          "text": [
            "Basic test are passed.\n"
          ],
          "name": "stdout"
        }
      ]
    },
    {
      "cell_type": "code",
      "metadata": {
        "id": "owaBWDG8jSTQ",
        "colab_type": "code",
        "colab": {}
      },
      "source": [
        "def dcg_score(dup_ranks, k):\n",
        "    \"\"\"\n",
        "        dup_ranks: list of duplicates' ranks; one rank per question; \n",
        "                   length is a number of questions which we are looking for duplicates; \n",
        "                   rank is a number from 1 to len(candidates of the question); \n",
        "                   e.g. [2, 3] means that the first duplicate has the rank 2, the second one — 3.\n",
        "        k: number of top-ranked elements (k in DCG@k metric)\n",
        "\n",
        "        result: return DCG@k value for current ranking\n",
        "    \"\"\"\n",
        "    ######################################\n",
        "    ######### YOUR CODE HERE #############\n",
        "    ######################################\n",
        "    import math\n",
        "    N=len(dup_ranks)  # number of queries\n",
        "    res=[]\n",
        "    for dup in dup_ranks:\n",
        "        if dup > k:\n",
        "            res.append(0)\n",
        "        if dup<=k:\n",
        "            res.append(1/math.log2(1+dup))   \n",
        "    return sum(res)/N"
      ],
      "execution_count": 0,
      "outputs": []
    },
    {
      "cell_type": "code",
      "metadata": {
        "id": "OmbXkVyFjSTS",
        "colab_type": "code",
        "colab": {}
      },
      "source": [
        "def test_dcg():\n",
        "    # *Evaluation example*\n",
        "    # answers — dup_i\n",
        "    answers = [\"How does the catch keyword determine the type of exception that was thrown\"]\n",
        "    \n",
        "    # candidates_ranking — the ranked sentences provided by our model\n",
        "    candidates_ranking = [[\"How Can I Make These Links Rotate in PHP\", \n",
        "                           \"How does the catch keyword determine the type of exception that was thrown\",\n",
        "                           \"NSLog array description not memory address\",\n",
        "                           \"PECL_HTTP not recognised php ubuntu\"]]\n",
        "    # dup_ranks — position of the dup_i in the list of ranks +1\n",
        "    dup_ranks = [candidates_ranking[i].index(answers[i]) + 1 for i in range(len(answers))]\n",
        "    \n",
        "    # correct_answers — the expected values of the result for each k from 1 to 4\n",
        "    correct_answers = [0, 1 / (np.log2(3)), 1 / (np.log2(3)), 1 / (np.log2(3))]\n",
        "    for k, correct in enumerate(correct_answers, 1):\n",
        "        if not np.isclose(dcg_score(dup_ranks, k), correct):\n",
        "            return \"Check the function.\"\n",
        "    \n",
        "    # Other tests\n",
        "    answers = [\"How does the catch keyword determine the type of exception that was thrown\", \n",
        "               \"Convert Google results object (pure js) to Python object\"]\n",
        "\n",
        "    # The first test: both duplicates on the first position in ranked list\n",
        "    candidates_ranking = [[\"How does the catch keyword determine the type of exception that was thrown\",\n",
        "                           \"How Can I Make These Links Rotate in PHP\"], \n",
        "                          [\"Convert Google results object (pure js) to Python object\",\n",
        "                           \"WPF- How to update the changes in list item of a list\"]]\n",
        "    dup_ranks = [candidates_ranking[i].index(answers[i]) + 1 for i in range(len(answers))]\n",
        "    correct_answers = [1, 1]\n",
        "    for k, correct in enumerate(correct_answers, 1):\n",
        "        if not np.isclose(dcg_score(dup_ranks, k), correct):\n",
        "            return \"Check the function (test: both duplicates on the first position in ranked list).\"\n",
        "        \n",
        "    # The second test: one candidate on the first position, another — on the second\n",
        "    candidates_ranking = [[\"How Can I Make These Links Rotate in PHP\", \n",
        "                           \"How does the catch keyword determine the type of exception that was thrown\"], \n",
        "                          [\"Convert Google results object (pure js) to Python object\",\n",
        "                           \"WPF- How to update the changes in list item of a list\"]]\n",
        "    dup_ranks = [candidates_ranking[i].index(answers[i]) + 1 for i in range(len(answers))]\n",
        "    correct_answers = [0.5, (1 + (1 / (np.log2(3)))) / 2]\n",
        "    for k, correct in enumerate(correct_answers, 1):\n",
        "        if not np.isclose(dcg_score(dup_ranks, k), correct):\n",
        "            return \"Check the function (test: one candidate on the first position, another — on the second).\"\n",
        "        \n",
        "    # The third test: both candidates on the second position\n",
        "    candidates_ranking = [[\"How Can I Make These Links Rotate in PHP\",\n",
        "                           \"How does the catch keyword determine the type of exception that was thrown\"], \n",
        "                          [\"WPF- How to update the changes in list item of a list\",\n",
        "                           \"Convert Google results object (pure js) to Python object\"]]\n",
        "    dup_ranks = [candidates_ranking[i].index(answers[i]) + 1 for i in range(len(answers))]\n",
        "    correct_answers = [0, 1 / (np.log2(3))]\n",
        "    for k, correct in enumerate(correct_answers, 1):\n",
        "        if not np.isclose(dcg_score(dup_ranks, k), correct):\n",
        "            return \"Check the function (test: both candidates on the second position).\"\n",
        "\n",
        "    return \"Basic test are passed.\""
      ],
      "execution_count": 0,
      "outputs": []
    },
    {
      "cell_type": "code",
      "metadata": {
        "id": "SAMp2BsDjSTV",
        "colab_type": "code",
        "outputId": "e9da1b7a-a094-4e8d-de9f-5b45bea7d0ca",
        "colab": {
          "base_uri": "https://localhost:8080/",
          "height": 34
        }
      },
      "source": [
        "print(test_dcg())"
      ],
      "execution_count": 0,
      "outputs": [
        {
          "output_type": "stream",
          "text": [
            "Basic test are passed.\n"
          ],
          "name": "stdout"
        }
      ]
    },
    {
      "cell_type": "markdown",
      "metadata": {
        "id": "gPOncvNwjSTX",
        "colab_type": "text"
      },
      "source": [
        "Submit results of the functions *hits_count* and *dcg_score* for the following examples to earn the points."
      ]
    },
    {
      "cell_type": "code",
      "metadata": {
        "id": "qL1twokpjSTX",
        "colab_type": "code",
        "colab": {}
      },
      "source": [
        "test_examples = [\n",
        "    [1],\n",
        "    [1, 2],\n",
        "    [2, 1],\n",
        "    [1, 2, 3],\n",
        "    [1, 2, 3, 4, 5, 6, 7, 8, 9, 10],\n",
        "    [9, 5, 4, 2, 8, 10, 7, 6, 1, 3],\n",
        "    [4, 3, 5, 1, 9, 10, 7, 8, 2, 6],\n",
        "    [5, 1, 7, 6, 2, 3, 8, 9, 10, 4],\n",
        "    [6, 3, 1, 4, 7, 2, 9, 8, 10, 5],\n",
        "    [10, 9, 8, 7, 6, 5, 4, 3, 2, 1],\n",
        "]"
      ],
      "execution_count": 0,
      "outputs": []
    },
    {
      "cell_type": "code",
      "metadata": {
        "id": "XNXNqqPejSTa",
        "colab_type": "code",
        "outputId": "595a8833-9312-49cd-95f3-a9043ce5e43e",
        "colab": {
          "base_uri": "https://localhost:8080/",
          "height": 323
        }
      },
      "source": [
        "hits_results = []\n",
        "for example in test_examples:\n",
        "    for k in range(len(example)):\n",
        "        hits_results.append(hits_count(example, k + 1))\n",
        "grader.submit_tag('HitsCount', array_to_string(hits_results))"
      ],
      "execution_count": 0,
      "outputs": [
        {
          "output_type": "stream",
          "text": [
            "Current answer for task HitsCount is: 1.0\n",
            "0.5\n",
            "1.0\n",
            "0.5\n",
            "1.0\n",
            "0.3333333333333333\n",
            "0.6666666666666666\n",
            "1.0\n",
            "0.1\n",
            "0.2\n",
            "0.3\n",
            "0.4\n",
            "0.5\n",
            "0.6\n",
            "0.7\n",
            "0.8\n",
            "0.9\n",
            "1....\n"
          ],
          "name": "stdout"
        }
      ]
    },
    {
      "cell_type": "code",
      "metadata": {
        "id": "52HDkUsQjSTd",
        "colab_type": "code",
        "outputId": "a617c666-4aec-48f2-dd07-aee7d955b46a",
        "colab": {
          "base_uri": "https://localhost:8080/",
          "height": 153
        }
      },
      "source": [
        "dcg_results = []\n",
        "for example in test_examples:\n",
        "    for k in range(len(example)):\n",
        "        dcg_results.append(dcg_score(example, k + 1))\n",
        "grader.submit_tag('DCGScore', array_to_string(dcg_results))"
      ],
      "execution_count": 0,
      "outputs": [
        {
          "output_type": "stream",
          "text": [
            "Current answer for task DCGScore is: 1.0\n",
            "0.5\n",
            "0.8154648767857288\n",
            "0.5\n",
            "0.8154648767857288\n",
            "0.3333333333333333\n",
            "0.5436432511904858\n",
            "0.7103099178...\n"
          ],
          "name": "stdout"
        }
      ]
    },
    {
      "cell_type": "markdown",
      "metadata": {
        "id": "MgXhQTrIjSTf",
        "colab_type": "text"
      },
      "source": [
        "##  First solution: pre-trained embeddings"
      ]
    },
    {
      "cell_type": "markdown",
      "metadata": {
        "id": "RZHv2VYQjSTf",
        "colab_type": "text"
      },
      "source": [
        "We will work with predefined train, validation and test corpora. All the files are tab-separated, but have a different format:\n",
        " - *train* corpus contains similar sentences at the same row.\n",
        " - *validation* corpus contains the following columns: *question*, *similar question*, *negative example 1*, *negative example 2*, ... \n",
        " - *test* corpus contains the following columns: *question*, *example 1*, *example 2*, ...\n",
        "\n",
        "Validation corpus will be used for the intermediate validation of models. The test data will be necessary for submitting the quality of your model in the system."
      ]
    },
    {
      "cell_type": "markdown",
      "metadata": {
        "id": "FpDba8s2jSTg",
        "colab_type": "text"
      },
      "source": [
        "Now you should read *validation* corpus, located at `data/validation.tsv`. You will use it later to evaluate current solution."
      ]
    },
    {
      "cell_type": "code",
      "metadata": {
        "id": "gtadABzqjSTg",
        "colab_type": "code",
        "colab": {}
      },
      "source": [
        "def read_corpus(filename):\n",
        "    data = []\n",
        "    for line in open(filename, encoding='utf-8'):\n",
        "        data.append(line.strip().split('\\t'))\n",
        "    return data"
      ],
      "execution_count": 0,
      "outputs": []
    },
    {
      "cell_type": "code",
      "metadata": {
        "id": "UM3qMn7xjSTj",
        "colab_type": "code",
        "colab": {}
      },
      "source": [
        "validation = read_corpus('data/validation.tsv')######### YOUR CODE HERE #############"
      ],
      "execution_count": 0,
      "outputs": []
    },
    {
      "cell_type": "code",
      "metadata": {
        "id": "ZsGZnAUH6_2b",
        "colab_type": "code",
        "outputId": "103c8297-b800-4fa8-caec-472f70ac6cc0",
        "colab": {
          "base_uri": "https://localhost:8080/",
          "height": 119
        }
      },
      "source": [
        "validation[0][:6]"
      ],
      "execution_count": 0,
      "outputs": [
        {
          "output_type": "execute_result",
          "data": {
            "text/plain": [
              "['How to print a binary heap tree without recursion?',\n",
              " 'How do you best convert a recursive function to an iterative one?',\n",
              " 'How can i use ng-model with directive in angular js',\n",
              " 'flash: drawing and erasing',\n",
              " 'toggle react component using hide show classname',\n",
              " 'Use a usercontrol from another project to current webpage']"
            ]
          },
          "metadata": {
            "tags": []
          },
          "execution_count": 26
        }
      ]
    },
    {
      "cell_type": "code",
      "metadata": {
        "id": "mxRhQIcIjSTl",
        "colab_type": "code",
        "colab": {}
      },
      "source": [
        "from sklearn.metrics.pairwise import cosine_similarity"
      ],
      "execution_count": 0,
      "outputs": []
    },
    {
      "cell_type": "markdown",
      "metadata": {
        "id": "xDM6mw3EjSTn",
        "colab_type": "text"
      },
      "source": [
        "We will use cosine distance to rank candidate questions which you need to implement in the function *rank_candidates*. The function should return a sorted list of pairs *(initial position in candidates list, candidate)*. Index of some pair corresponds to its rank (the first is the best). For example, if the list of candidates was *[a, b, c]* and the most similar is *c*, then *a* and *b*, the function should return a list *[(2, c), (0, a), (1, b)]*.\n",
        "\n",
        "Pay attention, if you use the function *cosine_similarity* from *sklearn.metrics.pairwise* to calculate similarity because it works in a different way: most similar objects has greatest similarity. It's preferable to use a vectorized version of *cosine_similarity* function. Try to compute similarity at once and not use list comprehension. It should speed up your computations significantly."
      ]
    },
    {
      "cell_type": "code",
      "metadata": {
        "id": "HUp9VSaujSTo",
        "colab_type": "code",
        "colab": {}
      },
      "source": [
        "def rank_candidates(question0, q_candidates, embeddings, dim=300):\n",
        "    \"\"\"\n",
        "        question: a string\n",
        "        candidates: a list of strings (candidates) which we want to rank\n",
        "        embeddings: some embeddings\n",
        "        dim: dimension of the current embeddings\n",
        "        \n",
        "        result: a list of pairs (initial position in the list, question)\n",
        "    \"\"\"\n",
        "    ######################################\n",
        "    ######### YOUR CODE HERE #############\n",
        "    ######################################\n",
        "    group_emb=[]\n",
        "    qs_emb=question_to_vec(question0,embeddings,dim)\n",
        "    #qs_emb=sum([embeddings[word] for word in question0.strip().split() if word in embeddings])/len(question0.strip().split())\n",
        "    for se in q_candidates:\n",
        "        group_emb.append(question_to_vec(se,embeddings,dim)) \n",
        "        #group_emb.append(sum([embeddings[word] for word in se.strip().split() if word in embeddings])/len(se.strip().split()))\n",
        "    grouparray_emb=np.concatenate(group_emb,axis=0).reshape(len(q_candidates),dim)\n",
        "    simi=cosine_similarity(qs_emb.reshape(1,dim),grouparray_emb)  # return np.array\n",
        "    sort_ind=np.argsort(-simi)\n",
        "    rank_result=[(ind,q_candidates[ind]) for ind in list(sort_ind[0])]\n",
        "    #print('rank result ',rank_result)  #{} is {}\".format(name, score)\n",
        "    return rank_result"
      ],
      "execution_count": 0,
      "outputs": []
    },
    {
      "cell_type": "markdown",
      "metadata": {
        "id": "389TaWFAjSTq",
        "colab_type": "text"
      },
      "source": [
        "Test your code on the tiny examples:"
      ]
    },
    {
      "cell_type": "code",
      "metadata": {
        "id": "7OR0yixYjSTq",
        "colab_type": "code",
        "colab": {}
      },
      "source": [
        "def test_rank_candidates():\n",
        "    questions = ['converting string to list', 'Sending array via Ajax fails']\n",
        "    candidates = [['Convert Google results object (pure js) to Python object', \n",
        "                   'C# create cookie from string and send it',\n",
        "                   'How to use jQuery AJAX for an outside domain?'], \n",
        "                  ['Getting all list items of an unordered list in PHP', \n",
        "                   'WPF- How to update the changes in list item of a list', \n",
        "                   'select2 not displaying search results']]\n",
        "    results = [[(1, 'C# create cookie from string and send it'), \n",
        "                (0, 'Convert Google results object (pure js) to Python object'), \n",
        "                (2, 'How to use jQuery AJAX for an outside domain?')],\n",
        "               [(0, 'Getting all list items of an unordered list in PHP'), \n",
        "                (2, 'select2 not displaying search results'), \n",
        "                (1, 'WPF- How to update the changes in list item of a list')]]\n",
        "    for question0, q_candidates, result in zip(questions, candidates, results):\n",
        "        ranks = rank_candidates(question0, q_candidates, wv_embeddings, 300)\n",
        "        if not np.all(ranks == result):\n",
        "            return \"Check the function.\"\n",
        "    return \"Basic tests are passed.\""
      ],
      "execution_count": 0,
      "outputs": []
    },
    {
      "cell_type": "code",
      "metadata": {
        "id": "9PglaGKLjSTt",
        "colab_type": "code",
        "outputId": "29ec230c-031f-4aa8-fd4f-8d814dfb95ae",
        "colab": {
          "base_uri": "https://localhost:8080/",
          "height": 34
        }
      },
      "source": [
        "print(test_rank_candidates())"
      ],
      "execution_count": 0,
      "outputs": [
        {
          "output_type": "stream",
          "text": [
            "Basic tests are passed.\n"
          ],
          "name": "stdout"
        }
      ]
    },
    {
      "cell_type": "markdown",
      "metadata": {
        "id": "AhweIwY8jSTx",
        "colab_type": "text"
      },
      "source": [
        "Now we can test the quality of the current approach. Run the next two cells to get the results. Pay attention that calculation of similarity between vectors takes time and this calculation is computed approximately in 10 minutes."
      ]
    },
    {
      "cell_type": "code",
      "metadata": {
        "id": "_qNbcDBYjSTy",
        "colab_type": "code",
        "colab": {}
      },
      "source": [
        "wv_ranking = []\n",
        "for line in validation:\n",
        "    q, *ex = line\n",
        "    ranks = rank_candidates(q, ex, wv_embeddings)\n",
        "    wv_ranking.append([r[0] for r in ranks].index(0) + 1)"
      ],
      "execution_count": 0,
      "outputs": []
    },
    {
      "cell_type": "code",
      "metadata": {
        "id": "78W78iLYnWOb",
        "colab_type": "code",
        "outputId": "7804d4e0-fd7d-4270-f927-eb30cef6e9bb",
        "colab": {
          "base_uri": "https://localhost:8080/",
          "height": 34
        }
      },
      "source": [
        "validation[0][0]"
      ],
      "execution_count": 0,
      "outputs": [
        {
          "output_type": "execute_result",
          "data": {
            "text/plain": [
              "'How to print a binary heap tree without recursion?'"
            ]
          },
          "metadata": {
            "tags": []
          },
          "execution_count": 32
        }
      ]
    },
    {
      "cell_type": "code",
      "metadata": {
        "id": "-pl59-EnjST3",
        "colab_type": "code",
        "outputId": "288fc2f4-0228-4c1c-c7e9-68256291ee29",
        "colab": {
          "base_uri": "https://localhost:8080/",
          "height": 119
        }
      },
      "source": [
        "for k in [1, 5, 10, 100, 500, 1000]:\n",
        "    print(\"DCG@%4d: %.3f | Hits@%4d: %.3f\" % (k, dcg_score(wv_ranking, k), k, hits_count(wv_ranking, k)))"
      ],
      "execution_count": 0,
      "outputs": [
        {
          "output_type": "stream",
          "text": [
            "DCG@   1: 0.217 | Hits@   1: 0.217\n",
            "DCG@   5: 0.271 | Hits@   5: 0.319\n",
            "DCG@  10: 0.288 | Hits@  10: 0.370\n",
            "DCG@ 100: 0.326 | Hits@ 100: 0.560\n",
            "DCG@ 500: 0.358 | Hits@ 500: 0.818\n",
            "DCG@1000: 0.378 | Hits@1000: 1.000\n"
          ],
          "name": "stdout"
        }
      ]
    },
    {
      "cell_type": "markdown",
      "metadata": {
        "id": "4AVu9xxUjST6",
        "colab_type": "text"
      },
      "source": [
        "If you did all the steps correctly, you should be frustrated by the received results. Let's try to understand why the quality is so low. First of all, when you work with some data it is necessary to have an idea how the data looks like. Print several questions from the data:"
      ]
    },
    {
      "cell_type": "code",
      "metadata": {
        "id": "_6n8-sWnjST6",
        "colab_type": "code",
        "outputId": "652a626a-6ca1-4ac3-a4e3-48a43ee91b40",
        "colab": {
          "base_uri": "https://localhost:8080/",
          "height": 68
        }
      },
      "source": [
        "for line in validation[:3]:\n",
        "    q, *examples = line\n",
        "    print(q, *examples[:2])"
      ],
      "execution_count": 0,
      "outputs": [
        {
          "output_type": "stream",
          "text": [
            "How to print a binary heap tree without recursion? How do you best convert a recursive function to an iterative one? How can i use ng-model with directive in angular js\n",
            "How to start PhoneStateListener programmatically? PhoneStateListener and service Java cast object[] to model\n",
            "jQuery: Show a div2 when mousenter over div1 is over when hover on div1 depenting on if it is on div2 or not it should act differently How to run selenium in google app engine/cloud?\n"
          ],
          "name": "stdout"
        }
      ]
    },
    {
      "cell_type": "markdown",
      "metadata": {
        "id": "KCIhrcJzjST9",
        "colab_type": "text"
      },
      "source": [
        "As you can see, we deal with the raw data. It means that we have many punctuation marks, special characters and unlowercased letters. In our case, it could lead to the situation where we can't find some embeddings, e.g. for the word \"grid?\". \n",
        "\n",
        "To solve this problem you should use the functions *text_prepare* from the previous assignments to prepare the data."
      ]
    },
    {
      "cell_type": "code",
      "metadata": {
        "id": "zXp6qu18jST-",
        "colab_type": "code",
        "colab": {}
      },
      "source": [
        "from util import text_prepare"
      ],
      "execution_count": 0,
      "outputs": []
    },
    {
      "cell_type": "markdown",
      "metadata": {
        "id": "mwETq_2HjSUH",
        "colab_type": "text"
      },
      "source": [
        "Now transform all the questions from the validation set:"
      ]
    },
    {
      "cell_type": "code",
      "metadata": {
        "id": "UT5MBuDJjSUI",
        "colab_type": "code",
        "colab": {}
      },
      "source": [
        "prepared_validation = []\n",
        "for line in validation:\n",
        "    #q_new=text_prepare(line[0])\n",
        "    line_prepared=[text_prepare(exa) for exa in line]\n",
        "    prepared_validation.append(line_prepared)\n",
        "    ######### YOUR CODE HERE #############"
      ],
      "execution_count": 0,
      "outputs": []
    },
    {
      "cell_type": "code",
      "metadata": {
        "id": "XPXNj-8OIa81",
        "colab_type": "code",
        "outputId": "337bb428-fd15-4445-d83e-86994cb8fee5",
        "colab": {
          "base_uri": "https://localhost:8080/",
          "height": 51
        }
      },
      "source": [
        "print(len(prepared_validation))\n",
        "len(prepared_validation[0])"
      ],
      "execution_count": 0,
      "outputs": [
        {
          "output_type": "stream",
          "text": [
            "10000\n"
          ],
          "name": "stdout"
        },
        {
          "output_type": "execute_result",
          "data": {
            "text/plain": [
              "1001"
            ]
          },
          "metadata": {
            "tags": []
          },
          "execution_count": 43
        }
      ]
    },
    {
      "cell_type": "markdown",
      "metadata": {
        "id": "9e9w7_3PjSUK",
        "colab_type": "text"
      },
      "source": [
        "Let's evaluate the approach again after the preparation:"
      ]
    },
    {
      "cell_type": "code",
      "metadata": {
        "id": "LlE1qlHSjSUK",
        "colab_type": "code",
        "colab": {}
      },
      "source": [
        "wv_prepared_ranking = []\n",
        "for line in prepared_validation:\n",
        "    q, *ex = line\n",
        "    ranks = rank_candidates(q, ex, wv_embeddings)\n",
        "    wv_prepared_ranking.append([r[0] for r in ranks].index(0) + 1)"
      ],
      "execution_count": 0,
      "outputs": []
    },
    {
      "cell_type": "code",
      "metadata": {
        "id": "DsXDqUeVjSUM",
        "colab_type": "code",
        "outputId": "19dfef44-0dea-4e99-ec1f-c0e8bdd5e015",
        "colab": {
          "base_uri": "https://localhost:8080/",
          "height": 119
        }
      },
      "source": [
        "for k in [1, 5, 10, 100, 500, 1000]:\n",
        "    print(\"DCG@%4d: %.3f | Hits@%4d: %.3f\" % (k, dcg_score(wv_prepared_ranking, k), \n",
        "                                              k, hits_count(wv_prepared_ranking, k)))"
      ],
      "execution_count": 0,
      "outputs": [
        {
          "output_type": "stream",
          "text": [
            "DCG@   1: 0.320 | Hits@   1: 0.320\n",
            "DCG@   5: 0.387 | Hits@   5: 0.448\n",
            "DCG@  10: 0.404 | Hits@  10: 0.500\n",
            "DCG@ 100: 0.438 | Hits@ 100: 0.669\n",
            "DCG@ 500: 0.460 | Hits@ 500: 0.844\n",
            "DCG@1000: 0.477 | Hits@1000: 1.000\n"
          ],
          "name": "stdout"
        }
      ]
    },
    {
      "cell_type": "markdown",
      "metadata": {
        "id": "90vgUfDkjSUX",
        "colab_type": "text"
      },
      "source": [
        "Now, prepare also train and test data, because you will need it in the future:"
      ]
    },
    {
      "cell_type": "code",
      "metadata": {
        "id": "yibUghf1jSUY",
        "colab_type": "code",
        "colab": {}
      },
      "source": [
        "def prepare_file(in_, out_):\n",
        "    out = open(out_, 'w')\n",
        "    for line in open(in_, encoding='utf8'):\n",
        "        line = line.strip().split('\\t')\n",
        "        new_line = [text_prepare(q) for q in line]\n",
        "        print(*new_line, sep='\\t', file=out)\n",
        "    out.close()"
      ],
      "execution_count": 0,
      "outputs": []
    },
    {
      "cell_type": "code",
      "metadata": {
        "id": "qes44M69jSUb",
        "colab_type": "code",
        "colab": {}
      },
      "source": [
        "######################################\n",
        "######### YOUR CODE HERE #############\n",
        "######################################\n",
        "prepare_file('data/train.tsv','data/train_prepared.tsv')\n",
        "prepare_file('data/test.tsv','data/test_prepared.tsv')"
      ],
      "execution_count": 0,
      "outputs": []
    },
    {
      "cell_type": "markdown",
      "metadata": {
        "id": "A_GcwoOQjSUf",
        "colab_type": "text"
      },
      "source": [
        "**Task 4 (W2VTokenizedRanks).** For each question from prepared *test.tsv* submit the ranks of the candidates to earn the points. The calculations should take about 3-5 minutes. Pay attention that the function *rank_candidates* returns a ranking, while in this case you should find a position in this ranking. Ranks should start with 1."
      ]
    },
    {
      "cell_type": "code",
      "metadata": {
        "id": "SrOt8It8jSUg",
        "colab_type": "code",
        "colab": {}
      },
      "source": [
        "from util import matrix_to_string"
      ],
      "execution_count": 0,
      "outputs": []
    },
    {
      "cell_type": "code",
      "metadata": {
        "id": "GOex-ZPCjSUk",
        "colab_type": "code",
        "outputId": "e75819ae-2aaf-4f82-9ed8-f4aae77a7ae4",
        "colab": {
          "base_uri": "https://localhost:8080/",
          "height": 54
        }
      },
      "source": [
        "w2v_ranks_results = []\n",
        "prepared_test_data = 'data/test_prepared.tsv'######### YOUR CODE HERE ############# read_corpus()\n",
        "for line in open(prepared_test_data):\n",
        "    q, *ex = line.strip().split('\\t')\n",
        "    ranks = rank_candidates(q, ex, wv_embeddings, 300)\n",
        "    ranked_candidates = [r[0] for r in ranks]\n",
        "    w2v_ranks_results.append([ranked_candidates.index(i) + 1 for i in range(len(ranked_candidates))])\n",
        "    \n",
        "grader.submit_tag('W2VTokenizedRanks', matrix_to_string(w2v_ranks_results))"
      ],
      "execution_count": 0,
      "outputs": [
        {
          "output_type": "stream",
          "text": [
            "Current answer for task W2VTokenizedRanks is: 95\t94\t7\t9\t64\t37\t32\t93\t24\t100\t98\t17\t60\t6\t97\t49\t70\t38\t42\t96\t30\t21\t2\t65\t67\t45\t27\t26\t57\t62\t11\t88\t56\t66\t7...\n"
          ],
          "name": "stdout"
        }
      ]
    },
    {
      "cell_type": "code",
      "metadata": {
        "id": "NvOIlNgZnLPP",
        "colab_type": "code",
        "outputId": "0bb25a16-6854-4886-f389-12b6706702e8",
        "colab": {
          "base_uri": "https://localhost:8080/",
          "height": 34
        }
      },
      "source": [
        "import codecs\n",
        "filetest=codecs.open(prepared_test_data)\n",
        "datatest=filetest.readlines()\n",
        "len(datatest[0])\n",
        "    "
      ],
      "execution_count": 0,
      "outputs": [
        {
          "output_type": "execute_result",
          "data": {
            "text/plain": [
              "4106"
            ]
          },
          "metadata": {
            "tags": []
          },
          "execution_count": 51
        }
      ]
    },
    {
      "cell_type": "code",
      "metadata": {
        "id": "1FeyHuNioYau",
        "colab_type": "code",
        "outputId": "5cf5e327-ff73-428e-84df-1e12f9b62fe4",
        "colab": {
          "base_uri": "https://localhost:8080/",
          "height": 68
        }
      },
      "source": [
        "a=datatest[0].strip().split('\\t') #w2v_ranks_results[0][0:10]\n",
        "a[:3]"
      ],
      "execution_count": 0,
      "outputs": [
        {
          "output_type": "execute_result",
          "data": {
            "text/plain": [
              "['access structure member without knowing name',\n",
              " 'gwt servlet classnotfoundexception',\n",
              " 'slowcheetah transforming entityframework migrations']"
            ]
          },
          "metadata": {
            "tags": []
          },
          "execution_count": 52
        }
      ]
    },
    {
      "cell_type": "markdown",
      "metadata": {
        "id": "r4Qv6TIbjSUr",
        "colab_type": "text"
      },
      "source": [
        "## Advanced solution: StarSpace embeddings\n",
        "\n",
        "Now you are ready to train your own word embeddings! In particular, you need to train embeddings specially for our task of duplicates detection. Unfortunately, StarSpace cannot be run on Windows and we recommend to use provided\n",
        "[docker container](https://github.com/hse-aml/natural-language-processing/blob/master/Docker-tutorial.md) or other alternatives. Don't delete results of this task because you will need it in the final project.\n",
        "\n",
        "### How it works and what's the main difference with word2vec?\n",
        "The main point in this section is that StarSpace can be trained specifically for some tasks. In contrast to word2vec model, which tries to train similar embeddings for words in similar contexts, StarSpace uses embeddings for the whole sentence (just as a sum of embeddings of words and phrases). Despite the fact that in both cases we get word embeddings as a result of the training, StarSpace embeddings are trained using some supervised data, e.g. a set of similar sentence pairs, and thus they can better suit the task.\n",
        "\n",
        "In our case, StarSpace should use two types of sentence pairs for training: \"positive\" and \"negative\". \"Positive\" examples are extracted from the train sample (duplicates, high similarity) and the \"negative\" examples are generated randomly (low similarity assumed). \n",
        "\n",
        "### How to choose the best params for the model?\n",
        "Normally, you would start with some default choice and then run extensive experiments to compare different strategies. However, we have some recommendations ready for you to save your time:\n",
        "- Be careful with choosing the suitable training mode. In this task we want to explore texts similarity which corresponds to *trainMode = 3*.\n",
        "- Use adagrad optimization (parameter *adagrad = true*).\n",
        "- Set the length of phrase equal to 1 (parameter *ngrams*), because we need embeddings only for words.\n",
        "- Don't use a large number of *epochs* (we think that 5 should be enough).\n",
        "- Try dimension *dim* equal to 100.\n",
        "- To compare embeddings usually *cosine* *similarity* is used.\n",
        "- Set *minCount* greater than 1 (for example, 2) if you don't want to get embeddings for extremely rare words.\n",
        "- Parameter *verbose = true* could show you the progress of the training process.\n",
        "- Set parameter *fileFormat* equals *labelDoc*.\n",
        "- Parameter *negSearchLimit* is responsible for a number of negative examples which is used during the training. We think that 10 will be enought for this task.\n",
        "- To increase a speed of training we recommend to set *learning rate* to 0.05."
      ]
    },
    {
      "cell_type": "markdown",
      "metadata": {
        "id": "WxjFQuohjSUr",
        "colab_type": "text"
      },
      "source": [
        "Train StarSpace embeddings for unigrams on the train dataset. You don't need to change the format of the input data. Just don't forget to use prepared version of the training data. \n",
        "\n",
        "If you follow the instruction, the training process will take about 1 hour. The size of the embeddings' dictionary should be approximately 100 000 (number of lines in the result file). If you got significantly more than this number, try to check all the instructions above."
      ]
    },
    {
      "cell_type": "markdown",
      "metadata": {
        "collapsed": true,
        "id": "rllxtxUbjSUt",
        "colab_type": "text"
      },
      "source": [
        "And now we can compare the new embeddings with the previous ones. You can find trained word vectors in the file *[model_file_name].tsv*. Upload the embeddings from StarSpace into a dict. "
      ]
    },
    {
      "cell_type": "code",
      "metadata": {
        "id": "y5wMhxQXlHBZ",
        "colab_type": "code",
        "outputId": "7aec5476-a2a0-4da0-af5d-8d5d8251421c",
        "colab": {
          "base_uri": "https://localhost:8080/",
          "height": 952
        }
      },
      "source": [
        "######### TRAINING HAPPENING HERE #############\n",
        "%%bash \n",
        "./Starspace/starspace train -trainFile ./data/train_prepared.tsv -model SS_starspace -trainMode 3 -adagrad true -ngrams 1 -epoch 5 -dim 100 -similarity \"cosine\" -minCount 2 -verbose true  -fileFormat labelDoc -negSearchLimit 10 -thread 10 -lr 0.05 \n",
        "#embed_doc SS_starspace uci_train_starspace_formatted.txt > uci_train_starspace_embed.txt"
      ],
      "execution_count": 0,
      "outputs": [
        {
          "output_type": "stream",
          "text": [
            "Arguments: \n",
            "lr: 0.05\n",
            "dim: 100\n",
            "epoch: 5\n",
            "maxTrainTime: 8640000\n",
            "validationPatience: 10\n",
            "saveEveryEpoch: 0\n",
            "loss: hinge\n",
            "margin: 0.05\n",
            "similarity: cosine\n",
            "maxNegSamples: 10\n",
            "negSearchLimit: 10\n",
            "batchSize: 5\n",
            "thread: 10\n",
            "minCount: 2\n",
            "minCountLabel: 1\n",
            "label: __label__\n",
            "label: __label__\n",
            "ngrams: 1\n",
            "bucket: 2000000\n",
            "adagrad: 1\n",
            "trainMode: 3\n",
            "fileFormat: labelDoc\n",
            "normalizeText: 0\n",
            "dropoutLHS: 0\n",
            "dropoutRHS: 0\n",
            "useWeight: 0\n",
            "weightSep: :\n",
            "Start to initialize starspace model.\n",
            "Build dict from input file : ./data/train_prepared.tsv\n",
            "Loading data from file : ./data/train_prepared.tsv\n",
            "Total number of examples loaded : 999740\n",
            "Initialized model weights. Model size :\n",
            "matrix : 95058 100\n",
            "Training epoch 0: 0.05 0.01\n",
            "\n",
            " ---+++                Epoch    0 Train error : 0.04343867 +++--- ☃\n",
            "Training epoch 1: 0.04 0.01\n",
            "\n",
            " ---+++                Epoch    1 Train error : 0.01317533 +++--- ☃\n",
            "Training epoch 2: 0.03 0.01\n",
            "\n",
            " ---+++                Epoch    2 Train error : 0.00934121 +++--- ☃\n",
            "Training epoch 3: 0.02 0.01\n",
            "\n",
            " ---+++                Epoch    3 Train error : 0.00770734 +++--- ☃\n",
            "Training epoch 4: 0.01 0.01\n",
            "\n",
            " ---+++                Epoch    4 Train error : 0.00683025 +++--- ☃\n",
            "Saving model to file : SS_starspace\n",
            "Saving model in tsv format : SS_starspace.tsv\n"
          ],
          "name": "stdout"
        },
        {
          "output_type": "stream",
          "text": [
            "\rRead 1M words\rRead 2M words\rRead 3M words\rRead 4M words\rRead 5M words\rRead 6M words\rRead 7M words\rRead 8M words\rRead 9M words\rRead 10M words\rRead 11M words\rRead 12M words\rRead 12M words\n",
            "Number of words in dictionary:  95058\n",
            "Number of labels in dictionary: 0\n",
            "\rEpoch: 0.1%  lr: 0.050000  loss: 0.456063  eta: 0h15m  tot: 0h0m0s  (0.0%)\rEpoch: 0.2%  lr: 0.050000  loss: 0.423319  eta: 0h18m  tot: 0h0m0s  (0.0%)\rEpoch: 0.3%  lr: 0.050000  loss: 0.389881  eta: 0h19m  tot: 0h0m0s  (0.1%)\rEpoch: 0.4%  lr: 0.050000  loss: 0.364075  eta: 0h19m  tot: 0h0m0s  (0.1%)\rEpoch: 0.4%  lr: 0.050000  loss: 0.328474  eta: 0h19m  tot: 0h0m1s  (0.1%)\rEpoch: 0.5%  lr: 0.050000  loss: 0.310612  eta: 0h19m  tot: 0h0m1s  (0.1%)\rEpoch: 0.6%  lr: 0.049960  loss: 0.290227  eta: 0h19m  tot: 0h0m1s  (0.1%)\rEpoch: 0.7%  lr: 0.049960  loss: 0.274020  eta: 0h19m  tot: 0h0m1s  (0.1%)\rEpoch: 0.8%  lr: 0.049960  loss: 0.262480  eta: 0h19m  tot: 0h0m1s  (0.2%)\rEpoch: 0.9%  lr: 0.049960  loss: 0.251736  eta: 0h19m  tot: 0h0m2s  (0.2%)\rEpoch: 1.0%  lr: 0.049940  loss: 0.241983  eta: 0h19m  tot: 0h0m2s  (0.2%)\rEpoch: 1.1%  lr: 0.049940  loss: 0.235583  eta: 0h19m  tot: 0h0m2s  (0.2%)\rEpoch: 1.2%  lr: 0.049940  loss: 0.233968  eta: 0h19m  tot: 0h0m2s  (0.2%)\rEpoch: 1.3%  lr: 0.049930  loss: 0.230077  eta: 0h19m  tot: 0h0m2s  (0.3%)\rEpoch: 1.3%  lr: 0.049920  loss: 0.224112  eta: 0h19m  tot: 0h0m3s  (0.3%)\rEpoch: 1.4%  lr: 0.049920  loss: 0.217883  eta: 0h19m  tot: 0h0m3s  (0.3%)\rEpoch: 1.5%  lr: 0.049920  loss: 0.213034  eta: 0h19m  tot: 0h0m3s  (0.3%)\rEpoch: 1.6%  lr: 0.049920  loss: 0.208342  eta: 0h19m  tot: 0h0m3s  (0.3%)\rEpoch: 1.7%  lr: 0.049910  loss: 0.204532  eta: 0h19m  tot: 0h0m3s  (0.3%)\rEpoch: 1.8%  lr: 0.049900  loss: 0.199289  eta: 0h18m  tot: 0h0m4s  (0.4%)\rEpoch: 1.9%  lr: 0.049890  loss: 0.194491  eta: 0h18m  tot: 0h0m4s  (0.4%)\rEpoch: 2.0%  lr: 0.049870  loss: 0.191865  eta: 0h18m  tot: 0h0m4s  (0.4%)\rEpoch: 2.1%  lr: 0.049850  loss: 0.189311  eta: 0h18m  tot: 0h0m4s  (0.4%)\rEpoch: 2.2%  lr: 0.049850  loss: 0.187607  eta: 0h18m  tot: 0h0m4s  (0.4%)\rEpoch: 2.2%  lr: 0.049850  loss: 0.184681  eta: 0h18m  tot: 0h0m5s  (0.4%)\rEpoch: 2.3%  lr: 0.049840  loss: 0.180627  eta: 0h18m  tot: 0h0m5s  (0.5%)\rEpoch: 2.4%  lr: 0.049810  loss: 0.178767  eta: 0h18m  tot: 0h0m5s  (0.5%)\rEpoch: 2.5%  lr: 0.049800  loss: 0.175368  eta: 0h18m  tot: 0h0m5s  (0.5%)\rEpoch: 2.6%  lr: 0.049800  loss: 0.172520  eta: 0h18m  tot: 0h0m5s  (0.5%)\rEpoch: 2.7%  lr: 0.049790  loss: 0.171357  eta: 0h18m  tot: 0h0m6s  (0.5%)\rEpoch: 2.8%  lr: 0.049790  loss: 0.167567  eta: 0h18m  tot: 0h0m6s  (0.6%)\rEpoch: 2.9%  lr: 0.049790  loss: 0.165044  eta: 0h18m  tot: 0h0m6s  (0.6%)\rEpoch: 3.0%  lr: 0.049770  loss: 0.162608  eta: 0h18m  tot: 0h0m6s  (0.6%)\rEpoch: 3.1%  lr: 0.049770  loss: 0.161032  eta: 0h18m  tot: 0h0m6s  (0.6%)\rEpoch: 3.1%  lr: 0.049750  loss: 0.159889  eta: 0h18m  tot: 0h0m7s  (0.6%)\rEpoch: 3.2%  lr: 0.049740  loss: 0.157917  eta: 0h18m  tot: 0h0m7s  (0.6%)\rEpoch: 3.3%  lr: 0.049740  loss: 0.156834  eta: 0h18m  tot: 0h0m7s  (0.7%)\rEpoch: 3.4%  lr: 0.049740  loss: 0.154735  eta: 0h18m  tot: 0h0m7s  (0.7%)\rEpoch: 3.5%  lr: 0.049720  loss: 0.153444  eta: 0h18m  tot: 0h0m7s  (0.7%)\rEpoch: 3.6%  lr: 0.049700  loss: 0.151841  eta: 0h18m  tot: 0h0m8s  (0.7%)\rEpoch: 3.7%  lr: 0.049690  loss: 0.149488  eta: 0h18m  tot: 0h0m8s  (0.7%)\rEpoch: 3.8%  lr: 0.049660  loss: 0.148606  eta: 0h18m  tot: 0h0m8s  (0.8%)\rEpoch: 3.9%  lr: 0.049660  loss: 0.146685  eta: 0h18m  tot: 0h0m8s  (0.8%)\rEpoch: 4.0%  lr: 0.049630  loss: 0.144688  eta: 0h18m  tot: 0h0m8s  (0.8%)\rEpoch: 4.1%  lr: 0.049610  loss: 0.143778  eta: 0h18m  tot: 0h0m8s  (0.8%)\rEpoch: 4.1%  lr: 0.049610  loss: 0.142353  eta: 0h18m  tot: 0h0m9s  (0.8%)\rEpoch: 4.2%  lr: 0.049610  loss: 0.141967  eta: 0h18m  tot: 0h0m9s  (0.8%)\rEpoch: 4.3%  lr: 0.049590  loss: 0.141506  eta: 0h18m  tot: 0h0m9s  (0.9%)\rEpoch: 4.4%  lr: 0.049580  loss: 0.140286  eta: 0h18m  tot: 0h0m9s  (0.9%)\rEpoch: 4.5%  lr: 0.049550  loss: 0.139988  eta: 0h18m  tot: 0h0m9s  (0.9%)\rEpoch: 4.6%  lr: 0.049550  loss: 0.138880  eta: 0h18m  tot: 0h0m10s  (0.9%)\rEpoch: 4.7%  lr: 0.049540  loss: 0.137686  eta: 0h17m  tot: 0h0m10s  (0.9%)\rEpoch: 4.8%  lr: 0.049540  loss: 0.136186  eta: 0h17m  tot: 0h0m10s  (1.0%)\rEpoch: 4.9%  lr: 0.049530  loss: 0.135681  eta: 0h17m  tot: 0h0m10s  (1.0%)\rEpoch: 5.0%  lr: 0.049520  loss: 0.134977  eta: 0h17m  tot: 0h0m10s  (1.0%)\rEpoch: 5.0%  lr: 0.049520  loss: 0.134112  eta: 0h17m  tot: 0h0m10s  (1.0%)\rEpoch: 5.1%  lr: 0.049510  loss: 0.133092  eta: 0h17m  tot: 0h0m11s  (1.0%)\rEpoch: 5.2%  lr: 0.049500  loss: 0.132264  eta: 0h17m  tot: 0h0m11s  (1.0%)\rEpoch: 5.3%  lr: 0.049489  loss: 0.131250  eta: 0h17m  tot: 0h0m11s  (1.1%)\rEpoch: 5.4%  lr: 0.049479  loss: 0.130029  eta: 0h17m  tot: 0h0m11s  (1.1%)\rEpoch: 5.5%  lr: 0.049459  loss: 0.128818  eta: 0h17m  tot: 0h0m11s  (1.1%)\rEpoch: 5.6%  lr: 0.049459  loss: 0.127814  eta: 0h17m  tot: 0h0m12s  (1.1%)\rEpoch: 5.7%  lr: 0.049449  loss: 0.127127  eta: 0h17m  tot: 0h0m12s  (1.1%)\rEpoch: 5.8%  lr: 0.049439  loss: 0.126339  eta: 0h17m  tot: 0h0m12s  (1.2%)\rEpoch: 5.9%  lr: 0.049429  loss: 0.125989  eta: 0h17m  tot: 0h0m12s  (1.2%)\rEpoch: 5.9%  lr: 0.049429  loss: 0.125198  eta: 0h17m  tot: 0h0m12s  (1.2%)\rEpoch: 6.0%  lr: 0.049429  loss: 0.124421  eta: 0h17m  tot: 0h0m12s  (1.2%)\rEpoch: 6.1%  lr: 0.049429  loss: 0.123806  eta: 0h17m  tot: 0h0m13s  (1.2%)\rEpoch: 6.2%  lr: 0.049429  loss: 0.123547  eta: 0h17m  tot: 0h0m13s  (1.2%)\rEpoch: 6.3%  lr: 0.049409  loss: 0.122729  eta: 0h17m  tot: 0h0m13s  (1.3%)\rEpoch: 6.4%  lr: 0.049399  loss: 0.122124  eta: 0h17m  tot: 0h0m13s  (1.3%)\rEpoch: 6.5%  lr: 0.049379  loss: 0.121696  eta: 0h17m  tot: 0h0m13s  (1.3%)\rEpoch: 6.6%  lr: 0.049379  loss: 0.120705  eta: 0h17m  tot: 0h0m14s  (1.3%)\rEpoch: 6.7%  lr: 0.049379  loss: 0.119762  eta: 0h17m  tot: 0h0m14s  (1.3%)\rEpoch: 6.8%  lr: 0.049329  loss: 0.119280  eta: 0h17m  tot: 0h0m14s  (1.4%)\rEpoch: 6.8%  lr: 0.049319  loss: 0.119153  eta: 0h17m  tot: 0h0m14s  (1.4%)\rEpoch: 6.9%  lr: 0.049309  loss: 0.118687  eta: 0h17m  tot: 0h0m14s  (1.4%)\rEpoch: 7.0%  lr: 0.049289  loss: 0.118197  eta: 0h17m  tot: 0h0m15s  (1.4%)\rEpoch: 7.1%  lr: 0.049279  loss: 0.117472  eta: 0h17m  tot: 0h0m15s  (1.4%)\rEpoch: 7.2%  lr: 0.049279  loss: 0.116838  eta: 0h17m  tot: 0h0m15s  (1.4%)\rEpoch: 7.3%  lr: 0.049279  loss: 0.116369  eta: 0h17m  tot: 0h0m15s  (1.5%)\rEpoch: 7.4%  lr: 0.049259  loss: 0.115399  eta: 0h17m  tot: 0h0m15s  (1.5%)\rEpoch: 7.5%  lr: 0.049259  loss: 0.115307  eta: 0h17m  tot: 0h0m15s  (1.5%)\rEpoch: 7.6%  lr: 0.049259  loss: 0.115179  eta: 0h17m  tot: 0h0m16s  (1.5%)\rEpoch: 7.7%  lr: 0.049249  loss: 0.114909  eta: 0h17m  tot: 0h0m16s  (1.5%)\rEpoch: 7.7%  lr: 0.049239  loss: 0.114260  eta: 0h17m  tot: 0h0m16s  (1.5%)\rEpoch: 7.8%  lr: 0.049239  loss: 0.113506  eta: 0h17m  tot: 0h0m16s  (1.6%)\rEpoch: 7.9%  lr: 0.049219  loss: 0.112975  eta: 0h17m  tot: 0h0m16s  (1.6%)\rEpoch: 8.0%  lr: 0.049219  loss: 0.112289  eta: 0h17m  tot: 0h0m17s  (1.6%)\rEpoch: 8.1%  lr: 0.049209  loss: 0.111551  eta: 0h17m  tot: 0h0m17s  (1.6%)\rEpoch: 8.2%  lr: 0.049199  loss: 0.111331  eta: 0h17m  tot: 0h0m17s  (1.6%)\rEpoch: 8.3%  lr: 0.049189  loss: 0.110886  eta: 0h17m  tot: 0h0m17s  (1.7%)\rEpoch: 8.4%  lr: 0.049189  loss: 0.110402  eta: 0h17m  tot: 0h0m17s  (1.7%)\rEpoch: 8.5%  lr: 0.049179  loss: 0.109941  eta: 0h17m  tot: 0h0m17s  (1.7%)\rEpoch: 8.6%  lr: 0.049179  loss: 0.109642  eta: 0h17m  tot: 0h0m18s  (1.7%)\rEpoch: 8.6%  lr: 0.049159  loss: 0.109251  eta: 0h17m  tot: 0h0m18s  (1.7%)\rEpoch: 8.7%  lr: 0.049139  loss: 0.108843  eta: 0h17m  tot: 0h0m18s  (1.7%)\rEpoch: 8.8%  lr: 0.049139  loss: 0.108530  eta: 0h17m  tot: 0h0m18s  (1.8%)\rEpoch: 8.9%  lr: 0.049119  loss: 0.108130  eta: 0h17m  tot: 0h0m18s  (1.8%)\rEpoch: 9.0%  lr: 0.049109  loss: 0.107530  eta: 0h17m  tot: 0h0m19s  (1.8%)\rEpoch: 9.1%  lr: 0.049089  loss: 0.107117  eta: 0h17m  tot: 0h0m19s  (1.8%)\rEpoch: 9.2%  lr: 0.049079  loss: 0.106843  eta: 0h17m  tot: 0h0m19s  (1.8%)\rEpoch: 9.3%  lr: 0.049079  loss: 0.106259  eta: 0h17m  tot: 0h0m19s  (1.9%)\rEpoch: 9.4%  lr: 0.049079  loss: 0.105796  eta: 0h17m  tot: 0h0m19s  (1.9%)\rEpoch: 9.5%  lr: 0.049049  loss: 0.105312  eta: 0h17m  tot: 0h0m19s  (1.9%)\rEpoch: 9.5%  lr: 0.049029  loss: 0.104821  eta: 0h17m  tot: 0h0m20s  (1.9%)\rEpoch: 9.6%  lr: 0.049019  loss: 0.104391  eta: 0h17m  tot: 0h0m20s  (1.9%)\rEpoch: 9.7%  lr: 0.049019  loss: 0.104066  eta: 0h17m  tot: 0h0m20s  (1.9%)\rEpoch: 9.8%  lr: 0.048999  loss: 0.103435  eta: 0h17m  tot: 0h0m20s  (2.0%)\rEpoch: 9.9%  lr: 0.048989  loss: 0.102975  eta: 0h17m  tot: 0h0m20s  (2.0%)\rEpoch: 10.0%  lr: 0.048979  loss: 0.102454  eta: 0h17m  tot: 0h0m20s  (2.0%)\rEpoch: 10.1%  lr: 0.048959  loss: 0.101999  eta: 0h17m  tot: 0h0m21s  (2.0%)\rEpoch: 10.2%  lr: 0.048959  loss: 0.101738  eta: 0h17m  tot: 0h0m21s  (2.0%)\rEpoch: 10.3%  lr: 0.048939  loss: 0.101347  eta: 0h17m  tot: 0h0m21s  (2.1%)\rEpoch: 10.4%  lr: 0.048939  loss: 0.101095  eta: 0h17m  tot: 0h0m21s  (2.1%)\rEpoch: 10.4%  lr: 0.048939  loss: 0.100923  eta: 0h17m  tot: 0h0m21s  (2.1%)\rEpoch: 10.5%  lr: 0.048929  loss: 0.100527  eta: 0h17m  tot: 0h0m22s  (2.1%)\rEpoch: 10.6%  lr: 0.048919  loss: 0.100113  eta: 0h17m  tot: 0h0m22s  (2.1%)\rEpoch: 10.7%  lr: 0.048919  loss: 0.099863  eta: 0h17m  tot: 0h0m22s  (2.1%)\rEpoch: 10.8%  lr: 0.048919  loss: 0.099752  eta: 0h17m  tot: 0h0m22s  (2.2%)\rEpoch: 10.9%  lr: 0.048919  loss: 0.099379  eta: 0h17m  tot: 0h0m22s  (2.2%)\rEpoch: 11.0%  lr: 0.048909  loss: 0.099188  eta: 0h17m  tot: 0h0m22s  (2.2%)\rEpoch: 11.1%  lr: 0.048899  loss: 0.098901  eta: 0h17m  tot: 0h0m23s  (2.2%)\rEpoch: 11.2%  lr: 0.048869  loss: 0.098501  eta: 0h17m  tot: 0h0m23s  (2.2%)\rEpoch: 11.3%  lr: 0.048849  loss: 0.098289  eta: 0h17m  tot: 0h0m23s  (2.3%)\rEpoch: 11.3%  lr: 0.048849  loss: 0.098138  eta: 0h17m  tot: 0h0m23s  (2.3%)\rEpoch: 11.4%  lr: 0.048849  loss: 0.098007  eta: 0h17m  tot: 0h0m23s  (2.3%)\rEpoch: 11.5%  lr: 0.048849  loss: 0.097691  eta: 0h17m  tot: 0h0m24s  (2.3%)\rEpoch: 11.6%  lr: 0.048839  loss: 0.097324  eta: 0h17m  tot: 0h0m24s  (2.3%)\rEpoch: 11.7%  lr: 0.048839  loss: 0.097337  eta: 0h17m  tot: 0h0m24s  (2.3%)\rEpoch: 11.8%  lr: 0.048829  loss: 0.096920  eta: 0h16m  tot: 0h0m24s  (2.4%)\rEpoch: 11.9%  lr: 0.048829  loss: 0.097054  eta: 0h16m  tot: 0h0m24s  (2.4%)\rEpoch: 12.0%  lr: 0.048809  loss: 0.096849  eta: 0h16m  tot: 0h0m25s  (2.4%)\rEpoch: 12.1%  lr: 0.048789  loss: 0.096496  eta: 0h16m  tot: 0h0m25s  (2.4%)\rEpoch: 12.2%  lr: 0.048789  loss: 0.096120  eta: 0h16m  tot: 0h0m25s  (2.4%)\rEpoch: 12.2%  lr: 0.048779  loss: 0.095921  eta: 0h16m  tot: 0h0m25s  (2.4%)\rEpoch: 12.3%  lr: 0.048779  loss: 0.095644  eta: 0h16m  tot: 0h0m25s  (2.5%)\rEpoch: 12.4%  lr: 0.048779  loss: 0.095215  eta: 0h16m  tot: 0h0m25s  (2.5%)\rEpoch: 12.5%  lr: 0.048769  loss: 0.094904  eta: 0h16m  tot: 0h0m26s  (2.5%)\rEpoch: 12.6%  lr: 0.048759  loss: 0.094726  eta: 0h16m  tot: 0h0m26s  (2.5%)\rEpoch: 12.7%  lr: 0.048749  loss: 0.094523  eta: 0h16m  tot: 0h0m26s  (2.5%)\rEpoch: 12.8%  lr: 0.048739  loss: 0.094213  eta: 0h16m  tot: 0h0m26s  (2.6%)\rEpoch: 12.9%  lr: 0.048739  loss: 0.093902  eta: 0h16m  tot: 0h0m26s  (2.6%)\rEpoch: 13.0%  lr: 0.048729  loss: 0.093823  eta: 0h16m  tot: 0h0m27s  (2.6%)\rEpoch: 13.1%  lr: 0.048709  loss: 0.093679  eta: 0h16m  tot: 0h0m27s  (2.6%)\rEpoch: 13.1%  lr: 0.048709  loss: 0.093339  eta: 0h16m  tot: 0h0m27s  (2.6%)\rEpoch: 13.2%  lr: 0.048699  loss: 0.093354  eta: 0h16m  tot: 0h0m27s  (2.6%)\rEpoch: 13.3%  lr: 0.048689  loss: 0.093246  eta: 0h16m  tot: 0h0m27s  (2.7%)\rEpoch: 13.4%  lr: 0.048679  loss: 0.093040  eta: 0h16m  tot: 0h0m27s  (2.7%)\rEpoch: 13.5%  lr: 0.048679  loss: 0.092738  eta: 0h16m  tot: 0h0m28s  (2.7%)\rEpoch: 13.6%  lr: 0.048659  loss: 0.092473  eta: 0h16m  tot: 0h0m28s  (2.7%)\rEpoch: 13.7%  lr: 0.048659  loss: 0.092287  eta: 0h16m  tot: 0h0m28s  (2.7%)\rEpoch: 13.8%  lr: 0.048649  loss: 0.092037  eta: 0h16m  tot: 0h0m28s  (2.8%)\rEpoch: 13.9%  lr: 0.048639  loss: 0.091758  eta: 0h16m  tot: 0h0m28s  (2.8%)\rEpoch: 14.0%  lr: 0.048639  loss: 0.091503  eta: 0h16m  tot: 0h0m28s  (2.8%)\rEpoch: 14.0%  lr: 0.048639  loss: 0.091280  eta: 0h16m  tot: 0h0m29s  (2.8%)\rEpoch: 14.1%  lr: 0.048629  loss: 0.091138  eta: 0h16m  tot: 0h0m29s  (2.8%)\rEpoch: 14.2%  lr: 0.048599  loss: 0.090860  eta: 0h16m  tot: 0h0m29s  (2.8%)\rEpoch: 14.3%  lr: 0.048599  loss: 0.090725  eta: 0h16m  tot: 0h0m29s  (2.9%)\rEpoch: 14.4%  lr: 0.048579  loss: 0.090620  eta: 0h16m  tot: 0h0m29s  (2.9%)\rEpoch: 14.5%  lr: 0.048579  loss: 0.090443  eta: 0h16m  tot: 0h0m30s  (2.9%)\rEpoch: 14.6%  lr: 0.048579  loss: 0.090307  eta: 0h16m  tot: 0h0m30s  (2.9%)\rEpoch: 14.7%  lr: 0.048579  loss: 0.089980  eta: 0h16m  tot: 0h0m30s  (2.9%)\rEpoch: 14.8%  lr: 0.048569  loss: 0.089742  eta: 0h16m  tot: 0h0m30s  (3.0%)\rEpoch: 14.9%  lr: 0.048569  loss: 0.089626  eta: 0h16m  tot: 0h0m30s  (3.0%)\rEpoch: 14.9%  lr: 0.048559  loss: 0.089371  eta: 0h16m  tot: 0h0m30s  (3.0%)\rEpoch: 15.0%  lr: 0.048519  loss: 0.089266  eta: 0h16m  tot: 0h0m31s  (3.0%)\rEpoch: 15.1%  lr: 0.048509  loss: 0.089048  eta: 0h16m  tot: 0h0m31s  (3.0%)\rEpoch: 15.2%  lr: 0.048499  loss: 0.088820  eta: 0h16m  tot: 0h0m31s  (3.0%)\rEpoch: 15.3%  lr: 0.048489  loss: 0.088460  eta: 0h16m  tot: 0h0m31s  (3.1%)\rEpoch: 15.4%  lr: 0.048479  loss: 0.088293  eta: 0h16m  tot: 0h0m31s  (3.1%)\rEpoch: 15.5%  lr: 0.048468  loss: 0.088131  eta: 0h16m  tot: 0h0m31s  (3.1%)\rEpoch: 15.6%  lr: 0.048458  loss: 0.088037  eta: 0h16m  tot: 0h0m32s  (3.1%)\rEpoch: 15.7%  lr: 0.048448  loss: 0.087742  eta: 0h16m  tot: 0h0m32s  (3.1%)\rEpoch: 15.8%  lr: 0.048448  loss: 0.087551  eta: 0h16m  tot: 0h0m32s  (3.2%)\rEpoch: 15.8%  lr: 0.048448  loss: 0.087324  eta: 0h16m  tot: 0h0m32s  (3.2%)\rEpoch: 15.9%  lr: 0.048418  loss: 0.087058  eta: 0h16m  tot: 0h0m32s  (3.2%)\rEpoch: 16.0%  lr: 0.048408  loss: 0.086943  eta: 0h16m  tot: 0h0m32s  (3.2%)\rEpoch: 16.1%  lr: 0.048398  loss: 0.086694  eta: 0h16m  tot: 0h0m33s  (3.2%)\rEpoch: 16.2%  lr: 0.048358  loss: 0.086470  eta: 0h16m  tot: 0h0m33s  (3.2%)\rEpoch: 16.3%  lr: 0.048328  loss: 0.086230  eta: 0h16m  tot: 0h0m33s  (3.3%)\rEpoch: 16.4%  lr: 0.048318  loss: 0.085976  eta: 0h16m  tot: 0h0m33s  (3.3%)\rEpoch: 16.5%  lr: 0.048308  loss: 0.085824  eta: 0h16m  tot: 0h0m33s  (3.3%)\rEpoch: 16.6%  lr: 0.048308  loss: 0.085586  eta: 0h16m  tot: 0h0m33s  (3.3%)\rEpoch: 16.7%  lr: 0.048278  loss: 0.085412  eta: 0h16m  tot: 0h0m34s  (3.3%)\rEpoch: 16.7%  lr: 0.048268  loss: 0.085311  eta: 0h16m  tot: 0h0m34s  (3.3%)\rEpoch: 16.8%  lr: 0.048258  loss: 0.085093  eta: 0h16m  tot: 0h0m34s  (3.4%)\rEpoch: 16.9%  lr: 0.048258  loss: 0.084830  eta: 0h16m  tot: 0h0m34s  (3.4%)\rEpoch: 17.0%  lr: 0.048258  loss: 0.084670  eta: 0h16m  tot: 0h0m34s  (3.4%)\rEpoch: 17.1%  lr: 0.048258  loss: 0.084549  eta: 0h16m  tot: 0h0m34s  (3.4%)\rEpoch: 17.2%  lr: 0.048248  loss: 0.084232  eta: 0h16m  tot: 0h0m35s  (3.4%)\rEpoch: 17.3%  lr: 0.048248  loss: 0.084115  eta: 0h16m  tot: 0h0m35s  (3.5%)\rEpoch: 17.4%  lr: 0.048248  loss: 0.084101  eta: 0h16m  tot: 0h0m35s  (3.5%)\rEpoch: 17.5%  lr: 0.048248  loss: 0.083875  eta: 0h16m  tot: 0h0m35s  (3.5%)\rEpoch: 17.6%  lr: 0.048238  loss: 0.083610  eta: 0h16m  tot: 0h0m35s  (3.5%)\rEpoch: 17.6%  lr: 0.048218  loss: 0.083487  eta: 0h16m  tot: 0h0m36s  (3.5%)\rEpoch: 17.7%  lr: 0.048208  loss: 0.083282  eta: 0h16m  tot: 0h0m36s  (3.5%)\rEpoch: 17.8%  lr: 0.048198  loss: 0.083057  eta: 0h16m  tot: 0h0m36s  (3.6%)\rEpoch: 17.9%  lr: 0.048178  loss: 0.082843  eta: 0h16m  tot: 0h0m36s  (3.6%)\rEpoch: 18.0%  lr: 0.048168  loss: 0.082531  eta: 0h16m  tot: 0h0m36s  (3.6%)\rEpoch: 18.1%  lr: 0.048148  loss: 0.082316  eta: 0h16m  tot: 0h0m36s  (3.6%)\rEpoch: 18.2%  lr: 0.048138  loss: 0.082211  eta: 0h16m  tot: 0h0m37s  (3.6%)\rEpoch: 18.3%  lr: 0.048128  loss: 0.082104  eta: 0h16m  tot: 0h0m37s  (3.7%)\rEpoch: 18.4%  lr: 0.048118  loss: 0.081962  eta: 0h16m  tot: 0h0m37s  (3.7%)\rEpoch: 18.5%  lr: 0.048118  loss: 0.081765  eta: 0h16m  tot: 0h0m37s  (3.7%)\rEpoch: 18.5%  lr: 0.048108  loss: 0.081557  eta: 0h16m  tot: 0h0m37s  (3.7%)\rEpoch: 18.6%  lr: 0.048088  loss: 0.081383  eta: 0h16m  tot: 0h0m37s  (3.7%)\rEpoch: 18.7%  lr: 0.048078  loss: 0.081133  eta: 0h16m  tot: 0h0m38s  (3.7%)\rEpoch: 18.8%  lr: 0.048078  loss: 0.081043  eta: 0h16m  tot: 0h0m38s  (3.8%)\rEpoch: 18.9%  lr: 0.048078  loss: 0.080938  eta: 0h16m  tot: 0h0m38s  (3.8%)\rEpoch: 19.0%  lr: 0.048068  loss: 0.080778  eta: 0h16m  tot: 0h0m38s  (3.8%)\rEpoch: 19.1%  lr: 0.048068  loss: 0.080795  eta: 0h16m  tot: 0h0m38s  (3.8%)\rEpoch: 19.2%  lr: 0.048068  loss: 0.080689  eta: 0h16m  tot: 0h0m38s  (3.8%)\rEpoch: 19.3%  lr: 0.048058  loss: 0.080556  eta: 0h16m  tot: 0h0m39s  (3.9%)\rEpoch: 19.4%  lr: 0.048058  loss: 0.080358  eta: 0h16m  tot: 0h0m39s  (3.9%)\rEpoch: 19.4%  lr: 0.048038  loss: 0.080308  eta: 0h16m  tot: 0h0m39s  (3.9%)\rEpoch: 19.5%  lr: 0.048038  loss: 0.080143  eta: 0h16m  tot: 0h0m39s  (3.9%)\rEpoch: 19.6%  lr: 0.048038  loss: 0.079994  eta: 0h16m  tot: 0h0m39s  (3.9%)\rEpoch: 19.7%  lr: 0.048038  loss: 0.079970  eta: 0h16m  tot: 0h0m40s  (3.9%)\rEpoch: 19.8%  lr: 0.048028  loss: 0.079937  eta: 0h16m  tot: 0h0m40s  (4.0%)\rEpoch: 19.9%  lr: 0.048018  loss: 0.079822  eta: 0h16m  tot: 0h0m40s  (4.0%)\rEpoch: 20.0%  lr: 0.048008  loss: 0.079678  eta: 0h16m  tot: 0h0m40s  (4.0%)\rEpoch: 20.1%  lr: 0.047998  loss: 0.079472  eta: 0h16m  tot: 0h0m40s  (4.0%)\rEpoch: 20.2%  lr: 0.047978  loss: 0.079450  eta: 0h16m  tot: 0h0m40s  (4.0%)\rEpoch: 20.3%  lr: 0.047978  loss: 0.079147  eta: 0h16m  tot: 0h0m41s  (4.1%)\rEpoch: 20.3%  lr: 0.047978  loss: 0.078948  eta: 0h16m  tot: 0h0m41s  (4.1%)\rEpoch: 20.4%  lr: 0.047968  loss: 0.078839  eta: 0h16m  tot: 0h0m41s  (4.1%)\rEpoch: 20.5%  lr: 0.047958  loss: 0.078819  eta: 0h16m  tot: 0h0m41s  (4.1%)\rEpoch: 20.6%  lr: 0.047948  loss: 0.078681  eta: 0h16m  tot: 0h0m41s  (4.1%)\rEpoch: 20.7%  lr: 0.047948  loss: 0.078604  eta: 0h16m  tot: 0h0m41s  (4.1%)\rEpoch: 20.8%  lr: 0.047938  loss: 0.078448  eta: 0h16m  tot: 0h0m42s  (4.2%)\rEpoch: 20.9%  lr: 0.047928  loss: 0.078244  eta: 0h16m  tot: 0h0m42s  (4.2%)\rEpoch: 21.0%  lr: 0.047928  loss: 0.078028  eta: 0h16m  tot: 0h0m42s  (4.2%)\rEpoch: 21.1%  lr: 0.047928  loss: 0.077843  eta: 0h16m  tot: 0h0m42s  (4.2%)\rEpoch: 21.2%  lr: 0.047928  loss: 0.077731  eta: 0h16m  tot: 0h0m42s  (4.2%)\rEpoch: 21.2%  lr: 0.047918  loss: 0.077666  eta: 0h16m  tot: 0h0m43s  (4.2%)\rEpoch: 21.3%  lr: 0.047918  loss: 0.077516  eta: 0h16m  tot: 0h0m43s  (4.3%)\rEpoch: 21.4%  lr: 0.047918  loss: 0.077368  eta: 0h16m  tot: 0h0m43s  (4.3%)\rEpoch: 21.5%  lr: 0.047908  loss: 0.077143  eta: 0h16m  tot: 0h0m43s  (4.3%)\rEpoch: 21.6%  lr: 0.047888  loss: 0.077025  eta: 0h16m  tot: 0h0m43s  (4.3%)\rEpoch: 21.7%  lr: 0.047858  loss: 0.076846  eta: 0h16m  tot: 0h0m43s  (4.3%)\rEpoch: 21.8%  lr: 0.047848  loss: 0.076699  eta: 0h16m  tot: 0h0m44s  (4.4%)\rEpoch: 21.9%  lr: 0.047848  loss: 0.076507  eta: 0h16m  tot: 0h0m44s  (4.4%)\rEpoch: 22.0%  lr: 0.047838  loss: 0.076386  eta: 0h16m  tot: 0h0m44s  (4.4%)\rEpoch: 22.1%  lr: 0.047808  loss: 0.076311  eta: 0h16m  tot: 0h0m44s  (4.4%)\rEpoch: 22.1%  lr: 0.047808  loss: 0.076076  eta: 0h16m  tot: 0h0m44s  (4.4%)\rEpoch: 22.2%  lr: 0.047808  loss: 0.075982  eta: 0h16m  tot: 0h0m44s  (4.4%)\rEpoch: 22.3%  lr: 0.047808  loss: 0.075882  eta: 0h16m  tot: 0h0m45s  (4.5%)\rEpoch: 22.4%  lr: 0.047778  loss: 0.075688  eta: 0h16m  tot: 0h0m45s  (4.5%)\rEpoch: 22.5%  lr: 0.047768  loss: 0.075622  eta: 0h16m  tot: 0h0m45s  (4.5%)\rEpoch: 22.6%  lr: 0.047758  loss: 0.075560  eta: 0h16m  tot: 0h0m45s  (4.5%)\rEpoch: 22.7%  lr: 0.047758  loss: 0.075377  eta: 0h16m  tot: 0h0m45s  (4.5%)\rEpoch: 22.8%  lr: 0.047748  loss: 0.075323  eta: 0h16m  tot: 0h0m45s  (4.6%)\rEpoch: 22.9%  lr: 0.047738  loss: 0.075263  eta: 0h16m  tot: 0h0m46s  (4.6%)\rEpoch: 23.0%  lr: 0.047738  loss: 0.075144  eta: 0h16m  tot: 0h0m46s  (4.6%)\rEpoch: 23.0%  lr: 0.047738  loss: 0.075178  eta: 0h16m  tot: 0h0m46s  (4.6%)\rEpoch: 23.1%  lr: 0.047738  loss: 0.075013  eta: 0h16m  tot: 0h0m46s  (4.6%)\rEpoch: 23.2%  lr: 0.047738  loss: 0.074867  eta: 0h15m  tot: 0h0m46s  (4.6%)\rEpoch: 23.3%  lr: 0.047738  loss: 0.074736  eta: 0h15m  tot: 0h0m46s  (4.7%)\rEpoch: 23.4%  lr: 0.047698  loss: 0.074642  eta: 0h15m  tot: 0h0m47s  (4.7%)\rEpoch: 23.5%  lr: 0.047658  loss: 0.074509  eta: 0h15m  tot: 0h0m47s  (4.7%)\rEpoch: 23.6%  lr: 0.047658  loss: 0.074378  eta: 0h15m  tot: 0h0m47s  (4.7%)\rEpoch: 23.7%  lr: 0.047658  loss: 0.074266  eta: 0h15m  tot: 0h0m47s  (4.7%)\rEpoch: 23.8%  lr: 0.047658  loss: 0.074094  eta: 0h15m  tot: 0h0m47s  (4.8%)\rEpoch: 23.9%  lr: 0.047648  loss: 0.073973  eta: 0h15m  tot: 0h0m47s  (4.8%)\rEpoch: 23.9%  lr: 0.047628  loss: 0.073776  eta: 0h15m  tot: 0h0m48s  (4.8%)\rEpoch: 24.0%  lr: 0.047618  loss: 0.073808  eta: 0h15m  tot: 0h0m48s  (4.8%)\rEpoch: 24.1%  lr: 0.047608  loss: 0.073619  eta: 0h15m  tot: 0h0m48s  (4.8%)\rEpoch: 24.2%  lr: 0.047588  loss: 0.073590  eta: 0h15m  tot: 0h0m48s  (4.8%)\rEpoch: 24.3%  lr: 0.047588  loss: 0.073505  eta: 0h15m  tot: 0h0m48s  (4.9%)\rEpoch: 24.4%  lr: 0.047588  loss: 0.073364  eta: 0h15m  tot: 0h0m48s  (4.9%)\rEpoch: 24.5%  lr: 0.047588  loss: 0.073295  eta: 0h15m  tot: 0h0m49s  (4.9%)\rEpoch: 24.6%  lr: 0.047568  loss: 0.073197  eta: 0h15m  tot: 0h0m49s  (4.9%)\rEpoch: 24.7%  lr: 0.047568  loss: 0.073203  eta: 0h15m  tot: 0h0m49s  (4.9%)\rEpoch: 24.8%  lr: 0.047568  loss: 0.073020  eta: 0h15m  tot: 0h0m49s  (5.0%)\rEpoch: 24.8%  lr: 0.047558  loss: 0.072941  eta: 0h15m  tot: 0h0m49s  (5.0%)\rEpoch: 24.9%  lr: 0.047548  loss: 0.072740  eta: 0h15m  tot: 0h0m50s  (5.0%)\rEpoch: 25.0%  lr: 0.047538  loss: 0.072605  eta: 0h15m  tot: 0h0m50s  (5.0%)\rEpoch: 25.1%  lr: 0.047518  loss: 0.072514  eta: 0h15m  tot: 0h0m50s  (5.0%)\rEpoch: 25.2%  lr: 0.047518  loss: 0.072400  eta: 0h15m  tot: 0h0m50s  (5.0%)\rEpoch: 25.3%  lr: 0.047508  loss: 0.072266  eta: 0h15m  tot: 0h0m50s  (5.1%)\rEpoch: 25.4%  lr: 0.047508  loss: 0.072107  eta: 0h15m  tot: 0h0m50s  (5.1%)\rEpoch: 25.5%  lr: 0.047488  loss: 0.072034  eta: 0h15m  tot: 0h0m51s  (5.1%)\rEpoch: 25.6%  lr: 0.047488  loss: 0.071912  eta: 0h15m  tot: 0h0m51s  (5.1%)\rEpoch: 25.7%  lr: 0.047478  loss: 0.071798  eta: 0h15m  tot: 0h0m51s  (5.1%)\rEpoch: 25.7%  lr: 0.047468  loss: 0.071780  eta: 0h15m  tot: 0h0m51s  (5.1%)\rEpoch: 25.8%  lr: 0.047468  loss: 0.071633  eta: 0h15m  tot: 0h0m51s  (5.2%)\rEpoch: 25.9%  lr: 0.047457  loss: 0.071591  eta: 0h15m  tot: 0h0m51s  (5.2%)\rEpoch: 26.0%  lr: 0.047427  loss: 0.071506  eta: 0h15m  tot: 0h0m52s  (5.2%)\rEpoch: 26.1%  lr: 0.047427  loss: 0.071432  eta: 0h15m  tot: 0h0m52s  (5.2%)\rEpoch: 26.2%  lr: 0.047427  loss: 0.071301  eta: 0h15m  tot: 0h0m52s  (5.2%)\rEpoch: 26.3%  lr: 0.047427  loss: 0.071204  eta: 0h15m  tot: 0h0m52s  (5.3%)\rEpoch: 26.4%  lr: 0.047407  loss: 0.071078  eta: 0h15m  tot: 0h0m52s  (5.3%)\rEpoch: 26.5%  lr: 0.047397  loss: 0.070936  eta: 0h15m  tot: 0h0m52s  (5.3%)\rEpoch: 26.6%  lr: 0.047397  loss: 0.070786  eta: 0h15m  tot: 0h0m53s  (5.3%)\rEpoch: 26.6%  lr: 0.047397  loss: 0.070690  eta: 0h15m  tot: 0h0m53s  (5.3%)\rEpoch: 26.7%  lr: 0.047397  loss: 0.070618  eta: 0h15m  tot: 0h0m53s  (5.3%)\rEpoch: 26.8%  lr: 0.047377  loss: 0.070589  eta: 0h15m  tot: 0h0m53s  (5.4%)\rEpoch: 26.9%  lr: 0.047377  loss: 0.070478  eta: 0h15m  tot: 0h0m53s  (5.4%)\rEpoch: 27.0%  lr: 0.047377  loss: 0.070396  eta: 0h15m  tot: 0h0m53s  (5.4%)\rEpoch: 27.1%  lr: 0.047377  loss: 0.070267  eta: 0h15m  tot: 0h0m54s  (5.4%)\rEpoch: 27.2%  lr: 0.047377  loss: 0.070194  eta: 0h15m  tot: 0h0m54s  (5.4%)\rEpoch: 27.3%  lr: 0.047367  loss: 0.070125  eta: 0h15m  tot: 0h0m54s  (5.5%)\rEpoch: 27.4%  lr: 0.047337  loss: 0.070007  eta: 0h15m  tot: 0h0m54s  (5.5%)\rEpoch: 27.5%  lr: 0.047337  loss: 0.069847  eta: 0h15m  tot: 0h0m54s  (5.5%)\rEpoch: 27.5%  lr: 0.047337  loss: 0.069805  eta: 0h15m  tot: 0h0m54s  (5.5%)\rEpoch: 27.6%  lr: 0.047327  loss: 0.069770  eta: 0h15m  tot: 0h0m55s  (5.5%)\rEpoch: 27.7%  lr: 0.047327  loss: 0.069642  eta: 0h15m  tot: 0h0m55s  (5.5%)\rEpoch: 27.8%  lr: 0.047307  loss: 0.069514  eta: 0h15m  tot: 0h0m55s  (5.6%)\rEpoch: 27.9%  lr: 0.047307  loss: 0.069443  eta: 0h15m  tot: 0h0m55s  (5.6%)\rEpoch: 28.0%  lr: 0.047297  loss: 0.069334  eta: 0h15m  tot: 0h0m55s  (5.6%)\rEpoch: 28.1%  lr: 0.047277  loss: 0.069308  eta: 0h15m  tot: 0h0m55s  (5.6%)\rEpoch: 28.2%  lr: 0.047257  loss: 0.069192  eta: 0h15m  tot: 0h0m56s  (5.6%)\rEpoch: 28.3%  lr: 0.047247  loss: 0.069062  eta: 0h15m  tot: 0h0m56s  (5.7%)\rEpoch: 28.4%  lr: 0.047237  loss: 0.068979  eta: 0h15m  tot: 0h0m56s  (5.7%)\rEpoch: 28.4%  lr: 0.047227  loss: 0.068925  eta: 0h15m  tot: 0h0m56s  (5.7%)\rEpoch: 28.5%  lr: 0.047227  loss: 0.068866  eta: 0h15m  tot: 0h0m56s  (5.7%)\rEpoch: 28.6%  lr: 0.047207  loss: 0.068811  eta: 0h15m  tot: 0h0m57s  (5.7%)\rEpoch: 28.7%  lr: 0.047197  loss: 0.068785  eta: 0h15m  tot: 0h0m57s  (5.7%)\rEpoch: 28.8%  lr: 0.047197  loss: 0.068753  eta: 0h15m  tot: 0h0m57s  (5.8%)\rEpoch: 28.9%  lr: 0.047187  loss: 0.068793  eta: 0h15m  tot: 0h0m57s  (5.8%)\rEpoch: 29.0%  lr: 0.047187  loss: 0.068689  eta: 0h15m  tot: 0h0m57s  (5.8%)\rEpoch: 29.1%  lr: 0.047187  loss: 0.068599  eta: 0h15m  tot: 0h0m57s  (5.8%)\rEpoch: 29.2%  lr: 0.047177  loss: 0.068476  eta: 0h15m  tot: 0h0m58s  (5.8%)\rEpoch: 29.3%  lr: 0.047177  loss: 0.068400  eta: 0h15m  tot: 0h0m58s  (5.9%)\rEpoch: 29.3%  lr: 0.047167  loss: 0.068427  eta: 0h15m  tot: 0h0m58s  (5.9%)\rEpoch: 29.4%  lr: 0.047157  loss: 0.068387  eta: 0h15m  tot: 0h0m58s  (5.9%)\rEpoch: 29.5%  lr: 0.047157  loss: 0.068328  eta: 0h15m  tot: 0h0m58s  (5.9%)\rEpoch: 29.6%  lr: 0.047157  loss: 0.068253  eta: 0h15m  tot: 0h0m58s  (5.9%)\rEpoch: 29.7%  lr: 0.047137  loss: 0.068178  eta: 0h15m  tot: 0h0m59s  (5.9%)\rEpoch: 29.8%  lr: 0.047117  loss: 0.068101  eta: 0h15m  tot: 0h0m59s  (6.0%)\rEpoch: 29.9%  lr: 0.047117  loss: 0.068022  eta: 0h15m  tot: 0h0m59s  (6.0%)\rEpoch: 30.0%  lr: 0.047107  loss: 0.067989  eta: 0h15m  tot: 0h0m59s  (6.0%)\rEpoch: 30.1%  lr: 0.047107  loss: 0.067920  eta: 0h15m  tot: 0h0m59s  (6.0%)\rEpoch: 30.2%  lr: 0.047107  loss: 0.067794  eta: 0h15m  tot: 0h0m59s  (6.0%)\rEpoch: 30.2%  lr: 0.047097  loss: 0.067710  eta: 0h15m  tot: 0h1m0s  (6.0%)\rEpoch: 30.3%  lr: 0.047097  loss: 0.067686  eta: 0h15m  tot: 0h1m0s  (6.1%)\rEpoch: 30.4%  lr: 0.047087  loss: 0.067686  eta: 0h15m  tot: 0h1m0s  (6.1%)\rEpoch: 30.5%  lr: 0.047087  loss: 0.067529  eta: 0h15m  tot: 0h1m0s  (6.1%)\rEpoch: 30.6%  lr: 0.047087  loss: 0.067416  eta: 0h15m  tot: 0h1m0s  (6.1%)\rEpoch: 30.7%  lr: 0.047077  loss: 0.067397  eta: 0h15m  tot: 0h1m0s  (6.1%)\rEpoch: 30.8%  lr: 0.047077  loss: 0.067318  eta: 0h15m  tot: 0h1m1s  (6.2%)\rEpoch: 30.9%  lr: 0.047077  loss: 0.067207  eta: 0h15m  tot: 0h1m1s  (6.2%)\rEpoch: 31.0%  lr: 0.047067  loss: 0.067098  eta: 0h15m  tot: 0h1m1s  (6.2%)\rEpoch: 31.1%  lr: 0.047067  loss: 0.066986  eta: 0h15m  tot: 0h1m1s  (6.2%)\rEpoch: 31.1%  lr: 0.047057  loss: 0.066923  eta: 0h15m  tot: 0h1m1s  (6.2%)\rEpoch: 31.2%  lr: 0.047047  loss: 0.066792  eta: 0h15m  tot: 0h1m1s  (6.2%)\rEpoch: 31.3%  lr: 0.047037  loss: 0.066711  eta: 0h15m  tot: 0h1m2s  (6.3%)\rEpoch: 31.4%  lr: 0.047027  loss: 0.066576  eta: 0h15m  tot: 0h1m2s  (6.3%)\rEpoch: 31.5%  lr: 0.047007  loss: 0.066555  eta: 0h15m  tot: 0h1m2s  (6.3%)\rEpoch: 31.6%  lr: 0.047007  loss: 0.066441  eta: 0h15m  tot: 0h1m2s  (6.3%)\rEpoch: 31.7%  lr: 0.047007  loss: 0.066411  eta: 0h15m  tot: 0h1m2s  (6.3%)\rEpoch: 31.8%  lr: 0.047007  loss: 0.066335  eta: 0h15m  tot: 0h1m3s  (6.4%)\rEpoch: 31.9%  lr: 0.046997  loss: 0.066218  eta: 0h15m  tot: 0h1m3s  (6.4%)\rEpoch: 32.0%  lr: 0.046997  loss: 0.066091  eta: 0h15m  tot: 0h1m3s  (6.4%)\rEpoch: 32.0%  lr: 0.046997  loss: 0.066056  eta: 0h15m  tot: 0h1m3s  (6.4%)\rEpoch: 32.1%  lr: 0.046977  loss: 0.066007  eta: 0h15m  tot: 0h1m3s  (6.4%)\rEpoch: 32.2%  lr: 0.046977  loss: 0.065965  eta: 0h15m  tot: 0h1m3s  (6.4%)\rEpoch: 32.3%  lr: 0.046957  loss: 0.065879  eta: 0h15m  tot: 0h1m4s  (6.5%)\rEpoch: 32.4%  lr: 0.046957  loss: 0.065782  eta: 0h15m  tot: 0h1m4s  (6.5%)\rEpoch: 32.5%  lr: 0.046947  loss: 0.065715  eta: 0h15m  tot: 0h1m4s  (6.5%)\rEpoch: 32.6%  lr: 0.046947  loss: 0.065633  eta: 0h15m  tot: 0h1m4s  (6.5%)\rEpoch: 32.7%  lr: 0.046947  loss: 0.065568  eta: 0h15m  tot: 0h1m4s  (6.5%)\rEpoch: 32.8%  lr: 0.046947  loss: 0.065459  eta: 0h15m  tot: 0h1m4s  (6.6%)\rEpoch: 32.9%  lr: 0.046947  loss: 0.065461  eta: 0h15m  tot: 0h1m5s  (6.6%)\rEpoch: 32.9%  lr: 0.046947  loss: 0.065333  eta: 0h15m  tot: 0h1m5s  (6.6%)\rEpoch: 33.0%  lr: 0.046937  loss: 0.065246  eta: 0h15m  tot: 0h1m5s  (6.6%)\rEpoch: 33.1%  lr: 0.046937  loss: 0.065189  eta: 0h15m  tot: 0h1m5s  (6.6%)\rEpoch: 33.2%  lr: 0.046937  loss: 0.065148  eta: 0h15m  tot: 0h1m5s  (6.6%)\rEpoch: 33.3%  lr: 0.046927  loss: 0.065081  eta: 0h15m  tot: 0h1m5s  (6.7%)\rEpoch: 33.4%  lr: 0.046927  loss: 0.064987  eta: 0h15m  tot: 0h1m6s  (6.7%)\rEpoch: 33.5%  lr: 0.046917  loss: 0.064864  eta: 0h15m  tot: 0h1m6s  (6.7%)\rEpoch: 33.6%  lr: 0.046907  loss: 0.064840  eta: 0h15m  tot: 0h1m6s  (6.7%)\rEpoch: 33.7%  lr: 0.046887  loss: 0.064772  eta: 0h15m  tot: 0h1m6s  (6.7%)\rEpoch: 33.8%  lr: 0.046887  loss: 0.064749  eta: 0h15m  tot: 0h1m6s  (6.8%)\rEpoch: 33.8%  lr: 0.046877  loss: 0.064769  eta: 0h15m  tot: 0h1m6s  (6.8%)\rEpoch: 33.9%  lr: 0.046877  loss: 0.064710  eta: 0h15m  tot: 0h1m7s  (6.8%)\rEpoch: 34.0%  lr: 0.046867  loss: 0.064703  eta: 0h15m  tot: 0h1m7s  (6.8%)\rEpoch: 34.1%  lr: 0.046867  loss: 0.064659  eta: 0h15m  tot: 0h1m7s  (6.8%)\rEpoch: 34.2%  lr: 0.046857  loss: 0.064616  eta: 0h15m  tot: 0h1m7s  (6.8%)\rEpoch: 34.3%  lr: 0.046847  loss: 0.064589  eta: 0h15m  tot: 0h1m7s  (6.9%)\rEpoch: 34.4%  lr: 0.046817  loss: 0.064501  eta: 0h15m  tot: 0h1m7s  (6.9%)\rEpoch: 34.5%  lr: 0.046807  loss: 0.064424  eta: 0h15m  tot: 0h1m8s  (6.9%)\rEpoch: 34.6%  lr: 0.046787  loss: 0.064383  eta: 0h15m  tot: 0h1m8s  (6.9%)\rEpoch: 34.7%  lr: 0.046777  loss: 0.064292  eta: 0h15m  tot: 0h1m8s  (6.9%)\rEpoch: 34.7%  lr: 0.046757  loss: 0.064250  eta: 0h15m  tot: 0h1m8s  (6.9%)\rEpoch: 34.8%  lr: 0.046747  loss: 0.064163  eta: 0h15m  tot: 0h1m8s  (7.0%)\rEpoch: 34.9%  lr: 0.046737  loss: 0.064084  eta: 0h15m  tot: 0h1m8s  (7.0%)\rEpoch: 35.0%  lr: 0.046727  loss: 0.064059  eta: 0h15m  tot: 0h1m9s  (7.0%)\rEpoch: 35.1%  lr: 0.046717  loss: 0.064007  eta: 0h15m  tot: 0h1m9s  (7.0%)\rEpoch: 35.2%  lr: 0.046707  loss: 0.063934  eta: 0h15m  tot: 0h1m9s  (7.0%)\rEpoch: 35.3%  lr: 0.046707  loss: 0.063865  eta: 0h15m  tot: 0h1m9s  (7.1%)\rEpoch: 35.4%  lr: 0.046707  loss: 0.063761  eta: 0h15m  tot: 0h1m9s  (7.1%)\rEpoch: 35.5%  lr: 0.046677  loss: 0.063647  eta: 0h15m  tot: 0h1m10s  (7.1%)\rEpoch: 35.6%  lr: 0.046647  loss: 0.063586  eta: 0h15m  tot: 0h1m10s  (7.1%)\rEpoch: 35.6%  lr: 0.046637  loss: 0.063509  eta: 0h15m  tot: 0h1m10s  (7.1%)\rEpoch: 35.7%  lr: 0.046627  loss: 0.063501  eta: 0h15m  tot: 0h1m10s  (7.1%)\rEpoch: 35.8%  lr: 0.046627  loss: 0.063421  eta: 0h15m  tot: 0h1m10s  (7.2%)\rEpoch: 35.9%  lr: 0.046627  loss: 0.063345  eta: 0h15m  tot: 0h1m10s  (7.2%)\rEpoch: 36.0%  lr: 0.046627  loss: 0.063290  eta: 0h15m  tot: 0h1m11s  (7.2%)\rEpoch: 36.1%  lr: 0.046607  loss: 0.063233  eta: 0h15m  tot: 0h1m11s  (7.2%)\rEpoch: 36.2%  lr: 0.046587  loss: 0.063216  eta: 0h15m  tot: 0h1m11s  (7.2%)\rEpoch: 36.3%  lr: 0.046567  loss: 0.063178  eta: 0h15m  tot: 0h1m11s  (7.3%)\rEpoch: 36.4%  lr: 0.046557  loss: 0.063125  eta: 0h15m  tot: 0h1m11s  (7.3%)\rEpoch: 36.5%  lr: 0.046557  loss: 0.063058  eta: 0h15m  tot: 0h1m11s  (7.3%)\rEpoch: 36.5%  lr: 0.046547  loss: 0.063012  eta: 0h15m  tot: 0h1m12s  (7.3%)\rEpoch: 36.6%  lr: 0.046537  loss: 0.062981  eta: 0h15m  tot: 0h1m12s  (7.3%)\rEpoch: 36.7%  lr: 0.046517  loss: 0.062909  eta: 0h15m  tot: 0h1m12s  (7.3%)\rEpoch: 36.8%  lr: 0.046507  loss: 0.062795  eta: 0h15m  tot: 0h1m12s  (7.4%)\rEpoch: 36.9%  lr: 0.046497  loss: 0.062712  eta: 0h15m  tot: 0h1m12s  (7.4%)\rEpoch: 37.0%  lr: 0.046497  loss: 0.062662  eta: 0h15m  tot: 0h1m12s  (7.4%)\rEpoch: 37.1%  lr: 0.046497  loss: 0.062597  eta: 0h15m  tot: 0h1m13s  (7.4%)\rEpoch: 37.2%  lr: 0.046487  loss: 0.062544  eta: 0h15m  tot: 0h1m13s  (7.4%)\rEpoch: 37.3%  lr: 0.046477  loss: 0.062491  eta: 0h15m  tot: 0h1m13s  (7.5%)\rEpoch: 37.4%  lr: 0.046477  loss: 0.062436  eta: 0h15m  tot: 0h1m13s  (7.5%)\rEpoch: 37.4%  lr: 0.046467  loss: 0.062357  eta: 0h15m  tot: 0h1m13s  (7.5%)\rEpoch: 37.5%  lr: 0.046467  loss: 0.062312  eta: 0h15m  tot: 0h1m13s  (7.5%)\rEpoch: 37.6%  lr: 0.046447  loss: 0.062331  eta: 0h15m  tot: 0h1m14s  (7.5%)\rEpoch: 37.7%  lr: 0.046436  loss: 0.062291  eta: 0h15m  tot: 0h1m14s  (7.5%)\rEpoch: 37.8%  lr: 0.046416  loss: 0.062262  eta: 0h15m  tot: 0h1m14s  (7.6%)\rEpoch: 37.9%  lr: 0.046416  loss: 0.062215  eta: 0h15m  tot: 0h1m14s  (7.6%)\rEpoch: 38.0%  lr: 0.046416  loss: 0.062147  eta: 0h15m  tot: 0h1m14s  (7.6%)\rEpoch: 38.1%  lr: 0.046406  loss: 0.062111  eta: 0h15m  tot: 0h1m14s  (7.6%)\rEpoch: 38.2%  lr: 0.046386  loss: 0.062086  eta: 0h15m  tot: 0h1m15s  (7.6%)\rEpoch: 38.3%  lr: 0.046366  loss: 0.062041  eta: 0h15m  tot: 0h1m15s  (7.7%)\rEpoch: 38.3%  lr: 0.046326  loss: 0.062071  eta: 0h15m  tot: 0h1m15s  (7.7%)\rEpoch: 38.4%  lr: 0.046316  loss: 0.062048  eta: 0h15m  tot: 0h1m15s  (7.7%)\rEpoch: 38.5%  lr: 0.046306  loss: 0.061979  eta: 0h15m  tot: 0h1m15s  (7.7%)\rEpoch: 38.6%  lr: 0.046276  loss: 0.061921  eta: 0h15m  tot: 0h1m15s  (7.7%)\rEpoch: 38.7%  lr: 0.046246  loss: 0.061845  eta: 0h15m  tot: 0h1m16s  (7.7%)\rEpoch: 38.8%  lr: 0.046246  loss: 0.061805  eta: 0h15m  tot: 0h1m16s  (7.8%)\rEpoch: 38.9%  lr: 0.046246  loss: 0.061787  eta: 0h15m  tot: 0h1m16s  (7.8%)\rEpoch: 39.0%  lr: 0.046236  loss: 0.061731  eta: 0h15m  tot: 0h1m16s  (7.8%)\rEpoch: 39.1%  lr: 0.046226  loss: 0.061639  eta: 0h15m  tot: 0h1m16s  (7.8%)\rEpoch: 39.2%  lr: 0.046226  loss: 0.061529  eta: 0h15m  tot: 0h1m17s  (7.8%)\rEpoch: 39.2%  lr: 0.046206  loss: 0.061469  eta: 0h15m  tot: 0h1m17s  (7.8%)\rEpoch: 39.3%  lr: 0.046206  loss: 0.061396  eta: 0h15m  tot: 0h1m17s  (7.9%)\rEpoch: 39.4%  lr: 0.046206  loss: 0.061349  eta: 0h15m  tot: 0h1m17s  (7.9%)\rEpoch: 39.5%  lr: 0.046206  loss: 0.061292  eta: 0h15m  tot: 0h1m17s  (7.9%)\rEpoch: 39.6%  lr: 0.046206  loss: 0.061268  eta: 0h15m  tot: 0h1m17s  (7.9%)\rEpoch: 39.7%  lr: 0.046206  loss: 0.061209  eta: 0h15m  tot: 0h1m18s  (7.9%)\rEpoch: 39.8%  lr: 0.046206  loss: 0.061171  eta: 0h15m  tot: 0h1m18s  (8.0%)\rEpoch: 39.9%  lr: 0.046206  loss: 0.061115  eta: 0h15m  tot: 0h1m18s  (8.0%)\rEpoch: 40.0%  lr: 0.046206  loss: 0.061026  eta: 0h15m  tot: 0h1m18s  (8.0%)\rEpoch: 40.1%  lr: 0.046206  loss: 0.060959  eta: 0h15m  tot: 0h1m18s  (8.0%)\rEpoch: 40.1%  lr: 0.046206  loss: 0.060916  eta: 0h15m  tot: 0h1m18s  (8.0%)\rEpoch: 40.2%  lr: 0.046196  loss: 0.060883  eta: 0h15m  tot: 0h1m19s  (8.0%)\rEpoch: 40.3%  lr: 0.046166  loss: 0.060809  eta: 0h15m  tot: 0h1m19s  (8.1%)\rEpoch: 40.4%  lr: 0.046166  loss: 0.060740  eta: 0h15m  tot: 0h1m19s  (8.1%)\rEpoch: 40.5%  lr: 0.046156  loss: 0.060688  eta: 0h15m  tot: 0h1m19s  (8.1%)\rEpoch: 40.6%  lr: 0.046156  loss: 0.060620  eta: 0h15m  tot: 0h1m19s  (8.1%)\rEpoch: 40.7%  lr: 0.046156  loss: 0.060590  eta: 0h15m  tot: 0h1m19s  (8.1%)\rEpoch: 40.8%  lr: 0.046136  loss: 0.060511  eta: 0h15m  tot: 0h1m20s  (8.2%)\rEpoch: 40.9%  lr: 0.046126  loss: 0.060438  eta: 0h15m  tot: 0h1m20s  (8.2%)\rEpoch: 41.0%  lr: 0.046106  loss: 0.060409  eta: 0h15m  tot: 0h1m20s  (8.2%)\rEpoch: 41.0%  lr: 0.046086  loss: 0.060362  eta: 0h15m  tot: 0h1m20s  (8.2%)\rEpoch: 41.1%  lr: 0.046086  loss: 0.060287  eta: 0h15m  tot: 0h1m20s  (8.2%)\rEpoch: 41.2%  lr: 0.046086  loss: 0.060289  eta: 0h15m  tot: 0h1m20s  (8.2%)\rEpoch: 41.3%  lr: 0.046086  loss: 0.060292  eta: 0h14m  tot: 0h1m21s  (8.3%)\rEpoch: 41.4%  lr: 0.046076  loss: 0.060219  eta: 0h14m  tot: 0h1m21s  (8.3%)\rEpoch: 41.5%  lr: 0.046046  loss: 0.060124  eta: 0h14m  tot: 0h1m21s  (8.3%)\rEpoch: 41.6%  lr: 0.046046  loss: 0.060027  eta: 0h14m  tot: 0h1m21s  (8.3%)\rEpoch: 41.7%  lr: 0.046036  loss: 0.059972  eta: 0h14m  tot: 0h1m21s  (8.3%)\rEpoch: 41.8%  lr: 0.046026  loss: 0.059910  eta: 0h14m  tot: 0h1m21s  (8.4%)\rEpoch: 41.9%  lr: 0.046026  loss: 0.059893  eta: 0h14m  tot: 0h1m22s  (8.4%)\rEpoch: 42.0%  lr: 0.046016  loss: 0.059839  eta: 0h14m  tot: 0h1m22s  (8.4%)\rEpoch: 42.0%  lr: 0.046006  loss: 0.059774  eta: 0h14m  tot: 0h1m22s  (8.4%)\rEpoch: 42.1%  lr: 0.045966  loss: 0.059699  eta: 0h14m  tot: 0h1m22s  (8.4%)\rEpoch: 42.2%  lr: 0.045966  loss: 0.059670  eta: 0h14m  tot: 0h1m22s  (8.4%)\rEpoch: 42.3%  lr: 0.045966  loss: 0.059658  eta: 0h14m  tot: 0h1m22s  (8.5%)\rEpoch: 42.4%  lr: 0.045966  loss: 0.059594  eta: 0h14m  tot: 0h1m23s  (8.5%)\rEpoch: 42.5%  lr: 0.045956  loss: 0.059591  eta: 0h14m  tot: 0h1m23s  (8.5%)\rEpoch: 42.6%  lr: 0.045936  loss: 0.059540  eta: 0h14m  tot: 0h1m23s  (8.5%)\rEpoch: 42.7%  lr: 0.045926  loss: 0.059492  eta: 0h14m  tot: 0h1m23s  (8.5%)\rEpoch: 42.8%  lr: 0.045886  loss: 0.059474  eta: 0h14m  tot: 0h1m23s  (8.6%)\rEpoch: 42.9%  lr: 0.045866  loss: 0.059427  eta: 0h14m  tot: 0h1m23s  (8.6%)\rEpoch: 42.9%  lr: 0.045866  loss: 0.059392  eta: 0h14m  tot: 0h1m24s  (8.6%)\rEpoch: 43.0%  lr: 0.045856  loss: 0.059375  eta: 0h14m  tot: 0h1m24s  (8.6%)\rEpoch: 43.1%  lr: 0.045856  loss: 0.059312  eta: 0h14m  tot: 0h1m24s  (8.6%)\rEpoch: 43.2%  lr: 0.045856  loss: 0.059291  eta: 0h14m  tot: 0h1m24s  (8.6%)\rEpoch: 43.3%  lr: 0.045856  loss: 0.059277  eta: 0h14m  tot: 0h1m24s  (8.7%)\rEpoch: 43.4%  lr: 0.045846  loss: 0.059199  eta: 0h14m  tot: 0h1m24s  (8.7%)\rEpoch: 43.5%  lr: 0.045846  loss: 0.059127  eta: 0h14m  tot: 0h1m25s  (8.7%)\rEpoch: 43.6%  lr: 0.045836  loss: 0.059062  eta: 0h14m  tot: 0h1m25s  (8.7%)\rEpoch: 43.7%  lr: 0.045836  loss: 0.058993  eta: 0h14m  tot: 0h1m25s  (8.7%)\rEpoch: 43.8%  lr: 0.045816  loss: 0.058958  eta: 0h14m  tot: 0h1m25s  (8.8%)\rEpoch: 43.8%  lr: 0.045816  loss: 0.058901  eta: 0h14m  tot: 0h1m25s  (8.8%)\rEpoch: 43.9%  lr: 0.045816  loss: 0.058844  eta: 0h14m  tot: 0h1m25s  (8.8%)\rEpoch: 44.0%  lr: 0.045776  loss: 0.058855  eta: 0h14m  tot: 0h1m26s  (8.8%)\rEpoch: 44.1%  lr: 0.045766  loss: 0.058813  eta: 0h14m  tot: 0h1m26s  (8.8%)\rEpoch: 44.2%  lr: 0.045766  loss: 0.058739  eta: 0h14m  tot: 0h1m26s  (8.8%)\rEpoch: 44.3%  lr: 0.045756  loss: 0.058676  eta: 0h14m  tot: 0h1m26s  (8.9%)\rEpoch: 44.4%  lr: 0.045756  loss: 0.058603  eta: 0h14m  tot: 0h1m26s  (8.9%)\rEpoch: 44.5%  lr: 0.045746  loss: 0.058554  eta: 0h14m  tot: 0h1m26s  (8.9%)\rEpoch: 44.6%  lr: 0.045746  loss: 0.058502  eta: 0h14m  tot: 0h1m27s  (8.9%)\rEpoch: 44.7%  lr: 0.045716  loss: 0.058485  eta: 0h14m  tot: 0h1m27s  (8.9%)\rEpoch: 44.7%  lr: 0.045706  loss: 0.058459  eta: 0h14m  tot: 0h1m27s  (8.9%)\rEpoch: 44.8%  lr: 0.045686  loss: 0.058413  eta: 0h14m  tot: 0h1m27s  (9.0%)\rEpoch: 44.9%  lr: 0.045676  loss: 0.058327  eta: 0h14m  tot: 0h1m27s  (9.0%)\rEpoch: 45.0%  lr: 0.045676  loss: 0.058247  eta: 0h14m  tot: 0h1m28s  (9.0%)\rEpoch: 45.1%  lr: 0.045666  loss: 0.058207  eta: 0h14m  tot: 0h1m28s  (9.0%)\rEpoch: 45.2%  lr: 0.045646  loss: 0.058172  eta: 0h14m  tot: 0h1m28s  (9.0%)\rEpoch: 45.3%  lr: 0.045646  loss: 0.058106  eta: 0h14m  tot: 0h1m28s  (9.1%)\rEpoch: 45.4%  lr: 0.045646  loss: 0.058038  eta: 0h14m  tot: 0h1m28s  (9.1%)\rEpoch: 45.5%  lr: 0.045636  loss: 0.058033  eta: 0h14m  tot: 0h1m28s  (9.1%)\rEpoch: 45.6%  lr: 0.045626  loss: 0.058021  eta: 0h14m  tot: 0h1m29s  (9.1%)\rEpoch: 45.6%  lr: 0.045616  loss: 0.057972  eta: 0h14m  tot: 0h1m29s  (9.1%)\rEpoch: 45.7%  lr: 0.045606  loss: 0.057947  eta: 0h14m  tot: 0h1m29s  (9.1%)\rEpoch: 45.8%  lr: 0.045606  loss: 0.057917  eta: 0h14m  tot: 0h1m29s  (9.2%)\rEpoch: 45.9%  lr: 0.045606  loss: 0.057887  eta: 0h14m  tot: 0h1m29s  (9.2%)\rEpoch: 46.0%  lr: 0.045596  loss: 0.057847  eta: 0h14m  tot: 0h1m29s  (9.2%)\rEpoch: 46.1%  lr: 0.045586  loss: 0.057778  eta: 0h14m  tot: 0h1m30s  (9.2%)\rEpoch: 46.2%  lr: 0.045566  loss: 0.057758  eta: 0h14m  tot: 0h1m30s  (9.2%)\rEpoch: 46.3%  lr: 0.045566  loss: 0.057730  eta: 0h14m  tot: 0h1m30s  (9.3%)\rEpoch: 46.4%  lr: 0.045556  loss: 0.057694  eta: 0h14m  tot: 0h1m30s  (9.3%)\rEpoch: 46.5%  lr: 0.045546  loss: 0.057655  eta: 0h14m  tot: 0h1m30s  (9.3%)\rEpoch: 46.5%  lr: 0.045526  loss: 0.057656  eta: 0h14m  tot: 0h1m30s  (9.3%)\rEpoch: 46.6%  lr: 0.045516  loss: 0.057600  eta: 0h14m  tot: 0h1m31s  (9.3%)\rEpoch: 46.7%  lr: 0.045516  loss: 0.057544  eta: 0h14m  tot: 0h1m31s  (9.3%)\rEpoch: 46.8%  lr: 0.045496  loss: 0.057499  eta: 0h14m  tot: 0h1m31s  (9.4%)\rEpoch: 46.9%  lr: 0.045496  loss: 0.057456  eta: 0h14m  tot: 0h1m31s  (9.4%)\rEpoch: 47.0%  lr: 0.045486  loss: 0.057410  eta: 0h14m  tot: 0h1m31s  (9.4%)\rEpoch: 47.1%  lr: 0.045486  loss: 0.057418  eta: 0h14m  tot: 0h1m31s  (9.4%)\rEpoch: 47.2%  lr: 0.045476  loss: 0.057396  eta: 0h14m  tot: 0h1m32s  (9.4%)\rEpoch: 47.3%  lr: 0.045466  loss: 0.057343  eta: 0h14m  tot: 0h1m32s  (9.5%)\rEpoch: 47.4%  lr: 0.045456  loss: 0.057303  eta: 0h14m  tot: 0h1m32s  (9.5%)\rEpoch: 47.4%  lr: 0.045456  loss: 0.057255  eta: 0h14m  tot: 0h1m32s  (9.5%)\rEpoch: 47.5%  lr: 0.045446  loss: 0.057209  eta: 0h14m  tot: 0h1m32s  (9.5%)\rEpoch: 47.6%  lr: 0.045425  loss: 0.057135  eta: 0h14m  tot: 0h1m32s  (9.5%)\rEpoch: 47.7%  lr: 0.045415  loss: 0.057122  eta: 0h14m  tot: 0h1m33s  (9.5%)\rEpoch: 47.8%  lr: 0.045405  loss: 0.057090  eta: 0h14m  tot: 0h1m33s  (9.6%)\rEpoch: 47.9%  lr: 0.045395  loss: 0.057015  eta: 0h14m  tot: 0h1m33s  (9.6%)\rEpoch: 48.0%  lr: 0.045385  loss: 0.056985  eta: 0h14m  tot: 0h1m33s  (9.6%)\rEpoch: 48.1%  lr: 0.045355  loss: 0.056934  eta: 0h14m  tot: 0h1m33s  (9.6%)\rEpoch: 48.2%  lr: 0.045345  loss: 0.056941  eta: 0h14m  tot: 0h1m33s  (9.6%)\rEpoch: 48.3%  lr: 0.045345  loss: 0.056953  eta: 0h14m  tot: 0h1m34s  (9.7%)\rEpoch: 48.3%  lr: 0.045315  loss: 0.056897  eta: 0h14m  tot: 0h1m34s  (9.7%)\rEpoch: 48.4%  lr: 0.045275  loss: 0.056840  eta: 0h14m  tot: 0h1m34s  (9.7%)\rEpoch: 48.5%  lr: 0.045275  loss: 0.056811  eta: 0h14m  tot: 0h1m34s  (9.7%)\rEpoch: 48.6%  lr: 0.045265  loss: 0.056801  eta: 0h14m  tot: 0h1m34s  (9.7%)\rEpoch: 48.7%  lr: 0.045255  loss: 0.056784  eta: 0h14m  tot: 0h1m34s  (9.7%)\rEpoch: 48.8%  lr: 0.045245  loss: 0.056738  eta: 0h14m  tot: 0h1m35s  (9.8%)\rEpoch: 48.9%  lr: 0.045245  loss: 0.056699  eta: 0h14m  tot: 0h1m35s  (9.8%)\rEpoch: 49.0%  lr: 0.045235  loss: 0.056647  eta: 0h14m  tot: 0h1m35s  (9.8%)\rEpoch: 49.1%  lr: 0.045235  loss: 0.056620  eta: 0h14m  tot: 0h1m35s  (9.8%)\rEpoch: 49.2%  lr: 0.045225  loss: 0.056557  eta: 0h14m  tot: 0h1m35s  (9.8%)\rEpoch: 49.2%  lr: 0.045225  loss: 0.056501  eta: 0h14m  tot: 0h1m35s  (9.8%)\rEpoch: 49.3%  lr: 0.045225  loss: 0.056435  eta: 0h14m  tot: 0h1m36s  (9.9%)\rEpoch: 49.4%  lr: 0.045215  loss: 0.056395  eta: 0h14m  tot: 0h1m36s  (9.9%)\rEpoch: 49.5%  lr: 0.045195  loss: 0.056321  eta: 0h14m  tot: 0h1m36s  (9.9%)\rEpoch: 49.6%  lr: 0.045175  loss: 0.056308  eta: 0h14m  tot: 0h1m36s  (9.9%)\rEpoch: 49.7%  lr: 0.045175  loss: 0.056273  eta: 0h14m  tot: 0h1m36s  (9.9%)\rEpoch: 49.8%  lr: 0.045165  loss: 0.056232  eta: 0h14m  tot: 0h1m36s  (10.0%)\rEpoch: 49.9%  lr: 0.045155  loss: 0.056161  eta: 0h14m  tot: 0h1m37s  (10.0%)\rEpoch: 50.0%  lr: 0.045145  loss: 0.056129  eta: 0h14m  tot: 0h1m37s  (10.0%)\rEpoch: 50.1%  lr: 0.045135  loss: 0.056100  eta: 0h14m  tot: 0h1m37s  (10.0%)\rEpoch: 50.1%  lr: 0.045115  loss: 0.056064  eta: 0h14m  tot: 0h1m37s  (10.0%)\rEpoch: 50.2%  lr: 0.045115  loss: 0.056020  eta: 0h14m  tot: 0h1m37s  (10.0%)\rEpoch: 50.3%  lr: 0.045115  loss: 0.055971  eta: 0h14m  tot: 0h1m37s  (10.1%)\rEpoch: 50.4%  lr: 0.045095  loss: 0.055912  eta: 0h14m  tot: 0h1m38s  (10.1%)\rEpoch: 50.5%  lr: 0.045085  loss: 0.055932  eta: 0h14m  tot: 0h1m38s  (10.1%)\rEpoch: 50.6%  lr: 0.045085  loss: 0.055896  eta: 0h14m  tot: 0h1m38s  (10.1%)\rEpoch: 50.7%  lr: 0.045065  loss: 0.055887  eta: 0h14m  tot: 0h1m38s  (10.1%)\rEpoch: 50.8%  lr: 0.045055  loss: 0.055834  eta: 0h14m  tot: 0h1m38s  (10.2%)\rEpoch: 50.9%  lr: 0.045055  loss: 0.055769  eta: 0h14m  tot: 0h1m38s  (10.2%)\rEpoch: 51.0%  lr: 0.045045  loss: 0.055745  eta: 0h14m  tot: 0h1m39s  (10.2%)\rEpoch: 51.0%  lr: 0.045045  loss: 0.055696  eta: 0h14m  tot: 0h1m39s  (10.2%)\rEpoch: 51.1%  lr: 0.045045  loss: 0.055640  eta: 0h14m  tot: 0h1m39s  (10.2%)\rEpoch: 51.2%  lr: 0.045025  loss: 0.055638  eta: 0h14m  tot: 0h1m39s  (10.2%)\rEpoch: 51.3%  lr: 0.045015  loss: 0.055577  eta: 0h14m  tot: 0h1m39s  (10.3%)\rEpoch: 51.4%  lr: 0.045005  loss: 0.055537  eta: 0h14m  tot: 0h1m39s  (10.3%)\rEpoch: 51.5%  lr: 0.045005  loss: 0.055487  eta: 0h14m  tot: 0h1m40s  (10.3%)\rEpoch: 51.6%  lr: 0.044995  loss: 0.055468  eta: 0h14m  tot: 0h1m40s  (10.3%)\rEpoch: 51.7%  lr: 0.044995  loss: 0.055445  eta: 0h14m  tot: 0h1m40s  (10.3%)\rEpoch: 51.8%  lr: 0.044995  loss: 0.055396  eta: 0h14m  tot: 0h1m40s  (10.4%)\rEpoch: 51.9%  lr: 0.044985  loss: 0.055345  eta: 0h14m  tot: 0h1m40s  (10.4%)\rEpoch: 51.9%  lr: 0.044975  loss: 0.055303  eta: 0h14m  tot: 0h1m40s  (10.4%)\rEpoch: 52.0%  lr: 0.044965  loss: 0.055280  eta: 0h14m  tot: 0h1m41s  (10.4%)\rEpoch: 52.1%  lr: 0.044965  loss: 0.055270  eta: 0h14m  tot: 0h1m41s  (10.4%)\rEpoch: 52.2%  lr: 0.044955  loss: 0.055237  eta: 0h14m  tot: 0h1m41s  (10.4%)\rEpoch: 52.3%  lr: 0.044945  loss: 0.055246  eta: 0h14m  tot: 0h1m41s  (10.5%)\rEpoch: 52.4%  lr: 0.044925  loss: 0.055211  eta: 0h14m  tot: 0h1m41s  (10.5%)\rEpoch: 52.5%  lr: 0.044915  loss: 0.055157  eta: 0h14m  tot: 0h1m41s  (10.5%)\rEpoch: 52.6%  lr: 0.044905  loss: 0.055174  eta: 0h14m  tot: 0h1m42s  (10.5%)\rEpoch: 52.7%  lr: 0.044895  loss: 0.055155  eta: 0h14m  tot: 0h1m42s  (10.5%)\rEpoch: 52.8%  lr: 0.044895  loss: 0.055122  eta: 0h14m  tot: 0h1m42s  (10.6%)\rEpoch: 52.8%  lr: 0.044885  loss: 0.055068  eta: 0h14m  tot: 0h1m42s  (10.6%)\rEpoch: 52.9%  lr: 0.044885  loss: 0.055030  eta: 0h14m  tot: 0h1m42s  (10.6%)\rEpoch: 53.0%  lr: 0.044885  loss: 0.055035  eta: 0h14m  tot: 0h1m42s  (10.6%)\rEpoch: 53.1%  lr: 0.044885  loss: 0.054969  eta: 0h14m  tot: 0h1m43s  (10.6%)\rEpoch: 53.2%  lr: 0.044865  loss: 0.054948  eta: 0h14m  tot: 0h1m43s  (10.6%)\rEpoch: 53.3%  lr: 0.044835  loss: 0.054922  eta: 0h14m  tot: 0h1m43s  (10.7%)\rEpoch: 53.4%  lr: 0.044815  loss: 0.054898  eta: 0h14m  tot: 0h1m43s  (10.7%)\rEpoch: 53.5%  lr: 0.044815  loss: 0.054860  eta: 0h14m  tot: 0h1m43s  (10.7%)\rEpoch: 53.6%  lr: 0.044815  loss: 0.054792  eta: 0h14m  tot: 0h1m43s  (10.7%)\rEpoch: 53.7%  lr: 0.044805  loss: 0.054751  eta: 0h14m  tot: 0h1m44s  (10.7%)\rEpoch: 53.7%  lr: 0.044795  loss: 0.054698  eta: 0h14m  tot: 0h1m44s  (10.7%)\rEpoch: 53.8%  lr: 0.044795  loss: 0.054674  eta: 0h14m  tot: 0h1m44s  (10.8%)\rEpoch: 53.9%  lr: 0.044785  loss: 0.054646  eta: 0h14m  tot: 0h1m44s  (10.8%)\rEpoch: 54.0%  lr: 0.044775  loss: 0.054578  eta: 0h14m  tot: 0h1m44s  (10.8%)\rEpoch: 54.1%  lr: 0.044775  loss: 0.054554  eta: 0h14m  tot: 0h1m44s  (10.8%)\rEpoch: 54.2%  lr: 0.044775  loss: 0.054538  eta: 0h14m  tot: 0h1m45s  (10.8%)\rEpoch: 54.3%  lr: 0.044765  loss: 0.054483  eta: 0h14m  tot: 0h1m45s  (10.9%)\rEpoch: 54.4%  lr: 0.044745  loss: 0.054425  eta: 0h14m  tot: 0h1m45s  (10.9%)\rEpoch: 54.5%  lr: 0.044725  loss: 0.054390  eta: 0h14m  tot: 0h1m45s  (10.9%)\rEpoch: 54.6%  lr: 0.044715  loss: 0.054331  eta: 0h14m  tot: 0h1m45s  (10.9%)\rEpoch: 54.6%  lr: 0.044715  loss: 0.054282  eta: 0h14m  tot: 0h1m45s  (10.9%)\rEpoch: 54.7%  lr: 0.044705  loss: 0.054246  eta: 0h14m  tot: 0h1m46s  (10.9%)\rEpoch: 54.8%  lr: 0.044705  loss: 0.054202  eta: 0h14m  tot: 0h1m46s  (11.0%)\rEpoch: 54.9%  lr: 0.044705  loss: 0.054176  eta: 0h14m  tot: 0h1m46s  (11.0%)\rEpoch: 55.0%  lr: 0.044695  loss: 0.054134  eta: 0h14m  tot: 0h1m46s  (11.0%)\rEpoch: 55.1%  lr: 0.044675  loss: 0.054098  eta: 0h14m  tot: 0h1m46s  (11.0%)\rEpoch: 55.2%  lr: 0.044675  loss: 0.054068  eta: 0h14m  tot: 0h1m46s  (11.0%)\rEpoch: 55.3%  lr: 0.044675  loss: 0.054020  eta: 0h14m  tot: 0h1m47s  (11.1%)\rEpoch: 55.4%  lr: 0.044675  loss: 0.054020  eta: 0h14m  tot: 0h1m47s  (11.1%)\rEpoch: 55.5%  lr: 0.044645  loss: 0.053976  eta: 0h14m  tot: 0h1m47s  (11.1%)\rEpoch: 55.5%  lr: 0.044615  loss: 0.053955  eta: 0h14m  tot: 0h1m47s  (11.1%)\rEpoch: 55.6%  lr: 0.044615  loss: 0.053906  eta: 0h14m  tot: 0h1m47s  (11.1%)\rEpoch: 55.7%  lr: 0.044615  loss: 0.053912  eta: 0h14m  tot: 0h1m47s  (11.1%)\rEpoch: 55.8%  lr: 0.044615  loss: 0.053907  eta: 0h14m  tot: 0h1m48s  (11.2%)\rEpoch: 55.9%  lr: 0.044595  loss: 0.053867  eta: 0h14m  tot: 0h1m48s  (11.2%)\rEpoch: 56.0%  lr: 0.044585  loss: 0.053806  eta: 0h14m  tot: 0h1m48s  (11.2%)\rEpoch: 56.1%  lr: 0.044575  loss: 0.053779  eta: 0h14m  tot: 0h1m48s  (11.2%)\rEpoch: 56.2%  lr: 0.044565  loss: 0.053760  eta: 0h14m  tot: 0h1m48s  (11.2%)\rEpoch: 56.3%  lr: 0.044545  loss: 0.053780  eta: 0h14m  tot: 0h1m49s  (11.3%)\rEpoch: 56.4%  lr: 0.044535  loss: 0.053778  eta: 0h14m  tot: 0h1m49s  (11.3%)\rEpoch: 56.4%  lr: 0.044535  loss: 0.053730  eta: 0h14m  tot: 0h1m49s  (11.3%)\rEpoch: 56.5%  lr: 0.044525  loss: 0.053726  eta: 0h14m  tot: 0h1m49s  (11.3%)\rEpoch: 56.6%  lr: 0.044525  loss: 0.053673  eta: 0h14m  tot: 0h1m49s  (11.3%)\rEpoch: 56.7%  lr: 0.044525  loss: 0.053669  eta: 0h14m  tot: 0h1m49s  (11.3%)\rEpoch: 56.8%  lr: 0.044515  loss: 0.053630  eta: 0h14m  tot: 0h1m50s  (11.4%)\rEpoch: 56.9%  lr: 0.044515  loss: 0.053656  eta: 0h14m  tot: 0h1m50s  (11.4%)\rEpoch: 57.0%  lr: 0.044505  loss: 0.053628  eta: 0h14m  tot: 0h1m50s  (11.4%)\rEpoch: 57.1%  lr: 0.044495  loss: 0.053622  eta: 0h14m  tot: 0h1m50s  (11.4%)\rEpoch: 57.2%  lr: 0.044485  loss: 0.053622  eta: 0h14m  tot: 0h1m50s  (11.4%)\rEpoch: 57.3%  lr: 0.044485  loss: 0.053595  eta: 0h14m  tot: 0h1m50s  (11.5%)\rEpoch: 57.3%  lr: 0.044475  loss: 0.053558  eta: 0h14m  tot: 0h1m51s  (11.5%)\rEpoch: 57.4%  lr: 0.044465  loss: 0.053572  eta: 0h14m  tot: 0h1m51s  (11.5%)\rEpoch: 57.5%  lr: 0.044465  loss: 0.053549  eta: 0h14m  tot: 0h1m51s  (11.5%)\rEpoch: 57.6%  lr: 0.044465  loss: 0.053551  eta: 0h14m  tot: 0h1m51s  (11.5%)\rEpoch: 57.7%  lr: 0.044435  loss: 0.053503  eta: 0h14m  tot: 0h1m51s  (11.5%)\rEpoch: 57.8%  lr: 0.044415  loss: 0.053454  eta: 0h14m  tot: 0h1m51s  (11.6%)\rEpoch: 57.9%  lr: 0.044404  loss: 0.053420  eta: 0h14m  tot: 0h1m52s  (11.6%)\rEpoch: 58.0%  lr: 0.044394  loss: 0.053384  eta: 0h14m  tot: 0h1m52s  (11.6%)\rEpoch: 58.1%  lr: 0.044384  loss: 0.053348  eta: 0h14m  tot: 0h1m52s  (11.6%)\rEpoch: 58.2%  lr: 0.044364  loss: 0.053304  eta: 0h14m  tot: 0h1m52s  (11.6%)\rEpoch: 58.2%  lr: 0.044354  loss: 0.053273  eta: 0h14m  tot: 0h1m52s  (11.6%)\rEpoch: 58.3%  lr: 0.044354  loss: 0.053233  eta: 0h14m  tot: 0h1m52s  (11.7%)\rEpoch: 58.4%  lr: 0.044354  loss: 0.053224  eta: 0h14m  tot: 0h1m53s  (11.7%)\rEpoch: 58.5%  lr: 0.044354  loss: 0.053190  eta: 0h14m  tot: 0h1m53s  (11.7%)\rEpoch: 58.6%  lr: 0.044344  loss: 0.053127  eta: 0h14m  tot: 0h1m53s  (11.7%)\rEpoch: 58.7%  lr: 0.044324  loss: 0.053132  eta: 0h14m  tot: 0h1m53s  (11.7%)\rEpoch: 58.8%  lr: 0.044294  loss: 0.053065  eta: 0h14m  tot: 0h1m53s  (11.8%)\rEpoch: 58.9%  lr: 0.044284  loss: 0.053015  eta: 0h14m  tot: 0h1m53s  (11.8%)\rEpoch: 59.0%  lr: 0.044284  loss: 0.052963  eta: 0h14m  tot: 0h1m54s  (11.8%)\rEpoch: 59.1%  lr: 0.044274  loss: 0.052915  eta: 0h14m  tot: 0h1m54s  (11.8%)\rEpoch: 59.1%  lr: 0.044254  loss: 0.052895  eta: 0h14m  tot: 0h1m54s  (11.8%)\rEpoch: 59.2%  lr: 0.044254  loss: 0.052859  eta: 0h14m  tot: 0h1m54s  (11.8%)\rEpoch: 59.3%  lr: 0.044224  loss: 0.052826  eta: 0h14m  tot: 0h1m54s  (11.9%)\rEpoch: 59.4%  lr: 0.044224  loss: 0.052800  eta: 0h14m  tot: 0h1m54s  (11.9%)\rEpoch: 59.5%  lr: 0.044214  loss: 0.052772  eta: 0h14m  tot: 0h1m55s  (11.9%)\rEpoch: 59.6%  lr: 0.044214  loss: 0.052741  eta: 0h14m  tot: 0h1m55s  (11.9%)\rEpoch: 59.7%  lr: 0.044204  loss: 0.052723  eta: 0h14m  tot: 0h1m55s  (11.9%)\rEpoch: 59.8%  lr: 0.044184  loss: 0.052696  eta: 0h14m  tot: 0h1m55s  (12.0%)\rEpoch: 59.9%  lr: 0.044184  loss: 0.052689  eta: 0h14m  tot: 0h1m55s  (12.0%)\rEpoch: 60.0%  lr: 0.044164  loss: 0.052646  eta: 0h14m  tot: 0h1m55s  (12.0%)\rEpoch: 60.0%  lr: 0.044154  loss: 0.052641  eta: 0h14m  tot: 0h1m56s  (12.0%)\rEpoch: 60.1%  lr: 0.044144  loss: 0.052589  eta: 0h14m  tot: 0h1m56s  (12.0%)\rEpoch: 60.2%  lr: 0.044134  loss: 0.052576  eta: 0h14m  tot: 0h1m56s  (12.0%)\rEpoch: 60.3%  lr: 0.044124  loss: 0.052523  eta: 0h14m  tot: 0h1m56s  (12.1%)\rEpoch: 60.4%  lr: 0.044124  loss: 0.052505  eta: 0h14m  tot: 0h1m56s  (12.1%)\rEpoch: 60.5%  lr: 0.044124  loss: 0.052460  eta: 0h14m  tot: 0h1m56s  (12.1%)\rEpoch: 60.6%  lr: 0.044104  loss: 0.052403  eta: 0h14m  tot: 0h1m57s  (12.1%)\rEpoch: 60.7%  lr: 0.044094  loss: 0.052360  eta: 0h14m  tot: 0h1m57s  (12.1%)\rEpoch: 60.8%  lr: 0.044094  loss: 0.052341  eta: 0h14m  tot: 0h1m57s  (12.2%)\rEpoch: 60.9%  lr: 0.044084  loss: 0.052323  eta: 0h14m  tot: 0h1m57s  (12.2%)\rEpoch: 60.9%  lr: 0.044084  loss: 0.052283  eta: 0h14m  tot: 0h1m57s  (12.2%)\rEpoch: 61.0%  lr: 0.044084  loss: 0.052226  eta: 0h14m  tot: 0h1m57s  (12.2%)\rEpoch: 61.1%  lr: 0.044054  loss: 0.052176  eta: 0h14m  tot: 0h1m57s  (12.2%)\rEpoch: 61.2%  lr: 0.044054  loss: 0.052148  eta: 0h14m  tot: 0h1m58s  (12.2%)\rEpoch: 61.3%  lr: 0.044044  loss: 0.052099  eta: 0h14m  tot: 0h1m58s  (12.3%)\rEpoch: 61.4%  lr: 0.044024  loss: 0.052059  eta: 0h14m  tot: 0h1m58s  (12.3%)\rEpoch: 61.5%  lr: 0.044004  loss: 0.052037  eta: 0h14m  tot: 0h1m58s  (12.3%)\rEpoch: 61.6%  lr: 0.043984  loss: 0.052043  eta: 0h14m  tot: 0h1m58s  (12.3%)\rEpoch: 61.7%  lr: 0.043934  loss: 0.052008  eta: 0h14m  tot: 0h1m59s  (12.3%)\rEpoch: 61.8%  lr: 0.043924  loss: 0.051982  eta: 0h14m  tot: 0h1m59s  (12.4%)\rEpoch: 61.8%  lr: 0.043914  loss: 0.051990  eta: 0h14m  tot: 0h1m59s  (12.4%)\rEpoch: 61.9%  lr: 0.043914  loss: 0.051948  eta: 0h14m  tot: 0h1m59s  (12.4%)\rEpoch: 62.0%  lr: 0.043894  loss: 0.051920  eta: 0h14m  tot: 0h1m59s  (12.4%)\rEpoch: 62.1%  lr: 0.043884  loss: 0.051896  eta: 0h14m  tot: 0h1m59s  (12.4%)\rEpoch: 62.2%  lr: 0.043884  loss: 0.051856  eta: 0h14m  tot: 0h2m0s  (12.4%)\rEpoch: 62.3%  lr: 0.043864  loss: 0.051853  eta: 0h14m  tot: 0h2m0s  (12.5%)\rEpoch: 62.4%  lr: 0.043864  loss: 0.051845  eta: 0h14m  tot: 0h2m0s  (12.5%)\rEpoch: 62.5%  lr: 0.043854  loss: 0.051819  eta: 0h14m  tot: 0h2m0s  (12.5%)\rEpoch: 62.6%  lr: 0.043854  loss: 0.051774  eta: 0h14m  tot: 0h2m0s  (12.5%)\rEpoch: 62.7%  lr: 0.043844  loss: 0.051731  eta: 0h14m  tot: 0h2m0s  (12.5%)\rEpoch: 62.7%  lr: 0.043834  loss: 0.051716  eta: 0h14m  tot: 0h2m1s  (12.5%)\rEpoch: 62.8%  lr: 0.043834  loss: 0.051686  eta: 0h14m  tot: 0h2m1s  (12.6%)\rEpoch: 62.9%  lr: 0.043834  loss: 0.051651  eta: 0h14m  tot: 0h2m1s  (12.6%)\rEpoch: 63.0%  lr: 0.043814  loss: 0.051641  eta: 0h14m  tot: 0h2m1s  (12.6%)\rEpoch: 63.1%  lr: 0.043784  loss: 0.051595  eta: 0h14m  tot: 0h2m1s  (12.6%)\rEpoch: 63.2%  lr: 0.043744  loss: 0.051551  eta: 0h14m  tot: 0h2m1s  (12.6%)\rEpoch: 63.3%  lr: 0.043724  loss: 0.051515  eta: 0h14m  tot: 0h2m2s  (12.7%)\rEpoch: 63.4%  lr: 0.043714  loss: 0.051499  eta: 0h14m  tot: 0h2m2s  (12.7%)\rEpoch: 63.5%  lr: 0.043694  loss: 0.051480  eta: 0h14m  tot: 0h2m2s  (12.7%)\rEpoch: 63.6%  lr: 0.043694  loss: 0.051456  eta: 0h14m  tot: 0h2m2s  (12.7%)\rEpoch: 63.6%  lr: 0.043694  loss: 0.051431  eta: 0h14m  tot: 0h2m2s  (12.7%)\rEpoch: 63.7%  lr: 0.043684  loss: 0.051412  eta: 0h14m  tot: 0h2m2s  (12.7%)\rEpoch: 63.8%  lr: 0.043684  loss: 0.051402  eta: 0h14m  tot: 0h2m3s  (12.8%)\rEpoch: 63.9%  lr: 0.043684  loss: 0.051346  eta: 0h14m  tot: 0h2m3s  (12.8%)\rEpoch: 64.0%  lr: 0.043684  loss: 0.051339  eta: 0h14m  tot: 0h2m3s  (12.8%)\rEpoch: 64.1%  lr: 0.043684  loss: 0.051308  eta: 0h13m  tot: 0h2m3s  (12.8%)\rEpoch: 64.2%  lr: 0.043674  loss: 0.051289  eta: 0h13m  tot: 0h2m3s  (12.8%)\rEpoch: 64.3%  lr: 0.043644  loss: 0.051276  eta: 0h13m  tot: 0h2m3s  (12.9%)\rEpoch: 64.4%  lr: 0.043644  loss: 0.051245  eta: 0h13m  tot: 0h2m4s  (12.9%)\rEpoch: 64.5%  lr: 0.043644  loss: 0.051202  eta: 0h13m  tot: 0h2m4s  (12.9%)\rEpoch: 64.5%  lr: 0.043634  loss: 0.051176  eta: 0h13m  tot: 0h2m4s  (12.9%)\rEpoch: 64.6%  lr: 0.043634  loss: 0.051136  eta: 0h13m  tot: 0h2m4s  (12.9%)\rEpoch: 64.7%  lr: 0.043634  loss: 0.051104  eta: 0h13m  tot: 0h2m4s  (12.9%)\rEpoch: 64.8%  lr: 0.043634  loss: 0.051056  eta: 0h13m  tot: 0h2m4s  (13.0%)\rEpoch: 64.9%  lr: 0.043624  loss: 0.051038  eta: 0h13m  tot: 0h2m5s  (13.0%)\rEpoch: 65.0%  lr: 0.043604  loss: 0.051016  eta: 0h13m  tot: 0h2m5s  (13.0%)\rEpoch: 65.1%  lr: 0.043604  loss: 0.050983  eta: 0h13m  tot: 0h2m5s  (13.0%)\rEpoch: 65.2%  lr: 0.043584  loss: 0.050953  eta: 0h13m  tot: 0h2m5s  (13.0%)\rEpoch: 65.3%  lr: 0.043564  loss: 0.050945  eta: 0h13m  tot: 0h2m5s  (13.1%)\rEpoch: 65.4%  lr: 0.043554  loss: 0.050913  eta: 0h13m  tot: 0h2m5s  (13.1%)\rEpoch: 65.4%  lr: 0.043544  loss: 0.050897  eta: 0h13m  tot: 0h2m6s  (13.1%)\rEpoch: 65.5%  lr: 0.043534  loss: 0.050864  eta: 0h13m  tot: 0h2m6s  (13.1%)\rEpoch: 65.6%  lr: 0.043534  loss: 0.050833  eta: 0h13m  tot: 0h2m6s  (13.1%)\rEpoch: 65.7%  lr: 0.043514  loss: 0.050817  eta: 0h13m  tot: 0h2m6s  (13.1%)\rEpoch: 65.8%  lr: 0.043504  loss: 0.050783  eta: 0h13m  tot: 0h2m6s  (13.2%)\rEpoch: 65.9%  lr: 0.043484  loss: 0.050753  eta: 0h13m  tot: 0h2m6s  (13.2%)\rEpoch: 66.0%  lr: 0.043464  loss: 0.050733  eta: 0h13m  tot: 0h2m7s  (13.2%)\rEpoch: 66.1%  lr: 0.043464  loss: 0.050683  eta: 0h13m  tot: 0h2m7s  (13.2%)\rEpoch: 66.2%  lr: 0.043464  loss: 0.050638  eta: 0h13m  tot: 0h2m7s  (13.2%)\rEpoch: 66.3%  lr: 0.043464  loss: 0.050604  eta: 0h13m  tot: 0h2m7s  (13.3%)\rEpoch: 66.3%  lr: 0.043454  loss: 0.050586  eta: 0h13m  tot: 0h2m7s  (13.3%)\rEpoch: 66.4%  lr: 0.043434  loss: 0.050550  eta: 0h13m  tot: 0h2m7s  (13.3%)\rEpoch: 66.5%  lr: 0.043393  loss: 0.050528  eta: 0h13m  tot: 0h2m7s  (13.3%)\rEpoch: 66.6%  lr: 0.043383  loss: 0.050525  eta: 0h13m  tot: 0h2m8s  (13.3%)\rEpoch: 66.7%  lr: 0.043383  loss: 0.050488  eta: 0h13m  tot: 0h2m8s  (13.3%)\rEpoch: 66.8%  lr: 0.043383  loss: 0.050454  eta: 0h13m  tot: 0h2m8s  (13.4%)\rEpoch: 66.9%  lr: 0.043383  loss: 0.050438  eta: 0h13m  tot: 0h2m8s  (13.4%)\rEpoch: 67.0%  lr: 0.043383  loss: 0.050389  eta: 0h13m  tot: 0h2m8s  (13.4%)\rEpoch: 67.1%  lr: 0.043373  loss: 0.050363  eta: 0h13m  tot: 0h2m8s  (13.4%)\rEpoch: 67.2%  lr: 0.043363  loss: 0.050392  eta: 0h13m  tot: 0h2m9s  (13.4%)\rEpoch: 67.2%  lr: 0.043353  loss: 0.050360  eta: 0h13m  tot: 0h2m9s  (13.4%)\rEpoch: 67.3%  lr: 0.043333  loss: 0.050333  eta: 0h13m  tot: 0h2m9s  (13.5%)\rEpoch: 67.4%  lr: 0.043333  loss: 0.050296  eta: 0h13m  tot: 0h2m9s  (13.5%)\rEpoch: 67.5%  lr: 0.043323  loss: 0.050263  eta: 0h13m  tot: 0h2m9s  (13.5%)\rEpoch: 67.6%  lr: 0.043303  loss: 0.050244  eta: 0h13m  tot: 0h2m9s  (13.5%)\rEpoch: 67.7%  lr: 0.043293  loss: 0.050210  eta: 0h13m  tot: 0h2m10s  (13.5%)\rEpoch: 67.8%  lr: 0.043273  loss: 0.050206  eta: 0h13m  tot: 0h2m10s  (13.6%)\rEpoch: 67.9%  lr: 0.043243  loss: 0.050200  eta: 0h13m  tot: 0h2m10s  (13.6%)\rEpoch: 68.0%  lr: 0.043243  loss: 0.050189  eta: 0h13m  tot: 0h2m10s  (13.6%)\rEpoch: 68.1%  lr: 0.043223  loss: 0.050149  eta: 0h13m  tot: 0h2m10s  (13.6%)\rEpoch: 68.1%  lr: 0.043213  loss: 0.050110  eta: 0h13m  tot: 0h2m10s  (13.6%)\rEpoch: 68.2%  lr: 0.043203  loss: 0.050103  eta: 0h13m  tot: 0h2m11s  (13.6%)\rEpoch: 68.3%  lr: 0.043203  loss: 0.050062  eta: 0h13m  tot: 0h2m11s  (13.7%)\rEpoch: 68.4%  lr: 0.043193  loss: 0.050025  eta: 0h13m  tot: 0h2m11s  (13.7%)\rEpoch: 68.5%  lr: 0.043183  loss: 0.049990  eta: 0h13m  tot: 0h2m11s  (13.7%)\rEpoch: 68.6%  lr: 0.043183  loss: 0.049950  eta: 0h13m  tot: 0h2m11s  (13.7%)\rEpoch: 68.7%  lr: 0.043183  loss: 0.049923  eta: 0h13m  tot: 0h2m11s  (13.7%)\rEpoch: 68.8%  lr: 0.043163  loss: 0.049912  eta: 0h13m  tot: 0h2m12s  (13.8%)\rEpoch: 68.9%  lr: 0.043163  loss: 0.049866  eta: 0h13m  tot: 0h2m12s  (13.8%)\rEpoch: 69.0%  lr: 0.043153  loss: 0.049845  eta: 0h13m  tot: 0h2m12s  (13.8%)\rEpoch: 69.0%  lr: 0.043143  loss: 0.049820  eta: 0h13m  tot: 0h2m12s  (13.8%)\rEpoch: 69.1%  lr: 0.043143  loss: 0.049798  eta: 0h13m  tot: 0h2m12s  (13.8%)\rEpoch: 69.2%  lr: 0.043133  loss: 0.049754  eta: 0h13m  tot: 0h2m12s  (13.8%)\rEpoch: 69.3%  lr: 0.043123  loss: 0.049733  eta: 0h13m  tot: 0h2m13s  (13.9%)\rEpoch: 69.4%  lr: 0.043103  loss: 0.049694  eta: 0h13m  tot: 0h2m13s  (13.9%)\rEpoch: 69.5%  lr: 0.043103  loss: 0.049659  eta: 0h13m  tot: 0h2m13s  (13.9%)\rEpoch: 69.6%  lr: 0.043103  loss: 0.049625  eta: 0h13m  tot: 0h2m13s  (13.9%)\rEpoch: 69.7%  lr: 0.043103  loss: 0.049640  eta: 0h13m  tot: 0h2m13s  (13.9%)\rEpoch: 69.8%  lr: 0.043103  loss: 0.049615  eta: 0h13m  tot: 0h2m13s  (14.0%)\rEpoch: 69.9%  lr: 0.043103  loss: 0.049582  eta: 0h13m  tot: 0h2m14s  (14.0%)\rEpoch: 69.9%  lr: 0.043093  loss: 0.049546  eta: 0h13m  tot: 0h2m14s  (14.0%)\rEpoch: 70.0%  lr: 0.043093  loss: 0.049512  eta: 0h13m  tot: 0h2m14s  (14.0%)\rEpoch: 70.1%  lr: 0.043083  loss: 0.049485  eta: 0h13m  tot: 0h2m14s  (14.0%)\rEpoch: 70.2%  lr: 0.043053  loss: 0.049444  eta: 0h13m  tot: 0h2m14s  (14.0%)\rEpoch: 70.3%  lr: 0.043053  loss: 0.049432  eta: 0h13m  tot: 0h2m14s  (14.1%)\rEpoch: 70.4%  lr: 0.043033  loss: 0.049446  eta: 0h13m  tot: 0h2m15s  (14.1%)\rEpoch: 70.5%  lr: 0.043033  loss: 0.049436  eta: 0h13m  tot: 0h2m15s  (14.1%)\rEpoch: 70.6%  lr: 0.043013  loss: 0.049413  eta: 0h13m  tot: 0h2m15s  (14.1%)\rEpoch: 70.7%  lr: 0.043003  loss: 0.049382  eta: 0h13m  tot: 0h2m15s  (14.1%)\rEpoch: 70.8%  lr: 0.042993  loss: 0.049344  eta: 0h13m  tot: 0h2m15s  (14.2%)\rEpoch: 70.8%  lr: 0.042993  loss: 0.049310  eta: 0h13m  tot: 0h2m15s  (14.2%)\rEpoch: 70.9%  lr: 0.042983  loss: 0.049280  eta: 0h13m  tot: 0h2m16s  (14.2%)\rEpoch: 71.0%  lr: 0.042973  loss: 0.049257  eta: 0h13m  tot: 0h2m16s  (14.2%)\rEpoch: 71.1%  lr: 0.042973  loss: 0.049232  eta: 0h13m  tot: 0h2m16s  (14.2%)\rEpoch: 71.2%  lr: 0.042973  loss: 0.049214  eta: 0h13m  tot: 0h2m16s  (14.2%)\rEpoch: 71.3%  lr: 0.042973  loss: 0.049204  eta: 0h13m  tot: 0h2m16s  (14.3%)\rEpoch: 71.4%  lr: 0.042973  loss: 0.049165  eta: 0h13m  tot: 0h2m16s  (14.3%)\rEpoch: 71.5%  lr: 0.042973  loss: 0.049124  eta: 0h13m  tot: 0h2m17s  (14.3%)\rEpoch: 71.6%  lr: 0.042943  loss: 0.049104  eta: 0h13m  tot: 0h2m17s  (14.3%)\rEpoch: 71.7%  lr: 0.042943  loss: 0.049076  eta: 0h13m  tot: 0h2m17s  (14.3%)\rEpoch: 71.7%  lr: 0.042933  loss: 0.049036  eta: 0h13m  tot: 0h2m17s  (14.3%)\rEpoch: 71.8%  lr: 0.042913  loss: 0.049001  eta: 0h13m  tot: 0h2m17s  (14.4%)\rEpoch: 71.9%  lr: 0.042913  loss: 0.048956  eta: 0h13m  tot: 0h2m17s  (14.4%)\rEpoch: 72.0%  lr: 0.042903  loss: 0.048937  eta: 0h13m  tot: 0h2m18s  (14.4%)\rEpoch: 72.1%  lr: 0.042893  loss: 0.048895  eta: 0h13m  tot: 0h2m18s  (14.4%)\rEpoch: 72.2%  lr: 0.042893  loss: 0.048899  eta: 0h13m  tot: 0h2m18s  (14.4%)\rEpoch: 72.3%  lr: 0.042893  loss: 0.048868  eta: 0h13m  tot: 0h2m18s  (14.5%)\rEpoch: 72.4%  lr: 0.042883  loss: 0.048858  eta: 0h13m  tot: 0h2m18s  (14.5%)\rEpoch: 72.5%  lr: 0.042873  loss: 0.048829  eta: 0h13m  tot: 0h2m18s  (14.5%)\rEpoch: 72.6%  lr: 0.042873  loss: 0.048812  eta: 0h13m  tot: 0h2m19s  (14.5%)\rEpoch: 72.6%  lr: 0.042873  loss: 0.048771  eta: 0h13m  tot: 0h2m19s  (14.5%)\rEpoch: 72.7%  lr: 0.042863  loss: 0.048734  eta: 0h13m  tot: 0h2m19s  (14.5%)\rEpoch: 72.8%  lr: 0.042853  loss: 0.048712  eta: 0h13m  tot: 0h2m19s  (14.6%)\rEpoch: 72.9%  lr: 0.042823  loss: 0.048700  eta: 0h13m  tot: 0h2m19s  (14.6%)\rEpoch: 73.0%  lr: 0.042803  loss: 0.048664  eta: 0h13m  tot: 0h2m19s  (14.6%)\rEpoch: 73.1%  lr: 0.042793  loss: 0.048637  eta: 0h13m  tot: 0h2m20s  (14.6%)\rEpoch: 73.2%  lr: 0.042773  loss: 0.048613  eta: 0h13m  tot: 0h2m20s  (14.6%)\rEpoch: 73.3%  lr: 0.042763  loss: 0.048565  eta: 0h13m  tot: 0h2m20s  (14.7%)\rEpoch: 73.4%  lr: 0.042763  loss: 0.048518  eta: 0h13m  tot: 0h2m20s  (14.7%)\rEpoch: 73.5%  lr: 0.042753  loss: 0.048481  eta: 0h13m  tot: 0h2m20s  (14.7%)\rEpoch: 73.5%  lr: 0.042753  loss: 0.048456  eta: 0h13m  tot: 0h2m20s  (14.7%)\rEpoch: 73.6%  lr: 0.042753  loss: 0.048450  eta: 0h13m  tot: 0h2m21s  (14.7%)\rEpoch: 73.7%  lr: 0.042753  loss: 0.048422  eta: 0h13m  tot: 0h2m21s  (14.7%)\rEpoch: 73.8%  lr: 0.042723  loss: 0.048403  eta: 0h13m  tot: 0h2m21s  (14.8%)\rEpoch: 73.9%  lr: 0.042703  loss: 0.048367  eta: 0h13m  tot: 0h2m21s  (14.8%)\rEpoch: 74.0%  lr: 0.042703  loss: 0.048363  eta: 0h13m  tot: 0h2m21s  (14.8%)\rEpoch: 74.1%  lr: 0.042693  loss: 0.048342  eta: 0h13m  tot: 0h2m21s  (14.8%)\rEpoch: 74.2%  lr: 0.042683  loss: 0.048318  eta: 0h13m  tot: 0h2m22s  (14.8%)\rEpoch: 74.3%  lr: 0.042683  loss: 0.048287  eta: 0h13m  tot: 0h2m22s  (14.9%)\rEpoch: 74.4%  lr: 0.042683  loss: 0.048243  eta: 0h13m  tot: 0h2m22s  (14.9%)\rEpoch: 74.4%  lr: 0.042673  loss: 0.048216  eta: 0h13m  tot: 0h2m22s  (14.9%)\rEpoch: 74.5%  lr: 0.042653  loss: 0.048178  eta: 0h13m  tot: 0h2m22s  (14.9%)\rEpoch: 74.6%  lr: 0.042653  loss: 0.048136  eta: 0h13m  tot: 0h2m22s  (14.9%)\rEpoch: 74.7%  lr: 0.042643  loss: 0.048121  eta: 0h13m  tot: 0h2m23s  (14.9%)\rEpoch: 74.8%  lr: 0.042623  loss: 0.048101  eta: 0h13m  tot: 0h2m23s  (15.0%)\rEpoch: 74.9%  lr: 0.042613  loss: 0.048071  eta: 0h13m  tot: 0h2m23s  (15.0%)\rEpoch: 75.0%  lr: 0.042613  loss: 0.048061  eta: 0h13m  tot: 0h2m23s  (15.0%)\rEpoch: 75.1%  lr: 0.042603  loss: 0.048052  eta: 0h13m  tot: 0h2m23s  (15.0%)\rEpoch: 75.2%  lr: 0.042603  loss: 0.048032  eta: 0h13m  tot: 0h2m23s  (15.0%)\rEpoch: 75.3%  lr: 0.042593  loss: 0.047998  eta: 0h13m  tot: 0h2m23s  (15.1%)\rEpoch: 75.3%  lr: 0.042593  loss: 0.047987  eta: 0h13m  tot: 0h2m24s  (15.1%)\rEpoch: 75.4%  lr: 0.042573  loss: 0.047952  eta: 0h13m  tot: 0h2m24s  (15.1%)\rEpoch: 75.5%  lr: 0.042573  loss: 0.047941  eta: 0h13m  tot: 0h2m24s  (15.1%)\rEpoch: 75.6%  lr: 0.042573  loss: 0.047917  eta: 0h13m  tot: 0h2m24s  (15.1%)\rEpoch: 75.7%  lr: 0.042573  loss: 0.047901  eta: 0h13m  tot: 0h2m24s  (15.1%)\rEpoch: 75.8%  lr: 0.042573  loss: 0.047886  eta: 0h13m  tot: 0h2m24s  (15.2%)\rEpoch: 75.9%  lr: 0.042563  loss: 0.047858  eta: 0h13m  tot: 0h2m25s  (15.2%)\rEpoch: 76.0%  lr: 0.042563  loss: 0.047836  eta: 0h13m  tot: 0h2m25s  (15.2%)\rEpoch: 76.1%  lr: 0.042563  loss: 0.047848  eta: 0h13m  tot: 0h2m25s  (15.2%)\rEpoch: 76.2%  lr: 0.042563  loss: 0.047826  eta: 0h13m  tot: 0h2m25s  (15.2%)\rEpoch: 76.2%  lr: 0.042553  loss: 0.047817  eta: 0h13m  tot: 0h2m25s  (15.2%)\rEpoch: 76.3%  lr: 0.042543  loss: 0.047794  eta: 0h13m  tot: 0h2m26s  (15.3%)\rEpoch: 76.4%  lr: 0.042523  loss: 0.047776  eta: 0h13m  tot: 0h2m26s  (15.3%)\rEpoch: 76.5%  lr: 0.042523  loss: 0.047748  eta: 0h13m  tot: 0h2m26s  (15.3%)\rEpoch: 76.6%  lr: 0.042523  loss: 0.047706  eta: 0h13m  tot: 0h2m26s  (15.3%)\rEpoch: 76.7%  lr: 0.042523  loss: 0.047679  eta: 0h13m  tot: 0h2m26s  (15.3%)\rEpoch: 76.8%  lr: 0.042523  loss: 0.047638  eta: 0h13m  tot: 0h2m26s  (15.4%)\rEpoch: 76.9%  lr: 0.042523  loss: 0.047609  eta: 0h13m  tot: 0h2m26s  (15.4%)\rEpoch: 77.0%  lr: 0.042513  loss: 0.047583  eta: 0h13m  tot: 0h2m27s  (15.4%)\rEpoch: 77.1%  lr: 0.042513  loss: 0.047577  eta: 0h13m  tot: 0h2m27s  (15.4%)\rEpoch: 77.1%  lr: 0.042463  loss: 0.047549  eta: 0h13m  tot: 0h2m27s  (15.4%)\rEpoch: 77.2%  lr: 0.042443  loss: 0.047543  eta: 0h13m  tot: 0h2m27s  (15.4%)\rEpoch: 77.3%  lr: 0.042433  loss: 0.047523  eta: 0h13m  tot: 0h2m27s  (15.5%)\rEpoch: 77.4%  lr: 0.042433  loss: 0.047504  eta: 0h13m  tot: 0h2m28s  (15.5%)\rEpoch: 77.5%  lr: 0.042423  loss: 0.047473  eta: 0h13m  tot: 0h2m28s  (15.5%)\rEpoch: 77.6%  lr: 0.042423  loss: 0.047453  eta: 0h13m  tot: 0h2m28s  (15.5%)\rEpoch: 77.7%  lr: 0.042413  loss: 0.047432  eta: 0h13m  tot: 0h2m28s  (15.5%)\rEpoch: 77.8%  lr: 0.042393  loss: 0.047422  eta: 0h13m  tot: 0h2m28s  (15.6%)\rEpoch: 77.9%  lr: 0.042362  loss: 0.047397  eta: 0h13m  tot: 0h2m28s  (15.6%)\rEpoch: 78.0%  lr: 0.042352  loss: 0.047365  eta: 0h13m  tot: 0h2m29s  (15.6%)\rEpoch: 78.0%  lr: 0.042332  loss: 0.047342  eta: 0h13m  tot: 0h2m29s  (15.6%)\rEpoch: 78.1%  lr: 0.042292  loss: 0.047314  eta: 0h13m  tot: 0h2m29s  (15.6%)\rEpoch: 78.2%  lr: 0.042292  loss: 0.047294  eta: 0h13m  tot: 0h2m29s  (15.6%)\rEpoch: 78.3%  lr: 0.042282  loss: 0.047295  eta: 0h13m  tot: 0h2m29s  (15.7%)\rEpoch: 78.4%  lr: 0.042272  loss: 0.047283  eta: 0h13m  tot: 0h2m29s  (15.7%)\rEpoch: 78.5%  lr: 0.042262  loss: 0.047258  eta: 0h13m  tot: 0h2m30s  (15.7%)\rEpoch: 78.6%  lr: 0.042252  loss: 0.047226  eta: 0h13m  tot: 0h2m30s  (15.7%)\rEpoch: 78.7%  lr: 0.042242  loss: 0.047243  eta: 0h13m  tot: 0h2m30s  (15.7%)\rEpoch: 78.8%  lr: 0.042242  loss: 0.047209  eta: 0h13m  tot: 0h2m30s  (15.8%)\rEpoch: 78.9%  lr: 0.042242  loss: 0.047190  eta: 0h13m  tot: 0h2m30s  (15.8%)\rEpoch: 78.9%  lr: 0.042222  loss: 0.047166  eta: 0h13m  tot: 0h2m30s  (15.8%)\rEpoch: 79.0%  lr: 0.042202  loss: 0.047135  eta: 0h13m  tot: 0h2m31s  (15.8%)\rEpoch: 79.1%  lr: 0.042202  loss: 0.047114  eta: 0h13m  tot: 0h2m31s  (15.8%)\rEpoch: 79.2%  lr: 0.042202  loss: 0.047082  eta: 0h13m  tot: 0h2m31s  (15.8%)\rEpoch: 79.3%  lr: 0.042202  loss: 0.047059  eta: 0h13m  tot: 0h2m31s  (15.9%)\rEpoch: 79.4%  lr: 0.042202  loss: 0.047058  eta: 0h13m  tot: 0h2m31s  (15.9%)\rEpoch: 79.5%  lr: 0.042202  loss: 0.047057  eta: 0h13m  tot: 0h2m31s  (15.9%)\rEpoch: 79.6%  lr: 0.042182  loss: 0.047049  eta: 0h13m  tot: 0h2m32s  (15.9%)\rEpoch: 79.7%  lr: 0.042182  loss: 0.047025  eta: 0h13m  tot: 0h2m32s  (15.9%)\rEpoch: 79.8%  lr: 0.042162  loss: 0.047006  eta: 0h13m  tot: 0h2m32s  (16.0%)\rEpoch: 79.9%  lr: 0.042142  loss: 0.046984  eta: 0h13m  tot: 0h2m32s  (16.0%)\rEpoch: 79.9%  lr: 0.042142  loss: 0.046962  eta: 0h13m  tot: 0h2m32s  (16.0%)\rEpoch: 80.0%  lr: 0.042122  loss: 0.046919  eta: 0h13m  tot: 0h2m32s  (16.0%)\rEpoch: 80.1%  lr: 0.042122  loss: 0.046922  eta: 0h13m  tot: 0h2m33s  (16.0%)\rEpoch: 80.2%  lr: 0.042112  loss: 0.046891  eta: 0h13m  tot: 0h2m33s  (16.0%)\rEpoch: 80.3%  lr: 0.042112  loss: 0.046885  eta: 0h13m  tot: 0h2m33s  (16.1%)\rEpoch: 80.4%  lr: 0.042102  loss: 0.046868  eta: 0h13m  tot: 0h2m33s  (16.1%)\rEpoch: 80.5%  lr: 0.042092  loss: 0.046842  eta: 0h13m  tot: 0h2m33s  (16.1%)\rEpoch: 80.6%  lr: 0.042072  loss: 0.046825  eta: 0h13m  tot: 0h2m33s  (16.1%)\rEpoch: 80.7%  lr: 0.042062  loss: 0.046842  eta: 0h13m  tot: 0h2m33s  (16.1%)\rEpoch: 80.8%  lr: 0.042052  loss: 0.046856  eta: 0h13m  tot: 0h2m34s  (16.2%)\rEpoch: 80.8%  lr: 0.042042  loss: 0.046836  eta: 0h13m  tot: 0h2m34s  (16.2%)\rEpoch: 80.9%  lr: 0.042022  loss: 0.046810  eta: 0h13m  tot: 0h2m34s  (16.2%)\rEpoch: 81.0%  lr: 0.042022  loss: 0.046798  eta: 0h13m  tot: 0h2m34s  (16.2%)\rEpoch: 81.1%  lr: 0.042022  loss: 0.046769  eta: 0h13m  tot: 0h2m34s  (16.2%)\rEpoch: 81.2%  lr: 0.042002  loss: 0.046752  eta: 0h13m  tot: 0h2m35s  (16.2%)\rEpoch: 81.3%  lr: 0.041992  loss: 0.046753  eta: 0h13m  tot: 0h2m35s  (16.3%)\rEpoch: 81.4%  lr: 0.041992  loss: 0.046736  eta: 0h13m  tot: 0h2m35s  (16.3%)\rEpoch: 81.5%  lr: 0.041982  loss: 0.046705  eta: 0h13m  tot: 0h2m35s  (16.3%)\rEpoch: 81.6%  lr: 0.041962  loss: 0.046672  eta: 0h13m  tot: 0h2m35s  (16.3%)\rEpoch: 81.7%  lr: 0.041952  loss: 0.046653  eta: 0h13m  tot: 0h2m35s  (16.3%)\rEpoch: 81.7%  lr: 0.041952  loss: 0.046649  eta: 0h13m  tot: 0h2m35s  (16.3%)\rEpoch: 81.8%  lr: 0.041952  loss: 0.046634  eta: 0h13m  tot: 0h2m36s  (16.4%)\rEpoch: 81.9%  lr: 0.041942  loss: 0.046621  eta: 0h13m  tot: 0h2m36s  (16.4%)\rEpoch: 82.0%  lr: 0.041942  loss: 0.046598  eta: 0h13m  tot: 0h2m36s  (16.4%)\rEpoch: 82.1%  lr: 0.041942  loss: 0.046563  eta: 0h13m  tot: 0h2m36s  (16.4%)\rEpoch: 82.2%  lr: 0.041932  loss: 0.046545  eta: 0h13m  tot: 0h2m36s  (16.4%)\rEpoch: 82.3%  lr: 0.041912  loss: 0.046513  eta: 0h13m  tot: 0h2m36s  (16.5%)\rEpoch: 82.4%  lr: 0.041912  loss: 0.046508  eta: 0h13m  tot: 0h2m37s  (16.5%)\rEpoch: 82.5%  lr: 0.041902  loss: 0.046479  eta: 0h13m  tot: 0h2m37s  (16.5%)\rEpoch: 82.6%  lr: 0.041902  loss: 0.046469  eta: 0h13m  tot: 0h2m37s  (16.5%)\rEpoch: 82.6%  lr: 0.041902  loss: 0.046451  eta: 0h13m  tot: 0h2m37s  (16.5%)\rEpoch: 82.7%  lr: 0.041892  loss: 0.046434  eta: 0h13m  tot: 0h2m37s  (16.5%)\rEpoch: 82.8%  lr: 0.041872  loss: 0.046448  eta: 0h13m  tot: 0h2m37s  (16.6%)\rEpoch: 82.9%  lr: 0.041852  loss: 0.046422  eta: 0h13m  tot: 0h2m38s  (16.6%)\rEpoch: 83.0%  lr: 0.041842  loss: 0.046403  eta: 0h13m  tot: 0h2m38s  (16.6%)\rEpoch: 83.1%  lr: 0.041832  loss: 0.046373  eta: 0h13m  tot: 0h2m38s  (16.6%)\rEpoch: 83.2%  lr: 0.041822  loss: 0.046362  eta: 0h13m  tot: 0h2m38s  (16.6%)\rEpoch: 83.3%  lr: 0.041812  loss: 0.046340  eta: 0h13m  tot: 0h2m38s  (16.7%)\rEpoch: 83.4%  lr: 0.041812  loss: 0.046325  eta: 0h13m  tot: 0h2m38s  (16.7%)\rEpoch: 83.5%  lr: 0.041812  loss: 0.046297  eta: 0h13m  tot: 0h2m39s  (16.7%)\rEpoch: 83.5%  lr: 0.041792  loss: 0.046269  eta: 0h13m  tot: 0h2m39s  (16.7%)\rEpoch: 83.6%  lr: 0.041792  loss: 0.046251  eta: 0h13m  tot: 0h2m39s  (16.7%)\rEpoch: 83.7%  lr: 0.041772  loss: 0.046217  eta: 0h13m  tot: 0h2m39s  (16.7%)\rEpoch: 83.8%  lr: 0.041762  loss: 0.046187  eta: 0h13m  tot: 0h2m39s  (16.8%)\rEpoch: 83.9%  lr: 0.041752  loss: 0.046184  eta: 0h13m  tot: 0h2m39s  (16.8%)\rEpoch: 84.0%  lr: 0.041742  loss: 0.046168  eta: 0h13m  tot: 0h2m40s  (16.8%)\rEpoch: 84.1%  lr: 0.041722  loss: 0.046135  eta: 0h13m  tot: 0h2m40s  (16.8%)\rEpoch: 84.2%  lr: 0.041702  loss: 0.046120  eta: 0h13m  tot: 0h2m40s  (16.8%)\rEpoch: 84.3%  lr: 0.041692  loss: 0.046093  eta: 0h13m  tot: 0h2m40s  (16.9%)\rEpoch: 84.4%  lr: 0.041672  loss: 0.046081  eta: 0h13m  tot: 0h2m40s  (16.9%)\rEpoch: 84.4%  lr: 0.041652  loss: 0.046058  eta: 0h13m  tot: 0h2m40s  (16.9%)\rEpoch: 84.5%  lr: 0.041642  loss: 0.046056  eta: 0h13m  tot: 0h2m41s  (16.9%)\rEpoch: 84.6%  lr: 0.041632  loss: 0.046036  eta: 0h13m  tot: 0h2m41s  (16.9%)\rEpoch: 84.7%  lr: 0.041622  loss: 0.046025  eta: 0h13m  tot: 0h2m41s  (16.9%)\rEpoch: 84.8%  lr: 0.041582  loss: 0.046023  eta: 0h13m  tot: 0h2m41s  (17.0%)\rEpoch: 84.9%  lr: 0.041582  loss: 0.046013  eta: 0h13m  tot: 0h2m41s  (17.0%)\rEpoch: 85.0%  lr: 0.041562  loss: 0.045979  eta: 0h13m  tot: 0h2m41s  (17.0%)\rEpoch: 85.1%  lr: 0.041552  loss: 0.045955  eta: 0h13m  tot: 0h2m42s  (17.0%)\rEpoch: 85.2%  lr: 0.041542  loss: 0.045923  eta: 0h13m  tot: 0h2m42s  (17.0%)\rEpoch: 85.3%  lr: 0.041532  loss: 0.045917  eta: 0h13m  tot: 0h2m42s  (17.1%)\rEpoch: 85.3%  lr: 0.041532  loss: 0.045890  eta: 0h13m  tot: 0h2m42s  (17.1%)\rEpoch: 85.4%  lr: 0.041532  loss: 0.045860  eta: 0h13m  tot: 0h2m42s  (17.1%)\rEpoch: 85.5%  lr: 0.041522  loss: 0.045869  eta: 0h13m  tot: 0h2m42s  (17.1%)\rEpoch: 85.6%  lr: 0.041512  loss: 0.045854  eta: 0h13m  tot: 0h2m43s  (17.1%)\rEpoch: 85.7%  lr: 0.041492  loss: 0.045834  eta: 0h13m  tot: 0h2m43s  (17.1%)\rEpoch: 85.8%  lr: 0.041472  loss: 0.045805  eta: 0h13m  tot: 0h2m43s  (17.2%)\rEpoch: 85.9%  lr: 0.041462  loss: 0.045790  eta: 0h13m  tot: 0h2m43s  (17.2%)\rEpoch: 86.0%  lr: 0.041432  loss: 0.045794  eta: 0h13m  tot: 0h2m43s  (17.2%)\rEpoch: 86.1%  lr: 0.041422  loss: 0.045770  eta: 0h13m  tot: 0h2m43s  (17.2%)\rEpoch: 86.2%  lr: 0.041412  loss: 0.045748  eta: 0h13m  tot: 0h2m44s  (17.2%)\rEpoch: 86.2%  lr: 0.041392  loss: 0.045749  eta: 0h13m  tot: 0h2m44s  (17.2%)\rEpoch: 86.3%  lr: 0.041382  loss: 0.045738  eta: 0h13m  tot: 0h2m44s  (17.3%)\rEpoch: 86.4%  lr: 0.041361  loss: 0.045712  eta: 0h13m  tot: 0h2m44s  (17.3%)\rEpoch: 86.5%  lr: 0.041341  loss: 0.045692  eta: 0h13m  tot: 0h2m44s  (17.3%)\rEpoch: 86.6%  lr: 0.041321  loss: 0.045685  eta: 0h13m  tot: 0h2m44s  (17.3%)\rEpoch: 86.7%  lr: 0.041301  loss: 0.045682  eta: 0h13m  tot: 0h2m45s  (17.3%)\rEpoch: 86.8%  lr: 0.041291  loss: 0.045673  eta: 0h13m  tot: 0h2m45s  (17.4%)\rEpoch: 86.9%  lr: 0.041291  loss: 0.045653  eta: 0h13m  tot: 0h2m45s  (17.4%)\rEpoch: 87.0%  lr: 0.041261  loss: 0.045627  eta: 0h13m  tot: 0h2m45s  (17.4%)\rEpoch: 87.1%  lr: 0.041261  loss: 0.045602  eta: 0h13m  tot: 0h2m45s  (17.4%)\rEpoch: 87.1%  lr: 0.041241  loss: 0.045583  eta: 0h13m  tot: 0h2m45s  (17.4%)\rEpoch: 87.2%  lr: 0.041211  loss: 0.045586  eta: 0h13m  tot: 0h2m46s  (17.4%)\rEpoch: 87.3%  lr: 0.041201  loss: 0.045563  eta: 0h13m  tot: 0h2m46s  (17.5%)\rEpoch: 87.4%  lr: 0.041201  loss: 0.045565  eta: 0h13m  tot: 0h2m46s  (17.5%)\rEpoch: 87.5%  lr: 0.041191  loss: 0.045537  eta: 0h13m  tot: 0h2m46s  (17.5%)\rEpoch: 87.6%  lr: 0.041191  loss: 0.045506  eta: 0h13m  tot: 0h2m46s  (17.5%)\rEpoch: 87.7%  lr: 0.041191  loss: 0.045487  eta: 0h13m  tot: 0h2m46s  (17.5%)\rEpoch: 87.8%  lr: 0.041191  loss: 0.045475  eta: 0h13m  tot: 0h2m47s  (17.6%)\rEpoch: 87.9%  lr: 0.041171  loss: 0.045451  eta: 0h13m  tot: 0h2m47s  (17.6%)\rEpoch: 88.0%  lr: 0.041171  loss: 0.045414  eta: 0h13m  tot: 0h2m47s  (17.6%)\rEpoch: 88.0%  lr: 0.041161  loss: 0.045411  eta: 0h13m  tot: 0h2m47s  (17.6%)\rEpoch: 88.1%  lr: 0.041151  loss: 0.045392  eta: 0h13m  tot: 0h2m47s  (17.6%)\rEpoch: 88.2%  lr: 0.041151  loss: 0.045374  eta: 0h13m  tot: 0h2m47s  (17.6%)\rEpoch: 88.3%  lr: 0.041131  loss: 0.045347  eta: 0h13m  tot: 0h2m48s  (17.7%)\rEpoch: 88.4%  lr: 0.041121  loss: 0.045347  eta: 0h13m  tot: 0h2m48s  (17.7%)\rEpoch: 88.5%  lr: 0.041121  loss: 0.045333  eta: 0h13m  tot: 0h2m48s  (17.7%)\rEpoch: 88.6%  lr: 0.041121  loss: 0.045328  eta: 0h13m  tot: 0h2m48s  (17.7%)\rEpoch: 88.7%  lr: 0.041111  loss: 0.045318  eta: 0h13m  tot: 0h2m48s  (17.7%)\rEpoch: 88.8%  lr: 0.041111  loss: 0.045303  eta: 0h13m  tot: 0h2m48s  (17.8%)\rEpoch: 88.9%  lr: 0.041101  loss: 0.045297  eta: 0h13m  tot: 0h2m49s  (17.8%)\rEpoch: 88.9%  lr: 0.041091  loss: 0.045294  eta: 0h13m  tot: 0h2m49s  (17.8%)\rEpoch: 89.0%  lr: 0.041081  loss: 0.045274  eta: 0h13m  tot: 0h2m49s  (17.8%)\rEpoch: 89.1%  lr: 0.041081  loss: 0.045259  eta: 0h13m  tot: 0h2m49s  (17.8%)\rEpoch: 89.2%  lr: 0.041061  loss: 0.045233  eta: 0h13m  tot: 0h2m49s  (17.8%)\rEpoch: 89.3%  lr: 0.041061  loss: 0.045204  eta: 0h13m  tot: 0h2m49s  (17.9%)\rEpoch: 89.4%  lr: 0.041051  loss: 0.045173  eta: 0h13m  tot: 0h2m50s  (17.9%)\rEpoch: 89.5%  lr: 0.041041  loss: 0.045154  eta: 0h13m  tot: 0h2m50s  (17.9%)\rEpoch: 89.6%  lr: 0.041031  loss: 0.045133  eta: 0h13m  tot: 0h2m50s  (17.9%)\rEpoch: 89.7%  lr: 0.041021  loss: 0.045114  eta: 0h13m  tot: 0h2m50s  (17.9%)\rEpoch: 89.8%  lr: 0.041001  loss: 0.045087  eta: 0h12m  tot: 0h2m50s  (18.0%)\rEpoch: 89.8%  lr: 0.040981  loss: 0.045075  eta: 0h12m  tot: 0h2m50s  (18.0%)\rEpoch: 89.9%  lr: 0.040941  loss: 0.045070  eta: 0h12m  tot: 0h2m50s  (18.0%)\rEpoch: 90.0%  lr: 0.040921  loss: 0.045057  eta: 0h12m  tot: 0h2m51s  (18.0%)\rEpoch: 90.1%  lr: 0.040921  loss: 0.045058  eta: 0h12m  tot: 0h2m51s  (18.0%)\rEpoch: 90.2%  lr: 0.040911  loss: 0.045049  eta: 0h12m  tot: 0h2m51s  (18.0%)\rEpoch: 90.3%  lr: 0.040901  loss: 0.045034  eta: 0h12m  tot: 0h2m51s  (18.1%)\rEpoch: 90.4%  lr: 0.040881  loss: 0.045008  eta: 0h12m  tot: 0h2m51s  (18.1%)\rEpoch: 90.5%  lr: 0.040881  loss: 0.044978  eta: 0h12m  tot: 0h2m51s  (18.1%)\rEpoch: 90.6%  lr: 0.040871  loss: 0.044987  eta: 0h12m  tot: 0h2m52s  (18.1%)\rEpoch: 90.7%  lr: 0.040831  loss: 0.044985  eta: 0h12m  tot: 0h2m52s  (18.1%)\rEpoch: 90.7%  lr: 0.040831  loss: 0.044968  eta: 0h12m  tot: 0h2m52s  (18.1%)\rEpoch: 90.8%  lr: 0.040821  loss: 0.044947  eta: 0h12m  tot: 0h2m52s  (18.2%)\rEpoch: 90.9%  lr: 0.040821  loss: 0.044933  eta: 0h12m  tot: 0h2m52s  (18.2%)\rEpoch: 91.0%  lr: 0.040811  loss: 0.044903  eta: 0h12m  tot: 0h2m53s  (18.2%)\rEpoch: 91.1%  lr: 0.040811  loss: 0.044894  eta: 0h12m  tot: 0h2m53s  (18.2%)\rEpoch: 91.2%  lr: 0.040811  loss: 0.044892  eta: 0h12m  tot: 0h2m53s  (18.2%)\rEpoch: 91.3%  lr: 0.040811  loss: 0.044869  eta: 0h12m  tot: 0h2m53s  (18.3%)\rEpoch: 91.4%  lr: 0.040801  loss: 0.044851  eta: 0h12m  tot: 0h2m53s  (18.3%)\rEpoch: 91.5%  lr: 0.040791  loss: 0.044831  eta: 0h12m  tot: 0h2m53s  (18.3%)\rEpoch: 91.6%  lr: 0.040781  loss: 0.044815  eta: 0h12m  tot: 0h2m54s  (18.3%)\rEpoch: 91.6%  lr: 0.040771  loss: 0.044804  eta: 0h12m  tot: 0h2m54s  (18.3%)\rEpoch: 91.7%  lr: 0.040771  loss: 0.044783  eta: 0h12m  tot: 0h2m54s  (18.3%)\rEpoch: 91.8%  lr: 0.040761  loss: 0.044768  eta: 0h12m  tot: 0h2m54s  (18.4%)\rEpoch: 91.9%  lr: 0.040751  loss: 0.044758  eta: 0h12m  tot: 0h2m54s  (18.4%)\rEpoch: 92.0%  lr: 0.040751  loss: 0.044747  eta: 0h12m  tot: 0h2m54s  (18.4%)\rEpoch: 92.1%  lr: 0.040731  loss: 0.044746  eta: 0h12m  tot: 0h2m55s  (18.4%)\rEpoch: 92.2%  lr: 0.040701  loss: 0.044724  eta: 0h12m  tot: 0h2m55s  (18.4%)\rEpoch: 92.3%  lr: 0.040691  loss: 0.044704  eta: 0h12m  tot: 0h2m55s  (18.5%)\rEpoch: 92.4%  lr: 0.040661  loss: 0.044691  eta: 0h12m  tot: 0h2m55s  (18.5%)\rEpoch: 92.5%  lr: 0.040641  loss: 0.044659  eta: 0h12m  tot: 0h2m55s  (18.5%)\rEpoch: 92.5%  lr: 0.040631  loss: 0.044631  eta: 0h12m  tot: 0h2m55s  (18.5%)\rEpoch: 92.6%  lr: 0.040621  loss: 0.044611  eta: 0h12m  tot: 0h2m56s  (18.5%)\rEpoch: 92.7%  lr: 0.040621  loss: 0.044606  eta: 0h12m  tot: 0h2m56s  (18.5%)\rEpoch: 92.8%  lr: 0.040611  loss: 0.044599  eta: 0h12m  tot: 0h2m56s  (18.6%)\rEpoch: 92.9%  lr: 0.040601  loss: 0.044580  eta: 0h12m  tot: 0h2m56s  (18.6%)\rEpoch: 93.0%  lr: 0.040591  loss: 0.044551  eta: 0h12m  tot: 0h2m56s  (18.6%)\rEpoch: 93.1%  lr: 0.040591  loss: 0.044517  eta: 0h12m  tot: 0h2m56s  (18.6%)\rEpoch: 93.2%  lr: 0.040561  loss: 0.044509  eta: 0h12m  tot: 0h2m57s  (18.6%)\rEpoch: 93.3%  lr: 0.040551  loss: 0.044511  eta: 0h12m  tot: 0h2m57s  (18.7%)\rEpoch: 93.4%  lr: 0.040551  loss: 0.044479  eta: 0h12m  tot: 0h2m57s  (18.7%)\rEpoch: 93.4%  lr: 0.040541  loss: 0.044450  eta: 0h12m  tot: 0h2m57s  (18.7%)\rEpoch: 93.5%  lr: 0.040531  loss: 0.044444  eta: 0h12m  tot: 0h2m57s  (18.7%)\rEpoch: 93.6%  lr: 0.040511  loss: 0.044425  eta: 0h12m  tot: 0h2m57s  (18.7%)\rEpoch: 93.7%  lr: 0.040501  loss: 0.044426  eta: 0h12m  tot: 0h2m58s  (18.7%)\rEpoch: 93.8%  lr: 0.040491  loss: 0.044406  eta: 0h12m  tot: 0h2m58s  (18.8%)\rEpoch: 93.9%  lr: 0.040491  loss: 0.044386  eta: 0h12m  tot: 0h2m58s  (18.8%)\rEpoch: 94.0%  lr: 0.040481  loss: 0.044403  eta: 0h12m  tot: 0h2m58s  (18.8%)\rEpoch: 94.1%  lr: 0.040481  loss: 0.044391  eta: 0h12m  tot: 0h2m58s  (18.8%)\rEpoch: 94.2%  lr: 0.040481  loss: 0.044366  eta: 0h12m  tot: 0h2m59s  (18.8%)\rEpoch: 94.3%  lr: 0.040471  loss: 0.044341  eta: 0h12m  tot: 0h2m59s  (18.9%)\rEpoch: 94.3%  lr: 0.040471  loss: 0.044323  eta: 0h12m  tot: 0h2m59s  (18.9%)\rEpoch: 94.4%  lr: 0.040461  loss: 0.044326  eta: 0h12m  tot: 0h2m59s  (18.9%)\rEpoch: 94.5%  lr: 0.040461  loss: 0.044323  eta: 0h12m  tot: 0h2m59s  (18.9%)\rEpoch: 94.6%  lr: 0.040451  loss: 0.044297  eta: 0h12m  tot: 0h2m59s  (18.9%)\rEpoch: 94.7%  lr: 0.040451  loss: 0.044283  eta: 0h12m  tot: 0h3m0s  (18.9%)\rEpoch: 94.8%  lr: 0.040451  loss: 0.044258  eta: 0h12m  tot: 0h3m0s  (19.0%)\rEpoch: 94.9%  lr: 0.040441  loss: 0.044249  eta: 0h12m  tot: 0h3m0s  (19.0%)\rEpoch: 95.0%  lr: 0.040441  loss: 0.044229  eta: 0h12m  tot: 0h3m0s  (19.0%)\rEpoch: 95.1%  lr: 0.040431  loss: 0.044203  eta: 0h12m  tot: 0h3m0s  (19.0%)\rEpoch: 95.2%  lr: 0.040421  loss: 0.044186  eta: 0h12m  tot: 0h3m0s  (19.0%)\rEpoch: 95.2%  lr: 0.040421  loss: 0.044162  eta: 0h12m  tot: 0h3m1s  (19.0%)\rEpoch: 95.3%  lr: 0.040411  loss: 0.044144  eta: 0h12m  tot: 0h3m1s  (19.1%)\rEpoch: 95.4%  lr: 0.040401  loss: 0.044143  eta: 0h12m  tot: 0h3m1s  (19.1%)\rEpoch: 95.5%  lr: 0.040401  loss: 0.044133  eta: 0h12m  tot: 0h3m1s  (19.1%)\rEpoch: 95.6%  lr: 0.040381  loss: 0.044108  eta: 0h12m  tot: 0h3m1s  (19.1%)\rEpoch: 95.7%  lr: 0.040381  loss: 0.044091  eta: 0h12m  tot: 0h3m1s  (19.1%)\rEpoch: 95.8%  lr: 0.040351  loss: 0.044080  eta: 0h12m  tot: 0h3m2s  (19.2%)\rEpoch: 95.9%  lr: 0.040340  loss: 0.044046  eta: 0h12m  tot: 0h3m2s  (19.2%)\rEpoch: 96.0%  lr: 0.040330  loss: 0.044031  eta: 0h12m  tot: 0h3m2s  (19.2%)\rEpoch: 96.1%  lr: 0.040330  loss: 0.044022  eta: 0h12m  tot: 0h3m2s  (19.2%)\rEpoch: 96.1%  lr: 0.040310  loss: 0.044023  eta: 0h12m  tot: 0h3m2s  (19.2%)\rEpoch: 96.2%  lr: 0.040300  loss: 0.044020  eta: 0h12m  tot: 0h3m2s  (19.2%)\rEpoch: 96.3%  lr: 0.040270  loss: 0.044001  eta: 0h12m  tot: 0h3m3s  (19.3%)\rEpoch: 96.4%  lr: 0.040270  loss: 0.043977  eta: 0h12m  tot: 0h3m3s  (19.3%)\rEpoch: 96.5%  lr: 0.040270  loss: 0.043968  eta: 0h12m  tot: 0h3m3s  (19.3%)\rEpoch: 96.6%  lr: 0.040260  loss: 0.043960  eta: 0h12m  tot: 0h3m3s  (19.3%)\rEpoch: 96.7%  lr: 0.040240  loss: 0.043940  eta: 0h12m  tot: 0h3m3s  (19.3%)\rEpoch: 96.8%  lr: 0.040240  loss: 0.043926  eta: 0h12m  tot: 0h3m3s  (19.4%)\rEpoch: 96.9%  lr: 0.040240  loss: 0.043899  eta: 0h12m  tot: 0h3m4s  (19.4%)\rEpoch: 97.0%  lr: 0.040240  loss: 0.043894  eta: 0h12m  tot: 0h3m4s  (19.4%)\rEpoch: 97.0%  lr: 0.040220  loss: 0.043903  eta: 0h12m  tot: 0h3m4s  (19.4%)\rEpoch: 97.1%  lr: 0.040200  loss: 0.043886  eta: 0h12m  tot: 0h3m4s  (19.4%)\rEpoch: 97.2%  lr: 0.040200  loss: 0.043865  eta: 0h12m  tot: 0h3m4s  (19.4%)\rEpoch: 97.3%  lr: 0.040200  loss: 0.043829  eta: 0h12m  tot: 0h3m4s  (19.5%)\rEpoch: 97.4%  lr: 0.040190  loss: 0.043804  eta: 0h12m  tot: 0h3m5s  (19.5%)\rEpoch: 97.5%  lr: 0.040180  loss: 0.043781  eta: 0h12m  tot: 0h3m5s  (19.5%)\rEpoch: 97.6%  lr: 0.040160  loss: 0.043771  eta: 0h12m  tot: 0h3m5s  (19.5%)\rEpoch: 97.7%  lr: 0.040160  loss: 0.043761  eta: 0h12m  tot: 0h3m5s  (19.5%)\rEpoch: 97.8%  lr: 0.040150  loss: 0.043740  eta: 0h12m  tot: 0h3m5s  (19.6%)\rEpoch: 97.9%  lr: 0.040150  loss: 0.043723  eta: 0h12m  tot: 0h3m5s  (19.6%)\rEpoch: 97.9%  lr: 0.040150  loss: 0.043698  eta: 0h12m  tot: 0h3m6s  (19.6%)\rEpoch: 98.0%  lr: 0.040130  loss: 0.043686  eta: 0h12m  tot: 0h3m6s  (19.6%)\rEpoch: 98.1%  lr: 0.040130  loss: 0.043661  eta: 0h12m  tot: 0h3m6s  (19.6%)\rEpoch: 98.2%  lr: 0.040090  loss: 0.043642  eta: 0h12m  tot: 0h3m6s  (19.6%)\rEpoch: 98.3%  lr: 0.040080  loss: 0.043613  eta: 0h12m  tot: 0h3m6s  (19.7%)\rEpoch: 98.4%  lr: 0.040080  loss: 0.043600  eta: 0h12m  tot: 0h3m6s  (19.7%)\rEpoch: 98.5%  lr: 0.040080  loss: 0.043592  eta: 0h12m  tot: 0h3m7s  (19.7%)\rEpoch: 98.6%  lr: 0.040080  loss: 0.043594  eta: 0h12m  tot: 0h3m7s  (19.7%)\rEpoch: 98.7%  lr: 0.040070  loss: 0.043569  eta: 0h12m  tot: 0h3m7s  (19.7%)\rEpoch: 98.8%  lr: 0.040070  loss: 0.043557  eta: 0h12m  tot: 0h3m7s  (19.8%)\rEpoch: 98.8%  lr: 0.040070  loss: 0.043556  eta: 0h12m  tot: 0h3m7s  (19.8%)\rEpoch: 98.9%  lr: 0.040070  loss: 0.043543  eta: 0h12m  tot: 0h3m7s  (19.8%)\rEpoch: 99.0%  lr: 0.040060  loss: 0.043510  eta: 0h12m  tot: 0h3m8s  (19.8%)\rEpoch: 99.1%  lr: 0.040060  loss: 0.043496  eta: 0h12m  tot: 0h3m8s  (19.8%)\rEpoch: 99.2%  lr: 0.040050  loss: 0.043503  eta: 0h12m  tot: 0h3m8s  (19.8%)\rEpoch: 99.3%  lr: 0.040040  loss: 0.043487  eta: 0h12m  tot: 0h3m8s  (19.9%)\rEpoch: 99.4%  lr: 0.040030  loss: 0.043471  eta: 0h12m  tot: 0h3m8s  (19.9%)\rEpoch: 99.5%  lr: 0.040000  loss: 0.043453  eta: 0h12m  tot: 0h3m8s  (19.9%)\rEpoch: 99.6%  lr: 0.040000  loss: 0.043438  eta: 0h12m  tot: 0h3m9s  (19.9%)\rEpoch: 99.7%  lr: 0.040000  loss: 0.043416  eta: 0h12m  tot: 0h3m9s  (19.9%)\rEpoch: 99.7%  lr: 0.040000  loss: 0.043409  eta: 0h12m  tot: 0h3m9s  (19.9%)\rEpoch: 99.8%  lr: 0.040000  loss: 0.043379  eta: 0h12m  tot: 0h3m9s  (20.0%)\rEpoch: 99.9%  lr: 0.040000  loss: 0.043372  eta: 0h12m  tot: 0h3m9s  (20.0%)\rEpoch: 100.0%  lr: 0.040000  loss: 0.043357  eta: 0h12m  tot: 0h3m9s  (20.0%)\rEpoch: 0.1%  lr: 0.040000  loss: 0.013239  eta: 0h2m  tot: 0h3m9s  (20.0%)\rEpoch: 0.2%  lr: 0.040000  loss: 0.013281  eta: 0h2m  tot: 0h3m9s  (20.0%)\rEpoch: 0.3%  lr: 0.040000  loss: 0.014400  eta: 0h2m  tot: 0h3m9s  (20.1%)\rEpoch: 0.4%  lr: 0.040000  loss: 0.014869  eta: 0h2m  tot: 0h3m9s  (20.1%)\rEpoch: 0.4%  lr: 0.039980  loss: 0.013736  eta: 0h3m  tot: 0h3m9s  (20.1%)\rEpoch: 0.5%  lr: 0.039970  loss: 0.012936  eta: 0h4m  tot: 0h3m9s  (20.1%)\rEpoch: 0.6%  lr: 0.039950  loss: 0.013772  eta: 0h5m  tot: 0h3m10s  (20.1%)\rEpoch: 0.7%  lr: 0.039940  loss: 0.013866  eta: 0h6m  tot: 0h3m10s  (20.1%)\rEpoch: 0.8%  lr: 0.039940  loss: 0.014849  eta: 0h7m  tot: 0h3m10s  (20.2%)\rEpoch: 0.9%  lr: 0.039930  loss: 0.014201  eta: 0h7m  tot: 0h3m10s  (20.2%)\rEpoch: 1.0%  lr: 0.039930  loss: 0.013892  eta: 0h7m  tot: 0h3m10s  (20.2%)\rEpoch: 1.1%  lr: 0.039910  loss: 0.013162  eta: 0h8m  tot: 0h3m10s  (20.2%)\rEpoch: 1.2%  lr: 0.039910  loss: 0.013376  eta: 0h8m  tot: 0h3m10s  (20.2%)\rEpoch: 1.3%  lr: 0.039910  loss: 0.013513  eta: 0h8m  tot: 0h3m11s  (20.3%)\rEpoch: 1.3%  lr: 0.039910  loss: 0.013781  eta: 0h8m  tot: 0h3m11s  (20.3%)\rEpoch: 1.4%  lr: 0.039910  loss: 0.013258  eta: 0h9m  tot: 0h3m11s  (20.3%)\rEpoch: 1.5%  lr: 0.039910  loss: 0.012909  eta: 0h9m  tot: 0h3m11s  (20.3%)\rEpoch: 1.6%  lr: 0.039890  loss: 0.012410  eta: 0h9m  tot: 0h3m11s  (20.3%)\rEpoch: 1.7%  lr: 0.039870  loss: 0.012469  eta: 0h9m  tot: 0h3m11s  (20.3%)\rEpoch: 1.8%  lr: 0.039850  loss: 0.012219  eta: 0h9m  tot: 0h3m12s  (20.4%)\rEpoch: 1.9%  lr: 0.039840  loss: 0.012309  eta: 0h9m  tot: 0h3m12s  (20.4%)\rEpoch: 2.0%  lr: 0.039830  loss: 0.012811  eta: 0h9m  tot: 0h3m12s  (20.4%)\rEpoch: 2.1%  lr: 0.039830  loss: 0.013083  eta: 0h9m  tot: 0h3m12s  (20.4%)\rEpoch: 2.2%  lr: 0.039820  loss: 0.013135  eta: 0h9m  tot: 0h3m12s  (20.4%)\rEpoch: 2.2%  lr: 0.039800  loss: 0.013164  eta: 0h9m  tot: 0h3m12s  (20.4%)\rEpoch: 2.3%  lr: 0.039800  loss: 0.013136  eta: 0h10m  tot: 0h3m13s  (20.5%)\rEpoch: 2.4%  lr: 0.039800  loss: 0.013077  eta: 0h10m  tot: 0h3m13s  (20.5%)\rEpoch: 2.5%  lr: 0.039800  loss: 0.012898  eta: 0h10m  tot: 0h3m13s  (20.5%)\rEpoch: 2.6%  lr: 0.039800  loss: 0.012784  eta: 0h10m  tot: 0h3m13s  (20.5%)\rEpoch: 2.7%  lr: 0.039800  loss: 0.012601  eta: 0h10m  tot: 0h3m13s  (20.5%)\rEpoch: 2.8%  lr: 0.039800  loss: 0.012737  eta: 0h10m  tot: 0h3m13s  (20.6%)\rEpoch: 2.9%  lr: 0.039790  loss: 0.012577  eta: 0h10m  tot: 0h3m13s  (20.6%)\rEpoch: 3.0%  lr: 0.039790  loss: 0.012460  eta: 0h10m  tot: 0h3m14s  (20.6%)\rEpoch: 3.1%  lr: 0.039780  loss: 0.012348  eta: 0h10m  tot: 0h3m14s  (20.6%)\rEpoch: 3.1%  lr: 0.039750  loss: 0.012768  eta: 0h10m  tot: 0h3m14s  (20.6%)\rEpoch: 3.2%  lr: 0.039740  loss: 0.012723  eta: 0h10m  tot: 0h3m14s  (20.6%)\rEpoch: 3.3%  lr: 0.039740  loss: 0.012563  eta: 0h10m  tot: 0h3m14s  (20.7%)\rEpoch: 3.4%  lr: 0.039720  loss: 0.012418  eta: 0h10m  tot: 0h3m14s  (20.7%)\rEpoch: 3.5%  lr: 0.039720  loss: 0.012262  eta: 0h10m  tot: 0h3m15s  (20.7%)\rEpoch: 3.6%  lr: 0.039720  loss: 0.012442  eta: 0h10m  tot: 0h3m15s  (20.7%)\rEpoch: 3.7%  lr: 0.039710  loss: 0.012639  eta: 0h10m  tot: 0h3m15s  (20.7%)\rEpoch: 3.8%  lr: 0.039710  loss: 0.012484  eta: 0h10m  tot: 0h3m15s  (20.8%)\rEpoch: 3.9%  lr: 0.039710  loss: 0.012414  eta: 0h10m  tot: 0h3m15s  (20.8%)\rEpoch: 4.0%  lr: 0.039710  loss: 0.012369  eta: 0h10m  tot: 0h3m15s  (20.8%)\rEpoch: 4.1%  lr: 0.039700  loss: 0.012335  eta: 0h10m  tot: 0h3m15s  (20.8%)\rEpoch: 4.1%  lr: 0.039690  loss: 0.012226  eta: 0h10m  tot: 0h3m16s  (20.8%)\rEpoch: 4.2%  lr: 0.039690  loss: 0.012273  eta: 0h10m  tot: 0h3m16s  (20.8%)\rEpoch: 4.3%  lr: 0.039660  loss: 0.012278  eta: 0h10m  tot: 0h3m16s  (20.9%)\rEpoch: 4.4%  lr: 0.039640  loss: 0.012349  eta: 0h10m  tot: 0h3m16s  (20.9%)\rEpoch: 4.5%  lr: 0.039640  loss: 0.012436  eta: 0h10m  tot: 0h3m16s  (20.9%)\rEpoch: 4.6%  lr: 0.039640  loss: 0.012566  eta: 0h10m  tot: 0h3m16s  (20.9%)\rEpoch: 4.7%  lr: 0.039630  loss: 0.012598  eta: 0h10m  tot: 0h3m17s  (20.9%)\rEpoch: 4.8%  lr: 0.039630  loss: 0.012677  eta: 0h10m  tot: 0h3m17s  (21.0%)\rEpoch: 4.9%  lr: 0.039610  loss: 0.012611  eta: 0h10m  tot: 0h3m17s  (21.0%)\rEpoch: 5.0%  lr: 0.039590  loss: 0.012425  eta: 0h10m  tot: 0h3m17s  (21.0%)\rEpoch: 5.0%  lr: 0.039580  loss: 0.012393  eta: 0h10m  tot: 0h3m17s  (21.0%)\rEpoch: 5.1%  lr: 0.039560  loss: 0.012538  eta: 0h10m  tot: 0h3m17s  (21.0%)\rEpoch: 5.2%  lr: 0.039550  loss: 0.012478  eta: 0h10m  tot: 0h3m18s  (21.0%)\rEpoch: 5.3%  lr: 0.039540  loss: 0.012568  eta: 0h10m  tot: 0h3m18s  (21.1%)\rEpoch: 5.4%  lr: 0.039530  loss: 0.012659  eta: 0h10m  tot: 0h3m18s  (21.1%)\rEpoch: 5.5%  lr: 0.039530  loss: 0.012536  eta: 0h10m  tot: 0h3m18s  (21.1%)\rEpoch: 5.6%  lr: 0.039530  loss: 0.012513  eta: 0h10m  tot: 0h3m18s  (21.1%)\rEpoch: 5.7%  lr: 0.039510  loss: 0.012684  eta: 0h10m  tot: 0h3m18s  (21.1%)\rEpoch: 5.8%  lr: 0.039510  loss: 0.012592  eta: 0h10m  tot: 0h3m18s  (21.2%)\rEpoch: 5.9%  lr: 0.039479  loss: 0.012463  eta: 0h10m  tot: 0h3m19s  (21.2%)\rEpoch: 5.9%  lr: 0.039479  loss: 0.012433  eta: 0h10m  tot: 0h3m19s  (21.2%)\rEpoch: 6.0%  lr: 0.039469  loss: 0.012415  eta: 0h10m  tot: 0h3m19s  (21.2%)\rEpoch: 6.1%  lr: 0.039469  loss: 0.012420  eta: 0h10m  tot: 0h3m19s  (21.2%)\rEpoch: 6.2%  lr: 0.039469  loss: 0.012334  eta: 0h10m  tot: 0h3m19s  (21.2%)\rEpoch: 6.3%  lr: 0.039449  loss: 0.012462  eta: 0h10m  tot: 0h3m19s  (21.3%)\rEpoch: 6.4%  lr: 0.039449  loss: 0.012496  eta: 0h10m  tot: 0h3m20s  (21.3%)\rEpoch: 6.5%  lr: 0.039429  loss: 0.012427  eta: 0h10m  tot: 0h3m20s  (21.3%)\rEpoch: 6.6%  lr: 0.039399  loss: 0.012370  eta: 0h10m  tot: 0h3m20s  (21.3%)\rEpoch: 6.7%  lr: 0.039389  loss: 0.012379  eta: 0h10m  tot: 0h3m20s  (21.3%)\rEpoch: 6.8%  lr: 0.039359  loss: 0.012339  eta: 0h10m  tot: 0h3m20s  (21.4%)\rEpoch: 6.8%  lr: 0.039349  loss: 0.012253  eta: 0h10m  tot: 0h3m20s  (21.4%)\rEpoch: 6.9%  lr: 0.039349  loss: 0.012470  eta: 0h10m  tot: 0h3m21s  (21.4%)\rEpoch: 7.0%  lr: 0.039339  loss: 0.012464  eta: 0h10m  tot: 0h3m21s  (21.4%)\rEpoch: 7.1%  lr: 0.039319  loss: 0.012460  eta: 0h10m  tot: 0h3m21s  (21.4%)\rEpoch: 7.2%  lr: 0.039319  loss: 0.012512  eta: 0h10m  tot: 0h3m21s  (21.4%)\rEpoch: 7.3%  lr: 0.039309  loss: 0.012547  eta: 0h10m  tot: 0h3m21s  (21.5%)\rEpoch: 7.4%  lr: 0.039289  loss: 0.012506  eta: 0h10m  tot: 0h3m21s  (21.5%)\rEpoch: 7.5%  lr: 0.039289  loss: 0.012475  eta: 0h10m  tot: 0h3m21s  (21.5%)\rEpoch: 7.6%  lr: 0.039279  loss: 0.012564  eta: 0h10m  tot: 0h3m22s  (21.5%)\rEpoch: 7.7%  lr: 0.039279  loss: 0.012606  eta: 0h10m  tot: 0h3m22s  (21.5%)\rEpoch: 7.7%  lr: 0.039269  loss: 0.012525  eta: 0h10m  tot: 0h3m22s  (21.5%)\rEpoch: 7.8%  lr: 0.039269  loss: 0.012498  eta: 0h10m  tot: 0h3m22s  (21.6%)\rEpoch: 7.9%  lr: 0.039269  loss: 0.012619  eta: 0h10m  tot: 0h3m22s  (21.6%)\rEpoch: 8.0%  lr: 0.039269  loss: 0.012582  eta: 0h10m  tot: 0h3m22s  (21.6%)\rEpoch: 8.1%  lr: 0.039249  loss: 0.012532  eta: 0h10m  tot: 0h3m23s  (21.6%)\rEpoch: 8.2%  lr: 0.039249  loss: 0.012590  eta: 0h10m  tot: 0h3m23s  (21.6%)\rEpoch: 8.3%  lr: 0.039239  loss: 0.012474  eta: 0h10m  tot: 0h3m23s  (21.7%)\rEpoch: 8.4%  lr: 0.039239  loss: 0.012498  eta: 0h10m  tot: 0h3m23s  (21.7%)\rEpoch: 8.5%  lr: 0.039229  loss: 0.012492  eta: 0h10m  tot: 0h3m23s  (21.7%)\rEpoch: 8.6%  lr: 0.039229  loss: 0.012553  eta: 0h10m  tot: 0h3m23s  (21.7%)\rEpoch: 8.6%  lr: 0.039229  loss: 0.012527  eta: 0h10m  tot: 0h3m23s  (21.7%)\rEpoch: 8.7%  lr: 0.039199  loss: 0.012546  eta: 0h10m  tot: 0h3m24s  (21.7%)\rEpoch: 8.8%  lr: 0.039199  loss: 0.012499  eta: 0h10m  tot: 0h3m24s  (21.8%)\rEpoch: 8.9%  lr: 0.039159  loss: 0.012444  eta: 0h10m  tot: 0h3m24s  (21.8%)\rEpoch: 9.0%  lr: 0.039129  loss: 0.012431  eta: 0h10m  tot: 0h3m24s  (21.8%)\rEpoch: 9.1%  lr: 0.039129  loss: 0.012387  eta: 0h10m  tot: 0h3m24s  (21.8%)\rEpoch: 9.2%  lr: 0.039129  loss: 0.012328  eta: 0h10m  tot: 0h3m24s  (21.8%)\rEpoch: 9.3%  lr: 0.039119  loss: 0.012247  eta: 0h10m  tot: 0h3m25s  (21.9%)\rEpoch: 9.4%  lr: 0.039119  loss: 0.012246  eta: 0h10m  tot: 0h3m25s  (21.9%)\rEpoch: 9.5%  lr: 0.039109  loss: 0.012223  eta: 0h10m  tot: 0h3m25s  (21.9%)\rEpoch: 9.5%  lr: 0.039109  loss: 0.012325  eta: 0h10m  tot: 0h3m25s  (21.9%)\rEpoch: 9.6%  lr: 0.039109  loss: 0.012279  eta: 0h10m  tot: 0h3m25s  (21.9%)\rEpoch: 9.7%  lr: 0.039109  loss: 0.012229  eta: 0h10m  tot: 0h3m25s  (21.9%)\rEpoch: 9.8%  lr: 0.039109  loss: 0.012210  eta: 0h10m  tot: 0h3m26s  (22.0%)\rEpoch: 9.9%  lr: 0.039089  loss: 0.012192  eta: 0h10m  tot: 0h3m26s  (22.0%)\rEpoch: 10.0%  lr: 0.039059  loss: 0.012205  eta: 0h10m  tot: 0h3m26s  (22.0%)\rEpoch: 10.1%  lr: 0.039039  loss: 0.012230  eta: 0h10m  tot: 0h3m26s  (22.0%)\rEpoch: 10.2%  lr: 0.039039  loss: 0.012322  eta: 0h10m  tot: 0h3m26s  (22.0%)\rEpoch: 10.3%  lr: 0.039029  loss: 0.012353  eta: 0h10m  tot: 0h3m26s  (22.1%)\rEpoch: 10.4%  lr: 0.039029  loss: 0.012327  eta: 0h10m  tot: 0h3m26s  (22.1%)\rEpoch: 10.4%  lr: 0.039009  loss: 0.012325  eta: 0h10m  tot: 0h3m27s  (22.1%)\rEpoch: 10.5%  lr: 0.039009  loss: 0.012321  eta: 0h10m  tot: 0h3m27s  (22.1%)\rEpoch: 10.6%  lr: 0.038999  loss: 0.012271  eta: 0h10m  tot: 0h3m27s  (22.1%)\rEpoch: 10.7%  lr: 0.038979  loss: 0.012253  eta: 0h10m  tot: 0h3m27s  (22.1%)\rEpoch: 10.8%  lr: 0.038959  loss: 0.012197  eta: 0h10m  tot: 0h3m27s  (22.2%)\rEpoch: 10.9%  lr: 0.038949  loss: 0.012184  eta: 0h10m  tot: 0h3m27s  (22.2%)\rEpoch: 11.0%  lr: 0.038929  loss: 0.012177  eta: 0h10m  tot: 0h3m28s  (22.2%)\rEpoch: 11.1%  lr: 0.038929  loss: 0.012156  eta: 0h10m  tot: 0h3m28s  (22.2%)\rEpoch: 11.2%  lr: 0.038929  loss: 0.012163  eta: 0h10m  tot: 0h3m28s  (22.2%)\rEpoch: 11.3%  lr: 0.038919  loss: 0.012149  eta: 0h10m  tot: 0h3m28s  (22.3%)\rEpoch: 11.3%  lr: 0.038899  loss: 0.012122  eta: 0h10m  tot: 0h3m28s  (22.3%)\rEpoch: 11.4%  lr: 0.038889  loss: 0.012183  eta: 0h10m  tot: 0h3m28s  (22.3%)\rEpoch: 11.5%  lr: 0.038889  loss: 0.012209  eta: 0h10m  tot: 0h3m29s  (22.3%)\rEpoch: 11.6%  lr: 0.038879  loss: 0.012208  eta: 0h10m  tot: 0h3m29s  (22.3%)\rEpoch: 11.7%  lr: 0.038869  loss: 0.012190  eta: 0h10m  tot: 0h3m29s  (22.3%)\rEpoch: 11.8%  lr: 0.038869  loss: 0.012241  eta: 0h10m  tot: 0h3m29s  (22.4%)\rEpoch: 11.9%  lr: 0.038859  loss: 0.012309  eta: 0h10m  tot: 0h3m29s  (22.4%)\rEpoch: 12.0%  lr: 0.038859  loss: 0.012420  eta: 0h10m  tot: 0h3m29s  (22.4%)\rEpoch: 12.1%  lr: 0.038849  loss: 0.012369  eta: 0h10m  tot: 0h3m29s  (22.4%)\rEpoch: 12.2%  lr: 0.038839  loss: 0.012388  eta: 0h10m  tot: 0h3m30s  (22.4%)\rEpoch: 12.2%  lr: 0.038829  loss: 0.012370  eta: 0h10m  tot: 0h3m30s  (22.4%)\rEpoch: 12.3%  lr: 0.038819  loss: 0.012397  eta: 0h10m  tot: 0h3m30s  (22.5%)\rEpoch: 12.4%  lr: 0.038809  loss: 0.012402  eta: 0h10m  tot: 0h3m30s  (22.5%)\rEpoch: 12.5%  lr: 0.038809  loss: 0.012400  eta: 0h10m  tot: 0h3m30s  (22.5%)\rEpoch: 12.6%  lr: 0.038779  loss: 0.012410  eta: 0h10m  tot: 0h3m30s  (22.5%)\rEpoch: 12.7%  lr: 0.038769  loss: 0.012486  eta: 0h10m  tot: 0h3m31s  (22.5%)\rEpoch: 12.8%  lr: 0.038769  loss: 0.012450  eta: 0h10m  tot: 0h3m31s  (22.6%)\rEpoch: 12.9%  lr: 0.038749  loss: 0.012448  eta: 0h10m  tot: 0h3m31s  (22.6%)\rEpoch: 13.0%  lr: 0.038729  loss: 0.012428  eta: 0h10m  tot: 0h3m31s  (22.6%)\rEpoch: 13.1%  lr: 0.038729  loss: 0.012467  eta: 0h10m  tot: 0h3m31s  (22.6%)\rEpoch: 13.1%  lr: 0.038729  loss: 0.012454  eta: 0h10m  tot: 0h3m31s  (22.6%)\rEpoch: 13.2%  lr: 0.038719  loss: 0.012485  eta: 0h10m  tot: 0h3m31s  (22.6%)\rEpoch: 13.3%  lr: 0.038679  loss: 0.012469  eta: 0h10m  tot: 0h3m32s  (22.7%)\rEpoch: 13.4%  lr: 0.038669  loss: 0.012578  eta: 0h10m  tot: 0h3m32s  (22.7%)\rEpoch: 13.5%  lr: 0.038669  loss: 0.012532  eta: 0h10m  tot: 0h3m32s  (22.7%)\rEpoch: 13.6%  lr: 0.038669  loss: 0.012497  eta: 0h10m  tot: 0h3m32s  (22.7%)\rEpoch: 13.7%  lr: 0.038659  loss: 0.012480  eta: 0h10m  tot: 0h3m32s  (22.7%)\rEpoch: 13.8%  lr: 0.038659  loss: 0.012531  eta: 0h10m  tot: 0h3m32s  (22.8%)\rEpoch: 13.9%  lr: 0.038659  loss: 0.012500  eta: 0h10m  tot: 0h3m33s  (22.8%)\rEpoch: 14.0%  lr: 0.038659  loss: 0.012460  eta: 0h10m  tot: 0h3m33s  (22.8%)\rEpoch: 14.0%  lr: 0.038639  loss: 0.012403  eta: 0h10m  tot: 0h3m33s  (22.8%)\rEpoch: 14.1%  lr: 0.038639  loss: 0.012387  eta: 0h10m  tot: 0h3m33s  (22.8%)\rEpoch: 14.2%  lr: 0.038629  loss: 0.012373  eta: 0h10m  tot: 0h3m33s  (22.8%)\rEpoch: 14.3%  lr: 0.038619  loss: 0.012410  eta: 0h10m  tot: 0h3m33s  (22.9%)\rEpoch: 14.4%  lr: 0.038609  loss: 0.012491  eta: 0h10m  tot: 0h3m34s  (22.9%)\rEpoch: 14.5%  lr: 0.038599  loss: 0.012463  eta: 0h10m  tot: 0h3m34s  (22.9%)\rEpoch: 14.6%  lr: 0.038589  loss: 0.012425  eta: 0h10m  tot: 0h3m34s  (22.9%)\rEpoch: 14.7%  lr: 0.038589  loss: 0.012378  eta: 0h10m  tot: 0h3m34s  (22.9%)\rEpoch: 14.8%  lr: 0.038569  loss: 0.012426  eta: 0h10m  tot: 0h3m34s  (23.0%)\rEpoch: 14.9%  lr: 0.038549  loss: 0.012416  eta: 0h10m  tot: 0h3m34s  (23.0%)\rEpoch: 14.9%  lr: 0.038549  loss: 0.012394  eta: 0h10m  tot: 0h3m34s  (23.0%)\rEpoch: 15.0%  lr: 0.038549  loss: 0.012457  eta: 0h10m  tot: 0h3m35s  (23.0%)\rEpoch: 15.1%  lr: 0.038549  loss: 0.012452  eta: 0h10m  tot: 0h3m35s  (23.0%)\rEpoch: 15.2%  lr: 0.038509  loss: 0.012444  eta: 0h10m  tot: 0h3m35s  (23.0%)\rEpoch: 15.3%  lr: 0.038509  loss: 0.012447  eta: 0h10m  tot: 0h3m35s  (23.1%)\rEpoch: 15.4%  lr: 0.038509  loss: 0.012418  eta: 0h10m  tot: 0h3m35s  (23.1%)\rEpoch: 15.5%  lr: 0.038509  loss: 0.012446  eta: 0h10m  tot: 0h3m35s  (23.1%)\rEpoch: 15.6%  lr: 0.038499  loss: 0.012495  eta: 0h10m  tot: 0h3m36s  (23.1%)\rEpoch: 15.7%  lr: 0.038489  loss: 0.012471  eta: 0h10m  tot: 0h3m36s  (23.1%)\rEpoch: 15.8%  lr: 0.038479  loss: 0.012473  eta: 0h10m  tot: 0h3m36s  (23.2%)\rEpoch: 15.8%  lr: 0.038468  loss: 0.012458  eta: 0h10m  tot: 0h3m36s  (23.2%)\rEpoch: 15.9%  lr: 0.038458  loss: 0.012467  eta: 0h10m  tot: 0h3m36s  (23.2%)\rEpoch: 16.0%  lr: 0.038458  loss: 0.012438  eta: 0h10m  tot: 0h3m36s  (23.2%)\rEpoch: 16.1%  lr: 0.038458  loss: 0.012384  eta: 0h10m  tot: 0h3m37s  (23.2%)\rEpoch: 16.2%  lr: 0.038448  loss: 0.012403  eta: 0h10m  tot: 0h3m37s  (23.2%)\rEpoch: 16.3%  lr: 0.038438  loss: 0.012381  eta: 0h10m  tot: 0h3m37s  (23.3%)\rEpoch: 16.4%  lr: 0.038428  loss: 0.012388  eta: 0h10m  tot: 0h3m37s  (23.3%)\rEpoch: 16.5%  lr: 0.038408  loss: 0.012359  eta: 0h10m  tot: 0h3m37s  (23.3%)\rEpoch: 16.6%  lr: 0.038408  loss: 0.012328  eta: 0h10m  tot: 0h3m37s  (23.3%)\rEpoch: 16.7%  lr: 0.038398  loss: 0.012317  eta: 0h10m  tot: 0h3m37s  (23.3%)\rEpoch: 16.7%  lr: 0.038398  loss: 0.012408  eta: 0h10m  tot: 0h3m38s  (23.3%)\rEpoch: 16.8%  lr: 0.038398  loss: 0.012429  eta: 0h10m  tot: 0h3m38s  (23.4%)\rEpoch: 16.9%  lr: 0.038398  loss: 0.012408  eta: 0h10m  tot: 0h3m38s  (23.4%)\rEpoch: 17.0%  lr: 0.038388  loss: 0.012431  eta: 0h10m  tot: 0h3m38s  (23.4%)\rEpoch: 17.1%  lr: 0.038378  loss: 0.012481  eta: 0h10m  tot: 0h3m38s  (23.4%)\rEpoch: 17.2%  lr: 0.038368  loss: 0.012441  eta: 0h10m  tot: 0h3m38s  (23.4%)\rEpoch: 17.3%  lr: 0.038358  loss: 0.012397  eta: 0h10m  tot: 0h3m39s  (23.5%)\rEpoch: 17.4%  lr: 0.038348  loss: 0.012432  eta: 0h10m  tot: 0h3m39s  (23.5%)\rEpoch: 17.5%  lr: 0.038328  loss: 0.012437  eta: 0h10m  tot: 0h3m39s  (23.5%)\rEpoch: 17.6%  lr: 0.038328  loss: 0.012423  eta: 0h10m  tot: 0h3m39s  (23.5%)\rEpoch: 17.6%  lr: 0.038318  loss: 0.012444  eta: 0h10m  tot: 0h3m39s  (23.5%)\rEpoch: 17.7%  lr: 0.038318  loss: 0.012436  eta: 0h10m  tot: 0h3m39s  (23.5%)\rEpoch: 17.8%  lr: 0.038288  loss: 0.012481  eta: 0h10m  tot: 0h3m40s  (23.6%)\rEpoch: 17.9%  lr: 0.038278  loss: 0.012477  eta: 0h10m  tot: 0h3m40s  (23.6%)\rEpoch: 18.0%  lr: 0.038278  loss: 0.012485  eta: 0h10m  tot: 0h3m40s  (23.6%)\rEpoch: 18.1%  lr: 0.038258  loss: 0.012503  eta: 0h10m  tot: 0h3m40s  (23.6%)\rEpoch: 18.2%  lr: 0.038248  loss: 0.012526  eta: 0h10m  tot: 0h3m40s  (23.6%)\rEpoch: 18.3%  lr: 0.038248  loss: 0.012525  eta: 0h10m  tot: 0h3m40s  (23.7%)\rEpoch: 18.4%  lr: 0.038248  loss: 0.012527  eta: 0h10m  tot: 0h3m40s  (23.7%)\rEpoch: 18.5%  lr: 0.038228  loss: 0.012542  eta: 0h10m  tot: 0h3m41s  (23.7%)\rEpoch: 18.5%  lr: 0.038228  loss: 0.012620  eta: 0h10m  tot: 0h3m41s  (23.7%)\rEpoch: 18.6%  lr: 0.038208  loss: 0.012601  eta: 0h10m  tot: 0h3m41s  (23.7%)\rEpoch: 18.7%  lr: 0.038198  loss: 0.012615  eta: 0h10m  tot: 0h3m41s  (23.7%)\rEpoch: 18.8%  lr: 0.038198  loss: 0.012613  eta: 0h10m  tot: 0h3m41s  (23.8%)\rEpoch: 18.9%  lr: 0.038198  loss: 0.012580  eta: 0h10m  tot: 0h3m41s  (23.8%)\rEpoch: 19.0%  lr: 0.038198  loss: 0.012617  eta: 0h10m  tot: 0h3m42s  (23.8%)\rEpoch: 19.1%  lr: 0.038188  loss: 0.012597  eta: 0h10m  tot: 0h3m42s  (23.8%)\rEpoch: 19.2%  lr: 0.038178  loss: 0.012617  eta: 0h10m  tot: 0h3m42s  (23.8%)\rEpoch: 19.3%  lr: 0.038168  loss: 0.012631  eta: 0h10m  tot: 0h3m42s  (23.9%)\rEpoch: 19.4%  lr: 0.038158  loss: 0.012611  eta: 0h10m  tot: 0h3m42s  (23.9%)\rEpoch: 19.4%  lr: 0.038158  loss: 0.012594  eta: 0h10m  tot: 0h3m42s  (23.9%)\rEpoch: 19.5%  lr: 0.038148  loss: 0.012636  eta: 0h10m  tot: 0h3m43s  (23.9%)\rEpoch: 19.6%  lr: 0.038138  loss: 0.012624  eta: 0h10m  tot: 0h3m43s  (23.9%)\rEpoch: 19.7%  lr: 0.038138  loss: 0.012603  eta: 0h10m  tot: 0h3m43s  (23.9%)\rEpoch: 19.8%  lr: 0.038108  loss: 0.012667  eta: 0h10m  tot: 0h3m43s  (24.0%)\rEpoch: 19.9%  lr: 0.038098  loss: 0.012665  eta: 0h10m  tot: 0h3m43s  (24.0%)\rEpoch: 20.0%  lr: 0.038088  loss: 0.012633  eta: 0h10m  tot: 0h3m43s  (24.0%)\rEpoch: 20.1%  lr: 0.038058  loss: 0.012649  eta: 0h10m  tot: 0h3m43s  (24.0%)\rEpoch: 20.2%  lr: 0.038048  loss: 0.012633  eta: 0h10m  tot: 0h3m44s  (24.0%)\rEpoch: 20.3%  lr: 0.038048  loss: 0.012599  eta: 0h10m  tot: 0h3m44s  (24.1%)\rEpoch: 20.3%  lr: 0.038038  loss: 0.012632  eta: 0h10m  tot: 0h3m44s  (24.1%)\rEpoch: 20.4%  lr: 0.038028  loss: 0.012619  eta: 0h10m  tot: 0h3m44s  (24.1%)\rEpoch: 20.5%  lr: 0.038028  loss: 0.012632  eta: 0h10m  tot: 0h3m44s  (24.1%)\rEpoch: 20.6%  lr: 0.038018  loss: 0.012634  eta: 0h10m  tot: 0h3m44s  (24.1%)\rEpoch: 20.7%  lr: 0.038008  loss: 0.012626  eta: 0h10m  tot: 0h3m45s  (24.1%)\rEpoch: 20.8%  lr: 0.037988  loss: 0.012618  eta: 0h10m  tot: 0h3m45s  (24.2%)\rEpoch: 20.9%  lr: 0.037978  loss: 0.012709  eta: 0h10m  tot: 0h3m45s  (24.2%)\rEpoch: 21.0%  lr: 0.037978  loss: 0.012706  eta: 0h10m  tot: 0h3m45s  (24.2%)\rEpoch: 21.1%  lr: 0.037978  loss: 0.012695  eta: 0h10m  tot: 0h3m45s  (24.2%)\rEpoch: 21.2%  lr: 0.037958  loss: 0.012694  eta: 0h10m  tot: 0h3m45s  (24.2%)\rEpoch: 21.2%  lr: 0.037958  loss: 0.012724  eta: 0h10m  tot: 0h3m46s  (24.2%)\rEpoch: 21.3%  lr: 0.037958  loss: 0.012711  eta: 0h10m  tot: 0h3m46s  (24.3%)\rEpoch: 21.4%  lr: 0.037958  loss: 0.012684  eta: 0h10m  tot: 0h3m46s  (24.3%)\rEpoch: 21.5%  lr: 0.037958  loss: 0.012693  eta: 0h10m  tot: 0h3m46s  (24.3%)\rEpoch: 21.6%  lr: 0.037948  loss: 0.012689  eta: 0h10m  tot: 0h3m46s  (24.3%)\rEpoch: 21.7%  lr: 0.037928  loss: 0.012663  eta: 0h10m  tot: 0h3m46s  (24.3%)\rEpoch: 21.8%  lr: 0.037918  loss: 0.012717  eta: 0h10m  tot: 0h3m46s  (24.4%)\rEpoch: 21.9%  lr: 0.037888  loss: 0.012720  eta: 0h10m  tot: 0h3m47s  (24.4%)\rEpoch: 22.0%  lr: 0.037888  loss: 0.012779  eta: 0h10m  tot: 0h3m47s  (24.4%)\rEpoch: 22.1%  lr: 0.037868  loss: 0.012773  eta: 0h10m  tot: 0h3m47s  (24.4%)\rEpoch: 22.1%  lr: 0.037858  loss: 0.012819  eta: 0h10m  tot: 0h3m47s  (24.4%)\rEpoch: 22.2%  lr: 0.037858  loss: 0.012807  eta: 0h10m  tot: 0h3m47s  (24.4%)\rEpoch: 22.3%  lr: 0.037848  loss: 0.012811  eta: 0h10m  tot: 0h3m47s  (24.5%)\rEpoch: 22.4%  lr: 0.037848  loss: 0.012789  eta: 0h10m  tot: 0h3m48s  (24.5%)\rEpoch: 22.5%  lr: 0.037838  loss: 0.012787  eta: 0h10m  tot: 0h3m48s  (24.5%)\rEpoch: 22.6%  lr: 0.037818  loss: 0.012822  eta: 0h10m  tot: 0h3m48s  (24.5%)\rEpoch: 22.7%  lr: 0.037798  loss: 0.012818  eta: 0h10m  tot: 0h3m48s  (24.5%)\rEpoch: 22.8%  lr: 0.037798  loss: 0.012815  eta: 0h10m  tot: 0h3m48s  (24.6%)\rEpoch: 22.9%  lr: 0.037788  loss: 0.012800  eta: 0h10m  tot: 0h3m48s  (24.6%)\rEpoch: 23.0%  lr: 0.037788  loss: 0.012798  eta: 0h10m  tot: 0h3m48s  (24.6%)\rEpoch: 23.0%  lr: 0.037788  loss: 0.012776  eta: 0h10m  tot: 0h3m49s  (24.6%)\rEpoch: 23.1%  lr: 0.037788  loss: 0.012790  eta: 0h10m  tot: 0h3m49s  (24.6%)\rEpoch: 23.2%  lr: 0.037788  loss: 0.012795  eta: 0h10m  tot: 0h3m49s  (24.6%)\rEpoch: 23.3%  lr: 0.037768  loss: 0.012766  eta: 0h10m  tot: 0h3m49s  (24.7%)\rEpoch: 23.4%  lr: 0.037768  loss: 0.012792  eta: 0h10m  tot: 0h3m49s  (24.7%)\rEpoch: 23.5%  lr: 0.037738  loss: 0.012796  eta: 0h10m  tot: 0h3m49s  (24.7%)\rEpoch: 23.6%  lr: 0.037728  loss: 0.012816  eta: 0h10m  tot: 0h3m50s  (24.7%)\rEpoch: 23.7%  lr: 0.037718  loss: 0.012827  eta: 0h10m  tot: 0h3m50s  (24.7%)\rEpoch: 23.8%  lr: 0.037698  loss: 0.012812  eta: 0h10m  tot: 0h3m50s  (24.8%)\rEpoch: 23.9%  lr: 0.037678  loss: 0.012812  eta: 0h10m  tot: 0h3m50s  (24.8%)\rEpoch: 23.9%  lr: 0.037678  loss: 0.012865  eta: 0h10m  tot: 0h3m50s  (24.8%)\rEpoch: 24.0%  lr: 0.037678  loss: 0.012885  eta: 0h10m  tot: 0h3m50s  (24.8%)\rEpoch: 24.1%  lr: 0.037638  loss: 0.012921  eta: 0h10m  tot: 0h3m51s  (24.8%)\rEpoch: 24.2%  lr: 0.037628  loss: 0.012919  eta: 0h10m  tot: 0h3m51s  (24.8%)\rEpoch: 24.3%  lr: 0.037618  loss: 0.012908  eta: 0h10m  tot: 0h3m51s  (24.9%)\rEpoch: 24.4%  lr: 0.037608  loss: 0.012946  eta: 0h10m  tot: 0h3m51s  (24.9%)\rEpoch: 24.5%  lr: 0.037598  loss: 0.012933  eta: 0h10m  tot: 0h3m51s  (24.9%)\rEpoch: 24.6%  lr: 0.037568  loss: 0.012927  eta: 0h10m  tot: 0h3m51s  (24.9%)\rEpoch: 24.7%  lr: 0.037568  loss: 0.012905  eta: 0h10m  tot: 0h3m51s  (24.9%)\rEpoch: 24.8%  lr: 0.037568  loss: 0.012897  eta: 0h10m  tot: 0h3m52s  (25.0%)\rEpoch: 24.8%  lr: 0.037568  loss: 0.012881  eta: 0h10m  tot: 0h3m52s  (25.0%)\rEpoch: 24.9%  lr: 0.037558  loss: 0.012890  eta: 0h10m  tot: 0h3m52s  (25.0%)\rEpoch: 25.0%  lr: 0.037548  loss: 0.012879  eta: 0h10m  tot: 0h3m52s  (25.0%)\rEpoch: 25.1%  lr: 0.037548  loss: 0.012882  eta: 0h10m  tot: 0h3m52s  (25.0%)\rEpoch: 25.2%  lr: 0.037548  loss: 0.012876  eta: 0h10m  tot: 0h3m52s  (25.0%)\rEpoch: 25.3%  lr: 0.037538  loss: 0.012845  eta: 0h10m  tot: 0h3m53s  (25.1%)\rEpoch: 25.4%  lr: 0.037508  loss: 0.012835  eta: 0h10m  tot: 0h3m53s  (25.1%)\rEpoch: 25.5%  lr: 0.037488  loss: 0.012822  eta: 0h10m  tot: 0h3m53s  (25.1%)\rEpoch: 25.6%  lr: 0.037488  loss: 0.012825  eta: 0h10m  tot: 0h3m53s  (25.1%)\rEpoch: 25.7%  lr: 0.037488  loss: 0.012803  eta: 0h10m  tot: 0h3m53s  (25.1%)\rEpoch: 25.7%  lr: 0.037488  loss: 0.012820  eta: 0h10m  tot: 0h3m53s  (25.1%)\rEpoch: 25.8%  lr: 0.037488  loss: 0.012815  eta: 0h10m  tot: 0h3m54s  (25.2%)\rEpoch: 25.9%  lr: 0.037488  loss: 0.012828  eta: 0h10m  tot: 0h3m54s  (25.2%)\rEpoch: 26.0%  lr: 0.037488  loss: 0.012823  eta: 0h10m  tot: 0h3m54s  (25.2%)\rEpoch: 26.1%  lr: 0.037488  loss: 0.012806  eta: 0h10m  tot: 0h3m54s  (25.2%)\rEpoch: 26.2%  lr: 0.037488  loss: 0.012800  eta: 0h10m  tot: 0h3m54s  (25.2%)\rEpoch: 26.3%  lr: 0.037478  loss: 0.012797  eta: 0h10m  tot: 0h3m54s  (25.3%)\rEpoch: 26.4%  lr: 0.037457  loss: 0.012823  eta: 0h10m  tot: 0h3m54s  (25.3%)\rEpoch: 26.5%  lr: 0.037457  loss: 0.012824  eta: 0h10m  tot: 0h3m55s  (25.3%)\rEpoch: 26.6%  lr: 0.037457  loss: 0.012849  eta: 0h10m  tot: 0h3m55s  (25.3%)\rEpoch: 26.6%  lr: 0.037447  loss: 0.012846  eta: 0h10m  tot: 0h3m55s  (25.3%)\rEpoch: 26.7%  lr: 0.037447  loss: 0.012840  eta: 0h10m  tot: 0h3m55s  (25.3%)\rEpoch: 26.8%  lr: 0.037437  loss: 0.012832  eta: 0h10m  tot: 0h3m55s  (25.4%)\rEpoch: 26.9%  lr: 0.037437  loss: 0.012808  eta: 0h10m  tot: 0h3m55s  (25.4%)\rEpoch: 27.0%  lr: 0.037427  loss: 0.012817  eta: 0h10m  tot: 0h3m56s  (25.4%)\rEpoch: 27.1%  lr: 0.037427  loss: 0.012819  eta: 0h10m  tot: 0h3m56s  (25.4%)\rEpoch: 27.2%  lr: 0.037427  loss: 0.012847  eta: 0h10m  tot: 0h3m56s  (25.4%)\rEpoch: 27.3%  lr: 0.037407  loss: 0.012824  eta: 0h10m  tot: 0h3m56s  (25.5%)\rEpoch: 27.4%  lr: 0.037407  loss: 0.012812  eta: 0h10m  tot: 0h3m56s  (25.5%)\rEpoch: 27.5%  lr: 0.037397  loss: 0.012814  eta: 0h10m  tot: 0h3m56s  (25.5%)\rEpoch: 27.5%  lr: 0.037397  loss: 0.012860  eta: 0h10m  tot: 0h3m56s  (25.5%)\rEpoch: 27.6%  lr: 0.037397  loss: 0.012840  eta: 0h10m  tot: 0h3m57s  (25.5%)\rEpoch: 27.7%  lr: 0.037387  loss: 0.012822  eta: 0h10m  tot: 0h3m57s  (25.5%)\rEpoch: 27.8%  lr: 0.037387  loss: 0.012809  eta: 0h10m  tot: 0h3m57s  (25.6%)\rEpoch: 27.9%  lr: 0.037387  loss: 0.012836  eta: 0h10m  tot: 0h3m57s  (25.6%)\rEpoch: 28.0%  lr: 0.037387  loss: 0.012850  eta: 0h10m  tot: 0h3m57s  (25.6%)\rEpoch: 28.1%  lr: 0.037357  loss: 0.012846  eta: 0h10m  tot: 0h3m57s  (25.6%)\rEpoch: 28.2%  lr: 0.037357  loss: 0.012842  eta: 0h10m  tot: 0h3m58s  (25.6%)\rEpoch: 28.3%  lr: 0.037347  loss: 0.012835  eta: 0h10m  tot: 0h3m58s  (25.7%)\rEpoch: 28.4%  lr: 0.037347  loss: 0.012836  eta: 0h10m  tot: 0h3m58s  (25.7%)\rEpoch: 28.4%  lr: 0.037327  loss: 0.012863  eta: 0h10m  tot: 0h3m58s  (25.7%)\rEpoch: 28.5%  lr: 0.037327  loss: 0.012847  eta: 0h10m  tot: 0h3m58s  (25.7%)\rEpoch: 28.6%  lr: 0.037317  loss: 0.012822  eta: 0h10m  tot: 0h3m58s  (25.7%)\rEpoch: 28.7%  lr: 0.037317  loss: 0.012812  eta: 0h10m  tot: 0h3m59s  (25.7%)\rEpoch: 28.8%  lr: 0.037307  loss: 0.012808  eta: 0h10m  tot: 0h3m59s  (25.8%)\rEpoch: 28.9%  lr: 0.037297  loss: 0.012818  eta: 0h10m  tot: 0h3m59s  (25.8%)\rEpoch: 29.0%  lr: 0.037287  loss: 0.012807  eta: 0h10m  tot: 0h3m59s  (25.8%)\rEpoch: 29.1%  lr: 0.037287  loss: 0.012796  eta: 0h10m  tot: 0h3m59s  (25.8%)\rEpoch: 29.2%  lr: 0.037287  loss: 0.012823  eta: 0h10m  tot: 0h3m59s  (25.8%)\rEpoch: 29.3%  lr: 0.037277  loss: 0.012802  eta: 0h10m  tot: 0h3m59s  (25.9%)\rEpoch: 29.3%  lr: 0.037267  loss: 0.012795  eta: 0h10m  tot: 0h4m0s  (25.9%)\rEpoch: 29.4%  lr: 0.037267  loss: 0.012781  eta: 0h10m  tot: 0h4m0s  (25.9%)\rEpoch: 29.5%  lr: 0.037267  loss: 0.012762  eta: 0h10m  tot: 0h4m0s  (25.9%)\rEpoch: 29.6%  lr: 0.037267  loss: 0.012754  eta: 0h10m  tot: 0h4m0s  (25.9%)\rEpoch: 29.7%  lr: 0.037247  loss: 0.012755  eta: 0h10m  tot: 0h4m0s  (25.9%)\rEpoch: 29.8%  lr: 0.037247  loss: 0.012764  eta: 0h10m  tot: 0h4m0s  (26.0%)\rEpoch: 29.9%  lr: 0.037237  loss: 0.012743  eta: 0h10m  tot: 0h4m1s  (26.0%)\rEpoch: 30.0%  lr: 0.037227  loss: 0.012738  eta: 0h10m  tot: 0h4m1s  (26.0%)\rEpoch: 30.1%  lr: 0.037227  loss: 0.012750  eta: 0h10m  tot: 0h4m1s  (26.0%)\rEpoch: 30.2%  lr: 0.037207  loss: 0.012739  eta: 0h10m  tot: 0h4m1s  (26.0%)\rEpoch: 30.2%  lr: 0.037207  loss: 0.012729  eta: 0h10m  tot: 0h4m1s  (26.0%)\rEpoch: 30.3%  lr: 0.037187  loss: 0.012726  eta: 0h10m  tot: 0h4m1s  (26.1%)\rEpoch: 30.4%  lr: 0.037177  loss: 0.012785  eta: 0h10m  tot: 0h4m1s  (26.1%)\rEpoch: 30.5%  lr: 0.037167  loss: 0.012787  eta: 0h10m  tot: 0h4m2s  (26.1%)\rEpoch: 30.6%  lr: 0.037127  loss: 0.012814  eta: 0h10m  tot: 0h4m2s  (26.1%)\rEpoch: 30.7%  lr: 0.037127  loss: 0.012832  eta: 0h10m  tot: 0h4m2s  (26.1%)\rEpoch: 30.8%  lr: 0.037127  loss: 0.012808  eta: 0h10m  tot: 0h4m2s  (26.2%)\rEpoch: 30.9%  lr: 0.037107  loss: 0.012843  eta: 0h10m  tot: 0h4m2s  (26.2%)\rEpoch: 31.0%  lr: 0.037097  loss: 0.012870  eta: 0h10m  tot: 0h4m2s  (26.2%)\rEpoch: 31.1%  lr: 0.037097  loss: 0.012904  eta: 0h10m  tot: 0h4m3s  (26.2%)\rEpoch: 31.1%  lr: 0.037087  loss: 0.012884  eta: 0h10m  tot: 0h4m3s  (26.2%)\rEpoch: 31.2%  lr: 0.037077  loss: 0.012929  eta: 0h10m  tot: 0h4m3s  (26.2%)\rEpoch: 31.3%  lr: 0.037067  loss: 0.012907  eta: 0h10m  tot: 0h4m3s  (26.3%)\rEpoch: 31.4%  lr: 0.037057  loss: 0.012909  eta: 0h10m  tot: 0h4m3s  (26.3%)\rEpoch: 31.5%  lr: 0.037047  loss: 0.012900  eta: 0h10m  tot: 0h4m3s  (26.3%)\rEpoch: 31.6%  lr: 0.037037  loss: 0.012896  eta: 0h10m  tot: 0h4m4s  (26.3%)\rEpoch: 31.7%  lr: 0.037017  loss: 0.012901  eta: 0h10m  tot: 0h4m4s  (26.3%)\rEpoch: 31.8%  lr: 0.037017  loss: 0.012914  eta: 0h10m  tot: 0h4m4s  (26.4%)\rEpoch: 31.9%  lr: 0.037017  loss: 0.012920  eta: 0h10m  tot: 0h4m4s  (26.4%)\rEpoch: 32.0%  lr: 0.037007  loss: 0.012915  eta: 0h10m  tot: 0h4m4s  (26.4%)\rEpoch: 32.0%  lr: 0.036997  loss: 0.012922  eta: 0h10m  tot: 0h4m4s  (26.4%)\rEpoch: 32.1%  lr: 0.036997  loss: 0.012934  eta: 0h10m  tot: 0h4m5s  (26.4%)\rEpoch: 32.2%  lr: 0.036987  loss: 0.012995  eta: 0h10m  tot: 0h4m5s  (26.4%)\rEpoch: 32.3%  lr: 0.036987  loss: 0.012982  eta: 0h10m  tot: 0h4m5s  (26.5%)\rEpoch: 32.4%  lr: 0.036987  loss: 0.012972  eta: 0h10m  tot: 0h4m5s  (26.5%)\rEpoch: 32.5%  lr: 0.036987  loss: 0.013025  eta: 0h10m  tot: 0h4m5s  (26.5%)\rEpoch: 32.6%  lr: 0.036987  loss: 0.013023  eta: 0h10m  tot: 0h4m5s  (26.5%)\rEpoch: 32.7%  lr: 0.036977  loss: 0.013027  eta: 0h10m  tot: 0h4m5s  (26.5%)\rEpoch: 32.8%  lr: 0.036967  loss: 0.013019  eta: 0h10m  tot: 0h4m6s  (26.6%)\rEpoch: 32.9%  lr: 0.036957  loss: 0.012996  eta: 0h10m  tot: 0h4m6s  (26.6%)\rEpoch: 32.9%  lr: 0.036957  loss: 0.013006  eta: 0h10m  tot: 0h4m6s  (26.6%)\rEpoch: 33.0%  lr: 0.036947  loss: 0.012995  eta: 0h10m  tot: 0h4m6s  (26.6%)\rEpoch: 33.1%  lr: 0.036937  loss: 0.012994  eta: 0h10m  tot: 0h4m6s  (26.6%)\rEpoch: 33.2%  lr: 0.036927  loss: 0.012976  eta: 0h10m  tot: 0h4m6s  (26.6%)\rEpoch: 33.3%  lr: 0.036927  loss: 0.012981  eta: 0h10m  tot: 0h4m7s  (26.7%)\rEpoch: 33.4%  lr: 0.036927  loss: 0.012975  eta: 0h10m  tot: 0h4m7s  (26.7%)\rEpoch: 33.5%  lr: 0.036907  loss: 0.013000  eta: 0h10m  tot: 0h4m7s  (26.7%)\rEpoch: 33.6%  lr: 0.036897  loss: 0.012987  eta: 0h10m  tot: 0h4m7s  (26.7%)\rEpoch: 33.7%  lr: 0.036897  loss: 0.012997  eta: 0h10m  tot: 0h4m7s  (26.7%)\rEpoch: 33.8%  lr: 0.036877  loss: 0.013018  eta: 0h10m  tot: 0h4m7s  (26.8%)\rEpoch: 33.8%  lr: 0.036877  loss: 0.013061  eta: 0h10m  tot: 0h4m8s  (26.8%)\rEpoch: 33.9%  lr: 0.036877  loss: 0.013105  eta: 0h10m  tot: 0h4m8s  (26.8%)\rEpoch: 34.0%  lr: 0.036857  loss: 0.013135  eta: 0h10m  tot: 0h4m8s  (26.8%)\rEpoch: 34.1%  lr: 0.036837  loss: 0.013123  eta: 0h10m  tot: 0h4m8s  (26.8%)\rEpoch: 34.2%  lr: 0.036837  loss: 0.013111  eta: 0h10m  tot: 0h4m8s  (26.8%)\rEpoch: 34.3%  lr: 0.036827  loss: 0.013144  eta: 0h10m  tot: 0h4m8s  (26.9%)\rEpoch: 34.4%  lr: 0.036817  loss: 0.013123  eta: 0h10m  tot: 0h4m8s  (26.9%)\rEpoch: 34.5%  lr: 0.036807  loss: 0.013119  eta: 0h10m  tot: 0h4m9s  (26.9%)\rEpoch: 34.6%  lr: 0.036797  loss: 0.013137  eta: 0h10m  tot: 0h4m9s  (26.9%)\rEpoch: 34.7%  lr: 0.036797  loss: 0.013111  eta: 0h10m  tot: 0h4m9s  (26.9%)\rEpoch: 34.7%  lr: 0.036777  loss: 0.013109  eta: 0h10m  tot: 0h4m9s  (26.9%)\rEpoch: 34.8%  lr: 0.036767  loss: 0.013114  eta: 0h10m  tot: 0h4m9s  (27.0%)\rEpoch: 34.9%  lr: 0.036767  loss: 0.013107  eta: 0h10m  tot: 0h4m9s  (27.0%)\rEpoch: 35.0%  lr: 0.036747  loss: 0.013113  eta: 0h10m  tot: 0h4m10s  (27.0%)\rEpoch: 35.1%  lr: 0.036737  loss: 0.013100  eta: 0h10m  tot: 0h4m10s  (27.0%)\rEpoch: 35.2%  lr: 0.036717  loss: 0.013101  eta: 0h10m  tot: 0h4m10s  (27.0%)\rEpoch: 35.3%  lr: 0.036707  loss: 0.013091  eta: 0h10m  tot: 0h4m10s  (27.1%)\rEpoch: 35.4%  lr: 0.036697  loss: 0.013084  eta: 0h10m  tot: 0h4m10s  (27.1%)\rEpoch: 35.5%  lr: 0.036687  loss: 0.013081  eta: 0h10m  tot: 0h4m10s  (27.1%)\rEpoch: 35.6%  lr: 0.036677  loss: 0.013090  eta: 0h10m  tot: 0h4m10s  (27.1%)\rEpoch: 35.6%  lr: 0.036667  loss: 0.013090  eta: 0h10m  tot: 0h4m11s  (27.1%)\rEpoch: 35.7%  lr: 0.036667  loss: 0.013078  eta: 0h10m  tot: 0h4m11s  (27.1%)\rEpoch: 35.8%  lr: 0.036647  loss: 0.013068  eta: 0h10m  tot: 0h4m11s  (27.2%)\rEpoch: 35.9%  lr: 0.036637  loss: 0.013085  eta: 0h10m  tot: 0h4m11s  (27.2%)\rEpoch: 36.0%  lr: 0.036627  loss: 0.013103  eta: 0h10m  tot: 0h4m11s  (27.2%)\rEpoch: 36.1%  lr: 0.036627  loss: 0.013091  eta: 0h10m  tot: 0h4m11s  (27.2%)\rEpoch: 36.2%  lr: 0.036617  loss: 0.013100  eta: 0h10m  tot: 0h4m12s  (27.2%)\rEpoch: 36.3%  lr: 0.036597  loss: 0.013093  eta: 0h10m  tot: 0h4m12s  (27.3%)\rEpoch: 36.4%  lr: 0.036577  loss: 0.013090  eta: 0h10m  tot: 0h4m12s  (27.3%)\rEpoch: 36.5%  lr: 0.036577  loss: 0.013080  eta: 0h10m  tot: 0h4m12s  (27.3%)\rEpoch: 36.5%  lr: 0.036577  loss: 0.013067  eta: 0h10m  tot: 0h4m12s  (27.3%)\rEpoch: 36.6%  lr: 0.036577  loss: 0.013085  eta: 0h10m  tot: 0h4m13s  (27.3%)\rEpoch: 36.7%  lr: 0.036577  loss: 0.013096  eta: 0h10m  tot: 0h4m13s  (27.3%)\rEpoch: 36.8%  lr: 0.036567  loss: 0.013089  eta: 0h10m  tot: 0h4m13s  (27.4%)\rEpoch: 36.9%  lr: 0.036567  loss: 0.013074  eta: 0h10m  tot: 0h4m13s  (27.4%)\rEpoch: 37.0%  lr: 0.036537  loss: 0.013069  eta: 0h10m  tot: 0h4m13s  (27.4%)\rEpoch: 37.1%  lr: 0.036537  loss: 0.013046  eta: 0h10m  tot: 0h4m13s  (27.4%)\rEpoch: 37.2%  lr: 0.036537  loss: 0.013042  eta: 0h10m  tot: 0h4m13s  (27.4%)\rEpoch: 37.3%  lr: 0.036527  loss: 0.013040  eta: 0h10m  tot: 0h4m14s  (27.5%)\rEpoch: 37.4%  lr: 0.036507  loss: 0.013025  eta: 0h10m  tot: 0h4m14s  (27.5%)\rEpoch: 37.4%  lr: 0.036507  loss: 0.013026  eta: 0h10m  tot: 0h4m14s  (27.5%)\rEpoch: 37.5%  lr: 0.036497  loss: 0.013017  eta: 0h10m  tot: 0h4m14s  (27.5%)\rEpoch: 37.6%  lr: 0.036487  loss: 0.013023  eta: 0h10m  tot: 0h4m14s  (27.5%)\rEpoch: 37.7%  lr: 0.036477  loss: 0.013015  eta: 0h10m  tot: 0h4m15s  (27.5%)\rEpoch: 37.8%  lr: 0.036477  loss: 0.013010  eta: 0h10m  tot: 0h4m15s  (27.6%)\rEpoch: 37.9%  lr: 0.036477  loss: 0.012993  eta: 0h10m  tot: 0h4m15s  (27.6%)\rEpoch: 38.0%  lr: 0.036477  loss: 0.013027  eta: 0h10m  tot: 0h4m15s  (27.6%)\rEpoch: 38.1%  lr: 0.036447  loss: 0.013055  eta: 0h10m  tot: 0h4m15s  (27.6%)\rEpoch: 38.2%  lr: 0.036447  loss: 0.013060  eta: 0h10m  tot: 0h4m15s  (27.6%)\rEpoch: 38.3%  lr: 0.036426  loss: 0.013061  eta: 0h10m  tot: 0h4m15s  (27.7%)\rEpoch: 38.3%  lr: 0.036426  loss: 0.013052  eta: 0h10m  tot: 0h4m16s  (27.7%)\rEpoch: 38.4%  lr: 0.036406  loss: 0.013064  eta: 0h10m  tot: 0h4m16s  (27.7%)\rEpoch: 38.5%  lr: 0.036396  loss: 0.013064  eta: 0h10m  tot: 0h4m16s  (27.7%)\rEpoch: 38.6%  lr: 0.036396  loss: 0.013071  eta: 0h10m  tot: 0h4m16s  (27.7%)\rEpoch: 38.7%  lr: 0.036396  loss: 0.013067  eta: 0h10m  tot: 0h4m16s  (27.7%)\rEpoch: 38.8%  lr: 0.036386  loss: 0.013065  eta: 0h10m  tot: 0h4m16s  (27.8%)\rEpoch: 38.9%  lr: 0.036376  loss: 0.013059  eta: 0h10m  tot: 0h4m17s  (27.8%)\rEpoch: 39.0%  lr: 0.036356  loss: 0.013084  eta: 0h10m  tot: 0h4m17s  (27.8%)\rEpoch: 39.1%  lr: 0.036346  loss: 0.013088  eta: 0h10m  tot: 0h4m17s  (27.8%)\rEpoch: 39.2%  lr: 0.036326  loss: 0.013110  eta: 0h10m  tot: 0h4m17s  (27.8%)\rEpoch: 39.2%  lr: 0.036306  loss: 0.013108  eta: 0h10m  tot: 0h4m17s  (27.8%)\rEpoch: 39.3%  lr: 0.036306  loss: 0.013099  eta: 0h10m  tot: 0h4m17s  (27.9%)\rEpoch: 39.4%  lr: 0.036296  loss: 0.013089  eta: 0h10m  tot: 0h4m18s  (27.9%)\rEpoch: 39.5%  lr: 0.036296  loss: 0.013115  eta: 0h10m  tot: 0h4m18s  (27.9%)\rEpoch: 39.6%  lr: 0.036286  loss: 0.013112  eta: 0h10m  tot: 0h4m18s  (27.9%)\rEpoch: 39.7%  lr: 0.036286  loss: 0.013111  eta: 0h10m  tot: 0h4m18s  (27.9%)\rEpoch: 39.8%  lr: 0.036266  loss: 0.013096  eta: 0h10m  tot: 0h4m18s  (28.0%)\rEpoch: 39.9%  lr: 0.036246  loss: 0.013105  eta: 0h10m  tot: 0h4m18s  (28.0%)\rEpoch: 40.0%  lr: 0.036246  loss: 0.013098  eta: 0h10m  tot: 0h4m18s  (28.0%)\rEpoch: 40.1%  lr: 0.036246  loss: 0.013143  eta: 0h10m  tot: 0h4m19s  (28.0%)\rEpoch: 40.1%  lr: 0.036246  loss: 0.013147  eta: 0h10m  tot: 0h4m19s  (28.0%)\rEpoch: 40.2%  lr: 0.036246  loss: 0.013130  eta: 0h10m  tot: 0h4m19s  (28.0%)\rEpoch: 40.3%  lr: 0.036246  loss: 0.013130  eta: 0h10m  tot: 0h4m19s  (28.1%)\rEpoch: 40.4%  lr: 0.036246  loss: 0.013136  eta: 0h10m  tot: 0h4m19s  (28.1%)\rEpoch: 40.5%  lr: 0.036236  loss: 0.013174  eta: 0h10m  tot: 0h4m19s  (28.1%)\rEpoch: 40.6%  lr: 0.036216  loss: 0.013182  eta: 0h10m  tot: 0h4m20s  (28.1%)\rEpoch: 40.7%  lr: 0.036216  loss: 0.013178  eta: 0h10m  tot: 0h4m20s  (28.1%)\rEpoch: 40.8%  lr: 0.036206  loss: 0.013175  eta: 0h10m  tot: 0h4m20s  (28.2%)\rEpoch: 40.9%  lr: 0.036186  loss: 0.013194  eta: 0h10m  tot: 0h4m20s  (28.2%)\rEpoch: 41.0%  lr: 0.036176  loss: 0.013186  eta: 0h10m  tot: 0h4m20s  (28.2%)\rEpoch: 41.0%  lr: 0.036176  loss: 0.013173  eta: 0h10m  tot: 0h4m20s  (28.2%)\rEpoch: 41.1%  lr: 0.036166  loss: 0.013150  eta: 0h10m  tot: 0h4m21s  (28.2%)\rEpoch: 41.2%  lr: 0.036166  loss: 0.013150  eta: 0h10m  tot: 0h4m21s  (28.2%)\rEpoch: 41.3%  lr: 0.036166  loss: 0.013160  eta: 0h10m  tot: 0h4m21s  (28.3%)\rEpoch: 41.4%  lr: 0.036166  loss: 0.013170  eta: 0h10m  tot: 0h4m21s  (28.3%)\rEpoch: 41.5%  lr: 0.036166  loss: 0.013154  eta: 0h10m  tot: 0h4m21s  (28.3%)\rEpoch: 41.6%  lr: 0.036136  loss: 0.013140  eta: 0h10m  tot: 0h4m21s  (28.3%)\rEpoch: 41.7%  lr: 0.036116  loss: 0.013128  eta: 0h10m  tot: 0h4m21s  (28.3%)\rEpoch: 41.8%  lr: 0.036116  loss: 0.013125  eta: 0h10m  tot: 0h4m22s  (28.4%)\rEpoch: 41.9%  lr: 0.036086  loss: 0.013137  eta: 0h10m  tot: 0h4m22s  (28.4%)\rEpoch: 42.0%  lr: 0.036076  loss: 0.013151  eta: 0h10m  tot: 0h4m22s  (28.4%)\rEpoch: 42.0%  lr: 0.036076  loss: 0.013173  eta: 0h10m  tot: 0h4m22s  (28.4%)\rEpoch: 42.1%  lr: 0.036056  loss: 0.013179  eta: 0h10m  tot: 0h4m22s  (28.4%)\rEpoch: 42.2%  lr: 0.036046  loss: 0.013171  eta: 0h10m  tot: 0h4m22s  (28.4%)\rEpoch: 42.3%  lr: 0.036016  loss: 0.013168  eta: 0h10m  tot: 0h4m23s  (28.5%)\rEpoch: 42.4%  lr: 0.036006  loss: 0.013167  eta: 0h10m  tot: 0h4m23s  (28.5%)\rEpoch: 42.5%  lr: 0.036006  loss: 0.013164  eta: 0h10m  tot: 0h4m23s  (28.5%)\rEpoch: 42.6%  lr: 0.036006  loss: 0.013182  eta: 0h10m  tot: 0h4m23s  (28.5%)\rEpoch: 42.7%  lr: 0.035996  loss: 0.013175  eta: 0h10m  tot: 0h4m23s  (28.5%)\rEpoch: 42.8%  lr: 0.035986  loss: 0.013185  eta: 0h10m  tot: 0h4m23s  (28.6%)\rEpoch: 42.9%  lr: 0.035986  loss: 0.013195  eta: 0h10m  tot: 0h4m24s  (28.6%)\rEpoch: 42.9%  lr: 0.035986  loss: 0.013186  eta: 0h10m  tot: 0h4m24s  (28.6%)\rEpoch: 43.0%  lr: 0.035976  loss: 0.013187  eta: 0h10m  tot: 0h4m24s  (28.6%)\rEpoch: 43.1%  lr: 0.035976  loss: 0.013200  eta: 0h10m  tot: 0h4m24s  (28.6%)\rEpoch: 43.2%  lr: 0.035976  loss: 0.013188  eta: 0h10m  tot: 0h4m24s  (28.6%)\rEpoch: 43.3%  lr: 0.035956  loss: 0.013178  eta: 0h10m  tot: 0h4m24s  (28.7%)\rEpoch: 43.4%  lr: 0.035946  loss: 0.013205  eta: 0h10m  tot: 0h4m24s  (28.7%)\rEpoch: 43.5%  lr: 0.035946  loss: 0.013225  eta: 0h10m  tot: 0h4m25s  (28.7%)\rEpoch: 43.6%  lr: 0.035946  loss: 0.013218  eta: 0h10m  tot: 0h4m25s  (28.7%)\rEpoch: 43.7%  lr: 0.035916  loss: 0.013244  eta: 0h10m  tot: 0h4m25s  (28.7%)\rEpoch: 43.8%  lr: 0.035896  loss: 0.013239  eta: 0h10m  tot: 0h4m25s  (28.8%)\rEpoch: 43.8%  lr: 0.035896  loss: 0.013223  eta: 0h10m  tot: 0h4m25s  (28.8%)\rEpoch: 43.9%  lr: 0.035896  loss: 0.013217  eta: 0h10m  tot: 0h4m25s  (28.8%)\rEpoch: 44.0%  lr: 0.035876  loss: 0.013246  eta: 0h10m  tot: 0h4m26s  (28.8%)\rEpoch: 44.1%  lr: 0.035876  loss: 0.013243  eta: 0h10m  tot: 0h4m26s  (28.8%)\rEpoch: 44.2%  lr: 0.035846  loss: 0.013229  eta: 0h10m  tot: 0h4m26s  (28.8%)\rEpoch: 44.3%  lr: 0.035836  loss: 0.013224  eta: 0h10m  tot: 0h4m26s  (28.9%)\rEpoch: 44.4%  lr: 0.035836  loss: 0.013221  eta: 0h10m  tot: 0h4m26s  (28.9%)\rEpoch: 44.5%  lr: 0.035836  loss: 0.013208  eta: 0h10m  tot: 0h4m26s  (28.9%)\rEpoch: 44.6%  lr: 0.035816  loss: 0.013204  eta: 0h10m  tot: 0h4m26s  (28.9%)\rEpoch: 44.7%  lr: 0.035806  loss: 0.013226  eta: 0h10m  tot: 0h4m27s  (28.9%)\rEpoch: 44.7%  lr: 0.035776  loss: 0.013227  eta: 0h10m  tot: 0h4m27s  (28.9%)\rEpoch: 44.8%  lr: 0.035756  loss: 0.013227  eta: 0h10m  tot: 0h4m27s  (29.0%)\rEpoch: 44.9%  lr: 0.035756  loss: 0.013220  eta: 0h10m  tot: 0h4m27s  (29.0%)\rEpoch: 45.0%  lr: 0.035746  loss: 0.013219  eta: 0h10m  tot: 0h4m27s  (29.0%)\rEpoch: 45.1%  lr: 0.035736  loss: 0.013237  eta: 0h10m  tot: 0h4m27s  (29.0%)\rEpoch: 45.2%  lr: 0.035736  loss: 0.013229  eta: 0h10m  tot: 0h4m28s  (29.0%)\rEpoch: 45.3%  lr: 0.035726  loss: 0.013220  eta: 0h10m  tot: 0h4m28s  (29.1%)\rEpoch: 45.4%  lr: 0.035706  loss: 0.013212  eta: 0h10m  tot: 0h4m28s  (29.1%)\rEpoch: 45.5%  lr: 0.035696  loss: 0.013216  eta: 0h10m  tot: 0h4m28s  (29.1%)\rEpoch: 45.6%  lr: 0.035696  loss: 0.013217  eta: 0h10m  tot: 0h4m28s  (29.1%)\rEpoch: 45.6%  lr: 0.035696  loss: 0.013212  eta: 0h10m  tot: 0h4m28s  (29.1%)\rEpoch: 45.7%  lr: 0.035696  loss: 0.013201  eta: 0h10m  tot: 0h4m29s  (29.1%)\rEpoch: 45.8%  lr: 0.035696  loss: 0.013199  eta: 0h10m  tot: 0h4m29s  (29.2%)\rEpoch: 45.9%  lr: 0.035696  loss: 0.013192  eta: 0h10m  tot: 0h4m29s  (29.2%)\rEpoch: 46.0%  lr: 0.035686  loss: 0.013195  eta: 0h10m  tot: 0h4m29s  (29.2%)\rEpoch: 46.1%  lr: 0.035686  loss: 0.013200  eta: 0h10m  tot: 0h4m29s  (29.2%)\rEpoch: 46.2%  lr: 0.035686  loss: 0.013218  eta: 0h10m  tot: 0h4m29s  (29.2%)\rEpoch: 46.3%  lr: 0.035676  loss: 0.013204  eta: 0h10m  tot: 0h4m29s  (29.3%)\rEpoch: 46.4%  lr: 0.035666  loss: 0.013198  eta: 0h10m  tot: 0h4m30s  (29.3%)\rEpoch: 46.5%  lr: 0.035666  loss: 0.013193  eta: 0h10m  tot: 0h4m30s  (29.3%)\rEpoch: 46.5%  lr: 0.035666  loss: 0.013176  eta: 0h10m  tot: 0h4m30s  (29.3%)\rEpoch: 46.6%  lr: 0.035646  loss: 0.013174  eta: 0h10m  tot: 0h4m30s  (29.3%)\rEpoch: 46.7%  lr: 0.035646  loss: 0.013175  eta: 0h10m  tot: 0h4m30s  (29.3%)\rEpoch: 46.8%  lr: 0.035646  loss: 0.013187  eta: 0h10m  tot: 0h4m30s  (29.4%)\rEpoch: 46.9%  lr: 0.035636  loss: 0.013190  eta: 0h10m  tot: 0h4m31s  (29.4%)\rEpoch: 47.0%  lr: 0.035626  loss: 0.013195  eta: 0h10m  tot: 0h4m31s  (29.4%)\rEpoch: 47.1%  lr: 0.035616  loss: 0.013185  eta: 0h10m  tot: 0h4m31s  (29.4%)\rEpoch: 47.2%  lr: 0.035606  loss: 0.013186  eta: 0h10m  tot: 0h4m31s  (29.4%)\rEpoch: 47.3%  lr: 0.035606  loss: 0.013179  eta: 0h10m  tot: 0h4m31s  (29.5%)\rEpoch: 47.4%  lr: 0.035606  loss: 0.013164  eta: 0h10m  tot: 0h4m31s  (29.5%)\rEpoch: 47.4%  lr: 0.035586  loss: 0.013174  eta: 0h10m  tot: 0h4m32s  (29.5%)\rEpoch: 47.5%  lr: 0.035586  loss: 0.013169  eta: 0h10m  tot: 0h4m32s  (29.5%)\rEpoch: 47.6%  lr: 0.035576  loss: 0.013165  eta: 0h10m  tot: 0h4m32s  (29.5%)\rEpoch: 47.7%  lr: 0.035566  loss: 0.013167  eta: 0h10m  tot: 0h4m32s  (29.5%)\rEpoch: 47.8%  lr: 0.035566  loss: 0.013178  eta: 0h10m  tot: 0h4m32s  (29.6%)\rEpoch: 47.9%  lr: 0.035566  loss: 0.013169  eta: 0h10m  tot: 0h4m32s  (29.6%)\rEpoch: 48.0%  lr: 0.035556  loss: 0.013164  eta: 0h10m  tot: 0h4m33s  (29.6%)\rEpoch: 48.1%  lr: 0.035556  loss: 0.013150  eta: 0h10m  tot: 0h4m33s  (29.6%)\rEpoch: 48.2%  lr: 0.035556  loss: 0.013148  eta: 0h10m  tot: 0h4m33s  (29.6%)\rEpoch: 48.3%  lr: 0.035546  loss: 0.013159  eta: 0h10m  tot: 0h4m33s  (29.7%)\rEpoch: 48.3%  lr: 0.035536  loss: 0.013153  eta: 0h10m  tot: 0h4m33s  (29.7%)\rEpoch: 48.4%  lr: 0.035516  loss: 0.013149  eta: 0h10m  tot: 0h4m33s  (29.7%)\rEpoch: 48.5%  lr: 0.035516  loss: 0.013142  eta: 0h10m  tot: 0h4m33s  (29.7%)\rEpoch: 48.6%  lr: 0.035516  loss: 0.013145  eta: 0h10m  tot: 0h4m34s  (29.7%)\rEpoch: 48.7%  lr: 0.035516  loss: 0.013141  eta: 0h10m  tot: 0h4m34s  (29.7%)\rEpoch: 48.8%  lr: 0.035486  loss: 0.013139  eta: 0h10m  tot: 0h4m34s  (29.8%)\rEpoch: 48.9%  lr: 0.035486  loss: 0.013157  eta: 0h10m  tot: 0h4m34s  (29.8%)\rEpoch: 49.0%  lr: 0.035476  loss: 0.013169  eta: 0h10m  tot: 0h4m34s  (29.8%)\rEpoch: 49.1%  lr: 0.035466  loss: 0.013184  eta: 0h10m  tot: 0h4m34s  (29.8%)\rEpoch: 49.2%  lr: 0.035466  loss: 0.013175  eta: 0h10m  tot: 0h4m35s  (29.8%)\rEpoch: 49.2%  lr: 0.035446  loss: 0.013167  eta: 0h10m  tot: 0h4m35s  (29.8%)\rEpoch: 49.3%  lr: 0.035446  loss: 0.013158  eta: 0h10m  tot: 0h4m35s  (29.9%)\rEpoch: 49.4%  lr: 0.035425  loss: 0.013171  eta: 0h10m  tot: 0h4m35s  (29.9%)\rEpoch: 49.5%  lr: 0.035425  loss: 0.013185  eta: 0h10m  tot: 0h4m35s  (29.9%)\rEpoch: 49.6%  lr: 0.035415  loss: 0.013187  eta: 0h10m  tot: 0h4m35s  (29.9%)\rEpoch: 49.7%  lr: 0.035415  loss: 0.013185  eta: 0h10m  tot: 0h4m36s  (29.9%)\rEpoch: 49.8%  lr: 0.035415  loss: 0.013179  eta: 0h10m  tot: 0h4m36s  (30.0%)\rEpoch: 49.9%  lr: 0.035405  loss: 0.013185  eta: 0h10m  tot: 0h4m36s  (30.0%)\rEpoch: 50.0%  lr: 0.035405  loss: 0.013190  eta: 0h10m  tot: 0h4m36s  (30.0%)\rEpoch: 50.1%  lr: 0.035385  loss: 0.013197  eta: 0h10m  tot: 0h4m36s  (30.0%)\rEpoch: 50.1%  lr: 0.035365  loss: 0.013211  eta: 0h10m  tot: 0h4m36s  (30.0%)\rEpoch: 50.2%  lr: 0.035365  loss: 0.013227  eta: 0h10m  tot: 0h4m36s  (30.0%)\rEpoch: 50.3%  lr: 0.035355  loss: 0.013242  eta: 0h10m  tot: 0h4m37s  (30.1%)\rEpoch: 50.4%  lr: 0.035355  loss: 0.013250  eta: 0h10m  tot: 0h4m37s  (30.1%)\rEpoch: 50.5%  lr: 0.035345  loss: 0.013251  eta: 0h10m  tot: 0h4m37s  (30.1%)\rEpoch: 50.6%  lr: 0.035335  loss: 0.013235  eta: 0h10m  tot: 0h4m37s  (30.1%)\rEpoch: 50.7%  lr: 0.035285  loss: 0.013266  eta: 0h10m  tot: 0h4m37s  (30.1%)\rEpoch: 50.8%  lr: 0.035265  loss: 0.013249  eta: 0h10m  tot: 0h4m37s  (30.2%)\rEpoch: 50.9%  lr: 0.035255  loss: 0.013232  eta: 0h10m  tot: 0h4m38s  (30.2%)\rEpoch: 51.0%  lr: 0.035245  loss: 0.013219  eta: 0h10m  tot: 0h4m38s  (30.2%)\rEpoch: 51.0%  lr: 0.035245  loss: 0.013210  eta: 0h10m  tot: 0h4m38s  (30.2%)\rEpoch: 51.1%  lr: 0.035245  loss: 0.013207  eta: 0h10m  tot: 0h4m38s  (30.2%)\rEpoch: 51.2%  lr: 0.035235  loss: 0.013191  eta: 0h10m  tot: 0h4m38s  (30.2%)\rEpoch: 51.3%  lr: 0.035235  loss: 0.013182  eta: 0h10m  tot: 0h4m38s  (30.3%)\rEpoch: 51.4%  lr: 0.035225  loss: 0.013186  eta: 0h10m  tot: 0h4m39s  (30.3%)\rEpoch: 51.5%  lr: 0.035225  loss: 0.013180  eta: 0h10m  tot: 0h4m39s  (30.3%)\rEpoch: 51.6%  lr: 0.035205  loss: 0.013178  eta: 0h10m  tot: 0h4m39s  (30.3%)\rEpoch: 51.7%  lr: 0.035175  loss: 0.013170  eta: 0h10m  tot: 0h4m39s  (30.3%)\rEpoch: 51.8%  lr: 0.035175  loss: 0.013169  eta: 0h10m  tot: 0h4m39s  (30.4%)\rEpoch: 51.9%  lr: 0.035155  loss: 0.013165  eta: 0h10m  tot: 0h4m39s  (30.4%)\rEpoch: 51.9%  lr: 0.035145  loss: 0.013182  eta: 0h10m  tot: 0h4m39s  (30.4%)\rEpoch: 52.0%  lr: 0.035145  loss: 0.013173  eta: 0h10m  tot: 0h4m40s  (30.4%)\rEpoch: 52.1%  lr: 0.035145  loss: 0.013178  eta: 0h10m  tot: 0h4m40s  (30.4%)\rEpoch: 52.2%  lr: 0.035135  loss: 0.013173  eta: 0h10m  tot: 0h4m40s  (30.4%)\rEpoch: 52.3%  lr: 0.035135  loss: 0.013199  eta: 0h10m  tot: 0h4m40s  (30.5%)\rEpoch: 52.4%  lr: 0.035125  loss: 0.013219  eta: 0h10m  tot: 0h4m40s  (30.5%)\rEpoch: 52.5%  lr: 0.035105  loss: 0.013208  eta: 0h10m  tot: 0h4m40s  (30.5%)\rEpoch: 52.6%  lr: 0.035075  loss: 0.013204  eta: 0h10m  tot: 0h4m41s  (30.5%)\rEpoch: 52.7%  lr: 0.035075  loss: 0.013201  eta: 0h10m  tot: 0h4m41s  (30.5%)\rEpoch: 52.8%  lr: 0.035055  loss: 0.013218  eta: 0h10m  tot: 0h4m41s  (30.6%)\rEpoch: 52.8%  lr: 0.035055  loss: 0.013206  eta: 0h10m  tot: 0h4m41s  (30.6%)\rEpoch: 52.9%  lr: 0.035055  loss: 0.013200  eta: 0h10m  tot: 0h4m41s  (30.6%)\rEpoch: 53.0%  lr: 0.035055  loss: 0.013191  eta: 0h10m  tot: 0h4m41s  (30.6%)\rEpoch: 53.1%  lr: 0.035045  loss: 0.013188  eta: 0h10m  tot: 0h4m41s  (30.6%)\rEpoch: 53.2%  lr: 0.035045  loss: 0.013201  eta: 0h10m  tot: 0h4m42s  (30.6%)\rEpoch: 53.3%  lr: 0.035035  loss: 0.013202  eta: 0h10m  tot: 0h4m42s  (30.7%)\rEpoch: 53.4%  lr: 0.035015  loss: 0.013192  eta: 0h10m  tot: 0h4m42s  (30.7%)\rEpoch: 53.5%  lr: 0.035015  loss: 0.013197  eta: 0h10m  tot: 0h4m42s  (30.7%)\rEpoch: 53.6%  lr: 0.035005  loss: 0.013195  eta: 0h10m  tot: 0h4m42s  (30.7%)\rEpoch: 53.7%  lr: 0.035005  loss: 0.013190  eta: 0h10m  tot: 0h4m42s  (30.7%)\rEpoch: 53.7%  lr: 0.034995  loss: 0.013192  eta: 0h10m  tot: 0h4m43s  (30.7%)\rEpoch: 53.8%  lr: 0.034985  loss: 0.013199  eta: 0h10m  tot: 0h4m43s  (30.8%)\rEpoch: 53.9%  lr: 0.034985  loss: 0.013203  eta: 0h10m  tot: 0h4m43s  (30.8%)\rEpoch: 54.0%  lr: 0.034985  loss: 0.013229  eta: 0h10m  tot: 0h4m43s  (30.8%)\rEpoch: 54.1%  lr: 0.034975  loss: 0.013231  eta: 0h10m  tot: 0h4m43s  (30.8%)\rEpoch: 54.2%  lr: 0.034965  loss: 0.013219  eta: 0h10m  tot: 0h4m43s  (30.8%)\rEpoch: 54.3%  lr: 0.034965  loss: 0.013218  eta: 0h10m  tot: 0h4m44s  (30.9%)\rEpoch: 54.4%  lr: 0.034955  loss: 0.013223  eta: 0h10m  tot: 0h4m44s  (30.9%)\rEpoch: 54.5%  lr: 0.034955  loss: 0.013220  eta: 0h10m  tot: 0h4m44s  (30.9%)\rEpoch: 54.6%  lr: 0.034955  loss: 0.013226  eta: 0h10m  tot: 0h4m44s  (30.9%)\rEpoch: 54.6%  lr: 0.034955  loss: 0.013210  eta: 0h10m  tot: 0h4m44s  (30.9%)\rEpoch: 54.7%  lr: 0.034955  loss: 0.013207  eta: 0h10m  tot: 0h4m44s  (30.9%)\rEpoch: 54.8%  lr: 0.034955  loss: 0.013198  eta: 0h10m  tot: 0h4m44s  (31.0%)\rEpoch: 54.9%  lr: 0.034955  loss: 0.013194  eta: 0h10m  tot: 0h4m45s  (31.0%)\rEpoch: 55.0%  lr: 0.034935  loss: 0.013188  eta: 0h10m  tot: 0h4m45s  (31.0%)\rEpoch: 55.1%  lr: 0.034935  loss: 0.013188  eta: 0h10m  tot: 0h4m45s  (31.0%)\rEpoch: 55.2%  lr: 0.034915  loss: 0.013182  eta: 0h10m  tot: 0h4m45s  (31.0%)\rEpoch: 55.3%  lr: 0.034895  loss: 0.013208  eta: 0h10m  tot: 0h4m45s  (31.1%)\rEpoch: 55.4%  lr: 0.034895  loss: 0.013196  eta: 0h10m  tot: 0h4m45s  (31.1%)\rEpoch: 55.5%  lr: 0.034885  loss: 0.013204  eta: 0h10m  tot: 0h4m46s  (31.1%)\rEpoch: 55.5%  lr: 0.034885  loss: 0.013202  eta: 0h10m  tot: 0h4m46s  (31.1%)\rEpoch: 55.6%  lr: 0.034875  loss: 0.013206  eta: 0h10m  tot: 0h4m46s  (31.1%)\rEpoch: 55.7%  lr: 0.034865  loss: 0.013202  eta: 0h10m  tot: 0h4m46s  (31.1%)\rEpoch: 55.8%  lr: 0.034835  loss: 0.013207  eta: 0h9m  tot: 0h4m46s  (31.2%)\rEpoch: 55.9%  lr: 0.034835  loss: 0.013203  eta: 0h9m  tot: 0h4m46s  (31.2%)\rEpoch: 56.0%  lr: 0.034825  loss: 0.013220  eta: 0h9m  tot: 0h4m47s  (31.2%)\rEpoch: 56.1%  lr: 0.034825  loss: 0.013241  eta: 0h9m  tot: 0h4m47s  (31.2%)\rEpoch: 56.2%  lr: 0.034825  loss: 0.013236  eta: 0h9m  tot: 0h4m47s  (31.2%)\rEpoch: 56.3%  lr: 0.034805  loss: 0.013236  eta: 0h9m  tot: 0h4m47s  (31.3%)\rEpoch: 56.4%  lr: 0.034785  loss: 0.013237  eta: 0h9m  tot: 0h4m47s  (31.3%)\rEpoch: 56.4%  lr: 0.034775  loss: 0.013227  eta: 0h9m  tot: 0h4m47s  (31.3%)\rEpoch: 56.5%  lr: 0.034765  loss: 0.013214  eta: 0h9m  tot: 0h4m47s  (31.3%)\rEpoch: 56.6%  lr: 0.034755  loss: 0.013203  eta: 0h9m  tot: 0h4m48s  (31.3%)\rEpoch: 56.7%  lr: 0.034745  loss: 0.013215  eta: 0h9m  tot: 0h4m48s  (31.3%)\rEpoch: 56.8%  lr: 0.034735  loss: 0.013214  eta: 0h9m  tot: 0h4m48s  (31.4%)\rEpoch: 56.9%  lr: 0.034735  loss: 0.013211  eta: 0h9m  tot: 0h4m48s  (31.4%)\rEpoch: 57.0%  lr: 0.034735  loss: 0.013210  eta: 0h9m  tot: 0h4m48s  (31.4%)\rEpoch: 57.1%  lr: 0.034695  loss: 0.013215  eta: 0h9m  tot: 0h4m48s  (31.4%)\rEpoch: 57.2%  lr: 0.034665  loss: 0.013221  eta: 0h9m  tot: 0h4m49s  (31.4%)\rEpoch: 57.3%  lr: 0.034665  loss: 0.013217  eta: 0h9m  tot: 0h4m49s  (31.5%)\rEpoch: 57.3%  lr: 0.034655  loss: 0.013222  eta: 0h9m  tot: 0h4m49s  (31.5%)\rEpoch: 57.4%  lr: 0.034655  loss: 0.013237  eta: 0h9m  tot: 0h4m49s  (31.5%)\rEpoch: 57.5%  lr: 0.034645  loss: 0.013250  eta: 0h9m  tot: 0h4m49s  (31.5%)\rEpoch: 57.6%  lr: 0.034635  loss: 0.013258  eta: 0h9m  tot: 0h4m49s  (31.5%)\rEpoch: 57.7%  lr: 0.034635  loss: 0.013270  eta: 0h9m  tot: 0h4m50s  (31.5%)\rEpoch: 57.8%  lr: 0.034625  loss: 0.013266  eta: 0h9m  tot: 0h4m50s  (31.6%)\rEpoch: 57.9%  lr: 0.034625  loss: 0.013270  eta: 0h9m  tot: 0h4m50s  (31.6%)\rEpoch: 58.0%  lr: 0.034625  loss: 0.013258  eta: 0h9m  tot: 0h4m50s  (31.6%)\rEpoch: 58.1%  lr: 0.034605  loss: 0.013245  eta: 0h9m  tot: 0h4m50s  (31.6%)\rEpoch: 58.2%  lr: 0.034595  loss: 0.013251  eta: 0h9m  tot: 0h4m50s  (31.6%)\rEpoch: 58.2%  lr: 0.034585  loss: 0.013258  eta: 0h9m  tot: 0h4m50s  (31.6%)\rEpoch: 58.3%  lr: 0.034565  loss: 0.013261  eta: 0h9m  tot: 0h4m51s  (31.7%)\rEpoch: 58.4%  lr: 0.034555  loss: 0.013251  eta: 0h9m  tot: 0h4m51s  (31.7%)\rEpoch: 58.5%  lr: 0.034555  loss: 0.013267  eta: 0h9m  tot: 0h4m51s  (31.7%)\rEpoch: 58.6%  lr: 0.034555  loss: 0.013272  eta: 0h9m  tot: 0h4m51s  (31.7%)\rEpoch: 58.7%  lr: 0.034545  loss: 0.013273  eta: 0h9m  tot: 0h4m51s  (31.7%)\rEpoch: 58.8%  lr: 0.034545  loss: 0.013263  eta: 0h9m  tot: 0h4m51s  (31.8%)\rEpoch: 58.9%  lr: 0.034535  loss: 0.013255  eta: 0h9m  tot: 0h4m52s  (31.8%)\rEpoch: 59.0%  lr: 0.034525  loss: 0.013270  eta: 0h9m  tot: 0h4m52s  (31.8%)\rEpoch: 59.1%  lr: 0.034525  loss: 0.013265  eta: 0h9m  tot: 0h4m52s  (31.8%)\rEpoch: 59.1%  lr: 0.034525  loss: 0.013268  eta: 0h9m  tot: 0h4m52s  (31.8%)\rEpoch: 59.2%  lr: 0.034515  loss: 0.013270  eta: 0h9m  tot: 0h4m52s  (31.8%)\rEpoch: 59.3%  lr: 0.034515  loss: 0.013268  eta: 0h9m  tot: 0h4m52s  (31.9%)\rEpoch: 59.4%  lr: 0.034515  loss: 0.013267  eta: 0h9m  tot: 0h4m53s  (31.9%)\rEpoch: 59.5%  lr: 0.034495  loss: 0.013271  eta: 0h9m  tot: 0h4m53s  (31.9%)\rEpoch: 59.6%  lr: 0.034475  loss: 0.013270  eta: 0h9m  tot: 0h4m53s  (31.9%)\rEpoch: 59.7%  lr: 0.034475  loss: 0.013261  eta: 0h9m  tot: 0h4m53s  (31.9%)\rEpoch: 59.8%  lr: 0.034475  loss: 0.013258  eta: 0h9m  tot: 0h4m53s  (32.0%)\rEpoch: 59.9%  lr: 0.034455  loss: 0.013256  eta: 0h9m  tot: 0h4m53s  (32.0%)\rEpoch: 60.0%  lr: 0.034455  loss: 0.013247  eta: 0h9m  tot: 0h4m53s  (32.0%)\rEpoch: 60.0%  lr: 0.034435  loss: 0.013257  eta: 0h9m  tot: 0h4m54s  (32.0%)\rEpoch: 60.1%  lr: 0.034404  loss: 0.013265  eta: 0h9m  tot: 0h4m54s  (32.0%)\rEpoch: 60.2%  lr: 0.034394  loss: 0.013259  eta: 0h9m  tot: 0h4m54s  (32.0%)\rEpoch: 60.3%  lr: 0.034384  loss: 0.013273  eta: 0h9m  tot: 0h4m54s  (32.1%)\rEpoch: 60.4%  lr: 0.034364  loss: 0.013269  eta: 0h9m  tot: 0h4m54s  (32.1%)\rEpoch: 60.5%  lr: 0.034334  loss: 0.013257  eta: 0h9m  tot: 0h4m54s  (32.1%)\rEpoch: 60.6%  lr: 0.034324  loss: 0.013274  eta: 0h9m  tot: 0h4m55s  (32.1%)\rEpoch: 60.7%  lr: 0.034294  loss: 0.013273  eta: 0h9m  tot: 0h4m55s  (32.1%)\rEpoch: 60.8%  lr: 0.034294  loss: 0.013268  eta: 0h9m  tot: 0h4m55s  (32.2%)\rEpoch: 60.9%  lr: 0.034294  loss: 0.013261  eta: 0h9m  tot: 0h4m55s  (32.2%)\rEpoch: 60.9%  lr: 0.034284  loss: 0.013265  eta: 0h9m  tot: 0h4m55s  (32.2%)\rEpoch: 61.0%  lr: 0.034284  loss: 0.013269  eta: 0h9m  tot: 0h4m55s  (32.2%)\rEpoch: 61.1%  lr: 0.034274  loss: 0.013267  eta: 0h9m  tot: 0h4m56s  (32.2%)\rEpoch: 61.2%  lr: 0.034254  loss: 0.013263  eta: 0h9m  tot: 0h4m56s  (32.2%)\rEpoch: 61.3%  lr: 0.034254  loss: 0.013259  eta: 0h9m  tot: 0h4m56s  (32.3%)\rEpoch: 61.4%  lr: 0.034254  loss: 0.013256  eta: 0h9m  tot: 0h4m56s  (32.3%)\rEpoch: 61.5%  lr: 0.034254  loss: 0.013253  eta: 0h9m  tot: 0h4m56s  (32.3%)\rEpoch: 61.6%  lr: 0.034244  loss: 0.013249  eta: 0h9m  tot: 0h4m56s  (32.3%)\rEpoch: 61.7%  lr: 0.034204  loss: 0.013243  eta: 0h9m  tot: 0h4m56s  (32.3%)\rEpoch: 61.8%  lr: 0.034204  loss: 0.013240  eta: 0h9m  tot: 0h4m57s  (32.4%)\rEpoch: 61.8%  lr: 0.034204  loss: 0.013237  eta: 0h9m  tot: 0h4m57s  (32.4%)\rEpoch: 61.9%  lr: 0.034204  loss: 0.013251  eta: 0h9m  tot: 0h4m57s  (32.4%)\rEpoch: 62.0%  lr: 0.034194  loss: 0.013278  eta: 0h9m  tot: 0h4m57s  (32.4%)\rEpoch: 62.1%  lr: 0.034194  loss: 0.013271  eta: 0h9m  tot: 0h4m57s  (32.4%)\rEpoch: 62.2%  lr: 0.034164  loss: 0.013276  eta: 0h9m  tot: 0h4m57s  (32.4%)\rEpoch: 62.3%  lr: 0.034164  loss: 0.013286  eta: 0h9m  tot: 0h4m58s  (32.5%)\rEpoch: 62.4%  lr: 0.034154  loss: 0.013283  eta: 0h9m  tot: 0h4m58s  (32.5%)\rEpoch: 62.5%  lr: 0.034144  loss: 0.013276  eta: 0h9m  tot: 0h4m58s  (32.5%)\rEpoch: 62.6%  lr: 0.034134  loss: 0.013276  eta: 0h9m  tot: 0h4m58s  (32.5%)\rEpoch: 62.7%  lr: 0.034114  loss: 0.013269  eta: 0h9m  tot: 0h4m58s  (32.5%)\rEpoch: 62.7%  lr: 0.034094  loss: 0.013260  eta: 0h9m  tot: 0h4m58s  (32.5%)\rEpoch: 62.8%  lr: 0.034084  loss: 0.013261  eta: 0h9m  tot: 0h4m58s  (32.6%)\rEpoch: 62.9%  lr: 0.034084  loss: 0.013247  eta: 0h9m  tot: 0h4m59s  (32.6%)\rEpoch: 63.0%  lr: 0.034084  loss: 0.013248  eta: 0h9m  tot: 0h4m59s  (32.6%)\rEpoch: 63.1%  lr: 0.034084  loss: 0.013238  eta: 0h9m  tot: 0h4m59s  (32.6%)\rEpoch: 63.2%  lr: 0.034084  loss: 0.013243  eta: 0h9m  tot: 0h4m59s  (32.6%)\rEpoch: 63.3%  lr: 0.034074  loss: 0.013235  eta: 0h9m  tot: 0h4m59s  (32.7%)\rEpoch: 63.4%  lr: 0.034054  loss: 0.013236  eta: 0h9m  tot: 0h4m59s  (32.7%)\rEpoch: 63.5%  lr: 0.034034  loss: 0.013229  eta: 0h9m  tot: 0h5m0s  (32.7%)\rEpoch: 63.6%  lr: 0.034024  loss: 0.013220  eta: 0h9m  tot: 0h5m0s  (32.7%)\rEpoch: 63.6%  lr: 0.034004  loss: 0.013209  eta: 0h9m  tot: 0h5m0s  (32.7%)\rEpoch: 63.7%  lr: 0.033994  loss: 0.013201  eta: 0h9m  tot: 0h5m0s  (32.7%)\rEpoch: 63.8%  lr: 0.033984  loss: 0.013204  eta: 0h9m  tot: 0h5m0s  (32.8%)\rEpoch: 63.9%  lr: 0.033964  loss: 0.013198  eta: 0h9m  tot: 0h5m0s  (32.8%)\rEpoch: 64.0%  lr: 0.033964  loss: 0.013186  eta: 0h9m  tot: 0h5m0s  (32.8%)\rEpoch: 64.1%  lr: 0.033964  loss: 0.013193  eta: 0h9m  tot: 0h5m1s  (32.8%)\rEpoch: 64.2%  lr: 0.033954  loss: 0.013204  eta: 0h9m  tot: 0h5m1s  (32.8%)\rEpoch: 64.3%  lr: 0.033944  loss: 0.013210  eta: 0h9m  tot: 0h5m1s  (32.9%)\rEpoch: 64.4%  lr: 0.033934  loss: 0.013212  eta: 0h9m  tot: 0h5m1s  (32.9%)\rEpoch: 64.5%  lr: 0.033934  loss: 0.013208  eta: 0h9m  tot: 0h5m1s  (32.9%)\rEpoch: 64.5%  lr: 0.033924  loss: 0.013215  eta: 0h9m  tot: 0h5m1s  (32.9%)\rEpoch: 64.6%  lr: 0.033924  loss: 0.013218  eta: 0h9m  tot: 0h5m2s  (32.9%)\rEpoch: 64.7%  lr: 0.033904  loss: 0.013208  eta: 0h9m  tot: 0h5m2s  (32.9%)\rEpoch: 64.8%  lr: 0.033884  loss: 0.013196  eta: 0h9m  tot: 0h5m2s  (33.0%)\rEpoch: 64.9%  lr: 0.033874  loss: 0.013189  eta: 0h9m  tot: 0h5m2s  (33.0%)\rEpoch: 65.0%  lr: 0.033874  loss: 0.013192  eta: 0h9m  tot: 0h5m2s  (33.0%)\rEpoch: 65.1%  lr: 0.033854  loss: 0.013197  eta: 0h9m  tot: 0h5m2s  (33.0%)\rEpoch: 65.2%  lr: 0.033844  loss: 0.013190  eta: 0h9m  tot: 0h5m3s  (33.0%)\rEpoch: 65.3%  lr: 0.033844  loss: 0.013200  eta: 0h9m  tot: 0h5m3s  (33.1%)\rEpoch: 65.4%  lr: 0.033844  loss: 0.013203  eta: 0h9m  tot: 0h5m3s  (33.1%)\rEpoch: 65.4%  lr: 0.033834  loss: 0.013219  eta: 0h9m  tot: 0h5m3s  (33.1%)\rEpoch: 65.5%  lr: 0.033834  loss: 0.013220  eta: 0h9m  tot: 0h5m3s  (33.1%)\rEpoch: 65.6%  lr: 0.033834  loss: 0.013212  eta: 0h9m  tot: 0h5m3s  (33.1%)\rEpoch: 65.7%  lr: 0.033834  loss: 0.013219  eta: 0h9m  tot: 0h5m3s  (33.1%)\rEpoch: 65.8%  lr: 0.033824  loss: 0.013235  eta: 0h9m  tot: 0h5m4s  (33.2%)\rEpoch: 65.9%  lr: 0.033824  loss: 0.013245  eta: 0h9m  tot: 0h5m4s  (33.2%)\rEpoch: 66.0%  lr: 0.033814  loss: 0.013258  eta: 0h9m  tot: 0h5m4s  (33.2%)\rEpoch: 66.1%  lr: 0.033804  loss: 0.013275  eta: 0h9m  tot: 0h5m4s  (33.2%)\rEpoch: 66.2%  lr: 0.033794  loss: 0.013277  eta: 0h9m  tot: 0h5m4s  (33.2%)\rEpoch: 66.3%  lr: 0.033794  loss: 0.013278  eta: 0h9m  tot: 0h5m4s  (33.3%)\rEpoch: 66.3%  lr: 0.033754  loss: 0.013286  eta: 0h9m  tot: 0h5m5s  (33.3%)\rEpoch: 66.4%  lr: 0.033744  loss: 0.013292  eta: 0h9m  tot: 0h5m5s  (33.3%)\rEpoch: 66.5%  lr: 0.033744  loss: 0.013293  eta: 0h9m  tot: 0h5m5s  (33.3%)\rEpoch: 66.6%  lr: 0.033744  loss: 0.013284  eta: 0h9m  tot: 0h5m5s  (33.3%)\rEpoch: 66.7%  lr: 0.033704  loss: 0.013280  eta: 0h9m  tot: 0h5m5s  (33.3%)\rEpoch: 66.8%  lr: 0.033684  loss: 0.013281  eta: 0h9m  tot: 0h5m5s  (33.4%)\rEpoch: 66.9%  lr: 0.033674  loss: 0.013274  eta: 0h9m  tot: 0h5m6s  (33.4%)\rEpoch: 67.0%  lr: 0.033664  loss: 0.013267  eta: 0h9m  tot: 0h5m6s  (33.4%)\rEpoch: 67.1%  lr: 0.033634  loss: 0.013268  eta: 0h9m  tot: 0h5m6s  (33.4%)\rEpoch: 67.2%  lr: 0.033614  loss: 0.013275  eta: 0h9m  tot: 0h5m6s  (33.4%)\rEpoch: 67.2%  lr: 0.033594  loss: 0.013272  eta: 0h9m  tot: 0h5m6s  (33.4%)\rEpoch: 67.3%  lr: 0.033574  loss: 0.013273  eta: 0h9m  tot: 0h5m6s  (33.5%)\rEpoch: 67.4%  lr: 0.033564  loss: 0.013265  eta: 0h9m  tot: 0h5m6s  (33.5%)\rEpoch: 67.5%  lr: 0.033564  loss: 0.013262  eta: 0h9m  tot: 0h5m7s  (33.5%)\rEpoch: 67.6%  lr: 0.033564  loss: 0.013255  eta: 0h9m  tot: 0h5m7s  (33.5%)\rEpoch: 67.7%  lr: 0.033564  loss: 0.013242  eta: 0h9m  tot: 0h5m7s  (33.5%)\rEpoch: 67.8%  lr: 0.033544  loss: 0.013235  eta: 0h9m  tot: 0h5m7s  (33.6%)\rEpoch: 67.9%  lr: 0.033544  loss: 0.013234  eta: 0h9m  tot: 0h5m7s  (33.6%)\rEpoch: 68.0%  lr: 0.033534  loss: 0.013236  eta: 0h9m  tot: 0h5m7s  (33.6%)\rEpoch: 68.1%  lr: 0.033534  loss: 0.013224  eta: 0h9m  tot: 0h5m8s  (33.6%)\rEpoch: 68.1%  lr: 0.033534  loss: 0.013218  eta: 0h9m  tot: 0h5m8s  (33.6%)\rEpoch: 68.2%  lr: 0.033524  loss: 0.013224  eta: 0h9m  tot: 0h5m8s  (33.6%)\rEpoch: 68.3%  lr: 0.033524  loss: 0.013235  eta: 0h9m  tot: 0h5m8s  (33.7%)\rEpoch: 68.4%  lr: 0.033514  loss: 0.013225  eta: 0h9m  tot: 0h5m8s  (33.7%)\rEpoch: 68.5%  lr: 0.033494  loss: 0.013222  eta: 0h9m  tot: 0h5m8s  (33.7%)\rEpoch: 68.6%  lr: 0.033484  loss: 0.013240  eta: 0h9m  tot: 0h5m8s  (33.7%)\rEpoch: 68.7%  lr: 0.033484  loss: 0.013230  eta: 0h9m  tot: 0h5m9s  (33.7%)\rEpoch: 68.8%  lr: 0.033484  loss: 0.013232  eta: 0h9m  tot: 0h5m9s  (33.8%)\rEpoch: 68.9%  lr: 0.033474  loss: 0.013224  eta: 0h9m  tot: 0h5m9s  (33.8%)\rEpoch: 69.0%  lr: 0.033464  loss: 0.013236  eta: 0h9m  tot: 0h5m9s  (33.8%)\rEpoch: 69.0%  lr: 0.033464  loss: 0.013234  eta: 0h9m  tot: 0h5m9s  (33.8%)\rEpoch: 69.1%  lr: 0.033434  loss: 0.013244  eta: 0h9m  tot: 0h5m9s  (33.8%)\rEpoch: 69.2%  lr: 0.033404  loss: 0.013240  eta: 0h9m  tot: 0h5m10s  (33.8%)\rEpoch: 69.3%  lr: 0.033393  loss: 0.013257  eta: 0h9m  tot: 0h5m10s  (33.9%)\rEpoch: 69.4%  lr: 0.033383  loss: 0.013269  eta: 0h9m  tot: 0h5m10s  (33.9%)\rEpoch: 69.5%  lr: 0.033383  loss: 0.013274  eta: 0h9m  tot: 0h5m10s  (33.9%)\rEpoch: 69.6%  lr: 0.033383  loss: 0.013274  eta: 0h9m  tot: 0h5m10s  (33.9%)\rEpoch: 69.7%  lr: 0.033383  loss: 0.013290  eta: 0h9m  tot: 0h5m10s  (33.9%)\rEpoch: 69.8%  lr: 0.033383  loss: 0.013281  eta: 0h9m  tot: 0h5m11s  (34.0%)\rEpoch: 69.9%  lr: 0.033373  loss: 0.013275  eta: 0h9m  tot: 0h5m11s  (34.0%)\rEpoch: 69.9%  lr: 0.033363  loss: 0.013283  eta: 0h9m  tot: 0h5m11s  (34.0%)\rEpoch: 70.0%  lr: 0.033363  loss: 0.013280  eta: 0h9m  tot: 0h5m11s  (34.0%)\rEpoch: 70.1%  lr: 0.033363  loss: 0.013280  eta: 0h9m  tot: 0h5m11s  (34.0%)\rEpoch: 70.2%  lr: 0.033353  loss: 0.013274  eta: 0h9m  tot: 0h5m11s  (34.0%)\rEpoch: 70.3%  lr: 0.033333  loss: 0.013276  eta: 0h9m  tot: 0h5m11s  (34.1%)\rEpoch: 70.4%  lr: 0.033333  loss: 0.013279  eta: 0h9m  tot: 0h5m12s  (34.1%)\rEpoch: 70.5%  lr: 0.033323  loss: 0.013276  eta: 0h9m  tot: 0h5m12s  (34.1%)\rEpoch: 70.6%  lr: 0.033313  loss: 0.013278  eta: 0h9m  tot: 0h5m12s  (34.1%)\rEpoch: 70.7%  lr: 0.033293  loss: 0.013281  eta: 0h9m  tot: 0h5m12s  (34.1%)\rEpoch: 70.8%  lr: 0.033293  loss: 0.013273  eta: 0h9m  tot: 0h5m12s  (34.2%)\rEpoch: 70.8%  lr: 0.033283  loss: 0.013271  eta: 0h9m  tot: 0h5m12s  (34.2%)\rEpoch: 70.9%  lr: 0.033263  loss: 0.013267  eta: 0h9m  tot: 0h5m13s  (34.2%)\rEpoch: 71.0%  lr: 0.033263  loss: 0.013264  eta: 0h9m  tot: 0h5m13s  (34.2%)\rEpoch: 71.1%  lr: 0.033243  loss: 0.013263  eta: 0h9m  tot: 0h5m13s  (34.2%)\rEpoch: 71.2%  lr: 0.033223  loss: 0.013261  eta: 0h9m  tot: 0h5m13s  (34.2%)\rEpoch: 71.3%  lr: 0.033223  loss: 0.013255  eta: 0h9m  tot: 0h5m13s  (34.3%)\rEpoch: 71.4%  lr: 0.033203  loss: 0.013248  eta: 0h9m  tot: 0h5m13s  (34.3%)\rEpoch: 71.5%  lr: 0.033203  loss: 0.013263  eta: 0h9m  tot: 0h5m13s  (34.3%)\rEpoch: 71.6%  lr: 0.033203  loss: 0.013265  eta: 0h9m  tot: 0h5m14s  (34.3%)\rEpoch: 71.7%  lr: 0.033203  loss: 0.013263  eta: 0h9m  tot: 0h5m14s  (34.3%)\rEpoch: 71.7%  lr: 0.033193  loss: 0.013260  eta: 0h9m  tot: 0h5m14s  (34.3%)\rEpoch: 71.8%  lr: 0.033183  loss: 0.013249  eta: 0h9m  tot: 0h5m14s  (34.4%)\rEpoch: 71.9%  lr: 0.033183  loss: 0.013252  eta: 0h9m  tot: 0h5m14s  (34.4%)\rEpoch: 72.0%  lr: 0.033173  loss: 0.013250  eta: 0h9m  tot: 0h5m14s  (34.4%)\rEpoch: 72.1%  lr: 0.033173  loss: 0.013242  eta: 0h9m  tot: 0h5m15s  (34.4%)\rEpoch: 72.2%  lr: 0.033173  loss: 0.013243  eta: 0h9m  tot: 0h5m15s  (34.4%)\rEpoch: 72.3%  lr: 0.033163  loss: 0.013234  eta: 0h9m  tot: 0h5m15s  (34.5%)\rEpoch: 72.4%  lr: 0.033163  loss: 0.013261  eta: 0h9m  tot: 0h5m15s  (34.5%)\rEpoch: 72.5%  lr: 0.033163  loss: 0.013264  eta: 0h9m  tot: 0h5m15s  (34.5%)\rEpoch: 72.6%  lr: 0.033163  loss: 0.013271  eta: 0h9m  tot: 0h5m15s  (34.5%)\rEpoch: 72.6%  lr: 0.033163  loss: 0.013274  eta: 0h9m  tot: 0h5m16s  (34.5%)\rEpoch: 72.7%  lr: 0.033153  loss: 0.013278  eta: 0h9m  tot: 0h5m16s  (34.5%)\rEpoch: 72.8%  lr: 0.033123  loss: 0.013275  eta: 0h9m  tot: 0h5m16s  (34.6%)\rEpoch: 72.9%  lr: 0.033123  loss: 0.013269  eta: 0h9m  tot: 0h5m16s  (34.6%)\rEpoch: 73.0%  lr: 0.033113  loss: 0.013266  eta: 0h9m  tot: 0h5m16s  (34.6%)\rEpoch: 73.1%  lr: 0.033113  loss: 0.013271  eta: 0h9m  tot: 0h5m16s  (34.6%)\rEpoch: 73.2%  lr: 0.033083  loss: 0.013280  eta: 0h9m  tot: 0h5m16s  (34.6%)\rEpoch: 73.3%  lr: 0.033073  loss: 0.013283  eta: 0h9m  tot: 0h5m17s  (34.7%)\rEpoch: 73.4%  lr: 0.033053  loss: 0.013280  eta: 0h9m  tot: 0h5m17s  (34.7%)\rEpoch: 73.5%  lr: 0.033053  loss: 0.013280  eta: 0h9m  tot: 0h5m17s  (34.7%)\rEpoch: 73.5%  lr: 0.033023  loss: 0.013296  eta: 0h9m  tot: 0h5m17s  (34.7%)\rEpoch: 73.6%  lr: 0.033003  loss: 0.013298  eta: 0h9m  tot: 0h5m17s  (34.7%)\rEpoch: 73.7%  lr: 0.032993  loss: 0.013295  eta: 0h9m  tot: 0h5m17s  (34.7%)\rEpoch: 73.8%  lr: 0.032983  loss: 0.013296  eta: 0h9m  tot: 0h5m18s  (34.8%)\rEpoch: 73.9%  lr: 0.032973  loss: 0.013291  eta: 0h9m  tot: 0h5m18s  (34.8%)\rEpoch: 74.0%  lr: 0.032973  loss: 0.013283  eta: 0h9m  tot: 0h5m18s  (34.8%)\rEpoch: 74.1%  lr: 0.032973  loss: 0.013283  eta: 0h9m  tot: 0h5m18s  (34.8%)\rEpoch: 74.2%  lr: 0.032963  loss: 0.013283  eta: 0h9m  tot: 0h5m18s  (34.8%)\rEpoch: 74.3%  lr: 0.032953  loss: 0.013275  eta: 0h9m  tot: 0h5m18s  (34.9%)\rEpoch: 74.4%  lr: 0.032933  loss: 0.013268  eta: 0h9m  tot: 0h5m19s  (34.9%)\rEpoch: 74.4%  lr: 0.032923  loss: 0.013262  eta: 0h9m  tot: 0h5m19s  (34.9%)\rEpoch: 74.5%  lr: 0.032923  loss: 0.013258  eta: 0h9m  tot: 0h5m19s  (34.9%)\rEpoch: 74.6%  lr: 0.032913  loss: 0.013261  eta: 0h9m  tot: 0h5m19s  (34.9%)\rEpoch: 74.7%  lr: 0.032913  loss: 0.013255  eta: 0h9m  tot: 0h5m19s  (34.9%)\rEpoch: 74.8%  lr: 0.032893  loss: 0.013252  eta: 0h9m  tot: 0h5m19s  (35.0%)\rEpoch: 74.9%  lr: 0.032893  loss: 0.013252  eta: 0h9m  tot: 0h5m19s  (35.0%)\rEpoch: 75.0%  lr: 0.032893  loss: 0.013251  eta: 0h9m  tot: 0h5m20s  (35.0%)\rEpoch: 75.1%  lr: 0.032893  loss: 0.013244  eta: 0h9m  tot: 0h5m20s  (35.0%)\rEpoch: 75.2%  lr: 0.032883  loss: 0.013238  eta: 0h9m  tot: 0h5m20s  (35.0%)\rEpoch: 75.3%  lr: 0.032843  loss: 0.013235  eta: 0h9m  tot: 0h5m20s  (35.1%)\rEpoch: 75.3%  lr: 0.032843  loss: 0.013239  eta: 0h9m  tot: 0h5m20s  (35.1%)\rEpoch: 75.4%  lr: 0.032843  loss: 0.013235  eta: 0h9m  tot: 0h5m20s  (35.1%)\rEpoch: 75.5%  lr: 0.032843  loss: 0.013230  eta: 0h9m  tot: 0h5m21s  (35.1%)\rEpoch: 75.6%  lr: 0.032823  loss: 0.013233  eta: 0h9m  tot: 0h5m21s  (35.1%)\rEpoch: 75.7%  lr: 0.032813  loss: 0.013224  eta: 0h9m  tot: 0h5m21s  (35.1%)\rEpoch: 75.8%  lr: 0.032813  loss: 0.013236  eta: 0h9m  tot: 0h5m21s  (35.2%)\rEpoch: 75.9%  lr: 0.032803  loss: 0.013237  eta: 0h9m  tot: 0h5m21s  (35.2%)\rEpoch: 76.0%  lr: 0.032793  loss: 0.013227  eta: 0h9m  tot: 0h5m21s  (35.2%)\rEpoch: 76.1%  lr: 0.032793  loss: 0.013227  eta: 0h9m  tot: 0h5m21s  (35.2%)\rEpoch: 76.2%  lr: 0.032773  loss: 0.013235  eta: 0h9m  tot: 0h5m22s  (35.2%)\rEpoch: 76.2%  lr: 0.032763  loss: 0.013255  eta: 0h9m  tot: 0h5m22s  (35.2%)\rEpoch: 76.3%  lr: 0.032753  loss: 0.013244  eta: 0h9m  tot: 0h5m22s  (35.3%)\rEpoch: 76.4%  lr: 0.032753  loss: 0.013243  eta: 0h9m  tot: 0h5m22s  (35.3%)\rEpoch: 76.5%  lr: 0.032753  loss: 0.013242  eta: 0h9m  tot: 0h5m22s  (35.3%)\rEpoch: 76.6%  lr: 0.032753  loss: 0.013237  eta: 0h9m  tot: 0h5m22s  (35.3%)\rEpoch: 76.7%  lr: 0.032743  loss: 0.013227  eta: 0h9m  tot: 0h5m23s  (35.3%)\rEpoch: 76.8%  lr: 0.032733  loss: 0.013221  eta: 0h9m  tot: 0h5m23s  (35.4%)\rEpoch: 76.9%  lr: 0.032733  loss: 0.013226  eta: 0h9m  tot: 0h5m23s  (35.4%)\rEpoch: 77.0%  lr: 0.032723  loss: 0.013218  eta: 0h9m  tot: 0h5m23s  (35.4%)\rEpoch: 77.1%  lr: 0.032723  loss: 0.013213  eta: 0h9m  tot: 0h5m23s  (35.4%)\rEpoch: 77.1%  lr: 0.032723  loss: 0.013220  eta: 0h9m  tot: 0h5m23s  (35.4%)\rEpoch: 77.2%  lr: 0.032703  loss: 0.013239  eta: 0h9m  tot: 0h5m24s  (35.4%)\rEpoch: 77.3%  lr: 0.032703  loss: 0.013238  eta: 0h9m  tot: 0h5m24s  (35.5%)\rEpoch: 77.4%  lr: 0.032683  loss: 0.013229  eta: 0h9m  tot: 0h5m24s  (35.5%)\rEpoch: 77.5%  lr: 0.032653  loss: 0.013231  eta: 0h9m  tot: 0h5m24s  (35.5%)\rEpoch: 77.6%  lr: 0.032653  loss: 0.013225  eta: 0h9m  tot: 0h5m24s  (35.5%)\rEpoch: 77.7%  lr: 0.032653  loss: 0.013226  eta: 0h9m  tot: 0h5m24s  (35.5%)\rEpoch: 77.8%  lr: 0.032613  loss: 0.013237  eta: 0h9m  tot: 0h5m25s  (35.6%)\rEpoch: 77.9%  lr: 0.032603  loss: 0.013251  eta: 0h9m  tot: 0h5m25s  (35.6%)\rEpoch: 78.0%  lr: 0.032563  loss: 0.013238  eta: 0h9m  tot: 0h5m25s  (35.6%)\rEpoch: 78.0%  lr: 0.032543  loss: 0.013238  eta: 0h9m  tot: 0h5m25s  (35.6%)\rEpoch: 78.1%  lr: 0.032533  loss: 0.013244  eta: 0h9m  tot: 0h5m25s  (35.6%)\rEpoch: 78.2%  lr: 0.032513  loss: 0.013252  eta: 0h9m  tot: 0h5m25s  (35.6%)\rEpoch: 78.3%  lr: 0.032503  loss: 0.013249  eta: 0h9m  tot: 0h5m26s  (35.7%)\rEpoch: 78.4%  lr: 0.032503  loss: 0.013258  eta: 0h9m  tot: 0h5m26s  (35.7%)\rEpoch: 78.5%  lr: 0.032493  loss: 0.013253  eta: 0h9m  tot: 0h5m26s  (35.7%)\rEpoch: 78.6%  lr: 0.032453  loss: 0.013247  eta: 0h9m  tot: 0h5m26s  (35.7%)\rEpoch: 78.7%  lr: 0.032453  loss: 0.013246  eta: 0h9m  tot: 0h5m26s  (35.7%)\rEpoch: 78.8%  lr: 0.032443  loss: 0.013253  eta: 0h9m  tot: 0h5m26s  (35.8%)\rEpoch: 78.9%  lr: 0.032443  loss: 0.013246  eta: 0h9m  tot: 0h5m27s  (35.8%)\rEpoch: 78.9%  lr: 0.032443  loss: 0.013243  eta: 0h9m  tot: 0h5m27s  (35.8%)\rEpoch: 79.0%  lr: 0.032433  loss: 0.013247  eta: 0h9m  tot: 0h5m27s  (35.8%)\rEpoch: 79.1%  lr: 0.032433  loss: 0.013258  eta: 0h9m  tot: 0h5m27s  (35.8%)\rEpoch: 79.2%  lr: 0.032423  loss: 0.013259  eta: 0h9m  tot: 0h5m27s  (35.8%)\rEpoch: 79.3%  lr: 0.032393  loss: 0.013258  eta: 0h9m  tot: 0h5m27s  (35.9%)\rEpoch: 79.4%  lr: 0.032382  loss: 0.013263  eta: 0h9m  tot: 0h5m27s  (35.9%)\rEpoch: 79.5%  lr: 0.032362  loss: 0.013265  eta: 0h9m  tot: 0h5m28s  (35.9%)\rEpoch: 79.6%  lr: 0.032352  loss: 0.013261  eta: 0h9m  tot: 0h5m28s  (35.9%)\rEpoch: 79.7%  lr: 0.032342  loss: 0.013264  eta: 0h9m  tot: 0h5m28s  (35.9%)\rEpoch: 79.8%  lr: 0.032322  loss: 0.013268  eta: 0h9m  tot: 0h5m28s  (36.0%)\rEpoch: 79.9%  lr: 0.032302  loss: 0.013271  eta: 0h9m  tot: 0h5m28s  (36.0%)\rEpoch: 79.9%  lr: 0.032302  loss: 0.013262  eta: 0h9m  tot: 0h5m28s  (36.0%)\rEpoch: 80.0%  lr: 0.032302  loss: 0.013263  eta: 0h9m  tot: 0h5m29s  (36.0%)\rEpoch: 80.1%  lr: 0.032282  loss: 0.013259  eta: 0h9m  tot: 0h5m29s  (36.0%)\rEpoch: 80.2%  lr: 0.032272  loss: 0.013255  eta: 0h9m  tot: 0h5m29s  (36.0%)\rEpoch: 80.3%  lr: 0.032222  loss: 0.013261  eta: 0h9m  tot: 0h5m29s  (36.1%)\rEpoch: 80.4%  lr: 0.032212  loss: 0.013271  eta: 0h9m  tot: 0h5m29s  (36.1%)\rEpoch: 80.5%  lr: 0.032202  loss: 0.013268  eta: 0h9m  tot: 0h5m29s  (36.1%)\rEpoch: 80.6%  lr: 0.032192  loss: 0.013269  eta: 0h9m  tot: 0h5m30s  (36.1%)\rEpoch: 80.7%  lr: 0.032172  loss: 0.013278  eta: 0h9m  tot: 0h5m30s  (36.1%)\rEpoch: 80.8%  lr: 0.032162  loss: 0.013289  eta: 0h9m  tot: 0h5m30s  (36.2%)\rEpoch: 80.8%  lr: 0.032132  loss: 0.013289  eta: 0h9m  tot: 0h5m30s  (36.2%)\rEpoch: 80.9%  lr: 0.032132  loss: 0.013286  eta: 0h9m  tot: 0h5m30s  (36.2%)\rEpoch: 81.0%  lr: 0.032112  loss: 0.013289  eta: 0h9m  tot: 0h5m30s  (36.2%)\rEpoch: 81.1%  lr: 0.032112  loss: 0.013290  eta: 0h9m  tot: 0h5m30s  (36.2%)\rEpoch: 81.2%  lr: 0.032092  loss: 0.013282  eta: 0h9m  tot: 0h5m31s  (36.2%)\rEpoch: 81.3%  lr: 0.032072  loss: 0.013298  eta: 0h9m  tot: 0h5m31s  (36.3%)\rEpoch: 81.4%  lr: 0.032072  loss: 0.013293  eta: 0h9m  tot: 0h5m31s  (36.3%)\rEpoch: 81.5%  lr: 0.032072  loss: 0.013289  eta: 0h9m  tot: 0h5m31s  (36.3%)\rEpoch: 81.6%  lr: 0.032042  loss: 0.013279  eta: 0h9m  tot: 0h5m31s  (36.3%)\rEpoch: 81.7%  lr: 0.032032  loss: 0.013268  eta: 0h9m  tot: 0h5m31s  (36.3%)\rEpoch: 81.7%  lr: 0.032022  loss: 0.013264  eta: 0h9m  tot: 0h5m32s  (36.3%)\rEpoch: 81.8%  lr: 0.032012  loss: 0.013261  eta: 0h9m  tot: 0h5m32s  (36.4%)\rEpoch: 81.9%  lr: 0.031972  loss: 0.013258  eta: 0h9m  tot: 0h5m32s  (36.4%)\rEpoch: 82.0%  lr: 0.031972  loss: 0.013257  eta: 0h9m  tot: 0h5m32s  (36.4%)\rEpoch: 82.1%  lr: 0.031962  loss: 0.013250  eta: 0h9m  tot: 0h5m32s  (36.4%)\rEpoch: 82.2%  lr: 0.031952  loss: 0.013239  eta: 0h9m  tot: 0h5m32s  (36.4%)\rEpoch: 82.3%  lr: 0.031942  loss: 0.013232  eta: 0h9m  tot: 0h5m32s  (36.5%)\rEpoch: 82.4%  lr: 0.031932  loss: 0.013239  eta: 0h9m  tot: 0h5m33s  (36.5%)\rEpoch: 82.5%  lr: 0.031932  loss: 0.013240  eta: 0h9m  tot: 0h5m33s  (36.5%)\rEpoch: 82.6%  lr: 0.031922  loss: 0.013234  eta: 0h9m  tot: 0h5m33s  (36.5%)\rEpoch: 82.6%  lr: 0.031912  loss: 0.013232  eta: 0h9m  tot: 0h5m33s  (36.5%)\rEpoch: 82.7%  lr: 0.031892  loss: 0.013227  eta: 0h9m  tot: 0h5m33s  (36.5%)\rEpoch: 82.8%  lr: 0.031872  loss: 0.013225  eta: 0h9m  tot: 0h5m33s  (36.6%)\rEpoch: 82.9%  lr: 0.031872  loss: 0.013231  eta: 0h9m  tot: 0h5m34s  (36.6%)\rEpoch: 83.0%  lr: 0.031872  loss: 0.013256  eta: 0h9m  tot: 0h5m34s  (36.6%)\rEpoch: 83.1%  lr: 0.031852  loss: 0.013265  eta: 0h9m  tot: 0h5m34s  (36.6%)\rEpoch: 83.2%  lr: 0.031832  loss: 0.013264  eta: 0h9m  tot: 0h5m34s  (36.6%)\rEpoch: 83.3%  lr: 0.031832  loss: 0.013266  eta: 0h9m  tot: 0h5m34s  (36.7%)\rEpoch: 83.4%  lr: 0.031832  loss: 0.013275  eta: 0h9m  tot: 0h5m34s  (36.7%)\rEpoch: 83.5%  lr: 0.031832  loss: 0.013275  eta: 0h9m  tot: 0h5m35s  (36.7%)\rEpoch: 83.5%  lr: 0.031812  loss: 0.013298  eta: 0h9m  tot: 0h5m35s  (36.7%)\rEpoch: 83.6%  lr: 0.031802  loss: 0.013305  eta: 0h9m  tot: 0h5m35s  (36.7%)\rEpoch: 83.7%  lr: 0.031792  loss: 0.013302  eta: 0h9m  tot: 0h5m35s  (36.7%)\rEpoch: 83.8%  lr: 0.031792  loss: 0.013304  eta: 0h9m  tot: 0h5m35s  (36.8%)\rEpoch: 83.9%  lr: 0.031772  loss: 0.013294  eta: 0h9m  tot: 0h5m35s  (36.8%)\rEpoch: 84.0%  lr: 0.031772  loss: 0.013308  eta: 0h9m  tot: 0h5m35s  (36.8%)\rEpoch: 84.1%  lr: 0.031772  loss: 0.013303  eta: 0h9m  tot: 0h5m36s  (36.8%)\rEpoch: 84.2%  lr: 0.031732  loss: 0.013311  eta: 0h9m  tot: 0h5m36s  (36.8%)\rEpoch: 84.3%  lr: 0.031722  loss: 0.013302  eta: 0h9m  tot: 0h5m36s  (36.9%)\rEpoch: 84.4%  lr: 0.031722  loss: 0.013301  eta: 0h9m  tot: 0h5m36s  (36.9%)\rEpoch: 84.4%  lr: 0.031722  loss: 0.013292  eta: 0h9m  tot: 0h5m36s  (36.9%)\rEpoch: 84.5%  lr: 0.031702  loss: 0.013287  eta: 0h9m  tot: 0h5m36s  (36.9%)\rEpoch: 84.6%  lr: 0.031682  loss: 0.013294  eta: 0h9m  tot: 0h5m37s  (36.9%)\rEpoch: 84.7%  lr: 0.031682  loss: 0.013295  eta: 0h9m  tot: 0h5m37s  (36.9%)\rEpoch: 84.8%  lr: 0.031682  loss: 0.013292  eta: 0h9m  tot: 0h5m37s  (37.0%)\rEpoch: 84.9%  lr: 0.031662  loss: 0.013305  eta: 0h9m  tot: 0h5m37s  (37.0%)\rEpoch: 85.0%  lr: 0.031662  loss: 0.013301  eta: 0h9m  tot: 0h5m37s  (37.0%)\rEpoch: 85.1%  lr: 0.031632  loss: 0.013297  eta: 0h9m  tot: 0h5m37s  (37.0%)\rEpoch: 85.2%  lr: 0.031602  loss: 0.013306  eta: 0h9m  tot: 0h5m37s  (37.0%)\rEpoch: 85.3%  lr: 0.031592  loss: 0.013295  eta: 0h9m  tot: 0h5m38s  (37.1%)\rEpoch: 85.3%  lr: 0.031582  loss: 0.013288  eta: 0h9m  tot: 0h5m38s  (37.1%)\rEpoch: 85.4%  lr: 0.031562  loss: 0.013283  eta: 0h9m  tot: 0h5m38s  (37.1%)\rEpoch: 85.5%  lr: 0.031562  loss: 0.013279  eta: 0h9m  tot: 0h5m38s  (37.1%)\rEpoch: 85.6%  lr: 0.031552  loss: 0.013272  eta: 0h9m  tot: 0h5m38s  (37.1%)\rEpoch: 85.7%  lr: 0.031542  loss: 0.013269  eta: 0h9m  tot: 0h5m38s  (37.1%)\rEpoch: 85.8%  lr: 0.031532  loss: 0.013260  eta: 0h9m  tot: 0h5m39s  (37.2%)\rEpoch: 85.9%  lr: 0.031512  loss: 0.013261  eta: 0h9m  tot: 0h5m39s  (37.2%)\rEpoch: 86.0%  lr: 0.031482  loss: 0.013263  eta: 0h9m  tot: 0h5m39s  (37.2%)\rEpoch: 86.1%  lr: 0.031462  loss: 0.013259  eta: 0h9m  tot: 0h5m39s  (37.2%)\rEpoch: 86.2%  lr: 0.031452  loss: 0.013262  eta: 0h9m  tot: 0h5m39s  (37.2%)\rEpoch: 86.2%  lr: 0.031452  loss: 0.013272  eta: 0h9m  tot: 0h5m39s  (37.2%)\rEpoch: 86.3%  lr: 0.031442  loss: 0.013278  eta: 0h9m  tot: 0h5m40s  (37.3%)\rEpoch: 86.4%  lr: 0.031442  loss: 0.013283  eta: 0h9m  tot: 0h5m40s  (37.3%)\rEpoch: 86.5%  lr: 0.031402  loss: 0.013289  eta: 0h9m  tot: 0h5m40s  (37.3%)\rEpoch: 86.6%  lr: 0.031402  loss: 0.013288  eta: 0h9m  tot: 0h5m40s  (37.3%)\rEpoch: 86.7%  lr: 0.031402  loss: 0.013291  eta: 0h9m  tot: 0h5m40s  (37.3%)\rEpoch: 86.8%  lr: 0.031372  loss: 0.013285  eta: 0h9m  tot: 0h5m40s  (37.4%)\rEpoch: 86.9%  lr: 0.031372  loss: 0.013295  eta: 0h9m  tot: 0h5m40s  (37.4%)\rEpoch: 87.0%  lr: 0.031351  loss: 0.013296  eta: 0h9m  tot: 0h5m41s  (37.4%)\rEpoch: 87.1%  lr: 0.031351  loss: 0.013293  eta: 0h9m  tot: 0h5m41s  (37.4%)\rEpoch: 87.1%  lr: 0.031331  loss: 0.013290  eta: 0h9m  tot: 0h5m41s  (37.4%)\rEpoch: 87.2%  lr: 0.031321  loss: 0.013293  eta: 0h9m  tot: 0h5m41s  (37.4%)\rEpoch: 87.3%  lr: 0.031321  loss: 0.013287  eta: 0h9m  tot: 0h5m41s  (37.5%)\rEpoch: 87.4%  lr: 0.031321  loss: 0.013284  eta: 0h9m  tot: 0h5m41s  (37.5%)\rEpoch: 87.5%  lr: 0.031311  loss: 0.013281  eta: 0h9m  tot: 0h5m42s  (37.5%)\rEpoch: 87.6%  lr: 0.031301  loss: 0.013277  eta: 0h9m  tot: 0h5m42s  (37.5%)\rEpoch: 87.7%  lr: 0.031271  loss: 0.013270  eta: 0h9m  tot: 0h5m42s  (37.5%)\rEpoch: 87.8%  lr: 0.031261  loss: 0.013283  eta: 0h9m  tot: 0h5m42s  (37.6%)\rEpoch: 87.9%  lr: 0.031251  loss: 0.013289  eta: 0h9m  tot: 0h5m42s  (37.6%)\rEpoch: 88.0%  lr: 0.031241  loss: 0.013291  eta: 0h9m  tot: 0h5m42s  (37.6%)\rEpoch: 88.0%  lr: 0.031241  loss: 0.013288  eta: 0h9m  tot: 0h5m43s  (37.6%)\rEpoch: 88.1%  lr: 0.031241  loss: 0.013281  eta: 0h9m  tot: 0h5m43s  (37.6%)\rEpoch: 88.2%  lr: 0.031241  loss: 0.013280  eta: 0h9m  tot: 0h5m43s  (37.6%)\rEpoch: 88.3%  lr: 0.031241  loss: 0.013280  eta: 0h9m  tot: 0h5m43s  (37.7%)\rEpoch: 88.4%  lr: 0.031241  loss: 0.013275  eta: 0h9m  tot: 0h5m43s  (37.7%)\rEpoch: 88.5%  lr: 0.031221  loss: 0.013277  eta: 0h9m  tot: 0h5m43s  (37.7%)\rEpoch: 88.6%  lr: 0.031211  loss: 0.013284  eta: 0h9m  tot: 0h5m43s  (37.7%)\rEpoch: 88.7%  lr: 0.031201  loss: 0.013280  eta: 0h9m  tot: 0h5m44s  (37.7%)\rEpoch: 88.8%  lr: 0.031181  loss: 0.013283  eta: 0h9m  tot: 0h5m44s  (37.8%)\rEpoch: 88.9%  lr: 0.031181  loss: 0.013287  eta: 0h9m  tot: 0h5m44s  (37.8%)\rEpoch: 88.9%  lr: 0.031171  loss: 0.013280  eta: 0h9m  tot: 0h5m44s  (37.8%)\rEpoch: 89.0%  lr: 0.031151  loss: 0.013282  eta: 0h9m  tot: 0h5m44s  (37.8%)\rEpoch: 89.1%  lr: 0.031141  loss: 0.013275  eta: 0h9m  tot: 0h5m44s  (37.8%)\rEpoch: 89.2%  lr: 0.031131  loss: 0.013272  eta: 0h9m  tot: 0h5m45s  (37.8%)\rEpoch: 89.3%  lr: 0.031131  loss: 0.013275  eta: 0h9m  tot: 0h5m45s  (37.9%)\rEpoch: 89.4%  lr: 0.031131  loss: 0.013276  eta: 0h9m  tot: 0h5m45s  (37.9%)\rEpoch: 89.5%  lr: 0.031121  loss: 0.013273  eta: 0h9m  tot: 0h5m45s  (37.9%)\rEpoch: 89.6%  lr: 0.031111  loss: 0.013277  eta: 0h9m  tot: 0h5m45s  (37.9%)\rEpoch: 89.7%  lr: 0.031091  loss: 0.013274  eta: 0h9m  tot: 0h5m45s  (37.9%)\rEpoch: 89.8%  lr: 0.031091  loss: 0.013275  eta: 0h9m  tot: 0h5m45s  (38.0%)\rEpoch: 89.8%  lr: 0.031081  loss: 0.013281  eta: 0h9m  tot: 0h5m46s  (38.0%)\rEpoch: 89.9%  lr: 0.031061  loss: 0.013296  eta: 0h9m  tot: 0h5m46s  (38.0%)\rEpoch: 90.0%  lr: 0.031051  loss: 0.013291  eta: 0h9m  tot: 0h5m46s  (38.0%)\rEpoch: 90.1%  lr: 0.031041  loss: 0.013294  eta: 0h9m  tot: 0h5m46s  (38.0%)\rEpoch: 90.2%  lr: 0.031031  loss: 0.013291  eta: 0h9m  tot: 0h5m46s  (38.0%)\rEpoch: 90.3%  lr: 0.031021  loss: 0.013300  eta: 0h9m  tot: 0h5m46s  (38.1%)\rEpoch: 90.4%  lr: 0.031011  loss: 0.013294  eta: 0h8m  tot: 0h5m47s  (38.1%)\rEpoch: 90.5%  lr: 0.031011  loss: 0.013301  eta: 0h8m  tot: 0h5m47s  (38.1%)\rEpoch: 90.6%  lr: 0.031001  loss: 0.013298  eta: 0h8m  tot: 0h5m47s  (38.1%)\rEpoch: 90.7%  lr: 0.031001  loss: 0.013291  eta: 0h8m  tot: 0h5m47s  (38.1%)\rEpoch: 90.7%  lr: 0.030991  loss: 0.013283  eta: 0h8m  tot: 0h5m47s  (38.1%)\rEpoch: 90.8%  lr: 0.030991  loss: 0.013284  eta: 0h8m  tot: 0h5m47s  (38.2%)\rEpoch: 90.9%  lr: 0.030991  loss: 0.013285  eta: 0h8m  tot: 0h5m48s  (38.2%)\rEpoch: 91.0%  lr: 0.030991  loss: 0.013281  eta: 0h8m  tot: 0h5m48s  (38.2%)\rEpoch: 91.1%  lr: 0.030971  loss: 0.013276  eta: 0h8m  tot: 0h5m48s  (38.2%)\rEpoch: 91.2%  lr: 0.030961  loss: 0.013269  eta: 0h8m  tot: 0h5m48s  (38.2%)\rEpoch: 91.3%  lr: 0.030951  loss: 0.013269  eta: 0h8m  tot: 0h5m48s  (38.3%)\rEpoch: 91.4%  lr: 0.030941  loss: 0.013271  eta: 0h8m  tot: 0h5m48s  (38.3%)\rEpoch: 91.5%  lr: 0.030941  loss: 0.013263  eta: 0h8m  tot: 0h5m48s  (38.3%)\rEpoch: 91.6%  lr: 0.030941  loss: 0.013272  eta: 0h8m  tot: 0h5m49s  (38.3%)\rEpoch: 91.6%  lr: 0.030931  loss: 0.013277  eta: 0h8m  tot: 0h5m49s  (38.3%)\rEpoch: 91.7%  lr: 0.030921  loss: 0.013272  eta: 0h8m  tot: 0h5m49s  (38.3%)\rEpoch: 91.8%  lr: 0.030911  loss: 0.013269  eta: 0h8m  tot: 0h5m49s  (38.4%)\rEpoch: 91.9%  lr: 0.030901  loss: 0.013265  eta: 0h8m  tot: 0h5m49s  (38.4%)\rEpoch: 92.0%  lr: 0.030901  loss: 0.013272  eta: 0h8m  tot: 0h5m49s  (38.4%)\rEpoch: 92.1%  lr: 0.030891  loss: 0.013263  eta: 0h8m  tot: 0h5m50s  (38.4%)\rEpoch: 92.2%  lr: 0.030881  loss: 0.013264  eta: 0h8m  tot: 0h5m50s  (38.4%)\rEpoch: 92.3%  lr: 0.030831  loss: 0.013266  eta: 0h8m  tot: 0h5m50s  (38.5%)\rEpoch: 92.4%  lr: 0.030821  loss: 0.013263  eta: 0h8m  tot: 0h5m50s  (38.5%)\rEpoch: 92.5%  lr: 0.030821  loss: 0.013261  eta: 0h8m  tot: 0h5m50s  (38.5%)\rEpoch: 92.5%  lr: 0.030821  loss: 0.013262  eta: 0h8m  tot: 0h5m50s  (38.5%)\rEpoch: 92.6%  lr: 0.030811  loss: 0.013267  eta: 0h8m  tot: 0h5m50s  (38.5%)\rEpoch: 92.7%  lr: 0.030811  loss: 0.013259  eta: 0h8m  tot: 0h5m51s  (38.5%)\rEpoch: 92.8%  lr: 0.030791  loss: 0.013265  eta: 0h8m  tot: 0h5m51s  (38.6%)\rEpoch: 92.9%  lr: 0.030781  loss: 0.013269  eta: 0h8m  tot: 0h5m51s  (38.6%)\rEpoch: 93.0%  lr: 0.030771  loss: 0.013267  eta: 0h8m  tot: 0h5m51s  (38.6%)\rEpoch: 93.1%  lr: 0.030771  loss: 0.013275  eta: 0h8m  tot: 0h5m51s  (38.6%)\rEpoch: 93.2%  lr: 0.030751  loss: 0.013279  eta: 0h8m  tot: 0h5m51s  (38.6%)\rEpoch: 93.3%  lr: 0.030731  loss: 0.013281  eta: 0h8m  tot: 0h5m52s  (38.7%)\rEpoch: 93.4%  lr: 0.030721  loss: 0.013275  eta: 0h8m  tot: 0h5m52s  (38.7%)\rEpoch: 93.4%  lr: 0.030721  loss: 0.013281  eta: 0h8m  tot: 0h5m52s  (38.7%)\rEpoch: 93.5%  lr: 0.030721  loss: 0.013274  eta: 0h8m  tot: 0h5m52s  (38.7%)\rEpoch: 93.6%  lr: 0.030721  loss: 0.013267  eta: 0h8m  tot: 0h5m52s  (38.7%)\rEpoch: 93.7%  lr: 0.030711  loss: 0.013265  eta: 0h8m  tot: 0h5m52s  (38.7%)\rEpoch: 93.8%  lr: 0.030691  loss: 0.013276  eta: 0h8m  tot: 0h5m53s  (38.8%)\rEpoch: 93.9%  lr: 0.030691  loss: 0.013270  eta: 0h8m  tot: 0h5m53s  (38.8%)\rEpoch: 94.0%  lr: 0.030671  loss: 0.013263  eta: 0h8m  tot: 0h5m53s  (38.8%)\rEpoch: 94.1%  lr: 0.030671  loss: 0.013257  eta: 0h8m  tot: 0h5m53s  (38.8%)\rEpoch: 94.2%  lr: 0.030661  loss: 0.013265  eta: 0h8m  tot: 0h5m53s  (38.8%)\rEpoch: 94.3%  lr: 0.030641  loss: 0.013268  eta: 0h8m  tot: 0h5m53s  (38.9%)\rEpoch: 94.3%  lr: 0.030641  loss: 0.013270  eta: 0h8m  tot: 0h5m53s  (38.9%)\rEpoch: 94.4%  lr: 0.030611  loss: 0.013265  eta: 0h8m  tot: 0h5m54s  (38.9%)\rEpoch: 94.5%  lr: 0.030601  loss: 0.013270  eta: 0h8m  tot: 0h5m54s  (38.9%)\rEpoch: 94.6%  lr: 0.030601  loss: 0.013264  eta: 0h8m  tot: 0h5m54s  (38.9%)\rEpoch: 94.7%  lr: 0.030581  loss: 0.013276  eta: 0h8m  tot: 0h5m54s  (38.9%)\rEpoch: 94.8%  lr: 0.030551  loss: 0.013270  eta: 0h8m  tot: 0h5m54s  (39.0%)\rEpoch: 94.9%  lr: 0.030551  loss: 0.013261  eta: 0h8m  tot: 0h5m54s  (39.0%)\rEpoch: 95.0%  lr: 0.030531  loss: 0.013260  eta: 0h8m  tot: 0h5m55s  (39.0%)\rEpoch: 95.1%  lr: 0.030521  loss: 0.013255  eta: 0h8m  tot: 0h5m55s  (39.0%)\rEpoch: 95.2%  lr: 0.030491  loss: 0.013262  eta: 0h8m  tot: 0h5m55s  (39.0%)\rEpoch: 95.2%  lr: 0.030491  loss: 0.013269  eta: 0h8m  tot: 0h5m55s  (39.0%)\rEpoch: 95.3%  lr: 0.030481  loss: 0.013268  eta: 0h8m  tot: 0h5m55s  (39.1%)\rEpoch: 95.4%  lr: 0.030481  loss: 0.013270  eta: 0h8m  tot: 0h5m55s  (39.1%)\rEpoch: 95.5%  lr: 0.030471  loss: 0.013263  eta: 0h8m  tot: 0h5m55s  (39.1%)\rEpoch: 95.6%  lr: 0.030461  loss: 0.013257  eta: 0h8m  tot: 0h5m56s  (39.1%)\rEpoch: 95.7%  lr: 0.030451  loss: 0.013251  eta: 0h8m  tot: 0h5m56s  (39.1%)\rEpoch: 95.8%  lr: 0.030451  loss: 0.013244  eta: 0h8m  tot: 0h5m56s  (39.2%)\rEpoch: 95.9%  lr: 0.030441  loss: 0.013240  eta: 0h8m  tot: 0h5m56s  (39.2%)\rEpoch: 96.0%  lr: 0.030441  loss: 0.013240  eta: 0h8m  tot: 0h5m56s  (39.2%)\rEpoch: 96.1%  lr: 0.030441  loss: 0.013239  eta: 0h8m  tot: 0h5m56s  (39.2%)\rEpoch: 96.1%  lr: 0.030431  loss: 0.013234  eta: 0h8m  tot: 0h5m57s  (39.2%)\rEpoch: 96.2%  lr: 0.030421  loss: 0.013233  eta: 0h8m  tot: 0h5m57s  (39.2%)\rEpoch: 96.3%  lr: 0.030401  loss: 0.013248  eta: 0h8m  tot: 0h5m57s  (39.3%)\rEpoch: 96.4%  lr: 0.030401  loss: 0.013255  eta: 0h8m  tot: 0h5m57s  (39.3%)\rEpoch: 96.5%  lr: 0.030401  loss: 0.013249  eta: 0h8m  tot: 0h5m57s  (39.3%)\rEpoch: 96.6%  lr: 0.030391  loss: 0.013244  eta: 0h8m  tot: 0h5m57s  (39.3%)\rEpoch: 96.7%  lr: 0.030371  loss: 0.013240  eta: 0h8m  tot: 0h5m57s  (39.3%)\rEpoch: 96.8%  lr: 0.030371  loss: 0.013237  eta: 0h8m  tot: 0h5m58s  (39.4%)\rEpoch: 96.9%  lr: 0.030371  loss: 0.013231  eta: 0h8m  tot: 0h5m58s  (39.4%)\rEpoch: 97.0%  lr: 0.030340  loss: 0.013234  eta: 0h8m  tot: 0h5m58s  (39.4%)\rEpoch: 97.0%  lr: 0.030330  loss: 0.013233  eta: 0h8m  tot: 0h5m58s  (39.4%)\rEpoch: 97.1%  lr: 0.030330  loss: 0.013238  eta: 0h8m  tot: 0h5m58s  (39.4%)\rEpoch: 97.2%  lr: 0.030320  loss: 0.013241  eta: 0h8m  tot: 0h5m58s  (39.4%)\rEpoch: 97.3%  lr: 0.030310  loss: 0.013234  eta: 0h8m  tot: 0h5m59s  (39.5%)\rEpoch: 97.4%  lr: 0.030290  loss: 0.013237  eta: 0h8m  tot: 0h5m59s  (39.5%)\rEpoch: 97.5%  lr: 0.030290  loss: 0.013236  eta: 0h8m  tot: 0h5m59s  (39.5%)\rEpoch: 97.6%  lr: 0.030280  loss: 0.013231  eta: 0h8m  tot: 0h5m59s  (39.5%)\rEpoch: 97.7%  lr: 0.030260  loss: 0.013230  eta: 0h8m  tot: 0h5m59s  (39.5%)\rEpoch: 97.8%  lr: 0.030220  loss: 0.013237  eta: 0h8m  tot: 0h5m59s  (39.6%)\rEpoch: 97.9%  lr: 0.030220  loss: 0.013235  eta: 0h8m  tot: 0h6m0s  (39.6%)\rEpoch: 97.9%  lr: 0.030210  loss: 0.013227  eta: 0h8m  tot: 0h6m0s  (39.6%)\rEpoch: 98.0%  lr: 0.030200  loss: 0.013226  eta: 0h8m  tot: 0h6m0s  (39.6%)\rEpoch: 98.1%  lr: 0.030180  loss: 0.013219  eta: 0h8m  tot: 0h6m0s  (39.6%)\rEpoch: 98.2%  lr: 0.030170  loss: 0.013214  eta: 0h8m  tot: 0h6m0s  (39.6%)\rEpoch: 98.3%  lr: 0.030160  loss: 0.013210  eta: 0h8m  tot: 0h6m0s  (39.7%)\rEpoch: 98.4%  lr: 0.030160  loss: 0.013204  eta: 0h8m  tot: 0h6m0s  (39.7%)\rEpoch: 98.5%  lr: 0.030140  loss: 0.013207  eta: 0h8m  tot: 0h6m1s  (39.7%)\rEpoch: 98.6%  lr: 0.030130  loss: 0.013201  eta: 0h8m  tot: 0h6m1s  (39.7%)\rEpoch: 98.7%  lr: 0.030120  loss: 0.013204  eta: 0h8m  tot: 0h6m1s  (39.7%)\rEpoch: 98.8%  lr: 0.030110  loss: 0.013214  eta: 0h8m  tot: 0h6m1s  (39.8%)\rEpoch: 98.8%  lr: 0.030090  loss: 0.013215  eta: 0h8m  tot: 0h6m1s  (39.8%)\rEpoch: 98.9%  lr: 0.030080  loss: 0.013215  eta: 0h8m  tot: 0h6m1s  (39.8%)\rEpoch: 99.0%  lr: 0.030080  loss: 0.013218  eta: 0h8m  tot: 0h6m2s  (39.8%)\rEpoch: 99.1%  lr: 0.030060  loss: 0.013218  eta: 0h8m  tot: 0h6m2s  (39.8%)\rEpoch: 99.2%  lr: 0.030040  loss: 0.013218  eta: 0h8m  tot: 0h6m2s  (39.8%)\rEpoch: 99.3%  lr: 0.030030  loss: 0.013214  eta: 0h8m  tot: 0h6m2s  (39.9%)\rEpoch: 99.4%  lr: 0.030030  loss: 0.013220  eta: 0h8m  tot: 0h6m2s  (39.9%)\rEpoch: 99.5%  lr: 0.030020  loss: 0.013222  eta: 0h8m  tot: 0h6m2s  (39.9%)\rEpoch: 99.6%  lr: 0.030020  loss: 0.013217  eta: 0h8m  tot: 0h6m2s  (39.9%)\rEpoch: 99.7%  lr: 0.030020  loss: 0.013215  eta: 0h8m  tot: 0h6m2s  (39.9%)\rEpoch: 99.7%  lr: 0.030010  loss: 0.013222  eta: 0h8m  tot: 0h6m3s  (39.9%)\rEpoch: 99.8%  lr: 0.030000  loss: 0.013218  eta: 0h8m  tot: 0h6m3s  (40.0%)\rEpoch: 99.9%  lr: 0.030000  loss: 0.013213  eta: 0h8m  tot: 0h6m3s  (40.0%)\rEpoch: 100.0%  lr: 0.030000  loss: 0.013208  eta: 0h8m  tot: 0h6m3s  (40.0%)\rEpoch: 0.1%  lr: 0.030000  loss: 0.014416  eta: 0h2m  tot: 0h6m3s  (40.0%)\rEpoch: 0.2%  lr: 0.030000  loss: 0.009584  eta: 0h1m  tot: 0h6m3s  (40.0%)\rEpoch: 0.3%  lr: 0.030000  loss: 0.009125  eta: 0h2m  tot: 0h6m3s  (40.1%)\rEpoch: 0.4%  lr: 0.029980  loss: 0.008572  eta: 0h3m  tot: 0h6m3s  (40.1%)\rEpoch: 0.4%  lr: 0.029980  loss: 0.007387  eta: 0h4m  tot: 0h6m3s  (40.1%)\rEpoch: 0.5%  lr: 0.029980  loss: 0.006702  eta: 0h5m  tot: 0h6m3s  (40.1%)\rEpoch: 0.6%  lr: 0.029960  loss: 0.007207  eta: 0h5m  tot: 0h6m4s  (40.1%)\rEpoch: 0.7%  lr: 0.029950  loss: 0.007069  eta: 0h6m  tot: 0h6m4s  (40.1%)\rEpoch: 0.8%  lr: 0.029950  loss: 0.008335  eta: 0h6m  tot: 0h6m4s  (40.2%)\rEpoch: 0.9%  lr: 0.029930  loss: 0.008889  eta: 0h6m  tot: 0h6m4s  (40.2%)\rEpoch: 1.0%  lr: 0.029920  loss: 0.008962  eta: 0h6m  tot: 0h6m4s  (40.2%)\rEpoch: 1.1%  lr: 0.029920  loss: 0.009312  eta: 0h6m  tot: 0h6m4s  (40.2%)\rEpoch: 1.2%  lr: 0.029900  loss: 0.009662  eta: 0h7m  tot: 0h6m4s  (40.2%)\rEpoch: 1.3%  lr: 0.029900  loss: 0.009702  eta: 0h7m  tot: 0h6m5s  (40.3%)\rEpoch: 1.3%  lr: 0.029890  loss: 0.009789  eta: 0h7m  tot: 0h6m5s  (40.3%)\rEpoch: 1.4%  lr: 0.029890  loss: 0.010065  eta: 0h7m  tot: 0h6m5s  (40.3%)\rEpoch: 1.5%  lr: 0.029880  loss: 0.010554  eta: 0h7m  tot: 0h6m5s  (40.3%)\rEpoch: 1.6%  lr: 0.029880  loss: 0.012154  eta: 0h7m  tot: 0h6m5s  (40.3%)\rEpoch: 1.7%  lr: 0.029870  loss: 0.011712  eta: 0h7m  tot: 0h6m5s  (40.3%)\rEpoch: 1.8%  lr: 0.029840  loss: 0.011809  eta: 0h7m  tot: 0h6m6s  (40.4%)\rEpoch: 1.9%  lr: 0.029830  loss: 0.011419  eta: 0h7m  tot: 0h6m6s  (40.4%)\rEpoch: 2.0%  lr: 0.029830  loss: 0.011141  eta: 0h7m  tot: 0h6m6s  (40.4%)\rEpoch: 2.1%  lr: 0.029820  loss: 0.010986  eta: 0h7m  tot: 0h6m6s  (40.4%)\rEpoch: 2.2%  lr: 0.029810  loss: 0.011267  eta: 0h7m  tot: 0h6m6s  (40.4%)\rEpoch: 2.2%  lr: 0.029790  loss: 0.010931  eta: 0h7m  tot: 0h6m6s  (40.4%)\rEpoch: 2.3%  lr: 0.029790  loss: 0.011038  eta: 0h7m  tot: 0h6m6s  (40.5%)\rEpoch: 2.4%  lr: 0.029780  loss: 0.011102  eta: 0h7m  tot: 0h6m7s  (40.5%)\rEpoch: 2.5%  lr: 0.029770  loss: 0.011283  eta: 0h7m  tot: 0h6m7s  (40.5%)\rEpoch: 2.6%  lr: 0.029770  loss: 0.011080  eta: 0h7m  tot: 0h6m7s  (40.5%)\rEpoch: 2.7%  lr: 0.029750  loss: 0.011007  eta: 0h7m  tot: 0h6m7s  (40.5%)\rEpoch: 2.8%  lr: 0.029730  loss: 0.011064  eta: 0h7m  tot: 0h6m7s  (40.6%)\rEpoch: 2.9%  lr: 0.029730  loss: 0.010907  eta: 0h7m  tot: 0h6m7s  (40.6%)\rEpoch: 3.0%  lr: 0.029720  loss: 0.010985  eta: 0h7m  tot: 0h6m8s  (40.6%)\rEpoch: 3.1%  lr: 0.029720  loss: 0.010925  eta: 0h7m  tot: 0h6m8s  (40.6%)\rEpoch: 3.1%  lr: 0.029700  loss: 0.010639  eta: 0h7m  tot: 0h6m8s  (40.6%)\rEpoch: 3.2%  lr: 0.029690  loss: 0.010854  eta: 0h7m  tot: 0h6m8s  (40.6%)\rEpoch: 3.3%  lr: 0.029680  loss: 0.010850  eta: 0h7m  tot: 0h6m8s  (40.7%)\rEpoch: 3.4%  lr: 0.029670  loss: 0.010672  eta: 0h7m  tot: 0h6m8s  (40.7%)\rEpoch: 3.5%  lr: 0.029670  loss: 0.010758  eta: 0h7m  tot: 0h6m8s  (40.7%)\rEpoch: 3.6%  lr: 0.029670  loss: 0.010659  eta: 0h7m  tot: 0h6m9s  (40.7%)\rEpoch: 3.7%  lr: 0.029650  loss: 0.010515  eta: 0h7m  tot: 0h6m9s  (40.7%)\rEpoch: 3.8%  lr: 0.029640  loss: 0.010848  eta: 0h7m  tot: 0h6m9s  (40.8%)\rEpoch: 3.9%  lr: 0.029630  loss: 0.010869  eta: 0h7m  tot: 0h6m9s  (40.8%)\rEpoch: 4.0%  lr: 0.029620  loss: 0.010759  eta: 0h7m  tot: 0h6m9s  (40.8%)\rEpoch: 4.1%  lr: 0.029600  loss: 0.010869  eta: 0h7m  tot: 0h6m9s  (40.8%)\rEpoch: 4.1%  lr: 0.029590  loss: 0.011068  eta: 0h8m  tot: 0h6m10s  (40.8%)\rEpoch: 4.2%  lr: 0.029580  loss: 0.011208  eta: 0h8m  tot: 0h6m10s  (40.8%)\rEpoch: 4.3%  lr: 0.029580  loss: 0.011092  eta: 0h8m  tot: 0h6m10s  (40.9%)\rEpoch: 4.4%  lr: 0.029580  loss: 0.011101  eta: 0h8m  tot: 0h6m10s  (40.9%)\rEpoch: 4.5%  lr: 0.029550  loss: 0.010967  eta: 0h8m  tot: 0h6m10s  (40.9%)\rEpoch: 4.6%  lr: 0.029530  loss: 0.010900  eta: 0h8m  tot: 0h6m10s  (40.9%)\rEpoch: 4.7%  lr: 0.029510  loss: 0.010870  eta: 0h8m  tot: 0h6m10s  (40.9%)\rEpoch: 4.8%  lr: 0.029500  loss: 0.010726  eta: 0h8m  tot: 0h6m11s  (41.0%)\rEpoch: 4.9%  lr: 0.029479  loss: 0.010862  eta: 0h8m  tot: 0h6m11s  (41.0%)\rEpoch: 5.0%  lr: 0.029479  loss: 0.010830  eta: 0h8m  tot: 0h6m11s  (41.0%)\rEpoch: 5.0%  lr: 0.029469  loss: 0.010923  eta: 0h8m  tot: 0h6m11s  (41.0%)\rEpoch: 5.1%  lr: 0.029469  loss: 0.010922  eta: 0h8m  tot: 0h6m11s  (41.0%)\rEpoch: 5.2%  lr: 0.029449  loss: 0.010881  eta: 0h8m  tot: 0h6m11s  (41.0%)\rEpoch: 5.3%  lr: 0.029419  loss: 0.010893  eta: 0h8m  tot: 0h6m12s  (41.1%)\rEpoch: 5.4%  lr: 0.029419  loss: 0.010845  eta: 0h8m  tot: 0h6m12s  (41.1%)\rEpoch: 5.5%  lr: 0.029409  loss: 0.010802  eta: 0h8m  tot: 0h6m12s  (41.1%)\rEpoch: 5.6%  lr: 0.029409  loss: 0.010886  eta: 0h8m  tot: 0h6m12s  (41.1%)\rEpoch: 5.7%  lr: 0.029399  loss: 0.010888  eta: 0h8m  tot: 0h6m12s  (41.1%)\rEpoch: 5.8%  lr: 0.029389  loss: 0.010945  eta: 0h8m  tot: 0h6m12s  (41.2%)\rEpoch: 5.9%  lr: 0.029379  loss: 0.010825  eta: 0h8m  tot: 0h6m12s  (41.2%)\rEpoch: 5.9%  lr: 0.029379  loss: 0.010747  eta: 0h8m  tot: 0h6m13s  (41.2%)\rEpoch: 6.0%  lr: 0.029369  loss: 0.010607  eta: 0h8m  tot: 0h6m13s  (41.2%)\rEpoch: 6.1%  lr: 0.029369  loss: 0.010520  eta: 0h8m  tot: 0h6m13s  (41.2%)\rEpoch: 6.2%  lr: 0.029369  loss: 0.010609  eta: 0h8m  tot: 0h6m13s  (41.2%)\rEpoch: 6.3%  lr: 0.029369  loss: 0.010526  eta: 0h8m  tot: 0h6m13s  (41.3%)\rEpoch: 6.4%  lr: 0.029369  loss: 0.010540  eta: 0h8m  tot: 0h6m13s  (41.3%)\rEpoch: 6.5%  lr: 0.029369  loss: 0.010469  eta: 0h8m  tot: 0h6m14s  (41.3%)\rEpoch: 6.6%  lr: 0.029359  loss: 0.010530  eta: 0h8m  tot: 0h6m14s  (41.3%)\rEpoch: 6.7%  lr: 0.029349  loss: 0.010559  eta: 0h8m  tot: 0h6m14s  (41.3%)\rEpoch: 6.8%  lr: 0.029349  loss: 0.010517  eta: 0h8m  tot: 0h6m14s  (41.4%)\rEpoch: 6.8%  lr: 0.029349  loss: 0.010544  eta: 0h8m  tot: 0h6m14s  (41.4%)\rEpoch: 6.9%  lr: 0.029319  loss: 0.010458  eta: 0h8m  tot: 0h6m14s  (41.4%)\rEpoch: 7.0%  lr: 0.029319  loss: 0.010487  eta: 0h8m  tot: 0h6m14s  (41.4%)\rEpoch: 7.1%  lr: 0.029319  loss: 0.010546  eta: 0h8m  tot: 0h6m15s  (41.4%)\rEpoch: 7.2%  lr: 0.029319  loss: 0.010554  eta: 0h8m  tot: 0h6m15s  (41.4%)\rEpoch: 7.3%  lr: 0.029319  loss: 0.010589  eta: 0h8m  tot: 0h6m15s  (41.5%)\rEpoch: 7.4%  lr: 0.029309  loss: 0.010484  eta: 0h8m  tot: 0h6m15s  (41.5%)\rEpoch: 7.5%  lr: 0.029289  loss: 0.010503  eta: 0h8m  tot: 0h6m15s  (41.5%)\rEpoch: 7.6%  lr: 0.029279  loss: 0.010600  eta: 0h8m  tot: 0h6m15s  (41.5%)\rEpoch: 7.7%  lr: 0.029249  loss: 0.010609  eta: 0h8m  tot: 0h6m16s  (41.5%)\rEpoch: 7.7%  lr: 0.029219  loss: 0.010608  eta: 0h8m  tot: 0h6m16s  (41.5%)\rEpoch: 7.8%  lr: 0.029219  loss: 0.010588  eta: 0h8m  tot: 0h6m16s  (41.6%)\rEpoch: 7.9%  lr: 0.029219  loss: 0.010561  eta: 0h8m  tot: 0h6m16s  (41.6%)\rEpoch: 8.0%  lr: 0.029199  loss: 0.010490  eta: 0h8m  tot: 0h6m16s  (41.6%)\rEpoch: 8.1%  lr: 0.029189  loss: 0.010565  eta: 0h8m  tot: 0h6m16s  (41.6%)\rEpoch: 8.2%  lr: 0.029189  loss: 0.010541  eta: 0h8m  tot: 0h6m16s  (41.6%)\rEpoch: 8.3%  lr: 0.029169  loss: 0.010631  eta: 0h8m  tot: 0h6m17s  (41.7%)\rEpoch: 8.4%  lr: 0.029169  loss: 0.010613  eta: 0h8m  tot: 0h6m17s  (41.7%)\rEpoch: 8.5%  lr: 0.029169  loss: 0.010591  eta: 0h8m  tot: 0h6m17s  (41.7%)\rEpoch: 8.6%  lr: 0.029169  loss: 0.010590  eta: 0h8m  tot: 0h6m17s  (41.7%)\rEpoch: 8.6%  lr: 0.029169  loss: 0.010599  eta: 0h8m  tot: 0h6m17s  (41.7%)\rEpoch: 8.7%  lr: 0.029169  loss: 0.010552  eta: 0h8m  tot: 0h6m17s  (41.7%)\rEpoch: 8.8%  lr: 0.029149  loss: 0.010563  eta: 0h8m  tot: 0h6m18s  (41.8%)\rEpoch: 8.9%  lr: 0.029149  loss: 0.010547  eta: 0h8m  tot: 0h6m18s  (41.8%)\rEpoch: 9.0%  lr: 0.029139  loss: 0.010491  eta: 0h8m  tot: 0h6m18s  (41.8%)\rEpoch: 9.1%  lr: 0.029139  loss: 0.010544  eta: 0h8m  tot: 0h6m18s  (41.8%)\rEpoch: 9.2%  lr: 0.029129  loss: 0.010662  eta: 0h8m  tot: 0h6m18s  (41.8%)\rEpoch: 9.3%  lr: 0.029119  loss: 0.010627  eta: 0h8m  tot: 0h6m18s  (41.9%)\rEpoch: 9.4%  lr: 0.029109  loss: 0.010572  eta: 0h8m  tot: 0h6m19s  (41.9%)\rEpoch: 9.5%  lr: 0.029109  loss: 0.010509  eta: 0h8m  tot: 0h6m19s  (41.9%)\rEpoch: 9.5%  lr: 0.029099  loss: 0.010450  eta: 0h8m  tot: 0h6m19s  (41.9%)\rEpoch: 9.6%  lr: 0.029099  loss: 0.010459  eta: 0h8m  tot: 0h6m19s  (41.9%)\rEpoch: 9.7%  lr: 0.029069  loss: 0.010532  eta: 0h8m  tot: 0h6m19s  (41.9%)\rEpoch: 9.8%  lr: 0.029059  loss: 0.010521  eta: 0h8m  tot: 0h6m19s  (42.0%)\rEpoch: 9.9%  lr: 0.029039  loss: 0.010510  eta: 0h8m  tot: 0h6m19s  (42.0%)\rEpoch: 10.0%  lr: 0.029029  loss: 0.010500  eta: 0h8m  tot: 0h6m20s  (42.0%)\rEpoch: 10.1%  lr: 0.028999  loss: 0.010434  eta: 0h8m  tot: 0h6m20s  (42.0%)\rEpoch: 10.2%  lr: 0.028999  loss: 0.010431  eta: 0h8m  tot: 0h6m20s  (42.0%)\rEpoch: 10.3%  lr: 0.028999  loss: 0.010412  eta: 0h8m  tot: 0h6m20s  (42.1%)\rEpoch: 10.4%  lr: 0.028989  loss: 0.010485  eta: 0h8m  tot: 0h6m20s  (42.1%)\rEpoch: 10.4%  lr: 0.028989  loss: 0.010457  eta: 0h8m  tot: 0h6m20s  (42.1%)\rEpoch: 10.5%  lr: 0.028989  loss: 0.010476  eta: 0h8m  tot: 0h6m21s  (42.1%)\rEpoch: 10.6%  lr: 0.028989  loss: 0.010466  eta: 0h8m  tot: 0h6m21s  (42.1%)\rEpoch: 10.7%  lr: 0.028969  loss: 0.010395  eta: 0h8m  tot: 0h6m21s  (42.1%)\rEpoch: 10.8%  lr: 0.028969  loss: 0.010328  eta: 0h8m  tot: 0h6m21s  (42.2%)\rEpoch: 10.9%  lr: 0.028969  loss: 0.010275  eta: 0h8m  tot: 0h6m21s  (42.2%)\rEpoch: 11.0%  lr: 0.028969  loss: 0.010235  eta: 0h8m  tot: 0h6m21s  (42.2%)\rEpoch: 11.1%  lr: 0.028959  loss: 0.010205  eta: 0h8m  tot: 0h6m21s  (42.2%)\rEpoch: 11.2%  lr: 0.028959  loss: 0.010183  eta: 0h8m  tot: 0h6m22s  (42.2%)\rEpoch: 11.3%  lr: 0.028959  loss: 0.010196  eta: 0h8m  tot: 0h6m22s  (42.3%)\rEpoch: 11.3%  lr: 0.028939  loss: 0.010187  eta: 0h8m  tot: 0h6m22s  (42.3%)\rEpoch: 11.4%  lr: 0.028939  loss: 0.010147  eta: 0h8m  tot: 0h6m22s  (42.3%)\rEpoch: 11.5%  lr: 0.028919  loss: 0.010115  eta: 0h8m  tot: 0h6m22s  (42.3%)\rEpoch: 11.6%  lr: 0.028909  loss: 0.010143  eta: 0h8m  tot: 0h6m22s  (42.3%)\rEpoch: 11.7%  lr: 0.028909  loss: 0.010108  eta: 0h8m  tot: 0h6m23s  (42.3%)\rEpoch: 11.8%  lr: 0.028909  loss: 0.010088  eta: 0h8m  tot: 0h6m23s  (42.4%)\rEpoch: 11.9%  lr: 0.028909  loss: 0.010082  eta: 0h8m  tot: 0h6m23s  (42.4%)\rEpoch: 12.0%  lr: 0.028899  loss: 0.010051  eta: 0h8m  tot: 0h6m23s  (42.4%)\rEpoch: 12.1%  lr: 0.028899  loss: 0.010024  eta: 0h8m  tot: 0h6m23s  (42.4%)\rEpoch: 12.2%  lr: 0.028889  loss: 0.010006  eta: 0h8m  tot: 0h6m23s  (42.4%)\rEpoch: 12.2%  lr: 0.028889  loss: 0.010028  eta: 0h8m  tot: 0h6m23s  (42.4%)\rEpoch: 12.3%  lr: 0.028879  loss: 0.009980  eta: 0h8m  tot: 0h6m24s  (42.5%)\rEpoch: 12.4%  lr: 0.028879  loss: 0.009936  eta: 0h8m  tot: 0h6m24s  (42.5%)\rEpoch: 12.5%  lr: 0.028869  loss: 0.009952  eta: 0h8m  tot: 0h6m24s  (42.5%)\rEpoch: 12.6%  lr: 0.028869  loss: 0.009966  eta: 0h8m  tot: 0h6m24s  (42.5%)\rEpoch: 12.7%  lr: 0.028839  loss: 0.009933  eta: 0h8m  tot: 0h6m24s  (42.5%)\rEpoch: 12.8%  lr: 0.028829  loss: 0.009914  eta: 0h8m  tot: 0h6m24s  (42.6%)\rEpoch: 12.9%  lr: 0.028829  loss: 0.009875  eta: 0h8m  tot: 0h6m24s  (42.6%)\rEpoch: 13.0%  lr: 0.028809  loss: 0.009853  eta: 0h8m  tot: 0h6m25s  (42.6%)\rEpoch: 13.1%  lr: 0.028789  loss: 0.009835  eta: 0h8m  tot: 0h6m25s  (42.6%)\rEpoch: 13.1%  lr: 0.028779  loss: 0.009805  eta: 0h8m  tot: 0h6m25s  (42.6%)\rEpoch: 13.2%  lr: 0.028759  loss: 0.009795  eta: 0h8m  tot: 0h6m25s  (42.6%)\rEpoch: 13.3%  lr: 0.028749  loss: 0.009762  eta: 0h8m  tot: 0h6m25s  (42.7%)\rEpoch: 13.4%  lr: 0.028749  loss: 0.009765  eta: 0h8m  tot: 0h6m25s  (42.7%)\rEpoch: 13.5%  lr: 0.028739  loss: 0.009727  eta: 0h8m  tot: 0h6m26s  (42.7%)\rEpoch: 13.6%  lr: 0.028729  loss: 0.009697  eta: 0h8m  tot: 0h6m26s  (42.7%)\rEpoch: 13.7%  lr: 0.028719  loss: 0.009677  eta: 0h8m  tot: 0h6m26s  (42.7%)\rEpoch: 13.8%  lr: 0.028699  loss: 0.009652  eta: 0h8m  tot: 0h6m26s  (42.8%)\rEpoch: 13.9%  lr: 0.028699  loss: 0.009679  eta: 0h8m  tot: 0h6m26s  (42.8%)\rEpoch: 14.0%  lr: 0.028679  loss: 0.009663  eta: 0h8m  tot: 0h6m26s  (42.8%)\rEpoch: 14.0%  lr: 0.028669  loss: 0.009650  eta: 0h8m  tot: 0h6m26s  (42.8%)\rEpoch: 14.1%  lr: 0.028669  loss: 0.009651  eta: 0h8m  tot: 0h6m27s  (42.8%)\rEpoch: 14.2%  lr: 0.028669  loss: 0.009647  eta: 0h8m  tot: 0h6m27s  (42.8%)\rEpoch: 14.3%  lr: 0.028669  loss: 0.009664  eta: 0h8m  tot: 0h6m27s  (42.9%)\rEpoch: 14.4%  lr: 0.028669  loss: 0.009640  eta: 0h8m  tot: 0h6m27s  (42.9%)\rEpoch: 14.5%  lr: 0.028669  loss: 0.009619  eta: 0h8m  tot: 0h6m27s  (42.9%)\rEpoch: 14.6%  lr: 0.028669  loss: 0.009590  eta: 0h8m  tot: 0h6m27s  (42.9%)\rEpoch: 14.7%  lr: 0.028669  loss: 0.009622  eta: 0h8m  tot: 0h6m28s  (42.9%)\rEpoch: 14.8%  lr: 0.028659  loss: 0.009669  eta: 0h8m  tot: 0h6m28s  (43.0%)\rEpoch: 14.9%  lr: 0.028659  loss: 0.009701  eta: 0h8m  tot: 0h6m28s  (43.0%)\rEpoch: 14.9%  lr: 0.028659  loss: 0.009663  eta: 0h8m  tot: 0h6m28s  (43.0%)\rEpoch: 15.0%  lr: 0.028659  loss: 0.009623  eta: 0h8m  tot: 0h6m28s  (43.0%)\rEpoch: 15.1%  lr: 0.028639  loss: 0.009603  eta: 0h8m  tot: 0h6m28s  (43.0%)\rEpoch: 15.2%  lr: 0.028619  loss: 0.009576  eta: 0h8m  tot: 0h6m29s  (43.0%)\rEpoch: 15.3%  lr: 0.028609  loss: 0.009547  eta: 0h8m  tot: 0h6m29s  (43.1%)\rEpoch: 15.4%  lr: 0.028599  loss: 0.009592  eta: 0h8m  tot: 0h6m29s  (43.1%)\rEpoch: 15.5%  lr: 0.028599  loss: 0.009595  eta: 0h8m  tot: 0h6m29s  (43.1%)\rEpoch: 15.6%  lr: 0.028599  loss: 0.009574  eta: 0h8m  tot: 0h6m29s  (43.1%)\rEpoch: 15.7%  lr: 0.028579  loss: 0.009538  eta: 0h8m  tot: 0h6m29s  (43.1%)\rEpoch: 15.8%  lr: 0.028579  loss: 0.009517  eta: 0h8m  tot: 0h6m29s  (43.2%)\rEpoch: 15.8%  lr: 0.028569  loss: 0.009527  eta: 0h8m  tot: 0h6m30s  (43.2%)\rEpoch: 15.9%  lr: 0.028559  loss: 0.009498  eta: 0h8m  tot: 0h6m30s  (43.2%)\rEpoch: 16.0%  lr: 0.028539  loss: 0.009481  eta: 0h8m  tot: 0h6m30s  (43.2%)\rEpoch: 16.1%  lr: 0.028539  loss: 0.009481  eta: 0h8m  tot: 0h6m30s  (43.2%)\rEpoch: 16.2%  lr: 0.028539  loss: 0.009497  eta: 0h7m  tot: 0h6m30s  (43.2%)\rEpoch: 16.3%  lr: 0.028529  loss: 0.009501  eta: 0h7m  tot: 0h6m30s  (43.3%)\rEpoch: 16.4%  lr: 0.028509  loss: 0.009473  eta: 0h7m  tot: 0h6m31s  (43.3%)\rEpoch: 16.5%  lr: 0.028489  loss: 0.009464  eta: 0h7m  tot: 0h6m31s  (43.3%)\rEpoch: 16.6%  lr: 0.028479  loss: 0.009465  eta: 0h7m  tot: 0h6m31s  (43.3%)\rEpoch: 16.7%  lr: 0.028479  loss: 0.009426  eta: 0h7m  tot: 0h6m31s  (43.3%)\rEpoch: 16.7%  lr: 0.028448  loss: 0.009415  eta: 0h7m  tot: 0h6m31s  (43.3%)\rEpoch: 16.8%  lr: 0.028428  loss: 0.009429  eta: 0h7m  tot: 0h6m31s  (43.4%)\rEpoch: 16.9%  lr: 0.028418  loss: 0.009430  eta: 0h7m  tot: 0h6m31s  (43.4%)\rEpoch: 17.0%  lr: 0.028418  loss: 0.009468  eta: 0h7m  tot: 0h6m32s  (43.4%)\rEpoch: 17.1%  lr: 0.028408  loss: 0.009455  eta: 0h7m  tot: 0h6m32s  (43.4%)\rEpoch: 17.2%  lr: 0.028398  loss: 0.009447  eta: 0h7m  tot: 0h6m32s  (43.4%)\rEpoch: 17.3%  lr: 0.028398  loss: 0.009473  eta: 0h7m  tot: 0h6m32s  (43.5%)\rEpoch: 17.4%  lr: 0.028388  loss: 0.009454  eta: 0h7m  tot: 0h6m32s  (43.5%)\rEpoch: 17.5%  lr: 0.028368  loss: 0.009489  eta: 0h7m  tot: 0h6m32s  (43.5%)\rEpoch: 17.6%  lr: 0.028338  loss: 0.009470  eta: 0h7m  tot: 0h6m33s  (43.5%)\rEpoch: 17.6%  lr: 0.028328  loss: 0.009454  eta: 0h7m  tot: 0h6m33s  (43.5%)\rEpoch: 17.7%  lr: 0.028328  loss: 0.009415  eta: 0h7m  tot: 0h6m33s  (43.5%)\rEpoch: 17.8%  lr: 0.028328  loss: 0.009412  eta: 0h7m  tot: 0h6m33s  (43.6%)\rEpoch: 17.9%  lr: 0.028328  loss: 0.009393  eta: 0h7m  tot: 0h6m33s  (43.6%)\rEpoch: 18.0%  lr: 0.028318  loss: 0.009405  eta: 0h7m  tot: 0h6m33s  (43.6%)\rEpoch: 18.1%  lr: 0.028318  loss: 0.009396  eta: 0h7m  tot: 0h6m33s  (43.6%)\rEpoch: 18.2%  lr: 0.028318  loss: 0.009384  eta: 0h7m  tot: 0h6m34s  (43.6%)\rEpoch: 18.3%  lr: 0.028308  loss: 0.009403  eta: 0h7m  tot: 0h6m34s  (43.7%)\rEpoch: 18.4%  lr: 0.028308  loss: 0.009434  eta: 0h7m  tot: 0h6m34s  (43.7%)\rEpoch: 18.5%  lr: 0.028288  loss: 0.009420  eta: 0h7m  tot: 0h6m34s  (43.7%)\rEpoch: 18.5%  lr: 0.028248  loss: 0.009444  eta: 0h7m  tot: 0h6m34s  (43.7%)\rEpoch: 18.6%  lr: 0.028248  loss: 0.009417  eta: 0h7m  tot: 0h6m34s  (43.7%)\rEpoch: 18.7%  lr: 0.028238  loss: 0.009450  eta: 0h7m  tot: 0h6m35s  (43.7%)\rEpoch: 18.8%  lr: 0.028238  loss: 0.009455  eta: 0h7m  tot: 0h6m35s  (43.8%)\rEpoch: 18.9%  lr: 0.028208  loss: 0.009434  eta: 0h7m  tot: 0h6m35s  (43.8%)\rEpoch: 19.0%  lr: 0.028208  loss: 0.009437  eta: 0h7m  tot: 0h6m35s  (43.8%)\rEpoch: 19.1%  lr: 0.028198  loss: 0.009463  eta: 0h7m  tot: 0h6m35s  (43.8%)\rEpoch: 19.2%  lr: 0.028198  loss: 0.009444  eta: 0h7m  tot: 0h6m35s  (43.8%)\rEpoch: 19.3%  lr: 0.028178  loss: 0.009431  eta: 0h7m  tot: 0h6m36s  (43.9%)\rEpoch: 19.4%  lr: 0.028168  loss: 0.009410  eta: 0h7m  tot: 0h6m36s  (43.9%)\rEpoch: 19.4%  lr: 0.028158  loss: 0.009395  eta: 0h7m  tot: 0h6m36s  (43.9%)\rEpoch: 19.5%  lr: 0.028158  loss: 0.009387  eta: 0h7m  tot: 0h6m36s  (43.9%)\rEpoch: 19.6%  lr: 0.028148  loss: 0.009417  eta: 0h7m  tot: 0h6m36s  (43.9%)\rEpoch: 19.7%  lr: 0.028138  loss: 0.009396  eta: 0h7m  tot: 0h6m36s  (43.9%)\rEpoch: 19.8%  lr: 0.028138  loss: 0.009383  eta: 0h7m  tot: 0h6m36s  (44.0%)\rEpoch: 19.9%  lr: 0.028138  loss: 0.009396  eta: 0h7m  tot: 0h6m37s  (44.0%)\rEpoch: 20.0%  lr: 0.028108  loss: 0.009454  eta: 0h7m  tot: 0h6m37s  (44.0%)\rEpoch: 20.1%  lr: 0.028108  loss: 0.009427  eta: 0h7m  tot: 0h6m37s  (44.0%)\rEpoch: 20.2%  lr: 0.028098  loss: 0.009485  eta: 0h7m  tot: 0h6m37s  (44.0%)\rEpoch: 20.3%  lr: 0.028068  loss: 0.009501  eta: 0h7m  tot: 0h6m37s  (44.1%)\rEpoch: 20.3%  lr: 0.028068  loss: 0.009475  eta: 0h7m  tot: 0h6m37s  (44.1%)\rEpoch: 20.4%  lr: 0.028058  loss: 0.009447  eta: 0h7m  tot: 0h6m38s  (44.1%)\rEpoch: 20.5%  lr: 0.028058  loss: 0.009477  eta: 0h7m  tot: 0h6m38s  (44.1%)\rEpoch: 20.6%  lr: 0.028058  loss: 0.009446  eta: 0h7m  tot: 0h6m38s  (44.1%)\rEpoch: 20.7%  lr: 0.028048  loss: 0.009464  eta: 0h7m  tot: 0h6m38s  (44.1%)\rEpoch: 20.8%  lr: 0.028038  loss: 0.009485  eta: 0h7m  tot: 0h6m38s  (44.2%)\rEpoch: 20.9%  lr: 0.028028  loss: 0.009454  eta: 0h7m  tot: 0h6m38s  (44.2%)\rEpoch: 21.0%  lr: 0.028018  loss: 0.009436  eta: 0h7m  tot: 0h6m38s  (44.2%)\rEpoch: 21.1%  lr: 0.028018  loss: 0.009463  eta: 0h7m  tot: 0h6m39s  (44.2%)\rEpoch: 21.2%  lr: 0.028008  loss: 0.009481  eta: 0h7m  tot: 0h6m39s  (44.2%)\rEpoch: 21.2%  lr: 0.028008  loss: 0.009469  eta: 0h7m  tot: 0h6m39s  (44.2%)\rEpoch: 21.3%  lr: 0.028008  loss: 0.009444  eta: 0h7m  tot: 0h6m39s  (44.3%)\rEpoch: 21.4%  lr: 0.028008  loss: 0.009438  eta: 0h7m  tot: 0h6m39s  (44.3%)\rEpoch: 21.5%  lr: 0.028008  loss: 0.009416  eta: 0h7m  tot: 0h6m39s  (44.3%)\rEpoch: 21.6%  lr: 0.028008  loss: 0.009408  eta: 0h7m  tot: 0h6m40s  (44.3%)\rEpoch: 21.7%  lr: 0.028008  loss: 0.009403  eta: 0h7m  tot: 0h6m40s  (44.3%)\rEpoch: 21.8%  lr: 0.028008  loss: 0.009370  eta: 0h7m  tot: 0h6m40s  (44.4%)\rEpoch: 21.9%  lr: 0.028008  loss: 0.009361  eta: 0h7m  tot: 0h6m40s  (44.4%)\rEpoch: 22.0%  lr: 0.027998  loss: 0.009328  eta: 0h7m  tot: 0h6m40s  (44.4%)\rEpoch: 22.1%  lr: 0.027978  loss: 0.009368  eta: 0h7m  tot: 0h6m40s  (44.4%)\rEpoch: 22.1%  lr: 0.027968  loss: 0.009355  eta: 0h7m  tot: 0h6m40s  (44.4%)\rEpoch: 22.2%  lr: 0.027968  loss: 0.009343  eta: 0h7m  tot: 0h6m41s  (44.4%)\rEpoch: 22.3%  lr: 0.027948  loss: 0.009327  eta: 0h7m  tot: 0h6m41s  (44.5%)\rEpoch: 22.4%  lr: 0.027948  loss: 0.009338  eta: 0h7m  tot: 0h6m41s  (44.5%)\rEpoch: 22.5%  lr: 0.027938  loss: 0.009349  eta: 0h7m  tot: 0h6m41s  (44.5%)\rEpoch: 22.6%  lr: 0.027928  loss: 0.009338  eta: 0h7m  tot: 0h6m41s  (44.5%)\rEpoch: 22.7%  lr: 0.027918  loss: 0.009348  eta: 0h7m  tot: 0h6m41s  (44.5%)\rEpoch: 22.8%  lr: 0.027888  loss: 0.009320  eta: 0h7m  tot: 0h6m42s  (44.6%)\rEpoch: 22.9%  lr: 0.027878  loss: 0.009310  eta: 0h7m  tot: 0h6m42s  (44.6%)\rEpoch: 23.0%  lr: 0.027878  loss: 0.009297  eta: 0h7m  tot: 0h6m42s  (44.6%)\rEpoch: 23.0%  lr: 0.027868  loss: 0.009323  eta: 0h7m  tot: 0h6m42s  (44.6%)\rEpoch: 23.1%  lr: 0.027858  loss: 0.009299  eta: 0h7m  tot: 0h6m42s  (44.6%)\rEpoch: 23.2%  lr: 0.027838  loss: 0.009311  eta: 0h7m  tot: 0h6m42s  (44.6%)\rEpoch: 23.3%  lr: 0.027828  loss: 0.009302  eta: 0h7m  tot: 0h6m42s  (44.7%)\rEpoch: 23.4%  lr: 0.027818  loss: 0.009322  eta: 0h7m  tot: 0h6m43s  (44.7%)\rEpoch: 23.5%  lr: 0.027818  loss: 0.009327  eta: 0h7m  tot: 0h6m43s  (44.7%)\rEpoch: 23.6%  lr: 0.027808  loss: 0.009345  eta: 0h7m  tot: 0h6m43s  (44.7%)\rEpoch: 23.7%  lr: 0.027798  loss: 0.009345  eta: 0h7m  tot: 0h6m43s  (44.7%)\rEpoch: 23.8%  lr: 0.027778  loss: 0.009380  eta: 0h7m  tot: 0h6m43s  (44.8%)\rEpoch: 23.9%  lr: 0.027768  loss: 0.009428  eta: 0h7m  tot: 0h6m43s  (44.8%)\rEpoch: 23.9%  lr: 0.027748  loss: 0.009423  eta: 0h7m  tot: 0h6m44s  (44.8%)\rEpoch: 24.0%  lr: 0.027728  loss: 0.009417  eta: 0h7m  tot: 0h6m44s  (44.8%)\rEpoch: 24.1%  lr: 0.027718  loss: 0.009413  eta: 0h7m  tot: 0h6m44s  (44.8%)\rEpoch: 24.2%  lr: 0.027718  loss: 0.009386  eta: 0h7m  tot: 0h6m44s  (44.8%)\rEpoch: 24.3%  lr: 0.027698  loss: 0.009374  eta: 0h7m  tot: 0h6m44s  (44.9%)\rEpoch: 24.4%  lr: 0.027698  loss: 0.009347  eta: 0h7m  tot: 0h6m44s  (44.9%)\rEpoch: 24.5%  lr: 0.027698  loss: 0.009343  eta: 0h7m  tot: 0h6m45s  (44.9%)\rEpoch: 24.6%  lr: 0.027698  loss: 0.009328  eta: 0h7m  tot: 0h6m45s  (44.9%)\rEpoch: 24.7%  lr: 0.027688  loss: 0.009307  eta: 0h7m  tot: 0h6m45s  (44.9%)\rEpoch: 24.8%  lr: 0.027678  loss: 0.009300  eta: 0h7m  tot: 0h6m45s  (45.0%)\rEpoch: 24.8%  lr: 0.027658  loss: 0.009332  eta: 0h7m  tot: 0h6m45s  (45.0%)\rEpoch: 24.9%  lr: 0.027648  loss: 0.009341  eta: 0h7m  tot: 0h6m45s  (45.0%)\rEpoch: 25.0%  lr: 0.027628  loss: 0.009351  eta: 0h7m  tot: 0h6m45s  (45.0%)\rEpoch: 25.1%  lr: 0.027628  loss: 0.009345  eta: 0h7m  tot: 0h6m46s  (45.0%)\rEpoch: 25.2%  lr: 0.027598  loss: 0.009391  eta: 0h7m  tot: 0h6m46s  (45.0%)\rEpoch: 25.3%  lr: 0.027598  loss: 0.009388  eta: 0h7m  tot: 0h6m46s  (45.1%)\rEpoch: 25.4%  lr: 0.027578  loss: 0.009396  eta: 0h7m  tot: 0h6m46s  (45.1%)\rEpoch: 25.5%  lr: 0.027558  loss: 0.009389  eta: 0h7m  tot: 0h6m46s  (45.1%)\rEpoch: 25.6%  lr: 0.027558  loss: 0.009434  eta: 0h7m  tot: 0h6m46s  (45.1%)\rEpoch: 25.7%  lr: 0.027548  loss: 0.009485  eta: 0h7m  tot: 0h6m47s  (45.1%)\rEpoch: 25.7%  lr: 0.027528  loss: 0.009471  eta: 0h7m  tot: 0h6m47s  (45.1%)\rEpoch: 25.8%  lr: 0.027528  loss: 0.009483  eta: 0h7m  tot: 0h6m47s  (45.2%)\rEpoch: 25.9%  lr: 0.027528  loss: 0.009481  eta: 0h7m  tot: 0h6m47s  (45.2%)\rEpoch: 26.0%  lr: 0.027508  loss: 0.009463  eta: 0h7m  tot: 0h6m47s  (45.2%)\rEpoch: 26.1%  lr: 0.027498  loss: 0.009495  eta: 0h7m  tot: 0h6m47s  (45.2%)\rEpoch: 26.2%  lr: 0.027478  loss: 0.009501  eta: 0h7m  tot: 0h6m47s  (45.2%)\rEpoch: 26.3%  lr: 0.027468  loss: 0.009501  eta: 0h7m  tot: 0h6m48s  (45.3%)\rEpoch: 26.4%  lr: 0.027457  loss: 0.009497  eta: 0h7m  tot: 0h6m48s  (45.3%)\rEpoch: 26.5%  lr: 0.027417  loss: 0.009509  eta: 0h7m  tot: 0h6m48s  (45.3%)\rEpoch: 26.6%  lr: 0.027417  loss: 0.009552  eta: 0h7m  tot: 0h6m48s  (45.3%)\rEpoch: 26.6%  lr: 0.027417  loss: 0.009540  eta: 0h7m  tot: 0h6m48s  (45.3%)\rEpoch: 26.7%  lr: 0.027417  loss: 0.009517  eta: 0h7m  tot: 0h6m48s  (45.3%)\rEpoch: 26.8%  lr: 0.027407  loss: 0.009499  eta: 0h7m  tot: 0h6m49s  (45.4%)\rEpoch: 26.9%  lr: 0.027397  loss: 0.009485  eta: 0h7m  tot: 0h6m49s  (45.4%)\rEpoch: 27.0%  lr: 0.027377  loss: 0.009481  eta: 0h7m  tot: 0h6m49s  (45.4%)\rEpoch: 27.1%  lr: 0.027357  loss: 0.009480  eta: 0h7m  tot: 0h6m49s  (45.4%)\rEpoch: 27.2%  lr: 0.027347  loss: 0.009489  eta: 0h7m  tot: 0h6m49s  (45.4%)\rEpoch: 27.3%  lr: 0.027317  loss: 0.009498  eta: 0h7m  tot: 0h6m49s  (45.5%)\rEpoch: 27.4%  lr: 0.027317  loss: 0.009526  eta: 0h7m  tot: 0h6m49s  (45.5%)\rEpoch: 27.5%  lr: 0.027297  loss: 0.009533  eta: 0h7m  tot: 0h6m50s  (45.5%)\rEpoch: 27.5%  lr: 0.027267  loss: 0.009529  eta: 0h7m  tot: 0h6m50s  (45.5%)\rEpoch: 27.6%  lr: 0.027247  loss: 0.009512  eta: 0h7m  tot: 0h6m50s  (45.5%)\rEpoch: 27.7%  lr: 0.027227  loss: 0.009499  eta: 0h7m  tot: 0h6m50s  (45.5%)\rEpoch: 27.8%  lr: 0.027207  loss: 0.009487  eta: 0h7m  tot: 0h6m50s  (45.6%)\rEpoch: 27.9%  lr: 0.027207  loss: 0.009463  eta: 0h7m  tot: 0h6m50s  (45.6%)\rEpoch: 28.0%  lr: 0.027187  loss: 0.009458  eta: 0h7m  tot: 0h6m51s  (45.6%)\rEpoch: 28.1%  lr: 0.027187  loss: 0.009434  eta: 0h7m  tot: 0h6m51s  (45.6%)\rEpoch: 28.2%  lr: 0.027177  loss: 0.009449  eta: 0h7m  tot: 0h6m51s  (45.6%)\rEpoch: 28.3%  lr: 0.027177  loss: 0.009448  eta: 0h7m  tot: 0h6m51s  (45.7%)\rEpoch: 28.4%  lr: 0.027177  loss: 0.009435  eta: 0h7m  tot: 0h6m51s  (45.7%)\rEpoch: 28.4%  lr: 0.027167  loss: 0.009430  eta: 0h7m  tot: 0h6m51s  (45.7%)\rEpoch: 28.5%  lr: 0.027157  loss: 0.009423  eta: 0h7m  tot: 0h6m51s  (45.7%)\rEpoch: 28.6%  lr: 0.027157  loss: 0.009399  eta: 0h7m  tot: 0h6m52s  (45.7%)\rEpoch: 28.7%  lr: 0.027147  loss: 0.009407  eta: 0h7m  tot: 0h6m52s  (45.7%)\rEpoch: 28.8%  lr: 0.027117  loss: 0.009433  eta: 0h7m  tot: 0h6m52s  (45.8%)\rEpoch: 28.9%  lr: 0.027107  loss: 0.009432  eta: 0h7m  tot: 0h6m52s  (45.8%)\rEpoch: 29.0%  lr: 0.027097  loss: 0.009420  eta: 0h7m  tot: 0h6m52s  (45.8%)\rEpoch: 29.1%  lr: 0.027087  loss: 0.009410  eta: 0h7m  tot: 0h6m52s  (45.8%)\rEpoch: 29.2%  lr: 0.027087  loss: 0.009401  eta: 0h7m  tot: 0h6m53s  (45.8%)\rEpoch: 29.3%  lr: 0.027077  loss: 0.009390  eta: 0h7m  tot: 0h6m53s  (45.9%)\rEpoch: 29.3%  lr: 0.027057  loss: 0.009376  eta: 0h7m  tot: 0h6m53s  (45.9%)\rEpoch: 29.4%  lr: 0.027057  loss: 0.009351  eta: 0h7m  tot: 0h6m53s  (45.9%)\rEpoch: 29.5%  lr: 0.027057  loss: 0.009359  eta: 0h7m  tot: 0h6m53s  (45.9%)\rEpoch: 29.6%  lr: 0.027037  loss: 0.009345  eta: 0h7m  tot: 0h6m53s  (45.9%)\rEpoch: 29.7%  lr: 0.027017  loss: 0.009324  eta: 0h7m  tot: 0h6m53s  (45.9%)\rEpoch: 29.8%  lr: 0.027017  loss: 0.009327  eta: 0h7m  tot: 0h6m54s  (46.0%)\rEpoch: 29.9%  lr: 0.027017  loss: 0.009313  eta: 0h7m  tot: 0h6m54s  (46.0%)\rEpoch: 30.0%  lr: 0.027017  loss: 0.009298  eta: 0h7m  tot: 0h6m54s  (46.0%)\rEpoch: 30.1%  lr: 0.027017  loss: 0.009284  eta: 0h7m  tot: 0h6m54s  (46.0%)\rEpoch: 30.2%  lr: 0.027007  loss: 0.009269  eta: 0h7m  tot: 0h6m54s  (46.0%)\rEpoch: 30.2%  lr: 0.026997  loss: 0.009267  eta: 0h7m  tot: 0h6m54s  (46.0%)\rEpoch: 30.3%  lr: 0.026987  loss: 0.009277  eta: 0h7m  tot: 0h6m55s  (46.1%)\rEpoch: 30.4%  lr: 0.026977  loss: 0.009265  eta: 0h7m  tot: 0h6m55s  (46.1%)\rEpoch: 30.5%  lr: 0.026977  loss: 0.009258  eta: 0h7m  tot: 0h6m55s  (46.1%)\rEpoch: 30.6%  lr: 0.026977  loss: 0.009274  eta: 0h7m  tot: 0h6m55s  (46.1%)\rEpoch: 30.7%  lr: 0.026957  loss: 0.009279  eta: 0h7m  tot: 0h6m55s  (46.1%)\rEpoch: 30.8%  lr: 0.026957  loss: 0.009289  eta: 0h7m  tot: 0h6m55s  (46.2%)\rEpoch: 30.9%  lr: 0.026937  loss: 0.009285  eta: 0h7m  tot: 0h6m55s  (46.2%)\rEpoch: 31.0%  lr: 0.026937  loss: 0.009311  eta: 0h7m  tot: 0h6m56s  (46.2%)\rEpoch: 31.1%  lr: 0.026937  loss: 0.009322  eta: 0h7m  tot: 0h6m56s  (46.2%)\rEpoch: 31.1%  lr: 0.026937  loss: 0.009333  eta: 0h7m  tot: 0h6m56s  (46.2%)\rEpoch: 31.2%  lr: 0.026927  loss: 0.009353  eta: 0h7m  tot: 0h6m56s  (46.2%)\rEpoch: 31.3%  lr: 0.026897  loss: 0.009356  eta: 0h7m  tot: 0h6m56s  (46.3%)\rEpoch: 31.4%  lr: 0.026857  loss: 0.009375  eta: 0h7m  tot: 0h6m56s  (46.3%)\rEpoch: 31.5%  lr: 0.026847  loss: 0.009371  eta: 0h7m  tot: 0h6m57s  (46.3%)\rEpoch: 31.6%  lr: 0.026827  loss: 0.009375  eta: 0h7m  tot: 0h6m57s  (46.3%)\rEpoch: 31.7%  lr: 0.026827  loss: 0.009375  eta: 0h7m  tot: 0h6m57s  (46.3%)\rEpoch: 31.8%  lr: 0.026797  loss: 0.009365  eta: 0h7m  tot: 0h6m57s  (46.4%)\rEpoch: 31.9%  lr: 0.026797  loss: 0.009358  eta: 0h7m  tot: 0h6m57s  (46.4%)\rEpoch: 32.0%  lr: 0.026787  loss: 0.009368  eta: 0h7m  tot: 0h6m57s  (46.4%)\rEpoch: 32.0%  lr: 0.026757  loss: 0.009357  eta: 0h7m  tot: 0h6m57s  (46.4%)\rEpoch: 32.1%  lr: 0.026757  loss: 0.009350  eta: 0h7m  tot: 0h6m58s  (46.4%)\rEpoch: 32.2%  lr: 0.026747  loss: 0.009352  eta: 0h7m  tot: 0h6m58s  (46.4%)\rEpoch: 32.3%  lr: 0.026737  loss: 0.009356  eta: 0h7m  tot: 0h6m58s  (46.5%)\rEpoch: 32.4%  lr: 0.026727  loss: 0.009364  eta: 0h7m  tot: 0h6m58s  (46.5%)\rEpoch: 32.5%  lr: 0.026717  loss: 0.009363  eta: 0h7m  tot: 0h6m58s  (46.5%)\rEpoch: 32.6%  lr: 0.026717  loss: 0.009375  eta: 0h7m  tot: 0h6m58s  (46.5%)\rEpoch: 32.7%  lr: 0.026717  loss: 0.009382  eta: 0h7m  tot: 0h6m59s  (46.5%)\rEpoch: 32.8%  lr: 0.026717  loss: 0.009375  eta: 0h7m  tot: 0h6m59s  (46.6%)\rEpoch: 32.9%  lr: 0.026697  loss: 0.009374  eta: 0h7m  tot: 0h6m59s  (46.6%)\rEpoch: 32.9%  lr: 0.026687  loss: 0.009368  eta: 0h7m  tot: 0h6m59s  (46.6%)\rEpoch: 33.0%  lr: 0.026657  loss: 0.009390  eta: 0h7m  tot: 0h6m59s  (46.6%)\rEpoch: 33.1%  lr: 0.026637  loss: 0.009402  eta: 0h7m  tot: 0h6m59s  (46.6%)\rEpoch: 33.2%  lr: 0.026627  loss: 0.009447  eta: 0h7m  tot: 0h6m59s  (46.6%)\rEpoch: 33.3%  lr: 0.026617  loss: 0.009447  eta: 0h7m  tot: 0h7m0s  (46.7%)\rEpoch: 33.4%  lr: 0.026607  loss: 0.009430  eta: 0h7m  tot: 0h7m0s  (46.7%)\rEpoch: 33.5%  lr: 0.026597  loss: 0.009415  eta: 0h7m  tot: 0h7m0s  (46.7%)\rEpoch: 33.6%  lr: 0.026587  loss: 0.009425  eta: 0h7m  tot: 0h7m0s  (46.7%)\rEpoch: 33.7%  lr: 0.026577  loss: 0.009437  eta: 0h7m  tot: 0h7m0s  (46.7%)\rEpoch: 33.8%  lr: 0.026577  loss: 0.009432  eta: 0h7m  tot: 0h7m0s  (46.8%)\rEpoch: 33.8%  lr: 0.026567  loss: 0.009414  eta: 0h7m  tot: 0h7m1s  (46.8%)\rEpoch: 33.9%  lr: 0.026547  loss: 0.009412  eta: 0h7m  tot: 0h7m1s  (46.8%)\rEpoch: 34.0%  lr: 0.026547  loss: 0.009434  eta: 0h7m  tot: 0h7m1s  (46.8%)\rEpoch: 34.1%  lr: 0.026517  loss: 0.009434  eta: 0h7m  tot: 0h7m1s  (46.8%)\rEpoch: 34.2%  lr: 0.026497  loss: 0.009424  eta: 0h7m  tot: 0h7m1s  (46.8%)\rEpoch: 34.3%  lr: 0.026467  loss: 0.009410  eta: 0h7m  tot: 0h7m1s  (46.9%)\rEpoch: 34.4%  lr: 0.026467  loss: 0.009393  eta: 0h7m  tot: 0h7m1s  (46.9%)\rEpoch: 34.5%  lr: 0.026467  loss: 0.009377  eta: 0h7m  tot: 0h7m2s  (46.9%)\rEpoch: 34.6%  lr: 0.026457  loss: 0.009397  eta: 0h7m  tot: 0h7m2s  (46.9%)\rEpoch: 34.7%  lr: 0.026436  loss: 0.009381  eta: 0h7m  tot: 0h7m2s  (46.9%)\rEpoch: 34.7%  lr: 0.026426  loss: 0.009418  eta: 0h7m  tot: 0h7m2s  (46.9%)\rEpoch: 34.8%  lr: 0.026406  loss: 0.009427  eta: 0h7m  tot: 0h7m2s  (47.0%)\rEpoch: 34.9%  lr: 0.026396  loss: 0.009413  eta: 0h7m  tot: 0h7m2s  (47.0%)\rEpoch: 35.0%  lr: 0.026386  loss: 0.009414  eta: 0h7m  tot: 0h7m3s  (47.0%)\rEpoch: 35.1%  lr: 0.026366  loss: 0.009432  eta: 0h7m  tot: 0h7m3s  (47.0%)\rEpoch: 35.2%  lr: 0.026366  loss: 0.009419  eta: 0h7m  tot: 0h7m3s  (47.0%)\rEpoch: 35.3%  lr: 0.026346  loss: 0.009401  eta: 0h7m  tot: 0h7m3s  (47.1%)\rEpoch: 35.4%  lr: 0.026346  loss: 0.009388  eta: 0h7m  tot: 0h7m3s  (47.1%)\rEpoch: 35.5%  lr: 0.026336  loss: 0.009395  eta: 0h7m  tot: 0h7m3s  (47.1%)\rEpoch: 35.6%  lr: 0.026326  loss: 0.009385  eta: 0h7m  tot: 0h7m3s  (47.1%)\rEpoch: 35.6%  lr: 0.026306  loss: 0.009369  eta: 0h7m  tot: 0h7m4s  (47.1%)\rEpoch: 35.7%  lr: 0.026286  loss: 0.009395  eta: 0h7m  tot: 0h7m4s  (47.1%)\rEpoch: 35.8%  lr: 0.026276  loss: 0.009388  eta: 0h7m  tot: 0h7m4s  (47.2%)\rEpoch: 35.9%  lr: 0.026266  loss: 0.009400  eta: 0h7m  tot: 0h7m4s  (47.2%)\rEpoch: 36.0%  lr: 0.026256  loss: 0.009399  eta: 0h7m  tot: 0h7m4s  (47.2%)\rEpoch: 36.1%  lr: 0.026256  loss: 0.009397  eta: 0h7m  tot: 0h7m4s  (47.2%)\rEpoch: 36.2%  lr: 0.026246  loss: 0.009407  eta: 0h7m  tot: 0h7m5s  (47.2%)\rEpoch: 36.3%  lr: 0.026236  loss: 0.009395  eta: 0h7m  tot: 0h7m5s  (47.3%)\rEpoch: 36.4%  lr: 0.026216  loss: 0.009388  eta: 0h7m  tot: 0h7m5s  (47.3%)\rEpoch: 36.5%  lr: 0.026196  loss: 0.009385  eta: 0h7m  tot: 0h7m5s  (47.3%)\rEpoch: 36.5%  lr: 0.026196  loss: 0.009409  eta: 0h7m  tot: 0h7m5s  (47.3%)\rEpoch: 36.6%  lr: 0.026186  loss: 0.009426  eta: 0h7m  tot: 0h7m5s  (47.3%)\rEpoch: 36.7%  lr: 0.026186  loss: 0.009414  eta: 0h7m  tot: 0h7m5s  (47.3%)\rEpoch: 36.8%  lr: 0.026166  loss: 0.009412  eta: 0h7m  tot: 0h7m6s  (47.4%)\rEpoch: 36.9%  lr: 0.026156  loss: 0.009401  eta: 0h7m  tot: 0h7m6s  (47.4%)\rEpoch: 37.0%  lr: 0.026126  loss: 0.009411  eta: 0h7m  tot: 0h7m6s  (47.4%)\rEpoch: 37.1%  lr: 0.026106  loss: 0.009416  eta: 0h7m  tot: 0h7m6s  (47.4%)\rEpoch: 37.2%  lr: 0.026096  loss: 0.009412  eta: 0h7m  tot: 0h7m6s  (47.4%)\rEpoch: 37.3%  lr: 0.026096  loss: 0.009406  eta: 0h7m  tot: 0h7m6s  (47.5%)\rEpoch: 37.4%  lr: 0.026096  loss: 0.009398  eta: 0h7m  tot: 0h7m7s  (47.5%)\rEpoch: 37.4%  lr: 0.026096  loss: 0.009407  eta: 0h7m  tot: 0h7m7s  (47.5%)\rEpoch: 37.5%  lr: 0.026086  loss: 0.009395  eta: 0h7m  tot: 0h7m7s  (47.5%)\rEpoch: 37.6%  lr: 0.026086  loss: 0.009383  eta: 0h7m  tot: 0h7m7s  (47.5%)\rEpoch: 37.7%  lr: 0.026086  loss: 0.009378  eta: 0h7m  tot: 0h7m7s  (47.5%)\rEpoch: 37.8%  lr: 0.026076  loss: 0.009363  eta: 0h7m  tot: 0h7m7s  (47.6%)\rEpoch: 37.9%  lr: 0.026066  loss: 0.009364  eta: 0h7m  tot: 0h7m7s  (47.6%)\rEpoch: 38.0%  lr: 0.026056  loss: 0.009348  eta: 0h7m  tot: 0h7m8s  (47.6%)\rEpoch: 38.1%  lr: 0.026056  loss: 0.009344  eta: 0h7m  tot: 0h7m8s  (47.6%)\rEpoch: 38.2%  lr: 0.026046  loss: 0.009344  eta: 0h7m  tot: 0h7m8s  (47.6%)\rEpoch: 38.3%  lr: 0.026046  loss: 0.009349  eta: 0h7m  tot: 0h7m8s  (47.7%)\rEpoch: 38.3%  lr: 0.026026  loss: 0.009360  eta: 0h7m  tot: 0h7m8s  (47.7%)\rEpoch: 38.4%  lr: 0.026006  loss: 0.009351  eta: 0h7m  tot: 0h7m8s  (47.7%)\rEpoch: 38.5%  lr: 0.025996  loss: 0.009343  eta: 0h7m  tot: 0h7m9s  (47.7%)\rEpoch: 38.6%  lr: 0.025986  loss: 0.009360  eta: 0h7m  tot: 0h7m9s  (47.7%)\rEpoch: 38.7%  lr: 0.025986  loss: 0.009351  eta: 0h7m  tot: 0h7m9s  (47.7%)\rEpoch: 38.8%  lr: 0.025976  loss: 0.009346  eta: 0h7m  tot: 0h7m9s  (47.8%)\rEpoch: 38.9%  lr: 0.025976  loss: 0.009347  eta: 0h7m  tot: 0h7m9s  (47.8%)\rEpoch: 39.0%  lr: 0.025946  loss: 0.009336  eta: 0h7m  tot: 0h7m9s  (47.8%)\rEpoch: 39.1%  lr: 0.025946  loss: 0.009337  eta: 0h7m  tot: 0h7m9s  (47.8%)\rEpoch: 39.2%  lr: 0.025936  loss: 0.009337  eta: 0h7m  tot: 0h7m10s  (47.8%)\rEpoch: 39.2%  lr: 0.025916  loss: 0.009328  eta: 0h7m  tot: 0h7m10s  (47.8%)\rEpoch: 39.3%  lr: 0.025916  loss: 0.009332  eta: 0h7m  tot: 0h7m10s  (47.9%)\rEpoch: 39.4%  lr: 0.025896  loss: 0.009338  eta: 0h7m  tot: 0h7m10s  (47.9%)\rEpoch: 39.5%  lr: 0.025886  loss: 0.009327  eta: 0h7m  tot: 0h7m10s  (47.9%)\rEpoch: 39.6%  lr: 0.025886  loss: 0.009325  eta: 0h7m  tot: 0h7m10s  (47.9%)\rEpoch: 39.7%  lr: 0.025866  loss: 0.009311  eta: 0h7m  tot: 0h7m11s  (47.9%)\rEpoch: 39.8%  lr: 0.025856  loss: 0.009333  eta: 0h7m  tot: 0h7m11s  (48.0%)\rEpoch: 39.9%  lr: 0.025836  loss: 0.009353  eta: 0h7m  tot: 0h7m11s  (48.0%)\rEpoch: 40.0%  lr: 0.025826  loss: 0.009347  eta: 0h7m  tot: 0h7m11s  (48.0%)\rEpoch: 40.1%  lr: 0.025796  loss: 0.009356  eta: 0h7m  tot: 0h7m11s  (48.0%)\rEpoch: 40.1%  lr: 0.025786  loss: 0.009374  eta: 0h7m  tot: 0h7m11s  (48.0%)\rEpoch: 40.2%  lr: 0.025766  loss: 0.009363  eta: 0h7m  tot: 0h7m11s  (48.0%)\rEpoch: 40.3%  lr: 0.025766  loss: 0.009365  eta: 0h7m  tot: 0h7m12s  (48.1%)\rEpoch: 40.4%  lr: 0.025766  loss: 0.009351  eta: 0h7m  tot: 0h7m12s  (48.1%)\rEpoch: 40.5%  lr: 0.025756  loss: 0.009349  eta: 0h7m  tot: 0h7m12s  (48.1%)\rEpoch: 40.6%  lr: 0.025756  loss: 0.009344  eta: 0h7m  tot: 0h7m12s  (48.1%)\rEpoch: 40.7%  lr: 0.025726  loss: 0.009345  eta: 0h7m  tot: 0h7m12s  (48.1%)\rEpoch: 40.8%  lr: 0.025716  loss: 0.009336  eta: 0h7m  tot: 0h7m12s  (48.2%)\rEpoch: 40.9%  lr: 0.025706  loss: 0.009342  eta: 0h7m  tot: 0h7m13s  (48.2%)\rEpoch: 41.0%  lr: 0.025696  loss: 0.009379  eta: 0h7m  tot: 0h7m13s  (48.2%)\rEpoch: 41.0%  lr: 0.025686  loss: 0.009384  eta: 0h7m  tot: 0h7m13s  (48.2%)\rEpoch: 41.1%  lr: 0.025686  loss: 0.009382  eta: 0h7m  tot: 0h7m13s  (48.2%)\rEpoch: 41.2%  lr: 0.025686  loss: 0.009399  eta: 0h7m  tot: 0h7m13s  (48.2%)\rEpoch: 41.3%  lr: 0.025666  loss: 0.009398  eta: 0h7m  tot: 0h7m13s  (48.3%)\rEpoch: 41.4%  lr: 0.025656  loss: 0.009408  eta: 0h7m  tot: 0h7m13s  (48.3%)\rEpoch: 41.5%  lr: 0.025656  loss: 0.009422  eta: 0h7m  tot: 0h7m14s  (48.3%)\rEpoch: 41.6%  lr: 0.025656  loss: 0.009430  eta: 0h7m  tot: 0h7m14s  (48.3%)\rEpoch: 41.7%  lr: 0.025656  loss: 0.009463  eta: 0h7m  tot: 0h7m14s  (48.3%)\rEpoch: 41.8%  lr: 0.025656  loss: 0.009467  eta: 0h7m  tot: 0h7m14s  (48.4%)\rEpoch: 41.9%  lr: 0.025656  loss: 0.009468  eta: 0h7m  tot: 0h7m14s  (48.4%)\rEpoch: 42.0%  lr: 0.025636  loss: 0.009480  eta: 0h7m  tot: 0h7m14s  (48.4%)\rEpoch: 42.0%  lr: 0.025616  loss: 0.009488  eta: 0h7m  tot: 0h7m15s  (48.4%)\rEpoch: 42.1%  lr: 0.025596  loss: 0.009485  eta: 0h7m  tot: 0h7m15s  (48.4%)\rEpoch: 42.2%  lr: 0.025596  loss: 0.009498  eta: 0h7m  tot: 0h7m15s  (48.4%)\rEpoch: 42.3%  lr: 0.025596  loss: 0.009489  eta: 0h7m  tot: 0h7m15s  (48.5%)\rEpoch: 42.4%  lr: 0.025586  loss: 0.009480  eta: 0h7m  tot: 0h7m15s  (48.5%)\rEpoch: 42.5%  lr: 0.025576  loss: 0.009492  eta: 0h7m  tot: 0h7m15s  (48.5%)\rEpoch: 42.6%  lr: 0.025566  loss: 0.009492  eta: 0h7m  tot: 0h7m15s  (48.5%)\rEpoch: 42.7%  lr: 0.025556  loss: 0.009507  eta: 0h7m  tot: 0h7m16s  (48.5%)\rEpoch: 42.8%  lr: 0.025556  loss: 0.009498  eta: 0h7m  tot: 0h7m16s  (48.6%)\rEpoch: 42.9%  lr: 0.025546  loss: 0.009511  eta: 0h7m  tot: 0h7m16s  (48.6%)\rEpoch: 42.9%  lr: 0.025546  loss: 0.009517  eta: 0h7m  tot: 0h7m16s  (48.6%)\rEpoch: 43.0%  lr: 0.025536  loss: 0.009507  eta: 0h7m  tot: 0h7m16s  (48.6%)\rEpoch: 43.1%  lr: 0.025526  loss: 0.009508  eta: 0h7m  tot: 0h7m16s  (48.6%)\rEpoch: 43.2%  lr: 0.025496  loss: 0.009514  eta: 0h7m  tot: 0h7m17s  (48.6%)\rEpoch: 43.3%  lr: 0.025496  loss: 0.009499  eta: 0h7m  tot: 0h7m17s  (48.7%)\rEpoch: 43.4%  lr: 0.025496  loss: 0.009491  eta: 0h7m  tot: 0h7m17s  (48.7%)\rEpoch: 43.5%  lr: 0.025496  loss: 0.009491  eta: 0h7m  tot: 0h7m17s  (48.7%)\rEpoch: 43.6%  lr: 0.025476  loss: 0.009486  eta: 0h7m  tot: 0h7m17s  (48.7%)\rEpoch: 43.7%  lr: 0.025466  loss: 0.009472  eta: 0h7m  tot: 0h7m17s  (48.7%)\rEpoch: 43.8%  lr: 0.025466  loss: 0.009484  eta: 0h7m  tot: 0h7m17s  (48.8%)\rEpoch: 43.8%  lr: 0.025456  loss: 0.009503  eta: 0h7m  tot: 0h7m18s  (48.8%)\rEpoch: 43.9%  lr: 0.025446  loss: 0.009489  eta: 0h7m  tot: 0h7m18s  (48.8%)\rEpoch: 44.0%  lr: 0.025425  loss: 0.009479  eta: 0h7m  tot: 0h7m18s  (48.8%)\rEpoch: 44.1%  lr: 0.025425  loss: 0.009473  eta: 0h7m  tot: 0h7m18s  (48.8%)\rEpoch: 44.2%  lr: 0.025415  loss: 0.009468  eta: 0h7m  tot: 0h7m18s  (48.8%)\rEpoch: 44.3%  lr: 0.025405  loss: 0.009473  eta: 0h7m  tot: 0h7m18s  (48.9%)\rEpoch: 44.4%  lr: 0.025405  loss: 0.009471  eta: 0h7m  tot: 0h7m19s  (48.9%)\rEpoch: 44.5%  lr: 0.025405  loss: 0.009467  eta: 0h7m  tot: 0h7m19s  (48.9%)\rEpoch: 44.6%  lr: 0.025395  loss: 0.009462  eta: 0h7m  tot: 0h7m19s  (48.9%)\rEpoch: 44.7%  lr: 0.025385  loss: 0.009459  eta: 0h7m  tot: 0h7m19s  (48.9%)\rEpoch: 44.7%  lr: 0.025355  loss: 0.009448  eta: 0h7m  tot: 0h7m19s  (48.9%)\rEpoch: 44.8%  lr: 0.025355  loss: 0.009450  eta: 0h7m  tot: 0h7m19s  (49.0%)\rEpoch: 44.9%  lr: 0.025355  loss: 0.009441  eta: 0h7m  tot: 0h7m19s  (49.0%)\rEpoch: 45.0%  lr: 0.025355  loss: 0.009448  eta: 0h7m  tot: 0h7m20s  (49.0%)\rEpoch: 45.1%  lr: 0.025345  loss: 0.009451  eta: 0h7m  tot: 0h7m20s  (49.0%)\rEpoch: 45.2%  lr: 0.025335  loss: 0.009444  eta: 0h7m  tot: 0h7m20s  (49.0%)\rEpoch: 45.3%  lr: 0.025325  loss: 0.009450  eta: 0h7m  tot: 0h7m20s  (49.1%)\rEpoch: 45.4%  lr: 0.025325  loss: 0.009440  eta: 0h7m  tot: 0h7m20s  (49.1%)\rEpoch: 45.5%  lr: 0.025325  loss: 0.009438  eta: 0h7m  tot: 0h7m20s  (49.1%)\rEpoch: 45.6%  lr: 0.025315  loss: 0.009448  eta: 0h7m  tot: 0h7m21s  (49.1%)\rEpoch: 45.6%  lr: 0.025305  loss: 0.009454  eta: 0h7m  tot: 0h7m21s  (49.1%)\rEpoch: 45.7%  lr: 0.025295  loss: 0.009448  eta: 0h7m  tot: 0h7m21s  (49.1%)\rEpoch: 45.8%  lr: 0.025285  loss: 0.009448  eta: 0h7m  tot: 0h7m21s  (49.2%)\rEpoch: 45.9%  lr: 0.025265  loss: 0.009441  eta: 0h7m  tot: 0h7m21s  (49.2%)\rEpoch: 46.0%  lr: 0.025265  loss: 0.009443  eta: 0h7m  tot: 0h7m21s  (49.2%)\rEpoch: 46.1%  lr: 0.025245  loss: 0.009457  eta: 0h7m  tot: 0h7m21s  (49.2%)\rEpoch: 46.2%  lr: 0.025235  loss: 0.009461  eta: 0h7m  tot: 0h7m22s  (49.2%)\rEpoch: 46.3%  lr: 0.025215  loss: 0.009479  eta: 0h7m  tot: 0h7m22s  (49.3%)\rEpoch: 46.4%  lr: 0.025185  loss: 0.009482  eta: 0h7m  tot: 0h7m22s  (49.3%)\rEpoch: 46.5%  lr: 0.025185  loss: 0.009471  eta: 0h7m  tot: 0h7m22s  (49.3%)\rEpoch: 46.5%  lr: 0.025175  loss: 0.009481  eta: 0h7m  tot: 0h7m22s  (49.3%)\rEpoch: 46.6%  lr: 0.025175  loss: 0.009487  eta: 0h7m  tot: 0h7m22s  (49.3%)\rEpoch: 46.7%  lr: 0.025175  loss: 0.009483  eta: 0h7m  tot: 0h7m23s  (49.3%)\rEpoch: 46.8%  lr: 0.025165  loss: 0.009480  eta: 0h7m  tot: 0h7m23s  (49.4%)\rEpoch: 46.9%  lr: 0.025165  loss: 0.009481  eta: 0h7m  tot: 0h7m23s  (49.4%)\rEpoch: 47.0%  lr: 0.025155  loss: 0.009488  eta: 0h7m  tot: 0h7m23s  (49.4%)\rEpoch: 47.1%  lr: 0.025155  loss: 0.009485  eta: 0h7m  tot: 0h7m23s  (49.4%)\rEpoch: 47.2%  lr: 0.025145  loss: 0.009481  eta: 0h7m  tot: 0h7m23s  (49.4%)\rEpoch: 47.3%  lr: 0.025135  loss: 0.009492  eta: 0h7m  tot: 0h7m23s  (49.5%)\rEpoch: 47.4%  lr: 0.025105  loss: 0.009496  eta: 0h7m  tot: 0h7m24s  (49.5%)\rEpoch: 47.4%  lr: 0.025085  loss: 0.009516  eta: 0h7m  tot: 0h7m24s  (49.5%)\rEpoch: 47.5%  lr: 0.025075  loss: 0.009507  eta: 0h7m  tot: 0h7m24s  (49.5%)\rEpoch: 47.6%  lr: 0.025065  loss: 0.009494  eta: 0h7m  tot: 0h7m24s  (49.5%)\rEpoch: 47.7%  lr: 0.025065  loss: 0.009499  eta: 0h7m  tot: 0h7m24s  (49.5%)\rEpoch: 47.8%  lr: 0.025065  loss: 0.009500  eta: 0h7m  tot: 0h7m24s  (49.6%)\rEpoch: 47.9%  lr: 0.025065  loss: 0.009502  eta: 0h7m  tot: 0h7m25s  (49.6%)\rEpoch: 48.0%  lr: 0.025065  loss: 0.009494  eta: 0h7m  tot: 0h7m25s  (49.6%)\rEpoch: 48.1%  lr: 0.025065  loss: 0.009491  eta: 0h7m  tot: 0h7m25s  (49.6%)\rEpoch: 48.2%  lr: 0.025055  loss: 0.009482  eta: 0h7m  tot: 0h7m25s  (49.6%)\rEpoch: 48.3%  lr: 0.025055  loss: 0.009514  eta: 0h7m  tot: 0h7m25s  (49.7%)\rEpoch: 48.3%  lr: 0.025045  loss: 0.009520  eta: 0h7m  tot: 0h7m25s  (49.7%)\rEpoch: 48.4%  lr: 0.025045  loss: 0.009517  eta: 0h7m  tot: 0h7m25s  (49.7%)\rEpoch: 48.5%  lr: 0.025045  loss: 0.009528  eta: 0h7m  tot: 0h7m26s  (49.7%)\rEpoch: 48.6%  lr: 0.025045  loss: 0.009520  eta: 0h7m  tot: 0h7m26s  (49.7%)\rEpoch: 48.7%  lr: 0.025025  loss: 0.009526  eta: 0h7m  tot: 0h7m26s  (49.7%)\rEpoch: 48.8%  lr: 0.025005  loss: 0.009530  eta: 0h7m  tot: 0h7m26s  (49.8%)\rEpoch: 48.9%  lr: 0.024985  loss: 0.009517  eta: 0h7m  tot: 0h7m26s  (49.8%)\rEpoch: 49.0%  lr: 0.024985  loss: 0.009510  eta: 0h7m  tot: 0h7m26s  (49.8%)\rEpoch: 49.1%  lr: 0.024985  loss: 0.009518  eta: 0h7m  tot: 0h7m27s  (49.8%)\rEpoch: 49.2%  lr: 0.024975  loss: 0.009527  eta: 0h7m  tot: 0h7m27s  (49.8%)\rEpoch: 49.2%  lr: 0.024925  loss: 0.009529  eta: 0h7m  tot: 0h7m27s  (49.8%)\rEpoch: 49.3%  lr: 0.024925  loss: 0.009546  eta: 0h7m  tot: 0h7m27s  (49.9%)\rEpoch: 49.4%  lr: 0.024915  loss: 0.009557  eta: 0h7m  tot: 0h7m27s  (49.9%)\rEpoch: 49.5%  lr: 0.024905  loss: 0.009556  eta: 0h7m  tot: 0h7m27s  (49.9%)\rEpoch: 49.6%  lr: 0.024885  loss: 0.009570  eta: 0h7m  tot: 0h7m28s  (49.9%)\rEpoch: 49.7%  lr: 0.024885  loss: 0.009557  eta: 0h7m  tot: 0h7m28s  (49.9%)\rEpoch: 49.8%  lr: 0.024885  loss: 0.009555  eta: 0h7m  tot: 0h7m28s  (50.0%)\rEpoch: 49.9%  lr: 0.024865  loss: 0.009555  eta: 0h7m  tot: 0h7m28s  (50.0%)\rEpoch: 50.0%  lr: 0.024855  loss: 0.009549  eta: 0h7m  tot: 0h7m28s  (50.0%)\rEpoch: 50.1%  lr: 0.024855  loss: 0.009547  eta: 0h7m  tot: 0h7m28s  (50.0%)\rEpoch: 50.1%  lr: 0.024855  loss: 0.009533  eta: 0h7m  tot: 0h7m28s  (50.0%)\rEpoch: 50.2%  lr: 0.024845  loss: 0.009524  eta: 0h7m  tot: 0h7m29s  (50.0%)\rEpoch: 50.3%  lr: 0.024835  loss: 0.009519  eta: 0h7m  tot: 0h7m29s  (50.1%)\rEpoch: 50.4%  lr: 0.024835  loss: 0.009518  eta: 0h7m  tot: 0h7m29s  (50.1%)\rEpoch: 50.5%  lr: 0.024825  loss: 0.009517  eta: 0h7m  tot: 0h7m29s  (50.1%)\rEpoch: 50.6%  lr: 0.024825  loss: 0.009526  eta: 0h7m  tot: 0h7m29s  (50.1%)\rEpoch: 50.7%  lr: 0.024825  loss: 0.009522  eta: 0h7m  tot: 0h7m29s  (50.1%)\rEpoch: 50.8%  lr: 0.024805  loss: 0.009540  eta: 0h7m  tot: 0h7m30s  (50.2%)\rEpoch: 50.9%  lr: 0.024805  loss: 0.009539  eta: 0h7m  tot: 0h7m30s  (50.2%)\rEpoch: 51.0%  lr: 0.024805  loss: 0.009532  eta: 0h7m  tot: 0h7m30s  (50.2%)\rEpoch: 51.0%  lr: 0.024795  loss: 0.009523  eta: 0h7m  tot: 0h7m30s  (50.2%)\rEpoch: 51.1%  lr: 0.024785  loss: 0.009522  eta: 0h7m  tot: 0h7m30s  (50.2%)\rEpoch: 51.2%  lr: 0.024785  loss: 0.009530  eta: 0h7m  tot: 0h7m30s  (50.2%)\rEpoch: 51.3%  lr: 0.024775  loss: 0.009526  eta: 0h7m  tot: 0h7m30s  (50.3%)\rEpoch: 51.4%  lr: 0.024775  loss: 0.009521  eta: 0h7m  tot: 0h7m31s  (50.3%)\rEpoch: 51.5%  lr: 0.024765  loss: 0.009522  eta: 0h7m  tot: 0h7m31s  (50.3%)\rEpoch: 51.6%  lr: 0.024765  loss: 0.009515  eta: 0h7m  tot: 0h7m31s  (50.3%)\rEpoch: 51.7%  lr: 0.024765  loss: 0.009512  eta: 0h7m  tot: 0h7m31s  (50.3%)\rEpoch: 51.8%  lr: 0.024755  loss: 0.009503  eta: 0h7m  tot: 0h7m31s  (50.4%)\rEpoch: 51.9%  lr: 0.024755  loss: 0.009514  eta: 0h7m  tot: 0h7m31s  (50.4%)\rEpoch: 51.9%  lr: 0.024755  loss: 0.009509  eta: 0h7m  tot: 0h7m32s  (50.4%)\rEpoch: 52.0%  lr: 0.024755  loss: 0.009513  eta: 0h7m  tot: 0h7m32s  (50.4%)\rEpoch: 52.1%  lr: 0.024735  loss: 0.009505  eta: 0h7m  tot: 0h7m32s  (50.4%)\rEpoch: 52.2%  lr: 0.024735  loss: 0.009509  eta: 0h7m  tot: 0h7m32s  (50.4%)\rEpoch: 52.3%  lr: 0.024725  loss: 0.009515  eta: 0h7m  tot: 0h7m32s  (50.5%)\rEpoch: 52.4%  lr: 0.024715  loss: 0.009504  eta: 0h7m  tot: 0h7m32s  (50.5%)\rEpoch: 52.5%  lr: 0.024715  loss: 0.009495  eta: 0h7m  tot: 0h7m32s  (50.5%)\rEpoch: 52.6%  lr: 0.024715  loss: 0.009524  eta: 0h7m  tot: 0h7m33s  (50.5%)\rEpoch: 52.7%  lr: 0.024695  loss: 0.009528  eta: 0h7m  tot: 0h7m33s  (50.5%)\rEpoch: 52.8%  lr: 0.024695  loss: 0.009527  eta: 0h7m  tot: 0h7m33s  (50.6%)\rEpoch: 52.8%  lr: 0.024695  loss: 0.009518  eta: 0h7m  tot: 0h7m33s  (50.6%)\rEpoch: 52.9%  lr: 0.024685  loss: 0.009505  eta: 0h7m  tot: 0h7m33s  (50.6%)\rEpoch: 53.0%  lr: 0.024675  loss: 0.009504  eta: 0h7m  tot: 0h7m33s  (50.6%)\rEpoch: 53.1%  lr: 0.024665  loss: 0.009492  eta: 0h7m  tot: 0h7m34s  (50.6%)\rEpoch: 53.2%  lr: 0.024665  loss: 0.009482  eta: 0h7m  tot: 0h7m34s  (50.6%)\rEpoch: 53.3%  lr: 0.024655  loss: 0.009474  eta: 0h7m  tot: 0h7m34s  (50.7%)\rEpoch: 53.4%  lr: 0.024645  loss: 0.009479  eta: 0h7m  tot: 0h7m34s  (50.7%)\rEpoch: 53.5%  lr: 0.024635  loss: 0.009482  eta: 0h7m  tot: 0h7m34s  (50.7%)\rEpoch: 53.6%  lr: 0.024625  loss: 0.009485  eta: 0h7m  tot: 0h7m34s  (50.7%)\rEpoch: 53.7%  lr: 0.024595  loss: 0.009501  eta: 0h7m  tot: 0h7m34s  (50.7%)\rEpoch: 53.7%  lr: 0.024585  loss: 0.009490  eta: 0h7m  tot: 0h7m35s  (50.7%)\rEpoch: 53.8%  lr: 0.024585  loss: 0.009478  eta: 0h7m  tot: 0h7m35s  (50.8%)\rEpoch: 53.9%  lr: 0.024575  loss: 0.009466  eta: 0h7m  tot: 0h7m35s  (50.8%)\rEpoch: 54.0%  lr: 0.024575  loss: 0.009469  eta: 0h7m  tot: 0h7m35s  (50.8%)\rEpoch: 54.1%  lr: 0.024565  loss: 0.009465  eta: 0h6m  tot: 0h7m35s  (50.8%)\rEpoch: 54.2%  lr: 0.024555  loss: 0.009463  eta: 0h6m  tot: 0h7m35s  (50.8%)\rEpoch: 54.3%  lr: 0.024545  loss: 0.009495  eta: 0h6m  tot: 0h7m36s  (50.9%)\rEpoch: 54.4%  lr: 0.024535  loss: 0.009497  eta: 0h6m  tot: 0h7m36s  (50.9%)\rEpoch: 54.5%  lr: 0.024535  loss: 0.009500  eta: 0h6m  tot: 0h7m36s  (50.9%)\rEpoch: 54.6%  lr: 0.024525  loss: 0.009497  eta: 0h6m  tot: 0h7m36s  (50.9%)\rEpoch: 54.6%  lr: 0.024525  loss: 0.009501  eta: 0h6m  tot: 0h7m36s  (50.9%)\rEpoch: 54.7%  lr: 0.024515  loss: 0.009491  eta: 0h6m  tot: 0h7m36s  (50.9%)\rEpoch: 54.8%  lr: 0.024515  loss: 0.009484  eta: 0h6m  tot: 0h7m36s  (51.0%)\rEpoch: 54.9%  lr: 0.024505  loss: 0.009485  eta: 0h6m  tot: 0h7m37s  (51.0%)\rEpoch: 55.0%  lr: 0.024485  loss: 0.009496  eta: 0h6m  tot: 0h7m37s  (51.0%)\rEpoch: 55.1%  lr: 0.024475  loss: 0.009485  eta: 0h6m  tot: 0h7m37s  (51.0%)\rEpoch: 55.2%  lr: 0.024465  loss: 0.009480  eta: 0h6m  tot: 0h7m37s  (51.0%)\rEpoch: 55.3%  lr: 0.024455  loss: 0.009488  eta: 0h6m  tot: 0h7m37s  (51.1%)\rEpoch: 55.4%  lr: 0.024445  loss: 0.009495  eta: 0h6m  tot: 0h7m37s  (51.1%)\rEpoch: 55.5%  lr: 0.024445  loss: 0.009497  eta: 0h6m  tot: 0h7m38s  (51.1%)\rEpoch: 55.5%  lr: 0.024425  loss: 0.009501  eta: 0h6m  tot: 0h7m38s  (51.1%)\rEpoch: 55.6%  lr: 0.024404  loss: 0.009490  eta: 0h6m  tot: 0h7m38s  (51.1%)\rEpoch: 55.7%  lr: 0.024394  loss: 0.009505  eta: 0h6m  tot: 0h7m38s  (51.1%)\rEpoch: 55.8%  lr: 0.024384  loss: 0.009493  eta: 0h6m  tot: 0h7m38s  (51.2%)\rEpoch: 55.9%  lr: 0.024374  loss: 0.009489  eta: 0h6m  tot: 0h7m38s  (51.2%)\rEpoch: 56.0%  lr: 0.024364  loss: 0.009492  eta: 0h6m  tot: 0h7m38s  (51.2%)\rEpoch: 56.1%  lr: 0.024354  loss: 0.009483  eta: 0h6m  tot: 0h7m39s  (51.2%)\rEpoch: 56.2%  lr: 0.024344  loss: 0.009474  eta: 0h6m  tot: 0h7m39s  (51.2%)\rEpoch: 56.3%  lr: 0.024334  loss: 0.009481  eta: 0h6m  tot: 0h7m39s  (51.3%)\rEpoch: 56.4%  lr: 0.024314  loss: 0.009472  eta: 0h6m  tot: 0h7m39s  (51.3%)\rEpoch: 56.4%  lr: 0.024314  loss: 0.009478  eta: 0h6m  tot: 0h7m39s  (51.3%)\rEpoch: 56.5%  lr: 0.024294  loss: 0.009478  eta: 0h6m  tot: 0h7m39s  (51.3%)\rEpoch: 56.6%  lr: 0.024274  loss: 0.009473  eta: 0h6m  tot: 0h7m40s  (51.3%)\rEpoch: 56.7%  lr: 0.024274  loss: 0.009482  eta: 0h6m  tot: 0h7m40s  (51.3%)\rEpoch: 56.8%  lr: 0.024254  loss: 0.009510  eta: 0h6m  tot: 0h7m40s  (51.4%)\rEpoch: 56.9%  lr: 0.024254  loss: 0.009515  eta: 0h6m  tot: 0h7m40s  (51.4%)\rEpoch: 57.0%  lr: 0.024234  loss: 0.009510  eta: 0h6m  tot: 0h7m40s  (51.4%)\rEpoch: 57.1%  lr: 0.024224  loss: 0.009534  eta: 0h6m  tot: 0h7m40s  (51.4%)\rEpoch: 57.2%  lr: 0.024214  loss: 0.009527  eta: 0h6m  tot: 0h7m41s  (51.4%)\rEpoch: 57.3%  lr: 0.024174  loss: 0.009528  eta: 0h6m  tot: 0h7m41s  (51.5%)\rEpoch: 57.3%  lr: 0.024154  loss: 0.009519  eta: 0h6m  tot: 0h7m41s  (51.5%)\rEpoch: 57.4%  lr: 0.024144  loss: 0.009532  eta: 0h6m  tot: 0h7m41s  (51.5%)\rEpoch: 57.5%  lr: 0.024144  loss: 0.009528  eta: 0h6m  tot: 0h7m41s  (51.5%)\rEpoch: 57.6%  lr: 0.024144  loss: 0.009529  eta: 0h6m  tot: 0h7m41s  (51.5%)\rEpoch: 57.7%  lr: 0.024144  loss: 0.009525  eta: 0h6m  tot: 0h7m41s  (51.5%)\rEpoch: 57.8%  lr: 0.024144  loss: 0.009515  eta: 0h6m  tot: 0h7m42s  (51.6%)\rEpoch: 57.9%  lr: 0.024114  loss: 0.009507  eta: 0h6m  tot: 0h7m42s  (51.6%)\rEpoch: 58.0%  lr: 0.024114  loss: 0.009503  eta: 0h6m  tot: 0h7m42s  (51.6%)\rEpoch: 58.1%  lr: 0.024114  loss: 0.009511  eta: 0h6m  tot: 0h7m42s  (51.6%)\rEpoch: 58.2%  lr: 0.024114  loss: 0.009506  eta: 0h6m  tot: 0h7m42s  (51.6%)\rEpoch: 58.2%  lr: 0.024114  loss: 0.009511  eta: 0h6m  tot: 0h7m42s  (51.6%)\rEpoch: 58.3%  lr: 0.024094  loss: 0.009523  eta: 0h6m  tot: 0h7m43s  (51.7%)\rEpoch: 58.4%  lr: 0.024084  loss: 0.009523  eta: 0h6m  tot: 0h7m43s  (51.7%)\rEpoch: 58.5%  lr: 0.024074  loss: 0.009519  eta: 0h6m  tot: 0h7m43s  (51.7%)\rEpoch: 58.6%  lr: 0.024054  loss: 0.009523  eta: 0h6m  tot: 0h7m43s  (51.7%)\rEpoch: 58.7%  lr: 0.024034  loss: 0.009518  eta: 0h6m  tot: 0h7m43s  (51.7%)\rEpoch: 58.8%  lr: 0.024034  loss: 0.009507  eta: 0h6m  tot: 0h7m43s  (51.8%)\rEpoch: 58.9%  lr: 0.024024  loss: 0.009512  eta: 0h6m  tot: 0h7m43s  (51.8%)\rEpoch: 59.0%  lr: 0.024004  loss: 0.009508  eta: 0h6m  tot: 0h7m44s  (51.8%)\rEpoch: 59.1%  lr: 0.024004  loss: 0.009508  eta: 0h6m  tot: 0h7m44s  (51.8%)\rEpoch: 59.1%  lr: 0.023994  loss: 0.009501  eta: 0h6m  tot: 0h7m44s  (51.8%)\rEpoch: 59.2%  lr: 0.023984  loss: 0.009495  eta: 0h6m  tot: 0h7m44s  (51.8%)\rEpoch: 59.3%  lr: 0.023984  loss: 0.009500  eta: 0h6m  tot: 0h7m44s  (51.9%)\rEpoch: 59.4%  lr: 0.023984  loss: 0.009503  eta: 0h6m  tot: 0h7m44s  (51.9%)\rEpoch: 59.5%  lr: 0.023964  loss: 0.009511  eta: 0h6m  tot: 0h7m45s  (51.9%)\rEpoch: 59.6%  lr: 0.023944  loss: 0.009502  eta: 0h6m  tot: 0h7m45s  (51.9%)\rEpoch: 59.7%  lr: 0.023934  loss: 0.009505  eta: 0h6m  tot: 0h7m45s  (51.9%)\rEpoch: 59.8%  lr: 0.023934  loss: 0.009505  eta: 0h6m  tot: 0h7m45s  (52.0%)\rEpoch: 59.9%  lr: 0.023934  loss: 0.009499  eta: 0h6m  tot: 0h7m45s  (52.0%)\rEpoch: 60.0%  lr: 0.023894  loss: 0.009501  eta: 0h6m  tot: 0h7m45s  (52.0%)\rEpoch: 60.0%  lr: 0.023884  loss: 0.009490  eta: 0h6m  tot: 0h7m45s  (52.0%)\rEpoch: 60.1%  lr: 0.023874  loss: 0.009478  eta: 0h6m  tot: 0h7m46s  (52.0%)\rEpoch: 60.2%  lr: 0.023844  loss: 0.009475  eta: 0h6m  tot: 0h7m46s  (52.0%)\rEpoch: 60.3%  lr: 0.023844  loss: 0.009470  eta: 0h6m  tot: 0h7m46s  (52.1%)\rEpoch: 60.4%  lr: 0.023824  loss: 0.009468  eta: 0h6m  tot: 0h7m46s  (52.1%)\rEpoch: 60.5%  lr: 0.023824  loss: 0.009467  eta: 0h6m  tot: 0h7m46s  (52.1%)\rEpoch: 60.6%  lr: 0.023804  loss: 0.009466  eta: 0h6m  tot: 0h7m46s  (52.1%)\rEpoch: 60.7%  lr: 0.023784  loss: 0.009463  eta: 0h6m  tot: 0h7m47s  (52.1%)\rEpoch: 60.8%  lr: 0.023784  loss: 0.009483  eta: 0h6m  tot: 0h7m47s  (52.2%)\rEpoch: 60.9%  lr: 0.023774  loss: 0.009486  eta: 0h6m  tot: 0h7m47s  (52.2%)\rEpoch: 60.9%  lr: 0.023744  loss: 0.009482  eta: 0h6m  tot: 0h7m47s  (52.2%)\rEpoch: 61.0%  lr: 0.023724  loss: 0.009492  eta: 0h6m  tot: 0h7m47s  (52.2%)\rEpoch: 61.1%  lr: 0.023724  loss: 0.009484  eta: 0h6m  tot: 0h7m47s  (52.2%)\rEpoch: 61.2%  lr: 0.023714  loss: 0.009479  eta: 0h6m  tot: 0h7m47s  (52.2%)\rEpoch: 61.3%  lr: 0.023704  loss: 0.009477  eta: 0h6m  tot: 0h7m48s  (52.3%)\rEpoch: 61.4%  lr: 0.023704  loss: 0.009471  eta: 0h6m  tot: 0h7m48s  (52.3%)\rEpoch: 61.5%  lr: 0.023704  loss: 0.009473  eta: 0h6m  tot: 0h7m48s  (52.3%)\rEpoch: 61.6%  lr: 0.023694  loss: 0.009466  eta: 0h6m  tot: 0h7m48s  (52.3%)\rEpoch: 61.7%  lr: 0.023694  loss: 0.009464  eta: 0h6m  tot: 0h7m48s  (52.3%)\rEpoch: 61.8%  lr: 0.023694  loss: 0.009463  eta: 0h6m  tot: 0h7m48s  (52.4%)\rEpoch: 61.8%  lr: 0.023664  loss: 0.009479  eta: 0h6m  tot: 0h7m49s  (52.4%)\rEpoch: 61.9%  lr: 0.023664  loss: 0.009473  eta: 0h6m  tot: 0h7m49s  (52.4%)\rEpoch: 62.0%  lr: 0.023654  loss: 0.009466  eta: 0h6m  tot: 0h7m49s  (52.4%)\rEpoch: 62.1%  lr: 0.023654  loss: 0.009472  eta: 0h6m  tot: 0h7m49s  (52.4%)\rEpoch: 62.2%  lr: 0.023654  loss: 0.009463  eta: 0h6m  tot: 0h7m49s  (52.4%)\rEpoch: 62.3%  lr: 0.023644  loss: 0.009471  eta: 0h6m  tot: 0h7m49s  (52.5%)\rEpoch: 62.4%  lr: 0.023644  loss: 0.009470  eta: 0h6m  tot: 0h7m50s  (52.5%)\rEpoch: 62.5%  lr: 0.023644  loss: 0.009474  eta: 0h6m  tot: 0h7m50s  (52.5%)\rEpoch: 62.6%  lr: 0.023644  loss: 0.009469  eta: 0h6m  tot: 0h7m50s  (52.5%)\rEpoch: 62.7%  lr: 0.023624  loss: 0.009471  eta: 0h6m  tot: 0h7m50s  (52.5%)\rEpoch: 62.7%  lr: 0.023624  loss: 0.009486  eta: 0h6m  tot: 0h7m50s  (52.5%)\rEpoch: 62.8%  lr: 0.023594  loss: 0.009476  eta: 0h6m  tot: 0h7m50s  (52.6%)\rEpoch: 62.9%  lr: 0.023564  loss: 0.009472  eta: 0h6m  tot: 0h7m50s  (52.6%)\rEpoch: 63.0%  lr: 0.023554  loss: 0.009479  eta: 0h6m  tot: 0h7m51s  (52.6%)\rEpoch: 63.1%  lr: 0.023554  loss: 0.009472  eta: 0h6m  tot: 0h7m51s  (52.6%)\rEpoch: 63.2%  lr: 0.023554  loss: 0.009479  eta: 0h6m  tot: 0h7m51s  (52.6%)\rEpoch: 63.3%  lr: 0.023554  loss: 0.009484  eta: 0h6m  tot: 0h7m51s  (52.7%)\rEpoch: 63.4%  lr: 0.023544  loss: 0.009482  eta: 0h6m  tot: 0h7m51s  (52.7%)\rEpoch: 63.5%  lr: 0.023544  loss: 0.009476  eta: 0h6m  tot: 0h7m51s  (52.7%)\rEpoch: 63.6%  lr: 0.023524  loss: 0.009478  eta: 0h6m  tot: 0h7m52s  (52.7%)\rEpoch: 63.6%  lr: 0.023524  loss: 0.009475  eta: 0h6m  tot: 0h7m52s  (52.7%)\rEpoch: 63.7%  lr: 0.023504  loss: 0.009473  eta: 0h6m  tot: 0h7m52s  (52.7%)\rEpoch: 63.8%  lr: 0.023494  loss: 0.009468  eta: 0h6m  tot: 0h7m52s  (52.8%)\rEpoch: 63.9%  lr: 0.023494  loss: 0.009474  eta: 0h6m  tot: 0h7m52s  (52.8%)\rEpoch: 64.0%  lr: 0.023484  loss: 0.009477  eta: 0h6m  tot: 0h7m52s  (52.8%)\rEpoch: 64.1%  lr: 0.023474  loss: 0.009479  eta: 0h6m  tot: 0h7m52s  (52.8%)\rEpoch: 64.2%  lr: 0.023474  loss: 0.009480  eta: 0h6m  tot: 0h7m53s  (52.8%)\rEpoch: 64.3%  lr: 0.023464  loss: 0.009475  eta: 0h6m  tot: 0h7m53s  (52.9%)\rEpoch: 64.4%  lr: 0.023464  loss: 0.009468  eta: 0h6m  tot: 0h7m53s  (52.9%)\rEpoch: 64.5%  lr: 0.023454  loss: 0.009470  eta: 0h6m  tot: 0h7m53s  (52.9%)\rEpoch: 64.5%  lr: 0.023454  loss: 0.009485  eta: 0h6m  tot: 0h7m53s  (52.9%)\rEpoch: 64.6%  lr: 0.023434  loss: 0.009487  eta: 0h6m  tot: 0h7m53s  (52.9%)\rEpoch: 64.7%  lr: 0.023404  loss: 0.009485  eta: 0h6m  tot: 0h7m54s  (52.9%)\rEpoch: 64.8%  lr: 0.023404  loss: 0.009481  eta: 0h6m  tot: 0h7m54s  (53.0%)\rEpoch: 64.9%  lr: 0.023383  loss: 0.009479  eta: 0h6m  tot: 0h7m54s  (53.0%)\rEpoch: 65.0%  lr: 0.023373  loss: 0.009479  eta: 0h6m  tot: 0h7m54s  (53.0%)\rEpoch: 65.1%  lr: 0.023363  loss: 0.009477  eta: 0h6m  tot: 0h7m54s  (53.0%)\rEpoch: 65.2%  lr: 0.023363  loss: 0.009482  eta: 0h6m  tot: 0h7m54s  (53.0%)\rEpoch: 65.3%  lr: 0.023353  loss: 0.009476  eta: 0h6m  tot: 0h7m54s  (53.1%)\rEpoch: 65.4%  lr: 0.023343  loss: 0.009471  eta: 0h6m  tot: 0h7m55s  (53.1%)\rEpoch: 65.4%  lr: 0.023333  loss: 0.009476  eta: 0h6m  tot: 0h7m55s  (53.1%)\rEpoch: 65.5%  lr: 0.023323  loss: 0.009469  eta: 0h6m  tot: 0h7m55s  (53.1%)\rEpoch: 65.6%  lr: 0.023303  loss: 0.009465  eta: 0h6m  tot: 0h7m55s  (53.1%)\rEpoch: 65.7%  lr: 0.023273  loss: 0.009462  eta: 0h6m  tot: 0h7m55s  (53.1%)\rEpoch: 65.8%  lr: 0.023263  loss: 0.009466  eta: 0h6m  tot: 0h7m55s  (53.2%)\rEpoch: 65.9%  lr: 0.023243  loss: 0.009470  eta: 0h6m  tot: 0h7m56s  (53.2%)\rEpoch: 66.0%  lr: 0.023233  loss: 0.009476  eta: 0h6m  tot: 0h7m56s  (53.2%)\rEpoch: 66.1%  lr: 0.023233  loss: 0.009494  eta: 0h6m  tot: 0h7m56s  (53.2%)\rEpoch: 66.2%  lr: 0.023213  loss: 0.009495  eta: 0h6m  tot: 0h7m56s  (53.2%)\rEpoch: 66.3%  lr: 0.023213  loss: 0.009494  eta: 0h6m  tot: 0h7m56s  (53.3%)\rEpoch: 66.3%  lr: 0.023193  loss: 0.009499  eta: 0h6m  tot: 0h7m56s  (53.3%)\rEpoch: 66.4%  lr: 0.023183  loss: 0.009496  eta: 0h6m  tot: 0h7m56s  (53.3%)\rEpoch: 66.5%  lr: 0.023173  loss: 0.009488  eta: 0h6m  tot: 0h7m57s  (53.3%)\rEpoch: 66.6%  lr: 0.023163  loss: 0.009487  eta: 0h6m  tot: 0h7m57s  (53.3%)\rEpoch: 66.7%  lr: 0.023163  loss: 0.009476  eta: 0h6m  tot: 0h7m57s  (53.3%)\rEpoch: 66.8%  lr: 0.023163  loss: 0.009509  eta: 0h6m  tot: 0h7m57s  (53.4%)\rEpoch: 66.9%  lr: 0.023153  loss: 0.009504  eta: 0h6m  tot: 0h7m57s  (53.4%)\rEpoch: 67.0%  lr: 0.023153  loss: 0.009500  eta: 0h6m  tot: 0h7m57s  (53.4%)\rEpoch: 67.1%  lr: 0.023143  loss: 0.009508  eta: 0h6m  tot: 0h7m58s  (53.4%)\rEpoch: 67.2%  lr: 0.023123  loss: 0.009516  eta: 0h6m  tot: 0h7m58s  (53.4%)\rEpoch: 67.2%  lr: 0.023123  loss: 0.009511  eta: 0h6m  tot: 0h7m58s  (53.4%)\rEpoch: 67.3%  lr: 0.023103  loss: 0.009507  eta: 0h6m  tot: 0h7m58s  (53.5%)\rEpoch: 67.4%  lr: 0.023103  loss: 0.009506  eta: 0h6m  tot: 0h7m58s  (53.5%)\rEpoch: 67.5%  lr: 0.023103  loss: 0.009516  eta: 0h6m  tot: 0h7m58s  (53.5%)\rEpoch: 67.6%  lr: 0.023103  loss: 0.009513  eta: 0h6m  tot: 0h7m58s  (53.5%)\rEpoch: 67.7%  lr: 0.023083  loss: 0.009510  eta: 0h6m  tot: 0h7m59s  (53.5%)\rEpoch: 67.8%  lr: 0.023053  loss: 0.009514  eta: 0h6m  tot: 0h7m59s  (53.6%)\rEpoch: 67.9%  lr: 0.023043  loss: 0.009510  eta: 0h6m  tot: 0h7m59s  (53.6%)\rEpoch: 68.0%  lr: 0.023033  loss: 0.009501  eta: 0h6m  tot: 0h7m59s  (53.6%)\rEpoch: 68.1%  lr: 0.023033  loss: 0.009498  eta: 0h6m  tot: 0h7m59s  (53.6%)\rEpoch: 68.1%  lr: 0.023013  loss: 0.009505  eta: 0h6m  tot: 0h7m59s  (53.6%)\rEpoch: 68.2%  lr: 0.023003  loss: 0.009502  eta: 0h6m  tot: 0h8m0s  (53.6%)\rEpoch: 68.3%  lr: 0.023003  loss: 0.009505  eta: 0h6m  tot: 0h8m0s  (53.7%)\rEpoch: 68.4%  lr: 0.022993  loss: 0.009497  eta: 0h6m  tot: 0h8m0s  (53.7%)\rEpoch: 68.5%  lr: 0.022993  loss: 0.009489  eta: 0h6m  tot: 0h8m0s  (53.7%)\rEpoch: 68.6%  lr: 0.022983  loss: 0.009494  eta: 0h6m  tot: 0h8m0s  (53.7%)\rEpoch: 68.7%  lr: 0.022983  loss: 0.009488  eta: 0h6m  tot: 0h8m0s  (53.7%)\rEpoch: 68.8%  lr: 0.022983  loss: 0.009507  eta: 0h6m  tot: 0h8m0s  (53.8%)\rEpoch: 68.9%  lr: 0.022973  loss: 0.009514  eta: 0h6m  tot: 0h8m1s  (53.8%)\rEpoch: 69.0%  lr: 0.022963  loss: 0.009532  eta: 0h6m  tot: 0h8m1s  (53.8%)\rEpoch: 69.0%  lr: 0.022963  loss: 0.009532  eta: 0h6m  tot: 0h8m1s  (53.8%)\rEpoch: 69.1%  lr: 0.022923  loss: 0.009532  eta: 0h6m  tot: 0h8m1s  (53.8%)\rEpoch: 69.2%  lr: 0.022923  loss: 0.009530  eta: 0h6m  tot: 0h8m1s  (53.8%)\rEpoch: 69.3%  lr: 0.022913  loss: 0.009528  eta: 0h6m  tot: 0h8m1s  (53.9%)\rEpoch: 69.4%  lr: 0.022913  loss: 0.009531  eta: 0h6m  tot: 0h8m2s  (53.9%)\rEpoch: 69.5%  lr: 0.022913  loss: 0.009527  eta: 0h6m  tot: 0h8m2s  (53.9%)\rEpoch: 69.6%  lr: 0.022903  loss: 0.009522  eta: 0h6m  tot: 0h8m2s  (53.9%)\rEpoch: 69.7%  lr: 0.022903  loss: 0.009524  eta: 0h6m  tot: 0h8m2s  (53.9%)\rEpoch: 69.8%  lr: 0.022893  loss: 0.009522  eta: 0h6m  tot: 0h8m2s  (54.0%)\rEpoch: 69.9%  lr: 0.022893  loss: 0.009523  eta: 0h6m  tot: 0h8m2s  (54.0%)\rEpoch: 69.9%  lr: 0.022893  loss: 0.009522  eta: 0h6m  tot: 0h8m2s  (54.0%)\rEpoch: 70.0%  lr: 0.022893  loss: 0.009530  eta: 0h6m  tot: 0h8m3s  (54.0%)\rEpoch: 70.1%  lr: 0.022893  loss: 0.009534  eta: 0h6m  tot: 0h8m3s  (54.0%)\rEpoch: 70.2%  lr: 0.022893  loss: 0.009534  eta: 0h6m  tot: 0h8m3s  (54.0%)\rEpoch: 70.3%  lr: 0.022893  loss: 0.009531  eta: 0h6m  tot: 0h8m3s  (54.1%)\rEpoch: 70.4%  lr: 0.022883  loss: 0.009524  eta: 0h6m  tot: 0h8m3s  (54.1%)\rEpoch: 70.5%  lr: 0.022873  loss: 0.009517  eta: 0h6m  tot: 0h8m3s  (54.1%)\rEpoch: 70.6%  lr: 0.022863  loss: 0.009519  eta: 0h6m  tot: 0h8m4s  (54.1%)\rEpoch: 70.7%  lr: 0.022853  loss: 0.009513  eta: 0h6m  tot: 0h8m4s  (54.1%)\rEpoch: 70.8%  lr: 0.022853  loss: 0.009509  eta: 0h6m  tot: 0h8m4s  (54.2%)\rEpoch: 70.8%  lr: 0.022853  loss: 0.009503  eta: 0h6m  tot: 0h8m4s  (54.2%)\rEpoch: 70.9%  lr: 0.022853  loss: 0.009496  eta: 0h6m  tot: 0h8m4s  (54.2%)\rEpoch: 71.0%  lr: 0.022843  loss: 0.009491  eta: 0h6m  tot: 0h8m4s  (54.2%)\rEpoch: 71.1%  lr: 0.022823  loss: 0.009485  eta: 0h6m  tot: 0h8m4s  (54.2%)\rEpoch: 71.2%  lr: 0.022793  loss: 0.009488  eta: 0h6m  tot: 0h8m5s  (54.2%)\rEpoch: 71.3%  lr: 0.022783  loss: 0.009487  eta: 0h6m  tot: 0h8m5s  (54.3%)\rEpoch: 71.4%  lr: 0.022783  loss: 0.009483  eta: 0h6m  tot: 0h8m5s  (54.3%)\rEpoch: 71.5%  lr: 0.022763  loss: 0.009485  eta: 0h6m  tot: 0h8m5s  (54.3%)\rEpoch: 71.6%  lr: 0.022763  loss: 0.009482  eta: 0h6m  tot: 0h8m5s  (54.3%)\rEpoch: 71.7%  lr: 0.022763  loss: 0.009480  eta: 0h6m  tot: 0h8m5s  (54.3%)\rEpoch: 71.7%  lr: 0.022753  loss: 0.009482  eta: 0h6m  tot: 0h8m6s  (54.3%)\rEpoch: 71.8%  lr: 0.022743  loss: 0.009479  eta: 0h6m  tot: 0h8m6s  (54.4%)\rEpoch: 71.9%  lr: 0.022713  loss: 0.009471  eta: 0h6m  tot: 0h8m6s  (54.4%)\rEpoch: 72.0%  lr: 0.022703  loss: 0.009473  eta: 0h6m  tot: 0h8m6s  (54.4%)\rEpoch: 72.1%  lr: 0.022673  loss: 0.009471  eta: 0h6m  tot: 0h8m6s  (54.4%)\rEpoch: 72.2%  lr: 0.022673  loss: 0.009476  eta: 0h6m  tot: 0h8m6s  (54.4%)\rEpoch: 72.3%  lr: 0.022663  loss: 0.009477  eta: 0h6m  tot: 0h8m6s  (54.5%)\rEpoch: 72.4%  lr: 0.022663  loss: 0.009478  eta: 0h6m  tot: 0h8m7s  (54.5%)\rEpoch: 72.5%  lr: 0.022633  loss: 0.009478  eta: 0h6m  tot: 0h8m7s  (54.5%)\rEpoch: 72.6%  lr: 0.022623  loss: 0.009486  eta: 0h6m  tot: 0h8m7s  (54.5%)\rEpoch: 72.6%  lr: 0.022623  loss: 0.009485  eta: 0h6m  tot: 0h8m7s  (54.5%)\rEpoch: 72.7%  lr: 0.022613  loss: 0.009481  eta: 0h6m  tot: 0h8m7s  (54.5%)\rEpoch: 72.8%  lr: 0.022593  loss: 0.009480  eta: 0h6m  tot: 0h8m7s  (54.6%)\rEpoch: 72.9%  lr: 0.022593  loss: 0.009484  eta: 0h6m  tot: 0h8m8s  (54.6%)\rEpoch: 73.0%  lr: 0.022583  loss: 0.009484  eta: 0h6m  tot: 0h8m8s  (54.6%)\rEpoch: 73.1%  lr: 0.022573  loss: 0.009483  eta: 0h6m  tot: 0h8m8s  (54.6%)\rEpoch: 73.2%  lr: 0.022563  loss: 0.009495  eta: 0h6m  tot: 0h8m8s  (54.6%)\rEpoch: 73.3%  lr: 0.022553  loss: 0.009498  eta: 0h6m  tot: 0h8m8s  (54.7%)\rEpoch: 73.4%  lr: 0.022553  loss: 0.009513  eta: 0h6m  tot: 0h8m8s  (54.7%)\rEpoch: 73.5%  lr: 0.022543  loss: 0.009514  eta: 0h6m  tot: 0h8m8s  (54.7%)\rEpoch: 73.5%  lr: 0.022533  loss: 0.009508  eta: 0h6m  tot: 0h8m9s  (54.7%)\rEpoch: 73.6%  lr: 0.022503  loss: 0.009506  eta: 0h6m  tot: 0h8m9s  (54.7%)\rEpoch: 73.7%  lr: 0.022493  loss: 0.009508  eta: 0h6m  tot: 0h8m9s  (54.7%)\rEpoch: 73.8%  lr: 0.022483  loss: 0.009500  eta: 0h6m  tot: 0h8m9s  (54.8%)\rEpoch: 73.9%  lr: 0.022473  loss: 0.009498  eta: 0h6m  tot: 0h8m9s  (54.8%)\rEpoch: 74.0%  lr: 0.022463  loss: 0.009493  eta: 0h6m  tot: 0h8m9s  (54.8%)\rEpoch: 74.1%  lr: 0.022453  loss: 0.009497  eta: 0h6m  tot: 0h8m10s  (54.8%)\rEpoch: 74.2%  lr: 0.022443  loss: 0.009487  eta: 0h6m  tot: 0h8m10s  (54.8%)\rEpoch: 74.3%  lr: 0.022443  loss: 0.009477  eta: 0h6m  tot: 0h8m10s  (54.9%)\rEpoch: 74.4%  lr: 0.022413  loss: 0.009478  eta: 0h6m  tot: 0h8m10s  (54.9%)\rEpoch: 74.4%  lr: 0.022413  loss: 0.009471  eta: 0h6m  tot: 0h8m10s  (54.9%)\rEpoch: 74.5%  lr: 0.022382  loss: 0.009472  eta: 0h6m  tot: 0h8m10s  (54.9%)\rEpoch: 74.6%  lr: 0.022382  loss: 0.009467  eta: 0h6m  tot: 0h8m10s  (54.9%)\rEpoch: 74.7%  lr: 0.022382  loss: 0.009473  eta: 0h6m  tot: 0h8m11s  (54.9%)\rEpoch: 74.8%  lr: 0.022382  loss: 0.009480  eta: 0h6m  tot: 0h8m11s  (55.0%)\rEpoch: 74.9%  lr: 0.022372  loss: 0.009478  eta: 0h6m  tot: 0h8m11s  (55.0%)\rEpoch: 75.0%  lr: 0.022362  loss: 0.009474  eta: 0h6m  tot: 0h8m11s  (55.0%)\rEpoch: 75.1%  lr: 0.022362  loss: 0.009470  eta: 0h6m  tot: 0h8m11s  (55.0%)\rEpoch: 75.2%  lr: 0.022362  loss: 0.009464  eta: 0h6m  tot: 0h8m11s  (55.0%)\rEpoch: 75.3%  lr: 0.022362  loss: 0.009467  eta: 0h6m  tot: 0h8m12s  (55.1%)\rEpoch: 75.3%  lr: 0.022362  loss: 0.009465  eta: 0h6m  tot: 0h8m12s  (55.1%)\rEpoch: 75.4%  lr: 0.022362  loss: 0.009472  eta: 0h6m  tot: 0h8m12s  (55.1%)\rEpoch: 75.5%  lr: 0.022332  loss: 0.009469  eta: 0h6m  tot: 0h8m12s  (55.1%)\rEpoch: 75.6%  lr: 0.022312  loss: 0.009466  eta: 0h6m  tot: 0h8m12s  (55.1%)\rEpoch: 75.7%  lr: 0.022302  loss: 0.009465  eta: 0h6m  tot: 0h8m12s  (55.1%)\rEpoch: 75.8%  lr: 0.022302  loss: 0.009471  eta: 0h6m  tot: 0h8m12s  (55.2%)\rEpoch: 75.9%  lr: 0.022282  loss: 0.009475  eta: 0h6m  tot: 0h8m13s  (55.2%)\rEpoch: 76.0%  lr: 0.022272  loss: 0.009478  eta: 0h6m  tot: 0h8m13s  (55.2%)\rEpoch: 76.1%  lr: 0.022272  loss: 0.009475  eta: 0h6m  tot: 0h8m13s  (55.2%)\rEpoch: 76.2%  lr: 0.022252  loss: 0.009470  eta: 0h6m  tot: 0h8m13s  (55.2%)\rEpoch: 76.2%  lr: 0.022242  loss: 0.009468  eta: 0h6m  tot: 0h8m13s  (55.2%)\rEpoch: 76.3%  lr: 0.022232  loss: 0.009487  eta: 0h6m  tot: 0h8m13s  (55.3%)\rEpoch: 76.4%  lr: 0.022222  loss: 0.009484  eta: 0h6m  tot: 0h8m14s  (55.3%)\rEpoch: 76.5%  lr: 0.022222  loss: 0.009482  eta: 0h6m  tot: 0h8m14s  (55.3%)\rEpoch: 76.6%  lr: 0.022212  loss: 0.009483  eta: 0h6m  tot: 0h8m14s  (55.3%)\rEpoch: 76.7%  lr: 0.022202  loss: 0.009475  eta: 0h6m  tot: 0h8m14s  (55.3%)\rEpoch: 76.8%  lr: 0.022202  loss: 0.009474  eta: 0h6m  tot: 0h8m14s  (55.4%)\rEpoch: 76.9%  lr: 0.022182  loss: 0.009469  eta: 0h6m  tot: 0h8m14s  (55.4%)\rEpoch: 77.0%  lr: 0.022182  loss: 0.009467  eta: 0h6m  tot: 0h8m14s  (55.4%)\rEpoch: 77.1%  lr: 0.022172  loss: 0.009464  eta: 0h6m  tot: 0h8m15s  (55.4%)\rEpoch: 77.1%  lr: 0.022162  loss: 0.009469  eta: 0h6m  tot: 0h8m15s  (55.4%)\rEpoch: 77.2%  lr: 0.022152  loss: 0.009476  eta: 0h6m  tot: 0h8m15s  (55.4%)\rEpoch: 77.3%  lr: 0.022152  loss: 0.009473  eta: 0h6m  tot: 0h8m15s  (55.5%)\rEpoch: 77.4%  lr: 0.022142  loss: 0.009469  eta: 0h6m  tot: 0h8m15s  (55.5%)\rEpoch: 77.5%  lr: 0.022122  loss: 0.009464  eta: 0h6m  tot: 0h8m15s  (55.5%)\rEpoch: 77.6%  lr: 0.022102  loss: 0.009473  eta: 0h6m  tot: 0h8m16s  (55.5%)\rEpoch: 77.7%  lr: 0.022092  loss: 0.009484  eta: 0h6m  tot: 0h8m16s  (55.5%)\rEpoch: 77.8%  lr: 0.022082  loss: 0.009493  eta: 0h6m  tot: 0h8m16s  (55.6%)\rEpoch: 77.9%  lr: 0.022082  loss: 0.009493  eta: 0h6m  tot: 0h8m16s  (55.6%)\rEpoch: 78.0%  lr: 0.022082  loss: 0.009490  eta: 0h6m  tot: 0h8m16s  (55.6%)\rEpoch: 78.0%  lr: 0.022082  loss: 0.009498  eta: 0h6m  tot: 0h8m16s  (55.6%)\rEpoch: 78.1%  lr: 0.022082  loss: 0.009501  eta: 0h6m  tot: 0h8m16s  (55.6%)\rEpoch: 78.2%  lr: 0.022082  loss: 0.009499  eta: 0h6m  tot: 0h8m17s  (55.6%)\rEpoch: 78.3%  lr: 0.022082  loss: 0.009492  eta: 0h6m  tot: 0h8m17s  (55.7%)\rEpoch: 78.4%  lr: 0.022082  loss: 0.009483  eta: 0h6m  tot: 0h8m17s  (55.7%)\rEpoch: 78.5%  lr: 0.022052  loss: 0.009481  eta: 0h6m  tot: 0h8m17s  (55.7%)\rEpoch: 78.6%  lr: 0.022042  loss: 0.009479  eta: 0h6m  tot: 0h8m17s  (55.7%)\rEpoch: 78.7%  lr: 0.022042  loss: 0.009478  eta: 0h6m  tot: 0h8m17s  (55.7%)\rEpoch: 78.8%  lr: 0.022032  loss: 0.009475  eta: 0h6m  tot: 0h8m18s  (55.8%)\rEpoch: 78.9%  lr: 0.022022  loss: 0.009475  eta: 0h6m  tot: 0h8m18s  (55.8%)\rEpoch: 78.9%  lr: 0.022012  loss: 0.009471  eta: 0h6m  tot: 0h8m18s  (55.8%)\rEpoch: 79.0%  lr: 0.022002  loss: 0.009479  eta: 0h6m  tot: 0h8m18s  (55.8%)\rEpoch: 79.1%  lr: 0.021992  loss: 0.009479  eta: 0h6m  tot: 0h8m18s  (55.8%)\rEpoch: 79.2%  lr: 0.021982  loss: 0.009477  eta: 0h6m  tot: 0h8m18s  (55.8%)\rEpoch: 79.3%  lr: 0.021982  loss: 0.009480  eta: 0h6m  tot: 0h8m18s  (55.9%)\rEpoch: 79.4%  lr: 0.021982  loss: 0.009484  eta: 0h6m  tot: 0h8m19s  (55.9%)\rEpoch: 79.5%  lr: 0.021972  loss: 0.009479  eta: 0h6m  tot: 0h8m19s  (55.9%)\rEpoch: 79.6%  lr: 0.021972  loss: 0.009478  eta: 0h6m  tot: 0h8m19s  (55.9%)\rEpoch: 79.7%  lr: 0.021972  loss: 0.009477  eta: 0h6m  tot: 0h8m19s  (55.9%)\rEpoch: 79.8%  lr: 0.021962  loss: 0.009470  eta: 0h6m  tot: 0h8m19s  (56.0%)\rEpoch: 79.9%  lr: 0.021952  loss: 0.009462  eta: 0h6m  tot: 0h8m19s  (56.0%)\rEpoch: 79.9%  lr: 0.021952  loss: 0.009463  eta: 0h6m  tot: 0h8m20s  (56.0%)\rEpoch: 80.0%  lr: 0.021952  loss: 0.009461  eta: 0h6m  tot: 0h8m20s  (56.0%)\rEpoch: 80.1%  lr: 0.021942  loss: 0.009456  eta: 0h6m  tot: 0h8m20s  (56.0%)\rEpoch: 80.2%  lr: 0.021932  loss: 0.009453  eta: 0h6m  tot: 0h8m20s  (56.0%)\rEpoch: 80.3%  lr: 0.021922  loss: 0.009453  eta: 0h6m  tot: 0h8m20s  (56.1%)\rEpoch: 80.4%  lr: 0.021912  loss: 0.009450  eta: 0h6m  tot: 0h8m20s  (56.1%)\rEpoch: 80.5%  lr: 0.021912  loss: 0.009449  eta: 0h6m  tot: 0h8m20s  (56.1%)\rEpoch: 80.6%  lr: 0.021892  loss: 0.009445  eta: 0h6m  tot: 0h8m21s  (56.1%)\rEpoch: 80.7%  lr: 0.021872  loss: 0.009442  eta: 0h6m  tot: 0h8m21s  (56.1%)\rEpoch: 80.8%  lr: 0.021852  loss: 0.009442  eta: 0h6m  tot: 0h8m21s  (56.2%)\rEpoch: 80.8%  lr: 0.021842  loss: 0.009438  eta: 0h6m  tot: 0h8m21s  (56.2%)\rEpoch: 80.9%  lr: 0.021842  loss: 0.009434  eta: 0h6m  tot: 0h8m21s  (56.2%)\rEpoch: 81.0%  lr: 0.021842  loss: 0.009443  eta: 0h6m  tot: 0h8m21s  (56.2%)\rEpoch: 81.1%  lr: 0.021832  loss: 0.009441  eta: 0h6m  tot: 0h8m22s  (56.2%)\rEpoch: 81.2%  lr: 0.021802  loss: 0.009437  eta: 0h6m  tot: 0h8m22s  (56.2%)\rEpoch: 81.3%  lr: 0.021792  loss: 0.009434  eta: 0h6m  tot: 0h8m22s  (56.3%)\rEpoch: 81.4%  lr: 0.021792  loss: 0.009437  eta: 0h6m  tot: 0h8m22s  (56.3%)\rEpoch: 81.5%  lr: 0.021782  loss: 0.009437  eta: 0h6m  tot: 0h8m22s  (56.3%)\rEpoch: 81.6%  lr: 0.021772  loss: 0.009439  eta: 0h6m  tot: 0h8m22s  (56.3%)\rEpoch: 81.7%  lr: 0.021762  loss: 0.009436  eta: 0h6m  tot: 0h8m22s  (56.3%)\rEpoch: 81.7%  lr: 0.021742  loss: 0.009435  eta: 0h6m  tot: 0h8m23s  (56.3%)\rEpoch: 81.8%  lr: 0.021722  loss: 0.009442  eta: 0h6m  tot: 0h8m23s  (56.4%)\rEpoch: 81.9%  lr: 0.021692  loss: 0.009448  eta: 0h6m  tot: 0h8m23s  (56.4%)\rEpoch: 82.0%  lr: 0.021682  loss: 0.009443  eta: 0h6m  tot: 0h8m23s  (56.4%)\rEpoch: 82.1%  lr: 0.021652  loss: 0.009449  eta: 0h6m  tot: 0h8m23s  (56.4%)\rEpoch: 82.2%  lr: 0.021642  loss: 0.009463  eta: 0h6m  tot: 0h8m23s  (56.4%)\rEpoch: 82.3%  lr: 0.021632  loss: 0.009463  eta: 0h6m  tot: 0h8m24s  (56.5%)\rEpoch: 82.4%  lr: 0.021602  loss: 0.009475  eta: 0h6m  tot: 0h8m24s  (56.5%)\rEpoch: 82.5%  lr: 0.021592  loss: 0.009476  eta: 0h6m  tot: 0h8m24s  (56.5%)\rEpoch: 82.6%  lr: 0.021572  loss: 0.009474  eta: 0h6m  tot: 0h8m24s  (56.5%)\rEpoch: 82.6%  lr: 0.021572  loss: 0.009476  eta: 0h6m  tot: 0h8m24s  (56.5%)\rEpoch: 82.7%  lr: 0.021572  loss: 0.009470  eta: 0h6m  tot: 0h8m24s  (56.5%)\rEpoch: 82.8%  lr: 0.021562  loss: 0.009477  eta: 0h6m  tot: 0h8m25s  (56.6%)\rEpoch: 82.9%  lr: 0.021552  loss: 0.009478  eta: 0h6m  tot: 0h8m25s  (56.6%)\rEpoch: 83.0%  lr: 0.021552  loss: 0.009475  eta: 0h6m  tot: 0h8m25s  (56.6%)\rEpoch: 83.1%  lr: 0.021552  loss: 0.009474  eta: 0h6m  tot: 0h8m25s  (56.6%)\rEpoch: 83.2%  lr: 0.021552  loss: 0.009475  eta: 0h6m  tot: 0h8m25s  (56.6%)\rEpoch: 83.3%  lr: 0.021542  loss: 0.009478  eta: 0h6m  tot: 0h8m25s  (56.7%)\rEpoch: 83.4%  lr: 0.021542  loss: 0.009496  eta: 0h6m  tot: 0h8m25s  (56.7%)\rEpoch: 83.5%  lr: 0.021512  loss: 0.009499  eta: 0h6m  tot: 0h8m26s  (56.7%)\rEpoch: 83.5%  lr: 0.021502  loss: 0.009495  eta: 0h6m  tot: 0h8m26s  (56.7%)\rEpoch: 83.6%  lr: 0.021502  loss: 0.009494  eta: 0h6m  tot: 0h8m26s  (56.7%)\rEpoch: 83.7%  lr: 0.021492  loss: 0.009486  eta: 0h6m  tot: 0h8m26s  (56.7%)\rEpoch: 83.8%  lr: 0.021492  loss: 0.009481  eta: 0h6m  tot: 0h8m26s  (56.8%)\rEpoch: 83.9%  lr: 0.021462  loss: 0.009489  eta: 0h6m  tot: 0h8m26s  (56.8%)\rEpoch: 84.0%  lr: 0.021452  loss: 0.009490  eta: 0h6m  tot: 0h8m27s  (56.8%)\rEpoch: 84.1%  lr: 0.021452  loss: 0.009500  eta: 0h6m  tot: 0h8m27s  (56.8%)\rEpoch: 84.2%  lr: 0.021432  loss: 0.009504  eta: 0h6m  tot: 0h8m27s  (56.8%)\rEpoch: 84.3%  lr: 0.021422  loss: 0.009500  eta: 0h6m  tot: 0h8m27s  (56.9%)\rEpoch: 84.4%  lr: 0.021422  loss: 0.009505  eta: 0h6m  tot: 0h8m27s  (56.9%)\rEpoch: 84.4%  lr: 0.021402  loss: 0.009507  eta: 0h6m  tot: 0h8m27s  (56.9%)\rEpoch: 84.5%  lr: 0.021402  loss: 0.009513  eta: 0h6m  tot: 0h8m27s  (56.9%)\rEpoch: 84.6%  lr: 0.021402  loss: 0.009517  eta: 0h6m  tot: 0h8m28s  (56.9%)\rEpoch: 84.7%  lr: 0.021372  loss: 0.009514  eta: 0h6m  tot: 0h8m28s  (56.9%)\rEpoch: 84.8%  lr: 0.021361  loss: 0.009520  eta: 0h6m  tot: 0h8m28s  (57.0%)\rEpoch: 84.9%  lr: 0.021351  loss: 0.009518  eta: 0h6m  tot: 0h8m28s  (57.0%)\rEpoch: 85.0%  lr: 0.021351  loss: 0.009514  eta: 0h6m  tot: 0h8m28s  (57.0%)\rEpoch: 85.1%  lr: 0.021341  loss: 0.009515  eta: 0h6m  tot: 0h8m28s  (57.0%)\rEpoch: 85.2%  lr: 0.021321  loss: 0.009516  eta: 0h6m  tot: 0h8m29s  (57.0%)\rEpoch: 85.3%  lr: 0.021321  loss: 0.009510  eta: 0h6m  tot: 0h8m29s  (57.1%)\rEpoch: 85.3%  lr: 0.021311  loss: 0.009506  eta: 0h6m  tot: 0h8m29s  (57.1%)\rEpoch: 85.4%  lr: 0.021301  loss: 0.009504  eta: 0h6m  tot: 0h8m29s  (57.1%)\rEpoch: 85.5%  lr: 0.021291  loss: 0.009499  eta: 0h6m  tot: 0h8m29s  (57.1%)\rEpoch: 85.6%  lr: 0.021291  loss: 0.009503  eta: 0h6m  tot: 0h8m29s  (57.1%)\rEpoch: 85.7%  lr: 0.021281  loss: 0.009509  eta: 0h6m  tot: 0h8m30s  (57.1%)\rEpoch: 85.8%  lr: 0.021261  loss: 0.009503  eta: 0h6m  tot: 0h8m30s  (57.2%)\rEpoch: 85.9%  lr: 0.021251  loss: 0.009495  eta: 0h6m  tot: 0h8m30s  (57.2%)\rEpoch: 86.0%  lr: 0.021241  loss: 0.009486  eta: 0h6m  tot: 0h8m30s  (57.2%)\rEpoch: 86.1%  lr: 0.021231  loss: 0.009488  eta: 0h6m  tot: 0h8m30s  (57.2%)\rEpoch: 86.2%  lr: 0.021211  loss: 0.009496  eta: 0h6m  tot: 0h8m30s  (57.2%)\rEpoch: 86.2%  lr: 0.021211  loss: 0.009492  eta: 0h6m  tot: 0h8m30s  (57.2%)\rEpoch: 86.3%  lr: 0.021211  loss: 0.009491  eta: 0h6m  tot: 0h8m31s  (57.3%)\rEpoch: 86.4%  lr: 0.021201  loss: 0.009487  eta: 0h6m  tot: 0h8m31s  (57.3%)\rEpoch: 86.5%  lr: 0.021201  loss: 0.009497  eta: 0h6m  tot: 0h8m31s  (57.3%)\rEpoch: 86.6%  lr: 0.021201  loss: 0.009507  eta: 0h6m  tot: 0h8m31s  (57.3%)\rEpoch: 86.7%  lr: 0.021181  loss: 0.009509  eta: 0h6m  tot: 0h8m31s  (57.3%)\rEpoch: 86.8%  lr: 0.021161  loss: 0.009503  eta: 0h6m  tot: 0h8m31s  (57.4%)\rEpoch: 86.9%  lr: 0.021161  loss: 0.009520  eta: 0h6m  tot: 0h8m32s  (57.4%)\rEpoch: 87.0%  lr: 0.021161  loss: 0.009516  eta: 0h6m  tot: 0h8m32s  (57.4%)\rEpoch: 87.1%  lr: 0.021151  loss: 0.009514  eta: 0h6m  tot: 0h8m32s  (57.4%)\rEpoch: 87.1%  lr: 0.021151  loss: 0.009512  eta: 0h6m  tot: 0h8m32s  (57.4%)\rEpoch: 87.2%  lr: 0.021151  loss: 0.009518  eta: 0h6m  tot: 0h8m32s  (57.4%)\rEpoch: 87.3%  lr: 0.021151  loss: 0.009511  eta: 0h6m  tot: 0h8m32s  (57.5%)\rEpoch: 87.4%  lr: 0.021151  loss: 0.009512  eta: 0h6m  tot: 0h8m32s  (57.5%)\rEpoch: 87.5%  lr: 0.021151  loss: 0.009510  eta: 0h6m  tot: 0h8m33s  (57.5%)\rEpoch: 87.6%  lr: 0.021131  loss: 0.009512  eta: 0h6m  tot: 0h8m33s  (57.5%)\rEpoch: 87.7%  lr: 0.021121  loss: 0.009512  eta: 0h6m  tot: 0h8m33s  (57.5%)\rEpoch: 87.8%  lr: 0.021091  loss: 0.009509  eta: 0h6m  tot: 0h8m33s  (57.6%)\rEpoch: 87.9%  lr: 0.021081  loss: 0.009512  eta: 0h6m  tot: 0h8m33s  (57.6%)\rEpoch: 88.0%  lr: 0.021081  loss: 0.009517  eta: 0h6m  tot: 0h8m33s  (57.6%)\rEpoch: 88.0%  lr: 0.021071  loss: 0.009517  eta: 0h6m  tot: 0h8m34s  (57.6%)\rEpoch: 88.1%  lr: 0.021051  loss: 0.009511  eta: 0h6m  tot: 0h8m34s  (57.6%)\rEpoch: 88.2%  lr: 0.021051  loss: 0.009510  eta: 0h6m  tot: 0h8m34s  (57.6%)\rEpoch: 88.3%  lr: 0.021011  loss: 0.009512  eta: 0h6m  tot: 0h8m34s  (57.7%)\rEpoch: 88.4%  lr: 0.021011  loss: 0.009507  eta: 0h6m  tot: 0h8m34s  (57.7%)\rEpoch: 88.5%  lr: 0.021011  loss: 0.009506  eta: 0h6m  tot: 0h8m34s  (57.7%)\rEpoch: 88.6%  lr: 0.020981  loss: 0.009502  eta: 0h6m  tot: 0h8m34s  (57.7%)\rEpoch: 88.7%  lr: 0.020981  loss: 0.009500  eta: 0h6m  tot: 0h8m35s  (57.7%)\rEpoch: 88.8%  lr: 0.020981  loss: 0.009505  eta: 0h6m  tot: 0h8m35s  (57.8%)\rEpoch: 88.9%  lr: 0.020981  loss: 0.009508  eta: 0h6m  tot: 0h8m35s  (57.8%)\rEpoch: 88.9%  lr: 0.020981  loss: 0.009513  eta: 0h6m  tot: 0h8m35s  (57.8%)\rEpoch: 89.0%  lr: 0.020971  loss: 0.009508  eta: 0h6m  tot: 0h8m35s  (57.8%)\rEpoch: 89.1%  lr: 0.020971  loss: 0.009517  eta: 0h6m  tot: 0h8m35s  (57.8%)\rEpoch: 89.2%  lr: 0.020971  loss: 0.009521  eta: 0h6m  tot: 0h8m36s  (57.8%)\rEpoch: 89.3%  lr: 0.020971  loss: 0.009517  eta: 0h6m  tot: 0h8m36s  (57.9%)\rEpoch: 89.4%  lr: 0.020971  loss: 0.009512  eta: 0h6m  tot: 0h8m36s  (57.9%)\rEpoch: 89.5%  lr: 0.020951  loss: 0.009512  eta: 0h6m  tot: 0h8m36s  (57.9%)\rEpoch: 89.6%  lr: 0.020921  loss: 0.009523  eta: 0h6m  tot: 0h8m36s  (57.9%)\rEpoch: 89.7%  lr: 0.020921  loss: 0.009525  eta: 0h6m  tot: 0h8m36s  (57.9%)\rEpoch: 89.8%  lr: 0.020901  loss: 0.009519  eta: 0h5m  tot: 0h8m36s  (58.0%)\rEpoch: 89.8%  lr: 0.020861  loss: 0.009519  eta: 0h5m  tot: 0h8m37s  (58.0%)\rEpoch: 89.9%  lr: 0.020861  loss: 0.009515  eta: 0h5m  tot: 0h8m37s  (58.0%)\rEpoch: 90.0%  lr: 0.020851  loss: 0.009511  eta: 0h5m  tot: 0h8m37s  (58.0%)\rEpoch: 90.1%  lr: 0.020851  loss: 0.009509  eta: 0h5m  tot: 0h8m37s  (58.0%)\rEpoch: 90.2%  lr: 0.020851  loss: 0.009501  eta: 0h5m  tot: 0h8m37s  (58.0%)\rEpoch: 90.3%  lr: 0.020851  loss: 0.009500  eta: 0h5m  tot: 0h8m37s  (58.1%)\rEpoch: 90.4%  lr: 0.020851  loss: 0.009499  eta: 0h5m  tot: 0h8m38s  (58.1%)\rEpoch: 90.5%  lr: 0.020841  loss: 0.009504  eta: 0h5m  tot: 0h8m38s  (58.1%)\rEpoch: 90.6%  lr: 0.020841  loss: 0.009508  eta: 0h5m  tot: 0h8m38s  (58.1%)\rEpoch: 90.7%  lr: 0.020831  loss: 0.009509  eta: 0h5m  tot: 0h8m38s  (58.1%)\rEpoch: 90.7%  lr: 0.020821  loss: 0.009513  eta: 0h5m  tot: 0h8m38s  (58.1%)\rEpoch: 90.8%  lr: 0.020811  loss: 0.009506  eta: 0h5m  tot: 0h8m38s  (58.2%)\rEpoch: 90.9%  lr: 0.020811  loss: 0.009506  eta: 0h5m  tot: 0h8m38s  (58.2%)\rEpoch: 91.0%  lr: 0.020801  loss: 0.009500  eta: 0h5m  tot: 0h8m39s  (58.2%)\rEpoch: 91.1%  lr: 0.020791  loss: 0.009494  eta: 0h5m  tot: 0h8m39s  (58.2%)\rEpoch: 91.2%  lr: 0.020781  loss: 0.009488  eta: 0h5m  tot: 0h8m39s  (58.2%)\rEpoch: 91.3%  lr: 0.020781  loss: 0.009483  eta: 0h5m  tot: 0h8m39s  (58.3%)\rEpoch: 91.4%  lr: 0.020771  loss: 0.009480  eta: 0h5m  tot: 0h8m39s  (58.3%)\rEpoch: 91.5%  lr: 0.020761  loss: 0.009486  eta: 0h5m  tot: 0h8m39s  (58.3%)\rEpoch: 91.6%  lr: 0.020761  loss: 0.009482  eta: 0h5m  tot: 0h8m40s  (58.3%)\rEpoch: 91.6%  lr: 0.020751  loss: 0.009480  eta: 0h5m  tot: 0h8m40s  (58.3%)\rEpoch: 91.7%  lr: 0.020751  loss: 0.009477  eta: 0h5m  tot: 0h8m40s  (58.3%)\rEpoch: 91.8%  lr: 0.020751  loss: 0.009473  eta: 0h5m  tot: 0h8m40s  (58.4%)\rEpoch: 91.9%  lr: 0.020751  loss: 0.009469  eta: 0h5m  tot: 0h8m40s  (58.4%)\rEpoch: 92.0%  lr: 0.020751  loss: 0.009472  eta: 0h5m  tot: 0h8m40s  (58.4%)\rEpoch: 92.1%  lr: 0.020751  loss: 0.009471  eta: 0h5m  tot: 0h8m40s  (58.4%)\rEpoch: 92.2%  lr: 0.020741  loss: 0.009464  eta: 0h5m  tot: 0h8m41s  (58.4%)\rEpoch: 92.3%  lr: 0.020711  loss: 0.009465  eta: 0h5m  tot: 0h8m41s  (58.5%)\rEpoch: 92.4%  lr: 0.020711  loss: 0.009468  eta: 0h5m  tot: 0h8m41s  (58.5%)\rEpoch: 92.5%  lr: 0.020711  loss: 0.009467  eta: 0h5m  tot: 0h8m41s  (58.5%)\rEpoch: 92.5%  lr: 0.020691  loss: 0.009468  eta: 0h5m  tot: 0h8m41s  (58.5%)\rEpoch: 92.6%  lr: 0.020681  loss: 0.009464  eta: 0h5m  tot: 0h8m41s  (58.5%)\rEpoch: 92.7%  lr: 0.020681  loss: 0.009463  eta: 0h5m  tot: 0h8m42s  (58.5%)\rEpoch: 92.8%  lr: 0.020681  loss: 0.009464  eta: 0h5m  tot: 0h8m42s  (58.6%)\rEpoch: 92.9%  lr: 0.020681  loss: 0.009462  eta: 0h5m  tot: 0h8m42s  (58.6%)\rEpoch: 93.0%  lr: 0.020651  loss: 0.009464  eta: 0h5m  tot: 0h8m42s  (58.6%)\rEpoch: 93.1%  lr: 0.020651  loss: 0.009463  eta: 0h5m  tot: 0h8m42s  (58.6%)\rEpoch: 93.2%  lr: 0.020651  loss: 0.009468  eta: 0h5m  tot: 0h8m42s  (58.6%)\rEpoch: 93.3%  lr: 0.020621  loss: 0.009465  eta: 0h5m  tot: 0h8m42s  (58.7%)\rEpoch: 93.4%  lr: 0.020611  loss: 0.009466  eta: 0h5m  tot: 0h8m43s  (58.7%)\rEpoch: 93.4%  lr: 0.020611  loss: 0.009465  eta: 0h5m  tot: 0h8m43s  (58.7%)\rEpoch: 93.5%  lr: 0.020611  loss: 0.009463  eta: 0h5m  tot: 0h8m43s  (58.7%)\rEpoch: 93.6%  lr: 0.020611  loss: 0.009459  eta: 0h5m  tot: 0h8m43s  (58.7%)\rEpoch: 93.7%  lr: 0.020591  loss: 0.009465  eta: 0h5m  tot: 0h8m43s  (58.7%)\rEpoch: 93.8%  lr: 0.020581  loss: 0.009463  eta: 0h5m  tot: 0h8m43s  (58.8%)\rEpoch: 93.9%  lr: 0.020561  loss: 0.009460  eta: 0h5m  tot: 0h8m44s  (58.8%)\rEpoch: 94.0%  lr: 0.020551  loss: 0.009454  eta: 0h5m  tot: 0h8m44s  (58.8%)\rEpoch: 94.1%  lr: 0.020541  loss: 0.009449  eta: 0h5m  tot: 0h8m44s  (58.8%)\rEpoch: 94.2%  lr: 0.020541  loss: 0.009449  eta: 0h5m  tot: 0h8m44s  (58.8%)\rEpoch: 94.3%  lr: 0.020541  loss: 0.009453  eta: 0h5m  tot: 0h8m44s  (58.9%)\rEpoch: 94.3%  lr: 0.020541  loss: 0.009449  eta: 0h5m  tot: 0h8m44s  (58.9%)\rEpoch: 94.4%  lr: 0.020541  loss: 0.009444  eta: 0h5m  tot: 0h8m44s  (58.9%)\rEpoch: 94.5%  lr: 0.020541  loss: 0.009441  eta: 0h5m  tot: 0h8m45s  (58.9%)\rEpoch: 94.6%  lr: 0.020521  loss: 0.009439  eta: 0h5m  tot: 0h8m45s  (58.9%)\rEpoch: 94.7%  lr: 0.020491  loss: 0.009443  eta: 0h5m  tot: 0h8m45s  (58.9%)\rEpoch: 94.8%  lr: 0.020471  loss: 0.009440  eta: 0h5m  tot: 0h8m45s  (59.0%)\rEpoch: 94.9%  lr: 0.020471  loss: 0.009436  eta: 0h5m  tot: 0h8m45s  (59.0%)\rEpoch: 95.0%  lr: 0.020461  loss: 0.009437  eta: 0h5m  tot: 0h8m45s  (59.0%)\rEpoch: 95.1%  lr: 0.020461  loss: 0.009434  eta: 0h5m  tot: 0h8m46s  (59.0%)\rEpoch: 95.2%  lr: 0.020451  loss: 0.009429  eta: 0h5m  tot: 0h8m46s  (59.0%)\rEpoch: 95.2%  lr: 0.020451  loss: 0.009425  eta: 0h5m  tot: 0h8m46s  (59.0%)\rEpoch: 95.3%  lr: 0.020441  loss: 0.009423  eta: 0h5m  tot: 0h8m46s  (59.1%)\rEpoch: 95.4%  lr: 0.020431  loss: 0.009421  eta: 0h5m  tot: 0h8m46s  (59.1%)\rEpoch: 95.5%  lr: 0.020421  loss: 0.009416  eta: 0h5m  tot: 0h8m46s  (59.1%)\rEpoch: 95.6%  lr: 0.020421  loss: 0.009415  eta: 0h5m  tot: 0h8m46s  (59.1%)\rEpoch: 95.7%  lr: 0.020411  loss: 0.009415  eta: 0h5m  tot: 0h8m47s  (59.1%)\rEpoch: 95.8%  lr: 0.020411  loss: 0.009414  eta: 0h5m  tot: 0h8m47s  (59.2%)\rEpoch: 95.9%  lr: 0.020411  loss: 0.009409  eta: 0h5m  tot: 0h8m47s  (59.2%)\rEpoch: 96.0%  lr: 0.020411  loss: 0.009403  eta: 0h5m  tot: 0h8m47s  (59.2%)\rEpoch: 96.1%  lr: 0.020411  loss: 0.009409  eta: 0h5m  tot: 0h8m47s  (59.2%)\rEpoch: 96.1%  lr: 0.020401  loss: 0.009409  eta: 0h5m  tot: 0h8m47s  (59.2%)\rEpoch: 96.2%  lr: 0.020401  loss: 0.009421  eta: 0h5m  tot: 0h8m48s  (59.2%)\rEpoch: 96.3%  lr: 0.020381  loss: 0.009415  eta: 0h5m  tot: 0h8m48s  (59.3%)\rEpoch: 96.4%  lr: 0.020381  loss: 0.009413  eta: 0h5m  tot: 0h8m48s  (59.3%)\rEpoch: 96.5%  lr: 0.020371  loss: 0.009418  eta: 0h5m  tot: 0h8m48s  (59.3%)\rEpoch: 96.6%  lr: 0.020361  loss: 0.009415  eta: 0h5m  tot: 0h8m48s  (59.3%)\rEpoch: 96.7%  lr: 0.020340  loss: 0.009422  eta: 0h5m  tot: 0h8m48s  (59.3%)\rEpoch: 96.8%  lr: 0.020330  loss: 0.009430  eta: 0h5m  tot: 0h8m48s  (59.4%)\rEpoch: 96.9%  lr: 0.020310  loss: 0.009428  eta: 0h5m  tot: 0h8m49s  (59.4%)\rEpoch: 97.0%  lr: 0.020310  loss: 0.009433  eta: 0h5m  tot: 0h8m49s  (59.4%)\rEpoch: 97.0%  lr: 0.020300  loss: 0.009431  eta: 0h5m  tot: 0h8m49s  (59.4%)\rEpoch: 97.1%  lr: 0.020300  loss: 0.009427  eta: 0h5m  tot: 0h8m49s  (59.4%)\rEpoch: 97.2%  lr: 0.020290  loss: 0.009422  eta: 0h5m  tot: 0h8m49s  (59.4%)\rEpoch: 97.3%  lr: 0.020260  loss: 0.009416  eta: 0h5m  tot: 0h8m49s  (59.5%)\rEpoch: 97.4%  lr: 0.020250  loss: 0.009419  eta: 0h5m  tot: 0h8m50s  (59.5%)\rEpoch: 97.5%  lr: 0.020240  loss: 0.009417  eta: 0h5m  tot: 0h8m50s  (59.5%)\rEpoch: 97.6%  lr: 0.020240  loss: 0.009412  eta: 0h5m  tot: 0h8m50s  (59.5%)\rEpoch: 97.7%  lr: 0.020240  loss: 0.009407  eta: 0h5m  tot: 0h8m50s  (59.5%)\rEpoch: 97.8%  lr: 0.020230  loss: 0.009402  eta: 0h5m  tot: 0h8m50s  (59.6%)\rEpoch: 97.9%  lr: 0.020230  loss: 0.009400  eta: 0h5m  tot: 0h8m50s  (59.6%)\rEpoch: 97.9%  lr: 0.020230  loss: 0.009400  eta: 0h5m  tot: 0h8m50s  (59.6%)\rEpoch: 98.0%  lr: 0.020210  loss: 0.009400  eta: 0h5m  tot: 0h8m51s  (59.6%)\rEpoch: 98.1%  lr: 0.020190  loss: 0.009402  eta: 0h5m  tot: 0h8m51s  (59.6%)\rEpoch: 98.2%  lr: 0.020190  loss: 0.009397  eta: 0h5m  tot: 0h8m51s  (59.6%)\rEpoch: 98.3%  lr: 0.020180  loss: 0.009394  eta: 0h5m  tot: 0h8m51s  (59.7%)\rEpoch: 98.4%  lr: 0.020160  loss: 0.009396  eta: 0h5m  tot: 0h8m51s  (59.7%)\rEpoch: 98.5%  lr: 0.020150  loss: 0.009389  eta: 0h5m  tot: 0h8m51s  (59.7%)\rEpoch: 98.6%  lr: 0.020140  loss: 0.009391  eta: 0h5m  tot: 0h8m52s  (59.7%)\rEpoch: 98.7%  lr: 0.020130  loss: 0.009387  eta: 0h5m  tot: 0h8m52s  (59.7%)\rEpoch: 98.8%  lr: 0.020090  loss: 0.009390  eta: 0h5m  tot: 0h8m52s  (59.8%)\rEpoch: 98.8%  lr: 0.020090  loss: 0.009397  eta: 0h5m  tot: 0h8m52s  (59.8%)\rEpoch: 98.9%  lr: 0.020070  loss: 0.009394  eta: 0h5m  tot: 0h8m52s  (59.8%)\rEpoch: 99.0%  lr: 0.020060  loss: 0.009390  eta: 0h5m  tot: 0h8m52s  (59.8%)\rEpoch: 99.1%  lr: 0.020060  loss: 0.009394  eta: 0h5m  tot: 0h8m52s  (59.8%)\rEpoch: 99.2%  lr: 0.020050  loss: 0.009399  eta: 0h5m  tot: 0h8m53s  (59.8%)\rEpoch: 99.3%  lr: 0.020050  loss: 0.009401  eta: 0h5m  tot: 0h8m53s  (59.9%)\rEpoch: 99.4%  lr: 0.020030  loss: 0.009395  eta: 0h5m  tot: 0h8m53s  (59.9%)\rEpoch: 99.5%  lr: 0.020020  loss: 0.009398  eta: 0h5m  tot: 0h8m53s  (59.9%)\rEpoch: 99.6%  lr: 0.020020  loss: 0.009396  eta: 0h5m  tot: 0h8m53s  (59.9%)\rEpoch: 99.7%  lr: 0.020010  loss: 0.009398  eta: 0h5m  tot: 0h8m53s  (59.9%)\rEpoch: 99.7%  lr: 0.020010  loss: 0.009404  eta: 0h5m  tot: 0h8m53s  (59.9%)\rEpoch: 99.8%  lr: 0.020000  loss: 0.009406  eta: 0h5m  tot: 0h8m54s  (60.0%)\rEpoch: 99.9%  lr: 0.020000  loss: 0.009403  eta: 0h5m  tot: 0h8m54s  (60.0%)\rEpoch: 100.0%  lr: 0.020000  loss: 0.009400  eta: 0h5m  tot: 0h8m54s  (60.0%)\rEpoch: 0.1%  lr: 0.020000  loss: 0.006275  eta: 0h4m  tot: 0h8m54s  (60.0%)\rEpoch: 0.2%  lr: 0.020000  loss: 0.005359  eta: 0h4m  tot: 0h8m54s  (60.0%)\rEpoch: 0.3%  lr: 0.020000  loss: 0.004866  eta: 0h4m  tot: 0h8m54s  (60.1%)\rEpoch: 0.4%  lr: 0.019990  loss: 0.004596  eta: 0h5m  tot: 0h8m54s  (60.1%)\rEpoch: 0.4%  lr: 0.019990  loss: 0.004393  eta: 0h5m  tot: 0h8m54s  (60.1%)\rEpoch: 0.5%  lr: 0.019990  loss: 0.004340  eta: 0h5m  tot: 0h8m55s  (60.1%)\rEpoch: 0.6%  lr: 0.019990  loss: 0.004135  eta: 0h5m  tot: 0h8m55s  (60.1%)\rEpoch: 0.7%  lr: 0.019990  loss: 0.004517  eta: 0h5m  tot: 0h8m55s  (60.1%)\rEpoch: 0.8%  lr: 0.019990  loss: 0.004925  eta: 0h5m  tot: 0h8m55s  (60.2%)\rEpoch: 0.9%  lr: 0.019990  loss: 0.005809  eta: 0h5m  tot: 0h8m55s  (60.2%)\rEpoch: 1.0%  lr: 0.019990  loss: 0.006964  eta: 0h5m  tot: 0h8m55s  (60.2%)\rEpoch: 1.1%  lr: 0.019990  loss: 0.007220  eta: 0h5m  tot: 0h8m55s  (60.2%)\rEpoch: 1.2%  lr: 0.019980  loss: 0.007453  eta: 0h5m  tot: 0h8m56s  (60.2%)\rEpoch: 1.3%  lr: 0.019950  loss: 0.007446  eta: 0h5m  tot: 0h8m56s  (60.3%)\rEpoch: 1.3%  lr: 0.019930  loss: 0.007379  eta: 0h5m  tot: 0h8m56s  (60.3%)\rEpoch: 1.4%  lr: 0.019930  loss: 0.007833  eta: 0h5m  tot: 0h8m56s  (60.3%)\rEpoch: 1.5%  lr: 0.019930  loss: 0.007836  eta: 0h5m  tot: 0h8m56s  (60.3%)\rEpoch: 1.6%  lr: 0.019920  loss: 0.007670  eta: 0h5m  tot: 0h8m56s  (60.3%)\rEpoch: 1.7%  lr: 0.019910  loss: 0.007522  eta: 0h5m  tot: 0h8m57s  (60.3%)\rEpoch: 1.8%  lr: 0.019900  loss: 0.007472  eta: 0h5m  tot: 0h8m57s  (60.4%)\rEpoch: 1.9%  lr: 0.019880  loss: 0.007487  eta: 0h5m  tot: 0h8m57s  (60.4%)\rEpoch: 2.0%  lr: 0.019870  loss: 0.007630  eta: 0h5m  tot: 0h8m57s  (60.4%)\rEpoch: 2.1%  lr: 0.019870  loss: 0.007700  eta: 0h5m  tot: 0h8m57s  (60.4%)\rEpoch: 2.2%  lr: 0.019860  loss: 0.007865  eta: 0h5m  tot: 0h8m57s  (60.4%)\rEpoch: 2.2%  lr: 0.019850  loss: 0.007892  eta: 0h5m  tot: 0h8m58s  (60.4%)\rEpoch: 2.3%  lr: 0.019850  loss: 0.007825  eta: 0h5m  tot: 0h8m58s  (60.5%)\rEpoch: 2.4%  lr: 0.019850  loss: 0.007858  eta: 0h5m  tot: 0h8m58s  (60.5%)\rEpoch: 2.5%  lr: 0.019830  loss: 0.008050  eta: 0h5m  tot: 0h8m58s  (60.5%)\rEpoch: 2.6%  lr: 0.019810  loss: 0.007879  eta: 0h5m  tot: 0h8m58s  (60.5%)\rEpoch: 2.7%  lr: 0.019800  loss: 0.007732  eta: 0h5m  tot: 0h8m58s  (60.5%)\rEpoch: 2.8%  lr: 0.019800  loss: 0.007681  eta: 0h5m  tot: 0h8m58s  (60.6%)\rEpoch: 2.9%  lr: 0.019800  loss: 0.008127  eta: 0h5m  tot: 0h8m59s  (60.6%)\rEpoch: 3.0%  lr: 0.019800  loss: 0.008096  eta: 0h5m  tot: 0h8m59s  (60.6%)\rEpoch: 3.1%  lr: 0.019800  loss: 0.008227  eta: 0h5m  tot: 0h8m59s  (60.6%)\rEpoch: 3.1%  lr: 0.019780  loss: 0.008258  eta: 0h5m  tot: 0h8m59s  (60.6%)\rEpoch: 3.2%  lr: 0.019770  loss: 0.008173  eta: 0h5m  tot: 0h8m59s  (60.6%)\rEpoch: 3.3%  lr: 0.019750  loss: 0.008038  eta: 0h5m  tot: 0h8m59s  (60.7%)\rEpoch: 3.4%  lr: 0.019750  loss: 0.008152  eta: 0h5m  tot: 0h8m59s  (60.7%)\rEpoch: 3.5%  lr: 0.019750  loss: 0.008250  eta: 0h5m  tot: 0h9m0s  (60.7%)\rEpoch: 3.6%  lr: 0.019750  loss: 0.008247  eta: 0h5m  tot: 0h9m0s  (60.7%)\rEpoch: 3.7%  lr: 0.019750  loss: 0.008198  eta: 0h5m  tot: 0h9m0s  (60.7%)\rEpoch: 3.8%  lr: 0.019730  loss: 0.008136  eta: 0h5m  tot: 0h9m0s  (60.8%)\rEpoch: 3.9%  lr: 0.019720  loss: 0.008464  eta: 0h5m  tot: 0h9m0s  (60.8%)\rEpoch: 4.0%  lr: 0.019700  loss: 0.008591  eta: 0h5m  tot: 0h9m0s  (60.8%)\rEpoch: 4.1%  lr: 0.019690  loss: 0.008507  eta: 0h5m  tot: 0h9m1s  (60.8%)\rEpoch: 4.1%  lr: 0.019680  loss: 0.008444  eta: 0h5m  tot: 0h9m1s  (60.8%)\rEpoch: 4.2%  lr: 0.019680  loss: 0.008475  eta: 0h5m  tot: 0h9m1s  (60.8%)\rEpoch: 4.3%  lr: 0.019680  loss: 0.008405  eta: 0h5m  tot: 0h9m1s  (60.9%)\rEpoch: 4.4%  lr: 0.019680  loss: 0.008356  eta: 0h5m  tot: 0h9m1s  (60.9%)\rEpoch: 4.5%  lr: 0.019670  loss: 0.008426  eta: 0h5m  tot: 0h9m1s  (60.9%)\rEpoch: 4.6%  lr: 0.019660  loss: 0.008401  eta: 0h5m  tot: 0h9m2s  (60.9%)\rEpoch: 4.7%  lr: 0.019660  loss: 0.008405  eta: 0h5m  tot: 0h9m2s  (60.9%)\rEpoch: 4.8%  lr: 0.019650  loss: 0.008354  eta: 0h5m  tot: 0h9m2s  (61.0%)\rEpoch: 4.9%  lr: 0.019630  loss: 0.008277  eta: 0h5m  tot: 0h9m2s  (61.0%)\rEpoch: 5.0%  lr: 0.019630  loss: 0.008237  eta: 0h5m  tot: 0h9m2s  (61.0%)\rEpoch: 5.0%  lr: 0.019620  loss: 0.008197  eta: 0h5m  tot: 0h9m2s  (61.0%)\rEpoch: 5.1%  lr: 0.019620  loss: 0.008143  eta: 0h5m  tot: 0h9m2s  (61.0%)\rEpoch: 5.2%  lr: 0.019610  loss: 0.008284  eta: 0h5m  tot: 0h9m3s  (61.0%)\rEpoch: 5.3%  lr: 0.019610  loss: 0.008323  eta: 0h5m  tot: 0h9m3s  (61.1%)\rEpoch: 5.4%  lr: 0.019600  loss: 0.008282  eta: 0h5m  tot: 0h9m3s  (61.1%)\rEpoch: 5.5%  lr: 0.019600  loss: 0.008295  eta: 0h5m  tot: 0h9m3s  (61.1%)\rEpoch: 5.6%  lr: 0.019600  loss: 0.008226  eta: 0h5m  tot: 0h9m3s  (61.1%)\rEpoch: 5.7%  lr: 0.019590  loss: 0.008142  eta: 0h5m  tot: 0h9m3s  (61.1%)\rEpoch: 5.8%  lr: 0.019590  loss: 0.008106  eta: 0h5m  tot: 0h9m4s  (61.2%)\rEpoch: 5.9%  lr: 0.019570  loss: 0.008107  eta: 0h5m  tot: 0h9m4s  (61.2%)\rEpoch: 5.9%  lr: 0.019570  loss: 0.008105  eta: 0h5m  tot: 0h9m4s  (61.2%)\rEpoch: 6.0%  lr: 0.019560  loss: 0.008140  eta: 0h5m  tot: 0h9m4s  (61.2%)\rEpoch: 6.1%  lr: 0.019540  loss: 0.008071  eta: 0h5m  tot: 0h9m4s  (61.2%)\rEpoch: 6.2%  lr: 0.019530  loss: 0.007989  eta: 0h5m  tot: 0h9m4s  (61.2%)\rEpoch: 6.3%  lr: 0.019520  loss: 0.008021  eta: 0h5m  tot: 0h9m4s  (61.3%)\rEpoch: 6.4%  lr: 0.019520  loss: 0.008050  eta: 0h5m  tot: 0h9m5s  (61.3%)\rEpoch: 6.5%  lr: 0.019520  loss: 0.008069  eta: 0h5m  tot: 0h9m5s  (61.3%)\rEpoch: 6.6%  lr: 0.019520  loss: 0.008042  eta: 0h5m  tot: 0h9m5s  (61.3%)\rEpoch: 6.7%  lr: 0.019500  loss: 0.008015  eta: 0h5m  tot: 0h9m5s  (61.3%)\rEpoch: 6.8%  lr: 0.019500  loss: 0.007993  eta: 0h5m  tot: 0h9m5s  (61.4%)\rEpoch: 6.8%  lr: 0.019479  loss: 0.007951  eta: 0h5m  tot: 0h9m5s  (61.4%)\rEpoch: 6.9%  lr: 0.019469  loss: 0.008009  eta: 0h5m  tot: 0h9m5s  (61.4%)\rEpoch: 7.0%  lr: 0.019439  loss: 0.007957  eta: 0h5m  tot: 0h9m6s  (61.4%)\rEpoch: 7.1%  lr: 0.019439  loss: 0.007945  eta: 0h5m  tot: 0h9m6s  (61.4%)\rEpoch: 7.2%  lr: 0.019419  loss: 0.007972  eta: 0h5m  tot: 0h9m6s  (61.4%)\rEpoch: 7.3%  lr: 0.019409  loss: 0.007960  eta: 0h5m  tot: 0h9m6s  (61.5%)\rEpoch: 7.4%  lr: 0.019409  loss: 0.007946  eta: 0h5m  tot: 0h9m6s  (61.5%)\rEpoch: 7.5%  lr: 0.019409  loss: 0.007929  eta: 0h5m  tot: 0h9m6s  (61.5%)\rEpoch: 7.6%  lr: 0.019409  loss: 0.007901  eta: 0h5m  tot: 0h9m7s  (61.5%)\rEpoch: 7.7%  lr: 0.019379  loss: 0.007960  eta: 0h5m  tot: 0h9m7s  (61.5%)\rEpoch: 7.7%  lr: 0.019359  loss: 0.007939  eta: 0h5m  tot: 0h9m7s  (61.5%)\rEpoch: 7.8%  lr: 0.019359  loss: 0.008006  eta: 0h5m  tot: 0h9m7s  (61.6%)\rEpoch: 7.9%  lr: 0.019359  loss: 0.008069  eta: 0h5m  tot: 0h9m7s  (61.6%)\rEpoch: 8.0%  lr: 0.019349  loss: 0.008065  eta: 0h5m  tot: 0h9m7s  (61.6%)\rEpoch: 8.1%  lr: 0.019349  loss: 0.008167  eta: 0h5m  tot: 0h9m7s  (61.6%)\rEpoch: 8.2%  lr: 0.019349  loss: 0.008151  eta: 0h5m  tot: 0h9m8s  (61.6%)\rEpoch: 8.3%  lr: 0.019349  loss: 0.008160  eta: 0h5m  tot: 0h9m8s  (61.7%)\rEpoch: 8.4%  lr: 0.019349  loss: 0.008112  eta: 0h5m  tot: 0h9m8s  (61.7%)\rEpoch: 8.5%  lr: 0.019329  loss: 0.008119  eta: 0h5m  tot: 0h9m8s  (61.7%)\rEpoch: 8.6%  lr: 0.019329  loss: 0.008092  eta: 0h5m  tot: 0h9m8s  (61.7%)\rEpoch: 8.6%  lr: 0.019319  loss: 0.008064  eta: 0h5m  tot: 0h9m8s  (61.7%)\rEpoch: 8.7%  lr: 0.019319  loss: 0.008090  eta: 0h5m  tot: 0h9m9s  (61.7%)\rEpoch: 8.8%  lr: 0.019309  loss: 0.008043  eta: 0h5m  tot: 0h9m9s  (61.8%)\rEpoch: 8.9%  lr: 0.019299  loss: 0.008038  eta: 0h5m  tot: 0h9m9s  (61.8%)\rEpoch: 9.0%  lr: 0.019289  loss: 0.008024  eta: 0h5m  tot: 0h9m9s  (61.8%)\rEpoch: 9.1%  lr: 0.019269  loss: 0.007997  eta: 0h5m  tot: 0h9m9s  (61.8%)\rEpoch: 9.2%  lr: 0.019249  loss: 0.007974  eta: 0h5m  tot: 0h9m9s  (61.8%)\rEpoch: 9.3%  lr: 0.019249  loss: 0.007951  eta: 0h5m  tot: 0h9m9s  (61.9%)\rEpoch: 9.4%  lr: 0.019249  loss: 0.007911  eta: 0h5m  tot: 0h9m10s  (61.9%)\rEpoch: 9.5%  lr: 0.019249  loss: 0.007942  eta: 0h5m  tot: 0h9m10s  (61.9%)\rEpoch: 9.5%  lr: 0.019249  loss: 0.007914  eta: 0h5m  tot: 0h9m10s  (61.9%)\rEpoch: 9.6%  lr: 0.019249  loss: 0.007893  eta: 0h5m  tot: 0h9m10s  (61.9%)\rEpoch: 9.7%  lr: 0.019249  loss: 0.007922  eta: 0h5m  tot: 0h9m10s  (61.9%)\rEpoch: 9.8%  lr: 0.019239  loss: 0.007937  eta: 0h5m  tot: 0h9m10s  (62.0%)\rEpoch: 9.9%  lr: 0.019239  loss: 0.007937  eta: 0h5m  tot: 0h9m11s  (62.0%)\rEpoch: 10.0%  lr: 0.019239  loss: 0.007967  eta: 0h5m  tot: 0h9m11s  (62.0%)\rEpoch: 10.1%  lr: 0.019229  loss: 0.007934  eta: 0h5m  tot: 0h9m11s  (62.0%)\rEpoch: 10.2%  lr: 0.019219  loss: 0.007909  eta: 0h5m  tot: 0h9m11s  (62.0%)\rEpoch: 10.3%  lr: 0.019209  loss: 0.007916  eta: 0h5m  tot: 0h9m11s  (62.1%)\rEpoch: 10.4%  lr: 0.019209  loss: 0.007909  eta: 0h5m  tot: 0h9m11s  (62.1%)\rEpoch: 10.4%  lr: 0.019209  loss: 0.007879  eta: 0h5m  tot: 0h9m11s  (62.1%)\rEpoch: 10.5%  lr: 0.019199  loss: 0.007847  eta: 0h5m  tot: 0h9m12s  (62.1%)\rEpoch: 10.6%  lr: 0.019179  loss: 0.007819  eta: 0h5m  tot: 0h9m12s  (62.1%)\rEpoch: 10.7%  lr: 0.019159  loss: 0.007815  eta: 0h5m  tot: 0h9m12s  (62.1%)\rEpoch: 10.8%  lr: 0.019159  loss: 0.007779  eta: 0h5m  tot: 0h9m12s  (62.2%)\rEpoch: 10.9%  lr: 0.019159  loss: 0.007789  eta: 0h5m  tot: 0h9m12s  (62.2%)\rEpoch: 11.0%  lr: 0.019149  loss: 0.007792  eta: 0h5m  tot: 0h9m12s  (62.2%)\rEpoch: 11.1%  lr: 0.019149  loss: 0.007735  eta: 0h5m  tot: 0h9m13s  (62.2%)\rEpoch: 11.2%  lr: 0.019109  loss: 0.007713  eta: 0h5m  tot: 0h9m13s  (62.2%)\rEpoch: 11.3%  lr: 0.019099  loss: 0.007696  eta: 0h5m  tot: 0h9m13s  (62.3%)\rEpoch: 11.3%  lr: 0.019089  loss: 0.007697  eta: 0h5m  tot: 0h9m13s  (62.3%)\rEpoch: 11.4%  lr: 0.019079  loss: 0.007647  eta: 0h5m  tot: 0h9m13s  (62.3%)\rEpoch: 11.5%  lr: 0.019069  loss: 0.007632  eta: 0h5m  tot: 0h9m13s  (62.3%)\rEpoch: 11.6%  lr: 0.019059  loss: 0.007624  eta: 0h5m  tot: 0h9m13s  (62.3%)\rEpoch: 11.7%  lr: 0.019059  loss: 0.007616  eta: 0h5m  tot: 0h9m14s  (62.3%)\rEpoch: 11.8%  lr: 0.019059  loss: 0.007578  eta: 0h5m  tot: 0h9m14s  (62.4%)\rEpoch: 11.9%  lr: 0.019059  loss: 0.007613  eta: 0h5m  tot: 0h9m14s  (62.4%)\rEpoch: 12.0%  lr: 0.019029  loss: 0.007608  eta: 0h5m  tot: 0h9m14s  (62.4%)\rEpoch: 12.1%  lr: 0.019019  loss: 0.007644  eta: 0h5m  tot: 0h9m14s  (62.4%)\rEpoch: 12.2%  lr: 0.018999  loss: 0.007592  eta: 0h5m  tot: 0h9m14s  (62.4%)\rEpoch: 12.2%  lr: 0.018989  loss: 0.007585  eta: 0h5m  tot: 0h9m15s  (62.4%)\rEpoch: 12.3%  lr: 0.018979  loss: 0.007546  eta: 0h5m  tot: 0h9m15s  (62.5%)\rEpoch: 12.4%  lr: 0.018979  loss: 0.007526  eta: 0h5m  tot: 0h9m15s  (62.5%)\rEpoch: 12.5%  lr: 0.018979  loss: 0.007518  eta: 0h5m  tot: 0h9m15s  (62.5%)\rEpoch: 12.6%  lr: 0.018979  loss: 0.007505  eta: 0h5m  tot: 0h9m15s  (62.5%)\rEpoch: 12.7%  lr: 0.018959  loss: 0.007492  eta: 0h5m  tot: 0h9m15s  (62.5%)\rEpoch: 12.8%  lr: 0.018959  loss: 0.007477  eta: 0h5m  tot: 0h9m15s  (62.6%)\rEpoch: 12.9%  lr: 0.018939  loss: 0.007495  eta: 0h5m  tot: 0h9m16s  (62.6%)\rEpoch: 13.0%  lr: 0.018929  loss: 0.007531  eta: 0h5m  tot: 0h9m16s  (62.6%)\rEpoch: 13.1%  lr: 0.018929  loss: 0.007495  eta: 0h5m  tot: 0h9m16s  (62.6%)\rEpoch: 13.1%  lr: 0.018899  loss: 0.007505  eta: 0h5m  tot: 0h9m16s  (62.6%)\rEpoch: 13.2%  lr: 0.018879  loss: 0.007512  eta: 0h5m  tot: 0h9m16s  (62.6%)\rEpoch: 13.3%  lr: 0.018859  loss: 0.007506  eta: 0h5m  tot: 0h9m16s  (62.7%)\rEpoch: 13.4%  lr: 0.018839  loss: 0.007519  eta: 0h5m  tot: 0h9m17s  (62.7%)\rEpoch: 13.5%  lr: 0.018819  loss: 0.007507  eta: 0h5m  tot: 0h9m17s  (62.7%)\rEpoch: 13.6%  lr: 0.018819  loss: 0.007508  eta: 0h5m  tot: 0h9m17s  (62.7%)\rEpoch: 13.7%  lr: 0.018819  loss: 0.007474  eta: 0h5m  tot: 0h9m17s  (62.7%)\rEpoch: 13.8%  lr: 0.018819  loss: 0.007481  eta: 0h5m  tot: 0h9m17s  (62.8%)\rEpoch: 13.9%  lr: 0.018809  loss: 0.007467  eta: 0h5m  tot: 0h9m17s  (62.8%)\rEpoch: 14.0%  lr: 0.018799  loss: 0.007440  eta: 0h5m  tot: 0h9m17s  (62.8%)\rEpoch: 14.0%  lr: 0.018779  loss: 0.007475  eta: 0h5m  tot: 0h9m18s  (62.8%)\rEpoch: 14.1%  lr: 0.018779  loss: 0.007478  eta: 0h5m  tot: 0h9m18s  (62.8%)\rEpoch: 14.2%  lr: 0.018779  loss: 0.007455  eta: 0h5m  tot: 0h9m18s  (62.8%)\rEpoch: 14.3%  lr: 0.018759  loss: 0.007463  eta: 0h5m  tot: 0h9m18s  (62.9%)\rEpoch: 14.4%  lr: 0.018759  loss: 0.007455  eta: 0h5m  tot: 0h9m18s  (62.9%)\rEpoch: 14.5%  lr: 0.018759  loss: 0.007437  eta: 0h5m  tot: 0h9m18s  (62.9%)\rEpoch: 14.6%  lr: 0.018749  loss: 0.007435  eta: 0h5m  tot: 0h9m18s  (62.9%)\rEpoch: 14.7%  lr: 0.018729  loss: 0.007471  eta: 0h5m  tot: 0h9m19s  (62.9%)\rEpoch: 14.8%  lr: 0.018719  loss: 0.007450  eta: 0h5m  tot: 0h9m19s  (63.0%)\rEpoch: 14.9%  lr: 0.018709  loss: 0.007431  eta: 0h5m  tot: 0h9m19s  (63.0%)\rEpoch: 14.9%  lr: 0.018699  loss: 0.007432  eta: 0h5m  tot: 0h9m19s  (63.0%)\rEpoch: 15.0%  lr: 0.018699  loss: 0.007446  eta: 0h5m  tot: 0h9m19s  (63.0%)\rEpoch: 15.1%  lr: 0.018689  loss: 0.007432  eta: 0h5m  tot: 0h9m19s  (63.0%)\rEpoch: 15.2%  lr: 0.018689  loss: 0.007399  eta: 0h5m  tot: 0h9m20s  (63.0%)\rEpoch: 15.3%  lr: 0.018679  loss: 0.007389  eta: 0h5m  tot: 0h9m20s  (63.1%)\rEpoch: 15.4%  lr: 0.018659  loss: 0.007381  eta: 0h5m  tot: 0h9m20s  (63.1%)\rEpoch: 15.5%  lr: 0.018659  loss: 0.007406  eta: 0h5m  tot: 0h9m20s  (63.1%)\rEpoch: 15.6%  lr: 0.018649  loss: 0.007422  eta: 0h5m  tot: 0h9m20s  (63.1%)\rEpoch: 15.7%  lr: 0.018649  loss: 0.007410  eta: 0h5m  tot: 0h9m20s  (63.1%)\rEpoch: 15.8%  lr: 0.018649  loss: 0.007414  eta: 0h5m  tot: 0h9m21s  (63.2%)\rEpoch: 15.8%  lr: 0.018629  loss: 0.007438  eta: 0h5m  tot: 0h9m21s  (63.2%)\rEpoch: 15.9%  lr: 0.018619  loss: 0.007450  eta: 0h5m  tot: 0h9m21s  (63.2%)\rEpoch: 16.0%  lr: 0.018599  loss: 0.007484  eta: 0h5m  tot: 0h9m21s  (63.2%)\rEpoch: 16.1%  lr: 0.018599  loss: 0.007482  eta: 0h5m  tot: 0h9m21s  (63.2%)\rEpoch: 16.2%  lr: 0.018599  loss: 0.007488  eta: 0h5m  tot: 0h9m21s  (63.2%)\rEpoch: 16.3%  lr: 0.018599  loss: 0.007473  eta: 0h5m  tot: 0h9m21s  (63.3%)\rEpoch: 16.4%  lr: 0.018599  loss: 0.007509  eta: 0h5m  tot: 0h9m22s  (63.3%)\rEpoch: 16.5%  lr: 0.018579  loss: 0.007495  eta: 0h5m  tot: 0h9m22s  (63.3%)\rEpoch: 16.6%  lr: 0.018579  loss: 0.007469  eta: 0h5m  tot: 0h9m22s  (63.3%)\rEpoch: 16.7%  lr: 0.018579  loss: 0.007483  eta: 0h5m  tot: 0h9m22s  (63.3%)\rEpoch: 16.7%  lr: 0.018569  loss: 0.007460  eta: 0h5m  tot: 0h9m22s  (63.3%)\rEpoch: 16.8%  lr: 0.018549  loss: 0.007453  eta: 0h5m  tot: 0h9m22s  (63.4%)\rEpoch: 16.9%  lr: 0.018539  loss: 0.007454  eta: 0h5m  tot: 0h9m22s  (63.4%)\rEpoch: 17.0%  lr: 0.018539  loss: 0.007443  eta: 0h5m  tot: 0h9m23s  (63.4%)\rEpoch: 17.1%  lr: 0.018519  loss: 0.007434  eta: 0h5m  tot: 0h9m23s  (63.4%)\rEpoch: 17.2%  lr: 0.018519  loss: 0.007404  eta: 0h5m  tot: 0h9m23s  (63.4%)\rEpoch: 17.3%  lr: 0.018509  loss: 0.007403  eta: 0h5m  tot: 0h9m23s  (63.5%)\rEpoch: 17.4%  lr: 0.018509  loss: 0.007410  eta: 0h5m  tot: 0h9m23s  (63.5%)\rEpoch: 17.5%  lr: 0.018479  loss: 0.007435  eta: 0h5m  tot: 0h9m23s  (63.5%)\rEpoch: 17.6%  lr: 0.018468  loss: 0.007438  eta: 0h5m  tot: 0h9m24s  (63.5%)\rEpoch: 17.6%  lr: 0.018468  loss: 0.007453  eta: 0h5m  tot: 0h9m24s  (63.5%)\rEpoch: 17.7%  lr: 0.018468  loss: 0.007465  eta: 0h5m  tot: 0h9m24s  (63.5%)\rEpoch: 17.8%  lr: 0.018458  loss: 0.007498  eta: 0h5m  tot: 0h9m24s  (63.6%)\rEpoch: 17.9%  lr: 0.018458  loss: 0.007509  eta: 0h5m  tot: 0h9m24s  (63.6%)\rEpoch: 18.0%  lr: 0.018448  loss: 0.007487  eta: 0h5m  tot: 0h9m24s  (63.6%)\rEpoch: 18.1%  lr: 0.018428  loss: 0.007473  eta: 0h5m  tot: 0h9m25s  (63.6%)\rEpoch: 18.2%  lr: 0.018428  loss: 0.007441  eta: 0h5m  tot: 0h9m25s  (63.6%)\rEpoch: 18.3%  lr: 0.018428  loss: 0.007463  eta: 0h5m  tot: 0h9m25s  (63.7%)\rEpoch: 18.4%  lr: 0.018428  loss: 0.007472  eta: 0h5m  tot: 0h9m25s  (63.7%)\rEpoch: 18.5%  lr: 0.018428  loss: 0.007459  eta: 0h5m  tot: 0h9m25s  (63.7%)\rEpoch: 18.5%  lr: 0.018418  loss: 0.007490  eta: 0h5m  tot: 0h9m25s  (63.7%)\rEpoch: 18.6%  lr: 0.018418  loss: 0.007522  eta: 0h5m  tot: 0h9m25s  (63.7%)\rEpoch: 18.7%  lr: 0.018408  loss: 0.007532  eta: 0h5m  tot: 0h9m26s  (63.7%)\rEpoch: 18.8%  lr: 0.018408  loss: 0.007540  eta: 0h5m  tot: 0h9m26s  (63.8%)\rEpoch: 18.9%  lr: 0.018408  loss: 0.007607  eta: 0h5m  tot: 0h9m26s  (63.8%)\rEpoch: 19.0%  lr: 0.018408  loss: 0.007657  eta: 0h5m  tot: 0h9m26s  (63.8%)\rEpoch: 19.1%  lr: 0.018408  loss: 0.007660  eta: 0h5m  tot: 0h9m26s  (63.8%)\rEpoch: 19.2%  lr: 0.018408  loss: 0.007648  eta: 0h5m  tot: 0h9m26s  (63.8%)\rEpoch: 19.3%  lr: 0.018408  loss: 0.007678  eta: 0h5m  tot: 0h9m27s  (63.9%)\rEpoch: 19.4%  lr: 0.018408  loss: 0.007675  eta: 0h5m  tot: 0h9m27s  (63.9%)\rEpoch: 19.4%  lr: 0.018388  loss: 0.007666  eta: 0h5m  tot: 0h9m27s  (63.9%)\rEpoch: 19.5%  lr: 0.018368  loss: 0.007660  eta: 0h5m  tot: 0h9m27s  (63.9%)\rEpoch: 19.6%  lr: 0.018368  loss: 0.007646  eta: 0h5m  tot: 0h9m27s  (63.9%)\rEpoch: 19.7%  lr: 0.018348  loss: 0.007642  eta: 0h5m  tot: 0h9m27s  (63.9%)\rEpoch: 19.8%  lr: 0.018348  loss: 0.007623  eta: 0h5m  tot: 0h9m27s  (64.0%)\rEpoch: 19.9%  lr: 0.018328  loss: 0.007679  eta: 0h5m  tot: 0h9m28s  (64.0%)\rEpoch: 20.0%  lr: 0.018318  loss: 0.007654  eta: 0h5m  tot: 0h9m28s  (64.0%)\rEpoch: 20.1%  lr: 0.018308  loss: 0.007652  eta: 0h5m  tot: 0h9m28s  (64.0%)\rEpoch: 20.2%  lr: 0.018298  loss: 0.007629  eta: 0h5m  tot: 0h9m28s  (64.0%)\rEpoch: 20.3%  lr: 0.018288  loss: 0.007615  eta: 0h5m  tot: 0h9m28s  (64.1%)\rEpoch: 20.3%  lr: 0.018288  loss: 0.007605  eta: 0h5m  tot: 0h9m28s  (64.1%)\rEpoch: 20.4%  lr: 0.018258  loss: 0.007578  eta: 0h5m  tot: 0h9m29s  (64.1%)\rEpoch: 20.5%  lr: 0.018238  loss: 0.007570  eta: 0h5m  tot: 0h9m29s  (64.1%)\rEpoch: 20.6%  lr: 0.018218  loss: 0.007559  eta: 0h5m  tot: 0h9m29s  (64.1%)\rEpoch: 20.7%  lr: 0.018218  loss: 0.007566  eta: 0h5m  tot: 0h9m29s  (64.1%)\rEpoch: 20.8%  lr: 0.018198  loss: 0.007576  eta: 0h5m  tot: 0h9m29s  (64.2%)\rEpoch: 20.9%  lr: 0.018168  loss: 0.007551  eta: 0h5m  tot: 0h9m29s  (64.2%)\rEpoch: 21.0%  lr: 0.018158  loss: 0.007551  eta: 0h5m  tot: 0h9m29s  (64.2%)\rEpoch: 21.1%  lr: 0.018148  loss: 0.007529  eta: 0h5m  tot: 0h9m30s  (64.2%)\rEpoch: 21.2%  lr: 0.018138  loss: 0.007533  eta: 0h5m  tot: 0h9m30s  (64.2%)\rEpoch: 21.2%  lr: 0.018138  loss: 0.007544  eta: 0h5m  tot: 0h9m30s  (64.2%)\rEpoch: 21.3%  lr: 0.018128  loss: 0.007544  eta: 0h5m  tot: 0h9m30s  (64.3%)\rEpoch: 21.4%  lr: 0.018128  loss: 0.007536  eta: 0h5m  tot: 0h9m30s  (64.3%)\rEpoch: 21.5%  lr: 0.018128  loss: 0.007538  eta: 0h5m  tot: 0h9m30s  (64.3%)\rEpoch: 21.6%  lr: 0.018118  loss: 0.007543  eta: 0h5m  tot: 0h9m30s  (64.3%)\rEpoch: 21.7%  lr: 0.018108  loss: 0.007561  eta: 0h5m  tot: 0h9m31s  (64.3%)\rEpoch: 21.8%  lr: 0.018108  loss: 0.007575  eta: 0h5m  tot: 0h9m31s  (64.4%)\rEpoch: 21.9%  lr: 0.018088  loss: 0.007570  eta: 0h5m  tot: 0h9m31s  (64.4%)\rEpoch: 22.0%  lr: 0.018068  loss: 0.007568  eta: 0h5m  tot: 0h9m31s  (64.4%)\rEpoch: 22.1%  lr: 0.018058  loss: 0.007579  eta: 0h5m  tot: 0h9m31s  (64.4%)\rEpoch: 22.1%  lr: 0.018038  loss: 0.007559  eta: 0h5m  tot: 0h9m31s  (64.4%)\rEpoch: 22.2%  lr: 0.018038  loss: 0.007560  eta: 0h5m  tot: 0h9m32s  (64.4%)\rEpoch: 22.3%  lr: 0.017998  loss: 0.007557  eta: 0h5m  tot: 0h9m32s  (64.5%)\rEpoch: 22.4%  lr: 0.017978  loss: 0.007546  eta: 0h5m  tot: 0h9m32s  (64.5%)\rEpoch: 22.5%  lr: 0.017958  loss: 0.007575  eta: 0h5m  tot: 0h9m32s  (64.5%)\rEpoch: 22.6%  lr: 0.017948  loss: 0.007562  eta: 0h5m  tot: 0h9m32s  (64.5%)\rEpoch: 22.7%  lr: 0.017948  loss: 0.007550  eta: 0h5m  tot: 0h9m32s  (64.5%)\rEpoch: 22.8%  lr: 0.017928  loss: 0.007539  eta: 0h5m  tot: 0h9m32s  (64.6%)\rEpoch: 22.9%  lr: 0.017928  loss: 0.007524  eta: 0h5m  tot: 0h9m33s  (64.6%)\rEpoch: 23.0%  lr: 0.017928  loss: 0.007522  eta: 0h5m  tot: 0h9m33s  (64.6%)\rEpoch: 23.0%  lr: 0.017928  loss: 0.007508  eta: 0h5m  tot: 0h9m33s  (64.6%)\rEpoch: 23.1%  lr: 0.017928  loss: 0.007501  eta: 0h5m  tot: 0h9m33s  (64.6%)\rEpoch: 23.2%  lr: 0.017918  loss: 0.007496  eta: 0h5m  tot: 0h9m33s  (64.6%)\rEpoch: 23.3%  lr: 0.017918  loss: 0.007485  eta: 0h5m  tot: 0h9m33s  (64.7%)\rEpoch: 23.4%  lr: 0.017908  loss: 0.007471  eta: 0h5m  tot: 0h9m34s  (64.7%)\rEpoch: 23.5%  lr: 0.017898  loss: 0.007457  eta: 0h5m  tot: 0h9m34s  (64.7%)\rEpoch: 23.6%  lr: 0.017898  loss: 0.007457  eta: 0h5m  tot: 0h9m34s  (64.7%)\rEpoch: 23.7%  lr: 0.017888  loss: 0.007453  eta: 0h5m  tot: 0h9m34s  (64.7%)\rEpoch: 23.8%  lr: 0.017888  loss: 0.007452  eta: 0h4m  tot: 0h9m34s  (64.8%)\rEpoch: 23.9%  lr: 0.017888  loss: 0.007448  eta: 0h4m  tot: 0h9m34s  (64.8%)\rEpoch: 23.9%  lr: 0.017888  loss: 0.007442  eta: 0h4m  tot: 0h9m34s  (64.8%)\rEpoch: 24.0%  lr: 0.017868  loss: 0.007445  eta: 0h4m  tot: 0h9m35s  (64.8%)\rEpoch: 24.1%  lr: 0.017858  loss: 0.007429  eta: 0h4m  tot: 0h9m35s  (64.8%)\rEpoch: 24.2%  lr: 0.017838  loss: 0.007418  eta: 0h4m  tot: 0h9m35s  (64.8%)\rEpoch: 24.3%  lr: 0.017838  loss: 0.007419  eta: 0h4m  tot: 0h9m35s  (64.9%)\rEpoch: 24.4%  lr: 0.017828  loss: 0.007473  eta: 0h4m  tot: 0h9m35s  (64.9%)\rEpoch: 24.5%  lr: 0.017828  loss: 0.007494  eta: 0h4m  tot: 0h9m35s  (64.9%)\rEpoch: 24.6%  lr: 0.017828  loss: 0.007485  eta: 0h4m  tot: 0h9m36s  (64.9%)\rEpoch: 24.7%  lr: 0.017818  loss: 0.007516  eta: 0h4m  tot: 0h9m36s  (64.9%)\rEpoch: 24.8%  lr: 0.017808  loss: 0.007497  eta: 0h4m  tot: 0h9m36s  (65.0%)\rEpoch: 24.8%  lr: 0.017798  loss: 0.007489  eta: 0h4m  tot: 0h9m36s  (65.0%)\rEpoch: 24.9%  lr: 0.017798  loss: 0.007485  eta: 0h4m  tot: 0h9m36s  (65.0%)\rEpoch: 25.0%  lr: 0.017798  loss: 0.007480  eta: 0h4m  tot: 0h9m36s  (65.0%)\rEpoch: 25.1%  lr: 0.017788  loss: 0.007482  eta: 0h4m  tot: 0h9m36s  (65.0%)\rEpoch: 25.2%  lr: 0.017778  loss: 0.007488  eta: 0h4m  tot: 0h9m37s  (65.0%)\rEpoch: 25.3%  lr: 0.017778  loss: 0.007476  eta: 0h4m  tot: 0h9m37s  (65.1%)\rEpoch: 25.4%  lr: 0.017778  loss: 0.007458  eta: 0h4m  tot: 0h9m37s  (65.1%)\rEpoch: 25.5%  lr: 0.017778  loss: 0.007454  eta: 0h4m  tot: 0h9m37s  (65.1%)\rEpoch: 25.6%  lr: 0.017778  loss: 0.007473  eta: 0h4m  tot: 0h9m37s  (65.1%)\rEpoch: 25.7%  lr: 0.017778  loss: 0.007474  eta: 0h4m  tot: 0h9m37s  (65.1%)\rEpoch: 25.7%  lr: 0.017728  loss: 0.007493  eta: 0h4m  tot: 0h9m38s  (65.1%)\rEpoch: 25.8%  lr: 0.017708  loss: 0.007490  eta: 0h4m  tot: 0h9m38s  (65.2%)\rEpoch: 25.9%  lr: 0.017708  loss: 0.007500  eta: 0h4m  tot: 0h9m38s  (65.2%)\rEpoch: 26.0%  lr: 0.017698  loss: 0.007515  eta: 0h4m  tot: 0h9m38s  (65.2%)\rEpoch: 26.1%  lr: 0.017688  loss: 0.007512  eta: 0h4m  tot: 0h9m38s  (65.2%)\rEpoch: 26.2%  lr: 0.017688  loss: 0.007508  eta: 0h4m  tot: 0h9m38s  (65.2%)\rEpoch: 26.3%  lr: 0.017688  loss: 0.007502  eta: 0h4m  tot: 0h9m38s  (65.3%)\rEpoch: 26.4%  lr: 0.017688  loss: 0.007501  eta: 0h4m  tot: 0h9m39s  (65.3%)\rEpoch: 26.5%  lr: 0.017658  loss: 0.007492  eta: 0h4m  tot: 0h9m39s  (65.3%)\rEpoch: 26.6%  lr: 0.017658  loss: 0.007486  eta: 0h4m  tot: 0h9m39s  (65.3%)\rEpoch: 26.6%  lr: 0.017638  loss: 0.007478  eta: 0h4m  tot: 0h9m39s  (65.3%)\rEpoch: 26.7%  lr: 0.017628  loss: 0.007473  eta: 0h4m  tot: 0h9m39s  (65.3%)\rEpoch: 26.8%  lr: 0.017608  loss: 0.007480  eta: 0h4m  tot: 0h9m39s  (65.4%)\rEpoch: 26.9%  lr: 0.017608  loss: 0.007468  eta: 0h4m  tot: 0h9m40s  (65.4%)\rEpoch: 27.0%  lr: 0.017588  loss: 0.007475  eta: 0h4m  tot: 0h9m40s  (65.4%)\rEpoch: 27.1%  lr: 0.017558  loss: 0.007471  eta: 0h4m  tot: 0h9m40s  (65.4%)\rEpoch: 27.2%  lr: 0.017558  loss: 0.007475  eta: 0h4m  tot: 0h9m40s  (65.4%)\rEpoch: 27.3%  lr: 0.017548  loss: 0.007479  eta: 0h4m  tot: 0h9m40s  (65.5%)\rEpoch: 27.4%  lr: 0.017528  loss: 0.007486  eta: 0h4m  tot: 0h9m40s  (65.5%)\rEpoch: 27.5%  lr: 0.017518  loss: 0.007475  eta: 0h4m  tot: 0h9m40s  (65.5%)\rEpoch: 27.5%  lr: 0.017518  loss: 0.007481  eta: 0h4m  tot: 0h9m41s  (65.5%)\rEpoch: 27.6%  lr: 0.017508  loss: 0.007486  eta: 0h4m  tot: 0h9m41s  (65.5%)\rEpoch: 27.7%  lr: 0.017488  loss: 0.007484  eta: 0h4m  tot: 0h9m41s  (65.5%)\rEpoch: 27.8%  lr: 0.017488  loss: 0.007484  eta: 0h4m  tot: 0h9m41s  (65.6%)\rEpoch: 27.9%  lr: 0.017478  loss: 0.007465  eta: 0h4m  tot: 0h9m41s  (65.6%)\rEpoch: 28.0%  lr: 0.017457  loss: 0.007457  eta: 0h4m  tot: 0h9m41s  (65.6%)\rEpoch: 28.1%  lr: 0.017457  loss: 0.007496  eta: 0h4m  tot: 0h9m42s  (65.6%)\rEpoch: 28.2%  lr: 0.017457  loss: 0.007496  eta: 0h4m  tot: 0h9m42s  (65.6%)\rEpoch: 28.3%  lr: 0.017447  loss: 0.007503  eta: 0h4m  tot: 0h9m42s  (65.7%)\rEpoch: 28.4%  lr: 0.017437  loss: 0.007502  eta: 0h4m  tot: 0h9m42s  (65.7%)\rEpoch: 28.4%  lr: 0.017427  loss: 0.007552  eta: 0h4m  tot: 0h9m42s  (65.7%)\rEpoch: 28.5%  lr: 0.017417  loss: 0.007536  eta: 0h4m  tot: 0h9m42s  (65.7%)\rEpoch: 28.6%  lr: 0.017407  loss: 0.007568  eta: 0h4m  tot: 0h9m42s  (65.7%)\rEpoch: 28.7%  lr: 0.017387  loss: 0.007560  eta: 0h4m  tot: 0h9m43s  (65.7%)\rEpoch: 28.8%  lr: 0.017377  loss: 0.007564  eta: 0h4m  tot: 0h9m43s  (65.8%)\rEpoch: 28.9%  lr: 0.017367  loss: 0.007569  eta: 0h4m  tot: 0h9m43s  (65.8%)\rEpoch: 29.0%  lr: 0.017367  loss: 0.007565  eta: 0h4m  tot: 0h9m43s  (65.8%)\rEpoch: 29.1%  lr: 0.017347  loss: 0.007602  eta: 0h4m  tot: 0h9m43s  (65.8%)\rEpoch: 29.2%  lr: 0.017347  loss: 0.007601  eta: 0h4m  tot: 0h9m43s  (65.8%)\rEpoch: 29.3%  lr: 0.017337  loss: 0.007628  eta: 0h4m  tot: 0h9m44s  (65.9%)\rEpoch: 29.3%  lr: 0.017327  loss: 0.007613  eta: 0h4m  tot: 0h9m44s  (65.9%)\rEpoch: 29.4%  lr: 0.017307  loss: 0.007629  eta: 0h4m  tot: 0h9m44s  (65.9%)\rEpoch: 29.5%  lr: 0.017277  loss: 0.007626  eta: 0h4m  tot: 0h9m44s  (65.9%)\rEpoch: 29.6%  lr: 0.017277  loss: 0.007618  eta: 0h4m  tot: 0h9m44s  (65.9%)\rEpoch: 29.7%  lr: 0.017267  loss: 0.007617  eta: 0h4m  tot: 0h9m44s  (65.9%)\rEpoch: 29.8%  lr: 0.017247  loss: 0.007605  eta: 0h4m  tot: 0h9m44s  (66.0%)\rEpoch: 29.9%  lr: 0.017237  loss: 0.007615  eta: 0h4m  tot: 0h9m45s  (66.0%)\rEpoch: 30.0%  lr: 0.017237  loss: 0.007609  eta: 0h4m  tot: 0h9m45s  (66.0%)\rEpoch: 30.1%  lr: 0.017237  loss: 0.007616  eta: 0h4m  tot: 0h9m45s  (66.0%)\rEpoch: 30.2%  lr: 0.017227  loss: 0.007619  eta: 0h4m  tot: 0h9m45s  (66.0%)\rEpoch: 30.2%  lr: 0.017207  loss: 0.007625  eta: 0h4m  tot: 0h9m45s  (66.0%)\rEpoch: 30.3%  lr: 0.017187  loss: 0.007649  eta: 0h4m  tot: 0h9m45s  (66.1%)\rEpoch: 30.4%  lr: 0.017187  loss: 0.007632  eta: 0h4m  tot: 0h9m46s  (66.1%)\rEpoch: 30.5%  lr: 0.017177  loss: 0.007616  eta: 0h4m  tot: 0h9m46s  (66.1%)\rEpoch: 30.6%  lr: 0.017167  loss: 0.007613  eta: 0h4m  tot: 0h9m46s  (66.1%)\rEpoch: 30.7%  lr: 0.017147  loss: 0.007642  eta: 0h4m  tot: 0h9m46s  (66.1%)\rEpoch: 30.8%  lr: 0.017147  loss: 0.007653  eta: 0h4m  tot: 0h9m46s  (66.2%)\rEpoch: 30.9%  lr: 0.017147  loss: 0.007647  eta: 0h4m  tot: 0h9m46s  (66.2%)\rEpoch: 31.0%  lr: 0.017147  loss: 0.007643  eta: 0h4m  tot: 0h9m46s  (66.2%)\rEpoch: 31.1%  lr: 0.017127  loss: 0.007641  eta: 0h4m  tot: 0h9m47s  (66.2%)\rEpoch: 31.1%  lr: 0.017117  loss: 0.007666  eta: 0h4m  tot: 0h9m47s  (66.2%)\rEpoch: 31.2%  lr: 0.017107  loss: 0.007660  eta: 0h4m  tot: 0h9m47s  (66.2%)\rEpoch: 31.3%  lr: 0.017097  loss: 0.007650  eta: 0h4m  tot: 0h9m47s  (66.3%)\rEpoch: 31.4%  lr: 0.017067  loss: 0.007642  eta: 0h4m  tot: 0h9m47s  (66.3%)\rEpoch: 31.5%  lr: 0.017057  loss: 0.007630  eta: 0h4m  tot: 0h9m47s  (66.3%)\rEpoch: 31.6%  lr: 0.017027  loss: 0.007638  eta: 0h4m  tot: 0h9m48s  (66.3%)\rEpoch: 31.7%  lr: 0.017017  loss: 0.007636  eta: 0h4m  tot: 0h9m48s  (66.3%)\rEpoch: 31.8%  lr: 0.016987  loss: 0.007646  eta: 0h4m  tot: 0h9m48s  (66.4%)\rEpoch: 31.9%  lr: 0.016977  loss: 0.007647  eta: 0h4m  tot: 0h9m48s  (66.4%)\rEpoch: 32.0%  lr: 0.016977  loss: 0.007648  eta: 0h4m  tot: 0h9m48s  (66.4%)\rEpoch: 32.0%  lr: 0.016977  loss: 0.007636  eta: 0h4m  tot: 0h9m48s  (66.4%)\rEpoch: 32.1%  lr: 0.016967  loss: 0.007621  eta: 0h4m  tot: 0h9m48s  (66.4%)\rEpoch: 32.2%  lr: 0.016967  loss: 0.007629  eta: 0h4m  tot: 0h9m49s  (66.4%)\rEpoch: 32.3%  lr: 0.016957  loss: 0.007637  eta: 0h4m  tot: 0h9m49s  (66.5%)\rEpoch: 32.4%  lr: 0.016937  loss: 0.007625  eta: 0h4m  tot: 0h9m49s  (66.5%)\rEpoch: 32.5%  lr: 0.016937  loss: 0.007611  eta: 0h4m  tot: 0h9m49s  (66.5%)\rEpoch: 32.6%  lr: 0.016927  loss: 0.007601  eta: 0h4m  tot: 0h9m49s  (66.5%)\rEpoch: 32.7%  lr: 0.016917  loss: 0.007600  eta: 0h4m  tot: 0h9m49s  (66.5%)\rEpoch: 32.8%  lr: 0.016907  loss: 0.007591  eta: 0h4m  tot: 0h9m50s  (66.6%)\rEpoch: 32.9%  lr: 0.016907  loss: 0.007580  eta: 0h4m  tot: 0h9m50s  (66.6%)\rEpoch: 32.9%  lr: 0.016897  loss: 0.007584  eta: 0h4m  tot: 0h9m50s  (66.6%)\rEpoch: 33.0%  lr: 0.016897  loss: 0.007616  eta: 0h4m  tot: 0h9m50s  (66.6%)\rEpoch: 33.1%  lr: 0.016877  loss: 0.007612  eta: 0h4m  tot: 0h9m50s  (66.6%)\rEpoch: 33.2%  lr: 0.016877  loss: 0.007599  eta: 0h4m  tot: 0h9m50s  (66.6%)\rEpoch: 33.3%  lr: 0.016857  loss: 0.007592  eta: 0h4m  tot: 0h9m50s  (66.7%)\rEpoch: 33.4%  lr: 0.016847  loss: 0.007642  eta: 0h4m  tot: 0h9m51s  (66.7%)\rEpoch: 33.5%  lr: 0.016837  loss: 0.007634  eta: 0h4m  tot: 0h9m51s  (66.7%)\rEpoch: 33.6%  lr: 0.016817  loss: 0.007650  eta: 0h4m  tot: 0h9m51s  (66.7%)\rEpoch: 33.7%  lr: 0.016807  loss: 0.007643  eta: 0h4m  tot: 0h9m51s  (66.7%)\rEpoch: 33.8%  lr: 0.016807  loss: 0.007635  eta: 0h4m  tot: 0h9m51s  (66.8%)\rEpoch: 33.8%  lr: 0.016797  loss: 0.007642  eta: 0h4m  tot: 0h9m51s  (66.8%)\rEpoch: 33.9%  lr: 0.016777  loss: 0.007633  eta: 0h4m  tot: 0h9m52s  (66.8%)\rEpoch: 34.0%  lr: 0.016767  loss: 0.007636  eta: 0h4m  tot: 0h9m52s  (66.8%)\rEpoch: 34.1%  lr: 0.016747  loss: 0.007624  eta: 0h4m  tot: 0h9m52s  (66.8%)\rEpoch: 34.2%  lr: 0.016747  loss: 0.007616  eta: 0h4m  tot: 0h9m52s  (66.8%)\rEpoch: 34.3%  lr: 0.016717  loss: 0.007616  eta: 0h4m  tot: 0h9m52s  (66.9%)\rEpoch: 34.4%  lr: 0.016717  loss: 0.007634  eta: 0h4m  tot: 0h9m52s  (66.9%)\rEpoch: 34.5%  lr: 0.016707  loss: 0.007638  eta: 0h4m  tot: 0h9m52s  (66.9%)\rEpoch: 34.6%  lr: 0.016707  loss: 0.007661  eta: 0h4m  tot: 0h9m53s  (66.9%)\rEpoch: 34.7%  lr: 0.016677  loss: 0.007652  eta: 0h4m  tot: 0h9m53s  (66.9%)\rEpoch: 34.7%  lr: 0.016677  loss: 0.007660  eta: 0h4m  tot: 0h9m53s  (66.9%)\rEpoch: 34.8%  lr: 0.016667  loss: 0.007663  eta: 0h4m  tot: 0h9m53s  (67.0%)\rEpoch: 34.9%  lr: 0.016637  loss: 0.007660  eta: 0h4m  tot: 0h9m53s  (67.0%)\rEpoch: 35.0%  lr: 0.016627  loss: 0.007670  eta: 0h4m  tot: 0h9m53s  (67.0%)\rEpoch: 35.1%  lr: 0.016627  loss: 0.007695  eta: 0h4m  tot: 0h9m54s  (67.0%)\rEpoch: 35.2%  lr: 0.016627  loss: 0.007686  eta: 0h4m  tot: 0h9m54s  (67.0%)\rEpoch: 35.3%  lr: 0.016597  loss: 0.007685  eta: 0h4m  tot: 0h9m54s  (67.1%)\rEpoch: 35.4%  lr: 0.016597  loss: 0.007677  eta: 0h4m  tot: 0h9m54s  (67.1%)\rEpoch: 35.5%  lr: 0.016577  loss: 0.007686  eta: 0h4m  tot: 0h9m54s  (67.1%)\rEpoch: 35.6%  lr: 0.016547  loss: 0.007684  eta: 0h4m  tot: 0h9m54s  (67.1%)\rEpoch: 35.6%  lr: 0.016547  loss: 0.007684  eta: 0h4m  tot: 0h9m54s  (67.1%)\rEpoch: 35.7%  lr: 0.016547  loss: 0.007686  eta: 0h4m  tot: 0h9m55s  (67.1%)\rEpoch: 35.8%  lr: 0.016527  loss: 0.007700  eta: 0h4m  tot: 0h9m55s  (67.2%)\rEpoch: 35.9%  lr: 0.016507  loss: 0.007724  eta: 0h4m  tot: 0h9m55s  (67.2%)\rEpoch: 36.0%  lr: 0.016507  loss: 0.007714  eta: 0h4m  tot: 0h9m55s  (67.2%)\rEpoch: 36.1%  lr: 0.016507  loss: 0.007709  eta: 0h4m  tot: 0h9m55s  (67.2%)\rEpoch: 36.2%  lr: 0.016487  loss: 0.007709  eta: 0h4m  tot: 0h9m55s  (67.2%)\rEpoch: 36.3%  lr: 0.016467  loss: 0.007691  eta: 0h4m  tot: 0h9m55s  (67.3%)\rEpoch: 36.4%  lr: 0.016467  loss: 0.007676  eta: 0h4m  tot: 0h9m56s  (67.3%)\rEpoch: 36.5%  lr: 0.016426  loss: 0.007667  eta: 0h4m  tot: 0h9m56s  (67.3%)\rEpoch: 36.5%  lr: 0.016426  loss: 0.007664  eta: 0h4m  tot: 0h9m56s  (67.3%)\rEpoch: 36.6%  lr: 0.016406  loss: 0.007666  eta: 0h4m  tot: 0h9m56s  (67.3%)\rEpoch: 36.7%  lr: 0.016376  loss: 0.007673  eta: 0h4m  tot: 0h9m56s  (67.3%)\rEpoch: 36.8%  lr: 0.016376  loss: 0.007670  eta: 0h4m  tot: 0h9m56s  (67.4%)\rEpoch: 36.9%  lr: 0.016356  loss: 0.007677  eta: 0h4m  tot: 0h9m57s  (67.4%)\rEpoch: 37.0%  lr: 0.016346  loss: 0.007677  eta: 0h4m  tot: 0h9m57s  (67.4%)\rEpoch: 37.1%  lr: 0.016316  loss: 0.007673  eta: 0h4m  tot: 0h9m57s  (67.4%)\rEpoch: 37.2%  lr: 0.016306  loss: 0.007688  eta: 0h4m  tot: 0h9m57s  (67.4%)\rEpoch: 37.3%  lr: 0.016296  loss: 0.007688  eta: 0h4m  tot: 0h9m57s  (67.5%)\rEpoch: 37.4%  lr: 0.016276  loss: 0.007681  eta: 0h4m  tot: 0h9m57s  (67.5%)\rEpoch: 37.4%  lr: 0.016256  loss: 0.007689  eta: 0h4m  tot: 0h9m58s  (67.5%)\rEpoch: 37.5%  lr: 0.016256  loss: 0.007683  eta: 0h4m  tot: 0h9m58s  (67.5%)\rEpoch: 37.6%  lr: 0.016246  loss: 0.007703  eta: 0h4m  tot: 0h9m58s  (67.5%)\rEpoch: 37.7%  lr: 0.016246  loss: 0.007702  eta: 0h4m  tot: 0h9m58s  (67.5%)\rEpoch: 37.8%  lr: 0.016226  loss: 0.007699  eta: 0h4m  tot: 0h9m58s  (67.6%)\rEpoch: 37.9%  lr: 0.016226  loss: 0.007691  eta: 0h4m  tot: 0h9m58s  (67.6%)\rEpoch: 38.0%  lr: 0.016206  loss: 0.007704  eta: 0h4m  tot: 0h9m58s  (67.6%)\rEpoch: 38.1%  lr: 0.016196  loss: 0.007699  eta: 0h4m  tot: 0h9m59s  (67.6%)\rEpoch: 38.2%  lr: 0.016186  loss: 0.007694  eta: 0h4m  tot: 0h9m59s  (67.6%)\rEpoch: 38.3%  lr: 0.016156  loss: 0.007694  eta: 0h4m  tot: 0h9m59s  (67.7%)\rEpoch: 38.3%  lr: 0.016156  loss: 0.007717  eta: 0h4m  tot: 0h9m59s  (67.7%)\rEpoch: 38.4%  lr: 0.016126  loss: 0.007724  eta: 0h4m  tot: 0h9m59s  (67.7%)\rEpoch: 38.5%  lr: 0.016126  loss: 0.007723  eta: 0h4m  tot: 0h9m59s  (67.7%)\rEpoch: 38.6%  lr: 0.016116  loss: 0.007726  eta: 0h4m  tot: 0h10m0s  (67.7%)\rEpoch: 38.7%  lr: 0.016116  loss: 0.007730  eta: 0h4m  tot: 0h10m0s  (67.7%)\rEpoch: 38.8%  lr: 0.016106  loss: 0.007722  eta: 0h4m  tot: 0h10m0s  (67.8%)\rEpoch: 38.9%  lr: 0.016086  loss: 0.007715  eta: 0h4m  tot: 0h10m0s  (67.8%)\rEpoch: 39.0%  lr: 0.016086  loss: 0.007703  eta: 0h4m  tot: 0h10m0s  (67.8%)\rEpoch: 39.1%  lr: 0.016066  loss: 0.007711  eta: 0h4m  tot: 0h10m0s  (67.8%)\rEpoch: 39.2%  lr: 0.016056  loss: 0.007709  eta: 0h4m  tot: 0h10m0s  (67.8%)\rEpoch: 39.2%  lr: 0.016056  loss: 0.007697  eta: 0h4m  tot: 0h10m1s  (67.8%)\rEpoch: 39.3%  lr: 0.016056  loss: 0.007688  eta: 0h4m  tot: 0h10m1s  (67.9%)\rEpoch: 39.4%  lr: 0.016056  loss: 0.007688  eta: 0h4m  tot: 0h10m1s  (67.9%)\rEpoch: 39.5%  lr: 0.016056  loss: 0.007702  eta: 0h4m  tot: 0h10m1s  (67.9%)\rEpoch: 39.6%  lr: 0.016026  loss: 0.007698  eta: 0h4m  tot: 0h10m1s  (67.9%)\rEpoch: 39.7%  lr: 0.016016  loss: 0.007690  eta: 0h4m  tot: 0h10m1s  (67.9%)\rEpoch: 39.8%  lr: 0.016016  loss: 0.007713  eta: 0h4m  tot: 0h10m2s  (68.0%)\rEpoch: 39.9%  lr: 0.015996  loss: 0.007711  eta: 0h4m  tot: 0h10m2s  (68.0%)\rEpoch: 40.0%  lr: 0.015976  loss: 0.007715  eta: 0h4m  tot: 0h10m2s  (68.0%)\rEpoch: 40.1%  lr: 0.015956  loss: 0.007716  eta: 0h4m  tot: 0h10m2s  (68.0%)\rEpoch: 40.1%  lr: 0.015956  loss: 0.007721  eta: 0h4m  tot: 0h10m2s  (68.0%)\rEpoch: 40.2%  lr: 0.015946  loss: 0.007724  eta: 0h4m  tot: 0h10m2s  (68.0%)\rEpoch: 40.3%  lr: 0.015946  loss: 0.007727  eta: 0h4m  tot: 0h10m2s  (68.1%)\rEpoch: 40.4%  lr: 0.015936  loss: 0.007734  eta: 0h4m  tot: 0h10m3s  (68.1%)\rEpoch: 40.5%  lr: 0.015936  loss: 0.007736  eta: 0h4m  tot: 0h10m3s  (68.1%)\rEpoch: 40.6%  lr: 0.015936  loss: 0.007736  eta: 0h4m  tot: 0h10m3s  (68.1%)\rEpoch: 40.7%  lr: 0.015936  loss: 0.007746  eta: 0h4m  tot: 0h10m3s  (68.1%)\rEpoch: 40.8%  lr: 0.015906  loss: 0.007744  eta: 0h4m  tot: 0h10m3s  (68.2%)\rEpoch: 40.9%  lr: 0.015906  loss: 0.007739  eta: 0h4m  tot: 0h10m3s  (68.2%)\rEpoch: 41.0%  lr: 0.015906  loss: 0.007736  eta: 0h4m  tot: 0h10m4s  (68.2%)\rEpoch: 41.0%  lr: 0.015906  loss: 0.007730  eta: 0h4m  tot: 0h10m4s  (68.2%)\rEpoch: 41.1%  lr: 0.015896  loss: 0.007726  eta: 0h4m  tot: 0h10m4s  (68.2%)\rEpoch: 41.2%  lr: 0.015876  loss: 0.007739  eta: 0h4m  tot: 0h10m4s  (68.2%)\rEpoch: 41.3%  lr: 0.015846  loss: 0.007745  eta: 0h4m  tot: 0h10m4s  (68.3%)\rEpoch: 41.4%  lr: 0.015846  loss: 0.007733  eta: 0h4m  tot: 0h10m4s  (68.3%)\rEpoch: 41.5%  lr: 0.015836  loss: 0.007733  eta: 0h4m  tot: 0h10m4s  (68.3%)\rEpoch: 41.6%  lr: 0.015836  loss: 0.007742  eta: 0h4m  tot: 0h10m5s  (68.3%)\rEpoch: 41.7%  lr: 0.015826  loss: 0.007758  eta: 0h4m  tot: 0h10m5s  (68.3%)\rEpoch: 41.8%  lr: 0.015806  loss: 0.007749  eta: 0h4m  tot: 0h10m5s  (68.4%)\rEpoch: 41.9%  lr: 0.015806  loss: 0.007750  eta: 0h4m  tot: 0h10m5s  (68.4%)\rEpoch: 42.0%  lr: 0.015806  loss: 0.007751  eta: 0h4m  tot: 0h10m5s  (68.4%)\rEpoch: 42.0%  lr: 0.015786  loss: 0.007743  eta: 0h4m  tot: 0h10m6s  (68.4%)\rEpoch: 42.1%  lr: 0.015786  loss: 0.007741  eta: 0h4m  tot: 0h10m6s  (68.4%)\rEpoch: 42.2%  lr: 0.015786  loss: 0.007751  eta: 0h4m  tot: 0h10m6s  (68.4%)\rEpoch: 42.3%  lr: 0.015786  loss: 0.007749  eta: 0h4m  tot: 0h10m6s  (68.5%)\rEpoch: 42.4%  lr: 0.015786  loss: 0.007785  eta: 0h4m  tot: 0h10m6s  (68.5%)\rEpoch: 42.5%  lr: 0.015786  loss: 0.007778  eta: 0h4m  tot: 0h10m6s  (68.5%)\rEpoch: 42.6%  lr: 0.015786  loss: 0.007767  eta: 0h4m  tot: 0h10m6s  (68.5%)\rEpoch: 42.7%  lr: 0.015776  loss: 0.007769  eta: 0h4m  tot: 0h10m7s  (68.5%)\rEpoch: 42.8%  lr: 0.015766  loss: 0.007778  eta: 0h4m  tot: 0h10m7s  (68.6%)\rEpoch: 42.9%  lr: 0.015756  loss: 0.007767  eta: 0h4m  tot: 0h10m7s  (68.6%)\rEpoch: 42.9%  lr: 0.015746  loss: 0.007759  eta: 0h4m  tot: 0h10m7s  (68.6%)\rEpoch: 43.0%  lr: 0.015706  loss: 0.007767  eta: 0h4m  tot: 0h10m7s  (68.6%)\rEpoch: 43.1%  lr: 0.015696  loss: 0.007762  eta: 0h4m  tot: 0h10m7s  (68.6%)\rEpoch: 43.2%  lr: 0.015686  loss: 0.007762  eta: 0h4m  tot: 0h10m7s  (68.6%)\rEpoch: 43.3%  lr: 0.015676  loss: 0.007757  eta: 0h4m  tot: 0h10m8s  (68.7%)\rEpoch: 43.4%  lr: 0.015646  loss: 0.007759  eta: 0h4m  tot: 0h10m8s  (68.7%)\rEpoch: 43.5%  lr: 0.015646  loss: 0.007756  eta: 0h4m  tot: 0h10m8s  (68.7%)\rEpoch: 43.6%  lr: 0.015626  loss: 0.007759  eta: 0h4m  tot: 0h10m8s  (68.7%)\rEpoch: 43.7%  lr: 0.015616  loss: 0.007746  eta: 0h4m  tot: 0h10m8s  (68.7%)\rEpoch: 43.8%  lr: 0.015616  loss: 0.007754  eta: 0h4m  tot: 0h10m8s  (68.8%)\rEpoch: 43.8%  lr: 0.015616  loss: 0.007758  eta: 0h4m  tot: 0h10m9s  (68.8%)\rEpoch: 43.9%  lr: 0.015596  loss: 0.007747  eta: 0h4m  tot: 0h10m9s  (68.8%)\rEpoch: 44.0%  lr: 0.015586  loss: 0.007750  eta: 0h4m  tot: 0h10m9s  (68.8%)\rEpoch: 44.1%  lr: 0.015576  loss: 0.007740  eta: 0h4m  tot: 0h10m9s  (68.8%)\rEpoch: 44.2%  lr: 0.015576  loss: 0.007744  eta: 0h4m  tot: 0h10m9s  (68.8%)\rEpoch: 44.3%  lr: 0.015576  loss: 0.007734  eta: 0h4m  tot: 0h10m9s  (68.9%)\rEpoch: 44.4%  lr: 0.015576  loss: 0.007739  eta: 0h4m  tot: 0h10m9s  (68.9%)\rEpoch: 44.5%  lr: 0.015556  loss: 0.007741  eta: 0h4m  tot: 0h10m10s  (68.9%)\rEpoch: 44.6%  lr: 0.015556  loss: 0.007750  eta: 0h4m  tot: 0h10m10s  (68.9%)\rEpoch: 44.7%  lr: 0.015556  loss: 0.007753  eta: 0h4m  tot: 0h10m10s  (68.9%)\rEpoch: 44.7%  lr: 0.015526  loss: 0.007781  eta: 0h4m  tot: 0h10m10s  (68.9%)\rEpoch: 44.8%  lr: 0.015526  loss: 0.007785  eta: 0h4m  tot: 0h10m10s  (69.0%)\rEpoch: 44.9%  lr: 0.015526  loss: 0.007789  eta: 0h4m  tot: 0h10m10s  (69.0%)\rEpoch: 45.0%  lr: 0.015516  loss: 0.007791  eta: 0h4m  tot: 0h10m11s  (69.0%)\rEpoch: 45.1%  lr: 0.015496  loss: 0.007799  eta: 0h4m  tot: 0h10m11s  (69.0%)\rEpoch: 45.2%  lr: 0.015486  loss: 0.007810  eta: 0h4m  tot: 0h10m11s  (69.0%)\rEpoch: 45.3%  lr: 0.015486  loss: 0.007807  eta: 0h4m  tot: 0h10m11s  (69.1%)\rEpoch: 45.4%  lr: 0.015486  loss: 0.007805  eta: 0h4m  tot: 0h10m11s  (69.1%)\rEpoch: 45.5%  lr: 0.015456  loss: 0.007809  eta: 0h4m  tot: 0h10m11s  (69.1%)\rEpoch: 45.6%  lr: 0.015456  loss: 0.007801  eta: 0h4m  tot: 0h10m11s  (69.1%)\rEpoch: 45.6%  lr: 0.015446  loss: 0.007796  eta: 0h4m  tot: 0h10m12s  (69.1%)\rEpoch: 45.7%  lr: 0.015446  loss: 0.007790  eta: 0h4m  tot: 0h10m12s  (69.1%)\rEpoch: 45.8%  lr: 0.015446  loss: 0.007792  eta: 0h4m  tot: 0h10m12s  (69.2%)\rEpoch: 45.9%  lr: 0.015436  loss: 0.007799  eta: 0h4m  tot: 0h10m12s  (69.2%)\rEpoch: 46.0%  lr: 0.015405  loss: 0.007790  eta: 0h4m  tot: 0h10m12s  (69.2%)\rEpoch: 46.1%  lr: 0.015395  loss: 0.007788  eta: 0h4m  tot: 0h10m12s  (69.2%)\rEpoch: 46.2%  lr: 0.015395  loss: 0.007780  eta: 0h4m  tot: 0h10m13s  (69.2%)\rEpoch: 46.3%  lr: 0.015395  loss: 0.007776  eta: 0h4m  tot: 0h10m13s  (69.3%)\rEpoch: 46.4%  lr: 0.015395  loss: 0.007778  eta: 0h4m  tot: 0h10m13s  (69.3%)\rEpoch: 46.5%  lr: 0.015375  loss: 0.007773  eta: 0h4m  tot: 0h10m13s  (69.3%)\rEpoch: 46.5%  lr: 0.015355  loss: 0.007762  eta: 0h4m  tot: 0h10m13s  (69.3%)\rEpoch: 46.6%  lr: 0.015355  loss: 0.007769  eta: 0h4m  tot: 0h10m13s  (69.3%)\rEpoch: 46.7%  lr: 0.015355  loss: 0.007784  eta: 0h4m  tot: 0h10m13s  (69.3%)\rEpoch: 46.8%  lr: 0.015355  loss: 0.007786  eta: 0h4m  tot: 0h10m14s  (69.4%)\rEpoch: 46.9%  lr: 0.015335  loss: 0.007787  eta: 0h4m  tot: 0h10m14s  (69.4%)\rEpoch: 47.0%  lr: 0.015325  loss: 0.007781  eta: 0h4m  tot: 0h10m14s  (69.4%)\rEpoch: 47.1%  lr: 0.015305  loss: 0.007774  eta: 0h4m  tot: 0h10m14s  (69.4%)\rEpoch: 47.2%  lr: 0.015305  loss: 0.007799  eta: 0h4m  tot: 0h10m14s  (69.4%)\rEpoch: 47.3%  lr: 0.015275  loss: 0.007795  eta: 0h4m  tot: 0h10m14s  (69.5%)\rEpoch: 47.4%  lr: 0.015275  loss: 0.007785  eta: 0h4m  tot: 0h10m14s  (69.5%)\rEpoch: 47.4%  lr: 0.015275  loss: 0.007791  eta: 0h4m  tot: 0h10m15s  (69.5%)\rEpoch: 47.5%  lr: 0.015265  loss: 0.007787  eta: 0h4m  tot: 0h10m15s  (69.5%)\rEpoch: 47.6%  lr: 0.015265  loss: 0.007779  eta: 0h4m  tot: 0h10m15s  (69.5%)\rEpoch: 47.7%  lr: 0.015245  loss: 0.007778  eta: 0h4m  tot: 0h10m15s  (69.5%)\rEpoch: 47.8%  lr: 0.015235  loss: 0.007769  eta: 0h4m  tot: 0h10m15s  (69.6%)\rEpoch: 47.9%  lr: 0.015225  loss: 0.007769  eta: 0h4m  tot: 0h10m15s  (69.6%)\rEpoch: 48.0%  lr: 0.015205  loss: 0.007767  eta: 0h4m  tot: 0h10m16s  (69.6%)\rEpoch: 48.1%  lr: 0.015205  loss: 0.007759  eta: 0h4m  tot: 0h10m16s  (69.6%)\rEpoch: 48.2%  lr: 0.015195  loss: 0.007757  eta: 0h4m  tot: 0h10m16s  (69.6%)\rEpoch: 48.3%  lr: 0.015185  loss: 0.007750  eta: 0h4m  tot: 0h10m16s  (69.7%)\rEpoch: 48.3%  lr: 0.015155  loss: 0.007747  eta: 0h4m  tot: 0h10m16s  (69.7%)\rEpoch: 48.4%  lr: 0.015155  loss: 0.007741  eta: 0h4m  tot: 0h10m16s  (69.7%)\rEpoch: 48.5%  lr: 0.015145  loss: 0.007737  eta: 0h4m  tot: 0h10m16s  (69.7%)\rEpoch: 48.6%  lr: 0.015125  loss: 0.007750  eta: 0h4m  tot: 0h10m17s  (69.7%)\rEpoch: 48.7%  lr: 0.015125  loss: 0.007746  eta: 0h4m  tot: 0h10m17s  (69.7%)\rEpoch: 48.8%  lr: 0.015125  loss: 0.007739  eta: 0h4m  tot: 0h10m17s  (69.8%)\rEpoch: 48.9%  lr: 0.015125  loss: 0.007735  eta: 0h4m  tot: 0h10m17s  (69.8%)\rEpoch: 49.0%  lr: 0.015125  loss: 0.007729  eta: 0h4m  tot: 0h10m17s  (69.8%)\rEpoch: 49.1%  lr: 0.015115  loss: 0.007722  eta: 0h4m  tot: 0h10m17s  (69.8%)\rEpoch: 49.2%  lr: 0.015105  loss: 0.007719  eta: 0h4m  tot: 0h10m18s  (69.8%)\rEpoch: 49.2%  lr: 0.015095  loss: 0.007718  eta: 0h4m  tot: 0h10m18s  (69.8%)\rEpoch: 49.3%  lr: 0.015095  loss: 0.007719  eta: 0h4m  tot: 0h10m18s  (69.9%)\rEpoch: 49.4%  lr: 0.015085  loss: 0.007711  eta: 0h4m  tot: 0h10m18s  (69.9%)\rEpoch: 49.5%  lr: 0.015075  loss: 0.007731  eta: 0h4m  tot: 0h10m18s  (69.9%)\rEpoch: 49.6%  lr: 0.015075  loss: 0.007724  eta: 0h4m  tot: 0h10m18s  (69.9%)\rEpoch: 49.7%  lr: 0.015075  loss: 0.007732  eta: 0h4m  tot: 0h10m18s  (69.9%)\rEpoch: 49.8%  lr: 0.015065  loss: 0.007724  eta: 0h4m  tot: 0h10m19s  (70.0%)\rEpoch: 49.9%  lr: 0.015055  loss: 0.007712  eta: 0h4m  tot: 0h10m19s  (70.0%)\rEpoch: 50.0%  lr: 0.015045  loss: 0.007710  eta: 0h4m  tot: 0h10m19s  (70.0%)\rEpoch: 50.1%  lr: 0.015035  loss: 0.007711  eta: 0h4m  tot: 0h10m19s  (70.0%)\rEpoch: 50.1%  lr: 0.015025  loss: 0.007708  eta: 0h4m  tot: 0h10m19s  (70.0%)\rEpoch: 50.2%  lr: 0.015025  loss: 0.007719  eta: 0h4m  tot: 0h10m19s  (70.0%)\rEpoch: 50.3%  lr: 0.015005  loss: 0.007722  eta: 0h4m  tot: 0h10m20s  (70.1%)\rEpoch: 50.4%  lr: 0.015005  loss: 0.007753  eta: 0h4m  tot: 0h10m20s  (70.1%)\rEpoch: 50.5%  lr: 0.014995  loss: 0.007750  eta: 0h4m  tot: 0h10m20s  (70.1%)\rEpoch: 50.6%  lr: 0.014995  loss: 0.007742  eta: 0h4m  tot: 0h10m20s  (70.1%)\rEpoch: 50.7%  lr: 0.014995  loss: 0.007734  eta: 0h4m  tot: 0h10m20s  (70.1%)\rEpoch: 50.8%  lr: 0.014975  loss: 0.007739  eta: 0h4m  tot: 0h10m20s  (70.2%)\rEpoch: 50.9%  lr: 0.014975  loss: 0.007745  eta: 0h4m  tot: 0h10m20s  (70.2%)\rEpoch: 51.0%  lr: 0.014965  loss: 0.007744  eta: 0h4m  tot: 0h10m21s  (70.2%)\rEpoch: 51.0%  lr: 0.014955  loss: 0.007750  eta: 0h4m  tot: 0h10m21s  (70.2%)\rEpoch: 51.1%  lr: 0.014955  loss: 0.007746  eta: 0h4m  tot: 0h10m21s  (70.2%)\rEpoch: 51.2%  lr: 0.014955  loss: 0.007736  eta: 0h4m  tot: 0h10m21s  (70.2%)\rEpoch: 51.3%  lr: 0.014955  loss: 0.007732  eta: 0h4m  tot: 0h10m21s  (70.3%)\rEpoch: 51.4%  lr: 0.014955  loss: 0.007739  eta: 0h4m  tot: 0h10m21s  (70.3%)\rEpoch: 51.5%  lr: 0.014935  loss: 0.007747  eta: 0h4m  tot: 0h10m21s  (70.3%)\rEpoch: 51.6%  lr: 0.014915  loss: 0.007746  eta: 0h4m  tot: 0h10m22s  (70.3%)\rEpoch: 51.7%  lr: 0.014905  loss: 0.007751  eta: 0h4m  tot: 0h10m22s  (70.3%)\rEpoch: 51.8%  lr: 0.014905  loss: 0.007770  eta: 0h4m  tot: 0h10m22s  (70.4%)\rEpoch: 51.9%  lr: 0.014905  loss: 0.007778  eta: 0h4m  tot: 0h10m22s  (70.4%)\rEpoch: 51.9%  lr: 0.014895  loss: 0.007793  eta: 0h4m  tot: 0h10m22s  (70.4%)\rEpoch: 52.0%  lr: 0.014895  loss: 0.007791  eta: 0h4m  tot: 0h10m22s  (70.4%)\rEpoch: 52.1%  lr: 0.014885  loss: 0.007786  eta: 0h4m  tot: 0h10m23s  (70.4%)\rEpoch: 52.2%  lr: 0.014875  loss: 0.007789  eta: 0h4m  tot: 0h10m23s  (70.4%)\rEpoch: 52.3%  lr: 0.014875  loss: 0.007783  eta: 0h4m  tot: 0h10m23s  (70.5%)\rEpoch: 52.4%  lr: 0.014865  loss: 0.007806  eta: 0h4m  tot: 0h10m23s  (70.5%)\rEpoch: 52.5%  lr: 0.014855  loss: 0.007796  eta: 0h4m  tot: 0h10m23s  (70.5%)\rEpoch: 52.6%  lr: 0.014845  loss: 0.007798  eta: 0h4m  tot: 0h10m23s  (70.5%)\rEpoch: 52.7%  lr: 0.014835  loss: 0.007797  eta: 0h4m  tot: 0h10m23s  (70.5%)\rEpoch: 52.8%  lr: 0.014815  loss: 0.007808  eta: 0h4m  tot: 0h10m24s  (70.6%)\rEpoch: 52.8%  lr: 0.014815  loss: 0.007810  eta: 0h4m  tot: 0h10m24s  (70.6%)\rEpoch: 52.9%  lr: 0.014805  loss: 0.007800  eta: 0h4m  tot: 0h10m24s  (70.6%)\rEpoch: 53.0%  lr: 0.014805  loss: 0.007794  eta: 0h4m  tot: 0h10m24s  (70.6%)\rEpoch: 53.1%  lr: 0.014795  loss: 0.007786  eta: 0h4m  tot: 0h10m24s  (70.6%)\rEpoch: 53.2%  lr: 0.014795  loss: 0.007788  eta: 0h4m  tot: 0h10m24s  (70.6%)\rEpoch: 53.3%  lr: 0.014785  loss: 0.007782  eta: 0h4m  tot: 0h10m25s  (70.7%)\rEpoch: 53.4%  lr: 0.014755  loss: 0.007770  eta: 0h4m  tot: 0h10m25s  (70.7%)\rEpoch: 53.5%  lr: 0.014745  loss: 0.007762  eta: 0h4m  tot: 0h10m25s  (70.7%)\rEpoch: 53.6%  lr: 0.014745  loss: 0.007762  eta: 0h4m  tot: 0h10m25s  (70.7%)\rEpoch: 53.7%  lr: 0.014745  loss: 0.007757  eta: 0h4m  tot: 0h10m25s  (70.7%)\rEpoch: 53.7%  lr: 0.014745  loss: 0.007755  eta: 0h4m  tot: 0h10m25s  (70.7%)\rEpoch: 53.8%  lr: 0.014745  loss: 0.007751  eta: 0h4m  tot: 0h10m25s  (70.8%)\rEpoch: 53.9%  lr: 0.014715  loss: 0.007741  eta: 0h4m  tot: 0h10m26s  (70.8%)\rEpoch: 54.0%  lr: 0.014715  loss: 0.007733  eta: 0h4m  tot: 0h10m26s  (70.8%)\rEpoch: 54.1%  lr: 0.014715  loss: 0.007733  eta: 0h4m  tot: 0h10m26s  (70.8%)\rEpoch: 54.2%  lr: 0.014705  loss: 0.007732  eta: 0h4m  tot: 0h10m26s  (70.8%)\rEpoch: 54.3%  lr: 0.014685  loss: 0.007735  eta: 0h4m  tot: 0h10m26s  (70.9%)\rEpoch: 54.4%  lr: 0.014675  loss: 0.007728  eta: 0h4m  tot: 0h10m26s  (70.9%)\rEpoch: 54.5%  lr: 0.014675  loss: 0.007728  eta: 0h4m  tot: 0h10m27s  (70.9%)\rEpoch: 54.6%  lr: 0.014675  loss: 0.007723  eta: 0h4m  tot: 0h10m27s  (70.9%)\rEpoch: 54.6%  lr: 0.014675  loss: 0.007727  eta: 0h4m  tot: 0h10m27s  (70.9%)\rEpoch: 54.7%  lr: 0.014675  loss: 0.007723  eta: 0h4m  tot: 0h10m27s  (70.9%)\rEpoch: 54.8%  lr: 0.014655  loss: 0.007722  eta: 0h4m  tot: 0h10m27s  (71.0%)\rEpoch: 54.9%  lr: 0.014645  loss: 0.007736  eta: 0h4m  tot: 0h10m27s  (71.0%)\rEpoch: 55.0%  lr: 0.014645  loss: 0.007740  eta: 0h4m  tot: 0h10m27s  (71.0%)\rEpoch: 55.1%  lr: 0.014635  loss: 0.007745  eta: 0h4m  tot: 0h10m28s  (71.0%)\rEpoch: 55.2%  lr: 0.014625  loss: 0.007739  eta: 0h4m  tot: 0h10m28s  (71.0%)\rEpoch: 55.3%  lr: 0.014615  loss: 0.007750  eta: 0h4m  tot: 0h10m28s  (71.1%)\rEpoch: 55.4%  lr: 0.014595  loss: 0.007755  eta: 0h4m  tot: 0h10m28s  (71.1%)\rEpoch: 55.5%  lr: 0.014595  loss: 0.007755  eta: 0h4m  tot: 0h10m28s  (71.1%)\rEpoch: 55.5%  lr: 0.014555  loss: 0.007757  eta: 0h4m  tot: 0h10m28s  (71.1%)\rEpoch: 55.6%  lr: 0.014545  loss: 0.007757  eta: 0h4m  tot: 0h10m29s  (71.1%)\rEpoch: 55.7%  lr: 0.014545  loss: 0.007756  eta: 0h4m  tot: 0h10m29s  (71.1%)\rEpoch: 55.8%  lr: 0.014535  loss: 0.007763  eta: 0h4m  tot: 0h10m29s  (71.2%)\rEpoch: 55.9%  lr: 0.014515  loss: 0.007765  eta: 0h4m  tot: 0h10m29s  (71.2%)\rEpoch: 56.0%  lr: 0.014505  loss: 0.007765  eta: 0h4m  tot: 0h10m29s  (71.2%)\rEpoch: 56.1%  lr: 0.014495  loss: 0.007758  eta: 0h4m  tot: 0h10m29s  (71.2%)\rEpoch: 56.2%  lr: 0.014475  loss: 0.007758  eta: 0h4m  tot: 0h10m29s  (71.2%)\rEpoch: 56.3%  lr: 0.014475  loss: 0.007758  eta: 0h4m  tot: 0h10m30s  (71.3%)\rEpoch: 56.4%  lr: 0.014455  loss: 0.007757  eta: 0h4m  tot: 0h10m30s  (71.3%)\rEpoch: 56.4%  lr: 0.014425  loss: 0.007751  eta: 0h4m  tot: 0h10m30s  (71.3%)\rEpoch: 56.5%  lr: 0.014415  loss: 0.007758  eta: 0h4m  tot: 0h10m30s  (71.3%)\rEpoch: 56.6%  lr: 0.014415  loss: 0.007761  eta: 0h4m  tot: 0h10m30s  (71.3%)\rEpoch: 56.7%  lr: 0.014404  loss: 0.007769  eta: 0h4m  tot: 0h10m30s  (71.3%)\rEpoch: 56.8%  lr: 0.014394  loss: 0.007772  eta: 0h4m  tot: 0h10m31s  (71.4%)\rEpoch: 56.9%  lr: 0.014374  loss: 0.007778  eta: 0h4m  tot: 0h10m31s  (71.4%)\rEpoch: 57.0%  lr: 0.014364  loss: 0.007777  eta: 0h4m  tot: 0h10m31s  (71.4%)\rEpoch: 57.1%  lr: 0.014344  loss: 0.007771  eta: 0h4m  tot: 0h10m31s  (71.4%)\rEpoch: 57.2%  lr: 0.014304  loss: 0.007765  eta: 0h4m  tot: 0h10m31s  (71.4%)\rEpoch: 57.3%  lr: 0.014284  loss: 0.007769  eta: 0h4m  tot: 0h10m31s  (71.5%)\rEpoch: 57.3%  lr: 0.014274  loss: 0.007765  eta: 0h4m  tot: 0h10m31s  (71.5%)\rEpoch: 57.4%  lr: 0.014264  loss: 0.007763  eta: 0h4m  tot: 0h10m32s  (71.5%)\rEpoch: 57.5%  lr: 0.014254  loss: 0.007762  eta: 0h4m  tot: 0h10m32s  (71.5%)\rEpoch: 57.6%  lr: 0.014254  loss: 0.007784  eta: 0h4m  tot: 0h10m32s  (71.5%)\rEpoch: 57.7%  lr: 0.014254  loss: 0.007775  eta: 0h4m  tot: 0h10m32s  (71.5%)\rEpoch: 57.8%  lr: 0.014234  loss: 0.007778  eta: 0h4m  tot: 0h10m32s  (71.6%)\rEpoch: 57.9%  lr: 0.014224  loss: 0.007784  eta: 0h4m  tot: 0h10m32s  (71.6%)\rEpoch: 58.0%  lr: 0.014204  loss: 0.007780  eta: 0h4m  tot: 0h10m33s  (71.6%)\rEpoch: 58.1%  lr: 0.014194  loss: 0.007779  eta: 0h4m  tot: 0h10m33s  (71.6%)\rEpoch: 58.2%  lr: 0.014184  loss: 0.007771  eta: 0h4m  tot: 0h10m33s  (71.6%)\rEpoch: 58.2%  lr: 0.014184  loss: 0.007768  eta: 0h4m  tot: 0h10m33s  (71.6%)\rEpoch: 58.3%  lr: 0.014174  loss: 0.007764  eta: 0h4m  tot: 0h10m33s  (71.7%)\rEpoch: 58.4%  lr: 0.014174  loss: 0.007756  eta: 0h4m  tot: 0h10m33s  (71.7%)\rEpoch: 58.5%  lr: 0.014164  loss: 0.007756  eta: 0h4m  tot: 0h10m33s  (71.7%)\rEpoch: 58.6%  lr: 0.014164  loss: 0.007754  eta: 0h4m  tot: 0h10m34s  (71.7%)\rEpoch: 58.7%  lr: 0.014164  loss: 0.007747  eta: 0h4m  tot: 0h10m34s  (71.7%)\rEpoch: 58.8%  lr: 0.014164  loss: 0.007741  eta: 0h4m  tot: 0h10m34s  (71.8%)\rEpoch: 58.9%  lr: 0.014164  loss: 0.007742  eta: 0h4m  tot: 0h10m34s  (71.8%)\rEpoch: 59.0%  lr: 0.014154  loss: 0.007743  eta: 0h4m  tot: 0h10m34s  (71.8%)\rEpoch: 59.1%  lr: 0.014144  loss: 0.007745  eta: 0h4m  tot: 0h10m34s  (71.8%)\rEpoch: 59.1%  lr: 0.014144  loss: 0.007741  eta: 0h3m  tot: 0h10m34s  (71.8%)\rEpoch: 59.2%  lr: 0.014144  loss: 0.007734  eta: 0h3m  tot: 0h10m35s  (71.8%)\rEpoch: 59.3%  lr: 0.014144  loss: 0.007732  eta: 0h3m  tot: 0h10m35s  (71.9%)\rEpoch: 59.4%  lr: 0.014144  loss: 0.007724  eta: 0h3m  tot: 0h10m35s  (71.9%)\rEpoch: 59.5%  lr: 0.014144  loss: 0.007724  eta: 0h3m  tot: 0h10m35s  (71.9%)\rEpoch: 59.6%  lr: 0.014104  loss: 0.007723  eta: 0h3m  tot: 0h10m35s  (71.9%)\rEpoch: 59.7%  lr: 0.014094  loss: 0.007734  eta: 0h3m  tot: 0h10m35s  (71.9%)\rEpoch: 59.8%  lr: 0.014074  loss: 0.007729  eta: 0h3m  tot: 0h10m36s  (72.0%)\rEpoch: 59.9%  lr: 0.014074  loss: 0.007734  eta: 0h3m  tot: 0h10m36s  (72.0%)\rEpoch: 60.0%  lr: 0.014074  loss: 0.007741  eta: 0h3m  tot: 0h10m36s  (72.0%)\rEpoch: 60.0%  lr: 0.014064  loss: 0.007746  eta: 0h3m  tot: 0h10m36s  (72.0%)\rEpoch: 60.1%  lr: 0.014064  loss: 0.007740  eta: 0h3m  tot: 0h10m36s  (72.0%)\rEpoch: 60.2%  lr: 0.014054  loss: 0.007731  eta: 0h3m  tot: 0h10m36s  (72.0%)\rEpoch: 60.3%  lr: 0.014054  loss: 0.007726  eta: 0h3m  tot: 0h10m36s  (72.1%)\rEpoch: 60.4%  lr: 0.014054  loss: 0.007727  eta: 0h3m  tot: 0h10m37s  (72.1%)\rEpoch: 60.5%  lr: 0.014054  loss: 0.007726  eta: 0h3m  tot: 0h10m37s  (72.1%)\rEpoch: 60.6%  lr: 0.014044  loss: 0.007721  eta: 0h3m  tot: 0h10m37s  (72.1%)\rEpoch: 60.7%  lr: 0.014034  loss: 0.007720  eta: 0h3m  tot: 0h10m37s  (72.1%)\rEpoch: 60.8%  lr: 0.014034  loss: 0.007715  eta: 0h3m  tot: 0h10m37s  (72.2%)\rEpoch: 60.9%  lr: 0.014024  loss: 0.007708  eta: 0h3m  tot: 0h10m37s  (72.2%)\rEpoch: 60.9%  lr: 0.014004  loss: 0.007713  eta: 0h3m  tot: 0h10m37s  (72.2%)\rEpoch: 61.0%  lr: 0.013984  loss: 0.007714  eta: 0h3m  tot: 0h10m38s  (72.2%)\rEpoch: 61.1%  lr: 0.013984  loss: 0.007715  eta: 0h3m  tot: 0h10m38s  (72.2%)\rEpoch: 61.2%  lr: 0.013974  loss: 0.007708  eta: 0h3m  tot: 0h10m38s  (72.2%)\rEpoch: 61.3%  lr: 0.013974  loss: 0.007704  eta: 0h3m  tot: 0h10m38s  (72.3%)\rEpoch: 61.4%  lr: 0.013954  loss: 0.007701  eta: 0h3m  tot: 0h10m38s  (72.3%)\rEpoch: 61.5%  lr: 0.013954  loss: 0.007693  eta: 0h3m  tot: 0h10m38s  (72.3%)\rEpoch: 61.6%  lr: 0.013954  loss: 0.007702  eta: 0h3m  tot: 0h10m39s  (72.3%)\rEpoch: 61.7%  lr: 0.013944  loss: 0.007701  eta: 0h3m  tot: 0h10m39s  (72.3%)\rEpoch: 61.8%  lr: 0.013944  loss: 0.007697  eta: 0h3m  tot: 0h10m39s  (72.4%)\rEpoch: 61.8%  lr: 0.013934  loss: 0.007711  eta: 0h3m  tot: 0h10m39s  (72.4%)\rEpoch: 61.9%  lr: 0.013934  loss: 0.007709  eta: 0h3m  tot: 0h10m39s  (72.4%)\rEpoch: 62.0%  lr: 0.013934  loss: 0.007706  eta: 0h3m  tot: 0h10m39s  (72.4%)\rEpoch: 62.1%  lr: 0.013924  loss: 0.007701  eta: 0h3m  tot: 0h10m39s  (72.4%)\rEpoch: 62.2%  lr: 0.013914  loss: 0.007706  eta: 0h3m  tot: 0h10m40s  (72.4%)\rEpoch: 62.3%  lr: 0.013904  loss: 0.007709  eta: 0h3m  tot: 0h10m40s  (72.5%)\rEpoch: 62.4%  lr: 0.013894  loss: 0.007716  eta: 0h3m  tot: 0h10m40s  (72.5%)\rEpoch: 62.5%  lr: 0.013874  loss: 0.007713  eta: 0h3m  tot: 0h10m40s  (72.5%)\rEpoch: 62.6%  lr: 0.013874  loss: 0.007726  eta: 0h3m  tot: 0h10m40s  (72.5%)\rEpoch: 62.7%  lr: 0.013874  loss: 0.007720  eta: 0h3m  tot: 0h10m40s  (72.5%)\rEpoch: 62.7%  lr: 0.013864  loss: 0.007739  eta: 0h3m  tot: 0h10m41s  (72.5%)\rEpoch: 62.8%  lr: 0.013854  loss: 0.007734  eta: 0h3m  tot: 0h10m41s  (72.6%)\rEpoch: 62.9%  lr: 0.013854  loss: 0.007734  eta: 0h3m  tot: 0h10m41s  (72.6%)\rEpoch: 63.0%  lr: 0.013854  loss: 0.007729  eta: 0h3m  tot: 0h10m41s  (72.6%)\rEpoch: 63.1%  lr: 0.013854  loss: 0.007726  eta: 0h3m  tot: 0h10m41s  (72.6%)\rEpoch: 63.2%  lr: 0.013824  loss: 0.007722  eta: 0h3m  tot: 0h10m41s  (72.6%)\rEpoch: 63.3%  lr: 0.013814  loss: 0.007716  eta: 0h3m  tot: 0h10m41s  (72.7%)\rEpoch: 63.4%  lr: 0.013804  loss: 0.007715  eta: 0h3m  tot: 0h10m42s  (72.7%)\rEpoch: 63.5%  lr: 0.013784  loss: 0.007707  eta: 0h3m  tot: 0h10m42s  (72.7%)\rEpoch: 63.6%  lr: 0.013774  loss: 0.007718  eta: 0h3m  tot: 0h10m42s  (72.7%)\rEpoch: 63.6%  lr: 0.013774  loss: 0.007723  eta: 0h3m  tot: 0h10m42s  (72.7%)\rEpoch: 63.7%  lr: 0.013774  loss: 0.007722  eta: 0h3m  tot: 0h10m42s  (72.7%)\rEpoch: 63.8%  lr: 0.013774  loss: 0.007715  eta: 0h3m  tot: 0h10m42s  (72.8%)\rEpoch: 63.9%  lr: 0.013774  loss: 0.007709  eta: 0h3m  tot: 0h10m43s  (72.8%)\rEpoch: 64.0%  lr: 0.013774  loss: 0.007709  eta: 0h3m  tot: 0h10m43s  (72.8%)\rEpoch: 64.1%  lr: 0.013764  loss: 0.007713  eta: 0h3m  tot: 0h10m43s  (72.8%)\rEpoch: 64.2%  lr: 0.013754  loss: 0.007708  eta: 0h3m  tot: 0h10m43s  (72.8%)\rEpoch: 64.3%  lr: 0.013744  loss: 0.007703  eta: 0h3m  tot: 0h10m43s  (72.9%)\rEpoch: 64.4%  lr: 0.013734  loss: 0.007709  eta: 0h3m  tot: 0h10m43s  (72.9%)\rEpoch: 64.5%  lr: 0.013734  loss: 0.007703  eta: 0h3m  tot: 0h10m44s  (72.9%)\rEpoch: 64.5%  lr: 0.013734  loss: 0.007707  eta: 0h3m  tot: 0h10m44s  (72.9%)\rEpoch: 64.6%  lr: 0.013724  loss: 0.007707  eta: 0h3m  tot: 0h10m44s  (72.9%)\rEpoch: 64.7%  lr: 0.013694  loss: 0.007702  eta: 0h3m  tot: 0h10m44s  (72.9%)\rEpoch: 64.8%  lr: 0.013694  loss: 0.007720  eta: 0h3m  tot: 0h10m44s  (73.0%)\rEpoch: 64.9%  lr: 0.013664  loss: 0.007718  eta: 0h3m  tot: 0h10m44s  (73.0%)\rEpoch: 65.0%  lr: 0.013654  loss: 0.007714  eta: 0h3m  tot: 0h10m45s  (73.0%)\rEpoch: 65.1%  lr: 0.013624  loss: 0.007718  eta: 0h3m  tot: 0h10m45s  (73.0%)\rEpoch: 65.2%  lr: 0.013614  loss: 0.007716  eta: 0h3m  tot: 0h10m45s  (73.0%)\rEpoch: 65.3%  lr: 0.013614  loss: 0.007714  eta: 0h3m  tot: 0h10m45s  (73.1%)\rEpoch: 65.4%  lr: 0.013604  loss: 0.007718  eta: 0h3m  tot: 0h10m45s  (73.1%)\rEpoch: 65.4%  lr: 0.013594  loss: 0.007714  eta: 0h3m  tot: 0h10m45s  (73.1%)\rEpoch: 65.5%  lr: 0.013594  loss: 0.007714  eta: 0h3m  tot: 0h10m45s  (73.1%)\rEpoch: 65.6%  lr: 0.013594  loss: 0.007714  eta: 0h3m  tot: 0h10m46s  (73.1%)\rEpoch: 65.7%  lr: 0.013564  loss: 0.007719  eta: 0h3m  tot: 0h10m46s  (73.1%)\rEpoch: 65.8%  lr: 0.013564  loss: 0.007721  eta: 0h3m  tot: 0h10m46s  (73.2%)\rEpoch: 65.9%  lr: 0.013564  loss: 0.007724  eta: 0h3m  tot: 0h10m46s  (73.2%)\rEpoch: 66.0%  lr: 0.013554  loss: 0.007731  eta: 0h3m  tot: 0h10m46s  (73.2%)\rEpoch: 66.1%  lr: 0.013544  loss: 0.007723  eta: 0h3m  tot: 0h10m46s  (73.2%)\rEpoch: 66.2%  lr: 0.013524  loss: 0.007716  eta: 0h3m  tot: 0h10m47s  (73.2%)\rEpoch: 66.3%  lr: 0.013524  loss: 0.007710  eta: 0h3m  tot: 0h10m47s  (73.3%)\rEpoch: 66.3%  lr: 0.013504  loss: 0.007702  eta: 0h3m  tot: 0h10m47s  (73.3%)\rEpoch: 66.4%  lr: 0.013504  loss: 0.007712  eta: 0h3m  tot: 0h10m47s  (73.3%)\rEpoch: 66.5%  lr: 0.013464  loss: 0.007708  eta: 0h3m  tot: 0h10m47s  (73.3%)\rEpoch: 66.6%  lr: 0.013444  loss: 0.007708  eta: 0h3m  tot: 0h10m47s  (73.3%)\rEpoch: 66.7%  lr: 0.013444  loss: 0.007703  eta: 0h3m  tot: 0h10m47s  (73.3%)\rEpoch: 66.8%  lr: 0.013444  loss: 0.007702  eta: 0h3m  tot: 0h10m48s  (73.4%)\rEpoch: 66.9%  lr: 0.013424  loss: 0.007705  eta: 0h3m  tot: 0h10m48s  (73.4%)\rEpoch: 67.0%  lr: 0.013404  loss: 0.007702  eta: 0h3m  tot: 0h10m48s  (73.4%)\rEpoch: 67.1%  lr: 0.013404  loss: 0.007698  eta: 0h3m  tot: 0h10m48s  (73.4%)\rEpoch: 67.2%  lr: 0.013404  loss: 0.007707  eta: 0h3m  tot: 0h10m48s  (73.4%)\rEpoch: 67.2%  lr: 0.013383  loss: 0.007708  eta: 0h3m  tot: 0h10m48s  (73.4%)\rEpoch: 67.3%  lr: 0.013373  loss: 0.007707  eta: 0h3m  tot: 0h10m49s  (73.5%)\rEpoch: 67.4%  lr: 0.013373  loss: 0.007706  eta: 0h3m  tot: 0h10m49s  (73.5%)\rEpoch: 67.5%  lr: 0.013373  loss: 0.007699  eta: 0h3m  tot: 0h10m49s  (73.5%)\rEpoch: 67.6%  lr: 0.013363  loss: 0.007702  eta: 0h3m  tot: 0h10m49s  (73.5%)\rEpoch: 67.7%  lr: 0.013323  loss: 0.007696  eta: 0h3m  tot: 0h10m49s  (73.5%)\rEpoch: 67.8%  lr: 0.013303  loss: 0.007694  eta: 0h3m  tot: 0h10m49s  (73.6%)\rEpoch: 67.9%  lr: 0.013293  loss: 0.007705  eta: 0h3m  tot: 0h10m49s  (73.6%)\rEpoch: 68.0%  lr: 0.013283  loss: 0.007703  eta: 0h3m  tot: 0h10m50s  (73.6%)\rEpoch: 68.1%  lr: 0.013283  loss: 0.007705  eta: 0h3m  tot: 0h10m50s  (73.6%)\rEpoch: 68.1%  lr: 0.013263  loss: 0.007705  eta: 0h3m  tot: 0h10m50s  (73.6%)\rEpoch: 68.2%  lr: 0.013253  loss: 0.007701  eta: 0h3m  tot: 0h10m50s  (73.6%)\rEpoch: 68.3%  lr: 0.013243  loss: 0.007706  eta: 0h3m  tot: 0h10m50s  (73.7%)\rEpoch: 68.4%  lr: 0.013243  loss: 0.007706  eta: 0h3m  tot: 0h10m50s  (73.7%)\rEpoch: 68.5%  lr: 0.013233  loss: 0.007713  eta: 0h3m  tot: 0h10m51s  (73.7%)\rEpoch: 68.6%  lr: 0.013203  loss: 0.007708  eta: 0h3m  tot: 0h10m51s  (73.7%)\rEpoch: 68.7%  lr: 0.013193  loss: 0.007709  eta: 0h3m  tot: 0h10m51s  (73.7%)\rEpoch: 68.8%  lr: 0.013163  loss: 0.007719  eta: 0h3m  tot: 0h10m51s  (73.8%)\rEpoch: 68.9%  lr: 0.013153  loss: 0.007713  eta: 0h3m  tot: 0h10m51s  (73.8%)\rEpoch: 69.0%  lr: 0.013143  loss: 0.007717  eta: 0h3m  tot: 0h10m51s  (73.8%)\rEpoch: 69.0%  lr: 0.013143  loss: 0.007721  eta: 0h3m  tot: 0h10m51s  (73.8%)\rEpoch: 69.1%  lr: 0.013123  loss: 0.007720  eta: 0h3m  tot: 0h10m52s  (73.8%)\rEpoch: 69.2%  lr: 0.013103  loss: 0.007715  eta: 0h3m  tot: 0h10m52s  (73.8%)\rEpoch: 69.3%  lr: 0.013103  loss: 0.007713  eta: 0h3m  tot: 0h10m52s  (73.9%)\rEpoch: 69.4%  lr: 0.013073  loss: 0.007709  eta: 0h3m  tot: 0h10m52s  (73.9%)\rEpoch: 69.5%  lr: 0.013073  loss: 0.007704  eta: 0h3m  tot: 0h10m52s  (73.9%)\rEpoch: 69.6%  lr: 0.013053  loss: 0.007730  eta: 0h3m  tot: 0h10m52s  (73.9%)\rEpoch: 69.7%  lr: 0.013053  loss: 0.007731  eta: 0h3m  tot: 0h10m53s  (73.9%)\rEpoch: 69.8%  lr: 0.013053  loss: 0.007736  eta: 0h3m  tot: 0h10m53s  (74.0%)\rEpoch: 69.9%  lr: 0.013043  loss: 0.007734  eta: 0h3m  tot: 0h10m53s  (74.0%)\rEpoch: 69.9%  lr: 0.013043  loss: 0.007741  eta: 0h3m  tot: 0h10m53s  (74.0%)\rEpoch: 70.0%  lr: 0.013043  loss: 0.007734  eta: 0h3m  tot: 0h10m53s  (74.0%)\rEpoch: 70.1%  lr: 0.013033  loss: 0.007733  eta: 0h3m  tot: 0h10m53s  (74.0%)\rEpoch: 70.2%  lr: 0.013023  loss: 0.007745  eta: 0h3m  tot: 0h10m53s  (74.0%)\rEpoch: 70.3%  lr: 0.013013  loss: 0.007752  eta: 0h3m  tot: 0h10m54s  (74.1%)\rEpoch: 70.4%  lr: 0.013013  loss: 0.007759  eta: 0h3m  tot: 0h10m54s  (74.1%)\rEpoch: 70.5%  lr: 0.013003  loss: 0.007766  eta: 0h3m  tot: 0h10m54s  (74.1%)\rEpoch: 70.6%  lr: 0.012993  loss: 0.007764  eta: 0h3m  tot: 0h10m54s  (74.1%)\rEpoch: 70.7%  lr: 0.012983  loss: 0.007755  eta: 0h3m  tot: 0h10m54s  (74.1%)\rEpoch: 70.8%  lr: 0.012963  loss: 0.007756  eta: 0h3m  tot: 0h10m54s  (74.2%)\rEpoch: 70.8%  lr: 0.012953  loss: 0.007752  eta: 0h3m  tot: 0h10m55s  (74.2%)\rEpoch: 70.9%  lr: 0.012953  loss: 0.007755  eta: 0h3m  tot: 0h10m55s  (74.2%)\rEpoch: 71.0%  lr: 0.012943  loss: 0.007766  eta: 0h3m  tot: 0h10m55s  (74.2%)\rEpoch: 71.1%  lr: 0.012933  loss: 0.007767  eta: 0h3m  tot: 0h10m55s  (74.2%)\rEpoch: 71.2%  lr: 0.012933  loss: 0.007758  eta: 0h3m  tot: 0h10m55s  (74.2%)\rEpoch: 71.3%  lr: 0.012913  loss: 0.007762  eta: 0h3m  tot: 0h10m55s  (74.3%)\rEpoch: 71.4%  lr: 0.012913  loss: 0.007756  eta: 0h3m  tot: 0h10m55s  (74.3%)\rEpoch: 71.5%  lr: 0.012893  loss: 0.007756  eta: 0h3m  tot: 0h10m56s  (74.3%)\rEpoch: 71.6%  lr: 0.012893  loss: 0.007752  eta: 0h3m  tot: 0h10m56s  (74.3%)\rEpoch: 71.7%  lr: 0.012873  loss: 0.007750  eta: 0h3m  tot: 0h10m56s  (74.3%)\rEpoch: 71.7%  lr: 0.012863  loss: 0.007763  eta: 0h3m  tot: 0h10m56s  (74.3%)\rEpoch: 71.8%  lr: 0.012863  loss: 0.007760  eta: 0h3m  tot: 0h10m56s  (74.4%)\rEpoch: 71.9%  lr: 0.012853  loss: 0.007755  eta: 0h3m  tot: 0h10m56s  (74.4%)\rEpoch: 72.0%  lr: 0.012853  loss: 0.007750  eta: 0h3m  tot: 0h10m57s  (74.4%)\rEpoch: 72.1%  lr: 0.012853  loss: 0.007749  eta: 0h3m  tot: 0h10m57s  (74.4%)\rEpoch: 72.2%  lr: 0.012853  loss: 0.007750  eta: 0h3m  tot: 0h10m57s  (74.4%)\rEpoch: 72.3%  lr: 0.012823  loss: 0.007763  eta: 0h3m  tot: 0h10m57s  (74.5%)\rEpoch: 72.4%  lr: 0.012813  loss: 0.007762  eta: 0h3m  tot: 0h10m57s  (74.5%)\rEpoch: 72.5%  lr: 0.012813  loss: 0.007760  eta: 0h3m  tot: 0h10m57s  (74.5%)\rEpoch: 72.6%  lr: 0.012813  loss: 0.007759  eta: 0h3m  tot: 0h10m57s  (74.5%)\rEpoch: 72.6%  lr: 0.012813  loss: 0.007755  eta: 0h3m  tot: 0h10m58s  (74.5%)\rEpoch: 72.7%  lr: 0.012793  loss: 0.007752  eta: 0h3m  tot: 0h10m58s  (74.5%)\rEpoch: 72.8%  lr: 0.012783  loss: 0.007748  eta: 0h3m  tot: 0h10m58s  (74.6%)\rEpoch: 72.9%  lr: 0.012773  loss: 0.007741  eta: 0h3m  tot: 0h10m58s  (74.6%)\rEpoch: 73.0%  lr: 0.012763  loss: 0.007740  eta: 0h3m  tot: 0h10m58s  (74.6%)\rEpoch: 73.1%  lr: 0.012763  loss: 0.007740  eta: 0h3m  tot: 0h10m58s  (74.6%)\rEpoch: 73.2%  lr: 0.012753  loss: 0.007748  eta: 0h3m  tot: 0h10m59s  (74.6%)\rEpoch: 73.3%  lr: 0.012743  loss: 0.007745  eta: 0h3m  tot: 0h10m59s  (74.7%)\rEpoch: 73.4%  lr: 0.012723  loss: 0.007749  eta: 0h3m  tot: 0h10m59s  (74.7%)\rEpoch: 73.5%  lr: 0.012703  loss: 0.007744  eta: 0h3m  tot: 0h10m59s  (74.7%)\rEpoch: 73.5%  lr: 0.012703  loss: 0.007752  eta: 0h3m  tot: 0h10m59s  (74.7%)\rEpoch: 73.6%  lr: 0.012683  loss: 0.007749  eta: 0h3m  tot: 0h10m59s  (74.7%)\rEpoch: 73.7%  lr: 0.012683  loss: 0.007745  eta: 0h3m  tot: 0h10m59s  (74.7%)\rEpoch: 73.8%  lr: 0.012673  loss: 0.007740  eta: 0h3m  tot: 0h11m0s  (74.8%)\rEpoch: 73.9%  lr: 0.012663  loss: 0.007733  eta: 0h3m  tot: 0h11m0s  (74.8%)\rEpoch: 74.0%  lr: 0.012663  loss: 0.007729  eta: 0h3m  tot: 0h11m0s  (74.8%)\rEpoch: 74.1%  lr: 0.012663  loss: 0.007730  eta: 0h3m  tot: 0h11m0s  (74.8%)\rEpoch: 74.2%  lr: 0.012663  loss: 0.007731  eta: 0h3m  tot: 0h11m0s  (74.8%)\rEpoch: 74.3%  lr: 0.012663  loss: 0.007725  eta: 0h3m  tot: 0h11m0s  (74.9%)\rEpoch: 74.4%  lr: 0.012663  loss: 0.007717  eta: 0h3m  tot: 0h11m1s  (74.9%)\rEpoch: 74.4%  lr: 0.012663  loss: 0.007715  eta: 0h3m  tot: 0h11m1s  (74.9%)\rEpoch: 74.5%  lr: 0.012653  loss: 0.007729  eta: 0h3m  tot: 0h11m1s  (74.9%)\rEpoch: 74.6%  lr: 0.012643  loss: 0.007749  eta: 0h3m  tot: 0h11m1s  (74.9%)\rEpoch: 74.7%  lr: 0.012643  loss: 0.007751  eta: 0h3m  tot: 0h11m1s  (74.9%)\rEpoch: 74.8%  lr: 0.012643  loss: 0.007745  eta: 0h3m  tot: 0h11m1s  (75.0%)\rEpoch: 74.9%  lr: 0.012633  loss: 0.007738  eta: 0h3m  tot: 0h11m1s  (75.0%)\rEpoch: 75.0%  lr: 0.012613  loss: 0.007744  eta: 0h3m  tot: 0h11m2s  (75.0%)\rEpoch: 75.1%  lr: 0.012613  loss: 0.007746  eta: 0h3m  tot: 0h11m2s  (75.0%)\rEpoch: 75.2%  lr: 0.012593  loss: 0.007746  eta: 0h3m  tot: 0h11m2s  (75.0%)\rEpoch: 75.3%  lr: 0.012583  loss: 0.007754  eta: 0h3m  tot: 0h11m2s  (75.1%)\rEpoch: 75.3%  lr: 0.012573  loss: 0.007762  eta: 0h3m  tot: 0h11m2s  (75.1%)\rEpoch: 75.4%  lr: 0.012573  loss: 0.007763  eta: 0h3m  tot: 0h11m2s  (75.1%)\rEpoch: 75.5%  lr: 0.012563  loss: 0.007767  eta: 0h3m  tot: 0h11m3s  (75.1%)\rEpoch: 75.6%  lr: 0.012553  loss: 0.007766  eta: 0h3m  tot: 0h11m3s  (75.1%)\rEpoch: 75.7%  lr: 0.012543  loss: 0.007768  eta: 0h3m  tot: 0h11m3s  (75.1%)\rEpoch: 75.8%  lr: 0.012533  loss: 0.007762  eta: 0h3m  tot: 0h11m3s  (75.2%)\rEpoch: 75.9%  lr: 0.012533  loss: 0.007759  eta: 0h3m  tot: 0h11m3s  (75.2%)\rEpoch: 76.0%  lr: 0.012533  loss: 0.007758  eta: 0h3m  tot: 0h11m3s  (75.2%)\rEpoch: 76.1%  lr: 0.012523  loss: 0.007762  eta: 0h3m  tot: 0h11m3s  (75.2%)\rEpoch: 76.2%  lr: 0.012523  loss: 0.007758  eta: 0h3m  tot: 0h11m4s  (75.2%)\rEpoch: 76.2%  lr: 0.012493  loss: 0.007750  eta: 0h3m  tot: 0h11m4s  (75.2%)\rEpoch: 76.3%  lr: 0.012493  loss: 0.007748  eta: 0h3m  tot: 0h11m4s  (75.3%)\rEpoch: 76.4%  lr: 0.012493  loss: 0.007760  eta: 0h3m  tot: 0h11m4s  (75.3%)\rEpoch: 76.5%  lr: 0.012493  loss: 0.007758  eta: 0h3m  tot: 0h11m4s  (75.3%)\rEpoch: 76.6%  lr: 0.012483  loss: 0.007758  eta: 0h3m  tot: 0h11m4s  (75.3%)\rEpoch: 76.7%  lr: 0.012463  loss: 0.007759  eta: 0h3m  tot: 0h11m5s  (75.3%)\rEpoch: 76.8%  lr: 0.012453  loss: 0.007758  eta: 0h3m  tot: 0h11m5s  (75.4%)\rEpoch: 76.9%  lr: 0.012443  loss: 0.007756  eta: 0h3m  tot: 0h11m5s  (75.4%)\rEpoch: 77.0%  lr: 0.012433  loss: 0.007761  eta: 0h3m  tot: 0h11m5s  (75.4%)\rEpoch: 77.1%  lr: 0.012413  loss: 0.007759  eta: 0h3m  tot: 0h11m5s  (75.4%)\rEpoch: 77.1%  lr: 0.012403  loss: 0.007755  eta: 0h3m  tot: 0h11m5s  (75.4%)\rEpoch: 77.2%  lr: 0.012393  loss: 0.007753  eta: 0h3m  tot: 0h11m6s  (75.4%)\rEpoch: 77.3%  lr: 0.012382  loss: 0.007750  eta: 0h3m  tot: 0h11m6s  (75.5%)\rEpoch: 77.4%  lr: 0.012372  loss: 0.007747  eta: 0h3m  tot: 0h11m6s  (75.5%)\rEpoch: 77.5%  lr: 0.012372  loss: 0.007753  eta: 0h3m  tot: 0h11m6s  (75.5%)\rEpoch: 77.6%  lr: 0.012362  loss: 0.007762  eta: 0h3m  tot: 0h11m6s  (75.5%)\rEpoch: 77.7%  lr: 0.012352  loss: 0.007759  eta: 0h3m  tot: 0h11m6s  (75.5%)\rEpoch: 77.8%  lr: 0.012332  loss: 0.007755  eta: 0h3m  tot: 0h11m6s  (75.6%)\rEpoch: 77.9%  lr: 0.012322  loss: 0.007755  eta: 0h3m  tot: 0h11m7s  (75.6%)\rEpoch: 78.0%  lr: 0.012322  loss: 0.007767  eta: 0h3m  tot: 0h11m7s  (75.6%)\rEpoch: 78.0%  lr: 0.012312  loss: 0.007765  eta: 0h3m  tot: 0h11m7s  (75.6%)\rEpoch: 78.1%  lr: 0.012292  loss: 0.007764  eta: 0h3m  tot: 0h11m7s  (75.6%)\rEpoch: 78.2%  lr: 0.012292  loss: 0.007760  eta: 0h3m  tot: 0h11m7s  (75.6%)\rEpoch: 78.3%  lr: 0.012272  loss: 0.007756  eta: 0h3m  tot: 0h11m7s  (75.7%)\rEpoch: 78.4%  lr: 0.012272  loss: 0.007749  eta: 0h3m  tot: 0h11m7s  (75.7%)\rEpoch: 78.5%  lr: 0.012242  loss: 0.007746  eta: 0h3m  tot: 0h11m8s  (75.7%)\rEpoch: 78.6%  lr: 0.012242  loss: 0.007752  eta: 0h3m  tot: 0h11m8s  (75.7%)\rEpoch: 78.7%  lr: 0.012242  loss: 0.007752  eta: 0h3m  tot: 0h11m8s  (75.7%)\rEpoch: 78.8%  lr: 0.012242  loss: 0.007755  eta: 0h3m  tot: 0h11m8s  (75.8%)\rEpoch: 78.9%  lr: 0.012242  loss: 0.007755  eta: 0h3m  tot: 0h11m8s  (75.8%)\rEpoch: 78.9%  lr: 0.012242  loss: 0.007759  eta: 0h3m  tot: 0h11m8s  (75.8%)\rEpoch: 79.0%  lr: 0.012232  loss: 0.007756  eta: 0h3m  tot: 0h11m9s  (75.8%)\rEpoch: 79.1%  lr: 0.012232  loss: 0.007753  eta: 0h3m  tot: 0h11m9s  (75.8%)\rEpoch: 79.2%  lr: 0.012232  loss: 0.007755  eta: 0h3m  tot: 0h11m9s  (75.8%)\rEpoch: 79.3%  lr: 0.012232  loss: 0.007753  eta: 0h3m  tot: 0h11m9s  (75.9%)\rEpoch: 79.4%  lr: 0.012212  loss: 0.007757  eta: 0h3m  tot: 0h11m9s  (75.9%)\rEpoch: 79.5%  lr: 0.012212  loss: 0.007763  eta: 0h3m  tot: 0h11m9s  (75.9%)\rEpoch: 79.6%  lr: 0.012202  loss: 0.007767  eta: 0h3m  tot: 0h11m9s  (75.9%)\rEpoch: 79.7%  lr: 0.012192  loss: 0.007761  eta: 0h3m  tot: 0h11m10s  (75.9%)\rEpoch: 79.8%  lr: 0.012192  loss: 0.007761  eta: 0h3m  tot: 0h11m10s  (76.0%)\rEpoch: 79.9%  lr: 0.012192  loss: 0.007757  eta: 0h3m  tot: 0h11m10s  (76.0%)\rEpoch: 79.9%  lr: 0.012192  loss: 0.007760  eta: 0h3m  tot: 0h11m10s  (76.0%)\rEpoch: 80.0%  lr: 0.012182  loss: 0.007755  eta: 0h3m  tot: 0h11m10s  (76.0%)\rEpoch: 80.1%  lr: 0.012172  loss: 0.007757  eta: 0h3m  tot: 0h11m10s  (76.0%)\rEpoch: 80.2%  lr: 0.012162  loss: 0.007762  eta: 0h3m  tot: 0h11m11s  (76.0%)\rEpoch: 80.3%  lr: 0.012162  loss: 0.007759  eta: 0h3m  tot: 0h11m11s  (76.1%)\rEpoch: 80.4%  lr: 0.012152  loss: 0.007762  eta: 0h3m  tot: 0h11m11s  (76.1%)\rEpoch: 80.5%  lr: 0.012132  loss: 0.007766  eta: 0h3m  tot: 0h11m11s  (76.1%)\rEpoch: 80.6%  lr: 0.012122  loss: 0.007762  eta: 0h3m  tot: 0h11m11s  (76.1%)\rEpoch: 80.7%  lr: 0.012122  loss: 0.007760  eta: 0h3m  tot: 0h11m11s  (76.1%)\rEpoch: 80.8%  lr: 0.012122  loss: 0.007754  eta: 0h3m  tot: 0h11m11s  (76.2%)\rEpoch: 80.8%  lr: 0.012112  loss: 0.007762  eta: 0h3m  tot: 0h11m12s  (76.2%)\rEpoch: 80.9%  lr: 0.012112  loss: 0.007757  eta: 0h3m  tot: 0h11m12s  (76.2%)\rEpoch: 81.0%  lr: 0.012112  loss: 0.007757  eta: 0h3m  tot: 0h11m12s  (76.2%)\rEpoch: 81.1%  lr: 0.012092  loss: 0.007762  eta: 0h3m  tot: 0h11m12s  (76.2%)\rEpoch: 81.2%  lr: 0.012072  loss: 0.007763  eta: 0h3m  tot: 0h11m12s  (76.2%)\rEpoch: 81.3%  lr: 0.012072  loss: 0.007766  eta: 0h3m  tot: 0h11m12s  (76.3%)\rEpoch: 81.4%  lr: 0.012042  loss: 0.007767  eta: 0h3m  tot: 0h11m13s  (76.3%)\rEpoch: 81.5%  lr: 0.012032  loss: 0.007765  eta: 0h3m  tot: 0h11m13s  (76.3%)\rEpoch: 81.6%  lr: 0.012022  loss: 0.007765  eta: 0h3m  tot: 0h11m13s  (76.3%)\rEpoch: 81.7%  lr: 0.012012  loss: 0.007777  eta: 0h3m  tot: 0h11m13s  (76.3%)\rEpoch: 81.7%  lr: 0.011982  loss: 0.007778  eta: 0h3m  tot: 0h11m13s  (76.3%)\rEpoch: 81.8%  lr: 0.011982  loss: 0.007773  eta: 0h3m  tot: 0h11m13s  (76.4%)\rEpoch: 81.9%  lr: 0.011972  loss: 0.007777  eta: 0h3m  tot: 0h11m13s  (76.4%)\rEpoch: 82.0%  lr: 0.011942  loss: 0.007775  eta: 0h3m  tot: 0h11m14s  (76.4%)\rEpoch: 82.1%  lr: 0.011932  loss: 0.007782  eta: 0h3m  tot: 0h11m14s  (76.4%)\rEpoch: 82.2%  lr: 0.011922  loss: 0.007776  eta: 0h3m  tot: 0h11m14s  (76.4%)\rEpoch: 82.3%  lr: 0.011922  loss: 0.007781  eta: 0h3m  tot: 0h11m14s  (76.5%)\rEpoch: 82.4%  lr: 0.011912  loss: 0.007779  eta: 0h3m  tot: 0h11m14s  (76.5%)\rEpoch: 82.5%  lr: 0.011902  loss: 0.007777  eta: 0h3m  tot: 0h11m14s  (76.5%)\rEpoch: 82.6%  lr: 0.011882  loss: 0.007776  eta: 0h3m  tot: 0h11m15s  (76.5%)\rEpoch: 82.6%  lr: 0.011852  loss: 0.007771  eta: 0h3m  tot: 0h11m15s  (76.5%)\rEpoch: 82.7%  lr: 0.011842  loss: 0.007771  eta: 0h3m  tot: 0h11m15s  (76.5%)\rEpoch: 82.8%  lr: 0.011812  loss: 0.007776  eta: 0h3m  tot: 0h11m15s  (76.6%)\rEpoch: 82.9%  lr: 0.011812  loss: 0.007779  eta: 0h3m  tot: 0h11m15s  (76.6%)\rEpoch: 83.0%  lr: 0.011812  loss: 0.007776  eta: 0h3m  tot: 0h11m15s  (76.6%)\rEpoch: 83.1%  lr: 0.011792  loss: 0.007773  eta: 0h3m  tot: 0h11m15s  (76.6%)\rEpoch: 83.2%  lr: 0.011782  loss: 0.007769  eta: 0h3m  tot: 0h11m16s  (76.6%)\rEpoch: 83.3%  lr: 0.011772  loss: 0.007774  eta: 0h3m  tot: 0h11m16s  (76.7%)\rEpoch: 83.4%  lr: 0.011772  loss: 0.007773  eta: 0h3m  tot: 0h11m16s  (76.7%)\rEpoch: 83.5%  lr: 0.011772  loss: 0.007773  eta: 0h3m  tot: 0h11m16s  (76.7%)\rEpoch: 83.5%  lr: 0.011772  loss: 0.007772  eta: 0h3m  tot: 0h11m16s  (76.7%)\rEpoch: 83.6%  lr: 0.011762  loss: 0.007770  eta: 0h3m  tot: 0h11m16s  (76.7%)\rEpoch: 83.7%  lr: 0.011732  loss: 0.007772  eta: 0h3m  tot: 0h11m17s  (76.7%)\rEpoch: 83.8%  lr: 0.011722  loss: 0.007772  eta: 0h3m  tot: 0h11m17s  (76.8%)\rEpoch: 83.9%  lr: 0.011712  loss: 0.007767  eta: 0h3m  tot: 0h11m17s  (76.8%)\rEpoch: 84.0%  lr: 0.011712  loss: 0.007776  eta: 0h3m  tot: 0h11m17s  (76.8%)\rEpoch: 84.1%  lr: 0.011712  loss: 0.007778  eta: 0h3m  tot: 0h11m17s  (76.8%)\rEpoch: 84.2%  lr: 0.011712  loss: 0.007781  eta: 0h3m  tot: 0h11m17s  (76.8%)\rEpoch: 84.3%  lr: 0.011712  loss: 0.007775  eta: 0h3m  tot: 0h11m17s  (76.9%)\rEpoch: 84.4%  lr: 0.011682  loss: 0.007770  eta: 0h3m  tot: 0h11m18s  (76.9%)\rEpoch: 84.4%  lr: 0.011672  loss: 0.007765  eta: 0h3m  tot: 0h11m18s  (76.9%)\rEpoch: 84.5%  lr: 0.011642  loss: 0.007764  eta: 0h3m  tot: 0h11m18s  (76.9%)\rEpoch: 84.6%  lr: 0.011642  loss: 0.007766  eta: 0h3m  tot: 0h11m18s  (76.9%)\rEpoch: 84.7%  lr: 0.011622  loss: 0.007779  eta: 0h3m  tot: 0h11m18s  (76.9%)\rEpoch: 84.8%  lr: 0.011592  loss: 0.007787  eta: 0h3m  tot: 0h11m18s  (77.0%)\rEpoch: 84.9%  lr: 0.011572  loss: 0.007788  eta: 0h3m  tot: 0h11m19s  (77.0%)\rEpoch: 85.0%  lr: 0.011572  loss: 0.007789  eta: 0h3m  tot: 0h11m19s  (77.0%)\rEpoch: 85.1%  lr: 0.011552  loss: 0.007788  eta: 0h3m  tot: 0h11m19s  (77.0%)\rEpoch: 85.2%  lr: 0.011542  loss: 0.007787  eta: 0h3m  tot: 0h11m19s  (77.0%)\rEpoch: 85.3%  lr: 0.011542  loss: 0.007784  eta: 0h3m  tot: 0h11m19s  (77.1%)\rEpoch: 85.3%  lr: 0.011542  loss: 0.007783  eta: 0h3m  tot: 0h11m19s  (77.1%)\rEpoch: 85.4%  lr: 0.011532  loss: 0.007778  eta: 0h3m  tot: 0h11m19s  (77.1%)\rEpoch: 85.5%  lr: 0.011522  loss: 0.007782  eta: 0h3m  tot: 0h11m20s  (77.1%)\rEpoch: 85.6%  lr: 0.011522  loss: 0.007778  eta: 0h3m  tot: 0h11m20s  (77.1%)\rEpoch: 85.7%  lr: 0.011492  loss: 0.007780  eta: 0h3m  tot: 0h11m20s  (77.1%)\rEpoch: 85.8%  lr: 0.011492  loss: 0.007790  eta: 0h3m  tot: 0h11m20s  (77.2%)\rEpoch: 85.9%  lr: 0.011492  loss: 0.007788  eta: 0h3m  tot: 0h11m20s  (77.2%)\rEpoch: 86.0%  lr: 0.011482  loss: 0.007782  eta: 0h3m  tot: 0h11m20s  (77.2%)\rEpoch: 86.1%  lr: 0.011462  loss: 0.007779  eta: 0h3m  tot: 0h11m21s  (77.2%)\rEpoch: 86.2%  lr: 0.011462  loss: 0.007780  eta: 0h3m  tot: 0h11m21s  (77.2%)\rEpoch: 86.2%  lr: 0.011462  loss: 0.007796  eta: 0h3m  tot: 0h11m21s  (77.2%)\rEpoch: 86.3%  lr: 0.011462  loss: 0.007792  eta: 0h3m  tot: 0h11m21s  (77.3%)\rEpoch: 86.4%  lr: 0.011452  loss: 0.007788  eta: 0h3m  tot: 0h11m21s  (77.3%)\rEpoch: 86.5%  lr: 0.011452  loss: 0.007789  eta: 0h3m  tot: 0h11m21s  (77.3%)\rEpoch: 86.6%  lr: 0.011412  loss: 0.007793  eta: 0h3m  tot: 0h11m21s  (77.3%)\rEpoch: 86.7%  lr: 0.011412  loss: 0.007797  eta: 0h3m  tot: 0h11m22s  (77.3%)\rEpoch: 86.8%  lr: 0.011392  loss: 0.007797  eta: 0h3m  tot: 0h11m22s  (77.4%)\rEpoch: 86.9%  lr: 0.011382  loss: 0.007794  eta: 0h3m  tot: 0h11m22s  (77.4%)\rEpoch: 87.0%  lr: 0.011382  loss: 0.007788  eta: 0h3m  tot: 0h11m22s  (77.4%)\rEpoch: 87.1%  lr: 0.011382  loss: 0.007791  eta: 0h3m  tot: 0h11m22s  (77.4%)\rEpoch: 87.1%  lr: 0.011382  loss: 0.007795  eta: 0h3m  tot: 0h11m22s  (77.4%)\rEpoch: 87.2%  lr: 0.011372  loss: 0.007789  eta: 0h3m  tot: 0h11m23s  (77.4%)\rEpoch: 87.3%  lr: 0.011372  loss: 0.007785  eta: 0h3m  tot: 0h11m23s  (77.5%)\rEpoch: 87.4%  lr: 0.011361  loss: 0.007784  eta: 0h3m  tot: 0h11m23s  (77.5%)\rEpoch: 87.5%  lr: 0.011361  loss: 0.007780  eta: 0h3m  tot: 0h11m23s  (77.5%)\rEpoch: 87.6%  lr: 0.011351  loss: 0.007777  eta: 0h3m  tot: 0h11m23s  (77.5%)\rEpoch: 87.7%  lr: 0.011351  loss: 0.007774  eta: 0h3m  tot: 0h11m23s  (77.5%)\rEpoch: 87.8%  lr: 0.011351  loss: 0.007771  eta: 0h3m  tot: 0h11m23s  (77.6%)\rEpoch: 87.9%  lr: 0.011341  loss: 0.007778  eta: 0h3m  tot: 0h11m24s  (77.6%)\rEpoch: 88.0%  lr: 0.011331  loss: 0.007777  eta: 0h3m  tot: 0h11m24s  (77.6%)\rEpoch: 88.0%  lr: 0.011311  loss: 0.007776  eta: 0h3m  tot: 0h11m24s  (77.6%)\rEpoch: 88.1%  lr: 0.011311  loss: 0.007780  eta: 0h3m  tot: 0h11m24s  (77.6%)\rEpoch: 88.2%  lr: 0.011301  loss: 0.007774  eta: 0h3m  tot: 0h11m24s  (77.6%)\rEpoch: 88.3%  lr: 0.011291  loss: 0.007777  eta: 0h3m  tot: 0h11m24s  (77.7%)\rEpoch: 88.4%  lr: 0.011281  loss: 0.007781  eta: 0h3m  tot: 0h11m25s  (77.7%)\rEpoch: 88.5%  lr: 0.011261  loss: 0.007773  eta: 0h3m  tot: 0h11m25s  (77.7%)\rEpoch: 88.6%  lr: 0.011241  loss: 0.007771  eta: 0h3m  tot: 0h11m25s  (77.7%)\rEpoch: 88.7%  lr: 0.011221  loss: 0.007775  eta: 0h3m  tot: 0h11m25s  (77.7%)\rEpoch: 88.8%  lr: 0.011211  loss: 0.007780  eta: 0h3m  tot: 0h11m25s  (77.8%)\rEpoch: 88.9%  lr: 0.011201  loss: 0.007782  eta: 0h3m  tot: 0h11m25s  (77.8%)\rEpoch: 88.9%  lr: 0.011201  loss: 0.007789  eta: 0h3m  tot: 0h11m25s  (77.8%)\rEpoch: 89.0%  lr: 0.011181  loss: 0.007787  eta: 0h3m  tot: 0h11m26s  (77.8%)\rEpoch: 89.1%  lr: 0.011171  loss: 0.007793  eta: 0h3m  tot: 0h11m26s  (77.8%)\rEpoch: 89.2%  lr: 0.011151  loss: 0.007792  eta: 0h3m  tot: 0h11m26s  (77.8%)\rEpoch: 89.3%  lr: 0.011131  loss: 0.007798  eta: 0h3m  tot: 0h11m26s  (77.9%)\rEpoch: 89.4%  lr: 0.011121  loss: 0.007797  eta: 0h3m  tot: 0h11m26s  (77.9%)\rEpoch: 89.5%  lr: 0.011121  loss: 0.007800  eta: 0h3m  tot: 0h11m26s  (77.9%)\rEpoch: 89.6%  lr: 0.011101  loss: 0.007799  eta: 0h3m  tot: 0h11m26s  (77.9%)\rEpoch: 89.7%  lr: 0.011091  loss: 0.007793  eta: 0h3m  tot: 0h11m27s  (77.9%)\rEpoch: 89.8%  lr: 0.011081  loss: 0.007792  eta: 0h3m  tot: 0h11m27s  (78.0%)\rEpoch: 89.8%  lr: 0.011061  loss: 0.007792  eta: 0h3m  tot: 0h11m27s  (78.0%)\rEpoch: 89.9%  lr: 0.011041  loss: 0.007788  eta: 0h3m  tot: 0h11m27s  (78.0%)\rEpoch: 90.0%  lr: 0.011041  loss: 0.007787  eta: 0h3m  tot: 0h11m27s  (78.0%)\rEpoch: 90.1%  lr: 0.011031  loss: 0.007784  eta: 0h3m  tot: 0h11m27s  (78.0%)\rEpoch: 90.2%  lr: 0.011021  loss: 0.007781  eta: 0h3m  tot: 0h11m28s  (78.0%)\rEpoch: 90.3%  lr: 0.011021  loss: 0.007780  eta: 0h3m  tot: 0h11m28s  (78.1%)\rEpoch: 90.4%  lr: 0.011011  loss: 0.007779  eta: 0h3m  tot: 0h11m28s  (78.1%)\rEpoch: 90.5%  lr: 0.011011  loss: 0.007779  eta: 0h3m  tot: 0h11m28s  (78.1%)\rEpoch: 90.6%  lr: 0.011001  loss: 0.007779  eta: 0h3m  tot: 0h11m28s  (78.1%)\rEpoch: 90.7%  lr: 0.011001  loss: 0.007774  eta: 0h3m  tot: 0h11m28s  (78.1%)\rEpoch: 90.7%  lr: 0.011001  loss: 0.007779  eta: 0h3m  tot: 0h11m28s  (78.1%)\rEpoch: 90.8%  lr: 0.011001  loss: 0.007786  eta: 0h3m  tot: 0h11m29s  (78.2%)\rEpoch: 90.9%  lr: 0.010991  loss: 0.007782  eta: 0h3m  tot: 0h11m29s  (78.2%)\rEpoch: 91.0%  lr: 0.010991  loss: 0.007782  eta: 0h3m  tot: 0h11m29s  (78.2%)\rEpoch: 91.1%  lr: 0.010981  loss: 0.007782  eta: 0h3m  tot: 0h11m29s  (78.2%)\rEpoch: 91.2%  lr: 0.010981  loss: 0.007793  eta: 0h3m  tot: 0h11m29s  (78.2%)\rEpoch: 91.3%  lr: 0.010971  loss: 0.007793  eta: 0h3m  tot: 0h11m29s  (78.3%)\rEpoch: 91.4%  lr: 0.010961  loss: 0.007790  eta: 0h3m  tot: 0h11m30s  (78.3%)\rEpoch: 91.5%  lr: 0.010951  loss: 0.007790  eta: 0h3m  tot: 0h11m30s  (78.3%)\rEpoch: 91.6%  lr: 0.010951  loss: 0.007790  eta: 0h3m  tot: 0h11m30s  (78.3%)\rEpoch: 91.6%  lr: 0.010931  loss: 0.007795  eta: 0h3m  tot: 0h11m30s  (78.3%)\rEpoch: 91.7%  lr: 0.010911  loss: 0.007797  eta: 0h3m  tot: 0h11m30s  (78.3%)\rEpoch: 91.8%  lr: 0.010911  loss: 0.007804  eta: 0h3m  tot: 0h11m30s  (78.4%)\rEpoch: 91.9%  lr: 0.010911  loss: 0.007808  eta: 0h3m  tot: 0h11m31s  (78.4%)\rEpoch: 92.0%  lr: 0.010901  loss: 0.007805  eta: 0h3m  tot: 0h11m31s  (78.4%)\rEpoch: 92.1%  lr: 0.010871  loss: 0.007801  eta: 0h3m  tot: 0h11m31s  (78.4%)\rEpoch: 92.2%  lr: 0.010851  loss: 0.007800  eta: 0h3m  tot: 0h11m31s  (78.4%)\rEpoch: 92.3%  lr: 0.010841  loss: 0.007798  eta: 0h3m  tot: 0h11m31s  (78.5%)\rEpoch: 92.4%  lr: 0.010831  loss: 0.007794  eta: 0h3m  tot: 0h11m31s  (78.5%)\rEpoch: 92.5%  lr: 0.010831  loss: 0.007791  eta: 0h3m  tot: 0h11m31s  (78.5%)\rEpoch: 92.5%  lr: 0.010801  loss: 0.007789  eta: 0h3m  tot: 0h11m32s  (78.5%)\rEpoch: 92.6%  lr: 0.010781  loss: 0.007789  eta: 0h3m  tot: 0h11m32s  (78.5%)\rEpoch: 92.7%  lr: 0.010771  loss: 0.007788  eta: 0h3m  tot: 0h11m32s  (78.5%)\rEpoch: 92.8%  lr: 0.010771  loss: 0.007784  eta: 0h3m  tot: 0h11m32s  (78.6%)\rEpoch: 92.9%  lr: 0.010741  loss: 0.007779  eta: 0h3m  tot: 0h11m32s  (78.6%)\rEpoch: 93.0%  lr: 0.010731  loss: 0.007785  eta: 0h3m  tot: 0h11m32s  (78.6%)\rEpoch: 93.1%  lr: 0.010721  loss: 0.007787  eta: 0h3m  tot: 0h11m32s  (78.6%)\rEpoch: 93.2%  lr: 0.010721  loss: 0.007792  eta: 0h3m  tot: 0h11m33s  (78.6%)\rEpoch: 93.3%  lr: 0.010721  loss: 0.007790  eta: 0h3m  tot: 0h11m33s  (78.7%)\rEpoch: 93.4%  lr: 0.010711  loss: 0.007786  eta: 0h3m  tot: 0h11m33s  (78.7%)\rEpoch: 93.4%  lr: 0.010691  loss: 0.007783  eta: 0h3m  tot: 0h11m33s  (78.7%)\rEpoch: 93.5%  lr: 0.010681  loss: 0.007779  eta: 0h3m  tot: 0h11m33s  (78.7%)\rEpoch: 93.6%  lr: 0.010661  loss: 0.007796  eta: 0h3m  tot: 0h11m33s  (78.7%)\rEpoch: 93.7%  lr: 0.010661  loss: 0.007797  eta: 0h3m  tot: 0h11m34s  (78.7%)\rEpoch: 93.8%  lr: 0.010661  loss: 0.007814  eta: 0h3m  tot: 0h11m34s  (78.8%)\rEpoch: 93.9%  lr: 0.010651  loss: 0.007820  eta: 0h3m  tot: 0h11m34s  (78.8%)\rEpoch: 94.0%  lr: 0.010651  loss: 0.007817  eta: 0h3m  tot: 0h11m34s  (78.8%)\rEpoch: 94.1%  lr: 0.010651  loss: 0.007815  eta: 0h3m  tot: 0h11m34s  (78.8%)\rEpoch: 94.2%  lr: 0.010631  loss: 0.007812  eta: 0h3m  tot: 0h11m34s  (78.8%)\rEpoch: 94.3%  lr: 0.010601  loss: 0.007823  eta: 0h3m  tot: 0h11m34s  (78.9%)\rEpoch: 94.3%  lr: 0.010591  loss: 0.007818  eta: 0h3m  tot: 0h11m35s  (78.9%)\rEpoch: 94.4%  lr: 0.010591  loss: 0.007822  eta: 0h3m  tot: 0h11m35s  (78.9%)\rEpoch: 94.5%  lr: 0.010571  loss: 0.007819  eta: 0h2m  tot: 0h11m35s  (78.9%)\rEpoch: 94.6%  lr: 0.010571  loss: 0.007816  eta: 0h2m  tot: 0h11m35s  (78.9%)\rEpoch: 94.7%  lr: 0.010541  loss: 0.007819  eta: 0h2m  tot: 0h11m35s  (78.9%)\rEpoch: 94.8%  lr: 0.010531  loss: 0.007816  eta: 0h2m  tot: 0h11m35s  (79.0%)\rEpoch: 94.9%  lr: 0.010511  loss: 0.007817  eta: 0h2m  tot: 0h11m36s  (79.0%)\rEpoch: 95.0%  lr: 0.010491  loss: 0.007814  eta: 0h2m  tot: 0h11m36s  (79.0%)\rEpoch: 95.1%  lr: 0.010491  loss: 0.007818  eta: 0h2m  tot: 0h11m36s  (79.0%)\rEpoch: 95.2%  lr: 0.010471  loss: 0.007818  eta: 0h2m  tot: 0h11m36s  (79.0%)\rEpoch: 95.2%  lr: 0.010461  loss: 0.007817  eta: 0h2m  tot: 0h11m36s  (79.0%)\rEpoch: 95.3%  lr: 0.010451  loss: 0.007819  eta: 0h2m  tot: 0h11m36s  (79.1%)\rEpoch: 95.4%  lr: 0.010431  loss: 0.007817  eta: 0h2m  tot: 0h11m36s  (79.1%)\rEpoch: 95.5%  lr: 0.010421  loss: 0.007812  eta: 0h2m  tot: 0h11m37s  (79.1%)\rEpoch: 95.6%  lr: 0.010411  loss: 0.007813  eta: 0h2m  tot: 0h11m37s  (79.1%)\rEpoch: 95.7%  lr: 0.010411  loss: 0.007808  eta: 0h2m  tot: 0h11m37s  (79.1%)\rEpoch: 95.8%  lr: 0.010391  loss: 0.007808  eta: 0h2m  tot: 0h11m37s  (79.2%)\rEpoch: 95.9%  lr: 0.010391  loss: 0.007804  eta: 0h2m  tot: 0h11m37s  (79.2%)\rEpoch: 96.0%  lr: 0.010381  loss: 0.007807  eta: 0h2m  tot: 0h11m37s  (79.2%)\rEpoch: 96.1%  lr: 0.010381  loss: 0.007804  eta: 0h2m  tot: 0h11m38s  (79.2%)\rEpoch: 96.1%  lr: 0.010381  loss: 0.007805  eta: 0h2m  tot: 0h11m38s  (79.2%)\rEpoch: 96.2%  lr: 0.010361  loss: 0.007806  eta: 0h2m  tot: 0h11m38s  (79.2%)\rEpoch: 96.3%  lr: 0.010361  loss: 0.007800  eta: 0h2m  tot: 0h11m38s  (79.3%)\rEpoch: 96.4%  lr: 0.010350  loss: 0.007798  eta: 0h2m  tot: 0h11m38s  (79.3%)\rEpoch: 96.5%  lr: 0.010340  loss: 0.007797  eta: 0h2m  tot: 0h11m38s  (79.3%)\rEpoch: 96.6%  lr: 0.010340  loss: 0.007804  eta: 0h2m  tot: 0h11m38s  (79.3%)\rEpoch: 96.7%  lr: 0.010320  loss: 0.007803  eta: 0h2m  tot: 0h11m39s  (79.3%)\rEpoch: 96.8%  lr: 0.010320  loss: 0.007800  eta: 0h2m  tot: 0h11m39s  (79.4%)\rEpoch: 96.9%  lr: 0.010320  loss: 0.007799  eta: 0h2m  tot: 0h11m39s  (79.4%)\rEpoch: 97.0%  lr: 0.010320  loss: 0.007800  eta: 0h2m  tot: 0h11m39s  (79.4%)\rEpoch: 97.0%  lr: 0.010290  loss: 0.007795  eta: 0h2m  tot: 0h11m39s  (79.4%)\rEpoch: 97.1%  lr: 0.010270  loss: 0.007795  eta: 0h2m  tot: 0h11m39s  (79.4%)\rEpoch: 97.2%  lr: 0.010260  loss: 0.007793  eta: 0h2m  tot: 0h11m40s  (79.4%)\rEpoch: 97.3%  lr: 0.010250  loss: 0.007791  eta: 0h2m  tot: 0h11m40s  (79.5%)\rEpoch: 97.4%  lr: 0.010250  loss: 0.007786  eta: 0h2m  tot: 0h11m40s  (79.5%)\rEpoch: 97.5%  lr: 0.010250  loss: 0.007781  eta: 0h2m  tot: 0h11m40s  (79.5%)\rEpoch: 97.6%  lr: 0.010240  loss: 0.007785  eta: 0h2m  tot: 0h11m40s  (79.5%)\rEpoch: 97.7%  lr: 0.010240  loss: 0.007785  eta: 0h2m  tot: 0h11m40s  (79.5%)\rEpoch: 97.8%  lr: 0.010220  loss: 0.007786  eta: 0h2m  tot: 0h11m40s  (79.6%)\rEpoch: 97.9%  lr: 0.010200  loss: 0.007793  eta: 0h2m  tot: 0h11m41s  (79.6%)\rEpoch: 97.9%  lr: 0.010160  loss: 0.007794  eta: 0h2m  tot: 0h11m41s  (79.6%)\rEpoch: 98.0%  lr: 0.010150  loss: 0.007793  eta: 0h2m  tot: 0h11m41s  (79.6%)\rEpoch: 98.1%  lr: 0.010140  loss: 0.007790  eta: 0h2m  tot: 0h11m41s  (79.6%)\rEpoch: 98.2%  lr: 0.010120  loss: 0.007795  eta: 0h2m  tot: 0h11m41s  (79.6%)\rEpoch: 98.3%  lr: 0.010120  loss: 0.007794  eta: 0h2m  tot: 0h11m41s  (79.7%)\rEpoch: 98.4%  lr: 0.010080  loss: 0.007797  eta: 0h2m  tot: 0h11m42s  (79.7%)\rEpoch: 98.5%  lr: 0.010070  loss: 0.007804  eta: 0h2m  tot: 0h11m42s  (79.7%)\rEpoch: 98.6%  lr: 0.010040  loss: 0.007805  eta: 0h2m  tot: 0h11m42s  (79.7%)\rEpoch: 98.7%  lr: 0.010040  loss: 0.007807  eta: 0h2m  tot: 0h11m42s  (79.7%)\rEpoch: 98.8%  lr: 0.010030  loss: 0.007810  eta: 0h2m  tot: 0h11m42s  (79.8%)\rEpoch: 98.8%  lr: 0.010030  loss: 0.007814  eta: 0h2m  tot: 0h11m42s  (79.8%)\rEpoch: 98.9%  lr: 0.010030  loss: 0.007817  eta: 0h2m  tot: 0h11m43s  (79.8%)\rEpoch: 99.0%  lr: 0.010030  loss: 0.007817  eta: 0h2m  tot: 0h11m43s  (79.8%)\rEpoch: 99.1%  lr: 0.010020  loss: 0.007816  eta: 0h2m  tot: 0h11m43s  (79.8%)\rEpoch: 99.2%  lr: 0.010020  loss: 0.007813  eta: 0h2m  tot: 0h11m43s  (79.8%)\rEpoch: 99.3%  lr: 0.010020  loss: 0.007812  eta: 0h2m  tot: 0h11m43s  (79.9%)\rEpoch: 99.4%  lr: 0.010020  loss: 0.007808  eta: 0h2m  tot: 0h11m43s  (79.9%)\rEpoch: 99.5%  lr: 0.010020  loss: 0.007815  eta: 0h2m  tot: 0h11m43s  (79.9%)\rEpoch: 99.6%  lr: 0.010020  loss: 0.007810  eta: 0h2m  tot: 0h11m44s  (79.9%)\rEpoch: 99.7%  lr: 0.010000  loss: 0.007808  eta: 0h2m  tot: 0h11m44s  (79.9%)\rEpoch: 99.7%  lr: 0.010000  loss: 0.007810  eta: 0h2m  tot: 0h11m44s  (79.9%)\rEpoch: 99.8%  lr: 0.010000  loss: 0.007812  eta: 0h2m  tot: 0h11m44s  (80.0%)\rEpoch: 99.9%  lr: 0.010000  loss: 0.007812  eta: 0h2m  tot: 0h11m44s  (80.0%)\rEpoch: 100.0%  lr: 0.010000  loss: 0.007811  eta: 0h2m  tot: 0h11m44s  (80.0%)\rEpoch: 0.1%  lr: 0.010000  loss: 0.008674  eta: 0h3m  tot: 0h11m44s  (80.0%)\rEpoch: 0.2%  lr: 0.009980  loss: 0.006841  eta: 0h2m  tot: 0h11m44s  (80.0%)\rEpoch: 0.3%  lr: 0.009980  loss: 0.007991  eta: 0h2m  tot: 0h11m44s  (80.1%)\rEpoch: 0.4%  lr: 0.009970  loss: 0.009195  eta: 0h2m  tot: 0h11m44s  (80.1%)\rEpoch: 0.4%  lr: 0.009960  loss: 0.008679  eta: 0h2m  tot: 0h11m45s  (80.1%)\rEpoch: 0.5%  lr: 0.009950  loss: 0.007846  eta: 0h2m  tot: 0h11m45s  (80.1%)\rEpoch: 0.6%  lr: 0.009950  loss: 0.006872  eta: 0h2m  tot: 0h11m45s  (80.1%)\rEpoch: 0.7%  lr: 0.009950  loss: 0.006791  eta: 0h2m  tot: 0h11m45s  (80.1%)\rEpoch: 0.8%  lr: 0.009930  loss: 0.006480  eta: 0h2m  tot: 0h11m45s  (80.2%)\rEpoch: 0.9%  lr: 0.009920  loss: 0.006490  eta: 0h2m  tot: 0h11m45s  (80.2%)\rEpoch: 1.0%  lr: 0.009910  loss: 0.006195  eta: 0h2m  tot: 0h11m46s  (80.2%)\rEpoch: 1.1%  lr: 0.009910  loss: 0.006842  eta: 0h2m  tot: 0h11m46s  (80.2%)\rEpoch: 1.2%  lr: 0.009890  loss: 0.006571  eta: 0h2m  tot: 0h11m46s  (80.2%)\rEpoch: 1.3%  lr: 0.009870  loss: 0.006603  eta: 0h2m  tot: 0h11m46s  (80.3%)\rEpoch: 1.3%  lr: 0.009870  loss: 0.006784  eta: 0h2m  tot: 0h11m46s  (80.3%)\rEpoch: 1.4%  lr: 0.009850  loss: 0.007039  eta: 0h2m  tot: 0h11m46s  (80.3%)\rEpoch: 1.5%  lr: 0.009850  loss: 0.006908  eta: 0h2m  tot: 0h11m46s  (80.3%)\rEpoch: 1.6%  lr: 0.009840  loss: 0.006606  eta: 0h2m  tot: 0h11m47s  (80.3%)\rEpoch: 1.7%  lr: 0.009830  loss: 0.006453  eta: 0h2m  tot: 0h11m47s  (80.3%)\rEpoch: 1.8%  lr: 0.009830  loss: 0.006357  eta: 0h2m  tot: 0h11m47s  (80.4%)\rEpoch: 1.9%  lr: 0.009830  loss: 0.006305  eta: 0h2m  tot: 0h11m47s  (80.4%)\rEpoch: 2.0%  lr: 0.009830  loss: 0.006208  eta: 0h2m  tot: 0h11m47s  (80.4%)\rEpoch: 2.1%  lr: 0.009800  loss: 0.006327  eta: 0h2m  tot: 0h11m47s  (80.4%)\rEpoch: 2.2%  lr: 0.009780  loss: 0.006343  eta: 0h2m  tot: 0h11m47s  (80.4%)\rEpoch: 2.2%  lr: 0.009780  loss: 0.006534  eta: 0h2m  tot: 0h11m48s  (80.4%)\rEpoch: 2.3%  lr: 0.009780  loss: 0.006475  eta: 0h2m  tot: 0h11m48s  (80.5%)\rEpoch: 2.4%  lr: 0.009750  loss: 0.006405  eta: 0h2m  tot: 0h11m48s  (80.5%)\rEpoch: 2.5%  lr: 0.009730  loss: 0.006239  eta: 0h2m  tot: 0h11m48s  (80.5%)\rEpoch: 2.6%  lr: 0.009720  loss: 0.006207  eta: 0h2m  tot: 0h11m48s  (80.5%)\rEpoch: 2.7%  lr: 0.009690  loss: 0.006354  eta: 0h2m  tot: 0h11m48s  (80.5%)\rEpoch: 2.8%  lr: 0.009680  loss: 0.006375  eta: 0h2m  tot: 0h11m49s  (80.6%)\rEpoch: 2.9%  lr: 0.009680  loss: 0.006509  eta: 0h2m  tot: 0h11m49s  (80.6%)\rEpoch: 3.0%  lr: 0.009670  loss: 0.006683  eta: 0h2m  tot: 0h11m49s  (80.6%)\rEpoch: 3.1%  lr: 0.009660  loss: 0.006585  eta: 0h2m  tot: 0h11m49s  (80.6%)\rEpoch: 3.1%  lr: 0.009640  loss: 0.006625  eta: 0h2m  tot: 0h11m49s  (80.6%)\rEpoch: 3.2%  lr: 0.009620  loss: 0.006823  eta: 0h2m  tot: 0h11m49s  (80.6%)\rEpoch: 3.3%  lr: 0.009590  loss: 0.006824  eta: 0h2m  tot: 0h11m49s  (80.7%)\rEpoch: 3.4%  lr: 0.009590  loss: 0.006812  eta: 0h2m  tot: 0h11m50s  (80.7%)\rEpoch: 3.5%  lr: 0.009580  loss: 0.006706  eta: 0h2m  tot: 0h11m50s  (80.7%)\rEpoch: 3.6%  lr: 0.009570  loss: 0.006675  eta: 0h2m  tot: 0h11m50s  (80.7%)\rEpoch: 3.7%  lr: 0.009560  loss: 0.006650  eta: 0h2m  tot: 0h11m50s  (80.7%)\rEpoch: 3.8%  lr: 0.009560  loss: 0.006597  eta: 0h2m  tot: 0h11m50s  (80.8%)\rEpoch: 3.9%  lr: 0.009540  loss: 0.006545  eta: 0h2m  tot: 0h11m50s  (80.8%)\rEpoch: 4.0%  lr: 0.009530  loss: 0.006523  eta: 0h2m  tot: 0h11m51s  (80.8%)\rEpoch: 4.1%  lr: 0.009530  loss: 0.006441  eta: 0h2m  tot: 0h11m51s  (80.8%)\rEpoch: 4.1%  lr: 0.009510  loss: 0.006393  eta: 0h2m  tot: 0h11m51s  (80.8%)\rEpoch: 4.2%  lr: 0.009510  loss: 0.006456  eta: 0h2m  tot: 0h11m51s  (80.8%)\rEpoch: 4.3%  lr: 0.009489  loss: 0.006469  eta: 0h2m  tot: 0h11m51s  (80.9%)\rEpoch: 4.4%  lr: 0.009469  loss: 0.006436  eta: 0h2m  tot: 0h11m51s  (80.9%)\rEpoch: 4.5%  lr: 0.009449  loss: 0.006561  eta: 0h2m  tot: 0h11m51s  (80.9%)\rEpoch: 4.6%  lr: 0.009449  loss: 0.006577  eta: 0h2m  tot: 0h11m52s  (80.9%)\rEpoch: 4.7%  lr: 0.009449  loss: 0.006532  eta: 0h2m  tot: 0h11m52s  (80.9%)\rEpoch: 4.8%  lr: 0.009449  loss: 0.006559  eta: 0h2m  tot: 0h11m52s  (81.0%)\rEpoch: 4.9%  lr: 0.009439  loss: 0.006487  eta: 0h2m  tot: 0h11m52s  (81.0%)\rEpoch: 5.0%  lr: 0.009419  loss: 0.006497  eta: 0h2m  tot: 0h11m52s  (81.0%)\rEpoch: 5.0%  lr: 0.009419  loss: 0.006467  eta: 0h2m  tot: 0h11m52s  (81.0%)\rEpoch: 5.1%  lr: 0.009409  loss: 0.006470  eta: 0h2m  tot: 0h11m53s  (81.0%)\rEpoch: 5.2%  lr: 0.009409  loss: 0.006558  eta: 0h2m  tot: 0h11m53s  (81.0%)\rEpoch: 5.3%  lr: 0.009409  loss: 0.006577  eta: 0h2m  tot: 0h11m53s  (81.1%)\rEpoch: 5.4%  lr: 0.009399  loss: 0.006677  eta: 0h2m  tot: 0h11m53s  (81.1%)\rEpoch: 5.5%  lr: 0.009389  loss: 0.006732  eta: 0h2m  tot: 0h11m53s  (81.1%)\rEpoch: 5.6%  lr: 0.009389  loss: 0.006718  eta: 0h2m  tot: 0h11m53s  (81.1%)\rEpoch: 5.7%  lr: 0.009379  loss: 0.006668  eta: 0h2m  tot: 0h11m53s  (81.1%)\rEpoch: 5.8%  lr: 0.009369  loss: 0.006575  eta: 0h2m  tot: 0h11m54s  (81.2%)\rEpoch: 5.9%  lr: 0.009359  loss: 0.006545  eta: 0h2m  tot: 0h11m54s  (81.2%)\rEpoch: 5.9%  lr: 0.009359  loss: 0.006545  eta: 0h2m  tot: 0h11m54s  (81.2%)\rEpoch: 6.0%  lr: 0.009349  loss: 0.006591  eta: 0h2m  tot: 0h11m54s  (81.2%)\rEpoch: 6.1%  lr: 0.009339  loss: 0.006540  eta: 0h2m  tot: 0h11m54s  (81.2%)\rEpoch: 6.2%  lr: 0.009329  loss: 0.006527  eta: 0h2m  tot: 0h11m54s  (81.2%)\rEpoch: 6.3%  lr: 0.009309  loss: 0.006715  eta: 0h2m  tot: 0h11m55s  (81.3%)\rEpoch: 6.4%  lr: 0.009309  loss: 0.006698  eta: 0h2m  tot: 0h11m55s  (81.3%)\rEpoch: 6.5%  lr: 0.009309  loss: 0.006672  eta: 0h2m  tot: 0h11m55s  (81.3%)\rEpoch: 6.6%  lr: 0.009299  loss: 0.006728  eta: 0h2m  tot: 0h11m55s  (81.3%)\rEpoch: 6.7%  lr: 0.009279  loss: 0.006785  eta: 0h2m  tot: 0h11m55s  (81.3%)\rEpoch: 6.8%  lr: 0.009279  loss: 0.006735  eta: 0h2m  tot: 0h11m55s  (81.4%)\rEpoch: 6.8%  lr: 0.009279  loss: 0.006724  eta: 0h2m  tot: 0h11m55s  (81.4%)\rEpoch: 6.9%  lr: 0.009279  loss: 0.006790  eta: 0h2m  tot: 0h11m56s  (81.4%)\rEpoch: 7.0%  lr: 0.009269  loss: 0.006759  eta: 0h2m  tot: 0h11m56s  (81.4%)\rEpoch: 7.1%  lr: 0.009269  loss: 0.006743  eta: 0h2m  tot: 0h11m56s  (81.4%)\rEpoch: 7.2%  lr: 0.009269  loss: 0.006702  eta: 0h2m  tot: 0h11m56s  (81.4%)\rEpoch: 7.3%  lr: 0.009269  loss: 0.006662  eta: 0h2m  tot: 0h11m56s  (81.5%)\rEpoch: 7.4%  lr: 0.009269  loss: 0.006628  eta: 0h2m  tot: 0h11m56s  (81.5%)\rEpoch: 7.5%  lr: 0.009259  loss: 0.006599  eta: 0h2m  tot: 0h11m57s  (81.5%)\rEpoch: 7.6%  lr: 0.009249  loss: 0.006658  eta: 0h2m  tot: 0h11m57s  (81.5%)\rEpoch: 7.7%  lr: 0.009249  loss: 0.006645  eta: 0h2m  tot: 0h11m57s  (81.5%)\rEpoch: 7.7%  lr: 0.009229  loss: 0.006643  eta: 0h2m  tot: 0h11m57s  (81.5%)\rEpoch: 7.8%  lr: 0.009229  loss: 0.006631  eta: 0h2m  tot: 0h11m57s  (81.6%)\rEpoch: 7.9%  lr: 0.009229  loss: 0.006618  eta: 0h2m  tot: 0h11m57s  (81.6%)\rEpoch: 8.0%  lr: 0.009219  loss: 0.006734  eta: 0h2m  tot: 0h11m57s  (81.6%)\rEpoch: 8.1%  lr: 0.009209  loss: 0.006693  eta: 0h2m  tot: 0h11m58s  (81.6%)\rEpoch: 8.2%  lr: 0.009209  loss: 0.006673  eta: 0h2m  tot: 0h11m58s  (81.6%)\rEpoch: 8.3%  lr: 0.009199  loss: 0.006644  eta: 0h2m  tot: 0h11m58s  (81.7%)\rEpoch: 8.4%  lr: 0.009199  loss: 0.006622  eta: 0h2m  tot: 0h11m58s  (81.7%)\rEpoch: 8.5%  lr: 0.009189  loss: 0.006580  eta: 0h2m  tot: 0h11m58s  (81.7%)\rEpoch: 8.6%  lr: 0.009169  loss: 0.006546  eta: 0h2m  tot: 0h11m58s  (81.7%)\rEpoch: 8.6%  lr: 0.009169  loss: 0.006536  eta: 0h2m  tot: 0h11m59s  (81.7%)\rEpoch: 8.7%  lr: 0.009159  loss: 0.006542  eta: 0h2m  tot: 0h11m59s  (81.7%)\rEpoch: 8.8%  lr: 0.009149  loss: 0.006656  eta: 0h2m  tot: 0h11m59s  (81.8%)\rEpoch: 8.9%  lr: 0.009139  loss: 0.006714  eta: 0h2m  tot: 0h11m59s  (81.8%)\rEpoch: 9.0%  lr: 0.009139  loss: 0.006666  eta: 0h2m  tot: 0h11m59s  (81.8%)\rEpoch: 9.1%  lr: 0.009139  loss: 0.006706  eta: 0h2m  tot: 0h11m59s  (81.8%)\rEpoch: 9.2%  lr: 0.009139  loss: 0.006705  eta: 0h2m  tot: 0h11m59s  (81.8%)\rEpoch: 9.3%  lr: 0.009139  loss: 0.006688  eta: 0h2m  tot: 0h12m0s  (81.9%)\rEpoch: 9.4%  lr: 0.009119  loss: 0.006661  eta: 0h2m  tot: 0h12m0s  (81.9%)\rEpoch: 9.5%  lr: 0.009119  loss: 0.006665  eta: 0h2m  tot: 0h12m0s  (81.9%)\rEpoch: 9.5%  lr: 0.009079  loss: 0.006697  eta: 0h2m  tot: 0h12m0s  (81.9%)\rEpoch: 9.6%  lr: 0.009049  loss: 0.006781  eta: 0h2m  tot: 0h12m0s  (81.9%)\rEpoch: 9.7%  lr: 0.009049  loss: 0.006744  eta: 0h2m  tot: 0h12m0s  (81.9%)\rEpoch: 9.8%  lr: 0.009039  loss: 0.006713  eta: 0h2m  tot: 0h12m1s  (82.0%)\rEpoch: 9.9%  lr: 0.009039  loss: 0.006679  eta: 0h2m  tot: 0h12m1s  (82.0%)\rEpoch: 10.0%  lr: 0.009039  loss: 0.006652  eta: 0h2m  tot: 0h12m1s  (82.0%)\rEpoch: 10.1%  lr: 0.009039  loss: 0.006699  eta: 0h2m  tot: 0h12m1s  (82.0%)\rEpoch: 10.2%  lr: 0.009039  loss: 0.006687  eta: 0h2m  tot: 0h12m1s  (82.0%)\rEpoch: 10.3%  lr: 0.009039  loss: 0.006677  eta: 0h2m  tot: 0h12m1s  (82.1%)\rEpoch: 10.4%  lr: 0.009039  loss: 0.006669  eta: 0h2m  tot: 0h12m1s  (82.1%)\rEpoch: 10.4%  lr: 0.009039  loss: 0.006692  eta: 0h2m  tot: 0h12m2s  (82.1%)\rEpoch: 10.5%  lr: 0.009039  loss: 0.006669  eta: 0h2m  tot: 0h12m2s  (82.1%)\rEpoch: 10.6%  lr: 0.009029  loss: 0.006697  eta: 0h2m  tot: 0h12m2s  (82.1%)\rEpoch: 10.7%  lr: 0.009029  loss: 0.006690  eta: 0h2m  tot: 0h12m2s  (82.1%)\rEpoch: 10.8%  lr: 0.009029  loss: 0.006695  eta: 0h2m  tot: 0h12m2s  (82.2%)\rEpoch: 10.9%  lr: 0.009019  loss: 0.006718  eta: 0h2m  tot: 0h12m2s  (82.2%)\rEpoch: 11.0%  lr: 0.008989  loss: 0.006675  eta: 0h2m  tot: 0h12m2s  (82.2%)\rEpoch: 11.1%  lr: 0.008969  loss: 0.006647  eta: 0h2m  tot: 0h12m3s  (82.2%)\rEpoch: 11.2%  lr: 0.008969  loss: 0.006660  eta: 0h2m  tot: 0h12m3s  (82.2%)\rEpoch: 11.3%  lr: 0.008959  loss: 0.006670  eta: 0h2m  tot: 0h12m3s  (82.3%)\rEpoch: 11.3%  lr: 0.008949  loss: 0.006654  eta: 0h2m  tot: 0h12m3s  (82.3%)\rEpoch: 11.4%  lr: 0.008939  loss: 0.006630  eta: 0h2m  tot: 0h12m3s  (82.3%)\rEpoch: 11.5%  lr: 0.008929  loss: 0.006612  eta: 0h2m  tot: 0h12m3s  (82.3%)\rEpoch: 11.6%  lr: 0.008919  loss: 0.006633  eta: 0h2m  tot: 0h12m4s  (82.3%)\rEpoch: 11.7%  lr: 0.008909  loss: 0.006626  eta: 0h2m  tot: 0h12m4s  (82.3%)\rEpoch: 11.8%  lr: 0.008889  loss: 0.006617  eta: 0h2m  tot: 0h12m4s  (82.4%)\rEpoch: 11.9%  lr: 0.008859  loss: 0.006619  eta: 0h2m  tot: 0h12m4s  (82.4%)\rEpoch: 12.0%  lr: 0.008839  loss: 0.006619  eta: 0h2m  tot: 0h12m4s  (82.4%)\rEpoch: 12.1%  lr: 0.008839  loss: 0.006597  eta: 0h2m  tot: 0h12m4s  (82.4%)\rEpoch: 12.2%  lr: 0.008829  loss: 0.006591  eta: 0h2m  tot: 0h12m4s  (82.4%)\rEpoch: 12.2%  lr: 0.008819  loss: 0.006632  eta: 0h2m  tot: 0h12m5s  (82.4%)\rEpoch: 12.3%  lr: 0.008799  loss: 0.006663  eta: 0h2m  tot: 0h12m5s  (82.5%)\rEpoch: 12.4%  lr: 0.008789  loss: 0.006627  eta: 0h2m  tot: 0h12m5s  (82.5%)\rEpoch: 12.5%  lr: 0.008769  loss: 0.006672  eta: 0h2m  tot: 0h12m5s  (82.5%)\rEpoch: 12.6%  lr: 0.008769  loss: 0.006709  eta: 0h2m  tot: 0h12m5s  (82.5%)\rEpoch: 12.7%  lr: 0.008759  loss: 0.006714  eta: 0h2m  tot: 0h12m5s  (82.5%)\rEpoch: 12.8%  lr: 0.008759  loss: 0.006700  eta: 0h2m  tot: 0h12m6s  (82.6%)\rEpoch: 12.9%  lr: 0.008759  loss: 0.006691  eta: 0h2m  tot: 0h12m6s  (82.6%)\rEpoch: 13.0%  lr: 0.008759  loss: 0.006693  eta: 0h2m  tot: 0h12m6s  (82.6%)\rEpoch: 13.1%  lr: 0.008749  loss: 0.006683  eta: 0h2m  tot: 0h12m6s  (82.6%)\rEpoch: 13.1%  lr: 0.008739  loss: 0.006723  eta: 0h2m  tot: 0h12m6s  (82.6%)\rEpoch: 13.2%  lr: 0.008739  loss: 0.006729  eta: 0h2m  tot: 0h12m6s  (82.6%)\rEpoch: 13.3%  lr: 0.008719  loss: 0.006705  eta: 0h2m  tot: 0h12m7s  (82.7%)\rEpoch: 13.4%  lr: 0.008719  loss: 0.006768  eta: 0h2m  tot: 0h12m7s  (82.7%)\rEpoch: 13.5%  lr: 0.008709  loss: 0.006739  eta: 0h2m  tot: 0h12m7s  (82.7%)\rEpoch: 13.6%  lr: 0.008689  loss: 0.006763  eta: 0h2m  tot: 0h12m7s  (82.7%)\rEpoch: 13.7%  lr: 0.008669  loss: 0.006741  eta: 0h2m  tot: 0h12m7s  (82.7%)\rEpoch: 13.8%  lr: 0.008669  loss: 0.006754  eta: 0h2m  tot: 0h12m7s  (82.8%)\rEpoch: 13.9%  lr: 0.008659  loss: 0.006735  eta: 0h2m  tot: 0h12m7s  (82.8%)\rEpoch: 14.0%  lr: 0.008639  loss: 0.006731  eta: 0h2m  tot: 0h12m8s  (82.8%)\rEpoch: 14.0%  lr: 0.008639  loss: 0.006761  eta: 0h2m  tot: 0h12m8s  (82.8%)\rEpoch: 14.1%  lr: 0.008639  loss: 0.006748  eta: 0h2m  tot: 0h12m8s  (82.8%)\rEpoch: 14.2%  lr: 0.008639  loss: 0.006731  eta: 0h2m  tot: 0h12m8s  (82.8%)\rEpoch: 14.3%  lr: 0.008639  loss: 0.006718  eta: 0h2m  tot: 0h12m8s  (82.9%)\rEpoch: 14.4%  lr: 0.008629  loss: 0.006742  eta: 0h2m  tot: 0h12m8s  (82.9%)\rEpoch: 14.5%  lr: 0.008629  loss: 0.006756  eta: 0h2m  tot: 0h12m9s  (82.9%)\rEpoch: 14.6%  lr: 0.008629  loss: 0.006772  eta: 0h2m  tot: 0h12m9s  (82.9%)\rEpoch: 14.7%  lr: 0.008629  loss: 0.006766  eta: 0h2m  tot: 0h12m9s  (82.9%)\rEpoch: 14.8%  lr: 0.008619  loss: 0.006754  eta: 0h2m  tot: 0h12m9s  (83.0%)\rEpoch: 14.9%  lr: 0.008619  loss: 0.006740  eta: 0h2m  tot: 0h12m9s  (83.0%)\rEpoch: 14.9%  lr: 0.008619  loss: 0.006715  eta: 0h2m  tot: 0h12m9s  (83.0%)\rEpoch: 15.0%  lr: 0.008609  loss: 0.006692  eta: 0h2m  tot: 0h12m9s  (83.0%)\rEpoch: 15.1%  lr: 0.008589  loss: 0.006701  eta: 0h2m  tot: 0h12m10s  (83.0%)\rEpoch: 15.2%  lr: 0.008589  loss: 0.006679  eta: 0h2m  tot: 0h12m10s  (83.0%)\rEpoch: 15.3%  lr: 0.008579  loss: 0.006655  eta: 0h2m  tot: 0h12m10s  (83.1%)\rEpoch: 15.4%  lr: 0.008569  loss: 0.006636  eta: 0h2m  tot: 0h12m10s  (83.1%)\rEpoch: 15.5%  lr: 0.008569  loss: 0.006632  eta: 0h2m  tot: 0h12m10s  (83.1%)\rEpoch: 15.6%  lr: 0.008569  loss: 0.006637  eta: 0h2m  tot: 0h12m10s  (83.1%)\rEpoch: 15.7%  lr: 0.008569  loss: 0.006615  eta: 0h2m  tot: 0h12m11s  (83.1%)\rEpoch: 15.8%  lr: 0.008539  loss: 0.006615  eta: 0h2m  tot: 0h12m11s  (83.2%)\rEpoch: 15.8%  lr: 0.008539  loss: 0.006591  eta: 0h2m  tot: 0h12m11s  (83.2%)\rEpoch: 15.9%  lr: 0.008529  loss: 0.006560  eta: 0h2m  tot: 0h12m11s  (83.2%)\rEpoch: 16.0%  lr: 0.008529  loss: 0.006582  eta: 0h2m  tot: 0h12m11s  (83.2%)\rEpoch: 16.1%  lr: 0.008509  loss: 0.006605  eta: 0h2m  tot: 0h12m11s  (83.2%)\rEpoch: 16.2%  lr: 0.008489  loss: 0.006588  eta: 0h2m  tot: 0h12m11s  (83.2%)\rEpoch: 16.3%  lr: 0.008489  loss: 0.006569  eta: 0h2m  tot: 0h12m12s  (83.3%)\rEpoch: 16.4%  lr: 0.008479  loss: 0.006563  eta: 0h2m  tot: 0h12m12s  (83.3%)\rEpoch: 16.5%  lr: 0.008479  loss: 0.006561  eta: 0h2m  tot: 0h12m12s  (83.3%)\rEpoch: 16.6%  lr: 0.008479  loss: 0.006552  eta: 0h2m  tot: 0h12m12s  (83.3%)\rEpoch: 16.7%  lr: 0.008479  loss: 0.006579  eta: 0h2m  tot: 0h12m12s  (83.3%)\rEpoch: 16.7%  lr: 0.008468  loss: 0.006566  eta: 0h2m  tot: 0h12m12s  (83.3%)\rEpoch: 16.8%  lr: 0.008468  loss: 0.006552  eta: 0h2m  tot: 0h12m12s  (83.4%)\rEpoch: 16.9%  lr: 0.008458  loss: 0.006564  eta: 0h2m  tot: 0h12m13s  (83.4%)\rEpoch: 17.0%  lr: 0.008448  loss: 0.006586  eta: 0h2m  tot: 0h12m13s  (83.4%)\rEpoch: 17.1%  lr: 0.008398  loss: 0.006574  eta: 0h2m  tot: 0h12m13s  (83.4%)\rEpoch: 17.2%  lr: 0.008378  loss: 0.006582  eta: 0h2m  tot: 0h12m13s  (83.4%)\rEpoch: 17.3%  lr: 0.008378  loss: 0.006570  eta: 0h2m  tot: 0h12m13s  (83.5%)\rEpoch: 17.4%  lr: 0.008358  loss: 0.006547  eta: 0h2m  tot: 0h12m13s  (83.5%)\rEpoch: 17.5%  lr: 0.008358  loss: 0.006526  eta: 0h2m  tot: 0h12m14s  (83.5%)\rEpoch: 17.6%  lr: 0.008348  loss: 0.006528  eta: 0h2m  tot: 0h12m14s  (83.5%)\rEpoch: 17.6%  lr: 0.008338  loss: 0.006516  eta: 0h2m  tot: 0h12m14s  (83.5%)\rEpoch: 17.7%  lr: 0.008338  loss: 0.006532  eta: 0h2m  tot: 0h12m14s  (83.5%)\rEpoch: 17.8%  lr: 0.008338  loss: 0.006535  eta: 0h2m  tot: 0h12m14s  (83.6%)\rEpoch: 17.9%  lr: 0.008308  loss: 0.006541  eta: 0h2m  tot: 0h12m14s  (83.6%)\rEpoch: 18.0%  lr: 0.008308  loss: 0.006550  eta: 0h2m  tot: 0h12m14s  (83.6%)\rEpoch: 18.1%  lr: 0.008308  loss: 0.006597  eta: 0h2m  tot: 0h12m15s  (83.6%)\rEpoch: 18.2%  lr: 0.008308  loss: 0.006613  eta: 0h2m  tot: 0h12m15s  (83.6%)\rEpoch: 18.3%  lr: 0.008278  loss: 0.006652  eta: 0h2m  tot: 0h12m15s  (83.7%)\rEpoch: 18.4%  lr: 0.008278  loss: 0.006647  eta: 0h2m  tot: 0h12m15s  (83.7%)\rEpoch: 18.5%  lr: 0.008278  loss: 0.006620  eta: 0h2m  tot: 0h12m15s  (83.7%)\rEpoch: 18.5%  lr: 0.008278  loss: 0.006611  eta: 0h2m  tot: 0h12m15s  (83.7%)\rEpoch: 18.6%  lr: 0.008258  loss: 0.006605  eta: 0h2m  tot: 0h12m16s  (83.7%)\rEpoch: 18.7%  lr: 0.008238  loss: 0.006615  eta: 0h2m  tot: 0h12m16s  (83.7%)\rEpoch: 18.8%  lr: 0.008228  loss: 0.006606  eta: 0h2m  tot: 0h12m16s  (83.8%)\rEpoch: 18.9%  lr: 0.008228  loss: 0.006614  eta: 0h2m  tot: 0h12m16s  (83.8%)\rEpoch: 19.0%  lr: 0.008228  loss: 0.006612  eta: 0h2m  tot: 0h12m16s  (83.8%)\rEpoch: 19.1%  lr: 0.008218  loss: 0.006599  eta: 0h2m  tot: 0h12m16s  (83.8%)\rEpoch: 19.2%  lr: 0.008208  loss: 0.006596  eta: 0h2m  tot: 0h12m17s  (83.8%)\rEpoch: 19.3%  lr: 0.008208  loss: 0.006582  eta: 0h2m  tot: 0h12m17s  (83.9%)\rEpoch: 19.4%  lr: 0.008188  loss: 0.006604  eta: 0h2m  tot: 0h12m17s  (83.9%)\rEpoch: 19.4%  lr: 0.008168  loss: 0.006600  eta: 0h2m  tot: 0h12m17s  (83.9%)\rEpoch: 19.5%  lr: 0.008148  loss: 0.006613  eta: 0h2m  tot: 0h12m17s  (83.9%)\rEpoch: 19.6%  lr: 0.008148  loss: 0.006613  eta: 0h2m  tot: 0h12m17s  (83.9%)\rEpoch: 19.7%  lr: 0.008138  loss: 0.006595  eta: 0h2m  tot: 0h12m17s  (83.9%)\rEpoch: 19.8%  lr: 0.008128  loss: 0.006578  eta: 0h2m  tot: 0h12m18s  (84.0%)\rEpoch: 19.9%  lr: 0.008128  loss: 0.006580  eta: 0h2m  tot: 0h12m18s  (84.0%)\rEpoch: 20.0%  lr: 0.008128  loss: 0.006564  eta: 0h2m  tot: 0h12m18s  (84.0%)\rEpoch: 20.1%  lr: 0.008128  loss: 0.006561  eta: 0h2m  tot: 0h12m18s  (84.0%)\rEpoch: 20.2%  lr: 0.008128  loss: 0.006561  eta: 0h2m  tot: 0h12m18s  (84.0%)\rEpoch: 20.3%  lr: 0.008118  loss: 0.006577  eta: 0h2m  tot: 0h12m18s  (84.1%)\rEpoch: 20.3%  lr: 0.008108  loss: 0.006577  eta: 0h2m  tot: 0h12m18s  (84.1%)\rEpoch: 20.4%  lr: 0.008108  loss: 0.006622  eta: 0h2m  tot: 0h12m19s  (84.1%)\rEpoch: 20.5%  lr: 0.008078  loss: 0.006619  eta: 0h2m  tot: 0h12m19s  (84.1%)\rEpoch: 20.6%  lr: 0.008078  loss: 0.006654  eta: 0h2m  tot: 0h12m19s  (84.1%)\rEpoch: 20.7%  lr: 0.008068  loss: 0.006690  eta: 0h2m  tot: 0h12m19s  (84.1%)\rEpoch: 20.8%  lr: 0.008068  loss: 0.006668  eta: 0h2m  tot: 0h12m19s  (84.2%)\rEpoch: 20.9%  lr: 0.008068  loss: 0.006652  eta: 0h2m  tot: 0h12m19s  (84.2%)\rEpoch: 21.0%  lr: 0.008058  loss: 0.006652  eta: 0h2m  tot: 0h12m20s  (84.2%)\rEpoch: 21.1%  lr: 0.008058  loss: 0.006668  eta: 0h2m  tot: 0h12m20s  (84.2%)\rEpoch: 21.2%  lr: 0.008018  loss: 0.006660  eta: 0h2m  tot: 0h12m20s  (84.2%)\rEpoch: 21.2%  lr: 0.008008  loss: 0.006675  eta: 0h2m  tot: 0h12m20s  (84.2%)\rEpoch: 21.3%  lr: 0.007988  loss: 0.006669  eta: 0h2m  tot: 0h12m20s  (84.3%)\rEpoch: 21.4%  lr: 0.007988  loss: 0.006677  eta: 0h2m  tot: 0h12m20s  (84.3%)\rEpoch: 21.5%  lr: 0.007978  loss: 0.006665  eta: 0h2m  tot: 0h12m20s  (84.3%)\rEpoch: 21.6%  lr: 0.007978  loss: 0.006674  eta: 0h2m  tot: 0h12m21s  (84.3%)\rEpoch: 21.7%  lr: 0.007968  loss: 0.006673  eta: 0h2m  tot: 0h12m21s  (84.3%)\rEpoch: 21.8%  lr: 0.007958  loss: 0.006679  eta: 0h2m  tot: 0h12m21s  (84.4%)\rEpoch: 21.9%  lr: 0.007948  loss: 0.006682  eta: 0h2m  tot: 0h12m21s  (84.4%)\rEpoch: 22.0%  lr: 0.007918  loss: 0.006699  eta: 0h2m  tot: 0h12m21s  (84.4%)\rEpoch: 22.1%  lr: 0.007908  loss: 0.006678  eta: 0h2m  tot: 0h12m21s  (84.4%)\rEpoch: 22.1%  lr: 0.007908  loss: 0.006688  eta: 0h2m  tot: 0h12m22s  (84.4%)\rEpoch: 22.2%  lr: 0.007908  loss: 0.006673  eta: 0h2m  tot: 0h12m22s  (84.4%)\rEpoch: 22.3%  lr: 0.007908  loss: 0.006657  eta: 0h2m  tot: 0h12m22s  (84.5%)\rEpoch: 22.4%  lr: 0.007908  loss: 0.006664  eta: 0h2m  tot: 0h12m22s  (84.5%)\rEpoch: 22.5%  lr: 0.007858  loss: 0.006675  eta: 0h2m  tot: 0h12m22s  (84.5%)\rEpoch: 22.6%  lr: 0.007858  loss: 0.006666  eta: 0h2m  tot: 0h12m22s  (84.5%)\rEpoch: 22.7%  lr: 0.007858  loss: 0.006662  eta: 0h2m  tot: 0h12m22s  (84.5%)\rEpoch: 22.8%  lr: 0.007848  loss: 0.006646  eta: 0h2m  tot: 0h12m23s  (84.6%)\rEpoch: 22.9%  lr: 0.007848  loss: 0.006661  eta: 0h2m  tot: 0h12m23s  (84.6%)\rEpoch: 23.0%  lr: 0.007848  loss: 0.006659  eta: 0h2m  tot: 0h12m23s  (84.6%)\rEpoch: 23.0%  lr: 0.007848  loss: 0.006648  eta: 0h2m  tot: 0h12m23s  (84.6%)\rEpoch: 23.1%  lr: 0.007848  loss: 0.006633  eta: 0h2m  tot: 0h12m23s  (84.6%)\rEpoch: 23.2%  lr: 0.007838  loss: 0.006630  eta: 0h2m  tot: 0h12m23s  (84.6%)\rEpoch: 23.3%  lr: 0.007798  loss: 0.006631  eta: 0h2m  tot: 0h12m23s  (84.7%)\rEpoch: 23.4%  lr: 0.007788  loss: 0.006625  eta: 0h2m  tot: 0h12m24s  (84.7%)\rEpoch: 23.5%  lr: 0.007778  loss: 0.006626  eta: 0h2m  tot: 0h12m24s  (84.7%)\rEpoch: 23.6%  lr: 0.007778  loss: 0.006654  eta: 0h2m  tot: 0h12m24s  (84.7%)\rEpoch: 23.7%  lr: 0.007758  loss: 0.006649  eta: 0h2m  tot: 0h12m24s  (84.7%)\rEpoch: 23.8%  lr: 0.007738  loss: 0.006641  eta: 0h2m  tot: 0h12m24s  (84.8%)\rEpoch: 23.9%  lr: 0.007728  loss: 0.006634  eta: 0h2m  tot: 0h12m24s  (84.8%)\rEpoch: 23.9%  lr: 0.007718  loss: 0.006619  eta: 0h2m  tot: 0h12m25s  (84.8%)\rEpoch: 24.0%  lr: 0.007698  loss: 0.006611  eta: 0h2m  tot: 0h12m25s  (84.8%)\rEpoch: 24.1%  lr: 0.007688  loss: 0.006624  eta: 0h2m  tot: 0h12m25s  (84.8%)\rEpoch: 24.2%  lr: 0.007678  loss: 0.006621  eta: 0h2m  tot: 0h12m25s  (84.8%)\rEpoch: 24.3%  lr: 0.007678  loss: 0.006631  eta: 0h2m  tot: 0h12m25s  (84.9%)\rEpoch: 24.4%  lr: 0.007678  loss: 0.006615  eta: 0h2m  tot: 0h12m25s  (84.9%)\rEpoch: 24.5%  lr: 0.007668  loss: 0.006612  eta: 0h2m  tot: 0h12m25s  (84.9%)\rEpoch: 24.6%  lr: 0.007658  loss: 0.006597  eta: 0h2m  tot: 0h12m26s  (84.9%)\rEpoch: 24.7%  lr: 0.007638  loss: 0.006588  eta: 0h2m  tot: 0h12m26s  (84.9%)\rEpoch: 24.8%  lr: 0.007638  loss: 0.006593  eta: 0h2m  tot: 0h12m26s  (85.0%)\rEpoch: 24.8%  lr: 0.007618  loss: 0.006585  eta: 0h2m  tot: 0h12m26s  (85.0%)\rEpoch: 24.9%  lr: 0.007608  loss: 0.006590  eta: 0h2m  tot: 0h12m26s  (85.0%)\rEpoch: 25.0%  lr: 0.007578  loss: 0.006585  eta: 0h2m  tot: 0h12m26s  (85.0%)\rEpoch: 25.1%  lr: 0.007558  loss: 0.006585  eta: 0h2m  tot: 0h12m27s  (85.0%)\rEpoch: 25.2%  lr: 0.007538  loss: 0.006570  eta: 0h2m  tot: 0h12m27s  (85.0%)\rEpoch: 25.3%  lr: 0.007538  loss: 0.006579  eta: 0h2m  tot: 0h12m27s  (85.1%)\rEpoch: 25.4%  lr: 0.007508  loss: 0.006573  eta: 0h2m  tot: 0h12m27s  (85.1%)\rEpoch: 25.5%  lr: 0.007498  loss: 0.006566  eta: 0h2m  tot: 0h12m27s  (85.1%)\rEpoch: 25.6%  lr: 0.007488  loss: 0.006565  eta: 0h2m  tot: 0h12m27s  (85.1%)\rEpoch: 25.7%  lr: 0.007488  loss: 0.006571  eta: 0h2m  tot: 0h12m27s  (85.1%)\rEpoch: 25.7%  lr: 0.007478  loss: 0.006582  eta: 0h2m  tot: 0h12m28s  (85.1%)\rEpoch: 25.8%  lr: 0.007468  loss: 0.006583  eta: 0h2m  tot: 0h12m28s  (85.2%)\rEpoch: 25.9%  lr: 0.007468  loss: 0.006575  eta: 0h2m  tot: 0h12m28s  (85.2%)\rEpoch: 26.0%  lr: 0.007468  loss: 0.006569  eta: 0h2m  tot: 0h12m28s  (85.2%)\rEpoch: 26.1%  lr: 0.007447  loss: 0.006557  eta: 0h2m  tot: 0h12m28s  (85.2%)\rEpoch: 26.2%  lr: 0.007437  loss: 0.006568  eta: 0h2m  tot: 0h12m28s  (85.2%)\rEpoch: 26.3%  lr: 0.007437  loss: 0.006569  eta: 0h2m  tot: 0h12m29s  (85.3%)\rEpoch: 26.4%  lr: 0.007427  loss: 0.006587  eta: 0h2m  tot: 0h12m29s  (85.3%)\rEpoch: 26.5%  lr: 0.007417  loss: 0.006573  eta: 0h2m  tot: 0h12m29s  (85.3%)\rEpoch: 26.6%  lr: 0.007417  loss: 0.006563  eta: 0h2m  tot: 0h12m29s  (85.3%)\rEpoch: 26.6%  lr: 0.007397  loss: 0.006567  eta: 0h2m  tot: 0h12m29s  (85.3%)\rEpoch: 26.7%  lr: 0.007387  loss: 0.006553  eta: 0h2m  tot: 0h12m29s  (85.3%)\rEpoch: 26.8%  lr: 0.007387  loss: 0.006555  eta: 0h2m  tot: 0h12m29s  (85.4%)\rEpoch: 26.9%  lr: 0.007387  loss: 0.006569  eta: 0h2m  tot: 0h12m30s  (85.4%)\rEpoch: 27.0%  lr: 0.007387  loss: 0.006569  eta: 0h2m  tot: 0h12m30s  (85.4%)\rEpoch: 27.1%  lr: 0.007377  loss: 0.006564  eta: 0h2m  tot: 0h12m30s  (85.4%)\rEpoch: 27.2%  lr: 0.007357  loss: 0.006571  eta: 0h2m  tot: 0h12m30s  (85.4%)\rEpoch: 27.3%  lr: 0.007357  loss: 0.006568  eta: 0h2m  tot: 0h12m30s  (85.5%)\rEpoch: 27.4%  lr: 0.007337  loss: 0.006561  eta: 0h2m  tot: 0h12m30s  (85.5%)\rEpoch: 27.5%  lr: 0.007327  loss: 0.006560  eta: 0h2m  tot: 0h12m31s  (85.5%)\rEpoch: 27.5%  lr: 0.007327  loss: 0.006561  eta: 0h2m  tot: 0h12m31s  (85.5%)\rEpoch: 27.6%  lr: 0.007317  loss: 0.006551  eta: 0h2m  tot: 0h12m31s  (85.5%)\rEpoch: 27.7%  lr: 0.007307  loss: 0.006545  eta: 0h2m  tot: 0h12m31s  (85.5%)\rEpoch: 27.8%  lr: 0.007297  loss: 0.006545  eta: 0h2m  tot: 0h12m31s  (85.6%)\rEpoch: 27.9%  lr: 0.007277  loss: 0.006532  eta: 0h2m  tot: 0h12m31s  (85.6%)\rEpoch: 28.0%  lr: 0.007277  loss: 0.006519  eta: 0h2m  tot: 0h12m31s  (85.6%)\rEpoch: 28.1%  lr: 0.007277  loss: 0.006528  eta: 0h2m  tot: 0h12m32s  (85.6%)\rEpoch: 28.2%  lr: 0.007277  loss: 0.006528  eta: 0h2m  tot: 0h12m32s  (85.6%)\rEpoch: 28.3%  lr: 0.007257  loss: 0.006522  eta: 0h2m  tot: 0h12m32s  (85.7%)\rEpoch: 28.4%  lr: 0.007257  loss: 0.006527  eta: 0h2m  tot: 0h12m32s  (85.7%)\rEpoch: 28.4%  lr: 0.007247  loss: 0.006529  eta: 0h2m  tot: 0h12m32s  (85.7%)\rEpoch: 28.5%  lr: 0.007217  loss: 0.006525  eta: 0h2m  tot: 0h12m32s  (85.7%)\rEpoch: 28.6%  lr: 0.007197  loss: 0.006522  eta: 0h2m  tot: 0h12m33s  (85.7%)\rEpoch: 28.7%  lr: 0.007197  loss: 0.006531  eta: 0h2m  tot: 0h12m33s  (85.7%)\rEpoch: 28.8%  lr: 0.007177  loss: 0.006517  eta: 0h2m  tot: 0h12m33s  (85.8%)\rEpoch: 28.9%  lr: 0.007167  loss: 0.006527  eta: 0h2m  tot: 0h12m33s  (85.8%)\rEpoch: 29.0%  lr: 0.007167  loss: 0.006517  eta: 0h2m  tot: 0h12m33s  (85.8%)\rEpoch: 29.1%  lr: 0.007137  loss: 0.006512  eta: 0h2m  tot: 0h12m33s  (85.8%)\rEpoch: 29.2%  lr: 0.007117  loss: 0.006510  eta: 0h2m  tot: 0h12m33s  (85.8%)\rEpoch: 29.3%  lr: 0.007117  loss: 0.006508  eta: 0h2m  tot: 0h12m34s  (85.9%)\rEpoch: 29.3%  lr: 0.007117  loss: 0.006515  eta: 0h2m  tot: 0h12m34s  (85.9%)\rEpoch: 29.4%  lr: 0.007107  loss: 0.006513  eta: 0h1m  tot: 0h12m34s  (85.9%)\rEpoch: 29.5%  lr: 0.007087  loss: 0.006545  eta: 0h1m  tot: 0h12m34s  (85.9%)\rEpoch: 29.6%  lr: 0.007077  loss: 0.006542  eta: 0h1m  tot: 0h12m34s  (85.9%)\rEpoch: 29.7%  lr: 0.007067  loss: 0.006546  eta: 0h1m  tot: 0h12m34s  (85.9%)\rEpoch: 29.8%  lr: 0.007057  loss: 0.006549  eta: 0h1m  tot: 0h12m35s  (86.0%)\rEpoch: 29.9%  lr: 0.007047  loss: 0.006537  eta: 0h1m  tot: 0h12m35s  (86.0%)\rEpoch: 30.0%  lr: 0.007037  loss: 0.006540  eta: 0h1m  tot: 0h12m35s  (86.0%)\rEpoch: 30.1%  lr: 0.007037  loss: 0.006536  eta: 0h1m  tot: 0h12m35s  (86.0%)\rEpoch: 30.2%  lr: 0.007037  loss: 0.006525  eta: 0h1m  tot: 0h12m35s  (86.0%)\rEpoch: 30.2%  lr: 0.007027  loss: 0.006527  eta: 0h1m  tot: 0h12m35s  (86.0%)\rEpoch: 30.3%  lr: 0.007027  loss: 0.006525  eta: 0h1m  tot: 0h12m35s  (86.1%)\rEpoch: 30.4%  lr: 0.007017  loss: 0.006538  eta: 0h1m  tot: 0h12m36s  (86.1%)\rEpoch: 30.5%  lr: 0.006987  loss: 0.006558  eta: 0h1m  tot: 0h12m36s  (86.1%)\rEpoch: 30.6%  lr: 0.006987  loss: 0.006556  eta: 0h1m  tot: 0h12m36s  (86.1%)\rEpoch: 30.7%  lr: 0.006967  loss: 0.006548  eta: 0h1m  tot: 0h12m36s  (86.1%)\rEpoch: 30.8%  lr: 0.006967  loss: 0.006552  eta: 0h1m  tot: 0h12m36s  (86.2%)\rEpoch: 30.9%  lr: 0.006957  loss: 0.006543  eta: 0h1m  tot: 0h12m36s  (86.2%)\rEpoch: 31.0%  lr: 0.006937  loss: 0.006563  eta: 0h1m  tot: 0h12m37s  (86.2%)\rEpoch: 31.1%  lr: 0.006907  loss: 0.006582  eta: 0h1m  tot: 0h12m37s  (86.2%)\rEpoch: 31.1%  lr: 0.006877  loss: 0.006568  eta: 0h1m  tot: 0h12m37s  (86.2%)\rEpoch: 31.2%  lr: 0.006877  loss: 0.006557  eta: 0h1m  tot: 0h12m37s  (86.2%)\rEpoch: 31.3%  lr: 0.006857  loss: 0.006566  eta: 0h1m  tot: 0h12m37s  (86.3%)\rEpoch: 31.4%  lr: 0.006847  loss: 0.006557  eta: 0h1m  tot: 0h12m37s  (86.3%)\rEpoch: 31.5%  lr: 0.006847  loss: 0.006555  eta: 0h1m  tot: 0h12m37s  (86.3%)\rEpoch: 31.6%  lr: 0.006827  loss: 0.006549  eta: 0h1m  tot: 0h12m38s  (86.3%)\rEpoch: 31.7%  lr: 0.006817  loss: 0.006565  eta: 0h1m  tot: 0h12m38s  (86.3%)\rEpoch: 31.8%  lr: 0.006817  loss: 0.006549  eta: 0h1m  tot: 0h12m38s  (86.4%)\rEpoch: 31.9%  lr: 0.006807  loss: 0.006546  eta: 0h1m  tot: 0h12m38s  (86.4%)\rEpoch: 32.0%  lr: 0.006797  loss: 0.006552  eta: 0h1m  tot: 0h12m38s  (86.4%)\rEpoch: 32.0%  lr: 0.006797  loss: 0.006554  eta: 0h1m  tot: 0h12m38s  (86.4%)\rEpoch: 32.1%  lr: 0.006797  loss: 0.006562  eta: 0h1m  tot: 0h12m39s  (86.4%)\rEpoch: 32.2%  lr: 0.006787  loss: 0.006565  eta: 0h1m  tot: 0h12m39s  (86.4%)\rEpoch: 32.3%  lr: 0.006777  loss: 0.006560  eta: 0h1m  tot: 0h12m39s  (86.5%)\rEpoch: 32.4%  lr: 0.006757  loss: 0.006562  eta: 0h1m  tot: 0h12m39s  (86.5%)\rEpoch: 32.5%  lr: 0.006757  loss: 0.006555  eta: 0h1m  tot: 0h12m39s  (86.5%)\rEpoch: 32.6%  lr: 0.006737  loss: 0.006575  eta: 0h1m  tot: 0h12m39s  (86.5%)\rEpoch: 32.7%  lr: 0.006737  loss: 0.006578  eta: 0h1m  tot: 0h12m39s  (86.5%)\rEpoch: 32.8%  lr: 0.006727  loss: 0.006580  eta: 0h1m  tot: 0h12m40s  (86.6%)\rEpoch: 32.9%  lr: 0.006727  loss: 0.006586  eta: 0h1m  tot: 0h12m40s  (86.6%)\rEpoch: 32.9%  lr: 0.006727  loss: 0.006580  eta: 0h1m  tot: 0h12m40s  (86.6%)\rEpoch: 33.0%  lr: 0.006717  loss: 0.006578  eta: 0h1m  tot: 0h12m40s  (86.6%)\rEpoch: 33.1%  lr: 0.006717  loss: 0.006571  eta: 0h1m  tot: 0h12m40s  (86.6%)\rEpoch: 33.2%  lr: 0.006717  loss: 0.006560  eta: 0h1m  tot: 0h12m40s  (86.6%)\rEpoch: 33.3%  lr: 0.006707  loss: 0.006561  eta: 0h1m  tot: 0h12m40s  (86.7%)\rEpoch: 33.4%  lr: 0.006707  loss: 0.006559  eta: 0h1m  tot: 0h12m41s  (86.7%)\rEpoch: 33.5%  lr: 0.006707  loss: 0.006565  eta: 0h1m  tot: 0h12m41s  (86.7%)\rEpoch: 33.6%  lr: 0.006707  loss: 0.006574  eta: 0h1m  tot: 0h12m41s  (86.7%)\rEpoch: 33.7%  lr: 0.006707  loss: 0.006576  eta: 0h1m  tot: 0h12m41s  (86.7%)\rEpoch: 33.8%  lr: 0.006677  loss: 0.006583  eta: 0h1m  tot: 0h12m41s  (86.8%)\rEpoch: 33.8%  lr: 0.006677  loss: 0.006576  eta: 0h1m  tot: 0h12m41s  (86.8%)\rEpoch: 33.9%  lr: 0.006657  loss: 0.006568  eta: 0h1m  tot: 0h12m42s  (86.8%)\rEpoch: 34.0%  lr: 0.006657  loss: 0.006558  eta: 0h1m  tot: 0h12m42s  (86.8%)\rEpoch: 34.1%  lr: 0.006647  loss: 0.006564  eta: 0h1m  tot: 0h12m42s  (86.8%)\rEpoch: 34.2%  lr: 0.006647  loss: 0.006582  eta: 0h1m  tot: 0h12m42s  (86.8%)\rEpoch: 34.3%  lr: 0.006647  loss: 0.006580  eta: 0h1m  tot: 0h12m42s  (86.9%)\rEpoch: 34.4%  lr: 0.006647  loss: 0.006577  eta: 0h1m  tot: 0h12m42s  (86.9%)\rEpoch: 34.5%  lr: 0.006647  loss: 0.006581  eta: 0h1m  tot: 0h12m42s  (86.9%)\rEpoch: 34.6%  lr: 0.006617  loss: 0.006565  eta: 0h1m  tot: 0h12m43s  (86.9%)\rEpoch: 34.7%  lr: 0.006597  loss: 0.006584  eta: 0h1m  tot: 0h12m43s  (86.9%)\rEpoch: 34.7%  lr: 0.006577  loss: 0.006586  eta: 0h1m  tot: 0h12m43s  (86.9%)\rEpoch: 34.8%  lr: 0.006577  loss: 0.006582  eta: 0h1m  tot: 0h12m43s  (87.0%)\rEpoch: 34.9%  lr: 0.006567  loss: 0.006582  eta: 0h1m  tot: 0h12m43s  (87.0%)\rEpoch: 35.0%  lr: 0.006557  loss: 0.006581  eta: 0h1m  tot: 0h12m43s  (87.0%)\rEpoch: 35.1%  lr: 0.006527  loss: 0.006587  eta: 0h1m  tot: 0h12m44s  (87.0%)\rEpoch: 35.2%  lr: 0.006517  loss: 0.006593  eta: 0h1m  tot: 0h12m44s  (87.0%)\rEpoch: 35.3%  lr: 0.006497  loss: 0.006582  eta: 0h1m  tot: 0h12m44s  (87.1%)\rEpoch: 35.4%  lr: 0.006497  loss: 0.006583  eta: 0h1m  tot: 0h12m44s  (87.1%)\rEpoch: 35.5%  lr: 0.006497  loss: 0.006579  eta: 0h1m  tot: 0h12m44s  (87.1%)\rEpoch: 35.6%  lr: 0.006497  loss: 0.006574  eta: 0h1m  tot: 0h12m44s  (87.1%)\rEpoch: 35.6%  lr: 0.006477  loss: 0.006584  eta: 0h1m  tot: 0h12m44s  (87.1%)\rEpoch: 35.7%  lr: 0.006477  loss: 0.006578  eta: 0h1m  tot: 0h12m45s  (87.1%)\rEpoch: 35.8%  lr: 0.006457  loss: 0.006584  eta: 0h1m  tot: 0h12m45s  (87.2%)\rEpoch: 35.9%  lr: 0.006457  loss: 0.006583  eta: 0h1m  tot: 0h12m45s  (87.2%)\rEpoch: 36.0%  lr: 0.006447  loss: 0.006586  eta: 0h1m  tot: 0h12m45s  (87.2%)\rEpoch: 36.1%  lr: 0.006426  loss: 0.006582  eta: 0h1m  tot: 0h12m45s  (87.2%)\rEpoch: 36.2%  lr: 0.006416  loss: 0.006574  eta: 0h1m  tot: 0h12m45s  (87.2%)\rEpoch: 36.3%  lr: 0.006396  loss: 0.006596  eta: 0h1m  tot: 0h12m46s  (87.3%)\rEpoch: 36.4%  lr: 0.006386  loss: 0.006592  eta: 0h1m  tot: 0h12m46s  (87.3%)\rEpoch: 36.5%  lr: 0.006386  loss: 0.006584  eta: 0h1m  tot: 0h12m46s  (87.3%)\rEpoch: 36.5%  lr: 0.006386  loss: 0.006584  eta: 0h1m  tot: 0h12m46s  (87.3%)\rEpoch: 36.6%  lr: 0.006376  loss: 0.006572  eta: 0h1m  tot: 0h12m46s  (87.3%)\rEpoch: 36.7%  lr: 0.006366  loss: 0.006579  eta: 0h1m  tot: 0h12m46s  (87.3%)\rEpoch: 36.8%  lr: 0.006366  loss: 0.006574  eta: 0h1m  tot: 0h12m47s  (87.4%)\rEpoch: 36.9%  lr: 0.006366  loss: 0.006569  eta: 0h1m  tot: 0h12m47s  (87.4%)\rEpoch: 37.0%  lr: 0.006366  loss: 0.006600  eta: 0h1m  tot: 0h12m47s  (87.4%)\rEpoch: 37.1%  lr: 0.006366  loss: 0.006599  eta: 0h1m  tot: 0h12m47s  (87.4%)\rEpoch: 37.2%  lr: 0.006356  loss: 0.006594  eta: 0h1m  tot: 0h12m47s  (87.4%)\rEpoch: 37.3%  lr: 0.006356  loss: 0.006585  eta: 0h1m  tot: 0h12m47s  (87.5%)\rEpoch: 37.4%  lr: 0.006356  loss: 0.006583  eta: 0h1m  tot: 0h12m47s  (87.5%)\rEpoch: 37.4%  lr: 0.006336  loss: 0.006581  eta: 0h1m  tot: 0h12m48s  (87.5%)\rEpoch: 37.5%  lr: 0.006326  loss: 0.006592  eta: 0h1m  tot: 0h12m48s  (87.5%)\rEpoch: 37.6%  lr: 0.006296  loss: 0.006585  eta: 0h1m  tot: 0h12m48s  (87.5%)\rEpoch: 37.7%  lr: 0.006286  loss: 0.006578  eta: 0h1m  tot: 0h12m48s  (87.5%)\rEpoch: 37.8%  lr: 0.006266  loss: 0.006587  eta: 0h1m  tot: 0h12m48s  (87.6%)\rEpoch: 37.9%  lr: 0.006246  loss: 0.006589  eta: 0h1m  tot: 0h12m48s  (87.6%)\rEpoch: 38.0%  lr: 0.006246  loss: 0.006581  eta: 0h1m  tot: 0h12m49s  (87.6%)\rEpoch: 38.1%  lr: 0.006246  loss: 0.006577  eta: 0h1m  tot: 0h12m49s  (87.6%)\rEpoch: 38.2%  lr: 0.006246  loss: 0.006578  eta: 0h1m  tot: 0h12m49s  (87.6%)\rEpoch: 38.3%  lr: 0.006246  loss: 0.006587  eta: 0h1m  tot: 0h12m49s  (87.7%)\rEpoch: 38.3%  lr: 0.006216  loss: 0.006577  eta: 0h1m  tot: 0h12m49s  (87.7%)\rEpoch: 38.4%  lr: 0.006206  loss: 0.006569  eta: 0h1m  tot: 0h12m49s  (87.7%)\rEpoch: 38.5%  lr: 0.006186  loss: 0.006560  eta: 0h1m  tot: 0h12m49s  (87.7%)\rEpoch: 38.6%  lr: 0.006186  loss: 0.006555  eta: 0h1m  tot: 0h12m50s  (87.7%)\rEpoch: 38.7%  lr: 0.006186  loss: 0.006546  eta: 0h1m  tot: 0h12m50s  (87.7%)\rEpoch: 38.8%  lr: 0.006186  loss: 0.006552  eta: 0h1m  tot: 0h12m50s  (87.8%)\rEpoch: 38.9%  lr: 0.006176  loss: 0.006563  eta: 0h1m  tot: 0h12m50s  (87.8%)\rEpoch: 39.0%  lr: 0.006156  loss: 0.006561  eta: 0h1m  tot: 0h12m50s  (87.8%)\rEpoch: 39.1%  lr: 0.006156  loss: 0.006561  eta: 0h1m  tot: 0h12m50s  (87.8%)\rEpoch: 39.2%  lr: 0.006146  loss: 0.006576  eta: 0h1m  tot: 0h12m50s  (87.8%)\rEpoch: 39.2%  lr: 0.006106  loss: 0.006575  eta: 0h1m  tot: 0h12m51s  (87.8%)\rEpoch: 39.3%  lr: 0.006086  loss: 0.006568  eta: 0h1m  tot: 0h12m51s  (87.9%)\rEpoch: 39.4%  lr: 0.006076  loss: 0.006563  eta: 0h1m  tot: 0h12m51s  (87.9%)\rEpoch: 39.5%  lr: 0.006066  loss: 0.006559  eta: 0h1m  tot: 0h12m51s  (87.9%)\rEpoch: 39.6%  lr: 0.006066  loss: 0.006547  eta: 0h1m  tot: 0h12m51s  (87.9%)\rEpoch: 39.7%  lr: 0.006046  loss: 0.006544  eta: 0h1m  tot: 0h12m51s  (87.9%)\rEpoch: 39.8%  lr: 0.006036  loss: 0.006543  eta: 0h1m  tot: 0h12m52s  (88.0%)\rEpoch: 39.9%  lr: 0.006016  loss: 0.006551  eta: 0h1m  tot: 0h12m52s  (88.0%)\rEpoch: 40.0%  lr: 0.005986  loss: 0.006542  eta: 0h1m  tot: 0h12m52s  (88.0%)\rEpoch: 40.1%  lr: 0.005966  loss: 0.006543  eta: 0h1m  tot: 0h12m52s  (88.0%)\rEpoch: 40.1%  lr: 0.005966  loss: 0.006535  eta: 0h1m  tot: 0h12m52s  (88.0%)\rEpoch: 40.2%  lr: 0.005966  loss: 0.006541  eta: 0h1m  tot: 0h12m52s  (88.0%)\rEpoch: 40.3%  lr: 0.005966  loss: 0.006541  eta: 0h1m  tot: 0h12m52s  (88.1%)\rEpoch: 40.4%  lr: 0.005956  loss: 0.006537  eta: 0h1m  tot: 0h12m53s  (88.1%)\rEpoch: 40.5%  lr: 0.005936  loss: 0.006530  eta: 0h1m  tot: 0h12m53s  (88.1%)\rEpoch: 40.6%  lr: 0.005926  loss: 0.006533  eta: 0h1m  tot: 0h12m53s  (88.1%)\rEpoch: 40.7%  lr: 0.005906  loss: 0.006538  eta: 0h1m  tot: 0h12m53s  (88.1%)\rEpoch: 40.8%  lr: 0.005886  loss: 0.006554  eta: 0h1m  tot: 0h12m53s  (88.2%)\rEpoch: 40.9%  lr: 0.005866  loss: 0.006556  eta: 0h1m  tot: 0h12m53s  (88.2%)\rEpoch: 41.0%  lr: 0.005856  loss: 0.006572  eta: 0h1m  tot: 0h12m54s  (88.2%)\rEpoch: 41.0%  lr: 0.005846  loss: 0.006564  eta: 0h1m  tot: 0h12m54s  (88.2%)\rEpoch: 41.1%  lr: 0.005836  loss: 0.006554  eta: 0h1m  tot: 0h12m54s  (88.2%)\rEpoch: 41.2%  lr: 0.005816  loss: 0.006552  eta: 0h1m  tot: 0h12m54s  (88.2%)\rEpoch: 41.3%  lr: 0.005766  loss: 0.006564  eta: 0h1m  tot: 0h12m54s  (88.3%)\rEpoch: 41.4%  lr: 0.005756  loss: 0.006578  eta: 0h1m  tot: 0h12m54s  (88.3%)\rEpoch: 41.5%  lr: 0.005746  loss: 0.006571  eta: 0h1m  tot: 0h12m54s  (88.3%)\rEpoch: 41.6%  lr: 0.005736  loss: 0.006578  eta: 0h1m  tot: 0h12m55s  (88.3%)\rEpoch: 41.7%  lr: 0.005726  loss: 0.006573  eta: 0h1m  tot: 0h12m55s  (88.3%)\rEpoch: 41.8%  lr: 0.005716  loss: 0.006577  eta: 0h1m  tot: 0h12m55s  (88.4%)\rEpoch: 41.9%  lr: 0.005706  loss: 0.006581  eta: 0h1m  tot: 0h12m55s  (88.4%)\rEpoch: 42.0%  lr: 0.005706  loss: 0.006586  eta: 0h1m  tot: 0h12m55s  (88.4%)\rEpoch: 42.0%  lr: 0.005696  loss: 0.006603  eta: 0h1m  tot: 0h12m55s  (88.4%)\rEpoch: 42.1%  lr: 0.005696  loss: 0.006594  eta: 0h1m  tot: 0h12m56s  (88.4%)\rEpoch: 42.2%  lr: 0.005696  loss: 0.006609  eta: 0h1m  tot: 0h12m56s  (88.4%)\rEpoch: 42.3%  lr: 0.005676  loss: 0.006605  eta: 0h1m  tot: 0h12m56s  (88.5%)\rEpoch: 42.4%  lr: 0.005676  loss: 0.006595  eta: 0h1m  tot: 0h12m56s  (88.5%)\rEpoch: 42.5%  lr: 0.005656  loss: 0.006608  eta: 0h1m  tot: 0h12m56s  (88.5%)\rEpoch: 42.6%  lr: 0.005646  loss: 0.006600  eta: 0h1m  tot: 0h12m56s  (88.5%)\rEpoch: 42.7%  lr: 0.005646  loss: 0.006607  eta: 0h1m  tot: 0h12m56s  (88.5%)\rEpoch: 42.8%  lr: 0.005636  loss: 0.006598  eta: 0h1m  tot: 0h12m57s  (88.6%)\rEpoch: 42.9%  lr: 0.005626  loss: 0.006599  eta: 0h1m  tot: 0h12m57s  (88.6%)\rEpoch: 42.9%  lr: 0.005626  loss: 0.006594  eta: 0h1m  tot: 0h12m57s  (88.6%)\rEpoch: 43.0%  lr: 0.005626  loss: 0.006590  eta: 0h1m  tot: 0h12m57s  (88.6%)\rEpoch: 43.1%  lr: 0.005606  loss: 0.006580  eta: 0h1m  tot: 0h12m57s  (88.6%)\rEpoch: 43.2%  lr: 0.005596  loss: 0.006580  eta: 0h1m  tot: 0h12m57s  (88.6%)\rEpoch: 43.3%  lr: 0.005596  loss: 0.006587  eta: 0h1m  tot: 0h12m58s  (88.7%)\rEpoch: 43.4%  lr: 0.005586  loss: 0.006583  eta: 0h1m  tot: 0h12m58s  (88.7%)\rEpoch: 43.5%  lr: 0.005566  loss: 0.006577  eta: 0h1m  tot: 0h12m58s  (88.7%)\rEpoch: 43.6%  lr: 0.005566  loss: 0.006575  eta: 0h1m  tot: 0h12m58s  (88.7%)\rEpoch: 43.7%  lr: 0.005556  loss: 0.006570  eta: 0h1m  tot: 0h12m58s  (88.7%)\rEpoch: 43.8%  lr: 0.005556  loss: 0.006582  eta: 0h1m  tot: 0h12m58s  (88.8%)\rEpoch: 43.8%  lr: 0.005536  loss: 0.006578  eta: 0h1m  tot: 0h12m58s  (88.8%)\rEpoch: 43.9%  lr: 0.005516  loss: 0.006590  eta: 0h1m  tot: 0h12m59s  (88.8%)\rEpoch: 44.0%  lr: 0.005516  loss: 0.006596  eta: 0h1m  tot: 0h12m59s  (88.8%)\rEpoch: 44.1%  lr: 0.005516  loss: 0.006606  eta: 0h1m  tot: 0h12m59s  (88.8%)\rEpoch: 44.2%  lr: 0.005516  loss: 0.006597  eta: 0h1m  tot: 0h12m59s  (88.8%)\rEpoch: 44.3%  lr: 0.005506  loss: 0.006594  eta: 0h1m  tot: 0h12m59s  (88.9%)\rEpoch: 44.4%  lr: 0.005506  loss: 0.006603  eta: 0h1m  tot: 0h12m59s  (88.9%)\rEpoch: 44.5%  lr: 0.005506  loss: 0.006634  eta: 0h1m  tot: 0h13m0s  (88.9%)\rEpoch: 44.6%  lr: 0.005486  loss: 0.006626  eta: 0h1m  tot: 0h13m0s  (88.9%)\rEpoch: 44.7%  lr: 0.005476  loss: 0.006630  eta: 0h1m  tot: 0h13m0s  (88.9%)\rEpoch: 44.7%  lr: 0.005466  loss: 0.006636  eta: 0h1m  tot: 0h13m0s  (88.9%)\rEpoch: 44.8%  lr: 0.005456  loss: 0.006640  eta: 0h1m  tot: 0h13m0s  (89.0%)\rEpoch: 44.9%  lr: 0.005456  loss: 0.006643  eta: 0h1m  tot: 0h13m0s  (89.0%)\rEpoch: 45.0%  lr: 0.005446  loss: 0.006649  eta: 0h1m  tot: 0h13m0s  (89.0%)\rEpoch: 45.1%  lr: 0.005446  loss: 0.006642  eta: 0h1m  tot: 0h13m1s  (89.0%)\rEpoch: 45.2%  lr: 0.005425  loss: 0.006650  eta: 0h1m  tot: 0h13m1s  (89.0%)\rEpoch: 45.3%  lr: 0.005405  loss: 0.006656  eta: 0h1m  tot: 0h13m1s  (89.1%)\rEpoch: 45.4%  lr: 0.005405  loss: 0.006660  eta: 0h1m  tot: 0h13m1s  (89.1%)\rEpoch: 45.5%  lr: 0.005385  loss: 0.006663  eta: 0h1m  tot: 0h13m1s  (89.1%)\rEpoch: 45.6%  lr: 0.005375  loss: 0.006667  eta: 0h1m  tot: 0h13m1s  (89.1%)\rEpoch: 45.6%  lr: 0.005375  loss: 0.006668  eta: 0h1m  tot: 0h13m2s  (89.1%)\rEpoch: 45.7%  lr: 0.005375  loss: 0.006663  eta: 0h1m  tot: 0h13m2s  (89.1%)\rEpoch: 45.8%  lr: 0.005365  loss: 0.006659  eta: 0h1m  tot: 0h13m2s  (89.2%)\rEpoch: 45.9%  lr: 0.005365  loss: 0.006673  eta: 0h1m  tot: 0h13m2s  (89.2%)\rEpoch: 46.0%  lr: 0.005365  loss: 0.006697  eta: 0h1m  tot: 0h13m2s  (89.2%)\rEpoch: 46.1%  lr: 0.005365  loss: 0.006718  eta: 0h1m  tot: 0h13m2s  (89.2%)\rEpoch: 46.2%  lr: 0.005365  loss: 0.006714  eta: 0h1m  tot: 0h13m2s  (89.2%)\rEpoch: 46.3%  lr: 0.005355  loss: 0.006742  eta: 0h1m  tot: 0h13m3s  (89.3%)\rEpoch: 46.4%  lr: 0.005355  loss: 0.006757  eta: 0h1m  tot: 0h13m3s  (89.3%)\rEpoch: 46.5%  lr: 0.005345  loss: 0.006749  eta: 0h1m  tot: 0h13m3s  (89.3%)\rEpoch: 46.5%  lr: 0.005345  loss: 0.006766  eta: 0h1m  tot: 0h13m3s  (89.3%)\rEpoch: 46.6%  lr: 0.005335  loss: 0.006766  eta: 0h1m  tot: 0h13m3s  (89.3%)\rEpoch: 46.7%  lr: 0.005325  loss: 0.006774  eta: 0h1m  tot: 0h13m3s  (89.3%)\rEpoch: 46.8%  lr: 0.005325  loss: 0.006771  eta: 0h1m  tot: 0h13m4s  (89.4%)\rEpoch: 46.9%  lr: 0.005325  loss: 0.006776  eta: 0h1m  tot: 0h13m4s  (89.4%)\rEpoch: 47.0%  lr: 0.005305  loss: 0.006774  eta: 0h1m  tot: 0h13m4s  (89.4%)\rEpoch: 47.1%  lr: 0.005295  loss: 0.006779  eta: 0h1m  tot: 0h13m4s  (89.4%)\rEpoch: 47.2%  lr: 0.005275  loss: 0.006794  eta: 0h1m  tot: 0h13m4s  (89.4%)\rEpoch: 47.3%  lr: 0.005265  loss: 0.006792  eta: 0h1m  tot: 0h13m4s  (89.5%)\rEpoch: 47.4%  lr: 0.005265  loss: 0.006796  eta: 0h1m  tot: 0h13m5s  (89.5%)\rEpoch: 47.4%  lr: 0.005255  loss: 0.006787  eta: 0h1m  tot: 0h13m5s  (89.5%)\rEpoch: 47.5%  lr: 0.005225  loss: 0.006780  eta: 0h1m  tot: 0h13m5s  (89.5%)\rEpoch: 47.6%  lr: 0.005225  loss: 0.006775  eta: 0h1m  tot: 0h13m5s  (89.5%)\rEpoch: 47.7%  lr: 0.005205  loss: 0.006767  eta: 0h1m  tot: 0h13m5s  (89.5%)\rEpoch: 47.8%  lr: 0.005205  loss: 0.006771  eta: 0h1m  tot: 0h13m5s  (89.6%)\rEpoch: 47.9%  lr: 0.005175  loss: 0.006768  eta: 0h1m  tot: 0h13m5s  (89.6%)\rEpoch: 48.0%  lr: 0.005165  loss: 0.006762  eta: 0h1m  tot: 0h13m6s  (89.6%)\rEpoch: 48.1%  lr: 0.005145  loss: 0.006756  eta: 0h1m  tot: 0h13m6s  (89.6%)\rEpoch: 48.2%  lr: 0.005145  loss: 0.006758  eta: 0h1m  tot: 0h13m6s  (89.6%)\rEpoch: 48.3%  lr: 0.005145  loss: 0.006756  eta: 0h1m  tot: 0h13m6s  (89.7%)\rEpoch: 48.3%  lr: 0.005135  loss: 0.006752  eta: 0h1m  tot: 0h13m6s  (89.7%)\rEpoch: 48.4%  lr: 0.005125  loss: 0.006744  eta: 0h1m  tot: 0h13m6s  (89.7%)\rEpoch: 48.5%  lr: 0.005095  loss: 0.006740  eta: 0h1m  tot: 0h13m7s  (89.7%)\rEpoch: 48.6%  lr: 0.005085  loss: 0.006741  eta: 0h1m  tot: 0h13m7s  (89.7%)\rEpoch: 48.7%  lr: 0.005075  loss: 0.006741  eta: 0h1m  tot: 0h13m7s  (89.7%)\rEpoch: 48.8%  lr: 0.005065  loss: 0.006732  eta: 0h1m  tot: 0h13m7s  (89.8%)\rEpoch: 48.9%  lr: 0.005055  loss: 0.006725  eta: 0h1m  tot: 0h13m7s  (89.8%)\rEpoch: 49.0%  lr: 0.005045  loss: 0.006733  eta: 0h1m  tot: 0h13m7s  (89.8%)\rEpoch: 49.1%  lr: 0.005035  loss: 0.006736  eta: 0h1m  tot: 0h13m7s  (89.8%)\rEpoch: 49.2%  lr: 0.005025  loss: 0.006732  eta: 0h1m  tot: 0h13m8s  (89.8%)\rEpoch: 49.2%  lr: 0.004995  loss: 0.006738  eta: 0h1m  tot: 0h13m8s  (89.8%)\rEpoch: 49.3%  lr: 0.004985  loss: 0.006735  eta: 0h1m  tot: 0h13m8s  (89.9%)\rEpoch: 49.4%  lr: 0.004975  loss: 0.006729  eta: 0h1m  tot: 0h13m8s  (89.9%)\rEpoch: 49.5%  lr: 0.004975  loss: 0.006731  eta: 0h1m  tot: 0h13m8s  (89.9%)\rEpoch: 49.6%  lr: 0.004965  loss: 0.006729  eta: 0h1m  tot: 0h13m8s  (89.9%)\rEpoch: 49.7%  lr: 0.004945  loss: 0.006724  eta: 0h1m  tot: 0h13m9s  (89.9%)\rEpoch: 49.8%  lr: 0.004945  loss: 0.006727  eta: 0h1m  tot: 0h13m9s  (90.0%)\rEpoch: 49.9%  lr: 0.004935  loss: 0.006732  eta: 0h1m  tot: 0h13m9s  (90.0%)\rEpoch: 50.0%  lr: 0.004925  loss: 0.006724  eta: 0h1m  tot: 0h13m9s  (90.0%)\rEpoch: 50.1%  lr: 0.004905  loss: 0.006719  eta: 0h1m  tot: 0h13m9s  (90.0%)\rEpoch: 50.1%  lr: 0.004895  loss: 0.006714  eta: 0h1m  tot: 0h13m9s  (90.0%)\rEpoch: 50.2%  lr: 0.004895  loss: 0.006714  eta: 0h1m  tot: 0h13m9s  (90.0%)\rEpoch: 50.3%  lr: 0.004895  loss: 0.006706  eta: 0h1m  tot: 0h13m10s  (90.1%)\rEpoch: 50.4%  lr: 0.004895  loss: 0.006707  eta: 0h1m  tot: 0h13m10s  (90.1%)\rEpoch: 50.5%  lr: 0.004875  loss: 0.006706  eta: 0h1m  tot: 0h13m10s  (90.1%)\rEpoch: 50.6%  lr: 0.004875  loss: 0.006700  eta: 0h1m  tot: 0h13m10s  (90.1%)\rEpoch: 50.7%  lr: 0.004875  loss: 0.006701  eta: 0h1m  tot: 0h13m10s  (90.1%)\rEpoch: 50.8%  lr: 0.004855  loss: 0.006703  eta: 0h1m  tot: 0h13m10s  (90.2%)\rEpoch: 50.9%  lr: 0.004845  loss: 0.006696  eta: 0h1m  tot: 0h13m10s  (90.2%)\rEpoch: 51.0%  lr: 0.004835  loss: 0.006692  eta: 0h1m  tot: 0h13m11s  (90.2%)\rEpoch: 51.0%  lr: 0.004835  loss: 0.006691  eta: 0h1m  tot: 0h13m11s  (90.2%)\rEpoch: 51.1%  lr: 0.004835  loss: 0.006694  eta: 0h1m  tot: 0h13m11s  (90.2%)\rEpoch: 51.2%  lr: 0.004815  loss: 0.006688  eta: 0h1m  tot: 0h13m11s  (90.2%)\rEpoch: 51.3%  lr: 0.004805  loss: 0.006688  eta: 0h1m  tot: 0h13m11s  (90.3%)\rEpoch: 51.4%  lr: 0.004805  loss: 0.006685  eta: 0h1m  tot: 0h13m11s  (90.3%)\rEpoch: 51.5%  lr: 0.004795  loss: 0.006683  eta: 0h1m  tot: 0h13m12s  (90.3%)\rEpoch: 51.6%  lr: 0.004795  loss: 0.006695  eta: 0h1m  tot: 0h13m12s  (90.3%)\rEpoch: 51.7%  lr: 0.004775  loss: 0.006695  eta: 0h1m  tot: 0h13m12s  (90.3%)\rEpoch: 51.8%  lr: 0.004775  loss: 0.006693  eta: 0h1m  tot: 0h13m12s  (90.4%)\rEpoch: 51.9%  lr: 0.004775  loss: 0.006688  eta: 0h1m  tot: 0h13m12s  (90.4%)\rEpoch: 51.9%  lr: 0.004765  loss: 0.006693  eta: 0h1m  tot: 0h13m12s  (90.4%)\rEpoch: 52.0%  lr: 0.004755  loss: 0.006707  eta: 0h1m  tot: 0h13m12s  (90.4%)\rEpoch: 52.1%  lr: 0.004745  loss: 0.006703  eta: 0h1m  tot: 0h13m13s  (90.4%)\rEpoch: 52.2%  lr: 0.004745  loss: 0.006694  eta: 0h1m  tot: 0h13m13s  (90.4%)\rEpoch: 52.3%  lr: 0.004745  loss: 0.006710  eta: 0h1m  tot: 0h13m13s  (90.5%)\rEpoch: 52.4%  lr: 0.004735  loss: 0.006705  eta: 0h1m  tot: 0h13m13s  (90.5%)\rEpoch: 52.5%  lr: 0.004735  loss: 0.006704  eta: 0h1m  tot: 0h13m13s  (90.5%)\rEpoch: 52.6%  lr: 0.004735  loss: 0.006702  eta: 0h1m  tot: 0h13m13s  (90.5%)\rEpoch: 52.7%  lr: 0.004725  loss: 0.006695  eta: 0h1m  tot: 0h13m14s  (90.5%)\rEpoch: 52.8%  lr: 0.004725  loss: 0.006695  eta: 0h1m  tot: 0h13m14s  (90.6%)\rEpoch: 52.8%  lr: 0.004725  loss: 0.006697  eta: 0h1m  tot: 0h13m14s  (90.6%)\rEpoch: 52.9%  lr: 0.004725  loss: 0.006701  eta: 0h1m  tot: 0h13m14s  (90.6%)\rEpoch: 53.0%  lr: 0.004705  loss: 0.006698  eta: 0h1m  tot: 0h13m14s  (90.6%)\rEpoch: 53.1%  lr: 0.004675  loss: 0.006692  eta: 0h1m  tot: 0h13m14s  (90.6%)\rEpoch: 53.2%  lr: 0.004665  loss: 0.006694  eta: 0h1m  tot: 0h13m14s  (90.6%)\rEpoch: 53.3%  lr: 0.004665  loss: 0.006691  eta: 0h1m  tot: 0h13m15s  (90.7%)\rEpoch: 53.4%  lr: 0.004655  loss: 0.006683  eta: 0h1m  tot: 0h13m15s  (90.7%)\rEpoch: 53.5%  lr: 0.004655  loss: 0.006679  eta: 0h1m  tot: 0h13m15s  (90.7%)\rEpoch: 53.6%  lr: 0.004635  loss: 0.006675  eta: 0h1m  tot: 0h13m15s  (90.7%)\rEpoch: 53.7%  lr: 0.004625  loss: 0.006689  eta: 0h1m  tot: 0h13m15s  (90.7%)\rEpoch: 53.7%  lr: 0.004625  loss: 0.006684  eta: 0h1m  tot: 0h13m15s  (90.7%)\rEpoch: 53.8%  lr: 0.004615  loss: 0.006681  eta: 0h1m  tot: 0h13m16s  (90.8%)\rEpoch: 53.9%  lr: 0.004615  loss: 0.006683  eta: 0h1m  tot: 0h13m16s  (90.8%)\rEpoch: 54.0%  lr: 0.004605  loss: 0.006680  eta: 0h1m  tot: 0h13m16s  (90.8%)\rEpoch: 54.1%  lr: 0.004575  loss: 0.006683  eta: 0h1m  tot: 0h13m16s  (90.8%)\rEpoch: 54.2%  lr: 0.004565  loss: 0.006675  eta: 0h1m  tot: 0h13m16s  (90.8%)\rEpoch: 54.3%  lr: 0.004555  loss: 0.006682  eta: 0h1m  tot: 0h13m16s  (90.9%)\rEpoch: 54.4%  lr: 0.004555  loss: 0.006678  eta: 0h1m  tot: 0h13m16s  (90.9%)\rEpoch: 54.5%  lr: 0.004525  loss: 0.006673  eta: 0h1m  tot: 0h13m17s  (90.9%)\rEpoch: 54.6%  lr: 0.004515  loss: 0.006669  eta: 0h1m  tot: 0h13m17s  (90.9%)\rEpoch: 54.6%  lr: 0.004505  loss: 0.006664  eta: 0h1m  tot: 0h13m17s  (90.9%)\rEpoch: 54.7%  lr: 0.004495  loss: 0.006677  eta: 0h1m  tot: 0h13m17s  (90.9%)\rEpoch: 54.8%  lr: 0.004485  loss: 0.006669  eta: 0h1m  tot: 0h13m17s  (91.0%)\rEpoch: 54.9%  lr: 0.004485  loss: 0.006671  eta: 0h1m  tot: 0h13m17s  (91.0%)\rEpoch: 55.0%  lr: 0.004475  loss: 0.006669  eta: 0h1m  tot: 0h13m18s  (91.0%)\rEpoch: 55.1%  lr: 0.004465  loss: 0.006679  eta: 0h1m  tot: 0h13m18s  (91.0%)\rEpoch: 55.2%  lr: 0.004465  loss: 0.006676  eta: 0h1m  tot: 0h13m18s  (91.0%)\rEpoch: 55.3%  lr: 0.004465  loss: 0.006675  eta: 0h1m  tot: 0h13m18s  (91.1%)\rEpoch: 55.4%  lr: 0.004455  loss: 0.006675  eta: 0h1m  tot: 0h13m18s  (91.1%)\rEpoch: 55.5%  lr: 0.004435  loss: 0.006679  eta: 0h1m  tot: 0h13m18s  (91.1%)\rEpoch: 55.5%  lr: 0.004435  loss: 0.006679  eta: 0h1m  tot: 0h13m18s  (91.1%)\rEpoch: 55.6%  lr: 0.004435  loss: 0.006689  eta: 0h1m  tot: 0h13m19s  (91.1%)\rEpoch: 55.7%  lr: 0.004435  loss: 0.006687  eta: 0h1m  tot: 0h13m19s  (91.1%)\rEpoch: 55.8%  lr: 0.004404  loss: 0.006690  eta: 0h1m  tot: 0h13m19s  (91.2%)\rEpoch: 55.9%  lr: 0.004404  loss: 0.006684  eta: 0h1m  tot: 0h13m19s  (91.2%)\rEpoch: 56.0%  lr: 0.004404  loss: 0.006689  eta: 0h1m  tot: 0h13m19s  (91.2%)\rEpoch: 56.1%  lr: 0.004384  loss: 0.006694  eta: 0h1m  tot: 0h13m19s  (91.2%)\rEpoch: 56.2%  lr: 0.004374  loss: 0.006694  eta: 0h1m  tot: 0h13m20s  (91.2%)\rEpoch: 56.3%  lr: 0.004374  loss: 0.006711  eta: 0h1m  tot: 0h13m20s  (91.3%)\rEpoch: 56.4%  lr: 0.004354  loss: 0.006705  eta: 0h1m  tot: 0h13m20s  (91.3%)\rEpoch: 56.4%  lr: 0.004354  loss: 0.006706  eta: 0h1m  tot: 0h13m20s  (91.3%)\rEpoch: 56.5%  lr: 0.004344  loss: 0.006701  eta: 0h1m  tot: 0h13m20s  (91.3%)\rEpoch: 56.6%  lr: 0.004324  loss: 0.006703  eta: 0h1m  tot: 0h13m20s  (91.3%)\rEpoch: 56.7%  lr: 0.004314  loss: 0.006701  eta: 0h1m  tot: 0h13m20s  (91.3%)\rEpoch: 56.8%  lr: 0.004314  loss: 0.006709  eta: 0h1m  tot: 0h13m21s  (91.4%)\rEpoch: 56.9%  lr: 0.004314  loss: 0.006717  eta: 0h1m  tot: 0h13m21s  (91.4%)\rEpoch: 57.0%  lr: 0.004314  loss: 0.006709  eta: 0h1m  tot: 0h13m21s  (91.4%)\rEpoch: 57.1%  lr: 0.004294  loss: 0.006738  eta: 0h1m  tot: 0h13m21s  (91.4%)\rEpoch: 57.2%  lr: 0.004284  loss: 0.006734  eta: 0h1m  tot: 0h13m21s  (91.4%)\rEpoch: 57.3%  lr: 0.004264  loss: 0.006731  eta: 0h1m  tot: 0h13m21s  (91.5%)\rEpoch: 57.3%  lr: 0.004264  loss: 0.006728  eta: 0h1m  tot: 0h13m21s  (91.5%)\rEpoch: 57.4%  lr: 0.004254  loss: 0.006723  eta: 0h1m  tot: 0h13m22s  (91.5%)\rEpoch: 57.5%  lr: 0.004254  loss: 0.006731  eta: 0h1m  tot: 0h13m22s  (91.5%)\rEpoch: 57.6%  lr: 0.004254  loss: 0.006723  eta: 0h1m  tot: 0h13m22s  (91.5%)\rEpoch: 57.7%  lr: 0.004254  loss: 0.006721  eta: 0h1m  tot: 0h13m22s  (91.5%)\rEpoch: 57.8%  lr: 0.004244  loss: 0.006736  eta: 0h1m  tot: 0h13m22s  (91.6%)\rEpoch: 57.9%  lr: 0.004234  loss: 0.006733  eta: 0h1m  tot: 0h13m22s  (91.6%)\rEpoch: 58.0%  lr: 0.004234  loss: 0.006738  eta: 0h1m  tot: 0h13m23s  (91.6%)\rEpoch: 58.1%  lr: 0.004224  loss: 0.006735  eta: 0h1m  tot: 0h13m23s  (91.6%)\rEpoch: 58.2%  lr: 0.004204  loss: 0.006741  eta: 0h1m  tot: 0h13m23s  (91.6%)\rEpoch: 58.2%  lr: 0.004204  loss: 0.006734  eta: 0h1m  tot: 0h13m23s  (91.6%)\rEpoch: 58.3%  lr: 0.004204  loss: 0.006736  eta: 0h1m  tot: 0h13m23s  (91.7%)\rEpoch: 58.4%  lr: 0.004174  loss: 0.006731  eta: 0h1m  tot: 0h13m23s  (91.7%)\rEpoch: 58.5%  lr: 0.004164  loss: 0.006727  eta: 0h1m  tot: 0h13m23s  (91.7%)\rEpoch: 58.6%  lr: 0.004154  loss: 0.006728  eta: 0h1m  tot: 0h13m24s  (91.7%)\rEpoch: 58.7%  lr: 0.004154  loss: 0.006731  eta: 0h1m  tot: 0h13m24s  (91.7%)\rEpoch: 58.8%  lr: 0.004144  loss: 0.006735  eta: 0h1m  tot: 0h13m24s  (91.8%)\rEpoch: 58.9%  lr: 0.004144  loss: 0.006731  eta: 0h1m  tot: 0h13m24s  (91.8%)\rEpoch: 59.0%  lr: 0.004124  loss: 0.006722  eta: 0h1m  tot: 0h13m24s  (91.8%)\rEpoch: 59.1%  lr: 0.004124  loss: 0.006715  eta: 0h1m  tot: 0h13m24s  (91.8%)\rEpoch: 59.1%  lr: 0.004104  loss: 0.006709  eta: 0h1m  tot: 0h13m25s  (91.8%)\rEpoch: 59.2%  lr: 0.004094  loss: 0.006716  eta: 0h1m  tot: 0h13m25s  (91.8%)\rEpoch: 59.3%  lr: 0.004054  loss: 0.006717  eta: 0h1m  tot: 0h13m25s  (91.9%)\rEpoch: 59.4%  lr: 0.004034  loss: 0.006716  eta: 0h1m  tot: 0h13m25s  (91.9%)\rEpoch: 59.5%  lr: 0.004034  loss: 0.006721  eta: 0h1m  tot: 0h13m25s  (91.9%)\rEpoch: 59.6%  lr: 0.004034  loss: 0.006718  eta: 0h1m  tot: 0h13m25s  (91.9%)\rEpoch: 59.7%  lr: 0.004014  loss: 0.006719  eta: 0h1m  tot: 0h13m25s  (91.9%)\rEpoch: 59.8%  lr: 0.004014  loss: 0.006723  eta: 0h1m  tot: 0h13m26s  (92.0%)\rEpoch: 59.9%  lr: 0.004004  loss: 0.006731  eta: 0h1m  tot: 0h13m26s  (92.0%)\rEpoch: 60.0%  lr: 0.003994  loss: 0.006729  eta: 0h1m  tot: 0h13m26s  (92.0%)\rEpoch: 60.0%  lr: 0.003974  loss: 0.006735  eta: 0h1m  tot: 0h13m26s  (92.0%)\rEpoch: 60.1%  lr: 0.003964  loss: 0.006733  eta: 0h1m  tot: 0h13m26s  (92.0%)\rEpoch: 60.2%  lr: 0.003954  loss: 0.006745  eta: 0h1m  tot: 0h13m26s  (92.0%)\rEpoch: 60.3%  lr: 0.003944  loss: 0.006745  eta: 0h1m  tot: 0h13m27s  (92.1%)\rEpoch: 60.4%  lr: 0.003934  loss: 0.006747  eta: 0h1m  tot: 0h13m27s  (92.1%)\rEpoch: 60.5%  lr: 0.003934  loss: 0.006767  eta: 0h1m  tot: 0h13m27s  (92.1%)\rEpoch: 60.6%  lr: 0.003934  loss: 0.006760  eta: 0h1m  tot: 0h13m27s  (92.1%)\rEpoch: 60.7%  lr: 0.003934  loss: 0.006762  eta: 0h1m  tot: 0h13m27s  (92.1%)\rEpoch: 60.8%  lr: 0.003934  loss: 0.006761  eta: 0h1m  tot: 0h13m27s  (92.2%)\rEpoch: 60.9%  lr: 0.003924  loss: 0.006776  eta: 0h1m  tot: 0h13m27s  (92.2%)\rEpoch: 60.9%  lr: 0.003914  loss: 0.006787  eta: 0h1m  tot: 0h13m28s  (92.2%)\rEpoch: 61.0%  lr: 0.003904  loss: 0.006784  eta: 0h1m  tot: 0h13m28s  (92.2%)\rEpoch: 61.1%  lr: 0.003894  loss: 0.006775  eta: 0h1m  tot: 0h13m28s  (92.2%)\rEpoch: 61.2%  lr: 0.003884  loss: 0.006776  eta: 0h1m  tot: 0h13m28s  (92.2%)\rEpoch: 61.3%  lr: 0.003884  loss: 0.006771  eta: 0h1m  tot: 0h13m28s  (92.3%)\rEpoch: 61.4%  lr: 0.003884  loss: 0.006771  eta: 0h1m  tot: 0h13m28s  (92.3%)\rEpoch: 61.5%  lr: 0.003884  loss: 0.006767  eta: 0h1m  tot: 0h13m29s  (92.3%)\rEpoch: 61.6%  lr: 0.003874  loss: 0.006765  eta: 0h1m  tot: 0h13m29s  (92.3%)\rEpoch: 61.7%  lr: 0.003874  loss: 0.006768  eta: 0h1m  tot: 0h13m29s  (92.3%)\rEpoch: 61.8%  lr: 0.003864  loss: 0.006762  eta: 0h1m  tot: 0h13m29s  (92.4%)\rEpoch: 61.8%  lr: 0.003844  loss: 0.006756  eta: 0h1m  tot: 0h13m29s  (92.4%)\rEpoch: 61.9%  lr: 0.003844  loss: 0.006760  eta: 0h1m  tot: 0h13m29s  (92.4%)\rEpoch: 62.0%  lr: 0.003844  loss: 0.006759  eta: 0h1m  tot: 0h13m29s  (92.4%)\rEpoch: 62.1%  lr: 0.003814  loss: 0.006757  eta: 0h1m  tot: 0h13m30s  (92.4%)\rEpoch: 62.2%  lr: 0.003814  loss: 0.006757  eta: 0h1m  tot: 0h13m30s  (92.4%)\rEpoch: 62.3%  lr: 0.003784  loss: 0.006754  eta: 0h1m  tot: 0h13m30s  (92.5%)\rEpoch: 62.4%  lr: 0.003774  loss: 0.006756  eta: 0h1m  tot: 0h13m30s  (92.5%)\rEpoch: 62.5%  lr: 0.003764  loss: 0.006761  eta: 0h1m  tot: 0h13m30s  (92.5%)\rEpoch: 62.6%  lr: 0.003764  loss: 0.006761  eta: 0h1m  tot: 0h13m30s  (92.5%)\rEpoch: 62.7%  lr: 0.003764  loss: 0.006761  eta: 0h1m  tot: 0h13m30s  (92.5%)\rEpoch: 62.7%  lr: 0.003744  loss: 0.006759  eta: 0h1m  tot: 0h13m31s  (92.5%)\rEpoch: 62.8%  lr: 0.003734  loss: 0.006761  eta: 0h1m  tot: 0h13m31s  (92.6%)\rEpoch: 62.9%  lr: 0.003724  loss: 0.006762  eta: 0h1m  tot: 0h13m31s  (92.6%)\rEpoch: 63.0%  lr: 0.003724  loss: 0.006771  eta: 0h1m  tot: 0h13m31s  (92.6%)\rEpoch: 63.1%  lr: 0.003714  loss: 0.006773  eta: 0h1m  tot: 0h13m31s  (92.6%)\rEpoch: 63.2%  lr: 0.003704  loss: 0.006773  eta: 0h1m  tot: 0h13m31s  (92.6%)\rEpoch: 63.3%  lr: 0.003704  loss: 0.006768  eta: 0h1m  tot: 0h13m32s  (92.7%)\rEpoch: 63.4%  lr: 0.003694  loss: 0.006767  eta: 0h1m  tot: 0h13m32s  (92.7%)\rEpoch: 63.5%  lr: 0.003694  loss: 0.006775  eta: 0h1m  tot: 0h13m32s  (92.7%)\rEpoch: 63.6%  lr: 0.003694  loss: 0.006771  eta: 0h1m  tot: 0h13m32s  (92.7%)\rEpoch: 63.6%  lr: 0.003674  loss: 0.006769  eta: 0h1m  tot: 0h13m32s  (92.7%)\rEpoch: 63.7%  lr: 0.003674  loss: 0.006773  eta: 0h1m  tot: 0h13m32s  (92.7%)\rEpoch: 63.8%  lr: 0.003674  loss: 0.006776  eta: 0h1m  tot: 0h13m32s  (92.8%)\rEpoch: 63.9%  lr: 0.003674  loss: 0.006772  eta: 0h1m  tot: 0h13m33s  (92.8%)\rEpoch: 64.0%  lr: 0.003654  loss: 0.006768  eta: 0h1m  tot: 0h13m33s  (92.8%)\rEpoch: 64.1%  lr: 0.003634  loss: 0.006766  eta: 0h1m  tot: 0h13m33s  (92.8%)\rEpoch: 64.2%  lr: 0.003624  loss: 0.006763  eta: 0h1m  tot: 0h13m33s  (92.8%)\rEpoch: 64.3%  lr: 0.003604  loss: 0.006768  eta: 0h1m  tot: 0h13m33s  (92.9%)\rEpoch: 64.4%  lr: 0.003584  loss: 0.006766  eta: 0h1m  tot: 0h13m33s  (92.9%)\rEpoch: 64.5%  lr: 0.003584  loss: 0.006762  eta: 0h1m  tot: 0h13m34s  (92.9%)\rEpoch: 64.5%  lr: 0.003574  loss: 0.006760  eta: 0h1m  tot: 0h13m34s  (92.9%)\rEpoch: 64.6%  lr: 0.003564  loss: 0.006760  eta: 0h1m  tot: 0h13m34s  (92.9%)\rEpoch: 64.7%  lr: 0.003564  loss: 0.006777  eta: 0h1m  tot: 0h13m34s  (92.9%)\rEpoch: 64.8%  lr: 0.003554  loss: 0.006781  eta: <1min   tot: 0h13m34s  (93.0%)\rEpoch: 64.9%  lr: 0.003554  loss: 0.006777  eta: <1min   tot: 0h13m34s  (93.0%)\rEpoch: 65.0%  lr: 0.003544  loss: 0.006778  eta: <1min   tot: 0h13m34s  (93.0%)\rEpoch: 65.1%  lr: 0.003534  loss: 0.006773  eta: <1min   tot: 0h13m35s  (93.0%)\rEpoch: 65.2%  lr: 0.003514  loss: 0.006771  eta: <1min   tot: 0h13m35s  (93.0%)\rEpoch: 65.3%  lr: 0.003504  loss: 0.006766  eta: <1min   tot: 0h13m35s  (93.1%)\rEpoch: 65.4%  lr: 0.003504  loss: 0.006765  eta: <1min   tot: 0h13m35s  (93.1%)\rEpoch: 65.4%  lr: 0.003484  loss: 0.006762  eta: <1min   tot: 0h13m35s  (93.1%)\rEpoch: 65.5%  lr: 0.003484  loss: 0.006758  eta: <1min   tot: 0h13m35s  (93.1%)\rEpoch: 65.6%  lr: 0.003484  loss: 0.006753  eta: <1min   tot: 0h13m36s  (93.1%)\rEpoch: 65.7%  lr: 0.003484  loss: 0.006748  eta: <1min   tot: 0h13m36s  (93.1%)\rEpoch: 65.8%  lr: 0.003484  loss: 0.006744  eta: <1min   tot: 0h13m36s  (93.2%)\rEpoch: 65.9%  lr: 0.003474  loss: 0.006744  eta: <1min   tot: 0h13m36s  (93.2%)\rEpoch: 66.0%  lr: 0.003474  loss: 0.006745  eta: <1min   tot: 0h13m36s  (93.2%)\rEpoch: 66.1%  lr: 0.003474  loss: 0.006747  eta: <1min   tot: 0h13m36s  (93.2%)\rEpoch: 66.2%  lr: 0.003474  loss: 0.006745  eta: <1min   tot: 0h13m36s  (93.2%)\rEpoch: 66.3%  lr: 0.003464  loss: 0.006738  eta: <1min   tot: 0h13m37s  (93.3%)\rEpoch: 66.3%  lr: 0.003464  loss: 0.006739  eta: <1min   tot: 0h13m37s  (93.3%)\rEpoch: 66.4%  lr: 0.003454  loss: 0.006742  eta: <1min   tot: 0h13m37s  (93.3%)\rEpoch: 66.5%  lr: 0.003434  loss: 0.006743  eta: <1min   tot: 0h13m37s  (93.3%)\rEpoch: 66.6%  lr: 0.003434  loss: 0.006740  eta: <1min   tot: 0h13m37s  (93.3%)\rEpoch: 66.7%  lr: 0.003434  loss: 0.006743  eta: <1min   tot: 0h13m37s  (93.3%)\rEpoch: 66.8%  lr: 0.003414  loss: 0.006740  eta: <1min   tot: 0h13m38s  (93.4%)\rEpoch: 66.9%  lr: 0.003403  loss: 0.006736  eta: <1min   tot: 0h13m38s  (93.4%)\rEpoch: 67.0%  lr: 0.003403  loss: 0.006740  eta: <1min   tot: 0h13m38s  (93.4%)\rEpoch: 67.1%  lr: 0.003403  loss: 0.006733  eta: <1min   tot: 0h13m38s  (93.4%)\rEpoch: 67.2%  lr: 0.003403  loss: 0.006732  eta: <1min   tot: 0h13m38s  (93.4%)\rEpoch: 67.2%  lr: 0.003393  loss: 0.006728  eta: <1min   tot: 0h13m38s  (93.4%)\rEpoch: 67.3%  lr: 0.003393  loss: 0.006725  eta: <1min   tot: 0h13m38s  (93.5%)\rEpoch: 67.4%  lr: 0.003393  loss: 0.006728  eta: <1min   tot: 0h13m39s  (93.5%)\rEpoch: 67.5%  lr: 0.003383  loss: 0.006724  eta: <1min   tot: 0h13m39s  (93.5%)\rEpoch: 67.6%  lr: 0.003373  loss: 0.006723  eta: <1min   tot: 0h13m39s  (93.5%)\rEpoch: 67.7%  lr: 0.003373  loss: 0.006723  eta: <1min   tot: 0h13m39s  (93.5%)\rEpoch: 67.8%  lr: 0.003373  loss: 0.006720  eta: <1min   tot: 0h13m39s  (93.6%)\rEpoch: 67.9%  lr: 0.003353  loss: 0.006725  eta: <1min   tot: 0h13m39s  (93.6%)\rEpoch: 68.0%  lr: 0.003353  loss: 0.006719  eta: <1min   tot: 0h13m40s  (93.6%)\rEpoch: 68.1%  lr: 0.003353  loss: 0.006722  eta: <1min   tot: 0h13m40s  (93.6%)\rEpoch: 68.1%  lr: 0.003353  loss: 0.006718  eta: <1min   tot: 0h13m40s  (93.6%)\rEpoch: 68.2%  lr: 0.003343  loss: 0.006717  eta: <1min   tot: 0h13m40s  (93.6%)\rEpoch: 68.3%  lr: 0.003343  loss: 0.006722  eta: <1min   tot: 0h13m40s  (93.7%)\rEpoch: 68.4%  lr: 0.003333  loss: 0.006733  eta: <1min   tot: 0h13m40s  (93.7%)\rEpoch: 68.5%  lr: 0.003313  loss: 0.006732  eta: <1min   tot: 0h13m40s  (93.7%)\rEpoch: 68.6%  lr: 0.003293  loss: 0.006732  eta: <1min   tot: 0h13m41s  (93.7%)\rEpoch: 68.7%  lr: 0.003283  loss: 0.006728  eta: <1min   tot: 0h13m41s  (93.7%)\rEpoch: 68.8%  lr: 0.003283  loss: 0.006725  eta: <1min   tot: 0h13m41s  (93.8%)\rEpoch: 68.9%  lr: 0.003263  loss: 0.006727  eta: <1min   tot: 0h13m41s  (93.8%)\rEpoch: 69.0%  lr: 0.003263  loss: 0.006721  eta: <1min   tot: 0h13m41s  (93.8%)\rEpoch: 69.0%  lr: 0.003253  loss: 0.006722  eta: <1min   tot: 0h13m41s  (93.8%)\rEpoch: 69.1%  lr: 0.003233  loss: 0.006725  eta: <1min   tot: 0h13m42s  (93.8%)\rEpoch: 69.2%  lr: 0.003233  loss: 0.006734  eta: <1min   tot: 0h13m42s  (93.8%)\rEpoch: 69.3%  lr: 0.003233  loss: 0.006739  eta: <1min   tot: 0h13m42s  (93.9%)\rEpoch: 69.4%  lr: 0.003223  loss: 0.006739  eta: <1min   tot: 0h13m42s  (93.9%)\rEpoch: 69.5%  lr: 0.003203  loss: 0.006735  eta: <1min   tot: 0h13m42s  (93.9%)\rEpoch: 69.6%  lr: 0.003193  loss: 0.006731  eta: <1min   tot: 0h13m42s  (93.9%)\rEpoch: 69.7%  lr: 0.003193  loss: 0.006730  eta: <1min   tot: 0h13m42s  (93.9%)\rEpoch: 69.8%  lr: 0.003193  loss: 0.006730  eta: <1min   tot: 0h13m43s  (94.0%)\rEpoch: 69.9%  lr: 0.003173  loss: 0.006732  eta: <1min   tot: 0h13m43s  (94.0%)\rEpoch: 69.9%  lr: 0.003173  loss: 0.006737  eta: <1min   tot: 0h13m43s  (94.0%)\rEpoch: 70.0%  lr: 0.003143  loss: 0.006734  eta: <1min   tot: 0h13m43s  (94.0%)\rEpoch: 70.1%  lr: 0.003143  loss: 0.006729  eta: <1min   tot: 0h13m43s  (94.0%)\rEpoch: 70.2%  lr: 0.003133  loss: 0.006733  eta: <1min   tot: 0h13m43s  (94.0%)\rEpoch: 70.3%  lr: 0.003133  loss: 0.006733  eta: <1min   tot: 0h13m44s  (94.1%)\rEpoch: 70.4%  lr: 0.003123  loss: 0.006729  eta: <1min   tot: 0h13m44s  (94.1%)\rEpoch: 70.5%  lr: 0.003113  loss: 0.006742  eta: <1min   tot: 0h13m44s  (94.1%)\rEpoch: 70.6%  lr: 0.003103  loss: 0.006742  eta: <1min   tot: 0h13m44s  (94.1%)\rEpoch: 70.7%  lr: 0.003103  loss: 0.006737  eta: <1min   tot: 0h13m44s  (94.1%)\rEpoch: 70.8%  lr: 0.003093  loss: 0.006739  eta: <1min   tot: 0h13m44s  (94.2%)\rEpoch: 70.8%  lr: 0.003083  loss: 0.006741  eta: <1min   tot: 0h13m44s  (94.2%)\rEpoch: 70.9%  lr: 0.003073  loss: 0.006744  eta: <1min   tot: 0h13m45s  (94.2%)\rEpoch: 71.0%  lr: 0.003053  loss: 0.006740  eta: <1min   tot: 0h13m45s  (94.2%)\rEpoch: 71.1%  lr: 0.003033  loss: 0.006747  eta: <1min   tot: 0h13m45s  (94.2%)\rEpoch: 71.2%  lr: 0.003033  loss: 0.006752  eta: <1min   tot: 0h13m45s  (94.2%)\rEpoch: 71.3%  lr: 0.003033  loss: 0.006760  eta: <1min   tot: 0h13m45s  (94.3%)\rEpoch: 71.4%  lr: 0.003033  loss: 0.006760  eta: <1min   tot: 0h13m45s  (94.3%)\rEpoch: 71.5%  lr: 0.003033  loss: 0.006758  eta: <1min   tot: 0h13m46s  (94.3%)\rEpoch: 71.6%  lr: 0.003033  loss: 0.006758  eta: <1min   tot: 0h13m46s  (94.3%)\rEpoch: 71.7%  lr: 0.003023  loss: 0.006758  eta: <1min   tot: 0h13m46s  (94.3%)\rEpoch: 71.7%  lr: 0.003013  loss: 0.006761  eta: <1min   tot: 0h13m46s  (94.3%)\rEpoch: 71.8%  lr: 0.003003  loss: 0.006761  eta: <1min   tot: 0h13m46s  (94.4%)\rEpoch: 71.9%  lr: 0.003003  loss: 0.006759  eta: <1min   tot: 0h13m46s  (94.4%)\rEpoch: 72.0%  lr: 0.002993  loss: 0.006758  eta: <1min   tot: 0h13m46s  (94.4%)\rEpoch: 72.1%  lr: 0.002983  loss: 0.006754  eta: <1min   tot: 0h13m47s  (94.4%)\rEpoch: 72.2%  lr: 0.002983  loss: 0.006758  eta: <1min   tot: 0h13m47s  (94.4%)\rEpoch: 72.3%  lr: 0.002963  loss: 0.006771  eta: <1min   tot: 0h13m47s  (94.5%)\rEpoch: 72.4%  lr: 0.002943  loss: 0.006782  eta: <1min   tot: 0h13m47s  (94.5%)\rEpoch: 72.5%  lr: 0.002943  loss: 0.006783  eta: <1min   tot: 0h13m47s  (94.5%)\rEpoch: 72.6%  lr: 0.002923  loss: 0.006792  eta: <1min   tot: 0h13m47s  (94.5%)\rEpoch: 72.6%  lr: 0.002923  loss: 0.006798  eta: <1min   tot: 0h13m48s  (94.5%)\rEpoch: 72.7%  lr: 0.002923  loss: 0.006799  eta: <1min   tot: 0h13m48s  (94.5%)\rEpoch: 72.8%  lr: 0.002923  loss: 0.006803  eta: <1min   tot: 0h13m48s  (94.6%)\rEpoch: 72.9%  lr: 0.002913  loss: 0.006802  eta: <1min   tot: 0h13m48s  (94.6%)\rEpoch: 73.0%  lr: 0.002893  loss: 0.006799  eta: <1min   tot: 0h13m48s  (94.6%)\rEpoch: 73.1%  lr: 0.002893  loss: 0.006795  eta: <1min   tot: 0h13m48s  (94.6%)\rEpoch: 73.2%  lr: 0.002893  loss: 0.006808  eta: <1min   tot: 0h13m48s  (94.6%)\rEpoch: 73.3%  lr: 0.002883  loss: 0.006806  eta: <1min   tot: 0h13m49s  (94.7%)\rEpoch: 73.4%  lr: 0.002873  loss: 0.006799  eta: <1min   tot: 0h13m49s  (94.7%)\rEpoch: 73.5%  lr: 0.002873  loss: 0.006796  eta: <1min   tot: 0h13m49s  (94.7%)\rEpoch: 73.5%  lr: 0.002863  loss: 0.006800  eta: <1min   tot: 0h13m49s  (94.7%)\rEpoch: 73.6%  lr: 0.002853  loss: 0.006800  eta: <1min   tot: 0h13m49s  (94.7%)\rEpoch: 73.7%  lr: 0.002853  loss: 0.006802  eta: <1min   tot: 0h13m49s  (94.7%)\rEpoch: 73.8%  lr: 0.002853  loss: 0.006815  eta: <1min   tot: 0h13m49s  (94.8%)\rEpoch: 73.9%  lr: 0.002843  loss: 0.006812  eta: <1min   tot: 0h13m50s  (94.8%)\rEpoch: 74.0%  lr: 0.002803  loss: 0.006811  eta: <1min   tot: 0h13m50s  (94.8%)\rEpoch: 74.1%  lr: 0.002783  loss: 0.006809  eta: <1min   tot: 0h13m50s  (94.8%)\rEpoch: 74.2%  lr: 0.002773  loss: 0.006817  eta: <1min   tot: 0h13m50s  (94.8%)\rEpoch: 74.3%  lr: 0.002773  loss: 0.006812  eta: <1min   tot: 0h13m50s  (94.9%)\rEpoch: 74.4%  lr: 0.002763  loss: 0.006811  eta: <1min   tot: 0h13m50s  (94.9%)\rEpoch: 74.4%  lr: 0.002753  loss: 0.006816  eta: <1min   tot: 0h13m51s  (94.9%)\rEpoch: 74.5%  lr: 0.002703  loss: 0.006813  eta: <1min   tot: 0h13m51s  (94.9%)\rEpoch: 74.6%  lr: 0.002693  loss: 0.006816  eta: <1min   tot: 0h13m51s  (94.9%)\rEpoch: 74.7%  lr: 0.002663  loss: 0.006819  eta: <1min   tot: 0h13m51s  (94.9%)\rEpoch: 74.8%  lr: 0.002663  loss: 0.006816  eta: <1min   tot: 0h13m51s  (95.0%)\rEpoch: 74.9%  lr: 0.002643  loss: 0.006818  eta: <1min   tot: 0h13m51s  (95.0%)\rEpoch: 75.0%  lr: 0.002633  loss: 0.006816  eta: <1min   tot: 0h13m51s  (95.0%)\rEpoch: 75.1%  lr: 0.002623  loss: 0.006823  eta: <1min   tot: 0h13m52s  (95.0%)\rEpoch: 75.2%  lr: 0.002603  loss: 0.006826  eta: <1min   tot: 0h13m52s  (95.0%)\rEpoch: 75.3%  lr: 0.002603  loss: 0.006822  eta: <1min   tot: 0h13m52s  (95.1%)\rEpoch: 75.3%  lr: 0.002573  loss: 0.006818  eta: <1min   tot: 0h13m52s  (95.1%)\rEpoch: 75.4%  lr: 0.002573  loss: 0.006822  eta: <1min   tot: 0h13m52s  (95.1%)\rEpoch: 75.5%  lr: 0.002533  loss: 0.006820  eta: <1min   tot: 0h13m52s  (95.1%)\rEpoch: 75.6%  lr: 0.002533  loss: 0.006817  eta: <1min   tot: 0h13m53s  (95.1%)\rEpoch: 75.7%  lr: 0.002523  loss: 0.006818  eta: <1min   tot: 0h13m53s  (95.1%)\rEpoch: 75.8%  lr: 0.002493  loss: 0.006814  eta: <1min   tot: 0h13m53s  (95.2%)\rEpoch: 75.9%  lr: 0.002473  loss: 0.006811  eta: <1min   tot: 0h13m53s  (95.2%)\rEpoch: 76.0%  lr: 0.002453  loss: 0.006814  eta: <1min   tot: 0h13m53s  (95.2%)\rEpoch: 76.1%  lr: 0.002453  loss: 0.006814  eta: <1min   tot: 0h13m53s  (95.2%)\rEpoch: 76.2%  lr: 0.002423  loss: 0.006812  eta: <1min   tot: 0h13m53s  (95.2%)\rEpoch: 76.2%  lr: 0.002412  loss: 0.006810  eta: <1min   tot: 0h13m54s  (95.2%)\rEpoch: 76.3%  lr: 0.002402  loss: 0.006807  eta: <1min   tot: 0h13m54s  (95.3%)\rEpoch: 76.4%  lr: 0.002402  loss: 0.006818  eta: <1min   tot: 0h13m54s  (95.3%)\rEpoch: 76.5%  lr: 0.002392  loss: 0.006818  eta: <1min   tot: 0h13m54s  (95.3%)\rEpoch: 76.6%  lr: 0.002362  loss: 0.006821  eta: <1min   tot: 0h13m54s  (95.3%)\rEpoch: 76.7%  lr: 0.002352  loss: 0.006822  eta: <1min   tot: 0h13m54s  (95.3%)\rEpoch: 76.8%  lr: 0.002352  loss: 0.006820  eta: <1min   tot: 0h13m55s  (95.4%)\rEpoch: 76.9%  lr: 0.002352  loss: 0.006816  eta: <1min   tot: 0h13m55s  (95.4%)\rEpoch: 77.0%  lr: 0.002342  loss: 0.006811  eta: <1min   tot: 0h13m55s  (95.4%)\rEpoch: 77.1%  lr: 0.002342  loss: 0.006806  eta: <1min   tot: 0h13m55s  (95.4%)\rEpoch: 77.1%  lr: 0.002342  loss: 0.006803  eta: <1min   tot: 0h13m55s  (95.4%)\rEpoch: 77.2%  lr: 0.002312  loss: 0.006796  eta: <1min   tot: 0h13m55s  (95.4%)\rEpoch: 77.3%  lr: 0.002302  loss: 0.006795  eta: <1min   tot: 0h13m55s  (95.5%)\rEpoch: 77.4%  lr: 0.002302  loss: 0.006808  eta: <1min   tot: 0h13m56s  (95.5%)\rEpoch: 77.5%  lr: 0.002292  loss: 0.006807  eta: <1min   tot: 0h13m56s  (95.5%)\rEpoch: 77.6%  lr: 0.002282  loss: 0.006804  eta: <1min   tot: 0h13m56s  (95.5%)\rEpoch: 77.7%  lr: 0.002272  loss: 0.006802  eta: <1min   tot: 0h13m56s  (95.5%)\rEpoch: 77.8%  lr: 0.002252  loss: 0.006803  eta: <1min   tot: 0h13m56s  (95.6%)\rEpoch: 77.9%  lr: 0.002242  loss: 0.006810  eta: <1min   tot: 0h13m56s  (95.6%)\rEpoch: 78.0%  lr: 0.002232  loss: 0.006805  eta: <1min   tot: 0h13m57s  (95.6%)\rEpoch: 78.0%  lr: 0.002232  loss: 0.006802  eta: <1min   tot: 0h13m57s  (95.6%)\rEpoch: 78.1%  lr: 0.002232  loss: 0.006799  eta: <1min   tot: 0h13m57s  (95.6%)\rEpoch: 78.2%  lr: 0.002232  loss: 0.006805  eta: <1min   tot: 0h13m57s  (95.6%)\rEpoch: 78.3%  lr: 0.002232  loss: 0.006803  eta: <1min   tot: 0h13m57s  (95.7%)\rEpoch: 78.4%  lr: 0.002222  loss: 0.006800  eta: <1min   tot: 0h13m57s  (95.7%)\rEpoch: 78.5%  lr: 0.002202  loss: 0.006803  eta: <1min   tot: 0h13m57s  (95.7%)\rEpoch: 78.6%  lr: 0.002192  loss: 0.006800  eta: <1min   tot: 0h13m58s  (95.7%)\rEpoch: 78.7%  lr: 0.002162  loss: 0.006804  eta: <1min   tot: 0h13m58s  (95.7%)\rEpoch: 78.8%  lr: 0.002162  loss: 0.006802  eta: <1min   tot: 0h13m58s  (95.8%)\rEpoch: 78.9%  lr: 0.002152  loss: 0.006809  eta: <1min   tot: 0h13m58s  (95.8%)\rEpoch: 78.9%  lr: 0.002142  loss: 0.006816  eta: <1min   tot: 0h13m58s  (95.8%)\rEpoch: 79.0%  lr: 0.002122  loss: 0.006810  eta: <1min   tot: 0h13m58s  (95.8%)\rEpoch: 79.1%  lr: 0.002112  loss: 0.006804  eta: <1min   tot: 0h13m59s  (95.8%)\rEpoch: 79.2%  lr: 0.002102  loss: 0.006816  eta: <1min   tot: 0h13m59s  (95.8%)\rEpoch: 79.3%  lr: 0.002102  loss: 0.006813  eta: <1min   tot: 0h13m59s  (95.9%)\rEpoch: 79.4%  lr: 0.002092  loss: 0.006812  eta: <1min   tot: 0h13m59s  (95.9%)\rEpoch: 79.5%  lr: 0.002092  loss: 0.006809  eta: <1min   tot: 0h13m59s  (95.9%)\rEpoch: 79.6%  lr: 0.002092  loss: 0.006812  eta: <1min   tot: 0h13m59s  (95.9%)\rEpoch: 79.7%  lr: 0.002092  loss: 0.006814  eta: <1min   tot: 0h13m59s  (95.9%)\rEpoch: 79.8%  lr: 0.002092  loss: 0.006812  eta: <1min   tot: 0h14m0s  (96.0%)\rEpoch: 79.9%  lr: 0.002092  loss: 0.006815  eta: <1min   tot: 0h14m0s  (96.0%)\rEpoch: 79.9%  lr: 0.002082  loss: 0.006812  eta: <1min   tot: 0h14m0s  (96.0%)\rEpoch: 80.0%  lr: 0.002072  loss: 0.006808  eta: <1min   tot: 0h14m0s  (96.0%)\rEpoch: 80.1%  lr: 0.002062  loss: 0.006812  eta: <1min   tot: 0h14m0s  (96.0%)\rEpoch: 80.2%  lr: 0.002042  loss: 0.006819  eta: <1min   tot: 0h14m0s  (96.0%)\rEpoch: 80.3%  lr: 0.002042  loss: 0.006816  eta: <1min   tot: 0h14m1s  (96.1%)\rEpoch: 80.4%  lr: 0.002042  loss: 0.006817  eta: <1min   tot: 0h14m1s  (96.1%)\rEpoch: 80.5%  lr: 0.002032  loss: 0.006815  eta: <1min   tot: 0h14m1s  (96.1%)\rEpoch: 80.6%  lr: 0.002032  loss: 0.006820  eta: <1min   tot: 0h14m1s  (96.1%)\rEpoch: 80.7%  lr: 0.002012  loss: 0.006815  eta: <1min   tot: 0h14m1s  (96.1%)\rEpoch: 80.8%  lr: 0.002002  loss: 0.006814  eta: <1min   tot: 0h14m1s  (96.2%)\rEpoch: 80.8%  lr: 0.001982  loss: 0.006811  eta: <1min   tot: 0h14m2s  (96.2%)\rEpoch: 80.9%  lr: 0.001972  loss: 0.006810  eta: <1min   tot: 0h14m2s  (96.2%)\rEpoch: 81.0%  lr: 0.001962  loss: 0.006806  eta: <1min   tot: 0h14m2s  (96.2%)\rEpoch: 81.1%  lr: 0.001952  loss: 0.006807  eta: <1min   tot: 0h14m2s  (96.2%)\rEpoch: 81.2%  lr: 0.001942  loss: 0.006804  eta: <1min   tot: 0h14m2s  (96.2%)\rEpoch: 81.3%  lr: 0.001932  loss: 0.006807  eta: <1min   tot: 0h14m2s  (96.3%)\rEpoch: 81.4%  lr: 0.001912  loss: 0.006806  eta: <1min   tot: 0h14m2s  (96.3%)\rEpoch: 81.5%  lr: 0.001912  loss: 0.006814  eta: <1min   tot: 0h14m3s  (96.3%)\rEpoch: 81.6%  lr: 0.001892  loss: 0.006811  eta: <1min   tot: 0h14m3s  (96.3%)\rEpoch: 81.7%  lr: 0.001882  loss: 0.006815  eta: <1min   tot: 0h14m3s  (96.3%)\rEpoch: 81.7%  lr: 0.001872  loss: 0.006827  eta: <1min   tot: 0h14m3s  (96.3%)\rEpoch: 81.8%  lr: 0.001862  loss: 0.006836  eta: <1min   tot: 0h14m3s  (96.4%)\rEpoch: 81.9%  lr: 0.001862  loss: 0.006837  eta: <1min   tot: 0h14m3s  (96.4%)\rEpoch: 82.0%  lr: 0.001832  loss: 0.006833  eta: <1min   tot: 0h14m4s  (96.4%)\rEpoch: 82.1%  lr: 0.001832  loss: 0.006827  eta: <1min   tot: 0h14m4s  (96.4%)\rEpoch: 82.2%  lr: 0.001812  loss: 0.006825  eta: <1min   tot: 0h14m4s  (96.4%)\rEpoch: 82.3%  lr: 0.001792  loss: 0.006835  eta: <1min   tot: 0h14m4s  (96.5%)\rEpoch: 82.4%  lr: 0.001782  loss: 0.006836  eta: <1min   tot: 0h14m4s  (96.5%)\rEpoch: 82.5%  lr: 0.001772  loss: 0.006835  eta: <1min   tot: 0h14m4s  (96.5%)\rEpoch: 82.6%  lr: 0.001762  loss: 0.006835  eta: <1min   tot: 0h14m4s  (96.5%)\rEpoch: 82.6%  lr: 0.001752  loss: 0.006844  eta: <1min   tot: 0h14m5s  (96.5%)\rEpoch: 82.7%  lr: 0.001752  loss: 0.006844  eta: <1min   tot: 0h14m5s  (96.5%)\rEpoch: 82.8%  lr: 0.001742  loss: 0.006847  eta: <1min   tot: 0h14m5s  (96.6%)\rEpoch: 82.9%  lr: 0.001732  loss: 0.006849  eta: <1min   tot: 0h14m5s  (96.6%)\rEpoch: 83.0%  lr: 0.001702  loss: 0.006847  eta: <1min   tot: 0h14m5s  (96.6%)\rEpoch: 83.1%  lr: 0.001692  loss: 0.006843  eta: <1min   tot: 0h14m5s  (96.6%)\rEpoch: 83.2%  lr: 0.001672  loss: 0.006845  eta: <1min   tot: 0h14m6s  (96.6%)\rEpoch: 83.3%  lr: 0.001662  loss: 0.006842  eta: <1min   tot: 0h14m6s  (96.7%)\rEpoch: 83.4%  lr: 0.001662  loss: 0.006844  eta: <1min   tot: 0h14m6s  (96.7%)\rEpoch: 83.5%  lr: 0.001652  loss: 0.006840  eta: <1min   tot: 0h14m6s  (96.7%)\rEpoch: 83.5%  lr: 0.001652  loss: 0.006840  eta: <1min   tot: 0h14m6s  (96.7%)\rEpoch: 83.6%  lr: 0.001652  loss: 0.006838  eta: <1min   tot: 0h14m6s  (96.7%)\rEpoch: 83.7%  lr: 0.001642  loss: 0.006841  eta: <1min   tot: 0h14m6s  (96.7%)\rEpoch: 83.8%  lr: 0.001622  loss: 0.006839  eta: <1min   tot: 0h14m7s  (96.8%)\rEpoch: 83.9%  lr: 0.001612  loss: 0.006838  eta: <1min   tot: 0h14m7s  (96.8%)\rEpoch: 84.0%  lr: 0.001612  loss: 0.006832  eta: <1min   tot: 0h14m7s  (96.8%)\rEpoch: 84.1%  lr: 0.001612  loss: 0.006833  eta: <1min   tot: 0h14m7s  (96.8%)\rEpoch: 84.2%  lr: 0.001612  loss: 0.006833  eta: <1min   tot: 0h14m7s  (96.8%)\rEpoch: 84.3%  lr: 0.001592  loss: 0.006830  eta: <1min   tot: 0h14m7s  (96.9%)\rEpoch: 84.4%  lr: 0.001592  loss: 0.006829  eta: <1min   tot: 0h14m7s  (96.9%)\rEpoch: 84.4%  lr: 0.001582  loss: 0.006826  eta: <1min   tot: 0h14m8s  (96.9%)\rEpoch: 84.5%  lr: 0.001542  loss: 0.006828  eta: <1min   tot: 0h14m8s  (96.9%)\rEpoch: 84.6%  lr: 0.001542  loss: 0.006829  eta: <1min   tot: 0h14m8s  (96.9%)\rEpoch: 84.7%  lr: 0.001532  loss: 0.006823  eta: <1min   tot: 0h14m8s  (96.9%)\rEpoch: 84.8%  lr: 0.001492  loss: 0.006827  eta: <1min   tot: 0h14m8s  (97.0%)\rEpoch: 84.9%  lr: 0.001492  loss: 0.006833  eta: <1min   tot: 0h14m8s  (97.0%)\rEpoch: 85.0%  lr: 0.001482  loss: 0.006838  eta: <1min   tot: 0h14m9s  (97.0%)\rEpoch: 85.1%  lr: 0.001482  loss: 0.006842  eta: <1min   tot: 0h14m9s  (97.0%)\rEpoch: 85.2%  lr: 0.001472  loss: 0.006849  eta: <1min   tot: 0h14m9s  (97.0%)\rEpoch: 85.3%  lr: 0.001462  loss: 0.006843  eta: <1min   tot: 0h14m9s  (97.1%)\rEpoch: 85.3%  lr: 0.001452  loss: 0.006838  eta: <1min   tot: 0h14m9s  (97.1%)\rEpoch: 85.4%  lr: 0.001432  loss: 0.006833  eta: <1min   tot: 0h14m9s  (97.1%)\rEpoch: 85.5%  lr: 0.001432  loss: 0.006832  eta: <1min   tot: 0h14m9s  (97.1%)\rEpoch: 85.6%  lr: 0.001432  loss: 0.006832  eta: <1min   tot: 0h14m10s  (97.1%)\rEpoch: 85.7%  lr: 0.001422  loss: 0.006834  eta: <1min   tot: 0h14m10s  (97.1%)\rEpoch: 85.8%  lr: 0.001422  loss: 0.006835  eta: <1min   tot: 0h14m10s  (97.2%)\rEpoch: 85.9%  lr: 0.001411  loss: 0.006839  eta: <1min   tot: 0h14m10s  (97.2%)\rEpoch: 86.0%  lr: 0.001401  loss: 0.006840  eta: <1min   tot: 0h14m10s  (97.2%)\rEpoch: 86.1%  lr: 0.001401  loss: 0.006837  eta: <1min   tot: 0h14m10s  (97.2%)\rEpoch: 86.2%  lr: 0.001391  loss: 0.006835  eta: <1min   tot: 0h14m11s  (97.2%)\rEpoch: 86.2%  lr: 0.001371  loss: 0.006841  eta: <1min   tot: 0h14m11s  (97.2%)\rEpoch: 86.3%  lr: 0.001361  loss: 0.006843  eta: <1min   tot: 0h14m11s  (97.3%)\rEpoch: 86.4%  lr: 0.001361  loss: 0.006843  eta: <1min   tot: 0h14m11s  (97.3%)\rEpoch: 86.5%  lr: 0.001351  loss: 0.006844  eta: <1min   tot: 0h14m11s  (97.3%)\rEpoch: 86.6%  lr: 0.001331  loss: 0.006849  eta: <1min   tot: 0h14m11s  (97.3%)\rEpoch: 86.7%  lr: 0.001331  loss: 0.006851  eta: <1min   tot: 0h14m11s  (97.3%)\rEpoch: 86.8%  lr: 0.001321  loss: 0.006852  eta: <1min   tot: 0h14m12s  (97.4%)\rEpoch: 86.9%  lr: 0.001301  loss: 0.006850  eta: <1min   tot: 0h14m12s  (97.4%)\rEpoch: 87.0%  lr: 0.001301  loss: 0.006852  eta: <1min   tot: 0h14m12s  (97.4%)\rEpoch: 87.1%  lr: 0.001301  loss: 0.006850  eta: <1min   tot: 0h14m12s  (97.4%)\rEpoch: 87.1%  lr: 0.001291  loss: 0.006848  eta: <1min   tot: 0h14m12s  (97.4%)\rEpoch: 87.2%  lr: 0.001281  loss: 0.006845  eta: <1min   tot: 0h14m12s  (97.4%)\rEpoch: 87.3%  lr: 0.001271  loss: 0.006845  eta: <1min   tot: 0h14m13s  (97.5%)\rEpoch: 87.4%  lr: 0.001261  loss: 0.006845  eta: <1min   tot: 0h14m13s  (97.5%)\rEpoch: 87.5%  lr: 0.001251  loss: 0.006850  eta: <1min   tot: 0h14m13s  (97.5%)\rEpoch: 87.6%  lr: 0.001241  loss: 0.006862  eta: <1min   tot: 0h14m13s  (97.5%)\rEpoch: 87.7%  lr: 0.001241  loss: 0.006869  eta: <1min   tot: 0h14m13s  (97.5%)\rEpoch: 87.8%  lr: 0.001221  loss: 0.006864  eta: <1min   tot: 0h14m13s  (97.6%)\rEpoch: 87.9%  lr: 0.001221  loss: 0.006865  eta: <1min   tot: 0h14m13s  (97.6%)\rEpoch: 88.0%  lr: 0.001201  loss: 0.006863  eta: <1min   tot: 0h14m14s  (97.6%)\rEpoch: 88.0%  lr: 0.001201  loss: 0.006861  eta: <1min   tot: 0h14m14s  (97.6%)\rEpoch: 88.1%  lr: 0.001191  loss: 0.006859  eta: <1min   tot: 0h14m14s  (97.6%)\rEpoch: 88.2%  lr: 0.001181  loss: 0.006861  eta: <1min   tot: 0h14m14s  (97.6%)\rEpoch: 88.3%  lr: 0.001181  loss: 0.006865  eta: <1min   tot: 0h14m14s  (97.7%)\rEpoch: 88.4%  lr: 0.001181  loss: 0.006867  eta: <1min   tot: 0h14m14s  (97.7%)\rEpoch: 88.5%  lr: 0.001171  loss: 0.006871  eta: <1min   tot: 0h14m15s  (97.7%)\rEpoch: 88.6%  lr: 0.001151  loss: 0.006877  eta: <1min   tot: 0h14m15s  (97.7%)\rEpoch: 88.7%  lr: 0.001141  loss: 0.006876  eta: <1min   tot: 0h14m15s  (97.7%)\rEpoch: 88.8%  lr: 0.001121  loss: 0.006879  eta: <1min   tot: 0h14m15s  (97.8%)\rEpoch: 88.9%  lr: 0.001121  loss: 0.006881  eta: <1min   tot: 0h14m15s  (97.8%)\rEpoch: 88.9%  lr: 0.001111  loss: 0.006884  eta: <1min   tot: 0h14m15s  (97.8%)\rEpoch: 89.0%  lr: 0.001111  loss: 0.006885  eta: <1min   tot: 0h14m15s  (97.8%)\rEpoch: 89.1%  lr: 0.001111  loss: 0.006894  eta: <1min   tot: 0h14m16s  (97.8%)\rEpoch: 89.2%  lr: 0.001101  loss: 0.006892  eta: <1min   tot: 0h14m16s  (97.8%)\rEpoch: 89.3%  lr: 0.001081  loss: 0.006895  eta: <1min   tot: 0h14m16s  (97.9%)\rEpoch: 89.4%  lr: 0.001071  loss: 0.006891  eta: <1min   tot: 0h14m16s  (97.9%)\rEpoch: 89.5%  lr: 0.001061  loss: 0.006897  eta: <1min   tot: 0h14m16s  (97.9%)\rEpoch: 89.6%  lr: 0.001051  loss: 0.006896  eta: <1min   tot: 0h14m16s  (97.9%)\rEpoch: 89.7%  lr: 0.001041  loss: 0.006894  eta: <1min   tot: 0h14m17s  (97.9%)\rEpoch: 89.8%  lr: 0.001031  loss: 0.006889  eta: <1min   tot: 0h14m17s  (98.0%)\rEpoch: 89.8%  lr: 0.001021  loss: 0.006886  eta: <1min   tot: 0h14m17s  (98.0%)\rEpoch: 89.9%  lr: 0.000991  loss: 0.006883  eta: <1min   tot: 0h14m17s  (98.0%)\rEpoch: 90.0%  lr: 0.000981  loss: 0.006878  eta: <1min   tot: 0h14m17s  (98.0%)\rEpoch: 90.1%  lr: 0.000981  loss: 0.006881  eta: <1min   tot: 0h14m17s  (98.0%)\rEpoch: 90.2%  lr: 0.000971  loss: 0.006880  eta: <1min   tot: 0h14m18s  (98.0%)\rEpoch: 90.3%  lr: 0.000951  loss: 0.006881  eta: <1min   tot: 0h14m18s  (98.1%)\rEpoch: 90.4%  lr: 0.000941  loss: 0.006881  eta: <1min   tot: 0h14m18s  (98.1%)\rEpoch: 90.5%  lr: 0.000941  loss: 0.006881  eta: <1min   tot: 0h14m18s  (98.1%)\rEpoch: 90.6%  lr: 0.000931  loss: 0.006884  eta: <1min   tot: 0h14m18s  (98.1%)\rEpoch: 90.7%  lr: 0.000921  loss: 0.006884  eta: <1min   tot: 0h14m18s  (98.1%)\rEpoch: 90.7%  lr: 0.000921  loss: 0.006884  eta: <1min   tot: 0h14m18s  (98.1%)\rEpoch: 90.8%  lr: 0.000921  loss: 0.006880  eta: <1min   tot: 0h14m19s  (98.2%)\rEpoch: 90.9%  lr: 0.000911  loss: 0.006880  eta: <1min   tot: 0h14m19s  (98.2%)\rEpoch: 91.0%  lr: 0.000901  loss: 0.006877  eta: <1min   tot: 0h14m19s  (98.2%)\rEpoch: 91.1%  lr: 0.000901  loss: 0.006873  eta: <1min   tot: 0h14m19s  (98.2%)\rEpoch: 91.2%  lr: 0.000901  loss: 0.006876  eta: <1min   tot: 0h14m19s  (98.2%)\rEpoch: 91.3%  lr: 0.000901  loss: 0.006872  eta: <1min   tot: 0h14m19s  (98.3%)\rEpoch: 91.4%  lr: 0.000891  loss: 0.006869  eta: <1min   tot: 0h14m19s  (98.3%)\rEpoch: 91.5%  lr: 0.000871  loss: 0.006868  eta: <1min   tot: 0h14m20s  (98.3%)\rEpoch: 91.6%  lr: 0.000851  loss: 0.006867  eta: <1min   tot: 0h14m20s  (98.3%)\rEpoch: 91.6%  lr: 0.000841  loss: 0.006864  eta: <1min   tot: 0h14m20s  (98.3%)\rEpoch: 91.7%  lr: 0.000831  loss: 0.006865  eta: <1min   tot: 0h14m20s  (98.3%)\rEpoch: 91.8%  lr: 0.000831  loss: 0.006867  eta: <1min   tot: 0h14m20s  (98.4%)\rEpoch: 91.9%  lr: 0.000811  loss: 0.006865  eta: <1min   tot: 0h14m20s  (98.4%)\rEpoch: 92.0%  lr: 0.000801  loss: 0.006865  eta: <1min   tot: 0h14m21s  (98.4%)\rEpoch: 92.1%  lr: 0.000801  loss: 0.006867  eta: <1min   tot: 0h14m21s  (98.4%)\rEpoch: 92.2%  lr: 0.000801  loss: 0.006870  eta: <1min   tot: 0h14m21s  (98.4%)\rEpoch: 92.3%  lr: 0.000801  loss: 0.006867  eta: <1min   tot: 0h14m21s  (98.5%)\rEpoch: 92.4%  lr: 0.000791  loss: 0.006863  eta: <1min   tot: 0h14m21s  (98.5%)\rEpoch: 92.5%  lr: 0.000781  loss: 0.006865  eta: <1min   tot: 0h14m21s  (98.5%)\rEpoch: 92.5%  lr: 0.000781  loss: 0.006873  eta: <1min   tot: 0h14m21s  (98.5%)\rEpoch: 92.6%  lr: 0.000781  loss: 0.006882  eta: <1min   tot: 0h14m22s  (98.5%)\rEpoch: 92.7%  lr: 0.000781  loss: 0.006881  eta: <1min   tot: 0h14m22s  (98.5%)\rEpoch: 92.8%  lr: 0.000771  loss: 0.006886  eta: <1min   tot: 0h14m22s  (98.6%)\rEpoch: 92.9%  lr: 0.000751  loss: 0.006886  eta: <1min   tot: 0h14m22s  (98.6%)\rEpoch: 93.0%  lr: 0.000741  loss: 0.006884  eta: <1min   tot: 0h14m22s  (98.6%)\rEpoch: 93.1%  lr: 0.000731  loss: 0.006884  eta: <1min   tot: 0h14m22s  (98.6%)\rEpoch: 93.2%  lr: 0.000731  loss: 0.006884  eta: <1min   tot: 0h14m23s  (98.6%)\rEpoch: 93.3%  lr: 0.000721  loss: 0.006882  eta: <1min   tot: 0h14m23s  (98.7%)\rEpoch: 93.4%  lr: 0.000721  loss: 0.006887  eta: <1min   tot: 0h14m23s  (98.7%)\rEpoch: 93.4%  lr: 0.000721  loss: 0.006884  eta: <1min   tot: 0h14m23s  (98.7%)\rEpoch: 93.5%  lr: 0.000711  loss: 0.006879  eta: <1min   tot: 0h14m23s  (98.7%)\rEpoch: 93.6%  lr: 0.000701  loss: 0.006882  eta: <1min   tot: 0h14m23s  (98.7%)\rEpoch: 93.7%  lr: 0.000691  loss: 0.006887  eta: <1min   tot: 0h14m23s  (98.7%)\rEpoch: 93.8%  lr: 0.000681  loss: 0.006887  eta: <1min   tot: 0h14m24s  (98.8%)\rEpoch: 93.9%  lr: 0.000671  loss: 0.006891  eta: <1min   tot: 0h14m24s  (98.8%)\rEpoch: 94.0%  lr: 0.000661  loss: 0.006895  eta: <1min   tot: 0h14m24s  (98.8%)\rEpoch: 94.1%  lr: 0.000661  loss: 0.006897  eta: <1min   tot: 0h14m24s  (98.8%)\rEpoch: 94.2%  lr: 0.000651  loss: 0.006895  eta: <1min   tot: 0h14m24s  (98.8%)\rEpoch: 94.3%  lr: 0.000641  loss: 0.006895  eta: <1min   tot: 0h14m24s  (98.9%)\rEpoch: 94.3%  lr: 0.000631  loss: 0.006899  eta: <1min   tot: 0h14m25s  (98.9%)\rEpoch: 94.4%  lr: 0.000621  loss: 0.006901  eta: <1min   tot: 0h14m25s  (98.9%)\rEpoch: 94.5%  lr: 0.000621  loss: 0.006901  eta: <1min   tot: 0h14m25s  (98.9%)\rEpoch: 94.6%  lr: 0.000611  loss: 0.006897  eta: <1min   tot: 0h14m25s  (98.9%)\rEpoch: 94.7%  lr: 0.000611  loss: 0.006901  eta: <1min   tot: 0h14m25s  (98.9%)\rEpoch: 94.8%  lr: 0.000611  loss: 0.006905  eta: <1min   tot: 0h14m25s  (99.0%)\rEpoch: 94.9%  lr: 0.000591  loss: 0.006903  eta: <1min   tot: 0h14m26s  (99.0%)\rEpoch: 95.0%  lr: 0.000571  loss: 0.006904  eta: <1min   tot: 0h14m26s  (99.0%)\rEpoch: 95.1%  lr: 0.000561  loss: 0.006902  eta: <1min   tot: 0h14m26s  (99.0%)\rEpoch: 95.2%  lr: 0.000541  loss: 0.006899  eta: <1min   tot: 0h14m26s  (99.0%)\rEpoch: 95.2%  lr: 0.000521  loss: 0.006895  eta: <1min   tot: 0h14m26s  (99.0%)\rEpoch: 95.3%  lr: 0.000501  loss: 0.006897  eta: <1min   tot: 0h14m26s  (99.1%)\rEpoch: 95.4%  lr: 0.000491  loss: 0.006897  eta: <1min   tot: 0h14m26s  (99.1%)\rEpoch: 95.5%  lr: 0.000491  loss: 0.006898  eta: <1min   tot: 0h14m27s  (99.1%)\rEpoch: 95.6%  lr: 0.000491  loss: 0.006896  eta: <1min   tot: 0h14m27s  (99.1%)\rEpoch: 95.7%  lr: 0.000491  loss: 0.006893  eta: <1min   tot: 0h14m27s  (99.1%)\rEpoch: 95.8%  lr: 0.000481  loss: 0.006892  eta: <1min   tot: 0h14m27s  (99.2%)\rEpoch: 95.9%  lr: 0.000461  loss: 0.006892  eta: <1min   tot: 0h14m27s  (99.2%)\rEpoch: 96.0%  lr: 0.000431  loss: 0.006895  eta: <1min   tot: 0h14m27s  (99.2%)\rEpoch: 96.1%  lr: 0.000421  loss: 0.006896  eta: <1min   tot: 0h14m27s  (99.2%)\rEpoch: 96.1%  lr: 0.000410  loss: 0.006896  eta: <1min   tot: 0h14m28s  (99.2%)\rEpoch: 96.2%  lr: 0.000410  loss: 0.006894  eta: <1min   tot: 0h14m28s  (99.2%)\rEpoch: 96.3%  lr: 0.000390  loss: 0.006891  eta: <1min   tot: 0h14m28s  (99.3%)\rEpoch: 96.4%  lr: 0.000390  loss: 0.006891  eta: <1min   tot: 0h14m28s  (99.3%)\rEpoch: 96.5%  lr: 0.000380  loss: 0.006888  eta: <1min   tot: 0h14m28s  (99.3%)\rEpoch: 96.6%  lr: 0.000360  loss: 0.006885  eta: <1min   tot: 0h14m28s  (99.3%)\rEpoch: 96.7%  lr: 0.000360  loss: 0.006883  eta: <1min   tot: 0h14m29s  (99.3%)\rEpoch: 96.8%  lr: 0.000350  loss: 0.006883  eta: <1min   tot: 0h14m29s  (99.4%)\rEpoch: 96.9%  lr: 0.000340  loss: 0.006884  eta: <1min   tot: 0h14m29s  (99.4%)\rEpoch: 97.0%  lr: 0.000330  loss: 0.006882  eta: <1min   tot: 0h14m29s  (99.4%)\rEpoch: 97.0%  lr: 0.000330  loss: 0.006882  eta: <1min   tot: 0h14m29s  (99.4%)\rEpoch: 97.1%  lr: 0.000300  loss: 0.006889  eta: <1min   tot: 0h14m29s  (99.4%)\rEpoch: 97.2%  lr: 0.000290  loss: 0.006891  eta: <1min   tot: 0h14m29s  (99.4%)\rEpoch: 97.3%  lr: 0.000270  loss: 0.006889  eta: <1min   tot: 0h14m30s  (99.5%)\rEpoch: 97.4%  lr: 0.000270  loss: 0.006885  eta: <1min   tot: 0h14m30s  (99.5%)\rEpoch: 97.5%  lr: 0.000260  loss: 0.006882  eta: <1min   tot: 0h14m30s  (99.5%)\rEpoch: 97.6%  lr: 0.000250  loss: 0.006887  eta: <1min   tot: 0h14m30s  (99.5%)\rEpoch: 97.7%  lr: 0.000230  loss: 0.006883  eta: <1min   tot: 0h14m30s  (99.5%)\rEpoch: 97.8%  lr: 0.000220  loss: 0.006887  eta: <1min   tot: 0h14m30s  (99.6%)\rEpoch: 97.9%  lr: 0.000210  loss: 0.006886  eta: <1min   tot: 0h14m31s  (99.6%)\rEpoch: 97.9%  lr: 0.000200  loss: 0.006893  eta: <1min   tot: 0h14m31s  (99.6%)\rEpoch: 98.0%  lr: 0.000160  loss: 0.006893  eta: <1min   tot: 0h14m31s  (99.6%)\rEpoch: 98.1%  lr: 0.000140  loss: 0.006898  eta: <1min   tot: 0h14m31s  (99.6%)\rEpoch: 98.2%  lr: 0.000130  loss: 0.006899  eta: <1min   tot: 0h14m31s  (99.6%)\rEpoch: 98.3%  lr: 0.000120  loss: 0.006902  eta: <1min   tot: 0h14m31s  (99.7%)\rEpoch: 98.4%  lr: 0.000100  loss: 0.006898  eta: <1min   tot: 0h14m31s  (99.7%)\rEpoch: 98.5%  lr: 0.000100  loss: 0.006895  eta: <1min   tot: 0h14m32s  (99.7%)\rEpoch: 98.6%  lr: 0.000100  loss: 0.006896  eta: <1min   tot: 0h14m32s  (99.7%)\rEpoch: 98.7%  lr: 0.000090  loss: 0.006890  eta: <1min   tot: 0h14m32s  (99.7%)\rEpoch: 98.8%  lr: 0.000070  loss: 0.006885  eta: <1min   tot: 0h14m32s  (99.8%)\rEpoch: 98.8%  lr: 0.000060  loss: 0.006886  eta: <1min   tot: 0h14m32s  (99.8%)\rEpoch: 98.9%  lr: 0.000050  loss: 0.006883  eta: <1min   tot: 0h14m32s  (99.8%)\rEpoch: 99.0%  lr: 0.000050  loss: 0.006884  eta: <1min   tot: 0h14m33s  (99.8%)\rEpoch: 99.1%  lr: 0.000050  loss: 0.006883  eta: <1min   tot: 0h14m33s  (99.8%)\rEpoch: 99.2%  lr: 0.000040  loss: 0.006885  eta: <1min   tot: 0h14m33s  (99.8%)\rEpoch: 99.3%  lr: 0.000030  loss: 0.006883  eta: <1min   tot: 0h14m33s  (99.9%)\rEpoch: 99.4%  lr: 0.000020  loss: 0.006881  eta: <1min   tot: 0h14m33s  (99.9%)\rEpoch: 99.5%  lr: 0.000020  loss: 0.006882  eta: <1min   tot: 0h14m33s  (99.9%)\rEpoch: 99.6%  lr: 0.000000  loss: 0.006882  eta: <1min   tot: 0h14m33s  (99.9%)\rEpoch: 99.7%  lr: 0.000000  loss: 0.006879  eta: <1min   tot: 0h14m34s  (99.9%)\rEpoch: 99.7%  lr: 0.000000  loss: 0.006881  eta: <1min   tot: 0h14m34s  (99.9%)\rEpoch: 99.8%  lr: 0.000000  loss: 0.006877  eta: <1min   tot: 0h14m34s  (100.0%)\rEpoch: 99.9%  lr: 0.000000  loss: 0.006876  eta: <1min   tot: 0h14m34s  (100.0%)\rEpoch: 100.0%  lr: 0.000000  loss: 0.006875  eta: <1min   tot: 0h14m34s  (100.0%)"
          ],
          "name": "stderr"
        }
      ]
    },
    {
      "cell_type": "code",
      "metadata": {
        "id": "4566OEcKav2_",
        "colab_type": "code",
        "outputId": "adde752e-881f-4fee-fc2d-16a4f2f21463",
        "colab": {
          "base_uri": "https://localhost:8080/",
          "height": 34
        }
      },
      "source": [
        "with open('SS_starspace.tsv', 'r') as inp:\n",
        "      rr=inp.readlines()\n",
        "      print(len(rr))\n",
        "      #for r in rr:\n",
        "      #    rc.append(r)"
      ],
      "execution_count": 0,
      "outputs": [
        {
          "output_type": "stream",
          "text": [
            "95058\n"
          ],
          "name": "stdout"
        }
      ]
    },
    {
      "cell_type": "code",
      "metadata": {
        "id": "40V8R4IDlS9l",
        "colab_type": "code",
        "outputId": "ed4b1933-db85-4b28-f9d8-4400a863e240",
        "colab": {
          "base_uri": "https://localhost:8080/",
          "height": 54
        }
      },
      "source": [
        "rr[0]"
      ],
      "execution_count": 0,
      "outputs": [
        {
          "output_type": "execute_result",
          "data": {
            "text/plain": [
              "'using\\t-0.00550674\\t-0.011735\\t0.0124945\\t-0.0315831\\t-0.0207347\\t0.013345\\t-0.014818\\t0.00943483\\t-0.00344133\\t-0.00603609\\t0.0172014\\t-0.0100218\\t-0.0113218\\t0.00176178\\t-0.0348095\\t-0.0182034\\t-0.00705686\\t0.0103093\\t-0.00581927\\t-0.00850546\\t-0.00121687\\t0.0207219\\t-0.0280705\\t-0.00226042\\t0.0158566\\t0.00907423\\t0.000155184\\t-0.0115684\\t-0.00213675\\t0.00445789\\t-0.0214304\\t0.00396554\\t-0.0116151\\t0.00657456\\t0.00515783\\t0.00167384\\t0.00488768\\t0.0106659\\t-0.00710441\\t0.0113242\\t0.014578\\t-0.017616\\t-0.0152341\\t-0.0127701\\t0.00990593\\t0.00858454\\t-0.0244915\\t-0.00195238\\t-0.0117046\\t-0.00321445\\t-0.0117498\\t-0.00506716\\t-0.00321651\\t0.0108285\\t-0.00495433\\t0.00159154\\t0.0209598\\t0.00467102\\t-0.0170697\\t-0.00955894\\t0.0269685\\t-0.00633663\\t0.0011266\\t0.0187078\\t-0.00826922\\t-0.000799666\\t-0.0079367\\t-0.00246986\\t-0.038708\\t0.0186652\\t-0.00440617\\t-0.0110713\\t0.00140198\\t0.0235617\\t0.00383693\\t0.00943703\\t-0.000683021\\t-0.0102146\\t-0.00795953\\t-0.00143214\\t-0.00758512\\t0.00159743\\t-0.00883999\\t-0.0148988\\t0.0223574\\t0.00873478\\t0.00894138\\t0.00800786\\t-0.00486056\\t0.00524862\\t-0.0149247\\t0.00425306\\t0.00693369\\t0.0129319\\t0.0148815\\t-0.00159466\\t0.0256691\\t-0.0238928\\t-0.0147653\\t-0.00629751\\n'"
            ]
          },
          "metadata": {
            "tags": []
          },
          "execution_count": 65
        }
      ]
    },
    {
      "cell_type": "code",
      "metadata": {
        "id": "lOAJ4Jg8bhrm",
        "colab_type": "code",
        "colab": {}
      },
      "source": [
        "import csv\n",
        "with open('SS_starspace.tsv', 'r') as inp:\n",
        "    readers=inp.readlines()\n",
        "    line_count =str(len(readers)-1) # line count of the tsv file (as string)\n",
        "    dimensions = str(len(readers[0].strip().split())-1)    # vector size (as string)\n",
        "\n",
        "with open('word2vec-format.txt', 'w') as outp:\n",
        "    outp.write(' '.join([line_count, dimensions]) + '\\n')\n",
        "    for line in readers:\n",
        "        words = line.rstrip().split()\n",
        "        outp.write(' '.join(words) + '\\n')\n",
        "#./embed_doc SS_starspace data/validation.tsv > validation_vectors.txt"
      ],
      "execution_count": 0,
      "outputs": []
    },
    {
      "cell_type": "code",
      "metadata": {
        "id": "UFlKv5-vpv32",
        "colab_type": "code",
        "outputId": "d480518f-42ae-4064-dd5b-b047f04986f1",
        "colab": {
          "base_uri": "https://localhost:8080/",
          "height": 34
        }
      },
      "source": [
        "' '.join([line_count, dimensions])"
      ],
      "execution_count": 0,
      "outputs": [
        {
          "output_type": "execute_result",
          "data": {
            "text/plain": [
              "'95057 100'"
            ]
          },
          "metadata": {
            "tags": []
          },
          "execution_count": 144
        }
      ]
    },
    {
      "cell_type": "code",
      "metadata": {
        "id": "IvhWgiG0nvUq",
        "colab_type": "code",
        "outputId": "39a4c7cb-379a-4f23-81c1-b0961a0d14b6",
        "colab": {
          "base_uri": "https://localhost:8080/",
          "height": 105
        }
      },
      "source": [
        "#!head -n 3 word2vec-format.txt\n",
        "!sed -n 13942,13945p word2vec-format.txt\n",
        "!sed -i '13945d' word2vec-format.txt"
      ],
      "execution_count": 0,
      "outputs": [
        {
          "output_type": "stream",
          "text": [
            "lazyload -0.120355 0.0268875 0.0796775 0.0677042 0.0674009 -0.16639 -0.0449856 -0.0788807 0.164379 -0.0150857 -0.166103 -0.0053248 -0.0271307 -0.0255956 -0.0931046 0.00274205 -0.0630086 -0.0537985 -0.109009 0.0674007 0.110037 0.0749959 0.182014 -0.0916675 0.0758359 0.1156 0.0675348 0.0473053 0.0372868 -0.16913 -0.0333904 -0.0839826 -0.0238554 -0.0314332 -0.0940251 -0.123913 0.132744 -0.188771 -0.112876 0.0691643 -0.140047 -0.0573827 -0.00433836 0.0866227 -0.053621 -0.0715362 0.0320778 0.0359568 -0.0190216 0.0925055 0.0157606 0.021248 0.0610281 0.0307096 -0.0778024 -0.0115577 0.0675801 0.0373234 0.123228 0.0334525 0.0778498 0.226253 0.103421 -0.135779 0.0537557 0.00301105 -0.108103 0.140716 -0.050127 -0.0245912 0.0448332 0.136083 -0.0225385 -0.0367583 0.0463978 0.0862774 0.036113 -0.102075 -0.1001 -0.199566 0.0754876 0.156525 0.0557287 -0.0583239 -0.00925085 -0.19673 0.0932257 -0.207918 0.00695414 0.148269 -0.0872186 0.244187 0.000178449 -0.127324 0.0425823 -0.138491 -0.136023 -0.0503928 0.0392576 0.0861046\n",
            "atos -0.0349785 -0.00437645 0.0289617 -0.0185122 -0.00531388 0.0115467 -0.0136412 0.0587374 0.136989 -0.196366 0.185604 -0.0958218 -0.0351366 -0.0238192 -0.10729 0.0363586 -0.0994825 -0.0269531 0.00612594 0.00863605 -0.0497313 -0.0499315 -0.00227919 -0.0582017 -0.133079 0.0452497 -0.0812546 -0.0304698 -0.176854 0.0518877 0.152159 0.127937 0.00415829 -0.101604 -0.0179376 0.154454 0.0101633 -0.0522831 0.139632 0.0494026 0.0571566 0.20601 -0.00403974 0.0897697 -0.0840224 -0.0750651 0.168535 -0.0938689 -0.0768995 0.0722365 0.0346559 0.0117285 0.0696835 0.199955 0.00480148 0.0411728 -0.021924 0.0709532 -0.0788559 0.05399 -0.154353 0.0433144 -0.0500593 0.101244 -0.0445255 0.0944717 0.0416174 -0.123767 -0.0591351 0.047722 0.0125991 -0.0969331 0.00328256 0.0716505 -0.0206092 0.0172071 -0.0809373 0.0830987 0.0140632 0.0170993 0.105454 -0.0106464 -0.0427649 0.0180115 0.038132 0.000334613 -0.133308 0.0422807 0.102821 -0.0790794 0.0401677 -0.204382 -0.144381 0.0383316 0.00851421 -0.0734762 0.0576079 0.136559 -0.0859154 0.0550922\n",
            "netmask -0.12552 -0.0334059 0.0234022 -0.0432675 -0.091719 -0.0244107 0.00100847 0.0317914 -0.0713855 0.0502653 -0.0293835 0.00718332 -0.0760983 -0.071581 0.0440023 -0.127491 0.0603038 -0.0377871 0.0289906 -0.132672 0.113422 -0.0172029 0.112806 -0.00317229 -0.129893 -0.00427641 -0.129517 -0.0528592 0.144869 -0.0781406 0.0252481 -0.0908764 0.0340097 0.0353605 0.0187007 -0.0703523 -0.0105766 0.0779753 0.00563726 -0.064498 0.0397963 0.0534409 -0.0543057 -0.0767812 0.121229 -0.115407 -0.0111628 0.0479536 0.044805 0.0555665 0.010308 -0.0169062 -0.00669152 0.0323214 0.020911 -0.0550228 -0.0640854 -0.106621 0.0499314 -0.0361122 0.0774565 -0.14945 0.00991448 0.00371957 0.0335921 -0.0894595 0.0568396 -0.00539869 0.0520644 0.0432603 0.0532446 -0.0077234 -0.0450368 -0.0904191 -0.11797 -0.0930677 -0.0540574 -0.014063 0.0270667 -0.0189304 -0.0222589 0.142121 -0.0640814 -0.0473401 0.0347887 -0.0982799 -0.0654781 0.103727 0.0124976 0.0624917 -0.0467926 -0.0416414 -0.0458648 -0.042962 -0.017521 0.0638897 0.125849 0.00540688 -0.0913168 0.0504128\n",
            "0.0490492 -0.14239 -0.256666 -0.076005 0.0492673 0.0403941 0.0178889 0.113114 -0.0434836 -0.0036927 -0.0457603 0.0192742 -0.0389049 -0.133133 -0.0312504 0.123465 0.0415807 -0.127949 -0.016209 -0.0668465 -0.197405 0.0224743 -0.0410014 0.0736396 0.0792736 0.090747 -0.0215887 -0.0540036 -0.10138 -0.00541042 -0.0411819 0.0118938 0.0606575 0.133167 0.0656671 -0.122766 0.152236 -0.00995888 -0.103911 0.11463 -0.100283 0.0514515 -0.147188 0.0757439 -0.0486681 -0.00248393 -0.0602014 -0.16455 0.0250959 -0.0234823 0.128621 -0.0537277 -0.14965 0.0334368 -0.0128708 -0.0261013 -0.00737579 0.179894 -0.0539617 0.0707629 0.156852 -0.0286135 0.00629005 -0.018049 0.0515934 -0.165754 -0.0424195 0.179243 0.0559818 -0.156278 -0.0807282 -0.114878 0.0179124 0.0758088 -0.125331 0.0881477 -0.150886 -0.0366387 -0.0130295 0.134212 0.0594261 -0.0991256 0.0338179 0.0171903 0.0034333 0.0111665 0.0296928 -0.225323 -0.0732429 0.143408 -0.163281 0.140063 -0.00195365 0.222662 0.0721462 0.240745 0.0533186 0.0629574 0.147038 -0.0224713\n"
          ],
          "name": "stdout"
        }
      ]
    },
    {
      "cell_type": "code",
      "metadata": {
        "id": "vy1P5H-pmdhO",
        "colab_type": "code",
        "colab": {}
      },
      "source": [
        "from gensim.models import KeyedVectors\n",
        "starspace_embeddings =KeyedVectors.load_word2vec_format('word2vec-format.txt', binary=False)\n"
      ],
      "execution_count": 0,
      "outputs": []
    },
    {
      "cell_type": "code",
      "metadata": {
        "id": "Qyy5FHi2rKtv",
        "colab_type": "code",
        "outputId": "06c15c3a-0645-4002-c6b6-a7612d475053",
        "colab": {
          "base_uri": "https://localhost:8080/",
          "height": 34
        }
      },
      "source": [
        "'atos' in starspace_embeddings\n",
        "len(prepared_validation)"
      ],
      "execution_count": 0,
      "outputs": [
        {
          "output_type": "execute_result",
          "data": {
            "text/plain": [
              "10000"
            ]
          },
          "metadata": {
            "tags": []
          },
          "execution_count": 150
        }
      ]
    },
    {
      "cell_type": "code",
      "metadata": {
        "id": "zveme-PnEfIL",
        "colab_type": "code",
        "outputId": "e450841f-046c-4406-bc29-9f70082d2106",
        "colab": {
          "base_uri": "https://localhost:8080/",
          "height": 68
        }
      },
      "source": [
        "'''\n",
        "q,*ex=prepared_validation[1]\n",
        "print(q)\n",
        "print(ex[778])\n",
        "print(starspace_embeddings['start'].shape)\n",
        "question_to_vec('lvm_getitemposition',starspace_embeddings,dim=100).shape\n",
        "ranks = rank_candidates(q, ex[:778], starspace_embeddings, 100)\n",
        "'''"
      ],
      "execution_count": 0,
      "outputs": [
        {
          "output_type": "stream",
          "text": [
            "start phonestatelistener programmatically\n",
            "lvm_getitemposition\n",
            "(100,)\n"
          ],
          "name": "stdout"
        }
      ]
    },
    {
      "cell_type": "code",
      "metadata": {
        "id": "_ri8FmSqFoBX",
        "colab_type": "code",
        "outputId": "3e745155-97a8-47b2-e515-4dd14aa83354",
        "colab": {
          "base_uri": "https://localhost:8080/",
          "height": 68
        }
      },
      "source": [
        "ranks[:3]"
      ],
      "execution_count": 0,
      "outputs": [
        {
          "output_type": "execute_result",
          "data": {
            "text/plain": [
              "[(0, 'phonestatelistener service'),\n",
              " (231, 'test app launches another app android'),\n",
              " (588, 'issue setting android sdk failed start emulator')]"
            ]
          },
          "metadata": {
            "tags": []
          },
          "execution_count": 169
        }
      ]
    },
    {
      "cell_type": "code",
      "metadata": {
        "id": "psGa6fv-jSUw",
        "colab_type": "code",
        "colab": {}
      },
      "source": [
        "#./embed_doc SS_starspace data/validation.tsv > validation.txt\n",
        "#starspace_embeddings = ######### YOUR CODE HERE #############\n",
        "ss_prepared_ranking = []\n",
        "for i,line in enumerate(prepared_validation):\n",
        "    q, *ex = line\n",
        "    try:\n",
        "        ranks = rank_candidates(q, ex, starspace_embeddings, 100)\n",
        "    except ValueError:\n",
        "        print(i)\n",
        "        break\n",
        "    ss_prepared_ranking.append([r[0] for r in ranks].index(0) + 1)"
      ],
      "execution_count": 0,
      "outputs": []
    },
    {
      "cell_type": "code",
      "metadata": {
        "id": "9hq2TnJAjSUy",
        "colab_type": "code",
        "outputId": "8293605d-d7da-46f0-a4b5-e56b84d50944",
        "colab": {
          "base_uri": "https://localhost:8080/",
          "height": 119
        }
      },
      "source": [
        "for k in [1, 5, 10, 100, 500, 1000]:\n",
        "    print(\"DCG@%4d: %.3f | Hits@%4d: %.3f\" % (k, dcg_score(ss_prepared_ranking, k), \n",
        "                                               k, hits_count(ss_prepared_ranking, k)))"
      ],
      "execution_count": 0,
      "outputs": [
        {
          "output_type": "stream",
          "text": [
            "DCG@   1: 0.518 | Hits@   1: 0.518\n",
            "DCG@   5: 0.614 | Hits@   5: 0.695\n",
            "DCG@  10: 0.633 | Hits@  10: 0.753\n",
            "DCG@ 100: 0.664 | Hits@ 100: 0.904\n",
            "DCG@ 500: 0.674 | Hits@ 500: 0.981\n",
            "DCG@1000: 0.676 | Hits@1000: 1.000\n"
          ],
          "name": "stdout"
        }
      ]
    },
    {
      "cell_type": "markdown",
      "metadata": {
        "id": "cr_lFZF5jSU2",
        "colab_type": "text"
      },
      "source": [
        "Due to training for the particular task with the supervised data, you should expect to obtain a higher quality than for the previous approach. In additiion, despite the fact that StarSpace's trained vectors have a smaller dimension than word2vec's, it provides better results in this task."
      ]
    },
    {
      "cell_type": "markdown",
      "metadata": {
        "id": "_ck1Ya_FjSU3",
        "colab_type": "text"
      },
      "source": [
        "**Task 5 (StarSpaceRanks).** For each question from prepared *test.tsv* submit the ranks of the candidates for trained representation."
      ]
    },
    {
      "cell_type": "code",
      "metadata": {
        "id": "ZWcujInCjSU4",
        "colab_type": "code",
        "outputId": "bd84413f-94bf-4075-bd56-1c69b819710e",
        "colab": {
          "base_uri": "https://localhost:8080/",
          "height": 54
        }
      },
      "source": [
        "starspace_ranks_results = []\n",
        "prepared_test_data ='data/test_prepared.tsv' ######### YOUR CODE HERE #############\n",
        "for line in open(prepared_test_data):\n",
        "    q, *ex = line.strip().split('\\t')\n",
        "    ranks = rank_candidates(q, ex, starspace_embeddings, 100)\n",
        "    ranked_candidates = [r[0] for r in ranks]\n",
        "    starspace_ranks_results.append([ranked_candidates.index(i) + 1 for i in range(len(ranked_candidates))])\n",
        "    \n",
        "grader.submit_tag('StarSpaceRanks', matrix_to_string(starspace_ranks_results))"
      ],
      "execution_count": 0,
      "outputs": [
        {
          "output_type": "stream",
          "text": [
            "Current answer for task StarSpaceRanks is: 78\t45\t57\t42\t33\t85\t80\t83\t73\t65\t14\t74\t7\t17\t99\t92\t26\t25\t20\t49\t50\t24\t4\t75\t81\t16\t79\t66\t69\t18\t61\t53\t82\t70\t...\n"
          ],
          "name": "stdout"
        }
      ]
    },
    {
      "cell_type": "markdown",
      "metadata": {
        "id": "tX2MpG-hjSU7",
        "colab_type": "text"
      },
      "source": [
        "Please, **don't remove** the file with these embeddings because you will need them in the final project."
      ]
    },
    {
      "cell_type": "markdown",
      "metadata": {
        "id": "MmXuTEiwjSU9",
        "colab_type": "text"
      },
      "source": [
        "### Authorization & Submission\n",
        "To submit assignment parts to Cousera platform, please, enter your e-mail and token into variables below. You can generate token on this programming assignment page. <b>Note:</b> Token expires 30 minutes after generation."
      ]
    },
    {
      "cell_type": "code",
      "metadata": {
        "id": "LXvaX8DYjSU-",
        "colab_type": "code",
        "outputId": "a9a85dac-db5c-4269-92aa-a44eaeca1df0",
        "colab": {
          "base_uri": "https://localhost:8080/",
          "height": 632
        }
      },
      "source": [
        "STUDENT_EMAIL = \"zhoun@i2r.a-star.edu.sg\" # EMAIL \n",
        "STUDENT_TOKEN = \"HwWtmPw8xKUKPyrz\" # TOKEN \n",
        "grader.status()"
      ],
      "execution_count": 0,
      "outputs": [
        {
          "output_type": "stream",
          "text": [
            "You want to submit these parts:\n",
            "Task Question2Vec: 0.01929389126598835\n",
            "-0.02872721292078495\n",
            "0.0460561104118824\n",
            "0.0852593332529068\n",
            "0.0243055559694767\n",
            "-0...\n",
            "Task HitsCount: 1.0\n",
            "0.5\n",
            "1.0\n",
            "0.5\n",
            "1.0\n",
            "0.3333333333333333\n",
            "0.6666666666666666\n",
            "1.0\n",
            "0.1\n",
            "0.2\n",
            "0.3\n",
            "0.4\n",
            "0.5\n",
            "0.6\n",
            "0.7\n",
            "0.8\n",
            "0.9\n",
            "1....\n",
            "Task DCGScore: 1.0\n",
            "0.5\n",
            "0.8154648767857288\n",
            "0.5\n",
            "0.8154648767857288\n",
            "0.3333333333333333\n",
            "0.5436432511904858\n",
            "0.7103099178...\n",
            "Task W2VTokenizedRanks: 95\t94\t7\t9\t64\t37\t32\t93\t24\t100\t98\t17\t60\t6\t97\t49\t70\t38\t42\t96\t30\t21\t2\t65\t67\t45\t27\t26\t57\t62\t11\t88\t56\t66\t7...\n",
            "Task StarSpaceRanks: 78\t45\t57\t42\t33\t85\t80\t83\t73\t65\t14\t74\t7\t17\t99\t92\t26\t25\t20\t49\t50\t24\t4\t75\t81\t16\t79\t66\t69\t18\t61\t53\t82\t70\t...\n"
          ],
          "name": "stdout"
        }
      ]
    },
    {
      "cell_type": "markdown",
      "metadata": {
        "id": "wF4lz9UjjSU_",
        "colab_type": "text"
      },
      "source": [
        "If you want to submit these answers, run cell below"
      ]
    },
    {
      "cell_type": "code",
      "metadata": {
        "id": "Bb0j2Gl3jSU_",
        "colab_type": "code",
        "outputId": "ef788e0b-d026-47fe-baaa-461321283994",
        "colab": {
          "base_uri": "https://localhost:8080/",
          "height": 34
        }
      },
      "source": [
        "grader.submit(STUDENT_EMAIL, STUDENT_TOKEN)"
      ],
      "execution_count": 0,
      "outputs": [
        {
          "output_type": "stream",
          "text": [
            "Submitted to Coursera platform. See results on assignment page!\n"
          ],
          "name": "stdout"
        }
      ]
    }
  ]
}